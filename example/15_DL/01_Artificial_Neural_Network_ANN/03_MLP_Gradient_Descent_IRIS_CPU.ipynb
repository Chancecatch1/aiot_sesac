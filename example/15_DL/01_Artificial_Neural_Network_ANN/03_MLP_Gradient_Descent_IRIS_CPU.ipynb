{
 "cells": [
  {
   "cell_type": "markdown",
   "metadata": {
    "id": "EYKV8qLZDY3d"
   },
   "source": [
    "# MLP Gradient Descent\n",
    "* Without Error Backpropagation"
   ]
  },
  {
   "cell_type": "code",
   "execution_count": 3,
   "metadata": {
    "executionInfo": {
     "elapsed": 9,
     "status": "ok",
     "timestamp": 1673400119932,
     "user": {
      "displayName": "이정구",
      "userId": "17400242557229223804"
     },
     "user_tz": -540
    },
    "id": "RbPgODpVzdHI"
   },
   "outputs": [],
   "source": [
    "import warnings\n",
    "warnings.filterwarnings('ignore')"
   ]
  },
  {
   "cell_type": "markdown",
   "metadata": {
    "id": "6aLTiwMEU6dN"
   },
   "source": [
    "# I. 수치미분(Numerical Derivative)"
   ]
  },
  {
   "cell_type": "markdown",
   "metadata": {
    "id": "3UugARcKaldr"
   },
   "source": [
    "> ## 1) Import numpy"
   ]
  },
  {
   "cell_type": "code",
   "execution_count": 4,
   "metadata": {
    "executionInfo": {
     "elapsed": 9,
     "status": "ok",
     "timestamp": 1673400119933,
     "user": {
      "displayName": "이정구",
      "userId": "17400242557229223804"
     },
     "user_tz": -540
    },
    "id": "O0NUWP2IRnZj"
   },
   "outputs": [],
   "source": [
    "import numpy as np "
   ]
  },
  {
   "cell_type": "markdown",
   "metadata": {
    "id": "RWi7oYzwavvl"
   },
   "source": [
    "> ## 2) gradient( ) 함수 정의\n",
    "\n",
    "* 다변수 함수의 수치미분"
   ]
  },
  {
   "cell_type": "code",
   "execution_count": 5,
   "metadata": {
    "executionInfo": {
     "elapsed": 9,
     "status": "ok",
     "timestamp": 1673400119934,
     "user": {
      "displayName": "이정구",
      "userId": "17400242557229223804"
     },
     "user_tz": -540
    },
    "id": "5Y19zci4Rsca"
   },
   "outputs": [],
   "source": [
    "def gradient(machine, param):\n",
    "\n",
    "    if param.ndim == 1:\n",
    "        temp_param = param\n",
    "        delta = 0.00005\n",
    "        learned_param = np.zeros(param.shape)\n",
    "        \n",
    "        for index in range(len(param)):\n",
    "            target_param = float(temp_param[index])\n",
    "            temp_param[index] = target_param + delta            \n",
    "            param_plus_delta = machine(temp_param)\n",
    "            temp_param[index] = target_param - delta  \n",
    "            param_minus_delta = machine(temp_param)\n",
    "            learned_param[index] = (param_plus_delta - param_minus_delta ) / (2 * delta)\n",
    "            temp_param[index] = target_param\n",
    "\n",
    "        return learned_param\n",
    "        \n",
    "\n",
    "    elif param.ndim == 2:\n",
    "        temp_param = param\n",
    "        delta = 0.00005\n",
    "        learned_param = np.zeros(param.shape)\n",
    "    \n",
    "        rows = param.shape[0]\n",
    "        columns = param.shape[1]\n",
    "    \n",
    "        for row in range(rows):\n",
    "            for column in range(columns):\n",
    "                target_param = float(temp_param[row, column])\n",
    "                temp_param[row, column] = target_param + delta            \n",
    "                param_plus_delta = machine(temp_param)\n",
    "                temp_param[row, column] = target_param - delta            \n",
    "                param_minus_delta = machine(temp_param)\n",
    "                learned_param[row, column] = (param_plus_delta - param_minus_delta) / (2 * delta)\n",
    "                temp_param[row, column] = target_param\n",
    "\n",
    "        return learned_param"
   ]
  },
  {
   "cell_type": "markdown",
   "metadata": {
    "id": "OtULslfuDmhR"
   },
   "source": [
    "> ## 3) Activation - sigmoid( )"
   ]
  },
  {
   "cell_type": "code",
   "execution_count": 6,
   "metadata": {
    "executionInfo": {
     "elapsed": 9,
     "status": "ok",
     "timestamp": 1673400119934,
     "user": {
      "displayName": "이정구",
      "userId": "17400242557229223804"
     },
     "user_tz": -540
    },
    "id": "35ASvhklDmhS"
   },
   "outputs": [],
   "source": [
    "def sigmoid(x):\n",
    "    y_hat = 1 / (1 + np.exp(-x))\n",
    "    return y_hat"
   ]
  },
  {
   "cell_type": "markdown",
   "metadata": {
    "id": "g1JIo8LEkhwQ"
   },
   "source": [
    "# II. Data Preprocessing"
   ]
  },
  {
   "cell_type": "markdown",
   "metadata": {
    "id": "5BK8PArfJkue"
   },
   "source": [
    "## 1)실습용 데이터 설정\n",
    "* iris.csv"
   ]
  },
  {
   "cell_type": "code",
   "execution_count": 7,
   "metadata": {
    "executionInfo": {
     "elapsed": 1935,
     "status": "ok",
     "timestamp": 1673400121861,
     "user": {
      "displayName": "이정구",
      "userId": "17400242557229223804"
     },
     "user_tz": -540
    },
    "id": "T3W6ejGp5f3k"
   },
   "outputs": [],
   "source": [
    "import seaborn as sns\n",
    "\n",
    "DF = sns.load_dataset('iris')"
   ]
  },
  {
   "cell_type": "markdown",
   "metadata": {
    "id": "D48eXxVeDRa8"
   },
   "source": [
    "* pandas DataFrame"
   ]
  },
  {
   "cell_type": "code",
   "execution_count": 8,
   "metadata": {
    "colab": {
     "base_uri": "https://localhost:8080/"
    },
    "executionInfo": {
     "elapsed": 32,
     "status": "ok",
     "timestamp": 1673400121865,
     "user": {
      "displayName": "이정구",
      "userId": "17400242557229223804"
     },
     "user_tz": -540
    },
    "id": "gZKjqRpw6Kla",
    "outputId": "123ee661-d8fb-4db7-a478-71c5aa4e88f2"
   },
   "outputs": [
    {
     "name": "stdout",
     "output_type": "stream",
     "text": [
      "<class 'pandas.core.frame.DataFrame'>\n",
      "RangeIndex: 150 entries, 0 to 149\n",
      "Data columns (total 5 columns):\n",
      " #   Column        Non-Null Count  Dtype  \n",
      "---  ------        --------------  -----  \n",
      " 0   sepal_length  150 non-null    float64\n",
      " 1   sepal_width   150 non-null    float64\n",
      " 2   petal_length  150 non-null    float64\n",
      " 3   petal_width   150 non-null    float64\n",
      " 4   species       150 non-null    object \n",
      "dtypes: float64(4), object(1)\n",
      "memory usage: 6.0+ KB\n"
     ]
    }
   ],
   "source": [
    "DF.info()"
   ]
  },
  {
   "cell_type": "code",
   "execution_count": 9,
   "metadata": {
    "colab": {
     "base_uri": "https://localhost:8080/",
     "height": 143
    },
    "executionInfo": {
     "elapsed": 530,
     "status": "ok",
     "timestamp": 1673400122377,
     "user": {
      "displayName": "이정구",
      "userId": "17400242557229223804"
     },
     "user_tz": -540
    },
    "id": "9g45ryptRz4F",
    "outputId": "e8beee9e-5917-4a43-ae24-c51f541cd06e"
   },
   "outputs": [
    {
     "data": {
      "text/html": [
       "<div>\n",
       "<style scoped>\n",
       "    .dataframe tbody tr th:only-of-type {\n",
       "        vertical-align: middle;\n",
       "    }\n",
       "\n",
       "    .dataframe tbody tr th {\n",
       "        vertical-align: top;\n",
       "    }\n",
       "\n",
       "    .dataframe thead th {\n",
       "        text-align: right;\n",
       "    }\n",
       "</style>\n",
       "<table border=\"1\" class=\"dataframe\">\n",
       "  <thead>\n",
       "    <tr style=\"text-align: right;\">\n",
       "      <th></th>\n",
       "      <th>sepal_length</th>\n",
       "      <th>sepal_width</th>\n",
       "      <th>petal_length</th>\n",
       "      <th>petal_width</th>\n",
       "      <th>species</th>\n",
       "    </tr>\n",
       "  </thead>\n",
       "  <tbody>\n",
       "    <tr>\n",
       "      <th>0</th>\n",
       "      <td>5.1</td>\n",
       "      <td>3.5</td>\n",
       "      <td>1.4</td>\n",
       "      <td>0.2</td>\n",
       "      <td>setosa</td>\n",
       "    </tr>\n",
       "    <tr>\n",
       "      <th>1</th>\n",
       "      <td>4.9</td>\n",
       "      <td>3.0</td>\n",
       "      <td>1.4</td>\n",
       "      <td>0.2</td>\n",
       "      <td>setosa</td>\n",
       "    </tr>\n",
       "    <tr>\n",
       "      <th>2</th>\n",
       "      <td>4.7</td>\n",
       "      <td>3.2</td>\n",
       "      <td>1.3</td>\n",
       "      <td>0.2</td>\n",
       "      <td>setosa</td>\n",
       "    </tr>\n",
       "  </tbody>\n",
       "</table>\n",
       "</div>"
      ],
      "text/plain": [
       "   sepal_length  sepal_width  petal_length  petal_width species\n",
       "0           5.1          3.5           1.4          0.2  setosa\n",
       "1           4.9          3.0           1.4          0.2  setosa\n",
       "2           4.7          3.2           1.3          0.2  setosa"
      ]
     },
     "execution_count": 9,
     "metadata": {},
     "output_type": "execute_result"
    }
   ],
   "source": [
    "DF.head(3)"
   ]
  },
  {
   "cell_type": "markdown",
   "metadata": {
    "id": "iNkIhJwzrRqh"
   },
   "source": [
    "> ## 2) Data Set Slicing\n",
    "\n",
    "* X = ['petal_length', 'petal_width']"
   ]
  },
  {
   "cell_type": "code",
   "execution_count": 10,
   "metadata": {
    "executionInfo": {
     "elapsed": 53,
     "status": "ok",
     "timestamp": 1673400122378,
     "user": {
      "displayName": "이정구",
      "userId": "17400242557229223804"
     },
     "user_tz": -540
    },
    "id": "f_Coqhp461Qx"
   },
   "outputs": [],
   "source": [
    "X = DF.iloc[:100, 2:4]\n",
    "\n",
    "y = DF.iloc[:100, 4]"
   ]
  },
  {
   "cell_type": "markdown",
   "metadata": {
    "id": "fCYnG5g0YsZS"
   },
   "source": [
    "* DataFrame to Array"
   ]
  },
  {
   "cell_type": "code",
   "execution_count": 11,
   "metadata": {
    "executionInfo": {
     "elapsed": 51,
     "status": "ok",
     "timestamp": 1673400122379,
     "user": {
      "displayName": "이정구",
      "userId": "17400242557229223804"
     },
     "user_tz": -540
    },
    "id": "9gX0P9vaV4cX"
   },
   "outputs": [],
   "source": [
    "X_input = X.values\n",
    "y_output = y.values"
   ]
  },
  {
   "cell_type": "markdown",
   "metadata": {
    "id": "lUx516tc8E6Q"
   },
   "source": [
    "> ## 3) Integer Encoding"
   ]
  },
  {
   "cell_type": "markdown",
   "metadata": {
    "id": "9lm5fWHmIgOd"
   },
   "source": [
    "* LabelEncoder( )\n",
    " - ['setosa', 'virginica'] to [0, 1]"
   ]
  },
  {
   "cell_type": "code",
   "execution_count": 12,
   "metadata": {
    "colab": {
     "base_uri": "https://localhost:8080/"
    },
    "executionInfo": {
     "elapsed": 50,
     "status": "ok",
     "timestamp": 1673400122380,
     "user": {
      "displayName": "이정구",
      "userId": "17400242557229223804"
     },
     "user_tz": -540
    },
    "id": "iFhNzeIMbXyV",
    "outputId": "e51a5a0b-ee04-47f8-c11b-4ff66a3e18df"
   },
   "outputs": [
    {
     "data": {
      "text/plain": [
       "array([0, 0, 0, 0, 0, 0, 0, 0, 0, 0, 0, 0, 0, 0, 0, 0, 0, 0, 0, 0, 0, 0,\n",
       "       0, 0, 0, 0, 0, 0, 0, 0, 0, 0, 0, 0, 0, 0, 0, 0, 0, 0, 0, 0, 0, 0,\n",
       "       0, 0, 0, 0, 0, 0, 1, 1, 1, 1, 1, 1, 1, 1, 1, 1, 1, 1, 1, 1, 1, 1,\n",
       "       1, 1, 1, 1, 1, 1, 1, 1, 1, 1, 1, 1, 1, 1, 1, 1, 1, 1, 1, 1, 1, 1,\n",
       "       1, 1, 1, 1, 1, 1, 1, 1, 1, 1, 1, 1])"
      ]
     },
     "execution_count": 12,
     "metadata": {},
     "output_type": "execute_result"
    }
   ],
   "source": [
    "from sklearn.preprocessing import LabelEncoder\n",
    "\n",
    "encoder =  LabelEncoder()\n",
    "y_output = encoder.fit_transform(y_output)\n",
    "\n",
    "y_output"
   ]
  },
  {
   "cell_type": "markdown",
   "metadata": {
    "id": "oc2yNnVTaLL7"
   },
   "source": [
    "* Array Shape"
   ]
  },
  {
   "cell_type": "code",
   "execution_count": 13,
   "metadata": {
    "colab": {
     "base_uri": "https://localhost:8080/"
    },
    "executionInfo": {
     "elapsed": 31,
     "status": "ok",
     "timestamp": 1673400122381,
     "user": {
      "displayName": "이정구",
      "userId": "17400242557229223804"
     },
     "user_tz": -540
    },
    "id": "UzQZeVaiT9Rp",
    "outputId": "97aceb39-7198-4ea8-d8d4-de2124e6a4f9"
   },
   "outputs": [
    {
     "data": {
      "text/plain": [
       "((100, 2), (100,))"
      ]
     },
     "execution_count": 13,
     "metadata": {},
     "output_type": "execute_result"
    }
   ],
   "source": [
    "X_input.shape, y_output.shape"
   ]
  },
  {
   "cell_type": "markdown",
   "metadata": {
    "id": "039C7ghPFMwg"
   },
   "source": [
    "# III. Model Training(Learning)"
   ]
  },
  {
   "cell_type": "markdown",
   "metadata": {
    "id": "n37LJE28FcAm"
   },
   "source": [
    "> ## 1) MLP_Classifier Class"
   ]
  },
  {
   "cell_type": "code",
   "execution_count": 14,
   "metadata": {
    "executionInfo": {
     "elapsed": 26,
     "status": "ok",
     "timestamp": 1673400122383,
     "user": {
      "displayName": "이정구",
      "userId": "17400242557229223804"
     },
     "user_tz": -540
    },
    "id": "ag4m6DIFKDDy"
   },
   "outputs": [],
   "source": [
    "class MLP_Classifier:\n",
    "    \n",
    "    def __init__(self, problem_Type, X_input, y_output):  \n",
    "\n",
    "# problem_Type 문자열 지정 Member      \n",
    "        self.Type = problem_Type\n",
    "        \n",
    "# X_input, y_output Member 초기화\n",
    "        self.X_input = X_input.reshape(100, 2)\n",
    "        self.y_output = y_output.reshape(100, 1)\n",
    "        \n",
    "# W_1, b_1 Member 초기화\n",
    "        self.W_1 = np.random.rand(2, 2)  \n",
    "        self.b_1 = np.random.rand(2)\n",
    "\n",
    "# W_2, b_2 Member 초기화\n",
    "        self.W_2 = np.random.rand(2, 1)  \n",
    "        self.b_2 = np.random.rand(1)\n",
    "\n",
    "# learning_rate Member 지정\n",
    "        self.learning_rate = 0.01\n",
    "\n",
    "# Cost_Function(CEE) Method\n",
    "    def cost_func(self):\n",
    "\n",
    "        z_1 = np.dot(self.X_input, self.W_1) + self.b_1     # Hidden Layer\n",
    "        a_1 = sigmoid(z_1)                                \n",
    "        \n",
    "        z_2 = np.dot(a_1, self.W_2) + self.b_2            # Output Layer\n",
    "        y_hat = sigmoid(z_2)                        \n",
    "\n",
    "        return -np.sum(self.y_output * np.log(y_hat) + (1 - self.y_output) * np.log(1 - y_hat))      \n",
    "\n",
    "# Learning Method\n",
    "    def fit(self):\n",
    "        machine = lambda x : self.cost_func()\n",
    "        print('Initial Cost = ', self.cost_func())\n",
    "        \n",
    "        for step in  range(10001):\n",
    "            self.W_1 = self.W_1- self.learning_rate * gradient(machine, self.W_1)\n",
    "            self.b_1 = self.b_1 - self.learning_rate * gradient(machine, self.b_1)\n",
    "\n",
    "            self.W_2 = self.W_2 - self.learning_rate * gradient(machine, self.W_2)\n",
    "            self.b_2 = self.b_2 - self.learning_rate * gradient(machine, self.b_2)\n",
    "    \n",
    "            if (step % 1000 == 0):\n",
    "                print('Step = ', step, 'Cost = ', self.cost_func())\n",
    "                \n",
    "# Predict Method\n",
    "    def predict(self, input_data):\n",
    "        \n",
    "        z_1 = np.dot(input_data, self.W_1) + self.b_1     # Hidden Layer\n",
    "        a_1 = sigmoid(z_1)                                \n",
    "        \n",
    "        z_2 = np.dot(a_1, self.W_2) + self.b_2            # Output Layer\n",
    "        y_prob = sigmoid(z_2)                             \n",
    "\n",
    "\n",
    "        if y_prob > 0.5:\n",
    "            result = 1\n",
    "        else:\n",
    "            result = 0\n",
    "    \n",
    "        return y_prob, result"
   ]
  },
  {
   "cell_type": "markdown",
   "metadata": {
    "id": "JPLBEII7DQPc"
   },
   "source": [
    "> ## 2) IRIS.fit( )"
   ]
  },
  {
   "cell_type": "code",
   "execution_count": 13,
   "metadata": {
    "colab": {
     "base_uri": "https://localhost:8080/"
    },
    "executionInfo": {
     "elapsed": 17011,
     "status": "ok",
     "timestamp": 1673400139372,
     "user": {
      "displayName": "이정구",
      "userId": "17400242557229223804"
     },
     "user_tz": -540
    },
    "id": "h7qxksCvq_N3",
    "outputId": "266db692-210c-4027-c85c-7a1ae746d0b2"
   },
   "outputs": [
    {
     "name": "stdout",
     "output_type": "stream",
     "text": [
      "Initial Cost =  69.38881213782469\n",
      "Step =  0 Cost =  68.90783194980241\n",
      "Step =  1000 Cost =  0.3801989674384536\n",
      "Step =  2000 Cost =  0.17725459939934804\n",
      "Step =  3000 Cost =  0.11492763407892702\n",
      "Step =  4000 Cost =  0.08484525938419937\n",
      "Step =  5000 Cost =  0.06716852514958818\n",
      "Step =  6000 Cost =  0.05554982603837525\n",
      "Step =  7000 Cost =  0.047336813325445114\n",
      "Step =  8000 Cost =  0.04122663737486374\n",
      "Step =  9000 Cost =  0.03650508754651953\n",
      "Step =  10000 Cost =  0.03274811990301787\n",
      "CPU times: user 13.7 s, sys: 211 ms, total: 13.9 s\n",
      "Wall time: 16.9 s\n"
     ]
    }
   ],
   "source": [
    "#%%time\n",
    "\n",
    "IRIS = MLP_Classifier('Binary_Classification', X_input, y_output)\n",
    "\n",
    "IRIS.fit()"
   ]
  },
  {
   "cell_type": "markdown",
   "metadata": {
    "id": "twIfK2MgE1JX"
   },
   "source": [
    "> ## 3) IRIS.predict( )"
   ]
  },
  {
   "cell_type": "code",
   "execution_count": 14,
   "metadata": {
    "colab": {
     "base_uri": "https://localhost:8080/"
    },
    "executionInfo": {
     "elapsed": 17,
     "status": "ok",
     "timestamp": 1673400139373,
     "user": {
      "displayName": "이정구",
      "userId": "17400242557229223804"
     },
     "user_tz": -540
    },
    "id": "wi9KyxeRCtOw",
    "outputId": "cde150f9-59c2-464d-daa6-7a0d4497c823"
   },
   "outputs": [
    {
     "name": "stdout",
     "output_type": "stream",
     "text": [
      "[1.4 0.2]  =  0\n",
      "[1.4 0.2]  =  0\n",
      "[1.3 0.2]  =  0\n",
      "[1.5 0.2]  =  0\n",
      "[1.4 0.2]  =  0\n",
      "[1.7 0.4]  =  0\n",
      "[1.4 0.3]  =  0\n",
      "[1.5 0.2]  =  0\n",
      "[1.4 0.2]  =  0\n",
      "[1.5 0.1]  =  0\n",
      "[1.5 0.2]  =  0\n",
      "[1.6 0.2]  =  0\n",
      "[1.4 0.1]  =  0\n",
      "[1.1 0.1]  =  0\n",
      "[1.2 0.2]  =  0\n",
      "[1.5 0.4]  =  0\n",
      "[1.3 0.4]  =  0\n",
      "[1.4 0.3]  =  0\n",
      "[1.7 0.3]  =  0\n",
      "[1.5 0.3]  =  0\n",
      "[1.7 0.2]  =  0\n",
      "[1.5 0.4]  =  0\n",
      "[1.  0.2]  =  0\n",
      "[1.7 0.5]  =  0\n",
      "[1.9 0.2]  =  0\n",
      "[1.6 0.2]  =  0\n",
      "[1.6 0.4]  =  0\n",
      "[1.5 0.2]  =  0\n",
      "[1.4 0.2]  =  0\n",
      "[1.6 0.2]  =  0\n",
      "[1.6 0.2]  =  0\n",
      "[1.5 0.4]  =  0\n",
      "[1.5 0.1]  =  0\n",
      "[1.4 0.2]  =  0\n",
      "[1.5 0.2]  =  0\n",
      "[1.2 0.2]  =  0\n",
      "[1.3 0.2]  =  0\n",
      "[1.4 0.1]  =  0\n",
      "[1.3 0.2]  =  0\n",
      "[1.5 0.2]  =  0\n",
      "[1.3 0.3]  =  0\n",
      "[1.3 0.3]  =  0\n",
      "[1.3 0.2]  =  0\n",
      "[1.6 0.6]  =  0\n",
      "[1.9 0.4]  =  0\n",
      "[1.4 0.3]  =  0\n",
      "[1.6 0.2]  =  0\n",
      "[1.4 0.2]  =  0\n",
      "[1.5 0.2]  =  0\n",
      "[1.4 0.2]  =  0\n",
      "[4.7 1.4]  =  1\n",
      "[4.5 1.5]  =  1\n",
      "[4.9 1.5]  =  1\n",
      "[4.  1.3]  =  1\n",
      "[4.6 1.5]  =  1\n",
      "[4.5 1.3]  =  1\n",
      "[4.7 1.6]  =  1\n",
      "[3.3 1. ]  =  1\n",
      "[4.6 1.3]  =  1\n",
      "[3.9 1.4]  =  1\n",
      "[3.5 1. ]  =  1\n",
      "[4.2 1.5]  =  1\n",
      "[4. 1.]  =  1\n",
      "[4.7 1.4]  =  1\n",
      "[3.6 1.3]  =  1\n",
      "[4.4 1.4]  =  1\n",
      "[4.5 1.5]  =  1\n",
      "[4.1 1. ]  =  1\n",
      "[4.5 1.5]  =  1\n",
      "[3.9 1.1]  =  1\n",
      "[4.8 1.8]  =  1\n",
      "[4.  1.3]  =  1\n",
      "[4.9 1.5]  =  1\n",
      "[4.7 1.2]  =  1\n",
      "[4.3 1.3]  =  1\n",
      "[4.4 1.4]  =  1\n",
      "[4.8 1.4]  =  1\n",
      "[5.  1.7]  =  1\n",
      "[4.5 1.5]  =  1\n",
      "[3.5 1. ]  =  1\n",
      "[3.8 1.1]  =  1\n",
      "[3.7 1. ]  =  1\n",
      "[3.9 1.2]  =  1\n",
      "[5.1 1.6]  =  1\n",
      "[4.5 1.5]  =  1\n",
      "[4.5 1.6]  =  1\n",
      "[4.7 1.5]  =  1\n",
      "[4.4 1.3]  =  1\n",
      "[4.1 1.3]  =  1\n",
      "[4.  1.3]  =  1\n",
      "[4.4 1.2]  =  1\n",
      "[4.6 1.4]  =  1\n",
      "[4.  1.2]  =  1\n",
      "[3.3 1. ]  =  1\n",
      "[4.2 1.3]  =  1\n",
      "[4.2 1.2]  =  1\n",
      "[4.2 1.3]  =  1\n",
      "[4.3 1.3]  =  1\n",
      "[3.  1.1]  =  1\n",
      "[4.1 1.3]  =  1\n"
     ]
    }
   ],
   "source": [
    "y_hat = []\n",
    "\n",
    "for input_data in X_input:\n",
    "    (sigmoid_val, logical_val) = IRIS.predict(input_data) \n",
    "    print(input_data, ' = ', logical_val)\n",
    "\n",
    "    y_hat.append(logical_val)"
   ]
  },
  {
   "cell_type": "markdown",
   "metadata": {
    "id": "zBy5W1_DE7J7"
   },
   "source": [
    "> ## 4) Confusion Matrix"
   ]
  },
  {
   "cell_type": "code",
   "execution_count": 15,
   "metadata": {
    "colab": {
     "base_uri": "https://localhost:8080/"
    },
    "executionInfo": {
     "elapsed": 11,
     "status": "ok",
     "timestamp": 1673400139373,
     "user": {
      "displayName": "이정구",
      "userId": "17400242557229223804"
     },
     "user_tz": -540
    },
    "id": "fbGJUZq3Ea2q",
    "outputId": "ea1b6ea8-88e4-4af4-95d9-1c41769de233"
   },
   "outputs": [
    {
     "data": {
      "text/plain": [
       "array([[50,  0],\n",
       "       [ 0, 50]])"
      ]
     },
     "execution_count": 15,
     "metadata": {},
     "output_type": "execute_result"
    }
   ],
   "source": [
    "from sklearn.metrics import confusion_matrix\n",
    "\n",
    "confusion_matrix(y_output, y_hat)"
   ]
  },
  {
   "cell_type": "markdown",
   "metadata": {
    "id": "wIjxl3nzGCVc"
   },
   "source": [
    "# \n",
    "# \n",
    "# \n",
    "# The End\n",
    "# \n",
    "# \n",
    "# "
   ]
  }
 ],
 "metadata": {
  "colab": {
   "provenance": []
  },
  "kernelspec": {
   "display_name": "Python 3 (ipykernel)",
   "language": "python",
   "name": "python3"
  },
  "language_info": {
   "codemirror_mode": {
    "name": "ipython",
    "version": 3
   },
   "file_extension": ".py",
   "mimetype": "text/x-python",
   "name": "python",
   "nbconvert_exporter": "python",
   "pygments_lexer": "ipython3",
   "version": "3.10.8"
  },
  "toc": {
   "base_numbering": 1,
   "nav_menu": {},
   "number_sections": true,
   "sideBar": true,
   "skip_h1_title": false,
   "title_cell": "Table of Contents",
   "title_sidebar": "Contents",
   "toc_cell": false,
   "toc_position": {},
   "toc_section_display": true,
   "toc_window_display": false
  }
 },
 "nbformat": 4,
 "nbformat_minor": 1
}
