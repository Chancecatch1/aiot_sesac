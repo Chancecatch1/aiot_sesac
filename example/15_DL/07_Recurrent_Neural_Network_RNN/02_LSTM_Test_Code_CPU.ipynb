{
 "cells": [
  {
   "cell_type": "markdown",
   "metadata": {
    "id": "tkemTfz3W_Gi"
   },
   "source": [
    "# LSTM Test Code"
   ]
  },
  {
   "cell_type": "code",
   "execution_count": 4,
   "metadata": {
    "executionInfo": {
     "elapsed": 12,
     "status": "ok",
     "timestamp": 1674635313154,
     "user": {
      "displayName": "이정구",
      "userId": "10412141110999311561"
     },
     "user_tz": -540
    },
    "id": "RbPgODpVzdHI"
   },
   "outputs": [],
   "source": [
    "import warnings\n",
    "warnings.filterwarnings('ignore')"
   ]
  },
  {
   "cell_type": "markdown",
   "metadata": {
    "id": "Eo5KBp-nyU-R"
   },
   "source": [
    "> ## Import Packages"
   ]
  },
  {
   "cell_type": "code",
   "execution_count": 5,
   "metadata": {
    "executionInfo": {
     "elapsed": 11,
     "status": "ok",
     "timestamp": 1674635313155,
     "user": {
      "displayName": "이정구",
      "userId": "10412141110999311561"
     },
     "user_tz": -540
    },
    "id": "TwaPRMasmzkR"
   },
   "outputs": [],
   "source": [
    "import numpy as np\n",
    "import matplotlib.pyplot as plt"
   ]
  },
  {
   "cell_type": "markdown",
   "metadata": {
    "id": "NBh49fKTXjYm"
   },
   "source": [
    "# I. LSTM - without Normalization"
   ]
  },
  {
   "cell_type": "markdown",
   "metadata": {
    "id": "6Vo9X1J0Xr5w"
   },
   "source": [
    "> ## 1) Sample Data"
   ]
  },
  {
   "cell_type": "markdown",
   "metadata": {
    "id": "-sxOSU7zVcpI"
   },
   "source": [
    "* Inputs 데이터 생성(100, 5, 1)"
   ]
  },
  {
   "cell_type": "code",
   "execution_count": 1,
   "metadata": {
    "colab": {
     "base_uri": "https://localhost:8080/"
    },
    "executionInfo": {
     "elapsed": 11,
     "status": "ok",
     "timestamp": 1674635313156,
     "user": {
      "displayName": "이정구",
      "userId": "10412141110999311561"
     },
     "user_tz": -540
    },
    "id": "N7g_fKvum6zg",
    "outputId": "5051f3d3-0353-4743-b3f5-cec94c19b725"
   },
   "outputs": [
    {
     "data": {
      "text/plain": [
       "([[0, 1, 2, 3, 4], [1, 2, 3, 4, 5], [2, 3, 4, 5, 6]],\n",
       " [[97, 98, 99, 100, 101], [98, 99, 100, 101, 102], [99, 100, 101, 102, 103]])"
      ]
     },
     "execution_count": 1,
     "metadata": {},
     "output_type": "execute_result"
    }
   ],
   "source": [
    "X = [[i + j for i in range(5)] for j in range(100)]\n",
    "\n",
    "X[:3], X[-3:]"
   ]
  },
  {
   "cell_type": "markdown",
   "metadata": {
    "id": "mAeCUO3JVelB"
   },
   "source": [
    "* Outputs 데이터 생성(100, 1)"
   ]
  },
  {
   "cell_type": "code",
   "execution_count": 2,
   "metadata": {
    "colab": {
     "base_uri": "https://localhost:8080/"
    },
    "executionInfo": {
     "elapsed": 13,
     "status": "ok",
     "timestamp": 1674635313725,
     "user": {
      "displayName": "이정구",
      "userId": "10412141110999311561"
     },
     "user_tz": -540
    },
    "id": "HR_yI8rYnEML",
    "outputId": "623839c9-f16d-4eb6-bb11-b6a7862d8aac"
   },
   "outputs": [
    {
     "data": {
      "text/plain": [
       "([5, 6, 7], [102, 103, 104])"
      ]
     },
     "execution_count": 2,
     "metadata": {},
     "output_type": "execute_result"
    }
   ],
   "source": [
    "y = [(i + 5) for i in range(100)]\n",
    "\n",
    "y[:3], y[-3:]"
   ]
  },
  {
   "cell_type": "markdown",
   "metadata": {
    "id": "B3dYsrZOXvv2"
   },
   "source": [
    "> ## 2) numpy_Array Casting"
   ]
  },
  {
   "cell_type": "code",
   "execution_count": 6,
   "metadata": {
    "colab": {
     "base_uri": "https://localhost:8080/"
    },
    "executionInfo": {
     "elapsed": 10,
     "status": "ok",
     "timestamp": 1674635313726,
     "user": {
      "displayName": "이정구",
      "userId": "10412141110999311561"
     },
     "user_tz": -540
    },
    "id": "dnE9lNpqnF88",
    "outputId": "fb4f8d51-0ace-4e25-8afd-92cc65fdd6f8"
   },
   "outputs": [
    {
     "data": {
      "text/plain": [
       "((100, 5), (100,))"
      ]
     },
     "execution_count": 6,
     "metadata": {},
     "output_type": "execute_result"
    }
   ],
   "source": [
    "X = np.array(X, dtype = float)\n",
    "y = np.array(y, dtype = float)\n",
    "\n",
    "X.shape, y.shape"
   ]
  },
  {
   "cell_type": "markdown",
   "metadata": {
    "id": "V1ZhEfMKX4Q9"
   },
   "source": [
    "> ## 3) Train vs. Test Split\n",
    "\n",
    "* 80:20"
   ]
  },
  {
   "cell_type": "code",
   "execution_count": 7,
   "metadata": {
    "colab": {
     "base_uri": "https://localhost:8080/"
    },
    "executionInfo": {
     "elapsed": 1105,
     "status": "ok",
     "timestamp": 1674635314824,
     "user": {
      "displayName": "이정구",
      "userId": "10412141110999311561"
     },
     "user_tz": -540
    },
    "id": "C9LWIycfnNVX",
    "outputId": "5f128321-9c9d-4e05-e629-2122e42c38b8"
   },
   "outputs": [
    {
     "data": {
      "text/plain": [
       "((80, 5), (80,), (20, 5), (20,))"
      ]
     },
     "execution_count": 7,
     "metadata": {},
     "output_type": "execute_result"
    }
   ],
   "source": [
    "from sklearn.model_selection import train_test_split\n",
    "\n",
    "X_train, X_test, y_train, y_test = train_test_split(X, y, \n",
    "                                                    test_size = 0.2, \n",
    "                                                    random_state = 2045)\n",
    "\n",
    "X_train.shape, y_train.shape, X_test.shape, y_test.shape"
   ]
  },
  {
   "cell_type": "markdown",
   "metadata": {
    "id": "WMBdgjGjYCeu"
   },
   "source": [
    "> ## 4) Keras LSTM Modeling"
   ]
  },
  {
   "cell_type": "markdown",
   "metadata": {
    "id": "BPs3K2QuWd22"
   },
   "source": [
    "### (1) Model Define & Summary\n",
    "* Unit(output_dim) : 3\n",
    "* input_shape(input_lenght, input_dim) : (5, 1)\n",
    "* return_sequences = False : 최종 Unit만 출력\n",
    "* layers.Dense(1) : y_hat\n"
   ]
  },
  {
   "cell_type": "code",
   "execution_count": 8,
   "metadata": {
    "colab": {
     "base_uri": "https://localhost:8080/"
    },
    "executionInfo": {
     "elapsed": 8689,
     "status": "ok",
     "timestamp": 1674635323510,
     "user": {
      "displayName": "이정구",
      "userId": "10412141110999311561"
     },
     "user_tz": -540
    },
    "id": "82kOjSL0nRys",
    "outputId": "f9bd3c79-f2d5-4265-d4ca-d3462d259c8c"
   },
   "outputs": [
    {
     "name": "stdout",
     "output_type": "stream",
     "text": [
      "Model: \"LSTM_1\"\n",
      "_________________________________________________________________\n",
      " Layer (type)                Output Shape              Param #   \n",
      "=================================================================\n",
      " lstm (LSTM)                 (None, 3)                 60        \n",
      "                                                                 \n",
      " dense (Dense)               (None, 1)                 4         \n",
      "                                                                 \n",
      "=================================================================\n",
      "Total params: 64\n",
      "Trainable params: 64\n",
      "Non-trainable params: 0\n",
      "_________________________________________________________________\n"
     ]
    }
   ],
   "source": [
    "from tensorflow.keras import models, layers\n",
    "\n",
    "model_1 = models.Sequential(name = 'LSTM_1')\n",
    "model_1.add(layers.LSTM(3,\n",
    "                        input_shape = (5, 1), \n",
    "                        return_sequences = False))\n",
    "model_1.add(layers.Dense(1))\n",
    "\n",
    "model_1.summary()\n",
    "# simple과 비교했을 때 param이 엄청 증가했다.\n",
    "# long term memory(메모리셀)이 추가됨, 4개의 gate(output, forget ,input gate, (input)gate gate)"
   ]
  },
  {
   "cell_type": "markdown",
   "metadata": {
    "id": "_9psJ9flW_-p"
   },
   "source": [
    "### (2) Model Compile"
   ]
  },
  {
   "cell_type": "code",
   "execution_count": 9,
   "metadata": {
    "executionInfo": {
     "elapsed": 5,
     "status": "ok",
     "timestamp": 1674635323510,
     "user": {
      "displayName": "이정구",
      "userId": "10412141110999311561"
     },
     "user_tz": -540
    },
    "id": "W9uS8PVhn5jf"
   },
   "outputs": [],
   "source": [
    "model_1.compile(loss = 'mse', \n",
    "                optimizer = 'adam', \n",
    "                metrics = ['mae'])"
   ]
  },
  {
   "cell_type": "markdown",
   "metadata": {
    "id": "KbsrGbhVXKIL"
   },
   "source": [
    "### (3) Model Fit"
   ]
  },
  {
   "cell_type": "code",
   "execution_count": 10,
   "metadata": {
    "executionInfo": {
     "elapsed": 21866,
     "status": "ok",
     "timestamp": 1674635345372,
     "user": {
      "displayName": "이정구",
      "userId": "10412141110999311561"
     },
     "user_tz": -540
    },
    "id": "P6ngOaHmn8eD"
   },
   "outputs": [],
   "source": [
    "Hist_1 = model_1.fit(X_train, y_train,\n",
    "                     epochs = 100,\n",
    "                     batch_size = 8,\n",
    "                     validation_data = (X_test, y_test), verbose = 0)"
   ]
  },
  {
   "cell_type": "markdown",
   "metadata": {
    "id": "x6vJTt5uXZA4"
   },
   "source": [
    "### (4) Model Predict"
   ]
  },
  {
   "cell_type": "code",
   "execution_count": 11,
   "metadata": {
    "executionInfo": {
     "elapsed": 703,
     "status": "ok",
     "timestamp": 1674635346065,
     "user": {
      "displayName": "이정구",
      "userId": "10412141110999311561"
     },
     "user_tz": -540
    },
    "id": "lDWmmJ4-oBBA"
   },
   "outputs": [],
   "source": [
    "y_hat = model_1.predict(X_test, verbose = 0)"
   ]
  },
  {
   "cell_type": "markdown",
   "metadata": {
    "id": "4RtFt5o2Xf0l"
   },
   "source": [
    "### (5) 학습 결과 시각화\n",
    "\n",
    "* Loss 감소"
   ]
  },
  {
   "cell_type": "code",
   "execution_count": 12,
   "metadata": {
    "colab": {
     "base_uri": "https://localhost:8080/",
     "height": 265
    },
    "executionInfo": {
     "elapsed": 36,
     "status": "ok",
     "timestamp": 1674635346066,
     "user": {
      "displayName": "이정구",
      "userId": "10412141110999311561"
     },
     "user_tz": -540
    },
    "id": "aJlzed81oJ6C",
    "outputId": "779965e4-dd79-4685-9db5-b9493777e200"
   },
   "outputs": [
    {
     "data": {
      "image/png": "[encoded data removed]",
      "text/plain": [
       "<Figure size 640x480 with 1 Axes>"
      ]
     },
     "metadata": {},
     "output_type": "display_data"
    }
   ],
   "source": [
    "plt.plot(Hist_1.history['loss'])\n",
    "plt.show()"
   ]
  },
  {
   "cell_type": "markdown",
   "metadata": {
    "id": "igordmx1ol1T"
   },
   "source": [
    "* 학습 되지 않음\n",
    " * 녹색 -> 정답(y_test)\n",
    " * 적색 -> 예측(y_hat)"
   ]
  },
  {
   "cell_type": "code",
   "execution_count": 13,
   "metadata": {
    "colab": {
     "base_uri": "https://localhost:8080/",
     "height": 265
    },
    "executionInfo": {
     "elapsed": 34,
     "status": "ok",
     "timestamp": 1674635346067,
     "user": {
      "displayName": "이정구",
      "userId": "10412141110999311561"
     },
     "user_tz": -540
    },
    "id": "hp4i845-oFN-",
    "outputId": "f0e665b2-75bd-4fd3-9acd-d92d8f3063fa"
   },
   "outputs": [
    {
     "data": {
      "image/png": "[encoded data removed]",
      "text/plain": [
       "<Figure size 640x480 with 1 Axes>"
      ]
     },
     "metadata": {},
     "output_type": "display_data"
    }
   ],
   "source": [
    "plt.scatter(range(20), y_test, c = 'g')\n",
    "plt.scatter(range(20), y_hat, c = 'r')\n",
    "plt.show()"
   ]
  },
  {
   "cell_type": "markdown",
   "metadata": {
    "id": "Iil7fEZioLfa"
   },
   "source": [
    "# II. LSTM - with Normalization"
   ]
  },
  {
   "cell_type": "markdown",
   "metadata": {
    "id": "EbtJIiBGXzwq"
   },
   "source": [
    "> ## 1) Sample Data - with Normalization"
   ]
  },
  {
   "cell_type": "code",
   "execution_count": 16,
   "metadata": {
    "executionInfo": {
     "elapsed": 31,
     "status": "ok",
     "timestamp": 1674635346069,
     "user": {
      "displayName": "이정구",
      "userId": "10412141110999311561"
     },
     "user_tz": -540
    },
    "id": "38nYJQMMoKi9"
   },
   "outputs": [],
   "source": [
    "X = [[ (i + j) for i in range(5)] for j in range(100)]\n",
    "y = [(i + 5) for i in range(100)]\n",
    "\n",
    "X = (X - np.min(X)) / (np.max(X) - np.min(X))\n",
    "y = (y - np.min(y)) / (np.max(y) - np.min(y))"
   ]
  },
  {
   "cell_type": "markdown",
   "metadata": {
    "id": "nhSmCp9XX576"
   },
   "source": [
    "> ## 2) Casting"
   ]
  },
  {
   "cell_type": "code",
   "execution_count": 17,
   "metadata": {
    "colab": {
     "base_uri": "https://localhost:8080/"
    },
    "executionInfo": {
     "elapsed": 31,
     "status": "ok",
     "timestamp": 1674635346070,
     "user": {
      "displayName": "이정구",
      "userId": "10412141110999311561"
     },
     "user_tz": -540
    },
    "id": "da_SQ_33oQVd",
    "outputId": "4787061a-bdc4-4080-c958-59777cd048a2"
   },
   "outputs": [
    {
     "data": {
      "text/plain": [
       "((100, 5), (100,))"
      ]
     },
     "execution_count": 17,
     "metadata": {},
     "output_type": "execute_result"
    }
   ],
   "source": [
    "X = np.array(X, dtype = float)\n",
    "y = np.array(y, dtype = float)\n",
    "\n",
    "X.shape, y.shape"
   ]
  },
  {
   "cell_type": "markdown",
   "metadata": {
    "id": "kgNmkRIYYEKb"
   },
   "source": [
    "> ## 3) Train vs. Test Split"
   ]
  },
  {
   "cell_type": "code",
   "execution_count": 18,
   "metadata": {
    "colab": {
     "base_uri": "https://localhost:8080/"
    },
    "executionInfo": {
     "elapsed": 28,
     "status": "ok",
     "timestamp": 1674635346070,
     "user": {
      "displayName": "이정구",
      "userId": "10412141110999311561"
     },
     "user_tz": -540
    },
    "id": "JTTFoM3moV1v",
    "outputId": "a908b4ff-2846-4e32-c403-a8ada66a2262"
   },
   "outputs": [
    {
     "data": {
      "text/plain": [
       "((80, 5), (80,), (20, 5), (20,))"
      ]
     },
     "execution_count": 18,
     "metadata": {},
     "output_type": "execute_result"
    }
   ],
   "source": [
    "X_train, X_test, y_train, y_test = train_test_split(X, y, \n",
    "                                                    test_size = 0.2, \n",
    "                                                    random_state = 2045)\n",
    "\n",
    "X_train.shape, y_train.shape, X_test.shape, y_test.shape"
   ]
  },
  {
   "cell_type": "markdown",
   "metadata": {
    "id": "1IwlEXGSYJdK"
   },
   "source": [
    "> ## 4) Keras LSTM Modeling"
   ]
  },
  {
   "cell_type": "markdown",
   "metadata": {
    "id": "N8GJwNBgptDM"
   },
   "source": [
    "### (1) Model Define & Summary\n",
    "* None : input_length 자동 맞춤\n"
   ]
  },
  {
   "cell_type": "code",
   "execution_count": 19,
   "metadata": {
    "colab": {
     "base_uri": "https://localhost:8080/"
    },
    "executionInfo": {
     "elapsed": 584,
     "status": "ok",
     "timestamp": 1674635346629,
     "user": {
      "displayName": "이정구",
      "userId": "10412141110999311561"
     },
     "user_tz": -540
    },
    "id": "C-8rlTxxoaJE",
    "outputId": "78c788bd-086d-4d77-d393-535031276094"
   },
   "outputs": [
    {
     "name": "stdout",
     "output_type": "stream",
     "text": [
      "Model: \"LSTM_2\"\n",
      "_________________________________________________________________\n",
      " Layer (type)                Output Shape              Param #   \n",
      "=================================================================\n",
      " lstm_1 (LSTM)               (None, 3)                 60        \n",
      "                                                                 \n",
      " dense_1 (Dense)             (None, 1)                 4         \n",
      "                                                                 \n",
      "=================================================================\n",
      "Total params: 64\n",
      "Trainable params: 64\n",
      "Non-trainable params: 0\n",
      "_________________________________________________________________\n"
     ]
    }
   ],
   "source": [
    "model_2 = models.Sequential(name = 'LSTM_2')\n",
    "model_2.add(layers.LSTM(3,\n",
    "                        input_shape = (None, 1), \n",
    "                        return_sequences = False))\n",
    "model_2.add(layers.Dense(1))\n",
    "\n",
    "model_2.summary()"
   ]
  },
  {
   "cell_type": "markdown",
   "metadata": {
    "id": "cLo0GvICp4iA"
   },
   "source": [
    "### (2) Model Compile"
   ]
  },
  {
   "cell_type": "code",
   "execution_count": 20,
   "metadata": {
    "executionInfo": {
     "elapsed": 6,
     "status": "ok",
     "timestamp": 1674635346629,
     "user": {
      "displayName": "이정구",
      "userId": "10412141110999311561"
     },
     "user_tz": -540
    },
    "id": "nKX3lA1SosIL"
   },
   "outputs": [],
   "source": [
    "model_2.compile(loss = 'mse', \n",
    "                optimizer = 'adam', \n",
    "                metrics = ['mae'])"
   ]
  },
  {
   "cell_type": "markdown",
   "metadata": {
    "id": "W72kWHErp7Mx"
   },
   "source": [
    "### (3) Model Fit"
   ]
  },
  {
   "cell_type": "code",
   "execution_count": 21,
   "metadata": {
    "executionInfo": {
     "elapsed": 12127,
     "status": "ok",
     "timestamp": 1674635358750,
     "user": {
      "displayName": "이정구",
      "userId": "10412141110999311561"
     },
     "user_tz": -540
    },
    "id": "1C9e6JlYoiUf"
   },
   "outputs": [],
   "source": [
    "Hist_2 = model_2.fit(X_train, y_train, \n",
    "                     epochs = 100,\n",
    "                     batch_size = 8,\n",
    "                     validation_data = (X_test, y_test), verbose = 0)"
   ]
  },
  {
   "cell_type": "markdown",
   "metadata": {
    "id": "vtUFTIb6p-vQ"
   },
   "source": [
    "### (4) Model Predict"
   ]
  },
  {
   "cell_type": "code",
   "execution_count": 22,
   "metadata": {
    "executionInfo": {
     "elapsed": 638,
     "status": "ok",
     "timestamp": 1674635359385,
     "user": {
      "displayName": "이정구",
      "userId": "10412141110999311561"
     },
     "user_tz": -540
    },
    "id": "P0PGQvJIov8o"
   },
   "outputs": [],
   "source": [
    "y_hat = model_2.predict(X_test, verbose = 0)"
   ]
  },
  {
   "cell_type": "markdown",
   "metadata": {
    "id": "EQmRmny1qCX_"
   },
   "source": [
    "### (5) 학습 결과 시각화\n",
    "\n",
    "* Loss 감소"
   ]
  },
  {
   "cell_type": "code",
   "execution_count": 23,
   "metadata": {
    "colab": {
     "base_uri": "https://localhost:8080/",
     "height": 265
    },
    "executionInfo": {
     "elapsed": 1370,
     "status": "ok",
     "timestamp": 1674635360738,
     "user": {
      "displayName": "이정구",
      "userId": "10412141110999311561"
     },
     "user_tz": -540
    },
    "id": "I6KIURV8o1jt",
    "outputId": "37d89454-3a3b-41a0-da63-692bd7464eb0"
   },
   "outputs": [
    {
     "data": {
      "image/png": "[encoded data removed]",
      "text/plain": [
       "<Figure size 640x480 with 1 Axes>"
      ]
     },
     "metadata": {},
     "output_type": "display_data"
    }
   ],
   "source": [
    "plt.plot(Hist_2.history['loss'])\n",
    "plt.show()"
   ]
  },
  {
   "cell_type": "markdown",
   "metadata": {
    "id": "G3R1LbLzqOjA"
   },
   "source": [
    "* 학습 진행\n",
    " * 녹색 -> 정답(y_test)\n",
    " * 적색 -> 예측(y_hat)"
   ]
  },
  {
   "cell_type": "code",
   "execution_count": 24,
   "metadata": {
    "colab": {
     "base_uri": "https://localhost:8080/",
     "height": 265
    },
    "executionInfo": {
     "elapsed": 11,
     "status": "ok",
     "timestamp": 1674635360739,
     "user": {
      "displayName": "이정구",
      "userId": "10412141110999311561"
     },
     "user_tz": -540
    },
    "id": "Aq_r-86kqIWb",
    "outputId": "e79f6a6f-cd56-42ee-b072-51ca4c7f65b4"
   },
   "outputs": [
    {
     "data": {
      "image/png": "[encoded data removed]",
      "text/plain": [
       "<Figure size 640x480 with 1 Axes>"
      ]
     },
     "metadata": {},
     "output_type": "display_data"
    }
   ],
   "source": [
    "plt.scatter(range(20), y_test, c = 'g')\n",
    "plt.scatter(range(20), y_hat, c = 'r')\n",
    "plt.show()"
   ]
  },
  {
   "cell_type": "markdown",
   "metadata": {
    "id": "VJ7ijEqqgl6B"
   },
   "source": [
    "# III. Stacked_LSTM"
   ]
  },
  {
   "cell_type": "markdown",
   "metadata": {
    "id": "oie2td6Ei-AO"
   },
   "source": [
    "> ## 1) Model Define & Summary\n",
    "\n",
    "* return_sequences = True"
   ]
  },
  {
   "cell_type": "code",
   "execution_count": 22,
   "metadata": {
    "colab": {
     "base_uri": "https://localhost:8080/"
    },
    "executionInfo": {
     "elapsed": 709,
     "status": "ok",
     "timestamp": 1674635361437,
     "user": {
      "displayName": "이정구",
      "userId": "10412141110999311561"
     },
     "user_tz": -540
    },
    "id": "MfbNXdNajxXa",
    "outputId": "10907c0a-99c8-4087-f9b8-1e11344cb84a"
   },
   "outputs": [
    {
     "name": "stdout",
     "output_type": "stream",
     "text": [
      "Model: \"Stackd_LSTM\"\n",
      "_________________________________________________________________\n",
      " Layer (type)                Output Shape              Param #   \n",
      "=================================================================\n",
      " lstm_2 (LSTM)               (None, None, 3)           60        \n",
      "                                                                 \n",
      " lstm_3 (LSTM)               (None, 3)                 84        \n",
      "                                                                 \n",
      " dense_2 (Dense)             (None, 1)                 4         \n",
      "                                                                 \n",
      "=================================================================\n",
      "Total params: 148\n",
      "Trainable params: 148\n",
      "Non-trainable params: 0\n",
      "_________________________________________________________________\n"
     ]
    }
   ],
   "source": [
    "model_3 = models.Sequential(name = 'Stackd_LSTM')\n",
    "model_3.add(layers.LSTM(3,\n",
    "                        input_shape = (None, 1), \n",
    "                        return_sequences = True))\n",
    "model_3.add(layers.LSTM(3,\n",
    "                        input_shape = (None, 1),\n",
    "                        return_sequences = False))\n",
    "model_3.add(layers.Dense(1))\n",
    "\n",
    "model_3.summary()"
   ]
  },
  {
   "cell_type": "markdown",
   "metadata": {
    "id": "-Lfl3QLmjFSK"
   },
   "source": [
    "> ## 2) Model Compile"
   ]
  },
  {
   "cell_type": "code",
   "execution_count": 23,
   "metadata": {
    "executionInfo": {
     "elapsed": 12,
     "status": "ok",
     "timestamp": 1674635361440,
     "user": {
      "displayName": "이정구",
      "userId": "10412141110999311561"
     },
     "user_tz": -540
    },
    "id": "6J_FOg6_kZST"
   },
   "outputs": [],
   "source": [
    "model_3.compile(loss = 'mse', \n",
    "                optimizer = 'adam', \n",
    "                metrics = ['mae'])"
   ]
  },
  {
   "cell_type": "markdown",
   "metadata": {
    "id": "hpGna-L2jJE-"
   },
   "source": [
    "> ## 3) Model Fit"
   ]
  },
  {
   "cell_type": "code",
   "execution_count": 24,
   "metadata": {
    "executionInfo": {
     "elapsed": 12449,
     "status": "ok",
     "timestamp": 1674635373878,
     "user": {
      "displayName": "이정구",
      "userId": "10412141110999311561"
     },
     "user_tz": -540
    },
    "id": "5qI-xcEkkal5"
   },
   "outputs": [],
   "source": [
    "Hist_3 = model_3.fit(X_train, y_train, \n",
    "                     epochs = 100,\n",
    "                     batch_size = 8,\n",
    "                     validation_data = (X_test, y_test), verbose = 0)"
   ]
  },
  {
   "cell_type": "markdown",
   "metadata": {
    "id": "93mMvgRHjN77"
   },
   "source": [
    "> ## 4) Model Predict"
   ]
  },
  {
   "cell_type": "code",
   "execution_count": 25,
   "metadata": {
    "executionInfo": {
     "elapsed": 1148,
     "status": "ok",
     "timestamp": 1674635375018,
     "user": {
      "displayName": "이정구",
      "userId": "10412141110999311561"
     },
     "user_tz": -540
    },
    "id": "IuzyIFm7jbBN"
   },
   "outputs": [],
   "source": [
    "y_hat = model_3.predict(X_test, verbose = 0)"
   ]
  },
  {
   "cell_type": "markdown",
   "metadata": {
    "id": "yxAPoF1sjf9P"
   },
   "source": [
    "> ## 5) 학습 결과 시각화"
   ]
  },
  {
   "cell_type": "code",
   "execution_count": 26,
   "metadata": {
    "colab": {
     "base_uri": "https://localhost:8080/",
     "height": 265
    },
    "executionInfo": {
     "elapsed": 29,
     "status": "ok",
     "timestamp": 1674635375019,
     "user": {
      "displayName": "이정구",
      "userId": "10412141110999311561"
     },
     "user_tz": -540
    },
    "id": "W2a8Lq6fk_Oc",
    "outputId": "852315bd-3425-4db8-96bc-f50da1a5bc70"
   },
   "outputs": [
    {
     "data": {
      "image/png": "[encoded data removed]",
      "text/plain": [
       "<Figure size 432x288 with 1 Axes>"
      ]
     },
     "metadata": {
      "needs_background": "light"
     },
     "output_type": "display_data"
    }
   ],
   "source": [
    "plt.plot(Hist_3.history['loss'])\n",
    "plt.show()"
   ]
  },
  {
   "cell_type": "code",
   "execution_count": 27,
   "metadata": {
    "colab": {
     "base_uri": "https://localhost:8080/",
     "height": 265
    },
    "executionInfo": {
     "elapsed": 23,
     "status": "ok",
     "timestamp": 1674635375019,
     "user": {
      "displayName": "이정구",
      "userId": "10412141110999311561"
     },
     "user_tz": -540
    },
    "id": "q9QNepCBkkLn",
    "outputId": "bccbe339-9eef-49a8-a24e-2004d8ec8fd7"
   },
   "outputs": [
    {
     "data": {
      "image/png": "[encoded data removed]",
      "text/plain": [
       "<Figure size 432x288 with 1 Axes>"
      ]
     },
     "metadata": {
      "needs_background": "light"
     },
     "output_type": "display_data"
    }
   ],
   "source": [
    "plt.scatter(range(20), y_test, c = 'g')\n",
    "plt.scatter(range(20), y_hat, c = 'r')\n",
    "plt.show()"
   ]
  },
  {
   "cell_type": "markdown",
   "metadata": {
    "id": "yUHpTohzaVYl"
   },
   "source": [
    "# \n",
    "# \n",
    "# \n",
    "# The End\n",
    "# \n",
    "# \n",
    "# "
   ]
  }
 ],
 "metadata": {
  "colab": {
   "provenance": []
  },
  "kernelspec": {
   "display_name": "Python 3 (ipykernel)",
   "language": "python",
   "name": "python3"
  },
  "language_info": {
   "codemirror_mode": {
    "name": "ipython",
    "version": 3
   },
   "file_extension": ".py",
   "mimetype": "text/x-python",
   "name": "python",
   "nbconvert_exporter": "python",
   "pygments_lexer": "ipython3",
   "version": "3.10.8"
  },
  "toc": {
   "base_numbering": 1,
   "nav_menu": {},
   "number_sections": true,
   "sideBar": true,
   "skip_h1_title": false,
   "title_cell": "Table of Contents",
   "title_sidebar": "Contents",
   "toc_cell": false,
   "toc_position": {},
   "toc_section_display": true,
   "toc_window_display": false
  }
 },
 "nbformat": 4,
 "nbformat_minor": 1
}
