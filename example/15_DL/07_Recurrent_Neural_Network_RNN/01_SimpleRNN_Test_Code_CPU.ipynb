{
 "cells": [
  {
   "cell_type": "markdown",
   "metadata": {
    "id": "tkemTfz3W_Gi"
   },
   "source": [
    "# SimpleRNN Test Code"
   ]
  },
  {
   "cell_type": "code",
   "execution_count": 21,
   "metadata": {
    "executionInfo": {
     "elapsed": 26,
     "status": "ok",
     "timestamp": 1674694469389,
     "user": {
      "displayName": "이정구",
      "userId": "10412141110999311561"
     },
     "user_tz": -540
    },
    "id": "RbPgODpVzdHI"
   },
   "outputs": [],
   "source": [
    "import warnings\n",
    "warnings.filterwarnings('ignore')"
   ]
  },
  {
   "cell_type": "markdown",
   "metadata": {
    "id": "Eo5KBp-nyU-R"
   },
   "source": [
    "> ## Import Packages"
   ]
  },
  {
   "cell_type": "code",
   "execution_count": 22,
   "metadata": {
    "executionInfo": {
     "elapsed": 21,
     "status": "ok",
     "timestamp": 1674694469390,
     "user": {
      "displayName": "이정구",
      "userId": "10412141110999311561"
     },
     "user_tz": -540
    },
    "id": "TwaPRMasmzkR"
   },
   "outputs": [],
   "source": [
    "import numpy as np\n",
    "import matplotlib.pyplot as plt"
   ]
  },
  {
   "cell_type": "markdown",
   "metadata": {
    "id": "NBh49fKTXjYm"
   },
   "source": [
    "# I. SimpleRNN - without Normalization"
   ]
  },
  {
   "cell_type": "markdown",
   "metadata": {
    "id": "6Vo9X1J0Xr5w"
   },
   "source": [
    "> ## 1) Sample Data"
   ]
  },
  {
   "cell_type": "markdown",
   "metadata": {
    "id": "-sxOSU7zVcpI"
   },
   "source": [
    "* Inputs 데이터 생성(100, 5, 1)"
   ]
  },
  {
   "cell_type": "code",
   "execution_count": 32,
   "metadata": {},
   "outputs": [
    {
     "data": {
      "text/plain": [
       "([[[0], [1], [2], [3], [4]],\n",
       "  [[1], [2], [3], [4], [5]],\n",
       "  [[2], [3], [4], [5], [6]]],\n",
       " [[[97], [98], [99], [100], [101]],\n",
       "  [[98], [99], [100], [101], [102]],\n",
       "  [[99], [100], [101], [102], [103]]])"
      ]
     },
     "execution_count": 32,
     "metadata": {},
     "output_type": "execute_result"
    }
   ],
   "source": [
    "X = [ [ [i + j] for i in range(5) ] for j in range(100) ]\n",
    "\n",
    "X[:3], X[-3:]"
   ]
  },
  {
   "cell_type": "code",
   "execution_count": 30,
   "metadata": {},
   "outputs": [
    {
     "data": {
      "text/plain": [
       "array([[[0.],\n",
       "        [1.],\n",
       "        [2.],\n",
       "        [3.],\n",
       "        [4.]],\n",
       "\n",
       "       [[1.],\n",
       "        [2.],\n",
       "        [3.],\n",
       "        [4.],\n",
       "        [5.]],\n",
       "\n",
       "       [[2.],\n",
       "        [3.],\n",
       "        [4.],\n",
       "        [5.],\n",
       "        [6.]]])"
      ]
     },
     "execution_count": 30,
     "metadata": {},
     "output_type": "execute_result"
    }
   ],
   "source": [
    "X[:3]"
   ]
  },
  {
   "cell_type": "code",
   "execution_count": 29,
   "metadata": {
    "scrolled": true
   },
   "outputs": [
    {
     "data": {
      "text/plain": [
       "array([[[ 97.],\n",
       "        [ 98.],\n",
       "        [ 99.],\n",
       "        [100.],\n",
       "        [101.]],\n",
       "\n",
       "       [[ 98.],\n",
       "        [ 99.],\n",
       "        [100.],\n",
       "        [101.],\n",
       "        [102.]],\n",
       "\n",
       "       [[ 99.],\n",
       "        [100.],\n",
       "        [101.],\n",
       "        [102.],\n",
       "        [103.]]])"
      ]
     },
     "execution_count": 29,
     "metadata": {},
     "output_type": "execute_result"
    }
   ],
   "source": [
    "X[-3:]"
   ]
  },
  {
   "cell_type": "code",
   "execution_count": 33,
   "metadata": {},
   "outputs": [
    {
     "data": {
      "text/plain": [
       "([[0, 1, 2, 3, 4], [1, 2, 3, 4, 5], [2, 3, 4, 5, 6]],\n",
       " [[97, 98, 99, 100, 101], [98, 99, 100, 101, 102], [99, 100, 101, 102, 103]])"
      ]
     },
     "execution_count": 33,
     "metadata": {},
     "output_type": "execute_result"
    }
   ],
   "source": [
    "# X = [ [ i + j for i in range(5) ] for j in range(100) ]\n",
    "\n",
    "# X[:3], X[-3:]"
   ]
  },
  {
   "cell_type": "markdown",
   "metadata": {
    "id": "mAeCUO3JVelB"
   },
   "source": [
    "* Outputs 데이터 생성(100, 1)"
   ]
  },
  {
   "cell_type": "code",
   "execution_count": 24,
   "metadata": {
    "colab": {
     "base_uri": "https://localhost:8080/"
    },
    "executionInfo": {
     "elapsed": 10,
     "status": "ok",
     "timestamp": 1674694469391,
     "user": {
      "displayName": "이정구",
      "userId": "10412141110999311561"
     },
     "user_tz": -540
    },
    "id": "HR_yI8rYnEML",
    "outputId": "607ce1a8-f373-485d-bb51-459e438e3999"
   },
   "outputs": [
    {
     "data": {
      "text/plain": [
       "([5, 6, 7], [102, 103, 104])"
      ]
     },
     "execution_count": 24,
     "metadata": {},
     "output_type": "execute_result"
    }
   ],
   "source": [
    "y = [(i + 5) for i in range(100)]\n",
    "\n",
    "y[:3], y[-3:]"
   ]
  },
  {
   "cell_type": "markdown",
   "metadata": {
    "id": "B3dYsrZOXvv2"
   },
   "source": [
    "> ## 2) numpy_Array Casting"
   ]
  },
  {
   "cell_type": "code",
   "execution_count": 25,
   "metadata": {
    "colab": {
     "base_uri": "https://localhost:8080/"
    },
    "executionInfo": {
     "elapsed": 9,
     "status": "ok",
     "timestamp": 1674694469392,
     "user": {
      "displayName": "이정구",
      "userId": "10412141110999311561"
     },
     "user_tz": -540
    },
    "id": "dnE9lNpqnF88",
    "outputId": "ceb62b69-33af-4c90-a8f1-0de036a842ca"
   },
   "outputs": [
    {
     "data": {
      "text/plain": [
       "((100, 5, 1), (100,))"
      ]
     },
     "execution_count": 25,
     "metadata": {},
     "output_type": "execute_result"
    }
   ],
   "source": [
    "X = np.array(X, dtype = float)\n",
    "y = np.array(y, dtype = float)\n",
    "\n",
    "X.shape, y.shape"
   ]
  },
  {
   "cell_type": "code",
   "execution_count": 28,
   "metadata": {},
   "outputs": [
    {
     "data": {
      "text/plain": [
       "array([[0.],\n",
       "       [1.],\n",
       "       [2.],\n",
       "       [3.],\n",
       "       [4.]])"
      ]
     },
     "execution_count": 28,
     "metadata": {},
     "output_type": "execute_result"
    }
   ],
   "source": [
    "X[0]"
   ]
  },
  {
   "cell_type": "markdown",
   "metadata": {
    "id": "V1ZhEfMKX4Q9"
   },
   "source": [
    "> ## 3) Train vs. Test Split\n",
    "\n",
    "* 80:20"
   ]
  },
  {
   "cell_type": "code",
   "execution_count": 26,
   "metadata": {
    "colab": {
     "base_uri": "https://localhost:8080/"
    },
    "executionInfo": {
     "elapsed": 1198,
     "status": "ok",
     "timestamp": 1674694470584,
     "user": {
      "displayName": "이정구",
      "userId": "10412141110999311561"
     },
     "user_tz": -540
    },
    "id": "C9LWIycfnNVX",
    "outputId": "3586d6a3-9ec4-4d46-c42f-f5d970d4c804"
   },
   "outputs": [
    {
     "data": {
      "text/plain": [
       "((80, 5, 1), (80,), (20, 5, 1), (20,))"
      ]
     },
     "execution_count": 26,
     "metadata": {},
     "output_type": "execute_result"
    }
   ],
   "source": [
    "from sklearn.model_selection import train_test_split\n",
    "\n",
    "X_train, X_test, y_train, y_test = train_test_split(X, y, \n",
    "                                                    test_size = 0.2, \n",
    "                                                    random_state = 2045)\n",
    "\n",
    "X_train.shape, y_train.shape, X_test.shape, y_test.shape"
   ]
  },
  {
   "cell_type": "markdown",
   "metadata": {
    "id": "WMBdgjGjYCeu"
   },
   "source": [
    "> ## 4) Keras SimpleRNN Modeling"
   ]
  },
  {
   "cell_type": "markdown",
   "metadata": {
    "id": "BPs3K2QuWd22"
   },
   "source": [
    "### (1) Model Define & Summary\n",
    "* Unit(output_dim) : 3\n",
    "* input_shape(input_lenght, input_dim) : (5, 1)\n",
    "* return_sequences = False : 최종 Unit(=node)만 출력, 5번 순환 결과 최종 아웃풋만 출력하겠다.\n",
    "* layers.Dense(1) : y_hat\n"
   ]
  },
  {
   "cell_type": "code",
   "execution_count": 7,
   "metadata": {
    "colab": {
     "base_uri": "https://localhost:8080/"
    },
    "executionInfo": {
     "elapsed": 6058,
     "status": "ok",
     "timestamp": 1674694476638,
     "user": {
      "displayName": "이정구",
      "userId": "10412141110999311561"
     },
     "user_tz": -540
    },
    "id": "82kOjSL0nRys",
    "outputId": "988f818a-4b0d-4fe6-b8f6-180f4a6071b3"
   },
   "outputs": [
    {
     "name": "stdout",
     "output_type": "stream",
     "text": [
      "Model: \"SimpleRNN_1\"\n",
      "_________________________________________________________________\n",
      " Layer (type)                Output Shape              Param #   \n",
      "=================================================================\n",
      " simple_rnn (SimpleRNN)      (None, 3)                 15        \n",
      "                                                                 \n",
      " dense (Dense)               (None, 1)                 4         \n",
      "                                                                 \n",
      "=================================================================\n",
      "Total params: 19\n",
      "Trainable params: 19\n",
      "Non-trainable params: 0\n",
      "_________________________________________________________________\n"
     ]
    }
   ],
   "source": [
    "from tensorflow.keras import models, layers\n",
    "\n",
    "model_1 = models.Sequential(name = 'SimpleRNN_1')\n",
    "model_1.add(layers.SimpleRNN(3,  # hidden layer의 node 3개\n",
    "                             input_shape = (5, 1),  # 5번 순환\n",
    "                             return_sequences = False))\n",
    "model_1.add(layers.Dense(1)) # output\n",
    "\n",
    "model_1.summary()\n",
    "# simple rnn의 param이 9개가 아닌 15개가 나온이유 : 가중치가 다른레이어에도 순환하기 때문\n",
    "# wx1, wt1, b1, wt2, wt3\n",
    "# wx2, wt2, b2, wt1, wt3\n",
    "# wx3, wt3, b3, wt1, wt2"
   ]
  },
  {
   "cell_type": "markdown",
   "metadata": {
    "id": "_9psJ9flW_-p"
   },
   "source": [
    "### (2) Model Compile"
   ]
  },
  {
   "cell_type": "code",
   "execution_count": 8,
   "metadata": {
    "executionInfo": {
     "elapsed": 11,
     "status": "ok",
     "timestamp": 1674694476639,
     "user": {
      "displayName": "이정구",
      "userId": "10412141110999311561"
     },
     "user_tz": -540
    },
    "id": "W9uS8PVhn5jf"
   },
   "outputs": [],
   "source": [
    "model_1.compile(loss = 'mse', \n",
    "                optimizer = 'adam', \n",
    "                metrics = ['mae'])"
   ]
  },
  {
   "cell_type": "markdown",
   "metadata": {
    "id": "KbsrGbhVXKIL"
   },
   "source": [
    "### (3) Model Fit"
   ]
  },
  {
   "cell_type": "code",
   "execution_count": 9,
   "metadata": {
    "executionInfo": {
     "elapsed": 17532,
     "status": "ok",
     "timestamp": 1674694494164,
     "user": {
      "displayName": "이정구",
      "userId": "10412141110999311561"
     },
     "user_tz": -540
    },
    "id": "P6ngOaHmn8eD"
   },
   "outputs": [],
   "source": [
    "Hist_1 = model_1.fit(X_train, y_train,\n",
    "                     epochs = 100,\n",
    "                     batch_size = 8,\n",
    "                     validation_data = (X_test, y_test), \n",
    "                     verbose = 0)"
   ]
  },
  {
   "cell_type": "markdown",
   "metadata": {
    "id": "x6vJTt5uXZA4"
   },
   "source": [
    "### (4) Model Predict"
   ]
  },
  {
   "cell_type": "code",
   "execution_count": 10,
   "metadata": {
    "executionInfo": {
     "elapsed": 14,
     "status": "ok",
     "timestamp": 1674694494165,
     "user": {
      "displayName": "이정구",
      "userId": "10412141110999311561"
     },
     "user_tz": -540
    },
    "id": "lDWmmJ4-oBBA"
   },
   "outputs": [],
   "source": [
    "y_hat = model_1.predict(X_test, verbose = 0)"
   ]
  },
  {
   "cell_type": "markdown",
   "metadata": {
    "id": "4RtFt5o2Xf0l"
   },
   "source": [
    "### (5) 학습 결과 시각화\n",
    "\n",
    "* Loss 감소"
   ]
  },
  {
   "cell_type": "code",
   "execution_count": 11,
   "metadata": {
    "colab": {
     "base_uri": "https://localhost:8080/",
     "height": 265
    },
    "executionInfo": {
     "elapsed": 688,
     "status": "ok",
     "timestamp": 1674694494840,
     "user": {
      "displayName": "이정구",
      "userId": "10412141110999311561"
     },
     "user_tz": -540
    },
    "id": "aJlzed81oJ6C",
    "outputId": "d4ae23cc-0bf9-4cee-aa83-df5f488bd123"
   },
   "outputs": [
    {
     "data": {
      "image/png": "[encoded data removed]",
      "text/plain": [
       "<Figure size 432x288 with 1 Axes>"
      ]
     },
     "metadata": {
      "needs_background": "light"
     },
     "output_type": "display_data"
    }
   ],
   "source": [
    "plt.plot(Hist_1.history['loss'])\n",
    "plt.show()"
   ]
  },
  {
   "cell_type": "markdown",
   "metadata": {
    "id": "igordmx1ol1T"
   },
   "source": [
    "* 학습 되지 않음\n",
    " * 녹색 -> 정답(y_test)\n",
    " * 적색 -> 예측(y_hat)"
   ]
  },
  {
   "cell_type": "code",
   "execution_count": 12,
   "metadata": {
    "colab": {
     "base_uri": "https://localhost:8080/",
     "height": 265
    },
    "executionInfo": {
     "elapsed": 43,
     "status": "ok",
     "timestamp": 1674694494841,
     "user": {
      "displayName": "이정구",
      "userId": "10412141110999311561"
     },
     "user_tz": -540
    },
    "id": "hp4i845-oFN-",
    "outputId": "577cdb0c-5f10-4105-e758-3f36d11a524c"
   },
   "outputs": [
    {
     "data": {
      "image/png": "[encoded data removed]",
      "text/plain": [
       "<Figure size 432x288 with 1 Axes>"
      ]
     },
     "metadata": {
      "needs_background": "light"
     },
     "output_type": "display_data"
    }
   ],
   "source": [
    "plt.scatter(range(20), y_test, c = 'g')\n",
    "plt.scatter(range(20), y_hat, c = 'r')\n",
    "plt.show()"
   ]
  },
  {
   "cell_type": "markdown",
   "metadata": {
    "id": "Iil7fEZioLfa"
   },
   "source": [
    "# II. SimpleRNN - with Normalization"
   ]
  },
  {
   "cell_type": "markdown",
   "metadata": {
    "id": "EbtJIiBGXzwq"
   },
   "source": [
    "> ## 1) Sample Data - with Normalization"
   ]
  },
  {
   "cell_type": "code",
   "execution_count": 13,
   "metadata": {
    "executionInfo": {
     "elapsed": 41,
     "status": "ok",
     "timestamp": 1674694494841,
     "user": {
      "displayName": "이정구",
      "userId": "10412141110999311561"
     },
     "user_tz": -540
    },
    "id": "38nYJQMMoKi9"
   },
   "outputs": [],
   "source": [
    "X = [[[(i + j)] for i in range(5)] for j in range(100)]\n",
    "y = [(i + 5) for i in range(100)]\n",
    "\n",
    "X = (X - np.min(X)) / (np.max(X) - np.min(X))\n",
    "y = (y - np.min(y)) / (np.max(y) - np.min(y))"
   ]
  },
  {
   "cell_type": "markdown",
   "metadata": {
    "id": "nhSmCp9XX576"
   },
   "source": [
    "> ## 2) Casting"
   ]
  },
  {
   "cell_type": "code",
   "execution_count": 14,
   "metadata": {
    "colab": {
     "base_uri": "https://localhost:8080/"
    },
    "executionInfo": {
     "elapsed": 41,
     "status": "ok",
     "timestamp": 1674694494842,
     "user": {
      "displayName": "이정구",
      "userId": "10412141110999311561"
     },
     "user_tz": -540
    },
    "id": "da_SQ_33oQVd",
    "outputId": "57719f00-4143-4d88-fa34-db2daed17fe9"
   },
   "outputs": [
    {
     "data": {
      "text/plain": [
       "((100, 5, 1), (100,))"
      ]
     },
     "execution_count": 14,
     "metadata": {},
     "output_type": "execute_result"
    }
   ],
   "source": [
    "X = np.array(X, dtype = float)\n",
    "y = np.array(y, dtype = float)\n",
    "\n",
    "X.shape, y.shape"
   ]
  },
  {
   "cell_type": "markdown",
   "metadata": {
    "id": "kgNmkRIYYEKb"
   },
   "source": [
    "> ## 3) Train vs. Test Split"
   ]
  },
  {
   "cell_type": "code",
   "execution_count": 15,
   "metadata": {
    "colab": {
     "base_uri": "https://localhost:8080/"
    },
    "executionInfo": {
     "elapsed": 35,
     "status": "ok",
     "timestamp": 1674694494842,
     "user": {
      "displayName": "이정구",
      "userId": "10412141110999311561"
     },
     "user_tz": -540
    },
    "id": "JTTFoM3moV1v",
    "outputId": "02e8e39f-10ef-48c9-8f6d-e53c2269fd9d"
   },
   "outputs": [
    {
     "data": {
      "text/plain": [
       "((80, 5, 1), (80,), (20, 5, 1), (20,))"
      ]
     },
     "execution_count": 15,
     "metadata": {},
     "output_type": "execute_result"
    }
   ],
   "source": [
    "X_train, X_test, y_train, y_test = train_test_split(X, y, \n",
    "                                                    test_size = 0.2, \n",
    "                                                    random_state = 2045)\n",
    "\n",
    "X_train.shape, y_train.shape, X_test.shape, y_test.shape"
   ]
  },
  {
   "cell_type": "markdown",
   "metadata": {
    "id": "1IwlEXGSYJdK"
   },
   "source": [
    "> ## 4) Keras SimpleRNN Modeling"
   ]
  },
  {
   "cell_type": "markdown",
   "metadata": {
    "id": "N8GJwNBgptDM"
   },
   "source": [
    "### (1) Model Define & Summary\n",
    "* None : input_length 자동 맞춤\n"
   ]
  },
  {
   "cell_type": "code",
   "execution_count": 16,
   "metadata": {
    "colab": {
     "base_uri": "https://localhost:8080/"
    },
    "executionInfo": {
     "elapsed": 33,
     "status": "ok",
     "timestamp": 1674694494843,
     "user": {
      "displayName": "이정구",
      "userId": "10412141110999311561"
     },
     "user_tz": -540
    },
    "id": "C-8rlTxxoaJE",
    "outputId": "bb8bb3e3-004f-45e1-8cb9-e44c7ea58833"
   },
   "outputs": [
    {
     "name": "stdout",
     "output_type": "stream",
     "text": [
      "Model: \"SimpleRNN_2\"\n",
      "_________________________________________________________________\n",
      " Layer (type)                Output Shape              Param #   \n",
      "=================================================================\n",
      " simple_rnn_1 (SimpleRNN)    (None, 3)                 15        \n",
      "                                                                 \n",
      " dense_1 (Dense)             (None, 1)                 4         \n",
      "                                                                 \n",
      "=================================================================\n",
      "Total params: 19\n",
      "Trainable params: 19\n",
      "Non-trainable params: 0\n",
      "_________________________________________________________________\n"
     ]
    }
   ],
   "source": [
    "model_2 = models.Sequential(name = 'SimpleRNN_2')\n",
    "model_2.add(layers.SimpleRNN(3,\n",
    "                             input_shape = (None, 1), # None 입력시 -1처럼 형을 맞춰줌\n",
    "                             return_sequences = False))\n",
    "model_2.add(layers.Dense(1))\n",
    "\n",
    "model_2.summary()"
   ]
  },
  {
   "cell_type": "markdown",
   "metadata": {
    "id": "cLo0GvICp4iA"
   },
   "source": [
    "### (2) Model Compile"
   ]
  },
  {
   "cell_type": "code",
   "execution_count": 17,
   "metadata": {
    "executionInfo": {
     "elapsed": 529,
     "status": "ok",
     "timestamp": 1674694495342,
     "user": {
      "displayName": "이정구",
      "userId": "10412141110999311561"
     },
     "user_tz": -540
    },
    "id": "nKX3lA1SosIL"
   },
   "outputs": [],
   "source": [
    "model_2.compile(loss = 'mse', \n",
    "                optimizer = 'adam', \n",
    "                metrics = ['mae'])"
   ]
  },
  {
   "cell_type": "markdown",
   "metadata": {
    "id": "W72kWHErp7Mx"
   },
   "source": [
    "### (3) Model Fit"
   ]
  },
  {
   "cell_type": "code",
   "execution_count": 18,
   "metadata": {
    "executionInfo": {
     "elapsed": 5056,
     "status": "ok",
     "timestamp": 1674694500396,
     "user": {
      "displayName": "이정구",
      "userId": "10412141110999311561"
     },
     "user_tz": -540
    },
    "id": "1C9e6JlYoiUf"
   },
   "outputs": [],
   "source": [
    "Hist_2 = model_2.fit(X_train, y_train, \n",
    "                     epochs = 100,\n",
    "                     batch_size = 8,\n",
    "                     validation_data = (X_test, y_test), \n",
    "                     verbose = 0)"
   ]
  },
  {
   "cell_type": "markdown",
   "metadata": {
    "id": "vtUFTIb6p-vQ"
   },
   "source": [
    "### (4) Model Predict"
   ]
  },
  {
   "cell_type": "code",
   "execution_count": 19,
   "metadata": {
    "executionInfo": {
     "elapsed": 28,
     "status": "ok",
     "timestamp": 1674694500398,
     "user": {
      "displayName": "이정구",
      "userId": "10412141110999311561"
     },
     "user_tz": -540
    },
    "id": "P0PGQvJIov8o"
   },
   "outputs": [],
   "source": [
    "y_hat = model_2.predict(X_test, verbose = 0)"
   ]
  },
  {
   "cell_type": "markdown",
   "metadata": {
    "id": "EQmRmny1qCX_"
   },
   "source": [
    "### (5) 학습 결과 시각화\n",
    "\n",
    "* Loss 감소"
   ]
  },
  {
   "cell_type": "code",
   "execution_count": 20,
   "metadata": {
    "colab": {
     "base_uri": "https://localhost:8080/",
     "height": 265
    },
    "executionInfo": {
     "elapsed": 615,
     "status": "ok",
     "timestamp": 1674694500988,
     "user": {
      "displayName": "이정구",
      "userId": "10412141110999311561"
     },
     "user_tz": -540
    },
    "id": "I6KIURV8o1jt",
    "outputId": "7c861294-70c7-4679-a1bb-4cbe94fe3ace"
   },
   "outputs": [
    {
     "data": {
      "image/png": "[encoded data removed]",
      "text/plain": [
       "<Figure size 432x288 with 1 Axes>"
      ]
     },
     "metadata": {
      "needs_background": "light"
     },
     "output_type": "display_data"
    }
   ],
   "source": [
    "plt.plot(Hist_2.history['loss'])\n",
    "plt.show()"
   ]
  },
  {
   "cell_type": "markdown",
   "metadata": {
    "id": "G3R1LbLzqOjA"
   },
   "source": [
    "* 학습 진행\n",
    " * 녹색 -> 정답(y_test)\n",
    " * 적색 -> 예측(y_hat)"
   ]
  },
  {
   "cell_type": "code",
   "execution_count": 21,
   "metadata": {
    "colab": {
     "base_uri": "https://localhost:8080/",
     "height": 265
    },
    "executionInfo": {
     "elapsed": 67,
     "status": "ok",
     "timestamp": 1674694500988,
     "user": {
      "displayName": "이정구",
      "userId": "10412141110999311561"
     },
     "user_tz": -540
    },
    "id": "Aq_r-86kqIWb",
    "outputId": "e20c6cc0-948f-489f-f397-62a1b9fae2c2"
   },
   "outputs": [
    {
     "data": {
      "image/png": "[encoded data removed]",
      "text/plain": [
       "<Figure size 432x288 with 1 Axes>"
      ]
     },
     "metadata": {
      "needs_background": "light"
     },
     "output_type": "display_data"
    }
   ],
   "source": [
    "plt.scatter(range(20), y_test, c = 'g')\n",
    "plt.scatter(range(20), y_hat, c = 'r')\n",
    "plt.show()"
   ]
  },
  {
   "cell_type": "markdown",
   "metadata": {
    "id": "VJ7ijEqqgl6B"
   },
   "source": [
    "# III. Stacked_SimpleRNN\n",
    "- rnn + rnn..\n",
    "- stack으로 쌓을 때에는 다음 RNN의 인풋을 위해, 앞 RNN이 순환할 떄마다 출력을 해줘야함.\n",
    "- return_sequences = True"
   ]
  },
  {
   "cell_type": "markdown",
   "metadata": {
    "id": "oie2td6Ei-AO"
   },
   "source": [
    "> ## 1) Model Define & Summary\n",
    "\n",
    "* return_sequences = True"
   ]
  },
  {
   "cell_type": "code",
   "execution_count": 19,
   "metadata": {
    "colab": {
     "base_uri": "https://localhost:8080/"
    },
    "executionInfo": {
     "elapsed": 65,
     "status": "ok",
     "timestamp": 1674694500989,
     "user": {
      "displayName": "이정구",
      "userId": "10412141110999311561"
     },
     "user_tz": -540
    },
    "id": "MfbNXdNajxXa",
    "outputId": "c4730270-f1f9-42c0-f286-57b99948f453"
   },
   "outputs": [
    {
     "ename": "NameError",
     "evalue": "name 'models' is not defined",
     "output_type": "error",
     "traceback": [
      "\u001b[1;31m---------------------------------------------------------------------------\u001b[0m",
      "\u001b[1;31mNameError\u001b[0m                                 Traceback (most recent call last)",
      "Cell \u001b[1;32mIn [19], line 1\u001b[0m\n\u001b[1;32m----> 1\u001b[0m model_3 \u001b[38;5;241m=\u001b[39m \u001b[43mmodels\u001b[49m\u001b[38;5;241m.\u001b[39mSequential(name \u001b[38;5;241m=\u001b[39m \u001b[38;5;124m'\u001b[39m\u001b[38;5;124mStackd_RNN\u001b[39m\u001b[38;5;124m'\u001b[39m)\n\u001b[0;32m      2\u001b[0m model_3\u001b[38;5;241m.\u001b[39madd(layers\u001b[38;5;241m.\u001b[39mSimpleRNN(\u001b[38;5;241m3\u001b[39m,\n\u001b[0;32m      3\u001b[0m                              input_shape \u001b[38;5;241m=\u001b[39m (\u001b[38;5;28;01mNone\u001b[39;00m, \u001b[38;5;241m1\u001b[39m), \n\u001b[0;32m      4\u001b[0m                              return_sequences \u001b[38;5;241m=\u001b[39m \u001b[38;5;28;01mTrue\u001b[39;00m)) \u001b[38;5;66;03m#  5번 순환 할 때마다 아웃풋을 출력하겠다.\u001b[39;00m\n\u001b[0;32m      5\u001b[0m model_3\u001b[38;5;241m.\u001b[39madd(layers\u001b[38;5;241m.\u001b[39mSimpleRNN(\u001b[38;5;241m3\u001b[39m,\n\u001b[0;32m      6\u001b[0m                              input_shape \u001b[38;5;241m=\u001b[39m (\u001b[38;5;28;01mNone\u001b[39;00m, \u001b[38;5;241m1\u001b[39m),\n\u001b[0;32m      7\u001b[0m                              return_sequences \u001b[38;5;241m=\u001b[39m \u001b[38;5;28;01mFalse\u001b[39;00m)) \u001b[38;5;66;03m# 5번 순환 후 최종 아웃풋만 출력하겠다.\u001b[39;00m\n",
      "\u001b[1;31mNameError\u001b[0m: name 'models' is not defined"
     ]
    }
   ],
   "source": [
    "model_3 = models.Sequential(name = 'Stackd_RNN')\n",
    "model_3.add(layers.SimpleRNN(3,\n",
    "                             input_shape = (None, 1), \n",
    "                             return_sequences = True)) #  5번 순환 할 때마다 아웃풋을 출력하겠다.\n",
    "model_3.add(layers.SimpleRNN(3,\n",
    "                             input_shape = (None, 1),\n",
    "                             return_sequences = False)) # 5번 순환 후 최종 아웃풋만 출력하겠다.\n",
    "model_3.add(layers.Dense(1))\n",
    "\n",
    "model_3.summary()"
   ]
  },
  {
   "cell_type": "markdown",
   "metadata": {
    "id": "-Lfl3QLmjFSK"
   },
   "source": [
    "> ## 2) Model Compile"
   ]
  },
  {
   "cell_type": "code",
   "execution_count": 23,
   "metadata": {
    "executionInfo": {
     "elapsed": 43,
     "status": "ok",
     "timestamp": 1674694500989,
     "user": {
      "displayName": "이정구",
      "userId": "10412141110999311561"
     },
     "user_tz": -540
    },
    "id": "6J_FOg6_kZST"
   },
   "outputs": [],
   "source": [
    "model_3.compile(loss = 'mse', \n",
    "                optimizer = 'adam', \n",
    "                metrics = ['mae'])"
   ]
  },
  {
   "cell_type": "markdown",
   "metadata": {
    "id": "hpGna-L2jJE-"
   },
   "source": [
    "> ## 3) Model Fit"
   ]
  },
  {
   "cell_type": "code",
   "execution_count": 24,
   "metadata": {
    "executionInfo": {
     "elapsed": 11464,
     "status": "ok",
     "timestamp": 1674694512410,
     "user": {
      "displayName": "이정구",
      "userId": "10412141110999311561"
     },
     "user_tz": -540
    },
    "id": "5qI-xcEkkal5"
   },
   "outputs": [],
   "source": [
    "Hist_3 = model_3.fit(X_train, y_train, \n",
    "                     epochs = 100,\n",
    "                     batch_size = 8,\n",
    "                     validation_data = (X_test, y_test), \n",
    "                     verbose = 0)"
   ]
  },
  {
   "cell_type": "markdown",
   "metadata": {
    "id": "93mMvgRHjN77"
   },
   "source": [
    "> ## 4) Model Predict"
   ]
  },
  {
   "cell_type": "code",
   "execution_count": 25,
   "metadata": {
    "executionInfo": {
     "elapsed": 646,
     "status": "ok",
     "timestamp": 1674694513041,
     "user": {
      "displayName": "이정구",
      "userId": "10412141110999311561"
     },
     "user_tz": -540
    },
    "id": "IuzyIFm7jbBN"
   },
   "outputs": [],
   "source": [
    "y_hat = model_3.predict(X_test, verbose = 0)"
   ]
  },
  {
   "cell_type": "markdown",
   "metadata": {
    "id": "yxAPoF1sjf9P"
   },
   "source": [
    "> ## 5) 학습 결과 시각화"
   ]
  },
  {
   "cell_type": "code",
   "execution_count": 26,
   "metadata": {
    "colab": {
     "base_uri": "https://localhost:8080/",
     "height": 265
    },
    "executionInfo": {
     "elapsed": 21,
     "status": "ok",
     "timestamp": 1674694513042,
     "user": {
      "displayName": "이정구",
      "userId": "10412141110999311561"
     },
     "user_tz": -540
    },
    "id": "W2a8Lq6fk_Oc",
    "outputId": "46ff34b8-2440-43e6-c7c9-c9ad2655f6a7"
   },
   "outputs": [
    {
     "data": {
      "image/png": "[encoded data removed]",
      "text/plain": [
       "<Figure size 432x288 with 1 Axes>"
      ]
     },
     "metadata": {
      "needs_background": "light"
     },
     "output_type": "display_data"
    }
   ],
   "source": [
    "plt.plot(Hist_3.history['loss'])\n",
    "plt.show()"
   ]
  },
  {
   "cell_type": "code",
   "execution_count": 27,
   "metadata": {
    "colab": {
     "base_uri": "https://localhost:8080/",
     "height": 265
    },
    "executionInfo": {
     "elapsed": 25,
     "status": "ok",
     "timestamp": 1674694513047,
     "user": {
      "displayName": "이정구",
      "userId": "10412141110999311561"
     },
     "user_tz": -540
    },
    "id": "q9QNepCBkkLn",
    "outputId": "3df63d9b-9893-43d2-8f80-0bc73591f4eb"
   },
   "outputs": [
    {
     "data": {
      "image/png": "[encoded data removed]",
      "text/plain": [
       "<Figure size 432x288 with 1 Axes>"
      ]
     },
     "metadata": {
      "needs_background": "light"
     },
     "output_type": "display_data"
    }
   ],
   "source": [
    "plt.scatter(range(20), y_test, c = 'g')\n",
    "plt.scatter(range(20), y_hat, c = 'r')\n",
    "plt.show()"
   ]
  },
  {
   "cell_type": "markdown",
   "metadata": {
    "id": "G2M60R98ZZPn"
   },
   "source": [
    "# IV. '<font color = 'red'>return_sequences</font>' Output_Options\n",
    "\n",
    "* '<font color = 'red'>input_length</font>'에 대한 Sequance 전체를 출력할지 설정\n",
    " - Sequence: Hidden State\n",
    " - 'False' vs. 'True'"
   ]
  },
  {
   "cell_type": "markdown",
   "metadata": {
    "id": "mprXXUoywT0X"
   },
   "source": [
    "> ## 1) 실습데이터 생성"
   ]
  },
  {
   "cell_type": "code",
   "execution_count": 41,
   "metadata": {
    "executionInfo": {
     "elapsed": 1,
     "status": "ok",
     "timestamp": 1674694582397,
     "user": {
      "displayName": "이정구",
      "userId": "10412141110999311561"
     },
     "user_tz": -540
    },
    "id": "uLLYxQske_ZT"
   },
   "outputs": [],
   "source": [
    "X = [[[i + j] for i in range(5)] for j in range(100)]\n",
    "y = [i + 5 for i in range(100)]"
   ]
  },
  {
   "cell_type": "code",
   "execution_count": 42,
   "metadata": {
    "executionInfo": {
     "elapsed": 6,
     "status": "ok",
     "timestamp": 1674694582752,
     "user": {
      "displayName": "이정구",
      "userId": "10412141110999311561"
     },
     "user_tz": -540
    },
    "id": "u2n8GAQufLxo"
   },
   "outputs": [],
   "source": [
    "X = np.array(X, dtype = float)\n",
    "y = np.array(y, dtype = float)"
   ]
  },
  {
   "cell_type": "code",
   "execution_count": 43,
   "metadata": {
    "colab": {
     "base_uri": "https://localhost:8080/"
    },
    "executionInfo": {
     "elapsed": 6,
     "status": "ok",
     "timestamp": 1674694582752,
     "user": {
      "displayName": "이정구",
      "userId": "10412141110999311561"
     },
     "user_tz": -540
    },
    "id": "qhMKmZsifTCT",
    "outputId": "e92761b9-4c45-4105-a27d-3566ef235dc2"
   },
   "outputs": [
    {
     "data": {
      "text/plain": [
       "((80, 5, 1), (80,), (20, 5, 1), (20,))"
      ]
     },
     "execution_count": 43,
     "metadata": {},
     "output_type": "execute_result"
    }
   ],
   "source": [
    "X_train, X_test, y_train, y_test = train_test_split(X, y, \n",
    "                                                    test_size = 0.2, \n",
    "                                                    random_state = 2045)\n",
    "\n",
    "X_train.shape, y_train.shape, X_test.shape, y_test.shape"
   ]
  },
  {
   "cell_type": "markdown",
   "metadata": {
    "id": "xCmEpsb_4PWF"
   },
   "source": [
    "> ## 2) 테스트용 Input Data"
   ]
  },
  {
   "cell_type": "code",
   "execution_count": 44,
   "metadata": {
    "colab": {
     "base_uri": "https://localhost:8080/"
    },
    "executionInfo": {
     "elapsed": 6,
     "status": "ok",
     "timestamp": 1674694582753,
     "user": {
      "displayName": "이정구",
      "userId": "10412141110999311561"
     },
     "user_tz": -540
    },
    "id": "iQR77PFbhMTA",
    "outputId": "44b455bc-a5b9-4cee-aa81-bba721c7da83"
   },
   "outputs": [
    {
     "data": {
      "text/plain": [
       "array([[[29.],\n",
       "        [30.],\n",
       "        [31.],\n",
       "        [32.],\n",
       "        [33.]]])"
      ]
     },
     "execution_count": 44,
     "metadata": {},
     "output_type": "execute_result"
    }
   ],
   "source": [
    "X_test[0].reshape(1, 5, 1)"
   ]
  },
  {
   "cell_type": "markdown",
   "metadata": {
    "id": "CIeeaylpfVKG"
   },
   "source": [
    "> ## 3) <font color = 'blue'>False</font>_Option\n",
    "\n",
    "* 마지막 Output만 출력\n",
    " * <font color = 'red'>Unit -> 1"
   ]
  },
  {
   "cell_type": "code",
   "execution_count": 45,
   "metadata": {
    "executionInfo": {
     "elapsed": 4,
     "status": "ok",
     "timestamp": 1674694582753,
     "user": {
      "displayName": "이정구",
      "userId": "10412141110999311561"
     },
     "user_tz": -540
    },
    "id": "dePbSccIfUEh"
   },
   "outputs": [],
   "source": [
    "Model_False = models.Sequential()\n",
    "Model_False.add(layers.SimpleRNN(1,\n",
    "                                 input_shape = (5, 1), \n",
    "                                 return_sequences = False))\n",
    "\n",
    "Model_False.compile(loss = 'mse',\n",
    "                    optimizer = 'adam',\n",
    "                    metrics = ['mae'])"
   ]
  },
  {
   "cell_type": "markdown",
   "metadata": {
    "id": "M3JmxoY1k-dw"
   },
   "source": [
    "* <font color = 'red'>Output 1개"
   ]
  },
  {
   "cell_type": "code",
   "execution_count": 46,
   "metadata": {
    "colab": {
     "base_uri": "https://localhost:8080/"
    },
    "executionInfo": {
     "elapsed": 8,
     "status": "ok",
     "timestamp": 1674694583206,
     "user": {
      "displayName": "이정구",
      "userId": "10412141110999311561"
     },
     "user_tz": -540
    },
    "id": "-czneGosjJVh",
    "outputId": "dc567120-b723-4547-e1f0-8af3ac57f00f"
   },
   "outputs": [
    {
     "data": {
      "text/plain": [
       "array([[-1.]], dtype=float32)"
      ]
     },
     "execution_count": 46,
     "metadata": {},
     "output_type": "execute_result"
    }
   ],
   "source": [
    "Model_False.predict(X_test[0].reshape(1, 5, 1), verbose = 0)"
   ]
  },
  {
   "cell_type": "markdown",
   "metadata": {
    "id": "o2ovVPe0gUFw"
   },
   "source": [
    "* 마지막 Output만 출력\n",
    " * <font color = 'red'>Unit -> 3"
   ]
  },
  {
   "cell_type": "code",
   "execution_count": 47,
   "metadata": {
    "executionInfo": {
     "elapsed": 6,
     "status": "ok",
     "timestamp": 1674694583207,
     "user": {
      "displayName": "이정구",
      "userId": "10412141110999311561"
     },
     "user_tz": -540
    },
    "id": "JNnQiubCgPF6"
   },
   "outputs": [],
   "source": [
    "Model_False = models.Sequential()\n",
    "Model_False.add(layers.SimpleRNN(3,\n",
    "                                 input_shape = (5, 1), \n",
    "                                 return_sequences = False))\n",
    "\n",
    "Model_False.compile(loss = 'mse',\n",
    "                    optimizer = 'adam',\n",
    "                    metrics = ['mae'])"
   ]
  },
  {
   "cell_type": "markdown",
   "metadata": {
    "id": "hTwtSxGolRwa"
   },
   "source": [
    "* <font color = 'red'>Output 1개(3개 Unit)"
   ]
  },
  {
   "cell_type": "code",
   "execution_count": 48,
   "metadata": {
    "colab": {
     "base_uri": "https://localhost:8080/"
    },
    "executionInfo": {
     "elapsed": 459,
     "status": "ok",
     "timestamp": 1674694583660,
     "user": {
      "displayName": "이정구",
      "userId": "10412141110999311561"
     },
     "user_tz": -540
    },
    "id": "--eBUtESgReA",
    "outputId": "d43807c4-3abe-4b4c-b80b-9831a82d6619"
   },
   "outputs": [
    {
     "data": {
      "text/plain": [
       "array([[-1., -1., -1.]], dtype=float32)"
      ]
     },
     "execution_count": 48,
     "metadata": {},
     "output_type": "execute_result"
    }
   ],
   "source": [
    "Model_False.predict(X_test[0].reshape(1, 5, 1), verbose = 0)"
   ]
  },
  {
   "cell_type": "markdown",
   "metadata": {
    "id": "zKTm2w-8hef7"
   },
   "source": [
    "> ## 4) <font color = 'blue'>True</font>_Option\n",
    "\n",
    "* 매 순환마다 Output 출력\n",
    " * Unit -> 1\n",
    " * <font color = 'red'>input_length -> 5"
   ]
  },
  {
   "cell_type": "code",
   "execution_count": 49,
   "metadata": {
    "executionInfo": {
     "elapsed": 10,
     "status": "ok",
     "timestamp": 1674694583660,
     "user": {
      "displayName": "이정구",
      "userId": "10412141110999311561"
     },
     "user_tz": -540
    },
    "id": "U7UHNzHthj0T"
   },
   "outputs": [],
   "source": [
    "Model_True = models.Sequential()\n",
    "Model_True.add(layers.SimpleRNN(1,\n",
    "                                input_shape = (5, 1), \n",
    "                                return_sequences = True))\n",
    "\n",
    "Model_True.compile(loss = 'mse',\n",
    "                   optimizer = 'adam',\n",
    "                   metrics = ['mae'])"
   ]
  },
  {
   "cell_type": "markdown",
   "metadata": {
    "id": "dm09WrQUld-e"
   },
   "source": [
    "* <font color = 'red'>Output 5개(Hidden State)"
   ]
  },
  {
   "cell_type": "code",
   "execution_count": 50,
   "metadata": {
    "colab": {
     "base_uri": "https://localhost:8080/"
    },
    "executionInfo": {
     "elapsed": 11,
     "status": "ok",
     "timestamp": 1674694583661,
     "user": {
      "displayName": "이정구",
      "userId": "10412141110999311561"
     },
     "user_tz": -540
    },
    "id": "6iZqeMYikZWz",
    "outputId": "ce3c40a6-832d-4a6a-fe85-54ac2f60756e"
   },
   "outputs": [
    {
     "data": {
      "text/plain": [
       "array([[[-1.],\n",
       "        [-1.],\n",
       "        [-1.],\n",
       "        [-1.],\n",
       "        [-1.]]], dtype=float32)"
      ]
     },
     "execution_count": 50,
     "metadata": {},
     "output_type": "execute_result"
    }
   ],
   "source": [
    "Model_True.predict(X_test[0].reshape(1, 5, 1), verbose = 0)"
   ]
  },
  {
   "cell_type": "markdown",
   "metadata": {
    "id": "tRRkCzOfgxLo"
   },
   "source": [
    "* 매 순환마다 Output만 출력\n",
    " * Unit -> 3\n",
    " * <font color = 'red'>input_length -> 5"
   ]
  },
  {
   "cell_type": "code",
   "execution_count": 51,
   "metadata": {
    "executionInfo": {
     "elapsed": 10,
     "status": "ok",
     "timestamp": 1674694583661,
     "user": {
      "displayName": "이정구",
      "userId": "10412141110999311561"
     },
     "user_tz": -540
    },
    "id": "gXC1HDTeg2xJ"
   },
   "outputs": [],
   "source": [
    "Model_True = models.Sequential()\n",
    "Model_True.add(layers.SimpleRNN(3,\n",
    "                                input_shape = (5, 1), \n",
    "                                return_sequences = True))\n",
    "\n",
    "Model_True.compile(loss = 'mse',\n",
    "                   optimizer = 'adam',\n",
    "                   metrics = ['mae'])"
   ]
  },
  {
   "cell_type": "markdown",
   "metadata": {
    "id": "_5Ep5rQBlwl5"
   },
   "source": [
    "* <font color = 'red'>Output 5개(Hidden State)"
   ]
  },
  {
   "cell_type": "code",
   "execution_count": 52,
   "metadata": {
    "colab": {
     "base_uri": "https://localhost:8080/"
    },
    "executionInfo": {
     "elapsed": 524,
     "status": "ok",
     "timestamp": 1674694584176,
     "user": {
      "displayName": "이정구",
      "userId": "10412141110999311561"
     },
     "user_tz": -540
    },
    "id": "GX529sG0g9uj",
    "outputId": "08da2518-88ca-4fa0-fbc5-d4ad112c5cd6"
   },
   "outputs": [
    {
     "data": {
      "text/plain": [
       "array([[[ 1., -1., -1.],\n",
       "        [ 1., -1., -1.],\n",
       "        [ 1., -1., -1.],\n",
       "        [ 1., -1., -1.],\n",
       "        [ 1., -1., -1.]]], dtype=float32)"
      ]
     },
     "execution_count": 52,
     "metadata": {},
     "output_type": "execute_result"
    }
   ],
   "source": [
    "Model_True.predict(X_test[0].reshape(1, 5, 1), verbose = 0)"
   ]
  },
  {
   "cell_type": "markdown",
   "metadata": {
    "id": "yUHpTohzaVYl"
   },
   "source": [
    "# \n",
    "# \n",
    "# \n",
    "# The End\n",
    "# \n",
    "# \n",
    "# "
   ]
  }
 ],
 "metadata": {
  "colab": {
   "provenance": []
  },
  "kernelspec": {
   "display_name": "Python 3 (ipykernel)",
   "language": "python",
   "name": "python3"
  },
  "language_info": {
   "codemirror_mode": {
    "name": "ipython",
    "version": 3
   },
   "file_extension": ".py",
   "mimetype": "text/x-python",
   "name": "python",
   "nbconvert_exporter": "python",
   "pygments_lexer": "ipython3",
   "version": "3.10.8"
  },
  "toc": {
   "base_numbering": 1,
   "nav_menu": {},
   "number_sections": true,
   "sideBar": true,
   "skip_h1_title": false,
   "title_cell": "Table of Contents",
   "title_sidebar": "Contents",
   "toc_cell": false,
   "toc_position": {},
   "toc_section_display": true,
   "toc_window_display": false
  }
 },
 "nbformat": 4,
 "nbformat_minor": 1
}
