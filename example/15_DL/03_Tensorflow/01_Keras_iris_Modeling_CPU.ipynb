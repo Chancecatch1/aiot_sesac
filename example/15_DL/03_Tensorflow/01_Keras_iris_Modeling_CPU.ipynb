{
 "cells": [
  {
   "cell_type": "markdown",
   "metadata": {
    "id": "RMLHu3RZ5lWK"
   },
   "source": [
    "# Keras iris Modeling"
   ]
  },
  {
   "cell_type": "code",
   "execution_count": 1,
   "metadata": {
    "executionInfo": {
     "elapsed": 19,
     "status": "ok",
     "timestamp": 1673400502205,
     "user": {
      "displayName": "이정구",
      "userId": "17400242557229223804"
     },
     "user_tz": -540
    },
    "id": "RbPgODpVzdHI"
   },
   "outputs": [],
   "source": [
    "import warnings\n",
    "warnings.filterwarnings('ignore')"
   ]
  },
  {
   "cell_type": "markdown",
   "metadata": {
    "id": "Z0vCjo566DU3"
   },
   "source": [
    "> ## 1) 실습용 데이터 설정\n",
    "\n",
    "* iris.csv"
   ]
  },
  {
   "cell_type": "code",
   "execution_count": 2,
   "metadata": {
    "executionInfo": {
     "elapsed": 3187,
     "status": "ok",
     "timestamp": 1673400505376,
     "user": {
      "displayName": "이정구",
      "userId": "17400242557229223804"
     },
     "user_tz": -540
    },
    "id": "LfEBY4JwDS1i"
   },
   "outputs": [],
   "source": [
    "import seaborn as sns\n",
    "\n",
    "iris = sns.load_dataset('iris')"
   ]
  },
  {
   "cell_type": "markdown",
   "metadata": {
    "id": "_2m1joqE6eEq"
   },
   "source": [
    "* pandas DataFrame"
   ]
  },
  {
   "cell_type": "code",
   "execution_count": 3,
   "metadata": {
    "colab": {
     "base_uri": "https://localhost:8080/"
    },
    "executionInfo": {
     "elapsed": 14,
     "status": "ok",
     "timestamp": 1673400505376,
     "user": {
      "displayName": "이정구",
      "userId": "17400242557229223804"
     },
     "user_tz": -540
    },
    "id": "F6MvmhtB53CS",
    "outputId": "c9c76179-369c-4d62-caed-a0d844976412"
   },
   "outputs": [
    {
     "name": "stdout",
     "output_type": "stream",
     "text": [
      "<class 'pandas.core.frame.DataFrame'>\n",
      "RangeIndex: 150 entries, 0 to 149\n",
      "Data columns (total 5 columns):\n",
      " #   Column        Non-Null Count  Dtype  \n",
      "---  ------        --------------  -----  \n",
      " 0   sepal_length  150 non-null    float64\n",
      " 1   sepal_width   150 non-null    float64\n",
      " 2   petal_length  150 non-null    float64\n",
      " 3   petal_width   150 non-null    float64\n",
      " 4   species       150 non-null    object \n",
      "dtypes: float64(4), object(1)\n",
      "memory usage: 6.0+ KB\n"
     ]
    }
   ],
   "source": [
    "iris.info()"
   ]
  },
  {
   "cell_type": "code",
   "execution_count": 4,
   "metadata": {
    "colab": {
     "base_uri": "https://localhost:8080/",
     "height": 143
    },
    "executionInfo": {
     "elapsed": 10,
     "status": "ok",
     "timestamp": 1673400505377,
     "user": {
      "displayName": "이정구",
      "userId": "17400242557229223804"
     },
     "user_tz": -540
    },
    "id": "7l2ojjz_D39D",
    "outputId": "12d29ff6-8f2a-451e-8a6c-bf324aebd58d"
   },
   "outputs": [
    {
     "data": {
      "text/html": [
       "\n",
       "  <div id=\"df-b0e1571f-bb65-4ed8-8bac-9f5ace91c066\">\n",
       "    <div class=\"colab-df-container\">\n",
       "      <div>\n",
       "<style scoped>\n",
       "    .dataframe tbody tr th:only-of-type {\n",
       "        vertical-align: middle;\n",
       "    }\n",
       "\n",
       "    .dataframe tbody tr th {\n",
       "        vertical-align: top;\n",
       "    }\n",
       "\n",
       "    .dataframe thead th {\n",
       "        text-align: right;\n",
       "    }\n",
       "</style>\n",
       "<table border=\"1\" class=\"dataframe\">\n",
       "  <thead>\n",
       "    <tr style=\"text-align: right;\">\n",
       "      <th></th>\n",
       "      <th>sepal_length</th>\n",
       "      <th>sepal_width</th>\n",
       "      <th>petal_length</th>\n",
       "      <th>petal_width</th>\n",
       "      <th>species</th>\n",
       "    </tr>\n",
       "  </thead>\n",
       "  <tbody>\n",
       "    <tr>\n",
       "      <th>0</th>\n",
       "      <td>5.1</td>\n",
       "      <td>3.5</td>\n",
       "      <td>1.4</td>\n",
       "      <td>0.2</td>\n",
       "      <td>setosa</td>\n",
       "    </tr>\n",
       "    <tr>\n",
       "      <th>1</th>\n",
       "      <td>4.9</td>\n",
       "      <td>3.0</td>\n",
       "      <td>1.4</td>\n",
       "      <td>0.2</td>\n",
       "      <td>setosa</td>\n",
       "    </tr>\n",
       "    <tr>\n",
       "      <th>2</th>\n",
       "      <td>4.7</td>\n",
       "      <td>3.2</td>\n",
       "      <td>1.3</td>\n",
       "      <td>0.2</td>\n",
       "      <td>setosa</td>\n",
       "    </tr>\n",
       "  </tbody>\n",
       "</table>\n",
       "</div>\n",
       "      <button class=\"colab-df-convert\" onclick=\"convertToInteractive('df-b0e1571f-bb65-4ed8-8bac-9f5ace91c066')\"\n",
       "              title=\"Convert this dataframe to an interactive table.\"\n",
       "              style=\"display:none;\">\n",
       "        \n",
       "  <svg xmlns=\"http://www.w3.org/2000/svg\" height=\"24px\"viewBox=\"0 0 24 24\"\n",
       "       width=\"24px\">\n",
       "    <path d=\"M0 0h24v24H0V0z\" fill=\"none\"/>\n",
       "    <path d=\"M18.56 5.44l.94 2.06.94-2.06 2.06-.94-2.06-.94-.94-2.06-.94 2.06-2.06.94zm-11 1L8.5 8.5l.94-2.06 2.06-.94-2.06-.94L8.5 2.5l-.94 2.06-2.06.94zm10 10l.94 2.06.94-2.06 2.06-.94-2.06-.94-.94-2.06-.94 2.06-2.06.94z\"/><path d=\"M17.41 7.96l-1.37-1.37c-.4-.4-.92-.59-1.43-.59-.52 0-1.04.2-1.43.59L10.3 9.45l-7.72 7.72c-.78.78-.78 2.05 0 2.83L4 21.41c.39.39.9.59 1.41.59.51 0 1.02-.2 1.41-.59l7.78-7.78 2.81-2.81c.8-.78.8-2.07 0-2.86zM5.41 20L4 18.59l7.72-7.72 1.47 1.35L5.41 20z\"/>\n",
       "  </svg>\n",
       "      </button>\n",
       "      \n",
       "  <style>\n",
       "    .colab-df-container {\n",
       "      display:flex;\n",
       "      flex-wrap:wrap;\n",
       "      gap: 12px;\n",
       "    }\n",
       "\n",
       "    .colab-df-convert {\n",
       "      background-color: #E8F0FE;\n",
       "      border: none;\n",
       "      border-radius: 50%;\n",
       "      cursor: pointer;\n",
       "      display: none;\n",
       "      fill: #1967D2;\n",
       "      height: 32px;\n",
       "      padding: 0 0 0 0;\n",
       "      width: 32px;\n",
       "    }\n",
       "\n",
       "    .colab-df-convert:hover {\n",
       "      background-color: #E2EBFA;\n",
       "      box-shadow: 0px 1px 2px rgba(60, 64, 67, 0.3), 0px 1px 3px 1px rgba(60, 64, 67, 0.15);\n",
       "      fill: #174EA6;\n",
       "    }\n",
       "\n",
       "    [theme=dark] .colab-df-convert {\n",
       "      background-color: #3B4455;\n",
       "      fill: #D2E3FC;\n",
       "    }\n",
       "\n",
       "    [theme=dark] .colab-df-convert:hover {\n",
       "      background-color: #434B5C;\n",
       "      box-shadow: 0px 1px 3px 1px rgba(0, 0, 0, 0.15);\n",
       "      filter: drop-shadow(0px 1px 2px rgba(0, 0, 0, 0.3));\n",
       "      fill: #FFFFFF;\n",
       "    }\n",
       "  </style>\n",
       "\n",
       "      <script>\n",
       "        const buttonEl =\n",
       "          document.querySelector('#df-b0e1571f-bb65-4ed8-8bac-9f5ace91c066 button.colab-df-convert');\n",
       "        buttonEl.style.display =\n",
       "          google.colab.kernel.accessAllowed ? 'block' : 'none';\n",
       "\n",
       "        async function convertToInteractive(key) {\n",
       "          const element = document.querySelector('#df-b0e1571f-bb65-4ed8-8bac-9f5ace91c066');\n",
       "          const dataTable =\n",
       "            await google.colab.kernel.invokeFunction('convertToInteractive',\n",
       "                                                     [key], {});\n",
       "          if (!dataTable) return;\n",
       "\n",
       "          const docLinkHtml = 'Like what you see? Visit the ' +\n",
       "            '<a target=\"_blank\" href=https://colab.research.google.com/notebooks/data_table.ipynb>data table notebook</a>'\n",
       "            + ' to learn more about interactive tables.';\n",
       "          element.innerHTML = '';\n",
       "          dataTable['output_type'] = 'display_data';\n",
       "          await google.colab.output.renderOutput(dataTable, element);\n",
       "          const docLink = document.createElement('div');\n",
       "          docLink.innerHTML = docLinkHtml;\n",
       "          element.appendChild(docLink);\n",
       "        }\n",
       "      </script>\n",
       "    </div>\n",
       "  </div>\n",
       "  "
      ],
      "text/plain": [
       "   sepal_length  sepal_width  petal_length  petal_width species\n",
       "0           5.1          3.5           1.4          0.2  setosa\n",
       "1           4.9          3.0           1.4          0.2  setosa\n",
       "2           4.7          3.2           1.3          0.2  setosa"
      ]
     },
     "execution_count": 4,
     "metadata": {},
     "output_type": "execute_result"
    }
   ],
   "source": [
    "iris.head(3)"
   ]
  },
  {
   "cell_type": "markdown",
   "metadata": {
    "id": "I2Forf0oXF8c"
   },
   "source": [
    "> ## 2) Version check"
   ]
  },
  {
   "cell_type": "markdown",
   "metadata": {
    "id": "uPaHtu9NOYaX"
   },
   "source": [
    "* TensorFlow Version"
   ]
  },
  {
   "cell_type": "code",
   "execution_count": 5,
   "metadata": {
    "colab": {
     "base_uri": "https://localhost:8080/",
     "height": 35
    },
    "executionInfo": {
     "elapsed": 4296,
     "status": "ok",
     "timestamp": 1673400509664,
     "user": {
      "displayName": "이정구",
      "userId": "17400242557229223804"
     },
     "user_tz": -540
    },
    "id": "X6xKtsfgOTso",
    "outputId": "cd1e9f88-0704-4924-9d3a-d4519e5501f4"
   },
   "outputs": [
    {
     "data": {
      "application/vnd.google.colaboratory.intrinsic+json": {
       "type": "string"
      },
      "text/plain": [
       "'2.9.2'"
      ]
     },
     "execution_count": 5,
     "metadata": {},
     "output_type": "execute_result"
    }
   ],
   "source": [
    "import tensorflow\n",
    "\n",
    "tensorflow.__version__"
   ]
  },
  {
   "cell_type": "markdown",
   "metadata": {
    "id": "Ydu4ux7dOm2N"
   },
   "source": [
    "* Keras Version"
   ]
  },
  {
   "cell_type": "code",
   "execution_count": 6,
   "metadata": {
    "colab": {
     "base_uri": "https://localhost:8080/",
     "height": 35
    },
    "executionInfo": {
     "elapsed": 31,
     "status": "ok",
     "timestamp": 1673400509666,
     "user": {
      "displayName": "이정구",
      "userId": "17400242557229223804"
     },
     "user_tz": -540
    },
    "id": "zhMz9QSBOjTK",
    "outputId": "f2e94db4-4dff-46ce-a9fa-4e2be29765de"
   },
   "outputs": [
    {
     "data": {
      "application/vnd.google.colaboratory.intrinsic+json": {
       "type": "string"
      },
      "text/plain": [
       "'2.9.0'"
      ]
     },
     "execution_count": 6,
     "metadata": {},
     "output_type": "execute_result"
    }
   ],
   "source": [
    "import keras\n",
    "\n",
    "keras.__version__"
   ]
  },
  {
   "cell_type": "markdown",
   "metadata": {
    "id": "0a9zRCoM6iHg"
   },
   "source": [
    "# I. Data Preprocessing"
   ]
  },
  {
   "cell_type": "markdown",
   "metadata": {
    "id": "WIq-NRIq659b"
   },
   "source": [
    "> ## 1) iris.Species 빈도분석"
   ]
  },
  {
   "cell_type": "markdown",
   "metadata": {
    "id": "sg3g1ycL0bj_"
   },
   "source": [
    "* Species : setosa, versicolor, virginica"
   ]
  },
  {
   "cell_type": "code",
   "execution_count": 7,
   "metadata": {
    "colab": {
     "base_uri": "https://localhost:8080/"
    },
    "executionInfo": {
     "elapsed": 28,
     "status": "ok",
     "timestamp": 1673400509666,
     "user": {
      "displayName": "이정구",
      "userId": "17400242557229223804"
     },
     "user_tz": -540
    },
    "id": "Ccv6L9LX6mBD",
    "outputId": "dd67eba7-840c-437e-88c6-38f4e1c6f919"
   },
   "outputs": [
    {
     "data": {
      "text/plain": [
       "setosa        50\n",
       "versicolor    50\n",
       "virginica     50\n",
       "Name: species, dtype: int64"
      ]
     },
     "execution_count": 7,
     "metadata": {},
     "output_type": "execute_result"
    }
   ],
   "source": [
    "iris.species.value_counts()"
   ]
  },
  {
   "cell_type": "markdown",
   "metadata": {
    "id": "JrKQmY9s7WzT"
   },
   "source": [
    "> ## 2) 분석 변수 선택\n",
    "\n",
    "* X: 'sepal_length', 'sepal_width', 'petal_length', 'petal_width'\n",
    "* y: 'species'"
   ]
  },
  {
   "cell_type": "code",
   "execution_count": 8,
   "metadata": {
    "colab": {
     "base_uri": "https://localhost:8080/"
    },
    "executionInfo": {
     "elapsed": 23,
     "status": "ok",
     "timestamp": 1673400509667,
     "user": {
      "displayName": "이정구",
      "userId": "17400242557229223804"
     },
     "user_tz": -540
    },
    "id": "tPJYM6B3Y64I",
    "outputId": "21f014de-19ee-4f40-9480-a11f343ff967"
   },
   "outputs": [
    {
     "data": {
      "text/plain": [
       "((150, 4), (150,))"
      ]
     },
     "execution_count": 8,
     "metadata": {},
     "output_type": "execute_result"
    }
   ],
   "source": [
    "X = iris[['sepal_length', 'sepal_width', 'petal_length', 'petal_width']]\n",
    "y = iris['species']\n",
    "\n",
    "X.shape, y.shape"
   ]
  },
  {
   "cell_type": "markdown",
   "metadata": {
    "id": "lUx516tc8E6Q"
   },
   "source": [
    "> ## 3) One Hot Encoding with sklearn & Keras"
   ]
  },
  {
   "cell_type": "markdown",
   "metadata": {
    "id": "9lm5fWHmIgOd"
   },
   "source": [
    "* LabelEncoder( )\n",
    " - ['setosa', 'versicolor', 'virginica'] to [0, 1, 2]"
   ]
  },
  {
   "cell_type": "code",
   "execution_count": 9,
   "metadata": {
    "colab": {
     "base_uri": "https://localhost:8080/"
    },
    "executionInfo": {
     "elapsed": 445,
     "status": "ok",
     "timestamp": 1673400510093,
     "user": {
      "displayName": "이정구",
      "userId": "17400242557229223804"
     },
     "user_tz": -540
    },
    "id": "iFhNzeIMbXyV",
    "outputId": "f2589627-0487-40c2-961b-b3087dad9a10"
   },
   "outputs": [
    {
     "data": {
      "text/plain": [
       "array([0, 0, 0, 0, 0, 0, 0, 0, 0, 0, 0, 0, 0, 0, 0, 0, 0, 0, 0, 0, 0, 0,\n",
       "       0, 0, 0, 0, 0, 0, 0, 0, 0, 0, 0, 0, 0, 0, 0, 0, 0, 0, 0, 0, 0, 0,\n",
       "       0, 0, 0, 0, 0, 0, 1, 1, 1, 1, 1, 1, 1, 1, 1, 1, 1, 1, 1, 1, 1, 1,\n",
       "       1, 1, 1, 1, 1, 1, 1, 1, 1, 1, 1, 1, 1, 1, 1, 1, 1, 1, 1, 1, 1, 1,\n",
       "       1, 1, 1, 1, 1, 1, 1, 1, 1, 1, 1, 1, 2, 2, 2, 2, 2, 2, 2, 2, 2, 2,\n",
       "       2, 2, 2, 2, 2, 2, 2, 2, 2, 2, 2, 2, 2, 2, 2, 2, 2, 2, 2, 2, 2, 2,\n",
       "       2, 2, 2, 2, 2, 2, 2, 2, 2, 2, 2, 2, 2, 2, 2, 2, 2, 2])"
      ]
     },
     "execution_count": 9,
     "metadata": {},
     "output_type": "execute_result"
    }
   ],
   "source": [
    "from sklearn.preprocessing import LabelEncoder\n",
    "\n",
    "encoder =  LabelEncoder()\n",
    "LBE_y = encoder.fit_transform(y)\n",
    "\n",
    "LBE_y"
   ]
  },
  {
   "cell_type": "markdown",
   "metadata": {
    "id": "k7LEIdH3JAtw"
   },
   "source": [
    "* One-Hot Encoding - to_categorical( )"
   ]
  },
  {
   "cell_type": "code",
   "execution_count": 10,
   "metadata": {
    "colab": {
     "base_uri": "https://localhost:8080/"
    },
    "executionInfo": {
     "elapsed": 17,
     "status": "ok",
     "timestamp": 1673400510095,
     "user": {
      "displayName": "이정구",
      "userId": "17400242557229223804"
     },
     "user_tz": -540
    },
    "id": "hxdLQPuuZQ13",
    "outputId": "9b03f6d6-1ba0-4102-e37b-5b652bc572d2"
   },
   "outputs": [
    {
     "data": {
      "text/plain": [
       "array([[1., 0., 0.],\n",
       "       [1., 0., 0.],\n",
       "       [1., 0., 0.],\n",
       "       [1., 0., 0.],\n",
       "       [1., 0., 0.],\n",
       "       [1., 0., 0.],\n",
       "       [1., 0., 0.],\n",
       "       [1., 0., 0.],\n",
       "       [1., 0., 0.],\n",
       "       [1., 0., 0.],\n",
       "       [1., 0., 0.],\n",
       "       [1., 0., 0.],\n",
       "       [1., 0., 0.],\n",
       "       [1., 0., 0.],\n",
       "       [1., 0., 0.],\n",
       "       [1., 0., 0.],\n",
       "       [1., 0., 0.],\n",
       "       [1., 0., 0.],\n",
       "       [1., 0., 0.],\n",
       "       [1., 0., 0.],\n",
       "       [1., 0., 0.],\n",
       "       [1., 0., 0.],\n",
       "       [1., 0., 0.],\n",
       "       [1., 0., 0.],\n",
       "       [1., 0., 0.],\n",
       "       [1., 0., 0.],\n",
       "       [1., 0., 0.],\n",
       "       [1., 0., 0.],\n",
       "       [1., 0., 0.],\n",
       "       [1., 0., 0.],\n",
       "       [1., 0., 0.],\n",
       "       [1., 0., 0.],\n",
       "       [1., 0., 0.],\n",
       "       [1., 0., 0.],\n",
       "       [1., 0., 0.],\n",
       "       [1., 0., 0.],\n",
       "       [1., 0., 0.],\n",
       "       [1., 0., 0.],\n",
       "       [1., 0., 0.],\n",
       "       [1., 0., 0.],\n",
       "       [1., 0., 0.],\n",
       "       [1., 0., 0.],\n",
       "       [1., 0., 0.],\n",
       "       [1., 0., 0.],\n",
       "       [1., 0., 0.],\n",
       "       [1., 0., 0.],\n",
       "       [1., 0., 0.],\n",
       "       [1., 0., 0.],\n",
       "       [1., 0., 0.],\n",
       "       [1., 0., 0.],\n",
       "       [0., 1., 0.],\n",
       "       [0., 1., 0.],\n",
       "       [0., 1., 0.],\n",
       "       [0., 1., 0.],\n",
       "       [0., 1., 0.],\n",
       "       [0., 1., 0.],\n",
       "       [0., 1., 0.],\n",
       "       [0., 1., 0.],\n",
       "       [0., 1., 0.],\n",
       "       [0., 1., 0.],\n",
       "       [0., 1., 0.],\n",
       "       [0., 1., 0.],\n",
       "       [0., 1., 0.],\n",
       "       [0., 1., 0.],\n",
       "       [0., 1., 0.],\n",
       "       [0., 1., 0.],\n",
       "       [0., 1., 0.],\n",
       "       [0., 1., 0.],\n",
       "       [0., 1., 0.],\n",
       "       [0., 1., 0.],\n",
       "       [0., 1., 0.],\n",
       "       [0., 1., 0.],\n",
       "       [0., 1., 0.],\n",
       "       [0., 1., 0.],\n",
       "       [0., 1., 0.],\n",
       "       [0., 1., 0.],\n",
       "       [0., 1., 0.],\n",
       "       [0., 1., 0.],\n",
       "       [0., 1., 0.],\n",
       "       [0., 1., 0.],\n",
       "       [0., 1., 0.],\n",
       "       [0., 1., 0.],\n",
       "       [0., 1., 0.],\n",
       "       [0., 1., 0.],\n",
       "       [0., 1., 0.],\n",
       "       [0., 1., 0.],\n",
       "       [0., 1., 0.],\n",
       "       [0., 1., 0.],\n",
       "       [0., 1., 0.],\n",
       "       [0., 1., 0.],\n",
       "       [0., 1., 0.],\n",
       "       [0., 1., 0.],\n",
       "       [0., 1., 0.],\n",
       "       [0., 1., 0.],\n",
       "       [0., 1., 0.],\n",
       "       [0., 1., 0.],\n",
       "       [0., 1., 0.],\n",
       "       [0., 1., 0.],\n",
       "       [0., 1., 0.],\n",
       "       [0., 1., 0.],\n",
       "       [0., 0., 1.],\n",
       "       [0., 0., 1.],\n",
       "       [0., 0., 1.],\n",
       "       [0., 0., 1.],\n",
       "       [0., 0., 1.],\n",
       "       [0., 0., 1.],\n",
       "       [0., 0., 1.],\n",
       "       [0., 0., 1.],\n",
       "       [0., 0., 1.],\n",
       "       [0., 0., 1.],\n",
       "       [0., 0., 1.],\n",
       "       [0., 0., 1.],\n",
       "       [0., 0., 1.],\n",
       "       [0., 0., 1.],\n",
       "       [0., 0., 1.],\n",
       "       [0., 0., 1.],\n",
       "       [0., 0., 1.],\n",
       "       [0., 0., 1.],\n",
       "       [0., 0., 1.],\n",
       "       [0., 0., 1.],\n",
       "       [0., 0., 1.],\n",
       "       [0., 0., 1.],\n",
       "       [0., 0., 1.],\n",
       "       [0., 0., 1.],\n",
       "       [0., 0., 1.],\n",
       "       [0., 0., 1.],\n",
       "       [0., 0., 1.],\n",
       "       [0., 0., 1.],\n",
       "       [0., 0., 1.],\n",
       "       [0., 0., 1.],\n",
       "       [0., 0., 1.],\n",
       "       [0., 0., 1.],\n",
       "       [0., 0., 1.],\n",
       "       [0., 0., 1.],\n",
       "       [0., 0., 1.],\n",
       "       [0., 0., 1.],\n",
       "       [0., 0., 1.],\n",
       "       [0., 0., 1.],\n",
       "       [0., 0., 1.],\n",
       "       [0., 0., 1.],\n",
       "       [0., 0., 1.],\n",
       "       [0., 0., 1.],\n",
       "       [0., 0., 1.],\n",
       "       [0., 0., 1.],\n",
       "       [0., 0., 1.],\n",
       "       [0., 0., 1.],\n",
       "       [0., 0., 1.],\n",
       "       [0., 0., 1.],\n",
       "       [0., 0., 1.],\n",
       "       [0., 0., 1.]], dtype=float32)"
      ]
     },
     "execution_count": 10,
     "metadata": {},
     "output_type": "execute_result"
    }
   ],
   "source": [
    "from tensorflow.keras.utils import to_categorical\n",
    "\n",
    "OHE_y = to_categorical(LBE_y)\n",
    "\n",
    "OHE_y"
   ]
  },
  {
   "cell_type": "markdown",
   "metadata": {
    "id": "8zievJ6A8dQc"
   },
   "source": [
    "> ## 4) train_test_split( )"
   ]
  },
  {
   "cell_type": "markdown",
   "metadata": {
    "id": "CT8iuCjxJdIn"
   },
   "source": [
    "* 7 : 3"
   ]
  },
  {
   "cell_type": "code",
   "execution_count": 11,
   "metadata": {
    "colab": {
     "base_uri": "https://localhost:8080/"
    },
    "executionInfo": {
     "elapsed": 15,
     "status": "ok",
     "timestamp": 1673400510096,
     "user": {
      "displayName": "이정구",
      "userId": "17400242557229223804"
     },
     "user_tz": -540
    },
    "id": "WIiSOik0dGct",
    "outputId": "3d39739d-9758-4514-8025-99d0c2d70266"
   },
   "outputs": [
    {
     "data": {
      "text/plain": [
       "((105, 4), (45, 4), (105, 3), (45, 3))"
      ]
     },
     "execution_count": 11,
     "metadata": {},
     "output_type": "execute_result"
    }
   ],
   "source": [
    "from sklearn.model_selection import train_test_split\n",
    "\n",
    "X_train, X_test, y_train, y_test = train_test_split(X, OHE_y, \n",
    "                                                    test_size = 0.3, \n",
    "                                                    random_state = 2045) \n",
    "\n",
    "X_train.shape, X_test.shape, y_train.shape, y_test.shape"
   ]
  },
  {
   "cell_type": "markdown",
   "metadata": {
    "id": "_WuSRwBd8oxV"
   },
   "source": [
    "# II. Keras Modeling"
   ]
  },
  {
   "cell_type": "markdown",
   "metadata": {
    "id": "5RHmF1kr9heb"
   },
   "source": [
    "> ## 1) Keras models & layers import"
   ]
  },
  {
   "cell_type": "code",
   "execution_count": 12,
   "metadata": {
    "executionInfo": {
     "elapsed": 10,
     "status": "ok",
     "timestamp": 1673400510097,
     "user": {
      "displayName": "이정구",
      "userId": "17400242557229223804"
     },
     "user_tz": -540
    },
    "id": "K0DN73_6duqG"
   },
   "outputs": [],
   "source": [
    "from tensorflow.keras import models \n",
    "from tensorflow.keras import layers"
   ]
  },
  {
   "cell_type": "markdown",
   "metadata": {
    "id": "-rDeiCMV-eKV"
   },
   "source": [
    "> ## 2) Model Define"
   ]
  },
  {
   "cell_type": "markdown",
   "metadata": {
    "id": "1ix6_3Tk-yWW"
   },
   "source": [
    "* 모델 신경망 구조 정의"
   ]
  },
  {
   "cell_type": "code",
   "execution_count": 13,
   "metadata": {
    "executionInfo": {
     "elapsed": 394,
     "status": "ok",
     "timestamp": 1673400510481,
     "user": {
      "displayName": "이정구",
      "userId": "17400242557229223804"
     },
     "user_tz": -540
    },
    "id": "DJ8uzQMSemA-"
   },
   "outputs": [],
   "source": [
    "Model_iris = models.Sequential() # 선형 모델\n",
    "\n",
    "# Dense = Fully Connected layer\n",
    "Model_iris.add(layers.Dense(16, activation = 'relu', input_shape = (4,)))\n",
    "Model_iris.add(layers.Dense(8, activation = 'relu'))\n",
    "Model_iris.add(layers.Dense(3, activation = 'softmax'))"
   ]
  },
  {
   "cell_type": "markdown",
   "metadata": {
    "id": "U0vAUcHx-zdW"
   },
   "source": [
    "* 모델 구조 확인\n",
    " - Layers & Parameters"
   ]
  },
  {
   "cell_type": "code",
   "execution_count": 14,
   "metadata": {
    "colab": {
     "base_uri": "https://localhost:8080/"
    },
    "executionInfo": {
     "elapsed": 23,
     "status": "ok",
     "timestamp": 1673400510482,
     "user": {
      "displayName": "이정구",
      "userId": "17400242557229223804"
     },
     "user_tz": -540
    },
    "id": "1sfOdgz2jQeM",
    "outputId": "15c10d09-a491-448c-b7d4-1436de3d4314"
   },
   "outputs": [
    {
     "name": "stdout",
     "output_type": "stream",
     "text": [
      "Model: \"sequential\"\n",
      "_________________________________________________________________\n",
      " Layer (type)                Output Shape              Param #   \n",
      "=================================================================\n",
      " dense (Dense)               (None, 16)                80        \n",
      "                                                                 \n",
      " dense_1 (Dense)             (None, 8)                 136       \n",
      "                                                                 \n",
      " dense_2 (Dense)             (None, 3)                 27        \n",
      "                                                                 \n",
      "=================================================================\n",
      "Total params: 243\n",
      "Trainable params: 243\n",
      "Non-trainable params: 0\n",
      "_________________________________________________________________\n"
     ]
    }
   ],
   "source": [
    "Model_iris.summary()"
   ]
  },
  {
   "cell_type": "markdown",
   "metadata": {
    "id": "j9nJ82S8TmOW"
   },
   "source": [
    "* 모델 레이어 시각화"
   ]
  },
  {
   "cell_type": "code",
   "execution_count": 15,
   "metadata": {
    "colab": {
     "base_uri": "https://localhost:8080/",
     "height": 545
    },
    "executionInfo": {
     "elapsed": 397,
     "status": "ok",
     "timestamp": 1673400510874,
     "user": {
      "displayName": "이정구",
      "userId": "17400242557229223804"
     },
     "user_tz": -540
    },
    "id": "SqtCd2AuTWfv",
    "outputId": "ebd338c5-b013-4521-f7f3-35c0156db86f"
   },
   "outputs": [
    {
     "data": {
      "image/png": "[encoded data removed]",
      "text/plain": [
       "<IPython.core.display.Image object>"
      ]
     },
     "execution_count": 15,
     "metadata": {},
     "output_type": "execute_result"
    }
   ],
   "source": [
    "from tensorflow.keras import utils\n",
    "\n",
    "utils.plot_model(Model_iris,\n",
    "                 show_shapes = True,\n",
    "                 show_dtype = True)"
   ]
  },
  {
   "cell_type": "markdown",
   "metadata": {
    "id": "3jTRDB6y-5Mx"
   },
   "source": [
    "> ## 3) Model Compile"
   ]
  },
  {
   "cell_type": "markdown",
   "metadata": {
    "id": "iixRFcKM_PUJ"
   },
   "source": [
    "* 모델 학습방법 설정"
   ]
  },
  {
   "cell_type": "code",
   "execution_count": 16,
   "metadata": {
    "executionInfo": {
     "elapsed": 10,
     "status": "ok",
     "timestamp": 1673400510876,
     "user": {
      "displayName": "이정구",
      "userId": "17400242557229223804"
     },
     "user_tz": -540
    },
    "id": "Qe9CXqyKjHhI"
   },
   "outputs": [],
   "source": [
    "Model_iris.compile(loss = 'categorical_crossentropy',\n",
    "                   optimizer = 'adam',\n",
    "                   metrics = ['accuracy'])"
   ]
  },
  {
   "cell_type": "markdown",
   "metadata": {
    "id": "y7zLg_l4_BvM"
   },
   "source": [
    "> ## 4) Model Fit"
   ]
  },
  {
   "cell_type": "markdown",
   "metadata": {
    "id": "BLjGgSpG_UiT"
   },
   "source": [
    "* 모델 학습 수행"
   ]
  },
  {
   "cell_type": "code",
   "execution_count": 17,
   "metadata": {
    "colab": {
     "base_uri": "https://localhost:8080/"
    },
    "executionInfo": {
     "elapsed": 42605,
     "status": "ok",
     "timestamp": 1673400553745,
     "user": {
      "displayName": "이정구",
      "userId": "17400242557229223804"
     },
     "user_tz": -540
    },
    "id": "1J-5DPpUjKPZ",
    "outputId": "2c73c5f6-c3cf-4309-af03-b53cb26284ba"
   },
   "outputs": [
    {
     "name": "stdout",
     "output_type": "stream",
     "text": [
      "Epoch 1/250\n",
      "15/15 [==============================] - 2s 47ms/step - loss: 3.6951 - accuracy: 0.3429 - val_loss: 3.0357 - val_accuracy: 0.3111\n",
      "Epoch 2/250\n",
      "15/15 [==============================] - 0s 10ms/step - loss: 2.5951 - accuracy: 0.3429 - val_loss: 2.1223 - val_accuracy: 0.3111\n",
      "Epoch 3/250\n",
      "15/15 [==============================] - 0s 12ms/step - loss: 1.7640 - accuracy: 0.3429 - val_loss: 1.4701 - val_accuracy: 0.3111\n",
      "Epoch 4/250\n",
      "15/15 [==============================] - 0s 11ms/step - loss: 1.3131 - accuracy: 0.3429 - val_loss: 1.1604 - val_accuracy: 0.3111\n",
      "Epoch 5/250\n",
      "15/15 [==============================] - 0s 7ms/step - loss: 1.1100 - accuracy: 0.3429 - val_loss: 1.0589 - val_accuracy: 0.3111\n",
      "Epoch 6/250\n",
      "15/15 [==============================] - 0s 9ms/step - loss: 1.0337 - accuracy: 0.3619 - val_loss: 1.0073 - val_accuracy: 0.3778\n",
      "Epoch 7/250\n",
      "15/15 [==============================] - 0s 8ms/step - loss: 0.9893 - accuracy: 0.4000 - val_loss: 0.9748 - val_accuracy: 0.5111\n",
      "Epoch 8/250\n",
      "15/15 [==============================] - 0s 7ms/step - loss: 0.9603 - accuracy: 0.4571 - val_loss: 0.9569 - val_accuracy: 0.4444\n",
      "Epoch 9/250\n",
      "15/15 [==============================] - 0s 6ms/step - loss: 0.9382 - accuracy: 0.5048 - val_loss: 0.9354 - val_accuracy: 0.5111\n",
      "Epoch 10/250\n",
      "15/15 [==============================] - 0s 6ms/step - loss: 0.9204 - accuracy: 0.5429 - val_loss: 0.9169 - val_accuracy: 0.6000\n",
      "Epoch 11/250\n",
      "15/15 [==============================] - 0s 5ms/step - loss: 0.9059 - accuracy: 0.6095 - val_loss: 0.8978 - val_accuracy: 0.6222\n",
      "Epoch 12/250\n",
      "15/15 [==============================] - 0s 7ms/step - loss: 0.8883 - accuracy: 0.6286 - val_loss: 0.8841 - val_accuracy: 0.6222\n",
      "Epoch 13/250\n",
      "15/15 [==============================] - 0s 9ms/step - loss: 0.8733 - accuracy: 0.6571 - val_loss: 0.8637 - val_accuracy: 0.6667\n",
      "Epoch 14/250\n",
      "15/15 [==============================] - 0s 9ms/step - loss: 0.8559 - accuracy: 0.6571 - val_loss: 0.8455 - val_accuracy: 0.6667\n",
      "Epoch 15/250\n",
      "15/15 [==============================] - 0s 11ms/step - loss: 0.8396 - accuracy: 0.6762 - val_loss: 0.8293 - val_accuracy: 0.6667\n",
      "Epoch 16/250\n",
      "15/15 [==============================] - 0s 10ms/step - loss: 0.8265 - accuracy: 0.6286 - val_loss: 0.8079 - val_accuracy: 0.6889\n",
      "Epoch 17/250\n",
      "15/15 [==============================] - 0s 10ms/step - loss: 0.8069 - accuracy: 0.6571 - val_loss: 0.7899 - val_accuracy: 0.6889\n",
      "Epoch 18/250\n",
      "15/15 [==============================] - 0s 7ms/step - loss: 0.7900 - accuracy: 0.6667 - val_loss: 0.7745 - val_accuracy: 0.6889\n",
      "Epoch 19/250\n",
      "15/15 [==============================] - 0s 9ms/step - loss: 0.7805 - accuracy: 0.6286 - val_loss: 0.7563 - val_accuracy: 0.7333\n",
      "Epoch 20/250\n",
      "15/15 [==============================] - 0s 12ms/step - loss: 0.7578 - accuracy: 0.6571 - val_loss: 0.7362 - val_accuracy: 0.6889\n",
      "Epoch 21/250\n",
      "15/15 [==============================] - 0s 7ms/step - loss: 0.7424 - accuracy: 0.6667 - val_loss: 0.7190 - val_accuracy: 0.6889\n",
      "Epoch 22/250\n",
      "15/15 [==============================] - 0s 8ms/step - loss: 0.7321 - accuracy: 0.6381 - val_loss: 0.7022 - val_accuracy: 0.7333\n",
      "Epoch 23/250\n",
      "15/15 [==============================] - 0s 9ms/step - loss: 0.7120 - accuracy: 0.6381 - val_loss: 0.6842 - val_accuracy: 0.6889\n",
      "Epoch 24/250\n",
      "15/15 [==============================] - 0s 7ms/step - loss: 0.6971 - accuracy: 0.6857 - val_loss: 0.6688 - val_accuracy: 0.6889\n",
      "Epoch 25/250\n",
      "15/15 [==============================] - 0s 11ms/step - loss: 0.6837 - accuracy: 0.6762 - val_loss: 0.6561 - val_accuracy: 0.6889\n",
      "Epoch 26/250\n",
      "15/15 [==============================] - 0s 6ms/step - loss: 0.6712 - accuracy: 0.6667 - val_loss: 0.6416 - val_accuracy: 0.6889\n",
      "Epoch 27/250\n",
      "15/15 [==============================] - 0s 15ms/step - loss: 0.6593 - accuracy: 0.6762 - val_loss: 0.6321 - val_accuracy: 0.6889\n",
      "Epoch 28/250\n",
      "15/15 [==============================] - 0s 6ms/step - loss: 0.6476 - accuracy: 0.6762 - val_loss: 0.6180 - val_accuracy: 0.6889\n",
      "Epoch 29/250\n",
      "15/15 [==============================] - 0s 7ms/step - loss: 0.6389 - accuracy: 0.6476 - val_loss: 0.6065 - val_accuracy: 0.6889\n",
      "Epoch 30/250\n",
      "15/15 [==============================] - 0s 7ms/step - loss: 0.6290 - accuracy: 0.6571 - val_loss: 0.5962 - val_accuracy: 0.6889\n",
      "Epoch 31/250\n",
      "15/15 [==============================] - 0s 5ms/step - loss: 0.6206 - accuracy: 0.6667 - val_loss: 0.5877 - val_accuracy: 0.6889\n",
      "Epoch 32/250\n",
      "15/15 [==============================] - 0s 8ms/step - loss: 0.6114 - accuracy: 0.6667 - val_loss: 0.5773 - val_accuracy: 0.6889\n",
      "Epoch 33/250\n",
      "15/15 [==============================] - 0s 7ms/step - loss: 0.6006 - accuracy: 0.6762 - val_loss: 0.5675 - val_accuracy: 0.6889\n",
      "Epoch 34/250\n",
      "15/15 [==============================] - 0s 6ms/step - loss: 0.5921 - accuracy: 0.6762 - val_loss: 0.5603 - val_accuracy: 0.6889\n",
      "Epoch 35/250\n",
      "15/15 [==============================] - 0s 6ms/step - loss: 0.5863 - accuracy: 0.6762 - val_loss: 0.5506 - val_accuracy: 0.7111\n",
      "Epoch 36/250\n",
      "15/15 [==============================] - 0s 6ms/step - loss: 0.5782 - accuracy: 0.6667 - val_loss: 0.5436 - val_accuracy: 0.6889\n",
      "Epoch 37/250\n",
      "15/15 [==============================] - 0s 6ms/step - loss: 0.5698 - accuracy: 0.6857 - val_loss: 0.5342 - val_accuracy: 0.6889\n",
      "Epoch 38/250\n",
      "15/15 [==============================] - 0s 9ms/step - loss: 0.5638 - accuracy: 0.6857 - val_loss: 0.5291 - val_accuracy: 0.6889\n",
      "Epoch 39/250\n",
      "15/15 [==============================] - 0s 7ms/step - loss: 0.5590 - accuracy: 0.6571 - val_loss: 0.5192 - val_accuracy: 0.6889\n",
      "Epoch 40/250\n",
      "15/15 [==============================] - 0s 8ms/step - loss: 0.5546 - accuracy: 0.6667 - val_loss: 0.5136 - val_accuracy: 0.6889\n",
      "Epoch 41/250\n",
      "15/15 [==============================] - 0s 6ms/step - loss: 0.5438 - accuracy: 0.7048 - val_loss: 0.5078 - val_accuracy: 0.8222\n",
      "Epoch 42/250\n",
      "15/15 [==============================] - 0s 6ms/step - loss: 0.5395 - accuracy: 0.7619 - val_loss: 0.5011 - val_accuracy: 0.7111\n",
      "Epoch 43/250\n",
      "15/15 [==============================] - 0s 7ms/step - loss: 0.5313 - accuracy: 0.6762 - val_loss: 0.4949 - val_accuracy: 0.6889\n",
      "Epoch 44/250\n",
      "15/15 [==============================] - 0s 7ms/step - loss: 0.5283 - accuracy: 0.6667 - val_loss: 0.4899 - val_accuracy: 0.6889\n",
      "Epoch 45/250\n",
      "15/15 [==============================] - 0s 6ms/step - loss: 0.5199 - accuracy: 0.7048 - val_loss: 0.4842 - val_accuracy: 0.8667\n",
      "Epoch 46/250\n",
      "15/15 [==============================] - 0s 12ms/step - loss: 0.5167 - accuracy: 0.7619 - val_loss: 0.4788 - val_accuracy: 0.7111\n",
      "Epoch 47/250\n",
      "15/15 [==============================] - 0s 11ms/step - loss: 0.5097 - accuracy: 0.6952 - val_loss: 0.4734 - val_accuracy: 0.7111\n",
      "Epoch 48/250\n",
      "15/15 [==============================] - 0s 7ms/step - loss: 0.5064 - accuracy: 0.6952 - val_loss: 0.4674 - val_accuracy: 0.8000\n",
      "Epoch 49/250\n",
      "15/15 [==============================] - 0s 6ms/step - loss: 0.5007 - accuracy: 0.6857 - val_loss: 0.4640 - val_accuracy: 0.7111\n",
      "Epoch 50/250\n",
      "15/15 [==============================] - 0s 9ms/step - loss: 0.4972 - accuracy: 0.7524 - val_loss: 0.4580 - val_accuracy: 0.8444\n",
      "Epoch 51/250\n",
      "15/15 [==============================] - 0s 9ms/step - loss: 0.4986 - accuracy: 0.6857 - val_loss: 0.4546 - val_accuracy: 0.7111\n",
      "Epoch 52/250\n",
      "15/15 [==============================] - 0s 5ms/step - loss: 0.4880 - accuracy: 0.7810 - val_loss: 0.4496 - val_accuracy: 0.8222\n",
      "Epoch 53/250\n",
      "15/15 [==============================] - 0s 8ms/step - loss: 0.4819 - accuracy: 0.7905 - val_loss: 0.4453 - val_accuracy: 0.8000\n",
      "Epoch 54/250\n",
      "15/15 [==============================] - 0s 6ms/step - loss: 0.4788 - accuracy: 0.8000 - val_loss: 0.4407 - val_accuracy: 0.8444\n",
      "Epoch 55/250\n",
      "15/15 [==============================] - 0s 9ms/step - loss: 0.4772 - accuracy: 0.7238 - val_loss: 0.4362 - val_accuracy: 0.8222\n",
      "Epoch 56/250\n",
      "15/15 [==============================] - 0s 6ms/step - loss: 0.4697 - accuracy: 0.7333 - val_loss: 0.4329 - val_accuracy: 0.7778\n",
      "Epoch 57/250\n",
      "15/15 [==============================] - 0s 6ms/step - loss: 0.4684 - accuracy: 0.7048 - val_loss: 0.4286 - val_accuracy: 0.8000\n",
      "Epoch 58/250\n",
      "15/15 [==============================] - 0s 6ms/step - loss: 0.4616 - accuracy: 0.8000 - val_loss: 0.4242 - val_accuracy: 0.8222\n",
      "Epoch 59/250\n",
      "15/15 [==============================] - 0s 9ms/step - loss: 0.4576 - accuracy: 0.8667 - val_loss: 0.4210 - val_accuracy: 0.8889\n",
      "Epoch 60/250\n",
      "15/15 [==============================] - 0s 10ms/step - loss: 0.4544 - accuracy: 0.8762 - val_loss: 0.4172 - val_accuracy: 0.9333\n",
      "Epoch 61/250\n",
      "15/15 [==============================] - 0s 11ms/step - loss: 0.4545 - accuracy: 0.9238 - val_loss: 0.4131 - val_accuracy: 0.8222\n",
      "Epoch 62/250\n",
      "15/15 [==============================] - 0s 10ms/step - loss: 0.4504 - accuracy: 0.7238 - val_loss: 0.4124 - val_accuracy: 0.7556\n",
      "Epoch 63/250\n",
      "15/15 [==============================] - 0s 7ms/step - loss: 0.4427 - accuracy: 0.7810 - val_loss: 0.4054 - val_accuracy: 0.9778\n",
      "Epoch 64/250\n",
      "15/15 [==============================] - 0s 10ms/step - loss: 0.4388 - accuracy: 0.9238 - val_loss: 0.4020 - val_accuracy: 0.9778\n",
      "Epoch 65/250\n",
      "15/15 [==============================] - 0s 11ms/step - loss: 0.4342 - accuracy: 0.8667 - val_loss: 0.3983 - val_accuracy: 0.8222\n",
      "Epoch 66/250\n",
      "15/15 [==============================] - 0s 6ms/step - loss: 0.4319 - accuracy: 0.8190 - val_loss: 0.3950 - val_accuracy: 0.8000\n",
      "Epoch 67/250\n",
      "15/15 [==============================] - 0s 8ms/step - loss: 0.4383 - accuracy: 0.9333 - val_loss: 0.3927 - val_accuracy: 0.9556\n",
      "Epoch 68/250\n",
      "15/15 [==============================] - 0s 7ms/step - loss: 0.4215 - accuracy: 0.9143 - val_loss: 0.3884 - val_accuracy: 0.8000\n",
      "Epoch 69/250\n",
      "15/15 [==============================] - 0s 8ms/step - loss: 0.4213 - accuracy: 0.7810 - val_loss: 0.3850 - val_accuracy: 0.8000\n",
      "Epoch 70/250\n",
      "15/15 [==============================] - 0s 10ms/step - loss: 0.4193 - accuracy: 0.9048 - val_loss: 0.3803 - val_accuracy: 0.9556\n",
      "Epoch 71/250\n",
      "15/15 [==============================] - 0s 9ms/step - loss: 0.4120 - accuracy: 0.8857 - val_loss: 0.3765 - val_accuracy: 0.9556\n",
      "Epoch 72/250\n",
      "15/15 [==============================] - 0s 8ms/step - loss: 0.4086 - accuracy: 0.9238 - val_loss: 0.3729 - val_accuracy: 0.9778\n",
      "Epoch 73/250\n",
      "15/15 [==============================] - 0s 7ms/step - loss: 0.4037 - accuracy: 0.9333 - val_loss: 0.3697 - val_accuracy: 0.9556\n",
      "Epoch 74/250\n",
      "15/15 [==============================] - 0s 13ms/step - loss: 0.4006 - accuracy: 0.9333 - val_loss: 0.3663 - val_accuracy: 0.9556\n",
      "Epoch 75/250\n",
      "15/15 [==============================] - 0s 9ms/step - loss: 0.3983 - accuracy: 0.9429 - val_loss: 0.3627 - val_accuracy: 0.9778\n",
      "Epoch 76/250\n",
      "15/15 [==============================] - 0s 9ms/step - loss: 0.3958 - accuracy: 0.9048 - val_loss: 0.3586 - val_accuracy: 0.9778\n",
      "Epoch 77/250\n",
      "15/15 [==============================] - 0s 9ms/step - loss: 0.3902 - accuracy: 0.9524 - val_loss: 0.3548 - val_accuracy: 0.9778\n",
      "Epoch 78/250\n",
      "15/15 [==============================] - 0s 11ms/step - loss: 0.3881 - accuracy: 0.8952 - val_loss: 0.3530 - val_accuracy: 0.9333\n",
      "Epoch 79/250\n",
      "15/15 [==============================] - 0s 17ms/step - loss: 0.3827 - accuracy: 0.9429 - val_loss: 0.3478 - val_accuracy: 0.9778\n",
      "Epoch 80/250\n",
      "15/15 [==============================] - 0s 11ms/step - loss: 0.3780 - accuracy: 0.9429 - val_loss: 0.3442 - val_accuracy: 0.9778\n",
      "Epoch 81/250\n",
      "15/15 [==============================] - 0s 12ms/step - loss: 0.3736 - accuracy: 0.9429 - val_loss: 0.3404 - val_accuracy: 0.9778\n",
      "Epoch 82/250\n",
      "15/15 [==============================] - 0s 7ms/step - loss: 0.3704 - accuracy: 0.9429 - val_loss: 0.3373 - val_accuracy: 1.0000\n",
      "Epoch 83/250\n",
      "15/15 [==============================] - 0s 7ms/step - loss: 0.3691 - accuracy: 0.9429 - val_loss: 0.3331 - val_accuracy: 0.9778\n",
      "Epoch 84/250\n",
      "15/15 [==============================] - 0s 8ms/step - loss: 0.3661 - accuracy: 0.9524 - val_loss: 0.3293 - val_accuracy: 0.9778\n",
      "Epoch 85/250\n",
      "15/15 [==============================] - 0s 6ms/step - loss: 0.3596 - accuracy: 0.9524 - val_loss: 0.3258 - val_accuracy: 1.0000\n",
      "Epoch 86/250\n",
      "15/15 [==============================] - 0s 6ms/step - loss: 0.3574 - accuracy: 0.9238 - val_loss: 0.3230 - val_accuracy: 0.9778\n",
      "Epoch 87/250\n",
      "15/15 [==============================] - 0s 6ms/step - loss: 0.3522 - accuracy: 0.9524 - val_loss: 0.3187 - val_accuracy: 1.0000\n",
      "Epoch 88/250\n",
      "15/15 [==============================] - 0s 6ms/step - loss: 0.3589 - accuracy: 0.9429 - val_loss: 0.3176 - val_accuracy: 0.9778\n",
      "Epoch 89/250\n",
      "15/15 [==============================] - 0s 7ms/step - loss: 0.3513 - accuracy: 0.8857 - val_loss: 0.3143 - val_accuracy: 0.9556\n",
      "Epoch 90/250\n",
      "15/15 [==============================] - 0s 7ms/step - loss: 0.3387 - accuracy: 0.9429 - val_loss: 0.3071 - val_accuracy: 1.0000\n",
      "Epoch 91/250\n",
      "15/15 [==============================] - 0s 6ms/step - loss: 0.3379 - accuracy: 0.9619 - val_loss: 0.3053 - val_accuracy: 1.0000\n",
      "Epoch 92/250\n",
      "15/15 [==============================] - 0s 7ms/step - loss: 0.3337 - accuracy: 0.9619 - val_loss: 0.2997 - val_accuracy: 1.0000\n",
      "Epoch 93/250\n",
      "15/15 [==============================] - 0s 9ms/step - loss: 0.3367 - accuracy: 0.9048 - val_loss: 0.2977 - val_accuracy: 0.9778\n",
      "Epoch 94/250\n",
      "15/15 [==============================] - 0s 6ms/step - loss: 0.3231 - accuracy: 0.9524 - val_loss: 0.2932 - val_accuracy: 1.0000\n",
      "Epoch 95/250\n",
      "15/15 [==============================] - 0s 6ms/step - loss: 0.3243 - accuracy: 0.9714 - val_loss: 0.2912 - val_accuracy: 0.9778\n",
      "Epoch 96/250\n",
      "15/15 [==============================] - 0s 9ms/step - loss: 0.3183 - accuracy: 0.9524 - val_loss: 0.2868 - val_accuracy: 0.9778\n",
      "Epoch 97/250\n",
      "15/15 [==============================] - 0s 15ms/step - loss: 0.3153 - accuracy: 0.9524 - val_loss: 0.2815 - val_accuracy: 1.0000\n",
      "Epoch 98/250\n",
      "15/15 [==============================] - 0s 10ms/step - loss: 0.3123 - accuracy: 0.9524 - val_loss: 0.2772 - val_accuracy: 1.0000\n",
      "Epoch 99/250\n",
      "15/15 [==============================] - 0s 13ms/step - loss: 0.3053 - accuracy: 0.9524 - val_loss: 0.2734 - val_accuracy: 1.0000\n",
      "Epoch 100/250\n",
      "15/15 [==============================] - 0s 15ms/step - loss: 0.3018 - accuracy: 0.9714 - val_loss: 0.2711 - val_accuracy: 1.0000\n",
      "Epoch 101/250\n",
      "15/15 [==============================] - 0s 14ms/step - loss: 0.2966 - accuracy: 0.9714 - val_loss: 0.2658 - val_accuracy: 1.0000\n",
      "Epoch 102/250\n",
      "15/15 [==============================] - 0s 6ms/step - loss: 0.2936 - accuracy: 0.9619 - val_loss: 0.2620 - val_accuracy: 1.0000\n",
      "Epoch 103/250\n",
      "15/15 [==============================] - 0s 6ms/step - loss: 0.2896 - accuracy: 0.9524 - val_loss: 0.2585 - val_accuracy: 1.0000\n",
      "Epoch 104/250\n",
      "15/15 [==============================] - 0s 10ms/step - loss: 0.2859 - accuracy: 0.9619 - val_loss: 0.2550 - val_accuracy: 1.0000\n",
      "Epoch 105/250\n",
      "15/15 [==============================] - 0s 15ms/step - loss: 0.2816 - accuracy: 0.9714 - val_loss: 0.2509 - val_accuracy: 1.0000\n",
      "Epoch 106/250\n",
      "15/15 [==============================] - 0s 6ms/step - loss: 0.2793 - accuracy: 0.9714 - val_loss: 0.2471 - val_accuracy: 1.0000\n",
      "Epoch 107/250\n",
      "15/15 [==============================] - 0s 11ms/step - loss: 0.2757 - accuracy: 0.9619 - val_loss: 0.2436 - val_accuracy: 1.0000\n",
      "Epoch 108/250\n",
      "15/15 [==============================] - 0s 12ms/step - loss: 0.2753 - accuracy: 0.9524 - val_loss: 0.2409 - val_accuracy: 1.0000\n",
      "Epoch 109/250\n",
      "15/15 [==============================] - 0s 6ms/step - loss: 0.2693 - accuracy: 0.9714 - val_loss: 0.2390 - val_accuracy: 0.9778\n",
      "Epoch 110/250\n",
      "15/15 [==============================] - 0s 11ms/step - loss: 0.2640 - accuracy: 0.9714 - val_loss: 0.2324 - val_accuracy: 1.0000\n",
      "Epoch 111/250\n",
      "15/15 [==============================] - 0s 23ms/step - loss: 0.2598 - accuracy: 0.9524 - val_loss: 0.2288 - val_accuracy: 1.0000\n",
      "Epoch 112/250\n",
      "15/15 [==============================] - 0s 11ms/step - loss: 0.2570 - accuracy: 0.9619 - val_loss: 0.2262 - val_accuracy: 1.0000\n",
      "Epoch 113/250\n",
      "15/15 [==============================] - 0s 9ms/step - loss: 0.2553 - accuracy: 0.9524 - val_loss: 0.2216 - val_accuracy: 1.0000\n",
      "Epoch 114/250\n",
      "15/15 [==============================] - 0s 9ms/step - loss: 0.2502 - accuracy: 0.9714 - val_loss: 0.2198 - val_accuracy: 1.0000\n",
      "Epoch 115/250\n",
      "15/15 [==============================] - 0s 9ms/step - loss: 0.2469 - accuracy: 0.9714 - val_loss: 0.2148 - val_accuracy: 1.0000\n",
      "Epoch 116/250\n",
      "15/15 [==============================] - 0s 10ms/step - loss: 0.2425 - accuracy: 0.9714 - val_loss: 0.2111 - val_accuracy: 1.0000\n",
      "Epoch 117/250\n",
      "15/15 [==============================] - 0s 6ms/step - loss: 0.2427 - accuracy: 0.9524 - val_loss: 0.2077 - val_accuracy: 1.0000\n",
      "Epoch 118/250\n",
      "15/15 [==============================] - 0s 12ms/step - loss: 0.2363 - accuracy: 0.9714 - val_loss: 0.2066 - val_accuracy: 1.0000\n",
      "Epoch 119/250\n",
      "15/15 [==============================] - 0s 4ms/step - loss: 0.2376 - accuracy: 0.9714 - val_loss: 0.2033 - val_accuracy: 1.0000\n",
      "Epoch 120/250\n",
      "15/15 [==============================] - 0s 4ms/step - loss: 0.2308 - accuracy: 0.9524 - val_loss: 0.1985 - val_accuracy: 1.0000\n",
      "Epoch 121/250\n",
      "15/15 [==============================] - 0s 5ms/step - loss: 0.2278 - accuracy: 0.9714 - val_loss: 0.1943 - val_accuracy: 1.0000\n",
      "Epoch 122/250\n",
      "15/15 [==============================] - 0s 4ms/step - loss: 0.2259 - accuracy: 0.9619 - val_loss: 0.1939 - val_accuracy: 0.9778\n",
      "Epoch 123/250\n",
      "15/15 [==============================] - 0s 4ms/step - loss: 0.2267 - accuracy: 0.9619 - val_loss: 0.1895 - val_accuracy: 1.0000\n",
      "Epoch 124/250\n",
      "15/15 [==============================] - 0s 4ms/step - loss: 0.2201 - accuracy: 0.9429 - val_loss: 0.1889 - val_accuracy: 0.9778\n",
      "Epoch 125/250\n",
      "15/15 [==============================] - 0s 4ms/step - loss: 0.2146 - accuracy: 0.9619 - val_loss: 0.1820 - val_accuracy: 1.0000\n",
      "Epoch 126/250\n",
      "15/15 [==============================] - 0s 4ms/step - loss: 0.2166 - accuracy: 0.9619 - val_loss: 0.1789 - val_accuracy: 1.0000\n",
      "Epoch 127/250\n",
      "15/15 [==============================] - 0s 4ms/step - loss: 0.2092 - accuracy: 0.9714 - val_loss: 0.1758 - val_accuracy: 1.0000\n",
      "Epoch 128/250\n",
      "15/15 [==============================] - 0s 4ms/step - loss: 0.2144 - accuracy: 0.9619 - val_loss: 0.1731 - val_accuracy: 1.0000\n",
      "Epoch 129/250\n",
      "15/15 [==============================] - 0s 4ms/step - loss: 0.2102 - accuracy: 0.9524 - val_loss: 0.1704 - val_accuracy: 1.0000\n",
      "Epoch 130/250\n",
      "15/15 [==============================] - 0s 4ms/step - loss: 0.2057 - accuracy: 0.9619 - val_loss: 0.1673 - val_accuracy: 1.0000\n",
      "Epoch 131/250\n",
      "15/15 [==============================] - 0s 5ms/step - loss: 0.1970 - accuracy: 0.9714 - val_loss: 0.1701 - val_accuracy: 0.9778\n",
      "Epoch 132/250\n",
      "15/15 [==============================] - 0s 4ms/step - loss: 0.1986 - accuracy: 0.9714 - val_loss: 0.1627 - val_accuracy: 1.0000\n",
      "Epoch 133/250\n",
      "15/15 [==============================] - 0s 5ms/step - loss: 0.1965 - accuracy: 0.9619 - val_loss: 0.1597 - val_accuracy: 1.0000\n",
      "Epoch 134/250\n",
      "15/15 [==============================] - 0s 4ms/step - loss: 0.1920 - accuracy: 0.9714 - val_loss: 0.1570 - val_accuracy: 1.0000\n",
      "Epoch 135/250\n",
      "15/15 [==============================] - 0s 5ms/step - loss: 0.1910 - accuracy: 0.9619 - val_loss: 0.1549 - val_accuracy: 1.0000\n",
      "Epoch 136/250\n",
      "15/15 [==============================] - 0s 4ms/step - loss: 0.1871 - accuracy: 0.9619 - val_loss: 0.1527 - val_accuracy: 1.0000\n",
      "Epoch 137/250\n",
      "15/15 [==============================] - 0s 4ms/step - loss: 0.1863 - accuracy: 0.9619 - val_loss: 0.1496 - val_accuracy: 1.0000\n",
      "Epoch 138/250\n",
      "15/15 [==============================] - 0s 4ms/step - loss: 0.1826 - accuracy: 0.9714 - val_loss: 0.1470 - val_accuracy: 1.0000\n",
      "Epoch 139/250\n",
      "15/15 [==============================] - 0s 5ms/step - loss: 0.1793 - accuracy: 0.9714 - val_loss: 0.1455 - val_accuracy: 1.0000\n",
      "Epoch 140/250\n",
      "15/15 [==============================] - 0s 4ms/step - loss: 0.1780 - accuracy: 0.9714 - val_loss: 0.1421 - val_accuracy: 1.0000\n",
      "Epoch 141/250\n",
      "15/15 [==============================] - 0s 4ms/step - loss: 0.1766 - accuracy: 0.9714 - val_loss: 0.1400 - val_accuracy: 1.0000\n",
      "Epoch 142/250\n",
      "15/15 [==============================] - 0s 4ms/step - loss: 0.1787 - accuracy: 0.9714 - val_loss: 0.1378 - val_accuracy: 1.0000\n",
      "Epoch 143/250\n",
      "15/15 [==============================] - 0s 4ms/step - loss: 0.1743 - accuracy: 0.9714 - val_loss: 0.1359 - val_accuracy: 1.0000\n",
      "Epoch 144/250\n",
      "15/15 [==============================] - 0s 4ms/step - loss: 0.1722 - accuracy: 0.9524 - val_loss: 0.1338 - val_accuracy: 1.0000\n",
      "Epoch 145/250\n",
      "15/15 [==============================] - 0s 4ms/step - loss: 0.1681 - accuracy: 0.9714 - val_loss: 0.1326 - val_accuracy: 1.0000\n",
      "Epoch 146/250\n",
      "15/15 [==============================] - 0s 4ms/step - loss: 0.1659 - accuracy: 0.9714 - val_loss: 0.1294 - val_accuracy: 1.0000\n",
      "Epoch 147/250\n",
      "15/15 [==============================] - 0s 4ms/step - loss: 0.1660 - accuracy: 0.9714 - val_loss: 0.1274 - val_accuracy: 1.0000\n",
      "Epoch 148/250\n",
      "15/15 [==============================] - 0s 6ms/step - loss: 0.1632 - accuracy: 0.9619 - val_loss: 0.1252 - val_accuracy: 1.0000\n",
      "Epoch 149/250\n",
      "15/15 [==============================] - 0s 5ms/step - loss: 0.1616 - accuracy: 0.9714 - val_loss: 0.1252 - val_accuracy: 1.0000\n",
      "Epoch 150/250\n",
      "15/15 [==============================] - 0s 5ms/step - loss: 0.1582 - accuracy: 0.9714 - val_loss: 0.1217 - val_accuracy: 1.0000\n",
      "Epoch 151/250\n",
      "15/15 [==============================] - 0s 4ms/step - loss: 0.1585 - accuracy: 0.9714 - val_loss: 0.1198 - val_accuracy: 1.0000\n",
      "Epoch 152/250\n",
      "15/15 [==============================] - 0s 5ms/step - loss: 0.1568 - accuracy: 0.9714 - val_loss: 0.1178 - val_accuracy: 1.0000\n",
      "Epoch 153/250\n",
      "15/15 [==============================] - 0s 4ms/step - loss: 0.1539 - accuracy: 0.9714 - val_loss: 0.1184 - val_accuracy: 0.9778\n",
      "Epoch 154/250\n",
      "15/15 [==============================] - 0s 4ms/step - loss: 0.1529 - accuracy: 0.9714 - val_loss: 0.1142 - val_accuracy: 1.0000\n",
      "Epoch 155/250\n",
      "15/15 [==============================] - 0s 4ms/step - loss: 0.1500 - accuracy: 0.9714 - val_loss: 0.1140 - val_accuracy: 1.0000\n",
      "Epoch 156/250\n",
      "15/15 [==============================] - 0s 5ms/step - loss: 0.1493 - accuracy: 0.9714 - val_loss: 0.1112 - val_accuracy: 1.0000\n",
      "Epoch 157/250\n",
      "15/15 [==============================] - 0s 4ms/step - loss: 0.1479 - accuracy: 0.9714 - val_loss: 0.1097 - val_accuracy: 1.0000\n",
      "Epoch 158/250\n",
      "15/15 [==============================] - 0s 5ms/step - loss: 0.1485 - accuracy: 0.9714 - val_loss: 0.1076 - val_accuracy: 1.0000\n",
      "Epoch 159/250\n",
      "15/15 [==============================] - 0s 5ms/step - loss: 0.1577 - accuracy: 0.9333 - val_loss: 0.1071 - val_accuracy: 1.0000\n",
      "Epoch 160/250\n",
      "15/15 [==============================] - 0s 4ms/step - loss: 0.1430 - accuracy: 0.9714 - val_loss: 0.1046 - val_accuracy: 1.0000\n",
      "Epoch 161/250\n",
      "15/15 [==============================] - 0s 4ms/step - loss: 0.1423 - accuracy: 0.9714 - val_loss: 0.1035 - val_accuracy: 1.0000\n",
      "Epoch 162/250\n",
      "15/15 [==============================] - 0s 5ms/step - loss: 0.1462 - accuracy: 0.9714 - val_loss: 0.1015 - val_accuracy: 1.0000\n",
      "Epoch 163/250\n",
      "15/15 [==============================] - 0s 5ms/step - loss: 0.1444 - accuracy: 0.9714 - val_loss: 0.1078 - val_accuracy: 0.9778\n",
      "Epoch 164/250\n",
      "15/15 [==============================] - 0s 4ms/step - loss: 0.1502 - accuracy: 0.9429 - val_loss: 0.0987 - val_accuracy: 1.0000\n",
      "Epoch 165/250\n",
      "15/15 [==============================] - 0s 4ms/step - loss: 0.1388 - accuracy: 0.9619 - val_loss: 0.1019 - val_accuracy: 0.9778\n",
      "Epoch 166/250\n",
      "15/15 [==============================] - 0s 4ms/step - loss: 0.1467 - accuracy: 0.9524 - val_loss: 0.0968 - val_accuracy: 1.0000\n",
      "Epoch 167/250\n",
      "15/15 [==============================] - 0s 5ms/step - loss: 0.1474 - accuracy: 0.9619 - val_loss: 0.0967 - val_accuracy: 1.0000\n",
      "Epoch 168/250\n",
      "15/15 [==============================] - 0s 5ms/step - loss: 0.1337 - accuracy: 0.9714 - val_loss: 0.0937 - val_accuracy: 1.0000\n",
      "Epoch 169/250\n",
      "15/15 [==============================] - 0s 5ms/step - loss: 0.1346 - accuracy: 0.9714 - val_loss: 0.0943 - val_accuracy: 1.0000\n",
      "Epoch 170/250\n",
      "15/15 [==============================] - 0s 5ms/step - loss: 0.1336 - accuracy: 0.9714 - val_loss: 0.0912 - val_accuracy: 1.0000\n",
      "Epoch 171/250\n",
      "15/15 [==============================] - 0s 4ms/step - loss: 0.1339 - accuracy: 0.9619 - val_loss: 0.0934 - val_accuracy: 0.9778\n",
      "Epoch 172/250\n",
      "15/15 [==============================] - 0s 5ms/step - loss: 0.1304 - accuracy: 0.9714 - val_loss: 0.0888 - val_accuracy: 1.0000\n",
      "Epoch 173/250\n",
      "15/15 [==============================] - 0s 5ms/step - loss: 0.1282 - accuracy: 0.9714 - val_loss: 0.0887 - val_accuracy: 1.0000\n",
      "Epoch 174/250\n",
      "15/15 [==============================] - 0s 5ms/step - loss: 0.1293 - accuracy: 0.9714 - val_loss: 0.0873 - val_accuracy: 1.0000\n",
      "Epoch 175/250\n",
      "15/15 [==============================] - 0s 4ms/step - loss: 0.1275 - accuracy: 0.9714 - val_loss: 0.0867 - val_accuracy: 1.0000\n",
      "Epoch 176/250\n",
      "15/15 [==============================] - 0s 5ms/step - loss: 0.1291 - accuracy: 0.9714 - val_loss: 0.0859 - val_accuracy: 1.0000\n",
      "Epoch 177/250\n",
      "15/15 [==============================] - 0s 5ms/step - loss: 0.1263 - accuracy: 0.9619 - val_loss: 0.0852 - val_accuracy: 1.0000\n",
      "Epoch 178/250\n",
      "15/15 [==============================] - 0s 4ms/step - loss: 0.1265 - accuracy: 0.9714 - val_loss: 0.0828 - val_accuracy: 1.0000\n",
      "Epoch 179/250\n",
      "15/15 [==============================] - 0s 5ms/step - loss: 0.1250 - accuracy: 0.9714 - val_loss: 0.0871 - val_accuracy: 0.9778\n",
      "Epoch 180/250\n",
      "15/15 [==============================] - 0s 4ms/step - loss: 0.1219 - accuracy: 0.9619 - val_loss: 0.0810 - val_accuracy: 1.0000\n",
      "Epoch 181/250\n",
      "15/15 [==============================] - 0s 4ms/step - loss: 0.1234 - accuracy: 0.9714 - val_loss: 0.0809 - val_accuracy: 1.0000\n",
      "Epoch 182/250\n",
      "15/15 [==============================] - 0s 4ms/step - loss: 0.1205 - accuracy: 0.9714 - val_loss: 0.0787 - val_accuracy: 1.0000\n",
      "Epoch 183/250\n",
      "15/15 [==============================] - 0s 4ms/step - loss: 0.1212 - accuracy: 0.9714 - val_loss: 0.0776 - val_accuracy: 1.0000\n",
      "Epoch 184/250\n",
      "15/15 [==============================] - 0s 4ms/step - loss: 0.1204 - accuracy: 0.9714 - val_loss: 0.0789 - val_accuracy: 0.9778\n",
      "Epoch 185/250\n",
      "15/15 [==============================] - 0s 4ms/step - loss: 0.1196 - accuracy: 0.9714 - val_loss: 0.0758 - val_accuracy: 1.0000\n",
      "Epoch 186/250\n",
      "15/15 [==============================] - 0s 4ms/step - loss: 0.1231 - accuracy: 0.9619 - val_loss: 0.0780 - val_accuracy: 0.9778\n",
      "Epoch 187/250\n",
      "15/15 [==============================] - 0s 5ms/step - loss: 0.1200 - accuracy: 0.9714 - val_loss: 0.0741 - val_accuracy: 1.0000\n",
      "Epoch 188/250\n",
      "15/15 [==============================] - 0s 4ms/step - loss: 0.1192 - accuracy: 0.9619 - val_loss: 0.0796 - val_accuracy: 0.9778\n",
      "Epoch 189/250\n",
      "15/15 [==============================] - 0s 4ms/step - loss: 0.1179 - accuracy: 0.9714 - val_loss: 0.0725 - val_accuracy: 1.0000\n",
      "Epoch 190/250\n",
      "15/15 [==============================] - 0s 4ms/step - loss: 0.1156 - accuracy: 0.9714 - val_loss: 0.0765 - val_accuracy: 0.9778\n",
      "Epoch 191/250\n",
      "15/15 [==============================] - 0s 4ms/step - loss: 0.1144 - accuracy: 0.9714 - val_loss: 0.0716 - val_accuracy: 1.0000\n",
      "Epoch 192/250\n",
      "15/15 [==============================] - 0s 4ms/step - loss: 0.1137 - accuracy: 0.9714 - val_loss: 0.0730 - val_accuracy: 0.9778\n",
      "Epoch 193/250\n",
      "15/15 [==============================] - 0s 4ms/step - loss: 0.1154 - accuracy: 0.9714 - val_loss: 0.0700 - val_accuracy: 1.0000\n",
      "Epoch 194/250\n",
      "15/15 [==============================] - 0s 4ms/step - loss: 0.1103 - accuracy: 0.9714 - val_loss: 0.0733 - val_accuracy: 0.9778\n",
      "Epoch 195/250\n",
      "15/15 [==============================] - 0s 4ms/step - loss: 0.1114 - accuracy: 0.9714 - val_loss: 0.0695 - val_accuracy: 1.0000\n",
      "Epoch 196/250\n",
      "15/15 [==============================] - 0s 4ms/step - loss: 0.1104 - accuracy: 0.9714 - val_loss: 0.0676 - val_accuracy: 1.0000\n",
      "Epoch 197/250\n",
      "15/15 [==============================] - 0s 4ms/step - loss: 0.1102 - accuracy: 0.9714 - val_loss: 0.0715 - val_accuracy: 0.9778\n",
      "Epoch 198/250\n",
      "15/15 [==============================] - 0s 5ms/step - loss: 0.1093 - accuracy: 0.9714 - val_loss: 0.0673 - val_accuracy: 1.0000\n",
      "Epoch 199/250\n",
      "15/15 [==============================] - 0s 4ms/step - loss: 0.1087 - accuracy: 0.9714 - val_loss: 0.0663 - val_accuracy: 1.0000\n",
      "Epoch 200/250\n",
      "15/15 [==============================] - 0s 4ms/step - loss: 0.1083 - accuracy: 0.9714 - val_loss: 0.0662 - val_accuracy: 1.0000\n",
      "Epoch 201/250\n",
      "15/15 [==============================] - 0s 5ms/step - loss: 0.1068 - accuracy: 0.9714 - val_loss: 0.0664 - val_accuracy: 0.9778\n",
      "Epoch 202/250\n",
      "15/15 [==============================] - 0s 5ms/step - loss: 0.1071 - accuracy: 0.9714 - val_loss: 0.0654 - val_accuracy: 0.9778\n",
      "Epoch 203/250\n",
      "15/15 [==============================] - 0s 4ms/step - loss: 0.1069 - accuracy: 0.9714 - val_loss: 0.0631 - val_accuracy: 1.0000\n",
      "Epoch 204/250\n",
      "15/15 [==============================] - 0s 5ms/step - loss: 0.1074 - accuracy: 0.9714 - val_loss: 0.0634 - val_accuracy: 1.0000\n",
      "Epoch 205/250\n",
      "15/15 [==============================] - 0s 4ms/step - loss: 0.1077 - accuracy: 0.9619 - val_loss: 0.0625 - val_accuracy: 1.0000\n",
      "Epoch 206/250\n",
      "15/15 [==============================] - 0s 4ms/step - loss: 0.1052 - accuracy: 0.9714 - val_loss: 0.0633 - val_accuracy: 0.9778\n",
      "Epoch 207/250\n",
      "15/15 [==============================] - 0s 4ms/step - loss: 0.1113 - accuracy: 0.9619 - val_loss: 0.0623 - val_accuracy: 0.9778\n",
      "Epoch 208/250\n",
      "15/15 [==============================] - 0s 4ms/step - loss: 0.1027 - accuracy: 0.9714 - val_loss: 0.0666 - val_accuracy: 0.9778\n",
      "Epoch 209/250\n",
      "15/15 [==============================] - 0s 4ms/step - loss: 0.1042 - accuracy: 0.9714 - val_loss: 0.0631 - val_accuracy: 0.9778\n",
      "Epoch 210/250\n",
      "15/15 [==============================] - 0s 4ms/step - loss: 0.1025 - accuracy: 0.9714 - val_loss: 0.0588 - val_accuracy: 1.0000\n",
      "Epoch 211/250\n",
      "15/15 [==============================] - 0s 5ms/step - loss: 0.1039 - accuracy: 0.9714 - val_loss: 0.0603 - val_accuracy: 0.9778\n",
      "Epoch 212/250\n",
      "15/15 [==============================] - 0s 4ms/step - loss: 0.1022 - accuracy: 0.9714 - val_loss: 0.0595 - val_accuracy: 1.0000\n",
      "Epoch 213/250\n",
      "15/15 [==============================] - 0s 4ms/step - loss: 0.1040 - accuracy: 0.9619 - val_loss: 0.0597 - val_accuracy: 0.9778\n",
      "Epoch 214/250\n",
      "15/15 [==============================] - 0s 4ms/step - loss: 0.1023 - accuracy: 0.9714 - val_loss: 0.0585 - val_accuracy: 0.9778\n",
      "Epoch 215/250\n",
      "15/15 [==============================] - 0s 5ms/step - loss: 0.1041 - accuracy: 0.9714 - val_loss: 0.0584 - val_accuracy: 0.9778\n",
      "Epoch 216/250\n",
      "15/15 [==============================] - 0s 5ms/step - loss: 0.1023 - accuracy: 0.9810 - val_loss: 0.0610 - val_accuracy: 0.9778\n",
      "Epoch 217/250\n",
      "15/15 [==============================] - 0s 4ms/step - loss: 0.1059 - accuracy: 0.9714 - val_loss: 0.0563 - val_accuracy: 1.0000\n",
      "Epoch 218/250\n",
      "15/15 [==============================] - 0s 4ms/step - loss: 0.1003 - accuracy: 0.9714 - val_loss: 0.0602 - val_accuracy: 0.9778\n",
      "Epoch 219/250\n",
      "15/15 [==============================] - 0s 4ms/step - loss: 0.1083 - accuracy: 0.9714 - val_loss: 0.0551 - val_accuracy: 1.0000\n",
      "Epoch 220/250\n",
      "15/15 [==============================] - 0s 3ms/step - loss: 0.1155 - accuracy: 0.9429 - val_loss: 0.0630 - val_accuracy: 0.9778\n",
      "Epoch 221/250\n",
      "15/15 [==============================] - 0s 4ms/step - loss: 0.1023 - accuracy: 0.9619 - val_loss: 0.0536 - val_accuracy: 1.0000\n",
      "Epoch 222/250\n",
      "15/15 [==============================] - 0s 4ms/step - loss: 0.0995 - accuracy: 0.9619 - val_loss: 0.0612 - val_accuracy: 0.9778\n",
      "Epoch 223/250\n",
      "15/15 [==============================] - 0s 4ms/step - loss: 0.1001 - accuracy: 0.9714 - val_loss: 0.0556 - val_accuracy: 0.9778\n",
      "Epoch 224/250\n",
      "15/15 [==============================] - 0s 4ms/step - loss: 0.1039 - accuracy: 0.9714 - val_loss: 0.0524 - val_accuracy: 1.0000\n",
      "Epoch 225/250\n",
      "15/15 [==============================] - 0s 4ms/step - loss: 0.1001 - accuracy: 0.9619 - val_loss: 0.0618 - val_accuracy: 0.9778\n",
      "Epoch 226/250\n",
      "15/15 [==============================] - 0s 5ms/step - loss: 0.0958 - accuracy: 0.9714 - val_loss: 0.0531 - val_accuracy: 1.0000\n",
      "Epoch 227/250\n",
      "15/15 [==============================] - 0s 5ms/step - loss: 0.1047 - accuracy: 0.9619 - val_loss: 0.0514 - val_accuracy: 1.0000\n",
      "Epoch 228/250\n",
      "15/15 [==============================] - 0s 5ms/step - loss: 0.0941 - accuracy: 0.9810 - val_loss: 0.0592 - val_accuracy: 0.9778\n",
      "Epoch 229/250\n",
      "15/15 [==============================] - 0s 4ms/step - loss: 0.0963 - accuracy: 0.9810 - val_loss: 0.0525 - val_accuracy: 0.9778\n",
      "Epoch 230/250\n",
      "15/15 [==============================] - 0s 5ms/step - loss: 0.0988 - accuracy: 0.9619 - val_loss: 0.0503 - val_accuracy: 1.0000\n",
      "Epoch 231/250\n",
      "15/15 [==============================] - 0s 5ms/step - loss: 0.1004 - accuracy: 0.9619 - val_loss: 0.0599 - val_accuracy: 0.9778\n",
      "Epoch 232/250\n",
      "15/15 [==============================] - 0s 5ms/step - loss: 0.0944 - accuracy: 0.9714 - val_loss: 0.0503 - val_accuracy: 1.0000\n",
      "Epoch 233/250\n",
      "15/15 [==============================] - 0s 4ms/step - loss: 0.0939 - accuracy: 0.9714 - val_loss: 0.0504 - val_accuracy: 1.0000\n",
      "Epoch 234/250\n",
      "15/15 [==============================] - 0s 4ms/step - loss: 0.0953 - accuracy: 0.9619 - val_loss: 0.0508 - val_accuracy: 0.9778\n",
      "Epoch 235/250\n",
      "15/15 [==============================] - 0s 4ms/step - loss: 0.0967 - accuracy: 0.9714 - val_loss: 0.0603 - val_accuracy: 0.9778\n",
      "Epoch 236/250\n",
      "15/15 [==============================] - 0s 4ms/step - loss: 0.1068 - accuracy: 0.9619 - val_loss: 0.0480 - val_accuracy: 1.0000\n",
      "Epoch 237/250\n",
      "15/15 [==============================] - 0s 4ms/step - loss: 0.0912 - accuracy: 0.9714 - val_loss: 0.0562 - val_accuracy: 0.9778\n",
      "Epoch 238/250\n",
      "15/15 [==============================] - 0s 4ms/step - loss: 0.0955 - accuracy: 0.9714 - val_loss: 0.0483 - val_accuracy: 1.0000\n",
      "Epoch 239/250\n",
      "15/15 [==============================] - 0s 4ms/step - loss: 0.0918 - accuracy: 0.9714 - val_loss: 0.0485 - val_accuracy: 1.0000\n",
      "Epoch 240/250\n",
      "15/15 [==============================] - 0s 4ms/step - loss: 0.0942 - accuracy: 0.9619 - val_loss: 0.0503 - val_accuracy: 0.9778\n",
      "Epoch 241/250\n",
      "15/15 [==============================] - 0s 4ms/step - loss: 0.0910 - accuracy: 0.9714 - val_loss: 0.0508 - val_accuracy: 0.9778\n",
      "Epoch 242/250\n",
      "15/15 [==============================] - 0s 5ms/step - loss: 0.0927 - accuracy: 0.9714 - val_loss: 0.0511 - val_accuracy: 0.9778\n",
      "Epoch 243/250\n",
      "15/15 [==============================] - 0s 4ms/step - loss: 0.0946 - accuracy: 0.9619 - val_loss: 0.0457 - val_accuracy: 1.0000\n",
      "Epoch 244/250\n",
      "15/15 [==============================] - 0s 4ms/step - loss: 0.0892 - accuracy: 0.9810 - val_loss: 0.0562 - val_accuracy: 0.9778\n",
      "Epoch 245/250\n",
      "15/15 [==============================] - 0s 5ms/step - loss: 0.0895 - accuracy: 0.9810 - val_loss: 0.0477 - val_accuracy: 0.9778\n",
      "Epoch 246/250\n",
      "15/15 [==============================] - 0s 5ms/step - loss: 0.0913 - accuracy: 0.9714 - val_loss: 0.0456 - val_accuracy: 1.0000\n",
      "Epoch 247/250\n",
      "15/15 [==============================] - 0s 4ms/step - loss: 0.0888 - accuracy: 0.9714 - val_loss: 0.0559 - val_accuracy: 0.9778\n",
      "Epoch 248/250\n",
      "15/15 [==============================] - 0s 5ms/step - loss: 0.0919 - accuracy: 0.9714 - val_loss: 0.0468 - val_accuracy: 0.9778\n",
      "Epoch 249/250\n",
      "15/15 [==============================] - 0s 4ms/step - loss: 0.0895 - accuracy: 0.9714 - val_loss: 0.0520 - val_accuracy: 0.9778\n",
      "Epoch 250/250\n",
      "15/15 [==============================] - 0s 5ms/step - loss: 0.0881 - accuracy: 0.9714 - val_loss: 0.0458 - val_accuracy: 0.9778\n"
     ]
    }
   ],
   "source": [
    "History_iris = Model_iris.fit(X_train, y_train,\n",
    "                              epochs = 250,\n",
    "                              batch_size = 7,\n",
    "                              validation_data = (X_test, y_test))"
   ]
  },
  {
   "cell_type": "markdown",
   "metadata": {
    "id": "KWR3hsEE_ZGS"
   },
   "source": [
    "> ## 5) 학습 결과 시각화"
   ]
  },
  {
   "cell_type": "code",
   "execution_count": 18,
   "metadata": {
    "colab": {
     "base_uri": "https://localhost:8080/",
     "height": 374
    },
    "executionInfo": {
     "elapsed": 53,
     "status": "ok",
     "timestamp": 1673400553750,
     "user": {
      "displayName": "이정구",
      "userId": "17400242557229223804"
     },
     "user_tz": -540
    },
    "id": "OMpwabfNq2_v",
    "outputId": "e7d4c7c5-2285-4376-bdaf-6c48c0890bd8"
   },
   "outputs": [
    {
     "data": {
      "image/png": "[encoded data removed]",
      "text/plain": [
       "<Figure size 648x432 with 1 Axes>"
      ]
     },
     "metadata": {
      "needs_background": "light"
     },
     "output_type": "display_data"
    }
   ],
   "source": [
    "import matplotlib.pyplot as plt\n",
    "\n",
    "plt.figure(figsize = (9, 6))\n",
    "plt.ylim(0, 1.1)\n",
    "plt.plot(History_iris.history['loss'])\n",
    "plt.plot(History_iris.history['val_loss'])\n",
    "plt.plot(History_iris.history['accuracy'])\n",
    "plt.plot(History_iris.history['val_accuracy'])\n",
    "plt.legend(['loss', 'val_loss', 'accuracy', 'val_accuracy'])\n",
    "plt.grid()\n",
    "plt.show()"
   ]
  },
  {
   "cell_type": "markdown",
   "metadata": {
    "id": "FNq1blJf_eIW"
   },
   "source": [
    "> ## 6) Model Evaluate"
   ]
  },
  {
   "cell_type": "markdown",
   "metadata": {
    "id": "Dok6iL5RKeTP"
   },
   "source": [
    "* Loss & Accuracy"
   ]
  },
  {
   "cell_type": "code",
   "execution_count": 19,
   "metadata": {
    "colab": {
     "base_uri": "https://localhost:8080/"
    },
    "executionInfo": {
     "elapsed": 463,
     "status": "ok",
     "timestamp": 1673400554167,
     "user": {
      "displayName": "이정구",
      "userId": "17400242557229223804"
     },
     "user_tz": -540
    },
    "id": "fJ2HtnYYsPIE",
    "outputId": "e309ae47-8712-4c90-d4cd-5a170bb31fc8"
   },
   "outputs": [
    {
     "name": "stdout",
     "output_type": "stream",
     "text": [
      "2/2 [==============================] - 0s 7ms/step - loss: 0.0458 - accuracy: 0.9778\n",
      "Loss = 0.04579\n",
      "Accuracy = 0.97778\n"
     ]
    }
   ],
   "source": [
    "loss, accuracy = Model_iris.evaluate(X_test, y_test)\n",
    "\n",
    "print('Loss = {:.5f}'.format(loss))\n",
    "print('Accuracy = {:.5f}'.format(accuracy))"
   ]
  },
  {
   "cell_type": "markdown",
   "metadata": {
    "id": "jFjd3_I7_mqn"
   },
   "source": [
    "> ## 7) Model Predict"
   ]
  },
  {
   "cell_type": "markdown",
   "metadata": {
    "id": "CGP07vr3_rAK"
   },
   "source": [
    "* Probability"
   ]
  },
  {
   "cell_type": "code",
   "execution_count": 20,
   "metadata": {
    "colab": {
     "base_uri": "https://localhost:8080/"
    },
    "executionInfo": {
     "elapsed": 23,
     "status": "ok",
     "timestamp": 1673400554168,
     "user": {
      "displayName": "이정구",
      "userId": "17400242557229223804"
     },
     "user_tz": -540
    },
    "id": "St1qcFxQuKqB",
    "outputId": "0c75ca7c-1d1e-44b3-da64-3e5c2db8d6e4"
   },
   "outputs": [
    {
     "name": "stdout",
     "output_type": "stream",
     "text": [
      "2/2 [==============================] - 0s 6ms/step\n"
     ]
    },
    {
     "data": {
      "text/plain": [
       "array([[0.99724, 0.00276, 0.     ],\n",
       "       [0.9789 , 0.0211 , 0.     ],\n",
       "       [0.02568, 0.97353, 0.00078],\n",
       "       [0.     , 0.004  , 0.996  ],\n",
       "       [0.99884, 0.00116, 0.     ],\n",
       "       [0.0015 , 0.99385, 0.00465],\n",
       "       [0.     , 0.03595, 0.96405],\n",
       "       [0.99849, 0.00151, 0.     ],\n",
       "       [0.     , 0.02315, 0.97685],\n",
       "       [0.99749, 0.00251, 0.     ],\n",
       "       [0.00011, 0.80475, 0.19514],\n",
       "       [0.     , 0.01571, 0.98429],\n",
       "       [0.00006, 0.95037, 0.04957],\n",
       "       [0.99955, 0.00045, 0.     ],\n",
       "       [0.99917, 0.00083, 0.     ],\n",
       "       [0.00024, 0.95195, 0.04781],\n",
       "       [0.00004, 0.89672, 0.10324],\n",
       "       [0.99667, 0.00333, 0.     ],\n",
       "       [0.00009, 0.9832 , 0.01671],\n",
       "       [0.99891, 0.00109, 0.     ],\n",
       "       [0.99765, 0.00235, 0.     ],\n",
       "       [0.99727, 0.00273, 0.     ],\n",
       "       [0.     , 0.0129 , 0.9871 ],\n",
       "       [0.99815, 0.00185, 0.     ],\n",
       "       [0.     , 0.11668, 0.88332],\n",
       "       [0.     , 0.06992, 0.93008],\n",
       "       [0.99807, 0.00193, 0.     ],\n",
       "       [0.00003, 0.95521, 0.04477],\n",
       "       [0.00002, 0.93757, 0.06241],\n",
       "       [0.     , 0.15062, 0.84938],\n",
       "       [0.99858, 0.00142, 0.     ],\n",
       "       [0.00006, 0.96951, 0.03043],\n",
       "       [0.99916, 0.00084, 0.     ],\n",
       "       [0.     , 0.505  , 0.495  ],\n",
       "       [0.0001 , 0.94916, 0.05074],\n",
       "       [0.00096, 0.99502, 0.00402],\n",
       "       [0.     , 0.00673, 0.99327],\n",
       "       [0.00071, 0.98904, 0.01025],\n",
       "       [0.99727, 0.00273, 0.     ],\n",
       "       [0.00036, 0.97092, 0.02871],\n",
       "       [0.     , 0.00496, 0.99504],\n",
       "       [0.9984 , 0.0016 , 0.     ],\n",
       "       [0.     , 0.03091, 0.96909],\n",
       "       [0.     , 0.00831, 0.99169],\n",
       "       [0.     , 0.08369, 0.91631]], dtype=float32)"
      ]
     },
     "execution_count": 20,
     "metadata": {},
     "output_type": "execute_result"
    }
   ],
   "source": [
    "import numpy as np\n",
    "np.set_printoptions(suppress = True, precision = 5)\n",
    "\n",
    "Model_iris.predict(X_test)"
   ]
  },
  {
   "cell_type": "markdown",
   "metadata": {
    "id": "JbO8z-fFbrAT"
   },
   "source": [
    "* Probability to Class"
   ]
  },
  {
   "cell_type": "code",
   "execution_count": 21,
   "metadata": {
    "colab": {
     "base_uri": "https://localhost:8080/"
    },
    "executionInfo": {
     "elapsed": 19,
     "status": "ok",
     "timestamp": 1673400554168,
     "user": {
      "displayName": "이정구",
      "userId": "17400242557229223804"
     },
     "user_tz": -540
    },
    "id": "X9X3NSI1bc9z",
    "outputId": "2cd20504-23e3-4f41-ae29-627df884dfa0"
   },
   "outputs": [
    {
     "name": "stdout",
     "output_type": "stream",
     "text": [
      "2/2 [==============================] - 0s 7ms/step\n"
     ]
    },
    {
     "data": {
      "text/plain": [
       "array([0, 0, 1, 2, 0, 1, 2, 0, 2, 0, 1, 2, 1, 0, 0, 1, 1, 0, 1, 0, 0, 0,\n",
       "       2, 0, 2, 2, 0, 1, 1, 2, 0, 1, 0, 1, 1, 1, 2, 1, 0, 1, 2, 0, 2, 2,\n",
       "       2])"
      ]
     },
     "execution_count": 21,
     "metadata": {},
     "output_type": "execute_result"
    }
   ],
   "source": [
    "y_hat = np.argmax(Model_iris.predict(X_test), axis = 1)\n",
    "\n",
    "y_hat"
   ]
  },
  {
   "cell_type": "markdown",
   "metadata": {
    "id": "spr7DJmE_62e"
   },
   "source": [
    "* One-Hot Encoding to Array\n",
    " * np.argmax( ) : 다차원 배열의 차원에 따라 가장 큰 값의 인덱스를 반환\n",
    " * axis = 1 : 열기준"
   ]
  },
  {
   "cell_type": "code",
   "execution_count": 22,
   "metadata": {
    "colab": {
     "base_uri": "https://localhost:8080/"
    },
    "executionInfo": {
     "elapsed": 16,
     "status": "ok",
     "timestamp": 1673400554168,
     "user": {
      "displayName": "이정구",
      "userId": "17400242557229223804"
     },
     "user_tz": -540
    },
    "id": "8xv4SLZm0nzn",
    "outputId": "022dc4d0-a737-48ba-c29b-cda3a3fe3ef7"
   },
   "outputs": [
    {
     "data": {
      "text/plain": [
       "array([0, 0, 1, 2, 0, 1, 2, 0, 2, 0, 1, 2, 1, 0, 0, 1, 1, 0, 1, 0, 0, 0,\n",
       "       2, 0, 2, 2, 0, 1, 1, 2, 0, 1, 0, 2, 1, 1, 2, 1, 0, 1, 2, 0, 2, 2,\n",
       "       2])"
      ]
     },
     "execution_count": 22,
     "metadata": {},
     "output_type": "execute_result"
    }
   ],
   "source": [
    "y = np.argmax(y_test, axis = 1)\n",
    "\n",
    "y"
   ]
  },
  {
   "cell_type": "markdown",
   "metadata": {
    "id": "y-hzFPiDAEyo"
   },
   "source": [
    "* Confusion Matrix & Claasification Report"
   ]
  },
  {
   "cell_type": "code",
   "execution_count": 23,
   "metadata": {
    "colab": {
     "base_uri": "https://localhost:8080/"
    },
    "executionInfo": {
     "elapsed": 15,
     "status": "ok",
     "timestamp": 1673400554169,
     "user": {
      "displayName": "이정구",
      "userId": "17400242557229223804"
     },
     "user_tz": -540
    },
    "id": "ECnlNwrRzZve",
    "outputId": "5c9c9523-d879-4197-86ed-5e6235370e09"
   },
   "outputs": [
    {
     "data": {
      "text/plain": [
       "array([[17,  0,  0],\n",
       "       [ 0, 14,  0],\n",
       "       [ 0,  1, 13]])"
      ]
     },
     "execution_count": 23,
     "metadata": {},
     "output_type": "execute_result"
    }
   ],
   "source": [
    "from sklearn.metrics import confusion_matrix, classification_report\n",
    "\n",
    "confusion_matrix(y, y_hat)"
   ]
  },
  {
   "cell_type": "code",
   "execution_count": 24,
   "metadata": {
    "colab": {
     "base_uri": "https://localhost:8080/"
    },
    "executionInfo": {
     "elapsed": 13,
     "status": "ok",
     "timestamp": 1673400554169,
     "user": {
      "displayName": "이정구",
      "userId": "17400242557229223804"
     },
     "user_tz": -540
    },
    "id": "6xW7Tw8Luk8O",
    "outputId": "a20ff9eb-2cf6-4f8a-a1cd-ad6ed6720b65"
   },
   "outputs": [
    {
     "name": "stdout",
     "output_type": "stream",
     "text": [
      "              precision    recall  f1-score   support\n",
      "\n",
      "      setosa       1.00      1.00      1.00        17\n",
      "  versicolor       0.93      1.00      0.97        14\n",
      "   virginica       1.00      0.93      0.96        14\n",
      "\n",
      "    accuracy                           0.98        45\n",
      "   macro avg       0.98      0.98      0.98        45\n",
      "weighted avg       0.98      0.98      0.98        45\n",
      "\n"
     ]
    }
   ],
   "source": [
    "print(classification_report(y, y_hat, \n",
    "                            target_names = ['setosa',\n",
    "                                            'versicolor',\n",
    "                                            'virginica']))"
   ]
  },
  {
   "cell_type": "markdown",
   "metadata": {
    "id": "N6YjXuM2AeEA"
   },
   "source": [
    "# III. Model Save & Load"
   ]
  },
  {
   "cell_type": "markdown",
   "metadata": {
    "id": "QJHanSlYBMaD"
   },
   "source": [
    "> ## 1) File System"
   ]
  },
  {
   "cell_type": "markdown",
   "metadata": {
    "id": "9fukCVfZBreP"
   },
   "source": [
    "* Save to Colab File System"
   ]
  },
  {
   "cell_type": "code",
   "execution_count": 25,
   "metadata": {
    "colab": {
     "base_uri": "https://localhost:8080/"
    },
    "executionInfo": {
     "elapsed": 11,
     "status": "ok",
     "timestamp": 1673400554169,
     "user": {
      "displayName": "이정구",
      "userId": "17400242557229223804"
     },
     "user_tz": -540
    },
    "id": "90EpGKTo1B_2",
    "outputId": "8a131974-2f7b-470e-8c06-198375bbfe46"
   },
   "outputs": [
    {
     "name": "stdout",
     "output_type": "stream",
     "text": [
      "total 36\n",
      "-rw-r--r-- 1 root root 31948 Jan 11 01:28 model.png\n",
      "drwxr-xr-x 1 root root  4096 Jan  9 14:36 sample_data\n"
     ]
    }
   ],
   "source": [
    "!ls -l"
   ]
  },
  {
   "cell_type": "code",
   "execution_count": 26,
   "metadata": {
    "colab": {
     "base_uri": "https://localhost:8080/"
    },
    "executionInfo": {
     "elapsed": 8,
     "status": "ok",
     "timestamp": 1673400554169,
     "user": {
      "displayName": "이정구",
      "userId": "17400242557229223804"
     },
     "user_tz": -540
    },
    "id": "FXz2D-PxAn0p",
    "outputId": "ac87dea8-708c-4544-9f04-da8b7ee681f3"
   },
   "outputs": [
    {
     "name": "stdout",
     "output_type": "stream",
     "text": [
      "total 72\n",
      "-rw-r--r-- 1 root root 35432 Jan 11 01:29 Model_iris.h5\n",
      "-rw-r--r-- 1 root root 31948 Jan 11 01:28 model.png\n",
      "drwxr-xr-x 1 root root  4096 Jan  9 14:36 sample_data\n"
     ]
    }
   ],
   "source": [
    "Model_iris.save('Model_iris.h5')\n",
    "\n",
    "!ls -l"
   ]
  },
  {
   "cell_type": "markdown",
   "metadata": {
    "id": "mnABg40YB0Ex"
   },
   "source": [
    "* Download Colab File System to Local File System"
   ]
  },
  {
   "cell_type": "code",
   "execution_count": 27,
   "metadata": {
    "colab": {
     "base_uri": "https://localhost:8080/",
     "height": 17
    },
    "executionInfo": {
     "elapsed": 310,
     "status": "ok",
     "timestamp": 1673400554474,
     "user": {
      "displayName": "이정구",
      "userId": "17400242557229223804"
     },
     "user_tz": -540
    },
    "id": "UROGkgi7B3J6",
    "outputId": "34dd7ece-a249-4b58-93b8-25fbb3268842"
   },
   "outputs": [
    {
     "data": {
      "application/javascript": [
       "\n",
       "    async function download(id, filename, size) {\n",
       "      if (!google.colab.kernel.accessAllowed) {\n",
       "        return;\n",
       "      }\n",
       "      const div = document.createElement('div');\n",
       "      const label = document.createElement('label');\n",
       "      label.textContent = `Downloading \"${filename}\": `;\n",
       "      div.appendChild(label);\n",
       "      const progress = document.createElement('progress');\n",
       "      progress.max = size;\n",
       "      div.appendChild(progress);\n",
       "      document.body.appendChild(div);\n",
       "\n",
       "      const buffers = [];\n",
       "      let downloaded = 0;\n",
       "\n",
       "      const channel = await google.colab.kernel.comms.open(id);\n",
       "      // Send a message to notify the kernel that we're ready.\n",
       "      channel.send({})\n",
       "\n",
       "      for await (const message of channel.messages) {\n",
       "        // Send a message to notify the kernel that we're ready.\n",
       "        channel.send({})\n",
       "        if (message.buffers) {\n",
       "          for (const buffer of message.buffers) {\n",
       "            buffers.push(buffer);\n",
       "            downloaded += buffer.byteLength;\n",
       "            progress.value = downloaded;\n",
       "          }\n",
       "        }\n",
       "      }\n",
       "      const blob = new Blob(buffers, {type: 'application/binary'});\n",
       "      const a = document.createElement('a');\n",
       "      a.href = window.URL.createObjectURL(blob);\n",
       "      a.download = filename;\n",
       "      div.appendChild(a);\n",
       "      a.click();\n",
       "      div.remove();\n",
       "    }\n",
       "  "
      ],
      "text/plain": [
       "<IPython.core.display.Javascript object>"
      ]
     },
     "metadata": {},
     "output_type": "display_data"
    },
    {
     "data": {
      "application/javascript": [
       "download(\"download_b4353952-cf46-4fea-bcd1-328bb1f19205\", \"Model_iris.h5\", 35432)"
      ],
      "text/plain": [
       "<IPython.core.display.Javascript object>"
      ]
     },
     "metadata": {},
     "output_type": "display_data"
    }
   ],
   "source": [
    "from google.colab import files\n",
    "\n",
    "files.download('Model_iris.h5')"
   ]
  },
  {
   "cell_type": "markdown",
   "metadata": {
    "id": "50eGEKhzDbVg"
   },
   "source": [
    "* Load from Colab File System"
   ]
  },
  {
   "cell_type": "code",
   "execution_count": 28,
   "metadata": {
    "executionInfo": {
     "elapsed": 23,
     "status": "ok",
     "timestamp": 1673400554475,
     "user": {
      "displayName": "이정구",
      "userId": "17400242557229223804"
     },
     "user_tz": -540
    },
    "id": "SlNcgVb9BZQz"
   },
   "outputs": [],
   "source": [
    "from tensorflow.keras.models import load_model\n",
    "\n",
    "Model_local = load_model('Model_iris.h5')"
   ]
  },
  {
   "cell_type": "code",
   "execution_count": 29,
   "metadata": {
    "colab": {
     "base_uri": "https://localhost:8080/"
    },
    "executionInfo": {
     "elapsed": 23,
     "status": "ok",
     "timestamp": 1673400554476,
     "user": {
      "displayName": "이정구",
      "userId": "17400242557229223804"
     },
     "user_tz": -540
    },
    "id": "OoOS6Eet1-jY",
    "outputId": "cd89e2d2-d4b7-4c40-d9b9-3528ce64c791"
   },
   "outputs": [
    {
     "name": "stdout",
     "output_type": "stream",
     "text": [
      "2/2 [==============================] - 0s 6ms/step\n"
     ]
    },
    {
     "data": {
      "text/plain": [
       "array([0, 0, 1, 2, 0, 1, 2, 0, 2, 0, 1, 2, 1, 0, 0, 1, 1, 0, 1, 0, 0, 0,\n",
       "       2, 0, 2, 2, 0, 1, 1, 2, 0, 1, 0, 1, 1, 1, 2, 1, 0, 1, 2, 0, 2, 2,\n",
       "       2])"
      ]
     },
     "execution_count": 29,
     "metadata": {},
     "output_type": "execute_result"
    }
   ],
   "source": [
    "np.argmax(Model_local.predict(X_test), axis = 1)"
   ]
  },
  {
   "cell_type": "markdown",
   "metadata": {
    "id": "q24HQDn3Bbmv"
   },
   "source": [
    "> ## 2) Google Drive"
   ]
  },
  {
   "cell_type": "markdown",
   "metadata": {
    "id": "-DoXDaDQD_nR"
   },
   "source": [
    "* Mount Google Drive"
   ]
  },
  {
   "cell_type": "code",
   "execution_count": 30,
   "metadata": {
    "colab": {
     "base_uri": "https://localhost:8080/"
    },
    "executionInfo": {
     "elapsed": 126098,
     "status": "ok",
     "timestamp": 1673400680559,
     "user": {
      "displayName": "이정구",
      "userId": "17400242557229223804"
     },
     "user_tz": -540
    },
    "id": "XUcAHm-oEThi",
    "outputId": "bdc6b776-7162-4c1a-9e93-e28f1c7ebaaf"
   },
   "outputs": [
    {
     "name": "stdout",
     "output_type": "stream",
     "text": [
      "Mounted at /content/drive\n"
     ]
    }
   ],
   "source": [
    "from google.colab import drive\n",
    "\n",
    "drive.mount('/content/drive')"
   ]
  },
  {
   "cell_type": "markdown",
   "metadata": {
    "id": "R3yaKi3GEftH"
   },
   "source": [
    "* Check Mounted_Drive"
   ]
  },
  {
   "cell_type": "code",
   "execution_count": 31,
   "metadata": {
    "colab": {
     "base_uri": "https://localhost:8080/"
    },
    "executionInfo": {
     "elapsed": 442,
     "status": "ok",
     "timestamp": 1673400680988,
     "user": {
      "displayName": "이정구",
      "userId": "17400242557229223804"
     },
     "user_tz": -540
    },
    "id": "Y96H0gSfEl0-",
    "outputId": "351177a7-3a2a-4bde-b1d3-50bcb7aa9dd5"
   },
   "outputs": [
    {
     "name": "stdout",
     "output_type": "stream",
     "text": [
      "total 40562\n",
      "-rw------- 1 root root    35432 Nov  5 02:33 001_Model_iris.h5\n",
      "-rw------- 1 root root 41499528 Nov 12 05:29 002_dogs_and_cats_small.h5\n"
     ]
    }
   ],
   "source": [
    "!ls -l '/content/drive/My Drive/Colab Notebooks/models'"
   ]
  },
  {
   "cell_type": "markdown",
   "metadata": {
    "id": "izCHadxzFuj-"
   },
   "source": [
    "* Save to Mounted Google Drive Directory"
   ]
  },
  {
   "cell_type": "code",
   "execution_count": 32,
   "metadata": {
    "executionInfo": {
     "elapsed": 7,
     "status": "ok",
     "timestamp": 1673400681336,
     "user": {
      "displayName": "이정구",
      "userId": "17400242557229223804"
     },
     "user_tz": -540
    },
    "id": "VYxWBnRXF1sm"
   },
   "outputs": [],
   "source": [
    "Model_iris.save('/content/drive/My Drive/Colab Notebooks/models/001_Model_iris.h5')"
   ]
  },
  {
   "cell_type": "code",
   "execution_count": 33,
   "metadata": {
    "colab": {
     "base_uri": "https://localhost:8080/"
    },
    "executionInfo": {
     "elapsed": 8,
     "status": "ok",
     "timestamp": 1673400681337,
     "user": {
      "displayName": "이정구",
      "userId": "17400242557229223804"
     },
     "user_tz": -540
    },
    "id": "62Ks4RIcGM5e",
    "outputId": "09f2d2cd-7258-41b6-b00e-a7942099cf34"
   },
   "outputs": [
    {
     "name": "stdout",
     "output_type": "stream",
     "text": [
      "total 40562\n",
      "-rw------- 1 root root    35432 Jan 11 01:31 001_Model_iris.h5\n",
      "-rw------- 1 root root 41499528 Nov 12 05:29 002_dogs_and_cats_small.h5\n"
     ]
    }
   ],
   "source": [
    "!ls -l '/content/drive/My Drive/Colab Notebooks/models'"
   ]
  },
  {
   "cell_type": "markdown",
   "metadata": {
    "id": "9qHYg5fPGnaB"
   },
   "source": [
    "* Load from Mounted Google Drive Directory"
   ]
  },
  {
   "cell_type": "code",
   "execution_count": 34,
   "metadata": {
    "executionInfo": {
     "elapsed": 4,
     "status": "ok",
     "timestamp": 1673400681337,
     "user": {
      "displayName": "이정구",
      "userId": "17400242557229223804"
     },
     "user_tz": -540
    },
    "id": "-c2nlwDbGcVZ"
   },
   "outputs": [],
   "source": [
    "from tensorflow.keras.models import load_model\n",
    "\n",
    "Model_google = load_model('/content/drive/My Drive/Colab Notebooks/models/001_Model_iris.h5')"
   ]
  },
  {
   "cell_type": "code",
   "execution_count": 35,
   "metadata": {
    "colab": {
     "base_uri": "https://localhost:8080/"
    },
    "executionInfo": {
     "elapsed": 327,
     "status": "ok",
     "timestamp": 1673400681661,
     "user": {
      "displayName": "이정구",
      "userId": "17400242557229223804"
     },
     "user_tz": -540
    },
    "id": "nsYObO3z4m3_",
    "outputId": "6c27d53a-7667-461b-e4a8-d278c190b30e"
   },
   "outputs": [
    {
     "name": "stdout",
     "output_type": "stream",
     "text": [
      "2/2 [==============================] - 0s 4ms/step\n"
     ]
    },
    {
     "data": {
      "text/plain": [
       "array([0, 0, 1, 2, 0, 1, 2, 0, 2, 0, 1, 2, 1, 0, 0, 1, 1, 0, 1, 0, 0, 0,\n",
       "       2, 0, 2, 2, 0, 1, 1, 2, 0, 1, 0, 1, 1, 1, 2, 1, 0, 1, 2, 0, 2, 2,\n",
       "       2])"
      ]
     },
     "execution_count": 35,
     "metadata": {},
     "output_type": "execute_result"
    }
   ],
   "source": [
    "np.argmax(Model_google.predict(X_test), axis = 1)"
   ]
  },
  {
   "cell_type": "markdown",
   "metadata": {
    "id": "prgTZL2h1A2Z"
   },
   "source": [
    "# \n",
    "# \n",
    "# \n",
    "# The End\n",
    "# \n",
    "# \n",
    "# "
   ]
  }
 ],
 "metadata": {
  "colab": {
   "provenance": []
  },
  "kernelspec": {
   "display_name": "Python 3 (ipykernel)",
   "language": "python",
   "name": "python3"
  },
  "language_info": {
   "codemirror_mode": {
    "name": "ipython",
    "version": 3
   },
   "file_extension": ".py",
   "mimetype": "text/x-python",
   "name": "python",
   "nbconvert_exporter": "python",
   "pygments_lexer": "ipython3",
   "version": "3.10.8"
  },
  "toc": {
   "base_numbering": 1,
   "nav_menu": {},
   "number_sections": true,
   "sideBar": true,
   "skip_h1_title": false,
   "title_cell": "Table of Contents",
   "title_sidebar": "Contents",
   "toc_cell": false,
   "toc_position": {},
   "toc_section_display": true,
   "toc_window_display": false
  }
 },
 "nbformat": 4,
 "nbformat_minor": 1
}
