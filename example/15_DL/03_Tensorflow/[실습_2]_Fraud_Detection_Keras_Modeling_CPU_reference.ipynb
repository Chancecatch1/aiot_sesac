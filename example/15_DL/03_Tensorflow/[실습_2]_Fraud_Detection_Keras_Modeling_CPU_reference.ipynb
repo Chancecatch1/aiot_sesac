{
 "cells": [
  {
   "cell_type": "markdown",
   "metadata": {
    "id": "q2Pr7oBdYLdf"
   },
   "source": [
    "# Kaggle 신용카드 사기 검출\n",
    "https://www.kaggle.com/mlg-ulb/creditcardfraud\n",
    "## Credit Card Fraud Detection\n",
    "* creditcard.csv (284,807 * 31)\n",
    "* Class : <font color = 'blue'>'0' (정상결제)</font>, <font color = 'red'>'1' (부정결제)</font>\n",
    "* 사기 검출(Fraud Detection), 이상 탐지(Anomaly Detection)"
   ]
  },
  {
   "cell_type": "code",
   "execution_count": 1,
   "metadata": {
    "id": "RbPgODpVzdHI"
   },
   "outputs": [],
   "source": [
    "import warnings\n",
    "warnings.filterwarnings('ignore')"
   ]
  },
  {
   "cell_type": "markdown",
   "metadata": {
    "id": "hp2jzMV4Eb0e"
   },
   "source": [
    "# I. wget From Github\n",
    "* 'creditCardFraud.zip' 파일 다운로드"
   ]
  },
  {
   "cell_type": "code",
   "execution_count": 2,
   "metadata": {
    "colab": {
     "base_uri": "https://localhost:8080/"
    },
    "executionInfo": {
     "elapsed": 531,
     "status": "ok",
     "timestamp": 1673488638668,
     "user": {
      "displayName": "이정구",
      "userId": "10412141110999311561"
     },
     "user_tz": -540
    },
    "id": "f32hYtuOh4F4",
    "outputId": "91e05d9c-7568-407a-c1fd-d711231a18dc"
   },
   "outputs": [],
   "source": [
    "# !wget https://raw.githubusercontent.com/rusita-ai/pyData/master/creditCardFraud.zip"
   ]
  },
  {
   "cell_type": "markdown",
   "metadata": {
    "id": "rBrMKlsgEvV7"
   },
   "source": [
    "* 다운로드 결과 확인"
   ]
  },
  {
   "cell_type": "code",
   "execution_count": 3,
   "metadata": {
    "colab": {
     "base_uri": "https://localhost:8080/"
    },
    "executionInfo": {
     "elapsed": 12,
     "status": "ok",
     "timestamp": 1673488638669,
     "user": {
      "displayName": "이정구",
      "userId": "10412141110999311561"
     },
     "user_tz": -540
    },
    "id": "ZAA_YjrVExu7",
    "outputId": "f20675ff-1f01-4d2a-8155-3b9f496c2c53"
   },
   "outputs": [],
   "source": [
    "# !ls -l "
   ]
  },
  {
   "cell_type": "markdown",
   "metadata": {
    "id": "1DyFdyVxFyHK"
   },
   "source": [
    "# II. Data Preprocessing"
   ]
  },
  {
   "cell_type": "markdown",
   "metadata": {
    "id": "D9zdBsGKnLUo"
   },
   "source": [
    "> ## 1) Unzip 'creditCardFraud.zip'\n",
    "\n",
    "* Colab 파일시스템에 'creditcard.csv' 파일 생성"
   ]
  },
  {
   "cell_type": "code",
   "execution_count": 4,
   "metadata": {
    "colab": {
     "base_uri": "https://localhost:8080/"
    },
    "executionInfo": {
     "elapsed": 1377,
     "status": "ok",
     "timestamp": 1673488640039,
     "user": {
      "displayName": "이정구",
      "userId": "10412141110999311561"
     },
     "user_tz": -540
    },
    "id": "WkuHaDXcnUtY",
    "outputId": "201eb77e-23ac-4adf-b105-81222bd6ae34"
   },
   "outputs": [],
   "source": [
    "# !unzip /content/creditCardFraud.zip"
   ]
  },
  {
   "cell_type": "markdown",
   "metadata": {
    "id": "O_8T9fKaE1Dh"
   },
   "source": [
    "* creditcard.csv 파일 확인"
   ]
  },
  {
   "cell_type": "code",
   "execution_count": 5,
   "metadata": {
    "colab": {
     "base_uri": "https://localhost:8080/"
    },
    "executionInfo": {
     "elapsed": 496,
     "status": "ok",
     "timestamp": 1673488640533,
     "user": {
      "displayName": "이정구",
      "userId": "10412141110999311561"
     },
     "user_tz": -540
    },
    "id": "VcWMC7zwExLX",
    "outputId": "f4248641-6323-43e6-9cd9-af1cabc75b23"
   },
   "outputs": [],
   "source": [
    "# !ls -l"
   ]
  },
  {
   "cell_type": "markdown",
   "metadata": {
    "id": "C1IbUVmgFJWi"
   },
   "source": [
    "> ## 2) 데이터 읽어오기\n",
    "\n",
    "* pandas DataFrame"
   ]
  },
  {
   "cell_type": "code",
   "execution_count": 6,
   "metadata": {
    "colab": {
     "base_uri": "https://localhost:8080/"
    },
    "executionInfo": {
     "elapsed": 1736,
     "status": "ok",
     "timestamp": 1673488642265,
     "user": {
      "displayName": "이정구",
      "userId": "10412141110999311561"
     },
     "user_tz": -540
    },
    "id": "oyKuNQuXEywU",
    "outputId": "59623958-27c0-4779-b0df-2226b9870ddd"
   },
   "outputs": [
    {
     "name": "stdout",
     "output_type": "stream",
     "text": [
      "<class 'pandas.core.frame.DataFrame'>\n",
      "RangeIndex: 284807 entries, 0 to 284806\n",
      "Data columns (total 31 columns):\n",
      " #   Column  Non-Null Count   Dtype  \n",
      "---  ------  --------------   -----  \n",
      " 0   Time    284807 non-null  float64\n",
      " 1   V1      284807 non-null  float64\n",
      " 2   V2      284807 non-null  float64\n",
      " 3   V3      284807 non-null  float64\n",
      " 4   V4      284807 non-null  float64\n",
      " 5   V5      284807 non-null  float64\n",
      " 6   V6      284807 non-null  float64\n",
      " 7   V7      284807 non-null  float64\n",
      " 8   V8      284807 non-null  float64\n",
      " 9   V9      284807 non-null  float64\n",
      " 10  V10     284807 non-null  float64\n",
      " 11  V11     284807 non-null  float64\n",
      " 12  V12     284807 non-null  float64\n",
      " 13  V13     284807 non-null  float64\n",
      " 14  V14     284807 non-null  float64\n",
      " 15  V15     284807 non-null  float64\n",
      " 16  V16     284807 non-null  float64\n",
      " 17  V17     284807 non-null  float64\n",
      " 18  V18     284807 non-null  float64\n",
      " 19  V19     284807 non-null  float64\n",
      " 20  V20     284807 non-null  float64\n",
      " 21  V21     284807 non-null  float64\n",
      " 22  V22     284807 non-null  float64\n",
      " 23  V23     284807 non-null  float64\n",
      " 24  V24     284807 non-null  float64\n",
      " 25  V25     284807 non-null  float64\n",
      " 26  V26     284807 non-null  float64\n",
      " 27  V27     284807 non-null  float64\n",
      " 28  V28     284807 non-null  float64\n",
      " 29  Amount  284807 non-null  float64\n",
      " 30  Class   284807 non-null  int64  \n",
      "dtypes: float64(30), int64(1)\n",
      "memory usage: 67.4 MB\n"
     ]
    }
   ],
   "source": [
    "import pandas as pd\n",
    "\n",
    "DF = pd.read_csv('../../../secret/homework_data/ML/creditcard.csv')\n",
    "\n",
    "DF.info()"
   ]
  },
  {
   "cell_type": "code",
   "execution_count": 7,
   "metadata": {
    "colab": {
     "base_uri": "https://localhost:8080/",
     "height": 299
    },
    "executionInfo": {
     "elapsed": 899,
     "status": "ok",
     "timestamp": 1673488643143,
     "user": {
      "displayName": "이정구",
      "userId": "10412141110999311561"
     },
     "user_tz": -540
    },
    "id": "AAK4c1S8GCeR",
    "outputId": "4ce0b6ad-3c25-43c3-ef5d-a83fd88f7725"
   },
   "outputs": [
    {
     "data": {
      "text/html": [
       "<div>\n",
       "<style scoped>\n",
       "    .dataframe tbody tr th:only-of-type {\n",
       "        vertical-align: middle;\n",
       "    }\n",
       "\n",
       "    .dataframe tbody tr th {\n",
       "        vertical-align: top;\n",
       "    }\n",
       "\n",
       "    .dataframe thead th {\n",
       "        text-align: right;\n",
       "    }\n",
       "</style>\n",
       "<table border=\"1\" class=\"dataframe\">\n",
       "  <thead>\n",
       "    <tr style=\"text-align: right;\">\n",
       "      <th></th>\n",
       "      <th>Time</th>\n",
       "      <th>V1</th>\n",
       "      <th>V2</th>\n",
       "      <th>V3</th>\n",
       "      <th>V4</th>\n",
       "      <th>V5</th>\n",
       "      <th>V6</th>\n",
       "      <th>V7</th>\n",
       "      <th>V8</th>\n",
       "      <th>V9</th>\n",
       "      <th>...</th>\n",
       "      <th>V21</th>\n",
       "      <th>V22</th>\n",
       "      <th>V23</th>\n",
       "      <th>V24</th>\n",
       "      <th>V25</th>\n",
       "      <th>V26</th>\n",
       "      <th>V27</th>\n",
       "      <th>V28</th>\n",
       "      <th>Amount</th>\n",
       "      <th>Class</th>\n",
       "    </tr>\n",
       "  </thead>\n",
       "  <tbody>\n",
       "    <tr>\n",
       "      <th>0</th>\n",
       "      <td>0.0</td>\n",
       "      <td>-1.359807</td>\n",
       "      <td>-0.072781</td>\n",
       "      <td>2.536347</td>\n",
       "      <td>1.378155</td>\n",
       "      <td>-0.338321</td>\n",
       "      <td>0.462388</td>\n",
       "      <td>0.239599</td>\n",
       "      <td>0.098698</td>\n",
       "      <td>0.363787</td>\n",
       "      <td>...</td>\n",
       "      <td>-0.018307</td>\n",
       "      <td>0.277838</td>\n",
       "      <td>-0.110474</td>\n",
       "      <td>0.066928</td>\n",
       "      <td>0.128539</td>\n",
       "      <td>-0.189115</td>\n",
       "      <td>0.133558</td>\n",
       "      <td>-0.021053</td>\n",
       "      <td>149.62</td>\n",
       "      <td>0</td>\n",
       "    </tr>\n",
       "    <tr>\n",
       "      <th>1</th>\n",
       "      <td>0.0</td>\n",
       "      <td>1.191857</td>\n",
       "      <td>0.266151</td>\n",
       "      <td>0.166480</td>\n",
       "      <td>0.448154</td>\n",
       "      <td>0.060018</td>\n",
       "      <td>-0.082361</td>\n",
       "      <td>-0.078803</td>\n",
       "      <td>0.085102</td>\n",
       "      <td>-0.255425</td>\n",
       "      <td>...</td>\n",
       "      <td>-0.225775</td>\n",
       "      <td>-0.638672</td>\n",
       "      <td>0.101288</td>\n",
       "      <td>-0.339846</td>\n",
       "      <td>0.167170</td>\n",
       "      <td>0.125895</td>\n",
       "      <td>-0.008983</td>\n",
       "      <td>0.014724</td>\n",
       "      <td>2.69</td>\n",
       "      <td>0</td>\n",
       "    </tr>\n",
       "    <tr>\n",
       "      <th>2</th>\n",
       "      <td>1.0</td>\n",
       "      <td>-1.358354</td>\n",
       "      <td>-1.340163</td>\n",
       "      <td>1.773209</td>\n",
       "      <td>0.379780</td>\n",
       "      <td>-0.503198</td>\n",
       "      <td>1.800499</td>\n",
       "      <td>0.791461</td>\n",
       "      <td>0.247676</td>\n",
       "      <td>-1.514654</td>\n",
       "      <td>...</td>\n",
       "      <td>0.247998</td>\n",
       "      <td>0.771679</td>\n",
       "      <td>0.909412</td>\n",
       "      <td>-0.689281</td>\n",
       "      <td>-0.327642</td>\n",
       "      <td>-0.139097</td>\n",
       "      <td>-0.055353</td>\n",
       "      <td>-0.059752</td>\n",
       "      <td>378.66</td>\n",
       "      <td>0</td>\n",
       "    </tr>\n",
       "    <tr>\n",
       "      <th>3</th>\n",
       "      <td>1.0</td>\n",
       "      <td>-0.966272</td>\n",
       "      <td>-0.185226</td>\n",
       "      <td>1.792993</td>\n",
       "      <td>-0.863291</td>\n",
       "      <td>-0.010309</td>\n",
       "      <td>1.247203</td>\n",
       "      <td>0.237609</td>\n",
       "      <td>0.377436</td>\n",
       "      <td>-1.387024</td>\n",
       "      <td>...</td>\n",
       "      <td>-0.108300</td>\n",
       "      <td>0.005274</td>\n",
       "      <td>-0.190321</td>\n",
       "      <td>-1.175575</td>\n",
       "      <td>0.647376</td>\n",
       "      <td>-0.221929</td>\n",
       "      <td>0.062723</td>\n",
       "      <td>0.061458</td>\n",
       "      <td>123.50</td>\n",
       "      <td>0</td>\n",
       "    </tr>\n",
       "    <tr>\n",
       "      <th>4</th>\n",
       "      <td>2.0</td>\n",
       "      <td>-1.158233</td>\n",
       "      <td>0.877737</td>\n",
       "      <td>1.548718</td>\n",
       "      <td>0.403034</td>\n",
       "      <td>-0.407193</td>\n",
       "      <td>0.095921</td>\n",
       "      <td>0.592941</td>\n",
       "      <td>-0.270533</td>\n",
       "      <td>0.817739</td>\n",
       "      <td>...</td>\n",
       "      <td>-0.009431</td>\n",
       "      <td>0.798278</td>\n",
       "      <td>-0.137458</td>\n",
       "      <td>0.141267</td>\n",
       "      <td>-0.206010</td>\n",
       "      <td>0.502292</td>\n",
       "      <td>0.219422</td>\n",
       "      <td>0.215153</td>\n",
       "      <td>69.99</td>\n",
       "      <td>0</td>\n",
       "    </tr>\n",
       "  </tbody>\n",
       "</table>\n",
       "<p>5 rows × 31 columns</p>\n",
       "</div>"
      ],
      "text/plain": [
       "   Time        V1        V2        V3        V4        V5        V6        V7  \\\n",
       "0   0.0 -1.359807 -0.072781  2.536347  1.378155 -0.338321  0.462388  0.239599   \n",
       "1   0.0  1.191857  0.266151  0.166480  0.448154  0.060018 -0.082361 -0.078803   \n",
       "2   1.0 -1.358354 -1.340163  1.773209  0.379780 -0.503198  1.800499  0.791461   \n",
       "3   1.0 -0.966272 -0.185226  1.792993 -0.863291 -0.010309  1.247203  0.237609   \n",
       "4   2.0 -1.158233  0.877737  1.548718  0.403034 -0.407193  0.095921  0.592941   \n",
       "\n",
       "         V8        V9  ...       V21       V22       V23       V24       V25  \\\n",
       "0  0.098698  0.363787  ... -0.018307  0.277838 -0.110474  0.066928  0.128539   \n",
       "1  0.085102 -0.255425  ... -0.225775 -0.638672  0.101288 -0.339846  0.167170   \n",
       "2  0.247676 -1.514654  ...  0.247998  0.771679  0.909412 -0.689281 -0.327642   \n",
       "3  0.377436 -1.387024  ... -0.108300  0.005274 -0.190321 -1.175575  0.647376   \n",
       "4 -0.270533  0.817739  ... -0.009431  0.798278 -0.137458  0.141267 -0.206010   \n",
       "\n",
       "        V26       V27       V28  Amount  Class  \n",
       "0 -0.189115  0.133558 -0.021053  149.62      0  \n",
       "1  0.125895 -0.008983  0.014724    2.69      0  \n",
       "2 -0.139097 -0.055353 -0.059752  378.66      0  \n",
       "3 -0.221929  0.062723  0.061458  123.50      0  \n",
       "4  0.502292  0.219422  0.215153   69.99      0  \n",
       "\n",
       "[5 rows x 31 columns]"
      ]
     },
     "execution_count": 7,
     "metadata": {},
     "output_type": "execute_result"
    }
   ],
   "source": [
    "DF.head()"
   ]
  },
  {
   "cell_type": "markdown",
   "metadata": {
    "id": "HIEYGzLnLuxL"
   },
   "source": [
    "* 0 (정상) Class와 1 (사기) Class 개수"
   ]
  },
  {
   "cell_type": "code",
   "execution_count": 8,
   "metadata": {
    "colab": {
     "base_uri": "https://localhost:8080/"
    },
    "executionInfo": {
     "elapsed": 6,
     "status": "ok",
     "timestamp": 1673488643143,
     "user": {
      "displayName": "이정구",
      "userId": "10412141110999311561"
     },
     "user_tz": -540
    },
    "id": "E4NroBx4JDeP",
    "outputId": "0098f314-52b3-4b15-b0c5-e8fd6c29c2ac"
   },
   "outputs": [
    {
     "data": {
      "text/plain": [
       "0    284315\n",
       "1       492\n",
       "Name: Class, dtype: int64"
      ]
     },
     "execution_count": 8,
     "metadata": {},
     "output_type": "execute_result"
    }
   ],
   "source": [
    "DF.Class.value_counts()"
   ]
  },
  {
   "cell_type": "markdown",
   "metadata": {
    "id": "OncXWy-mMF2j"
   },
   "source": [
    "* 0 (정상) Class와 1 (사기) Class 비율"
   ]
  },
  {
   "cell_type": "code",
   "execution_count": 9,
   "metadata": {
    "colab": {
     "base_uri": "https://localhost:8080/"
    },
    "executionInfo": {
     "elapsed": 6,
     "status": "ok",
     "timestamp": 1673488643144,
     "user": {
      "displayName": "이정구",
      "userId": "10412141110999311561"
     },
     "user_tz": -540
    },
    "id": "8HWyf0GMJipF",
    "outputId": "af603810-3c24-4987-a781-940e9d7c8bdb"
   },
   "outputs": [
    {
     "data": {
      "text/plain": [
       "0    99.827251\n",
       "1     0.172749\n",
       "Name: Class, dtype: float64"
      ]
     },
     "execution_count": 9,
     "metadata": {},
     "output_type": "execute_result"
    }
   ],
   "source": [
    "(DF.Class.value_counts() / DF.shape[0]) * 100"
   ]
  },
  {
   "cell_type": "markdown",
   "metadata": {
    "id": "Hdwfb4fMmqMm"
   },
   "source": [
    "> ## 3) 'Time' -> 'hours'\n",
    "\n",
    "* 'Time': 각 거래와 첫 번째 거래 사이에 경과된 초('Seconds') "
   ]
  },
  {
   "cell_type": "markdown",
   "metadata": {
    "id": "NAtIX1YftgqG"
   },
   "source": [
    "> ### (1) 시간('hours') 정보 생성"
   ]
  },
  {
   "cell_type": "code",
   "execution_count": 10,
   "metadata": {
    "id": "4yxjC_h-qsMi"
   },
   "outputs": [],
   "source": [
    "timedelta = pd.to_timedelta(DF['Time'], unit = 's')\n",
    "\n",
    "DF['Time'] = (timedelta.dt.components.hours).astype(int)"
   ]
  },
  {
   "cell_type": "code",
   "execution_count": 11,
   "metadata": {
    "colab": {
     "base_uri": "https://localhost:8080/",
     "height": 237
    },
    "executionInfo": {
     "elapsed": 13,
     "status": "ok",
     "timestamp": 1673488646437,
     "user": {
      "displayName": "이정구",
      "userId": "10412141110999311561"
     },
     "user_tz": -540
    },
    "id": "l6C1FAdsrGN-",
    "outputId": "40683bc9-739b-4074-957e-6f81810a4a14"
   },
   "outputs": [
    {
     "data": {
      "text/html": [
       "<div>\n",
       "<style scoped>\n",
       "    .dataframe tbody tr th:only-of-type {\n",
       "        vertical-align: middle;\n",
       "    }\n",
       "\n",
       "    .dataframe tbody tr th {\n",
       "        vertical-align: top;\n",
       "    }\n",
       "\n",
       "    .dataframe thead th {\n",
       "        text-align: right;\n",
       "    }\n",
       "</style>\n",
       "<table border=\"1\" class=\"dataframe\">\n",
       "  <thead>\n",
       "    <tr style=\"text-align: right;\">\n",
       "      <th></th>\n",
       "      <th>Time</th>\n",
       "      <th>V1</th>\n",
       "      <th>V2</th>\n",
       "      <th>V3</th>\n",
       "      <th>V4</th>\n",
       "      <th>V5</th>\n",
       "      <th>V6</th>\n",
       "      <th>V7</th>\n",
       "      <th>V8</th>\n",
       "      <th>V9</th>\n",
       "      <th>...</th>\n",
       "      <th>V21</th>\n",
       "      <th>V22</th>\n",
       "      <th>V23</th>\n",
       "      <th>V24</th>\n",
       "      <th>V25</th>\n",
       "      <th>V26</th>\n",
       "      <th>V27</th>\n",
       "      <th>V28</th>\n",
       "      <th>Amount</th>\n",
       "      <th>Class</th>\n",
       "    </tr>\n",
       "  </thead>\n",
       "  <tbody>\n",
       "    <tr>\n",
       "      <th>0</th>\n",
       "      <td>0</td>\n",
       "      <td>-1.359807</td>\n",
       "      <td>-0.072781</td>\n",
       "      <td>2.536347</td>\n",
       "      <td>1.378155</td>\n",
       "      <td>-0.338321</td>\n",
       "      <td>0.462388</td>\n",
       "      <td>0.239599</td>\n",
       "      <td>0.098698</td>\n",
       "      <td>0.363787</td>\n",
       "      <td>...</td>\n",
       "      <td>-0.018307</td>\n",
       "      <td>0.277838</td>\n",
       "      <td>-0.110474</td>\n",
       "      <td>0.066928</td>\n",
       "      <td>0.128539</td>\n",
       "      <td>-0.189115</td>\n",
       "      <td>0.133558</td>\n",
       "      <td>-0.021053</td>\n",
       "      <td>149.62</td>\n",
       "      <td>0</td>\n",
       "    </tr>\n",
       "    <tr>\n",
       "      <th>1</th>\n",
       "      <td>0</td>\n",
       "      <td>1.191857</td>\n",
       "      <td>0.266151</td>\n",
       "      <td>0.166480</td>\n",
       "      <td>0.448154</td>\n",
       "      <td>0.060018</td>\n",
       "      <td>-0.082361</td>\n",
       "      <td>-0.078803</td>\n",
       "      <td>0.085102</td>\n",
       "      <td>-0.255425</td>\n",
       "      <td>...</td>\n",
       "      <td>-0.225775</td>\n",
       "      <td>-0.638672</td>\n",
       "      <td>0.101288</td>\n",
       "      <td>-0.339846</td>\n",
       "      <td>0.167170</td>\n",
       "      <td>0.125895</td>\n",
       "      <td>-0.008983</td>\n",
       "      <td>0.014724</td>\n",
       "      <td>2.69</td>\n",
       "      <td>0</td>\n",
       "    </tr>\n",
       "    <tr>\n",
       "      <th>2</th>\n",
       "      <td>0</td>\n",
       "      <td>-1.358354</td>\n",
       "      <td>-1.340163</td>\n",
       "      <td>1.773209</td>\n",
       "      <td>0.379780</td>\n",
       "      <td>-0.503198</td>\n",
       "      <td>1.800499</td>\n",
       "      <td>0.791461</td>\n",
       "      <td>0.247676</td>\n",
       "      <td>-1.514654</td>\n",
       "      <td>...</td>\n",
       "      <td>0.247998</td>\n",
       "      <td>0.771679</td>\n",
       "      <td>0.909412</td>\n",
       "      <td>-0.689281</td>\n",
       "      <td>-0.327642</td>\n",
       "      <td>-0.139097</td>\n",
       "      <td>-0.055353</td>\n",
       "      <td>-0.059752</td>\n",
       "      <td>378.66</td>\n",
       "      <td>0</td>\n",
       "    </tr>\n",
       "  </tbody>\n",
       "</table>\n",
       "<p>3 rows × 31 columns</p>\n",
       "</div>"
      ],
      "text/plain": [
       "   Time        V1        V2        V3        V4        V5        V6        V7  \\\n",
       "0     0 -1.359807 -0.072781  2.536347  1.378155 -0.338321  0.462388  0.239599   \n",
       "1     0  1.191857  0.266151  0.166480  0.448154  0.060018 -0.082361 -0.078803   \n",
       "2     0 -1.358354 -1.340163  1.773209  0.379780 -0.503198  1.800499  0.791461   \n",
       "\n",
       "         V8        V9  ...       V21       V22       V23       V24       V25  \\\n",
       "0  0.098698  0.363787  ... -0.018307  0.277838 -0.110474  0.066928  0.128539   \n",
       "1  0.085102 -0.255425  ... -0.225775 -0.638672  0.101288 -0.339846  0.167170   \n",
       "2  0.247676 -1.514654  ...  0.247998  0.771679  0.909412 -0.689281 -0.327642   \n",
       "\n",
       "        V26       V27       V28  Amount  Class  \n",
       "0 -0.189115  0.133558 -0.021053  149.62      0  \n",
       "1  0.125895 -0.008983  0.014724    2.69      0  \n",
       "2 -0.139097 -0.055353 -0.059752  378.66      0  \n",
       "\n",
       "[3 rows x 31 columns]"
      ]
     },
     "execution_count": 11,
     "metadata": {},
     "output_type": "execute_result"
    }
   ],
   "source": [
    "DF.head(3)"
   ]
  },
  {
   "cell_type": "markdown",
   "metadata": {
    "id": "uF_FNdiaHcFi"
   },
   "source": [
    "> ## 4) train_test_split( )\n",
    "\n",
    "* X (Input), y (Output) 지정"
   ]
  },
  {
   "cell_type": "code",
   "execution_count": 12,
   "metadata": {
    "colab": {
     "base_uri": "https://localhost:8080/"
    },
    "executionInfo": {
     "elapsed": 13,
     "status": "ok",
     "timestamp": 1673488646438,
     "user": {
      "displayName": "이정구",
      "userId": "10412141110999311561"
     },
     "user_tz": -540
    },
    "id": "IRQX3mslHhC2",
    "outputId": "cdaa501b-0639-4d80-8d5d-a033af3965e4"
   },
   "outputs": [
    {
     "data": {
      "text/plain": [
       "((284807, 30), (284807,))"
      ]
     },
     "execution_count": 12,
     "metadata": {},
     "output_type": "execute_result"
    }
   ],
   "source": [
    "X = DF.iloc[:,:-1]\n",
    "y = DF.iloc[:, -1]\n",
    "\n",
    "X.shape, y.shape"
   ]
  },
  {
   "cell_type": "markdown",
   "metadata": {
    "id": "f53LeC-IMx_T"
   },
   "source": [
    "* With 'Stratify'"
   ]
  },
  {
   "cell_type": "code",
   "execution_count": 13,
   "metadata": {
    "colab": {
     "base_uri": "https://localhost:8080/"
    },
    "executionInfo": {
     "elapsed": 1740,
     "status": "ok",
     "timestamp": 1673488648167,
     "user": {
      "displayName": "이정구",
      "userId": "10412141110999311561"
     },
     "user_tz": -540
    },
    "id": "i4e13zFqH0xP",
    "outputId": "513f377d-1314-4598-ba07-1a2c6d134e63"
   },
   "outputs": [
    {
     "data": {
      "text/plain": [
       "((199364, 30), (199364,), (85443, 30), (85443,))"
      ]
     },
     "execution_count": 13,
     "metadata": {},
     "output_type": "execute_result"
    }
   ],
   "source": [
    "from sklearn.model_selection import train_test_split \n",
    "\n",
    "X_train, X_test, y_train, y_test = train_test_split(X, y,\n",
    "                                                    test_size = 0.3,\n",
    "                                                    random_state = 2045,\n",
    "                                                    stratify = y)\n",
    "\n",
    "X_train.shape, y_train.shape, X_test.shape, y_test.shape"
   ]
  },
  {
   "cell_type": "markdown",
   "metadata": {
    "id": "q8NA1xnGNTtY"
   },
   "source": [
    "* Train_Data와 Test_Data의 1 (부정) 비율이 균형"
   ]
  },
  {
   "cell_type": "code",
   "execution_count": 14,
   "metadata": {
    "colab": {
     "base_uri": "https://localhost:8080/"
    },
    "executionInfo": {
     "elapsed": 9,
     "status": "ok",
     "timestamp": 1673488648167,
     "user": {
      "displayName": "이정구",
      "userId": "10412141110999311561"
     },
     "user_tz": -540
    },
    "id": "FMk7PWicKyDB",
    "outputId": "04d1ebf0-dde9-4946-d138-5203db7b818c"
   },
   "outputs": [
    {
     "name": "stdout",
     "output_type": "stream",
     "text": [
      "Train_Data : \n",
      " 0    99.827451\n",
      "1     0.172549\n",
      "Name: Class, dtype: float64\n",
      "Test_Data : \n",
      " 0    99.826785\n",
      "1     0.173215\n",
      "Name: Class, dtype: float64\n"
     ]
    }
   ],
   "source": [
    "print('Train_Data :','\\n', (y_train.value_counts() / y_train.shape[0]) * 100)\n",
    "print('Test_Data :','\\n', (y_test.value_counts() / y_test.shape[0]) * 100)"
   ]
  },
  {
   "cell_type": "markdown",
   "metadata": {
    "id": "kvsN9jNLDQO6"
   },
   "source": [
    "# I. Keras Modeling"
   ]
  },
  {
   "cell_type": "markdown",
   "metadata": {
    "id": "i4Zsf2GlZmbk"
   },
   "source": [
    "> ## 1) Import Tensorflow"
   ]
  },
  {
   "cell_type": "markdown",
   "metadata": {
    "id": "1liA_u-UQv4U"
   },
   "source": [
    "* Tensorflow Version 확인"
   ]
  },
  {
   "cell_type": "code",
   "execution_count": 15,
   "metadata": {
    "colab": {
     "base_uri": "https://localhost:8080/",
     "height": 35
    },
    "executionInfo": {
     "elapsed": 3743,
     "status": "ok",
     "timestamp": 1673488651904,
     "user": {
      "displayName": "이정구",
      "userId": "10412141110999311561"
     },
     "user_tz": -540
    },
    "id": "6Grj7IWWZhfd",
    "outputId": "a3764397-4f6a-4b9a-b669-4f88e3c8ee74"
   },
   "outputs": [
    {
     "data": {
      "text/plain": [
       "'2.10.0'"
      ]
     },
     "execution_count": 15,
     "metadata": {},
     "output_type": "execute_result"
    }
   ],
   "source": [
    "import tensorflow\n",
    "\n",
    "tensorflow.__version__"
   ]
  },
  {
   "cell_type": "markdown",
   "metadata": {
    "id": "gaNenfHbOwSM"
   },
   "source": [
    "> ## 2) Model Define"
   ]
  },
  {
   "cell_type": "markdown",
   "metadata": {
    "id": "ceGhnn1tO_0P"
   },
   "source": [
    "* 모델 신경망 구조 정의"
   ]
  },
  {
   "cell_type": "code",
   "execution_count": 16,
   "metadata": {
    "id": "Nra8_pdYfEbI"
   },
   "outputs": [],
   "source": [
    "from tensorflow.keras import models\n",
    "from tensorflow.keras import layers\n",
    "\n",
    "ccfd = models.Sequential()\n",
    "ccfd.add(layers.Dense(128, activation = 'relu', input_shape = (30,)))\n",
    "ccfd.add(layers.Dense(64, activation = 'relu'))\n",
    "ccfd.add(layers.Dense(32, activation = 'relu'))\n",
    "ccfd.add(layers.Dense(1, activation = 'sigmoid'))"
   ]
  },
  {
   "cell_type": "markdown",
   "metadata": {
    "id": "2-tCxHmwPBfQ"
   },
   "source": [
    "* 모델 구조 확인"
   ]
  },
  {
   "cell_type": "code",
   "execution_count": 17,
   "metadata": {
    "colab": {
     "base_uri": "https://localhost:8080/"
    },
    "executionInfo": {
     "elapsed": 10,
     "status": "ok",
     "timestamp": 1673488651905,
     "user": {
      "displayName": "이정구",
      "userId": "10412141110999311561"
     },
     "user_tz": -540
    },
    "id": "GwPhayISDpp8",
    "outputId": "4cedef4c-765d-4f93-e2b8-9172d0a69a3b"
   },
   "outputs": [
    {
     "name": "stdout",
     "output_type": "stream",
     "text": [
      "Model: \"sequential\"\n",
      "_________________________________________________________________\n",
      " Layer (type)                Output Shape              Param #   \n",
      "=================================================================\n",
      " dense (Dense)               (None, 128)               3968      \n",
      "                                                                 \n",
      " dense_1 (Dense)             (None, 64)                8256      \n",
      "                                                                 \n",
      " dense_2 (Dense)             (None, 32)                2080      \n",
      "                                                                 \n",
      " dense_3 (Dense)             (None, 1)                 33        \n",
      "                                                                 \n",
      "=================================================================\n",
      "Total params: 14,337\n",
      "Trainable params: 14,337\n",
      "Non-trainable params: 0\n",
      "_________________________________________________________________\n"
     ]
    }
   ],
   "source": [
    "ccfd.summary()"
   ]
  },
  {
   "cell_type": "markdown",
   "metadata": {
    "id": "HTGpTEQXDVp0"
   },
   "source": [
    "> ## 3) Model Compile"
   ]
  },
  {
   "cell_type": "markdown",
   "metadata": {
    "id": "Y4PkohjpPPRT"
   },
   "source": [
    "* 모델 학습방법 설정"
   ]
  },
  {
   "cell_type": "code",
   "execution_count": 18,
   "metadata": {
    "id": "UcQP7161fXpr"
   },
   "outputs": [],
   "source": [
    "ccfd.compile(loss = 'binary_crossentropy',\n",
    "             optimizer = 'adam',\n",
    "             metrics = ['Recall']) # tf.keras.metrics.Recall()"
   ]
  },
  {
   "cell_type": "markdown",
   "metadata": {
    "id": "_j4bBF6fDi2a"
   },
   "source": [
    "> ## 4) Model Fit"
   ]
  },
  {
   "cell_type": "markdown",
   "metadata": {
    "id": "AWipAt9ZPbox"
   },
   "source": [
    "* 약 2분"
   ]
  },
  {
   "cell_type": "code",
   "execution_count": 19,
   "metadata": {
    "colab": {
     "base_uri": "https://localhost:8080/"
    },
    "executionInfo": {
     "elapsed": 83865,
     "status": "ok",
     "timestamp": 1673488736243,
     "user": {
      "displayName": "이정구",
      "userId": "10412141110999311561"
     },
     "user_tz": -540
    },
    "id": "dWXKNdQ5fw67",
    "outputId": "a43c7e94-4ff1-45c4-91c8-b6e35879b972",
    "scrolled": true
   },
   "outputs": [
    {
     "name": "stdout",
     "output_type": "stream",
     "text": [
      "Epoch 1/50\n",
      "195/195 [==============================] - 1s 3ms/step - loss: 0.0317 - recall: 0.3779 - val_loss: 0.0121 - val_recall: 0.6689\n",
      "Epoch 2/50\n",
      "195/195 [==============================] - 0s 2ms/step - loss: 0.0079 - recall: 0.7151 - val_loss: 0.0035 - val_recall: 0.8378\n",
      "Epoch 3/50\n",
      "195/195 [==============================] - 0s 2ms/step - loss: 0.0196 - recall: 0.6541 - val_loss: 0.0053 - val_recall: 0.7568\n",
      "Epoch 4/50\n",
      "195/195 [==============================] - 0s 2ms/step - loss: 0.0207 - recall: 0.6715 - val_loss: 0.0042 - val_recall: 0.8446\n",
      "Epoch 5/50\n",
      "195/195 [==============================] - 0s 2ms/step - loss: 0.0070 - recall: 0.7674 - val_loss: 0.0030 - val_recall: 0.8243\n",
      "Epoch 6/50\n",
      "195/195 [==============================] - 0s 2ms/step - loss: 0.0063 - recall: 0.7442 - val_loss: 0.0031 - val_recall: 0.8378\n",
      "Epoch 7/50\n",
      "195/195 [==============================] - 0s 2ms/step - loss: 0.0032 - recall: 0.7965 - val_loss: 0.0031 - val_recall: 0.8581\n",
      "Epoch 8/50\n",
      "195/195 [==============================] - 0s 2ms/step - loss: 0.0095 - recall: 0.7267 - val_loss: 0.0034 - val_recall: 0.8581\n",
      "Epoch 9/50\n",
      "195/195 [==============================] - 0s 2ms/step - loss: 0.0065 - recall: 0.7616 - val_loss: 0.0033 - val_recall: 0.8311\n",
      "Epoch 10/50\n",
      "195/195 [==============================] - 0s 2ms/step - loss: 0.0032 - recall: 0.8052 - val_loss: 0.0029 - val_recall: 0.8378\n",
      "Epoch 11/50\n",
      "195/195 [==============================] - 0s 2ms/step - loss: 0.0032 - recall: 0.8140 - val_loss: 0.0030 - val_recall: 0.7973\n",
      "Epoch 12/50\n",
      "195/195 [==============================] - 0s 2ms/step - loss: 0.0059 - recall: 0.7762 - val_loss: 0.0040 - val_recall: 0.8446\n",
      "Epoch 13/50\n",
      "195/195 [==============================] - 0s 2ms/step - loss: 0.0070 - recall: 0.7413 - val_loss: 0.0032 - val_recall: 0.8243\n",
      "Epoch 14/50\n",
      "195/195 [==============================] - 0s 2ms/step - loss: 0.0055 - recall: 0.7936 - val_loss: 0.0031 - val_recall: 0.8446\n",
      "Epoch 15/50\n",
      "195/195 [==============================] - 0s 2ms/step - loss: 0.0028 - recall: 0.8343 - val_loss: 0.0031 - val_recall: 0.8176\n",
      "Epoch 16/50\n",
      "195/195 [==============================] - 0s 2ms/step - loss: 0.0028 - recall: 0.8140 - val_loss: 0.0028 - val_recall: 0.8243\n",
      "Epoch 17/50\n",
      "195/195 [==============================] - 0s 2ms/step - loss: 0.0025 - recall: 0.8285 - val_loss: 0.0030 - val_recall: 0.8108\n",
      "Epoch 18/50\n",
      "195/195 [==============================] - 0s 2ms/step - loss: 0.0062 - recall: 0.7645 - val_loss: 0.0031 - val_recall: 0.8716\n",
      "Epoch 19/50\n",
      "195/195 [==============================] - 0s 2ms/step - loss: 0.0025 - recall: 0.8227 - val_loss: 0.0033 - val_recall: 0.8514\n",
      "Epoch 20/50\n",
      "195/195 [==============================] - 0s 2ms/step - loss: 0.0026 - recall: 0.8198 - val_loss: 0.0029 - val_recall: 0.8514\n",
      "Epoch 21/50\n",
      "195/195 [==============================] - 0s 2ms/step - loss: 0.0024 - recall: 0.8198 - val_loss: 0.0029 - val_recall: 0.8446\n",
      "Epoch 22/50\n",
      "195/195 [==============================] - 0s 2ms/step - loss: 0.0023 - recall: 0.8256 - val_loss: 0.0030 - val_recall: 0.8649\n",
      "Epoch 23/50\n",
      "195/195 [==============================] - 0s 2ms/step - loss: 0.0023 - recall: 0.8256 - val_loss: 0.0029 - val_recall: 0.8176\n",
      "Epoch 24/50\n",
      "195/195 [==============================] - 0s 2ms/step - loss: 0.0026 - recall: 0.8314 - val_loss: 0.0031 - val_recall: 0.8581\n",
      "Epoch 25/50\n",
      "195/195 [==============================] - 0s 2ms/step - loss: 0.0029 - recall: 0.8169 - val_loss: 0.0035 - val_recall: 0.7027\n",
      "Epoch 26/50\n",
      "195/195 [==============================] - 0s 2ms/step - loss: 0.0021 - recall: 0.8372 - val_loss: 0.0033 - val_recall: 0.8446\n",
      "Epoch 27/50\n",
      "195/195 [==============================] - 0s 2ms/step - loss: 0.0020 - recall: 0.8372 - val_loss: 0.0034 - val_recall: 0.8446\n",
      "Epoch 28/50\n",
      "195/195 [==============================] - 0s 2ms/step - loss: 0.0022 - recall: 0.8372 - val_loss: 0.0035 - val_recall: 0.8378\n",
      "Epoch 29/50\n",
      "195/195 [==============================] - 0s 2ms/step - loss: 0.0021 - recall: 0.8488 - val_loss: 0.0035 - val_recall: 0.8041\n",
      "Epoch 30/50\n",
      "195/195 [==============================] - 0s 2ms/step - loss: 0.0020 - recall: 0.8517 - val_loss: 0.0039 - val_recall: 0.8514\n",
      "Epoch 31/50\n",
      "195/195 [==============================] - 0s 2ms/step - loss: 0.0031 - recall: 0.8401 - val_loss: 0.0038 - val_recall: 0.8243\n",
      "Epoch 32/50\n",
      "195/195 [==============================] - 0s 2ms/step - loss: 0.0050 - recall: 0.8052 - val_loss: 0.0041 - val_recall: 0.8243\n",
      "Epoch 33/50\n",
      "195/195 [==============================] - 0s 2ms/step - loss: 0.0029 - recall: 0.8169 - val_loss: 0.0053 - val_recall: 0.8581\n",
      "Epoch 34/50\n",
      "195/195 [==============================] - 0s 2ms/step - loss: 0.0020 - recall: 0.8576 - val_loss: 0.0035 - val_recall: 0.8378\n",
      "Epoch 35/50\n",
      "195/195 [==============================] - 0s 2ms/step - loss: 0.0020 - recall: 0.8372 - val_loss: 0.0036 - val_recall: 0.7568\n",
      "Epoch 36/50\n",
      "195/195 [==============================] - 0s 2ms/step - loss: 0.0019 - recall: 0.8488 - val_loss: 0.0036 - val_recall: 0.8378\n",
      "Epoch 37/50\n",
      "195/195 [==============================] - 0s 2ms/step - loss: 0.0016 - recall: 0.8692 - val_loss: 0.0038 - val_recall: 0.8378\n",
      "Epoch 38/50\n",
      "195/195 [==============================] - 0s 2ms/step - loss: 0.0018 - recall: 0.8547 - val_loss: 0.0041 - val_recall: 0.8581\n",
      "Epoch 39/50\n",
      "195/195 [==============================] - 0s 2ms/step - loss: 0.0017 - recall: 0.8605 - val_loss: 0.0039 - val_recall: 0.8108\n",
      "Epoch 40/50\n",
      "195/195 [==============================] - 0s 2ms/step - loss: 0.0021 - recall: 0.8430 - val_loss: 0.0040 - val_recall: 0.7973\n",
      "Epoch 41/50\n",
      "195/195 [==============================] - 0s 2ms/step - loss: 0.0018 - recall: 0.8605 - val_loss: 0.0044 - val_recall: 0.8378\n",
      "Epoch 42/50\n",
      "195/195 [==============================] - 0s 2ms/step - loss: 0.0017 - recall: 0.8547 - val_loss: 0.0040 - val_recall: 0.8514\n",
      "Epoch 43/50\n",
      "195/195 [==============================] - 0s 2ms/step - loss: 0.0018 - recall: 0.8547 - val_loss: 0.0041 - val_recall: 0.8514\n",
      "Epoch 44/50\n",
      "195/195 [==============================] - 0s 2ms/step - loss: 0.0017 - recall: 0.8663 - val_loss: 0.0042 - val_recall: 0.8311\n",
      "Epoch 45/50\n",
      "195/195 [==============================] - 0s 2ms/step - loss: 0.0023 - recall: 0.8285 - val_loss: 0.0041 - val_recall: 0.8243\n",
      "Epoch 46/50\n",
      "195/195 [==============================] - 0s 2ms/step - loss: 0.0019 - recall: 0.8605 - val_loss: 0.0039 - val_recall: 0.8041\n",
      "Epoch 47/50\n",
      "195/195 [==============================] - 0s 2ms/step - loss: 0.0016 - recall: 0.8634 - val_loss: 0.0040 - val_recall: 0.7973\n",
      "Epoch 48/50\n",
      "195/195 [==============================] - 0s 2ms/step - loss: 0.0016 - recall: 0.8779 - val_loss: 0.0044 - val_recall: 0.8378\n",
      "Epoch 49/50\n",
      "195/195 [==============================] - 0s 2ms/step - loss: 0.0015 - recall: 0.8692 - val_loss: 0.0044 - val_recall: 0.7838\n",
      "Epoch 50/50\n",
      "195/195 [==============================] - 0s 2ms/step - loss: 0.0014 - recall: 0.8692 - val_loss: 0.0043 - val_recall: 0.8514\n"
     ]
    }
   ],
   "source": [
    "# %%time\n",
    "\n",
    "Hist_ccfd = ccfd.fit(X_train, y_train,\n",
    "                     epochs = 50,\n",
    "                     batch_size = 1024,\n",
    "                     validation_data = (X_test, y_test))"
   ]
  },
  {
   "cell_type": "markdown",
   "metadata": {
    "id": "Jr4EudJrPfzi"
   },
   "source": [
    "> ## 5) 학습 결과 시각화"
   ]
  },
  {
   "cell_type": "markdown",
   "metadata": {
    "id": "YPVbTvIWDxJi"
   },
   "source": [
    "* Loss Visualization"
   ]
  },
  {
   "cell_type": "code",
   "execution_count": 20,
   "metadata": {
    "colab": {
     "base_uri": "https://localhost:8080/",
     "height": 404
    },
    "executionInfo": {
     "elapsed": 53,
     "status": "ok",
     "timestamp": 1673488736243,
     "user": {
      "displayName": "이정구",
      "userId": "10412141110999311561"
     },
     "user_tz": -540
    },
    "id": "pujWYX1XKPNV",
    "outputId": "7bd1336b-e87c-49f6-bad1-453b1f8236ea"
   },
   "outputs": [
    {
     "data": {
      "image/png": "[encoded data removed]",
      "text/plain": [
       "<Figure size 900x600 with 1 Axes>"
      ]
     },
     "metadata": {},
     "output_type": "display_data"
    }
   ],
   "source": [
    "import matplotlib.pyplot as plt\n",
    "\n",
    "epochs = range(1, len(Hist_ccfd.history['loss']) + 1)\n",
    "\n",
    "plt.figure(figsize = (9, 6))\n",
    "plt.plot(epochs, Hist_ccfd.history['loss'])\n",
    "plt.plot(epochs, Hist_ccfd.history['val_loss'])\n",
    "plt.title('Training & Validation Loss')\n",
    "plt.xlabel('Epochs')\n",
    "plt.ylabel('Loss')\n",
    "plt.legend(['Training Loss', 'Validation Loss'])\n",
    "plt.grid()\n",
    "plt.show()"
   ]
  },
  {
   "cell_type": "markdown",
   "metadata": {
    "id": "v_bogApqPwcT"
   },
   "source": [
    "* Recall Visualization"
   ]
  },
  {
   "cell_type": "code",
   "execution_count": 21,
   "metadata": {
    "colab": {
     "base_uri": "https://localhost:8080/",
     "height": 404
    },
    "executionInfo": {
     "elapsed": 45,
     "status": "ok",
     "timestamp": 1673488736244,
     "user": {
      "displayName": "이정구",
      "userId": "10412141110999311561"
     },
     "user_tz": -540
    },
    "id": "TzIdsEJNMGGm",
    "outputId": "c1caf489-7c7a-4b54-ac60-54d974e1244c"
   },
   "outputs": [
    {
     "data": {
      "image/png": "[encoded data removed]",
      "text/plain": [
       "<Figure size 900x600 with 1 Axes>"
      ]
     },
     "metadata": {},
     "output_type": "display_data"
    }
   ],
   "source": [
    "import matplotlib.pyplot as plt\n",
    "\n",
    "epochs = range(1, len(Hist_ccfd.history['recall']) + 1)\n",
    "\n",
    "plt.figure(figsize = (9, 6))\n",
    "plt.plot(epochs, Hist_ccfd.history['recall'])\n",
    "plt.plot(epochs, Hist_ccfd.history['val_recall'])\n",
    "plt.title('Training & Validation Recall')\n",
    "plt.xlabel('Epochs')\n",
    "plt.ylabel('Recall')\n",
    "plt.legend(['Training Recall', 'Validation Recall'])\n",
    "plt.grid()\n",
    "plt.show()"
   ]
  },
  {
   "cell_type": "markdown",
   "metadata": {
    "id": "JJy2E4a7EHFT"
   },
   "source": [
    "> ## 6) Model Evaluate"
   ]
  },
  {
   "cell_type": "markdown",
   "metadata": {
    "id": "3rxwmR3sQBAA"
   },
   "source": [
    "* Loss & Accuracy"
   ]
  },
  {
   "cell_type": "code",
   "execution_count": 22,
   "metadata": {
    "colab": {
     "base_uri": "https://localhost:8080/"
    },
    "executionInfo": {
     "elapsed": 3189,
     "status": "ok",
     "timestamp": 1673488739392,
     "user": {
      "displayName": "이정구",
      "userId": "10412141110999311561"
     },
     "user_tz": -540
    },
    "id": "vzWv947ShOaa",
    "outputId": "75e8a760-e1ea-41fc-b414-cd9b6c9de3d3"
   },
   "outputs": [
    {
     "name": "stdout",
     "output_type": "stream",
     "text": [
      "2671/2671 [==============================] - 3s 973us/step - loss: 0.0043 - recall: 0.8514\n",
      "Loss = 0.00428\n",
      "Recall = 0.85135\n"
     ]
    }
   ],
   "source": [
    "loss, recall = ccfd.evaluate(X_test, y_test)\n",
    "\n",
    "print('Loss = {:.5f}'.format(loss))\n",
    "print('Recall = {:.5f}'.format(recall))"
   ]
  },
  {
   "cell_type": "markdown",
   "metadata": {
    "id": "9Y56xWANEMrl"
   },
   "source": [
    "> ## 7) Model Predict"
   ]
  },
  {
   "cell_type": "markdown",
   "metadata": {
    "id": "lVdPZt_wt5Bx"
   },
   "source": [
    "* .predict( )"
   ]
  },
  {
   "cell_type": "code",
   "execution_count": 23,
   "metadata": {
    "colab": {
     "base_uri": "https://localhost:8080/"
    },
    "executionInfo": {
     "elapsed": 5522,
     "status": "ok",
     "timestamp": 1673488744894,
     "user": {
      "displayName": "이정구",
      "userId": "10412141110999311561"
     },
     "user_tz": -540
    },
    "id": "t-dIdW6nhjji",
    "outputId": "0a44bfe0-3bfc-4d72-c923-7733e993230c"
   },
   "outputs": [
    {
     "name": "stdout",
     "output_type": "stream",
     "text": [
      "2671/2671 [==============================] - 1s 533us/step\n"
     ]
    },
    {
     "data": {
      "text/plain": [
       "array([[0.],\n",
       "       [0.],\n",
       "       [0.],\n",
       "       ...,\n",
       "       [0.],\n",
       "       [0.],\n",
       "       [0.]], dtype=float32)"
      ]
     },
     "execution_count": 23,
     "metadata": {},
     "output_type": "execute_result"
    }
   ],
   "source": [
    "import numpy as np\n",
    "\n",
    "y_hat = np.round(ccfd.predict(X_test))\n",
    "# y_pred = (Model1.predict(X_test) > 0.5).astype('int32') # TRUE가 1로\n",
    "\n",
    "y_hat"
   ]
  },
  {
   "cell_type": "markdown",
   "metadata": {
    "id": "c3C72ONftwZV"
   },
   "source": [
    "* Confusion Matrix"
   ]
  },
  {
   "cell_type": "code",
   "execution_count": 24,
   "metadata": {
    "colab": {
     "base_uri": "https://localhost:8080/"
    },
    "executionInfo": {
     "elapsed": 20,
     "status": "ok",
     "timestamp": 1673488744895,
     "user": {
      "displayName": "이정구",
      "userId": "10412141110999311561"
     },
     "user_tz": -540
    },
    "id": "1QYoQzEhjD3z",
    "outputId": "9986a65d-46de-4876-bcba-83fcfc537cc1"
   },
   "outputs": [
    {
     "data": {
      "text/plain": [
       "array([[  126,    22],\n",
       "       [   20, 85275]], dtype=int64)"
      ]
     },
     "execution_count": 24,
     "metadata": {},
     "output_type": "execute_result"
    }
   ],
   "source": [
    "from sklearn.metrics import confusion_matrix\n",
    "\n",
    "confusion_matrix(y_test, y_hat, labels = [1, 0])"
   ]
  },
  {
   "cell_type": "markdown",
   "metadata": {
    "id": "6i7VQ3d2tzwh"
   },
   "source": [
    "* Scores"
   ]
  },
  {
   "cell_type": "code",
   "execution_count": 25,
   "metadata": {
    "colab": {
     "base_uri": "https://localhost:8080/"
    },
    "executionInfo": {
     "elapsed": 543,
     "status": "ok",
     "timestamp": 1673488745422,
     "user": {
      "displayName": "이정구",
      "userId": "10412141110999311561"
     },
     "user_tz": -540
    },
    "id": "9buzRGgejD4I",
    "outputId": "40b39f51-95f2-4d08-e716-8293fd127d66"
   },
   "outputs": [
    {
     "name": "stdout",
     "output_type": "stream",
     "text": [
      "              precision    recall  f1-score   support\n",
      "\n",
      "          정상    0.99974   0.99977   0.99975     85295\n",
      "          부정    0.86301   0.85135   0.85714       148\n",
      "\n",
      "    accuracy                        0.99951     85443\n",
      "   macro avg    0.93138   0.92556   0.92845     85443\n",
      "weighted avg    0.99951   0.99951   0.99951     85443\n",
      "\n"
     ]
    }
   ],
   "source": [
    "from sklearn.metrics import classification_report\n",
    "\n",
    "print(classification_report(y_test, y_hat, \n",
    "                            target_names = ['0정상', '1부정'],\n",
    "                            digits = 5))"
   ]
  },
  {
   "cell_type": "markdown",
   "metadata": {
    "id": "ylReVf0WSRDa"
   },
   "source": [
    "# \n",
    "# \n",
    "# \n",
    "# The End\n",
    "# \n",
    "# \n",
    "# "
   ]
  }
 ],
 "metadata": {
  "colab": {
   "provenance": []
  },
  "kernelspec": {
   "display_name": "Python 3 (ipykernel)",
   "language": "python",
   "name": "python3"
  },
  "language_info": {
   "codemirror_mode": {
    "name": "ipython",
    "version": 3
   },
   "file_extension": ".py",
   "mimetype": "text/x-python",
   "name": "python",
   "nbconvert_exporter": "python",
   "pygments_lexer": "ipython3",
   "version": "3.10.8"
  },
  "toc": {
   "base_numbering": 1,
   "nav_menu": {},
   "number_sections": true,
   "sideBar": true,
   "skip_h1_title": false,
   "title_cell": "Table of Contents",
   "title_sidebar": "Contents",
   "toc_cell": false,
   "toc_position": {},
   "toc_section_display": true,
   "toc_window_display": false
  }
 },
 "nbformat": 4,
 "nbformat_minor": 1
}
