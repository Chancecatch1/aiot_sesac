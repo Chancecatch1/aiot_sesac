{
 "cells": [
  {
   "cell_type": "markdown",
   "metadata": {
    "id": "q2Pr7oBdYLdf"
   },
   "source": [
    "# Filters"
   ]
  },
  {
   "cell_type": "code",
   "execution_count": 2,
   "metadata": {
    "executionInfo": {
     "elapsed": 9,
     "status": "ok",
     "timestamp": 1674614097896,
     "user": {
      "displayName": "이정구",
      "userId": "10412141110999311561"
     },
     "user_tz": -540
    },
    "id": "std_KDw4kz9k"
   },
   "outputs": [],
   "source": [
    "import warnings\n",
    "warnings.filterwarnings('ignore')"
   ]
  },
  {
   "cell_type": "markdown",
   "metadata": {
    "id": "H49A769LYp-a"
   },
   "source": [
    "# I. Fashion-MNIST Data_Set Load"
   ]
  },
  {
   "cell_type": "code",
   "execution_count": 3,
   "metadata": {
    "colab": {
     "base_uri": "https://localhost:8080/"
    },
    "executionInfo": {
     "elapsed": 8545,
     "status": "ok",
     "timestamp": 1674614106433,
     "user": {
      "displayName": "이정구",
      "userId": "10412141110999311561"
     },
     "user_tz": -540
    },
    "id": "GxDU2OtGkn5e",
    "outputId": "c9fa6b6a-65df-46f4-90d1-5c7d31a3110e"
   },
   "outputs": [],
   "source": [
    "from tensorflow.keras.datasets import fashion_mnist\n",
    "\n",
    "(X_train, y_train), (X_test, y_test) = fashion_mnist.load_data()"
   ]
  },
  {
   "cell_type": "markdown",
   "metadata": {
    "id": "UFVwVM7btu0z"
   },
   "source": [
    "# II. Image 확인"
   ]
  },
  {
   "cell_type": "code",
   "execution_count": 4,
   "metadata": {
    "colab": {
     "base_uri": "https://localhost:8080/",
     "height": 444
    },
    "executionInfo": {
     "elapsed": 584,
     "status": "ok",
     "timestamp": 1674614106985,
     "user": {
      "displayName": "이정구",
      "userId": "10412141110999311561"
     },
     "user_tz": -540
    },
    "id": "s_WAXATMkzRX",
    "outputId": "3df2dd0c-e54d-468a-c006-a4ec7afd5a2c"
   },
   "outputs": [
    {
     "data": {
      "image/png": "[encoded data removed]",
      "text/plain": [
       "<Figure size 700x700 with 1 Axes>"
      ]
     },
     "metadata": {},
     "output_type": "display_data"
    }
   ],
   "source": [
    "import matplotlib.pyplot as plt\n",
    "\n",
    "plt.figure(figsize = (7, 7))\n",
    "plt.imshow(X_train[99], cmap = 'gray')\n",
    "plt.title('Original Image')\n",
    "plt.show()"
   ]
  },
  {
   "cell_type": "markdown",
   "metadata": {
    "id": "463z6s2lt2ke"
   },
   "source": [
    "# III. Filter 생성 및 Image 수정"
   ]
  },
  {
   "cell_type": "markdown",
   "metadata": {
    "id": "7scXaAIeuDQ9"
   },
   "source": [
    "> ## 1) 가로선 추출 필터"
   ]
  },
  {
   "cell_type": "code",
   "execution_count": 5,
   "metadata": {
    "colab": {
     "base_uri": "https://localhost:8080/"
    },
    "executionInfo": {
     "elapsed": 16,
     "status": "ok",
     "timestamp": 1674614106987,
     "user": {
      "displayName": "이정구",
      "userId": "10412141110999311561"
     },
     "user_tz": -540
    },
    "id": "iAH7HS1WmBVS",
    "outputId": "3a28f6b5-9288-49b1-8f48-a6211e0e3da0"
   },
   "outputs": [
    {
     "name": "stdout",
     "output_type": "stream",
     "text": [
      "[[-1. -2. -1.]\n",
      " [ 0.  0.  0.]\n",
      " [ 1.  2.  1.]]\n"
     ]
    }
   ],
   "source": [
    "import numpy as np\n",
    "\n",
    "H_Filter = np.array([[-1., -2., -1.], \n",
    "                     [0., 0., 0.], \n",
    "                     [1., 2., 1.]])\n",
    "\n",
    "print(H_Filter)"
   ]
  },
  {
   "cell_type": "markdown",
   "metadata": {
    "id": "G1Fwj--1uGcP"
   },
   "source": [
    "> ## 2) 세로선 추출 필터"
   ]
  },
  {
   "cell_type": "code",
   "execution_count": 6,
   "metadata": {
    "colab": {
     "base_uri": "https://localhost:8080/"
    },
    "executionInfo": {
     "elapsed": 15,
     "status": "ok",
     "timestamp": 1674614106989,
     "user": {
      "displayName": "이정구",
      "userId": "10412141110999311561"
     },
     "user_tz": -540
    },
    "id": "x5TdhWN5uCR3",
    "outputId": "bb62ff53-948d-4695-9c11-ba766335fde1"
   },
   "outputs": [
    {
     "name": "stdout",
     "output_type": "stream",
     "text": [
      "[[-1.  0.  1.]\n",
      " [-2.  0.  2.]\n",
      " [-1.  0.  1.]]\n"
     ]
    }
   ],
   "source": [
    "V_Filter = np.array([[-1., 0., 1.],\n",
    "                     [-2., 0., 2.],\n",
    "                     [-1., 0., 1.]])\n",
    "\n",
    "print(V_Filter)"
   ]
  },
  {
   "cell_type": "markdown",
   "metadata": {
    "id": "taiUGunquMGb"
   },
   "source": [
    "> ## 3) 이미지 크기 변경\n",
    "\n",
    "* (28 x 28) -> (27 x 27)"
   ]
  },
  {
   "cell_type": "code",
   "execution_count": 7,
   "metadata": {
    "colab": {
     "base_uri": "https://localhost:8080/"
    },
    "executionInfo": {
     "elapsed": 499,
     "status": "ok",
     "timestamp": 1674614107800,
     "user": {
      "displayName": "이정구",
      "userId": "10412141110999311561"
     },
     "user_tz": -540
    },
    "id": "kTPsBaQetAMx",
    "outputId": "34400add-5256-4d07-b4f9-c3d6ea24cf1d"
   },
   "outputs": [
    {
     "name": "stdout",
     "output_type": "stream",
     "text": [
      "(28, 28) (27, 27)\n"
     ]
    }
   ],
   "source": [
    "# filter size와 합성곱할 수 있는 사이즈로 변경\n",
    "# 텐서플로 cnn 레이어 메서드에서는 남거나 부족한 사이즈는  padding or drop를 해주지만, 예제함수는 해당 기능이 없기 때문\n",
    "import cv2\n",
    "\n",
    "test_image = cv2.resize(X_train[99], (27, 27))\n",
    "\n",
    "print(X_train[99].shape, test_image.shape)"
   ]
  },
  {
   "cell_type": "markdown",
   "metadata": {
    "id": "Pt2G-Tq5vrLI"
   },
   "source": [
    "# IV. Convolutional with Filters"
   ]
  },
  {
   "cell_type": "markdown",
   "metadata": {
    "id": "Z1Yg8OsgxRWJ"
   },
   "source": [
    "> ## 1) conv_image( ) 정의"
   ]
  },
  {
   "cell_type": "code",
   "execution_count": 8,
   "metadata": {
    "executionInfo": {
     "elapsed": 8,
     "status": "ok",
     "timestamp": 1674614107801,
     "user": {
      "displayName": "이정구",
      "userId": "10412141110999311561"
     },
     "user_tz": -540
    },
    "id": "JRfFAbzBmUtr"
   },
   "outputs": [],
   "source": [
    "filter_size = 3\n",
    "output_size = 25\n",
    "\n",
    "def conv_image(filter):\n",
    "    filtered_image = np.zeros((output_size, output_size))\n",
    "    \n",
    "    for i in range(output_size):\n",
    "        for j in range(output_size):\n",
    "            indice_image = test_image[i:(i + filter_size), j:(j + filter_size)] * filter\n",
    "            indice_sum = np.sum(indice_image)\n",
    "\n",
    "            if(indice_sum > 255):\n",
    "                indice_sum = 255\n",
    "            filtered_image[i, j] = indice_sum\n",
    "\n",
    "    return filtered_image"
   ]
  },
  {
   "cell_type": "markdown",
   "metadata": {
    "id": "5y_G0T8XxbMs"
   },
   "source": [
    "> ## 2) H_Filter 적용"
   ]
  },
  {
   "cell_type": "code",
   "execution_count": 9,
   "metadata": {
    "colab": {
     "base_uri": "https://localhost:8080/",
     "height": 431
    },
    "executionInfo": {
     "elapsed": 28,
     "status": "ok",
     "timestamp": 1674614108317,
     "user": {
      "displayName": "이정구",
      "userId": "10412141110999311561"
     },
     "user_tz": -540
    },
    "id": "gipHTc0sojit",
    "outputId": "bd2d4a84-166e-484d-8846-d8943fc79b31"
   },
   "outputs": [
    {
     "data": {
      "image/png": "[encoded data removed]",
      "text/plain": [
       "<Figure size 700x700 with 1 Axes>"
      ]
     },
     "metadata": {},
     "output_type": "display_data"
    }
   ],
   "source": [
    "H_conv_image = conv_image(H_Filter)\n",
    "\n",
    "plt.figure(figsize = (7, 7))\n",
    "plt.xticks([])\n",
    "plt.yticks([])\n",
    "plt.title('Horizontal Output')\n",
    "plt.imshow(H_conv_image, cmap = 'gray')\n",
    "\n",
    "plt.show()"
   ]
  },
  {
   "cell_type": "markdown",
   "metadata": {
    "id": "h0tTeuiHxXec"
   },
   "source": [
    "> ## 3) V_Filter 적용"
   ]
  },
  {
   "cell_type": "code",
   "execution_count": 10,
   "metadata": {
    "colab": {
     "base_uri": "https://localhost:8080/",
     "height": 431
    },
    "executionInfo": {
     "elapsed": 521,
     "status": "ok",
     "timestamp": 1674614108316,
     "user": {
      "displayName": "이정구",
      "userId": "10412141110999311561"
     },
     "user_tz": -540
    },
    "id": "vgh91wdLog4r",
    "outputId": "ef513989-a179-4e49-c366-bccbd82cf54d"
   },
   "outputs": [
    {
     "data": {
      "image/png": "[encoded data removed]",
      "text/plain": [
       "<Figure size 700x700 with 1 Axes>"
      ]
     },
     "metadata": {},
     "output_type": "display_data"
    }
   ],
   "source": [
    "V_conv_image = conv_image(V_Filter)\n",
    "\n",
    "plt.figure(figsize = (7, 7))\n",
    "plt.xticks([])\n",
    "plt.yticks([])\n",
    "plt.title('Vertical Output')\n",
    "plt.imshow(V_conv_image, cmap = 'gray')\n",
    "\n",
    "plt.show()"
   ]
  },
  {
   "cell_type": "markdown",
   "metadata": {
    "id": "Kf8sR9y4xhjd"
   },
   "source": [
    "# V. 최종 결과\n",
    "\n",
    "* V_Filter and H_Filter"
   ]
  },
  {
   "cell_type": "code",
   "execution_count": 11,
   "metadata": {
    "colab": {
     "base_uri": "https://localhost:8080/",
     "height": 431
    },
    "executionInfo": {
     "elapsed": 25,
     "status": "ok",
     "timestamp": 1674614108317,
     "user": {
      "displayName": "이정구",
      "userId": "10412141110999311561"
     },
     "user_tz": -540
    },
    "id": "Z2wogn7-o41E",
    "outputId": "e86a93cf-7d56-400e-a791-44240d4a62d0"
   },
   "outputs": [
    {
     "data": {
      "image/png": "[encoded data removed]",
      "text/plain": [
       "<Figure size 700x700 with 1 Axes>"
      ]
     },
     "metadata": {},
     "output_type": "display_data"
    }
   ],
   "source": [
    "sobel_image = np.sqrt(np.square(H_conv_image) + np.square(V_conv_image))\n",
    "\n",
    "plt.figure(figsize = (7, 7))\n",
    "plt.xticks([])\n",
    "plt.yticks([])\n",
    "plt.title('Vertical & Horizontal Output')\n",
    "plt.imshow(sobel_image, cmap = 'gray')\n",
    "plt.show()"
   ]
  },
  {
   "cell_type": "markdown",
   "metadata": {
    "id": "x0J4l-7hxG7_"
   },
   "source": [
    "# \n",
    "# \n",
    "# \n",
    "# The End\n",
    "# \n",
    "# \n",
    "# "
   ]
  }
 ],
 "metadata": {
  "colab": {
   "authorship_tag": "ABX9TyOBLRpRrRzjB/9tN47Xw4H2",
   "provenance": []
  },
  "kernelspec": {
   "display_name": "Python 3 (ipykernel)",
   "language": "python",
   "name": "python3"
  },
  "language_info": {
   "codemirror_mode": {
    "name": "ipython",
    "version": 3
   },
   "file_extension": ".py",
   "mimetype": "text/x-python",
   "name": "python",
   "nbconvert_exporter": "python",
   "pygments_lexer": "ipython3",
   "version": "3.10.8"
  },
  "toc": {
   "base_numbering": 1,
   "nav_menu": {},
   "number_sections": true,
   "sideBar": true,
   "skip_h1_title": false,
   "title_cell": "Table of Contents",
   "title_sidebar": "Contents",
   "toc_cell": false,
   "toc_position": {},
   "toc_section_display": true,
   "toc_window_display": false
  }
 },
 "nbformat": 4,
 "nbformat_minor": 1
}
