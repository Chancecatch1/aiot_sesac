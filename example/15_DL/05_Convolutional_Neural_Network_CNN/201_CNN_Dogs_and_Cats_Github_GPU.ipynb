{
 "cells": [
  {
   "cell_type": "markdown",
   "metadata": {
    "id": "q2Pr7oBdYLdf"
   },
   "source": [
    "# 이미지 데이터 셋을 이용한 CNN Modeling\n",
    "> # Github\n",
    "## Dogs and Cats Image_Data\n",
    "* Train_Data : 2000(1000_Dogs, 1000_Cats)\n",
    "* Valid_Data : 1000(500_Dogs, 500_Cats)\n",
    "* Test_Data : 1000(500_Dogs, 500_Cats)"
   ]
  },
  {
   "cell_type": "code",
   "execution_count": 1,
   "metadata": {
    "id": "RbPgODpVzdHI"
   },
   "outputs": [],
   "source": [
    "import warnings\n",
    "warnings.filterwarnings('ignore')"
   ]
  },
  {
   "cell_type": "markdown",
   "metadata": {
    "id": "yI8cuQkfxyfb"
   },
   "source": [
    "* Import TensorFlow"
   ]
  },
  {
   "cell_type": "code",
   "execution_count": 2,
   "metadata": {
    "colab": {
     "base_uri": "https://localhost:8080/",
     "height": 35
    },
    "executionInfo": {
     "elapsed": 3848,
     "status": "ok",
     "timestamp": 1674696501287,
     "user": {
      "displayName": "이정구",
      "userId": "08368998955804870048"
     },
     "user_tz": -540
    },
    "id": "b0whlIaSx2Yq",
    "outputId": "a9a918b1-a05f-466b-d523-de61b3c8b8f7"
   },
   "outputs": [
    {
     "data": {
      "text/plain": [
       "'2.10.0'"
      ]
     },
     "execution_count": 2,
     "metadata": {},
     "output_type": "execute_result"
    }
   ],
   "source": [
    "import tensorflow as tf\n",
    "\n",
    "tf.__version__"
   ]
  },
  {
   "cell_type": "markdown",
   "metadata": {
    "id": "6d1FeKK1CgqG"
   },
   "source": [
    "# I. wget From Github\n",
    "* 'dogs_and_cats_small.zip' 파일 다운로드"
   ]
  },
  {
   "cell_type": "code",
   "execution_count": null,
   "metadata": {
    "colab": {
     "base_uri": "https://localhost:8080/"
    },
    "executionInfo": {
     "elapsed": 5842,
     "status": "ok",
     "timestamp": 1674696507114,
     "user": {
      "displayName": "이정구",
      "userId": "08368998955804870048"
     },
     "user_tz": -540
    },
    "id": "f32hYtuOh4F4",
    "outputId": "921b1daa-7f64-4de0-ffd1-49e24332ee4f"
   },
   "outputs": [
    {
     "name": "stdout",
     "output_type": "stream",
     "text": [
      "--2023-01-26 01:28:20--  https://raw.githubusercontent.com/rusita-ai/pyData/master/dogs_and_cats_small.zip\n",
      "Resolving raw.githubusercontent.com (raw.githubusercontent.com)... 185.199.108.133, 185.199.110.133, 185.199.109.133, ...\n",
      "Connecting to raw.githubusercontent.com (raw.githubusercontent.com)|185.199.108.133|:443... connected.\n",
      "HTTP request sent, awaiting response... 200 OK\n",
      "Length: 90618980 (86M) [application/zip]\n",
      "Saving to: ‘dogs_and_cats_small.zip’\n",
      "\n",
      "dogs_and_cats_small 100%[===================>]  86.42M  68.6MB/s    in 1.3s    \n",
      "\n",
      "2023-01-26 01:28:26 (68.6 MB/s) - ‘dogs_and_cats_small.zip’ saved [90618980/90618980]\n",
      "\n"
     ]
    }
   ],
   "source": [
    "# !wget https://raw.githubusercontent.com/rusita-ai/pyData/master/dogs_and_cats_small.zip"
   ]
  },
  {
   "cell_type": "markdown",
   "metadata": {
    "id": "O0njEDt2CgqJ"
   },
   "source": [
    "* 다운로드 결과 확인"
   ]
  },
  {
   "cell_type": "code",
   "execution_count": null,
   "metadata": {
    "colab": {
     "base_uri": "https://localhost:8080/"
    },
    "executionInfo": {
     "elapsed": 9,
     "status": "ok",
     "timestamp": 1674696507114,
     "user": {
      "displayName": "이정구",
      "userId": "08368998955804870048"
     },
     "user_tz": -540
    },
    "id": "A9XdvsnVCgqK",
    "outputId": "a330cbc7-efc7-44fb-ea63-35e1acfd5c17"
   },
   "outputs": [
    {
     "name": "stdout",
     "output_type": "stream",
     "text": [
      "total 88500\n",
      "-rw-r--r-- 1 root root 90618980 Jan 26 01:28 dogs_and_cats_small.zip\n",
      "drwxr-xr-x 1 root root     4096 Jan 24 14:38 sample_data\n"
     ]
    }
   ],
   "source": [
    "# !ls -l "
   ]
  },
  {
   "cell_type": "markdown",
   "metadata": {
    "id": "1DyFdyVxFyHK"
   },
   "source": [
    "# II. Data Preprocessing"
   ]
  },
  {
   "cell_type": "markdown",
   "metadata": {
    "id": "D9zdBsGKnLUo"
   },
   "source": [
    "> ## 1) Unzip 'dogs_and_cats_small.zip'"
   ]
  },
  {
   "cell_type": "code",
   "execution_count": null,
   "metadata": {
    "id": "WkuHaDXcnUtY"
   },
   "outputs": [],
   "source": [
    "# !unzip -q /content/dogs_and_cats_small.zip"
   ]
  },
  {
   "cell_type": "markdown",
   "metadata": {
    "id": "nYRGJ9bpp4pF"
   },
   "source": [
    "* 학습 데이터 확인"
   ]
  },
  {
   "cell_type": "code",
   "execution_count": null,
   "metadata": {
    "colab": {
     "base_uri": "https://localhost:8080/"
    },
    "executionInfo": {
     "elapsed": 436,
     "status": "ok",
     "timestamp": 1674696509676,
     "user": {
      "displayName": "이정구",
      "userId": "08368998955804870048"
     },
     "user_tz": -540
    },
    "id": "QBJ4dEK4ewii",
    "outputId": "10c666b4-5516-493d-d78d-4576c806d548"
   },
   "outputs": [
    {
     "name": "stdout",
     "output_type": "stream",
     "text": [
      "total 88512\n",
      "-rw-r--r-- 1 root root 90618980 Jan 26 01:28 dogs_and_cats_small.zip\n",
      "drwxr-xr-x 1 root root     4096 Jan 24 14:38 sample_data\n",
      "drwxr-xr-x 4 root root     4096 Jan 26 01:28 test\n",
      "drwxr-xr-x 4 root root     4096 Jan 26 01:28 train\n",
      "drwxr-xr-x 4 root root     4096 Jan 26 01:28 validation\n"
     ]
    }
   ],
   "source": [
    "# !ls -l"
   ]
  },
  {
   "cell_type": "markdown",
   "metadata": {
    "id": "H49A769LYp-a"
   },
   "source": [
    "> ## 2) Image_File Directory Setting"
   ]
  },
  {
   "cell_type": "markdown",
   "metadata": {
    "id": "fwUMpMCYGB7Z"
   },
   "source": [
    "* train_dir\n",
    "* valid_dir\n",
    "* test_dir"
   ]
  },
  {
   "cell_type": "code",
   "execution_count": 6,
   "metadata": {},
   "outputs": [
    {
     "name": "stdout",
     "output_type": "stream",
     "text": [
      "C:\\Users\\SBAUser\\PycharmProjects\\SESAC_AIoT\\example\\15_DL\\05_Convolutional_Neural_Network_CNN\n"
     ]
    }
   ],
   "source": [
    "!cd"
   ]
  },
  {
   "cell_type": "code",
   "execution_count": 7,
   "metadata": {
    "id": "DxstjE8b_6Te"
   },
   "outputs": [],
   "source": [
    "train_dir = './../../../secret/example_data/15_DL/dogs_and_cats_small/train'\n",
    "valid_dir = './../../../secret/example_data/15_DL/dogs_and_cats_small/validation'\n",
    "test_dir  = './../../../secret/example_data/15_DL/dogs_and_cats_small/test'"
   ]
  },
  {
   "cell_type": "markdown",
   "metadata": {
    "id": "Mk9XL5vGHor6"
   },
   "source": [
    "> ## 3) ImageDataGenerator( ) & flow_from_directory( )"
   ]
  },
  {
   "cell_type": "markdown",
   "metadata": {
    "id": "_UbiVo2EGlOt"
   },
   "source": [
    "* Normalization\n",
    " * ImageDataGenerator( )\n",
    "* Resizing & Generator\n",
    " * flow_from_directory( )"
   ]
  },
  {
   "cell_type": "code",
   "execution_count": 8,
   "metadata": {
    "colab": {
     "base_uri": "https://localhost:8080/"
    },
    "executionInfo": {
     "elapsed": 6,
     "status": "ok",
     "timestamp": 1674696509677,
     "user": {
      "displayName": "이정구",
      "userId": "08368998955804870048"
     },
     "user_tz": -540
    },
    "id": "eC48Oym3Ao8E",
    "outputId": "a383e0d9-ebec-4ebd-cae5-4457cd89426e"
   },
   "outputs": [
    {
     "name": "stdout",
     "output_type": "stream",
     "text": [
      "Found 2000 images belonging to 2 classes.\n",
      "Found 1000 images belonging to 2 classes.\n"
     ]
    }
   ],
   "source": [
    "from tensorflow.keras.preprocessing.image import ImageDataGenerator\n",
    "\n",
    "train_datagen = ImageDataGenerator(rescale = 1./255) # 0~1 scaling\n",
    "valid_datagen = ImageDataGenerator(rescale = 1./255)\n",
    "\n",
    "train_generator = train_datagen.flow_from_directory(\n",
    "                  train_dir,\n",
    "                  target_size = (150, 150),\n",
    "                  batch_size = 20,\n",
    "                  class_mode = 'binary')\n",
    "\n",
    "valid_generator = valid_datagen.flow_from_directory(\n",
    "                  valid_dir,\n",
    "                  target_size = (150, 150),\n",
    "                  batch_size = 20,\n",
    "                  class_mode = 'binary')"
   ]
  },
  {
   "cell_type": "markdown",
   "metadata": {
    "id": "vCpCB_giJbZr"
   },
   "source": [
    "> ## 4) Test train_generator"
   ]
  },
  {
   "cell_type": "code",
   "execution_count": 9,
   "metadata": {
    "colab": {
     "base_uri": "https://localhost:8080/"
    },
    "executionInfo": {
     "elapsed": 656,
     "status": "ok",
     "timestamp": 1674696510329,
     "user": {
      "displayName": "이정구",
      "userId": "08368998955804870048"
     },
     "user_tz": -540
    },
    "id": "NW5rHWtcJnTq",
    "outputId": "957f411e-1c12-4e3b-c991-389823624867"
   },
   "outputs": [
    {
     "name": "stdout",
     "output_type": "stream",
     "text": [
      "배치 데이터 크기: (20, 150, 150, 3)\n",
      "배치 레이블 크기: (20,)\n"
     ]
    }
   ],
   "source": [
    "for data_batch, labels_batch in train_generator:\n",
    "    print('배치 데이터 크기:', data_batch.shape)\n",
    "    print('배치 레이블 크기:', labels_batch.shape)\n",
    "    break"
   ]
  },
  {
   "cell_type": "code",
   "execution_count": 10,
   "metadata": {
    "colab": {
     "base_uri": "https://localhost:8080/"
    },
    "executionInfo": {
     "elapsed": 12,
     "status": "ok",
     "timestamp": 1674696510331,
     "user": {
      "displayName": "이정구",
      "userId": "08368998955804870048"
     },
     "user_tz": -540
    },
    "id": "-OcEigJpk7Bm",
    "outputId": "91910155-eb1f-4f3a-f8fc-b6c0ef7e177a"
   },
   "outputs": [
    {
     "data": {
      "text/plain": [
       "array([0., 1., 0., 0., 0., 1., 0., 1., 1., 0., 0., 0., 0., 0., 0., 1., 1.,\n",
       "       0., 1., 1.], dtype=float32)"
      ]
     },
     "execution_count": 10,
     "metadata": {},
     "output_type": "execute_result"
    }
   ],
   "source": [
    "labels_batch"
   ]
  },
  {
   "cell_type": "markdown",
   "metadata": {
    "id": "NTwZiSjiop3v"
   },
   "source": [
    "# III. CNN Keras Modeling"
   ]
  },
  {
   "cell_type": "markdown",
   "metadata": {
    "id": "j5CT0TurJCkc"
   },
   "source": [
    "> ## 1) Model Define"
   ]
  },
  {
   "cell_type": "markdown",
   "metadata": {
    "id": "ydDCl0jTJD58"
   },
   "source": [
    "* Feature Extraction & Classification"
   ]
  },
  {
   "cell_type": "code",
   "execution_count": 11,
   "metadata": {
    "id": "II0DskRdAcHS"
   },
   "outputs": [],
   "source": [
    "from tensorflow.keras import layers\n",
    "from tensorflow.keras import models\n",
    "\n",
    "model = models.Sequential()\n",
    "model.add(layers.Conv2D(32, (3, 3), activation = 'relu', input_shape = (150, 150, 3)))\n",
    "model.add(layers.MaxPooling2D((2, 2)))\n",
    "model.add(layers.Conv2D(64, (3, 3), activation = 'relu'))\n",
    "model.add(layers.MaxPooling2D((2, 2)))\n",
    "model.add(layers.Conv2D(128, (3, 3), activation = 'relu'))\n",
    "model.add(layers.MaxPooling2D((2, 2)))\n",
    "model.add(layers.Conv2D(128, (3, 3), activation = 'relu'))\n",
    "model.add(layers.MaxPooling2D((2, 2)))\n",
    "\n",
    "model.add(layers.Flatten())\n",
    "model.add(layers.Dense(512, activation = 'relu'))\n",
    "model.add(layers.Dense(1, activation = 'sigmoid'))"
   ]
  },
  {
   "cell_type": "code",
   "execution_count": 12,
   "metadata": {
    "colab": {
     "base_uri": "https://localhost:8080/"
    },
    "executionInfo": {
     "elapsed": 555,
     "status": "ok",
     "timestamp": 1674696516355,
     "user": {
      "displayName": "이정구",
      "userId": "08368998955804870048"
     },
     "user_tz": -540
    },
    "id": "wbtjOA4XMTUd",
    "outputId": "9c50e596-73a9-45b0-d0f4-28ab06ff5d4d"
   },
   "outputs": [
    {
     "name": "stdout",
     "output_type": "stream",
     "text": [
      "Model: \"sequential\"\n",
      "_________________________________________________________________\n",
      " Layer (type)                Output Shape              Param #   \n",
      "=================================================================\n",
      " conv2d (Conv2D)             (None, 148, 148, 32)      896       \n",
      "                                                                 \n",
      " max_pooling2d (MaxPooling2D  (None, 74, 74, 32)       0         \n",
      " )                                                               \n",
      "                                                                 \n",
      " conv2d_1 (Conv2D)           (None, 72, 72, 64)        18496     \n",
      "                                                                 \n",
      " max_pooling2d_1 (MaxPooling  (None, 36, 36, 64)       0         \n",
      " 2D)                                                             \n",
      "                                                                 \n",
      " conv2d_2 (Conv2D)           (None, 34, 34, 128)       73856     \n",
      "                                                                 \n",
      " max_pooling2d_2 (MaxPooling  (None, 17, 17, 128)      0         \n",
      " 2D)                                                             \n",
      "                                                                 \n",
      " conv2d_3 (Conv2D)           (None, 15, 15, 128)       147584    \n",
      "                                                                 \n",
      " max_pooling2d_3 (MaxPooling  (None, 7, 7, 128)        0         \n",
      " 2D)                                                             \n",
      "                                                                 \n",
      " flatten (Flatten)           (None, 6272)              0         \n",
      "                                                                 \n",
      " dense (Dense)               (None, 512)               3211776   \n",
      "                                                                 \n",
      " dense_1 (Dense)             (None, 1)                 513       \n",
      "                                                                 \n",
      "=================================================================\n",
      "Total params: 3,453,121\n",
      "Trainable params: 3,453,121\n",
      "Non-trainable params: 0\n",
      "_________________________________________________________________\n"
     ]
    }
   ],
   "source": [
    "model.summary()"
   ]
  },
  {
   "cell_type": "markdown",
   "metadata": {
    "id": "tpjBDBeYoyuj"
   },
   "source": [
    "> ## 2) Model Compile"
   ]
  },
  {
   "cell_type": "markdown",
   "metadata": {
    "id": "f3sxkQa0JoUr"
   },
   "source": [
    "* 모델 학습방법 설정"
   ]
  },
  {
   "cell_type": "code",
   "execution_count": 13,
   "metadata": {
    "id": "AyK_t1qwAi6M"
   },
   "outputs": [],
   "source": [
    "model.compile(loss = 'binary_crossentropy',\n",
    "              optimizer = 'adam',\n",
    "              metrics = ['accuracy'])"
   ]
  },
  {
   "cell_type": "markdown",
   "metadata": {
    "id": "umiq4B-Xo3OB"
   },
   "source": [
    "> ## 3) Model Fit"
   ]
  },
  {
   "cell_type": "markdown",
   "metadata": {
    "id": "1KuXREziKMD1"
   },
   "source": [
    "* 모델 학습 수행\n",
    " * 약 10분"
   ]
  },
  {
   "cell_type": "code",
   "execution_count": 14,
   "metadata": {
    "colab": {
     "base_uri": "https://localhost:8080/"
    },
    "executionInfo": {
     "elapsed": 562753,
     "status": "ok",
     "timestamp": 1674697079097,
     "user": {
      "displayName": "이정구",
      "userId": "08368998955804870048"
     },
     "user_tz": -540
    },
    "id": "zxwqwAqRAqRP",
    "outputId": "d01c37e0-ef99-4c17-9bcf-a05d5ae0beb4"
   },
   "outputs": [
    {
     "name": "stdout",
     "output_type": "stream",
     "text": [
      "Epoch 1/60\n",
      "100/100 [==============================] - 12s 40ms/step - loss: 0.7035 - accuracy: 0.4980 - val_loss: 0.6866 - val_accuracy: 0.5060\n",
      "Epoch 2/60\n",
      "100/100 [==============================] - 3s 25ms/step - loss: 0.6924 - accuracy: 0.5110 - val_loss: 0.6727 - val_accuracy: 0.6230\n",
      "Epoch 3/60\n",
      "100/100 [==============================] - 3s 25ms/step - loss: 0.6836 - accuracy: 0.5745 - val_loss: 0.6601 - val_accuracy: 0.6150\n",
      "Epoch 4/60\n",
      "100/100 [==============================] - 3s 25ms/step - loss: 0.6518 - accuracy: 0.6195 - val_loss: 0.6822 - val_accuracy: 0.5970\n",
      "Epoch 5/60\n",
      "100/100 [==============================] - 2s 25ms/step - loss: 0.6204 - accuracy: 0.6665 - val_loss: 0.6124 - val_accuracy: 0.6540\n",
      "Epoch 6/60\n",
      "100/100 [==============================] - 2s 25ms/step - loss: 0.5785 - accuracy: 0.6995 - val_loss: 0.6096 - val_accuracy: 0.6530\n",
      "Epoch 7/60\n",
      "100/100 [==============================] - 2s 25ms/step - loss: 0.5317 - accuracy: 0.7335 - val_loss: 0.5682 - val_accuracy: 0.7000\n",
      "Epoch 8/60\n",
      "100/100 [==============================] - 2s 25ms/step - loss: 0.4684 - accuracy: 0.7725 - val_loss: 0.5995 - val_accuracy: 0.6840\n",
      "Epoch 9/60\n",
      "100/100 [==============================] - 2s 25ms/step - loss: 0.4155 - accuracy: 0.7995 - val_loss: 0.5975 - val_accuracy: 0.7280\n",
      "Epoch 10/60\n",
      "100/100 [==============================] - 2s 25ms/step - loss: 0.3318 - accuracy: 0.8545 - val_loss: 0.6897 - val_accuracy: 0.7150\n",
      "Epoch 11/60\n",
      "100/100 [==============================] - 2s 25ms/step - loss: 0.2307 - accuracy: 0.9025 - val_loss: 0.7995 - val_accuracy: 0.7310\n",
      "Epoch 12/60\n",
      "100/100 [==============================] - 2s 25ms/step - loss: 0.1562 - accuracy: 0.9395 - val_loss: 0.9708 - val_accuracy: 0.7030\n",
      "Epoch 13/60\n",
      "100/100 [==============================] - 2s 25ms/step - loss: 0.1062 - accuracy: 0.9540 - val_loss: 1.2053 - val_accuracy: 0.7160\n",
      "Epoch 14/60\n",
      "100/100 [==============================] - 2s 25ms/step - loss: 0.0481 - accuracy: 0.9845 - val_loss: 1.3502 - val_accuracy: 0.7190\n",
      "Epoch 15/60\n",
      "100/100 [==============================] - 3s 25ms/step - loss: 0.0678 - accuracy: 0.9775 - val_loss: 1.3757 - val_accuracy: 0.7140\n",
      "Epoch 16/60\n",
      "100/100 [==============================] - 2s 25ms/step - loss: 0.0184 - accuracy: 0.9955 - val_loss: 1.5199 - val_accuracy: 0.7240\n",
      "Epoch 17/60\n",
      "100/100 [==============================] - 2s 25ms/step - loss: 0.0829 - accuracy: 0.9720 - val_loss: 1.3107 - val_accuracy: 0.7190\n",
      "Epoch 18/60\n",
      "100/100 [==============================] - 2s 25ms/step - loss: 0.0293 - accuracy: 0.9890 - val_loss: 1.5377 - val_accuracy: 0.7340\n",
      "Epoch 19/60\n",
      "100/100 [==============================] - 2s 25ms/step - loss: 0.0031 - accuracy: 0.9995 - val_loss: 1.7266 - val_accuracy: 0.7420\n",
      "Epoch 20/60\n",
      "100/100 [==============================] - 3s 25ms/step - loss: 0.0014 - accuracy: 1.0000 - val_loss: 1.8211 - val_accuracy: 0.7340\n",
      "Epoch 21/60\n",
      "100/100 [==============================] - 3s 25ms/step - loss: 3.7946e-04 - accuracy: 1.0000 - val_loss: 1.8750 - val_accuracy: 0.7380\n",
      "Epoch 22/60\n",
      "100/100 [==============================] - 3s 26ms/step - loss: 2.5591e-04 - accuracy: 1.0000 - val_loss: 1.9221 - val_accuracy: 0.7370\n",
      "Epoch 23/60\n",
      "100/100 [==============================] - 3s 26ms/step - loss: 1.9616e-04 - accuracy: 1.0000 - val_loss: 1.9628 - val_accuracy: 0.7360\n",
      "Epoch 24/60\n",
      "100/100 [==============================] - 3s 25ms/step - loss: 1.5494e-04 - accuracy: 1.0000 - val_loss: 1.9960 - val_accuracy: 0.7360\n",
      "Epoch 25/60\n",
      "100/100 [==============================] - 3s 26ms/step - loss: 1.2490e-04 - accuracy: 1.0000 - val_loss: 2.0411 - val_accuracy: 0.7360\n",
      "Epoch 26/60\n",
      "100/100 [==============================] - 3s 25ms/step - loss: 1.0092e-04 - accuracy: 1.0000 - val_loss: 2.0858 - val_accuracy: 0.7360\n",
      "Epoch 27/60\n",
      "100/100 [==============================] - 3s 26ms/step - loss: 8.1958e-05 - accuracy: 1.0000 - val_loss: 2.1000 - val_accuracy: 0.7350\n",
      "Epoch 28/60\n",
      "100/100 [==============================] - 3s 26ms/step - loss: 6.8359e-05 - accuracy: 1.0000 - val_loss: 2.1053 - val_accuracy: 0.7440\n",
      "Epoch 29/60\n",
      "100/100 [==============================] - 3s 26ms/step - loss: 6.6325e-05 - accuracy: 1.0000 - val_loss: 2.1452 - val_accuracy: 0.7390\n",
      "Epoch 30/60\n",
      "100/100 [==============================] - 3s 26ms/step - loss: 4.4503e-05 - accuracy: 1.0000 - val_loss: 2.2740 - val_accuracy: 0.7420\n",
      "Epoch 31/60\n",
      "100/100 [==============================] - 3s 26ms/step - loss: 3.5254e-05 - accuracy: 1.0000 - val_loss: 2.2819 - val_accuracy: 0.7420\n",
      "Epoch 32/60\n",
      "100/100 [==============================] - 3s 26ms/step - loss: 2.8943e-05 - accuracy: 1.0000 - val_loss: 2.3584 - val_accuracy: 0.7420\n",
      "Epoch 33/60\n",
      "100/100 [==============================] - 3s 26ms/step - loss: 2.3411e-05 - accuracy: 1.0000 - val_loss: 2.3954 - val_accuracy: 0.7430\n",
      "Epoch 34/60\n",
      "100/100 [==============================] - 3s 26ms/step - loss: 2.0232e-05 - accuracy: 1.0000 - val_loss: 2.4359 - val_accuracy: 0.7410\n",
      "Epoch 35/60\n",
      "100/100 [==============================] - 3s 26ms/step - loss: 1.7428e-05 - accuracy: 1.0000 - val_loss: 2.4668 - val_accuracy: 0.7400\n",
      "Epoch 36/60\n",
      "100/100 [==============================] - 3s 25ms/step - loss: 1.5647e-05 - accuracy: 1.0000 - val_loss: 2.4858 - val_accuracy: 0.7420\n",
      "Epoch 37/60\n",
      "100/100 [==============================] - 3s 26ms/step - loss: 1.3641e-05 - accuracy: 1.0000 - val_loss: 2.5001 - val_accuracy: 0.7430\n",
      "Epoch 38/60\n",
      "100/100 [==============================] - 3s 26ms/step - loss: 1.2076e-05 - accuracy: 1.0000 - val_loss: 2.5182 - val_accuracy: 0.7410\n",
      "Epoch 39/60\n",
      "100/100 [==============================] - 3s 25ms/step - loss: 1.0674e-05 - accuracy: 1.0000 - val_loss: 2.5353 - val_accuracy: 0.7410\n",
      "Epoch 40/60\n",
      "100/100 [==============================] - 3s 25ms/step - loss: 9.9173e-06 - accuracy: 1.0000 - val_loss: 2.5607 - val_accuracy: 0.7410\n",
      "Epoch 41/60\n",
      "100/100 [==============================] - 3s 26ms/step - loss: 8.6943e-06 - accuracy: 1.0000 - val_loss: 2.5804 - val_accuracy: 0.7420\n",
      "Epoch 42/60\n",
      "100/100 [==============================] - 3s 26ms/step - loss: 7.6678e-06 - accuracy: 1.0000 - val_loss: 2.6014 - val_accuracy: 0.7410\n",
      "Epoch 43/60\n",
      "100/100 [==============================] - 3s 26ms/step - loss: 6.9211e-06 - accuracy: 1.0000 - val_loss: 2.6145 - val_accuracy: 0.7420\n",
      "Epoch 44/60\n",
      "100/100 [==============================] - 3s 26ms/step - loss: 6.2433e-06 - accuracy: 1.0000 - val_loss: 2.6248 - val_accuracy: 0.7390\n",
      "Epoch 45/60\n",
      "100/100 [==============================] - 3s 27ms/step - loss: 5.6015e-06 - accuracy: 1.0000 - val_loss: 2.6417 - val_accuracy: 0.7390\n",
      "Epoch 46/60\n",
      "100/100 [==============================] - 3s 25ms/step - loss: 5.2018e-06 - accuracy: 1.0000 - val_loss: 2.6534 - val_accuracy: 0.7400\n",
      "Epoch 47/60\n",
      "100/100 [==============================] - 3s 26ms/step - loss: 4.7325e-06 - accuracy: 1.0000 - val_loss: 2.6617 - val_accuracy: 0.7420\n",
      "Epoch 48/60\n",
      "100/100 [==============================] - 3s 26ms/step - loss: 4.3226e-06 - accuracy: 1.0000 - val_loss: 2.6780 - val_accuracy: 0.7420\n",
      "Epoch 49/60\n",
      "100/100 [==============================] - 3s 26ms/step - loss: 4.0199e-06 - accuracy: 1.0000 - val_loss: 2.6987 - val_accuracy: 0.7440\n",
      "Epoch 50/60\n",
      "100/100 [==============================] - 3s 26ms/step - loss: 3.6522e-06 - accuracy: 1.0000 - val_loss: 2.7072 - val_accuracy: 0.7440\n",
      "Epoch 51/60\n",
      "100/100 [==============================] - 3s 25ms/step - loss: 3.3754e-06 - accuracy: 1.0000 - val_loss: 2.7157 - val_accuracy: 0.7420\n",
      "Epoch 52/60\n",
      "100/100 [==============================] - 3s 25ms/step - loss: 3.1309e-06 - accuracy: 1.0000 - val_loss: 2.7251 - val_accuracy: 0.7440\n",
      "Epoch 53/60\n",
      "100/100 [==============================] - 3s 26ms/step - loss: 2.8413e-06 - accuracy: 1.0000 - val_loss: 2.7395 - val_accuracy: 0.7430\n",
      "Epoch 54/60\n",
      "100/100 [==============================] - 3s 26ms/step - loss: 2.6889e-06 - accuracy: 1.0000 - val_loss: 2.7491 - val_accuracy: 0.7430\n",
      "Epoch 55/60\n",
      "100/100 [==============================] - 3s 26ms/step - loss: 2.4517e-06 - accuracy: 1.0000 - val_loss: 2.7565 - val_accuracy: 0.7440\n",
      "Epoch 56/60\n",
      "100/100 [==============================] - 3s 26ms/step - loss: 2.3247e-06 - accuracy: 1.0000 - val_loss: 2.7729 - val_accuracy: 0.7430\n"
     ]
    },
    {
     "name": "stdout",
     "output_type": "stream",
     "text": [
      "Epoch 57/60\n",
      "100/100 [==============================] - 3s 26ms/step - loss: 2.1586e-06 - accuracy: 1.0000 - val_loss: 2.7737 - val_accuracy: 0.7430\n",
      "Epoch 58/60\n",
      "100/100 [==============================] - 3s 25ms/step - loss: 2.0080e-06 - accuracy: 1.0000 - val_loss: 2.7864 - val_accuracy: 0.7450\n",
      "Epoch 59/60\n",
      "100/100 [==============================] - 3s 26ms/step - loss: 1.8254e-06 - accuracy: 1.0000 - val_loss: 2.7968 - val_accuracy: 0.7430\n",
      "Epoch 60/60\n",
      "100/100 [==============================] - 3s 26ms/step - loss: 1.7254e-06 - accuracy: 1.0000 - val_loss: 2.8081 - val_accuracy: 0.7450\n"
     ]
    }
   ],
   "source": [
    "# %%time\n",
    "\n",
    "Hist_dandc = model.fit(train_generator,\n",
    "                       steps_per_epoch = 100,\n",
    "                       epochs = 60,\n",
    "                       validation_data = valid_generator,\n",
    "                       validation_steps = 50)"
   ]
  },
  {
   "cell_type": "markdown",
   "metadata": {
    "id": "FnnIyFtNKhbD"
   },
   "source": [
    "> ## 4) 학습 결과 시각화"
   ]
  },
  {
   "cell_type": "code",
   "execution_count": 15,
   "metadata": {
    "colab": {
     "base_uri": "https://localhost:8080/",
     "height": 350
    },
    "executionInfo": {
     "elapsed": 15,
     "status": "ok",
     "timestamp": 1674697079098,
     "user": {
      "displayName": "이정구",
      "userId": "08368998955804870048"
     },
     "user_tz": -540
    },
    "id": "Xxie5c3bDTTv",
    "outputId": "05af4770-1370-4c35-cc21-6267b907ba2d"
   },
   "outputs": [
    {
     "data": {
      "image/png": "[encoded data removed]",
      "text/plain": [
       "<Figure size 1500x500 with 2 Axes>"
      ]
     },
     "metadata": {},
     "output_type": "display_data"
    }
   ],
   "source": [
    "import matplotlib.pyplot as plt\n",
    "\n",
    "epochs = range(1, len(Hist_dandc.history['loss']) + 1)\n",
    "\n",
    "plt.figure(figsize = (15, 5))\n",
    "\n",
    "plt.subplot(1, 2, 1)\n",
    "plt.plot(epochs, Hist_dandc.history['loss'], 'b-')\n",
    "plt.plot(epochs, Hist_dandc.history['val_loss'], 'r--')\n",
    "plt.title('Training & Validation Loss')\n",
    "plt.xlabel('Epochs')\n",
    "plt.ylabel('Loss')\n",
    "plt.legend(['Training Loss', 'Validation Loss'])\n",
    "plt.grid()\n",
    "\n",
    "plt.subplot(1, 2, 2)\n",
    "plt.plot(epochs, Hist_dandc.history['accuracy'], 'b-')\n",
    "plt.plot(epochs, Hist_dandc.history['val_accuracy'], 'r--')\n",
    "plt.title('Training & Validation Accuracy')\n",
    "plt.xlabel('Epochs')\n",
    "plt.ylabel('Accuracy')\n",
    "plt.legend(['Training Accuracy', 'Validation Accuracy'])\n",
    "plt.grid()\n",
    "\n",
    "plt.show()"
   ]
  },
  {
   "cell_type": "markdown",
   "metadata": {
    "id": "_uJSOLBko7lh"
   },
   "source": [
    "> ## 5) Model Evaluate"
   ]
  },
  {
   "cell_type": "markdown",
   "metadata": {
    "id": "vqd33SF_RG3q"
   },
   "source": [
    "* test_generator"
   ]
  },
  {
   "cell_type": "code",
   "execution_count": 16,
   "metadata": {
    "colab": {
     "base_uri": "https://localhost:8080/"
    },
    "executionInfo": {
     "elapsed": 12,
     "status": "ok",
     "timestamp": 1674697079099,
     "user": {
      "displayName": "이정구",
      "userId": "08368998955804870048"
     },
     "user_tz": -540
    },
    "id": "2SZddYK7RLov",
    "outputId": "b643b90a-2434-4b34-ac54-2e594b6ed4f4"
   },
   "outputs": [
    {
     "name": "stdout",
     "output_type": "stream",
     "text": [
      "Found 1000 images belonging to 2 classes.\n"
     ]
    }
   ],
   "source": [
    "test_datagen = ImageDataGenerator(rescale = 1./255)\n",
    "\n",
    "test_generator = test_datagen.flow_from_directory(\n",
    "                 test_dir,\n",
    "                 target_size = (150, 150),\n",
    "                 batch_size = 20,\n",
    "                 class_mode = 'binary')"
   ]
  },
  {
   "cell_type": "markdown",
   "metadata": {
    "id": "i-TqAB2ALGzZ"
   },
   "source": [
    "* Loss & Accuracy"
   ]
  },
  {
   "cell_type": "code",
   "execution_count": 17,
   "metadata": {
    "colab": {
     "base_uri": "https://localhost:8080/"
    },
    "executionInfo": {
     "elapsed": 2818,
     "status": "ok",
     "timestamp": 1674697081909,
     "user": {
      "displayName": "이정구",
      "userId": "08368998955804870048"
     },
     "user_tz": -540
    },
    "id": "OF30PuZsAxQJ",
    "outputId": "6f328d40-dcac-4476-ed43-89439ef63c8e"
   },
   "outputs": [
    {
     "name": "stdout",
     "output_type": "stream",
     "text": [
      "Loss = 3.10447\n",
      "Accuracy = 0.73000\n"
     ]
    }
   ],
   "source": [
    "loss, accuracy = model.evaluate(test_generator,\n",
    "                                steps = 50, \n",
    "                                verbose = 0)\n",
    "\n",
    "print('Loss = {:.5f}'.format(loss))\n",
    "print('Accuracy = {:.5f}'.format(accuracy))"
   ]
  },
  {
   "cell_type": "markdown",
   "metadata": {
    "id": "fBSR6RDTtWZV"
   },
   "source": [
    "# IV. Model Save & Load to Google Drive"
   ]
  },
  {
   "cell_type": "markdown",
   "metadata": {
    "id": "OoG9bnmFuD5v"
   },
   "source": [
    "> ## 1) Google Drive Mount"
   ]
  },
  {
   "cell_type": "markdown",
   "metadata": {
    "id": "-DoXDaDQD_nR"
   },
   "source": [
    "* Mount Google Drive"
   ]
  },
  {
   "cell_type": "code",
   "execution_count": null,
   "metadata": {
    "colab": {
     "base_uri": "https://localhost:8080/"
    },
    "executionInfo": {
     "elapsed": 24431,
     "status": "ok",
     "timestamp": 1674697106336,
     "user": {
      "displayName": "이정구",
      "userId": "08368998955804870048"
     },
     "user_tz": -540
    },
    "id": "PQYJikBzuOuQ",
    "outputId": "76ef1847-6dd9-463d-893a-874d25db93a0"
   },
   "outputs": [
    {
     "name": "stdout",
     "output_type": "stream",
     "text": [
      "Mounted at /content/drive\n"
     ]
    }
   ],
   "source": [
    "# from google.colab import drive\n",
    "\n",
    "# drive.mount('/content/drive')"
   ]
  },
  {
   "cell_type": "markdown",
   "metadata": {
    "id": "tOo9e0oz4Fj-"
   },
   "source": [
    "* Make 'models' Directory"
   ]
  },
  {
   "cell_type": "code",
   "execution_count": null,
   "metadata": {
    "id": "jMXhIqbg4M-n"
   },
   "outputs": [],
   "source": [
    "# !mkdir -p '/content/drive/My Drive/Colab Notebooks/models'"
   ]
  },
  {
   "cell_type": "markdown",
   "metadata": {
    "id": "0SX2qVV5tfZ5"
   },
   "source": [
    "> ## 2) Model Save"
   ]
  },
  {
   "cell_type": "code",
   "execution_count": 22,
   "metadata": {
    "id": "o-VnLdQftjvL"
   },
   "outputs": [],
   "source": [
    "# model.save('/content/drive/My Drive/Colab Notebooks/models/002_dogs_and_cats_small.h5')\n",
    "model.save('dogs_and_cats_small.h5')"
   ]
  },
  {
   "cell_type": "code",
   "execution_count": null,
   "metadata": {
    "colab": {
     "base_uri": "https://localhost:8080/"
    },
    "executionInfo": {
     "elapsed": 7,
     "status": "ok",
     "timestamp": 1674697106868,
     "user": {
      "displayName": "이정구",
      "userId": "08368998955804870048"
     },
     "user_tz": -540
    },
    "id": "rZngp467yJ3f",
    "outputId": "a5d90e80-5f5a-40ca-a0f3-9589ede128ef"
   },
   "outputs": [
    {
     "name": "stdout",
     "output_type": "stream",
     "text": [
      "total 40527\n",
      "-rw------- 1 root root 41499528 Jan 26 01:38 002_dogs_and_cats_small.h5\n"
     ]
    }
   ],
   "source": [
    "# !ls -l /content/drive/My\\ Drive/Colab\\ Notebooks/models"
   ]
  },
  {
   "cell_type": "markdown",
   "metadata": {
    "id": "WiKYR2Y5tsrv"
   },
   "source": [
    "> ## 3) Model Load"
   ]
  },
  {
   "cell_type": "code",
   "execution_count": 23,
   "metadata": {
    "id": "90UQS7J1tzBZ"
   },
   "outputs": [],
   "source": [
    "from tensorflow.keras.models import load_model\n",
    "\n",
    "# model_small = load_model('/content/drive/My Drive/Colab Notebooks/models/002_dogs_and_cats_small.h5')\n",
    "model_small = load_model('dogs_and_cats_small.h5')"
   ]
  },
  {
   "cell_type": "code",
   "execution_count": 24,
   "metadata": {
    "colab": {
     "base_uri": "https://localhost:8080/"
    },
    "executionInfo": {
     "elapsed": 2751,
     "status": "ok",
     "timestamp": 1674697110159,
     "user": {
      "displayName": "이정구",
      "userId": "08368998955804870048"
     },
     "user_tz": -540
    },
    "id": "rULDfHRPXh42",
    "outputId": "483fc920-b3a3-460b-f2d9-f7066e1d5745"
   },
   "outputs": [
    {
     "name": "stdout",
     "output_type": "stream",
     "text": [
      "Loss = 3.10447\n",
      "Accuracy = 0.73000\n"
     ]
    }
   ],
   "source": [
    "loss, accuracy = model_small.evaluate(test_generator,\n",
    "                                      steps = 50, \n",
    "                                      verbose = 0)\n",
    "\n",
    "print('Loss = {:.5f}'.format(loss))\n",
    "print('Accuracy = {:.5f}'.format(accuracy))"
   ]
  },
  {
   "cell_type": "markdown",
   "metadata": {
    "id": "sN48I9GrLxOX"
   },
   "source": [
    "# \n",
    "# \n",
    "# \n",
    "# The End\n",
    "# \n",
    "# \n",
    "# "
   ]
  }
 ],
 "metadata": {
  "accelerator": "GPU",
  "colab": {
   "provenance": []
  },
  "kernelspec": {
   "display_name": "Python 3 (ipykernel)",
   "language": "python",
   "name": "python3"
  },
  "language_info": {
   "codemirror_mode": {
    "name": "ipython",
    "version": 3
   },
   "file_extension": ".py",
   "mimetype": "text/x-python",
   "name": "python",
   "nbconvert_exporter": "python",
   "pygments_lexer": "ipython3",
   "version": "3.10.8"
  },
  "toc": {
   "base_numbering": 1,
   "nav_menu": {},
   "number_sections": true,
   "sideBar": true,
   "skip_h1_title": false,
   "title_cell": "Table of Contents",
   "title_sidebar": "Contents",
   "toc_cell": false,
   "toc_position": {},
   "toc_section_display": true,
   "toc_window_display": false
  }
 },
 "nbformat": 4,
 "nbformat_minor": 1
}
