{
 "cells": [
  {
   "cell_type": "markdown",
   "metadata": {
    "id": "q2Pr7oBdYLdf"
   },
   "source": [
    "# Fashion MNIST - Categorical Classification\n",
    "> # Convolutional Neural Network\n"
   ]
  },
  {
   "cell_type": "code",
   "execution_count": 1,
   "metadata": {
    "executionInfo": {
     "elapsed": 8,
     "status": "ok",
     "timestamp": 1674025055669,
     "user": {
      "displayName": "이정구",
      "userId": "10412141110999311561"
     },
     "user_tz": -540
    },
    "id": "RbPgODpVzdHI"
   },
   "outputs": [],
   "source": [
    "import warnings\n",
    "warnings.filterwarnings('ignore')"
   ]
  },
  {
   "cell_type": "markdown",
   "metadata": {
    "id": "tUvJIk2aRFtw"
   },
   "source": [
    "* import Tensorflow"
   ]
  },
  {
   "cell_type": "code",
   "execution_count": 2,
   "metadata": {
    "colab": {
     "base_uri": "https://localhost:8080/",
     "height": 35
    },
    "executionInfo": {
     "elapsed": 3005,
     "status": "ok",
     "timestamp": 1674025058667,
     "user": {
      "displayName": "이정구",
      "userId": "10412141110999311561"
     },
     "user_tz": -540
    },
    "id": "GR4j3p6N_rDV",
    "outputId": "9c33b309-d75a-4757-ea66-4f982632201d"
   },
   "outputs": [
    {
     "data": {
      "application/vnd.google.colaboratory.intrinsic+json": {
       "type": "string"
      },
      "text/plain": [
       "'2.9.2'"
      ]
     },
     "execution_count": 2,
     "metadata": {},
     "output_type": "execute_result"
    }
   ],
   "source": [
    "import tensorflow\n",
    "\n",
    "tensorflow.__version__"
   ]
  },
  {
   "cell_type": "markdown",
   "metadata": {
    "id": "H49A769LYp-a"
   },
   "source": [
    "# I. Fashion MNIST Data_Set Load"
   ]
  },
  {
   "cell_type": "code",
   "execution_count": 3,
   "metadata": {
    "colab": {
     "base_uri": "https://localhost:8080/"
    },
    "executionInfo": {
     "elapsed": 4610,
     "status": "ok",
     "timestamp": 1674025063265,
     "user": {
      "displayName": "이정구",
      "userId": "10412141110999311561"
     },
     "user_tz": -540
    },
    "id": "DxstjE8b_6Te",
    "outputId": "266c32a7-26d1-4891-aac7-2728e1b77bb2"
   },
   "outputs": [
    {
     "name": "stdout",
     "output_type": "stream",
     "text": [
      "Downloading data from https://storage.googleapis.com/tensorflow/tf-keras-datasets/train-labels-idx1-ubyte.gz\n",
      "29515/29515 [==============================] - 0s 0us/step\n",
      "Downloading data from https://storage.googleapis.com/tensorflow/tf-keras-datasets/train-images-idx3-ubyte.gz\n",
      "26421880/26421880 [==============================] - 2s 0us/step\n",
      "Downloading data from https://storage.googleapis.com/tensorflow/tf-keras-datasets/t10k-labels-idx1-ubyte.gz\n",
      "5148/5148 [==============================] - 0s 0us/step\n",
      "Downloading data from https://storage.googleapis.com/tensorflow/tf-keras-datasets/t10k-images-idx3-ubyte.gz\n",
      "4422102/4422102 [==============================] - 0s 0us/step\n"
     ]
    },
    {
     "data": {
      "text/plain": [
       "((60000, 28, 28), (60000,), (10000, 28, 28), (10000,))"
      ]
     },
     "execution_count": 3,
     "metadata": {},
     "output_type": "execute_result"
    }
   ],
   "source": [
    "from tensorflow.keras.datasets import fashion_mnist\n",
    "\n",
    "(X_train, y_train), (X_test, y_test) = fashion_mnist.load_data()\n",
    "\n",
    "X_train.shape, y_train.shape, X_test.shape, y_test.shape"
   ]
  },
  {
   "cell_type": "markdown",
   "metadata": {
    "id": "Mk9XL5vGHor6"
   },
   "source": [
    "# II. Data Preprocessing"
   ]
  },
  {
   "cell_type": "markdown",
   "metadata": {
    "id": "jc0dKKjQ8zuT"
   },
   "source": [
    "> ## 1) Normalization"
   ]
  },
  {
   "cell_type": "markdown",
   "metadata": {
    "id": "JKr2u3Qf8zuU"
   },
   "source": [
    "* 범위: 0 ~ 1"
   ]
  },
  {
   "cell_type": "code",
   "execution_count": 4,
   "metadata": {
    "executionInfo": {
     "elapsed": 31,
     "status": "ok",
     "timestamp": 1674025063266,
     "user": {
      "displayName": "이정구",
      "userId": "10412141110999311561"
     },
     "user_tz": -540
    },
    "id": "SoGHuYeFIGBj"
   },
   "outputs": [],
   "source": [
    "X_train = X_train.astype(float) / 255\n",
    "X_test = X_test.astype(float) / 255"
   ]
  },
  {
   "cell_type": "markdown",
   "metadata": {
    "id": "fegSl3Fu87qX"
   },
   "source": [
    "> ## 2) Reshape\n",
    "\n",
    " * (60000, 28, 28) to (60000, 28, 28, 1)"
   ]
  },
  {
   "cell_type": "code",
   "execution_count": 5,
   "metadata": {
    "executionInfo": {
     "elapsed": 28,
     "status": "ok",
     "timestamp": 1674025063267,
     "user": {
      "displayName": "이정구",
      "userId": "10412141110999311561"
     },
     "user_tz": -540
    },
    "id": "8-toPn1ZAmFd"
   },
   "outputs": [],
   "source": [
    "X_train = X_train.reshape((60000, 28, 28, 1))\n",
    "X_test = X_test.reshape((10000, 28, 28, 1))"
   ]
  },
  {
   "cell_type": "markdown",
   "metadata": {
    "id": "BtSROU80aF12"
   },
   "source": [
    "> ## 3) One Hot Encoding"
   ]
  },
  {
   "cell_type": "code",
   "execution_count": 6,
   "metadata": {
    "executionInfo": {
     "elapsed": 27,
     "status": "ok",
     "timestamp": 1674025063268,
     "user": {
      "displayName": "이정구",
      "userId": "10412141110999311561"
     },
     "user_tz": -540
    },
    "id": "eC48Oym3Ao8E"
   },
   "outputs": [],
   "source": [
    "from tensorflow.keras.utils import to_categorical\n",
    "\n",
    "y_train = to_categorical(y_train)\n",
    "y_test = to_categorical(y_test)"
   ]
  },
  {
   "cell_type": "markdown",
   "metadata": {
    "id": "5Y0xaGNzYkI2"
   },
   "source": [
    "> ## 4) train_test_split( )\n",
    "\n",
    "* Train(48,000) vs. Validation(12,000)"
   ]
  },
  {
   "cell_type": "code",
   "execution_count": 7,
   "metadata": {
    "colab": {
     "base_uri": "https://localhost:8080/"
    },
    "executionInfo": {
     "elapsed": 671,
     "status": "ok",
     "timestamp": 1674025063914,
     "user": {
      "displayName": "이정구",
      "userId": "10412141110999311561"
     },
     "user_tz": -540
    },
    "id": "zdpfzw3TXRHG",
    "outputId": "416066c1-1d2a-4c12-90a4-d8641e1fbee6"
   },
   "outputs": [
    {
     "data": {
      "text/plain": [
       "((48000, 28, 28, 1), (48000, 10), (12000, 28, 28, 1), (12000, 10))"
      ]
     },
     "execution_count": 7,
     "metadata": {},
     "output_type": "execute_result"
    }
   ],
   "source": [
    "from sklearn.model_selection import train_test_split \n",
    "\n",
    "X_train, X_valid, y_train, y_valid = train_test_split(X_train, y_train,\n",
    "                                                      test_size = 0.2,\n",
    "                                                      random_state = 2045)\n",
    "\n",
    "X_train.shape, y_train.shape, X_valid.shape, y_valid.shape"
   ]
  },
  {
   "cell_type": "markdown",
   "metadata": {
    "id": "NTwZiSjiop3v"
   },
   "source": [
    "# III. MNIST Keras Modeling"
   ]
  },
  {
   "cell_type": "markdown",
   "metadata": {
    "id": "j5CT0TurJCkc"
   },
   "source": [
    "> ## 1) Model Define"
   ]
  },
  {
   "cell_type": "markdown",
   "metadata": {
    "id": "ydDCl0jTJD58"
   },
   "source": [
    "* Feature Extraction Layer"
   ]
  },
  {
   "cell_type": "code",
   "execution_count": 8,
   "metadata": {
    "executionInfo": {
     "elapsed": 4324,
     "status": "ok",
     "timestamp": 1674025068233,
     "user": {
      "displayName": "이정구",
      "userId": "10412141110999311561"
     },
     "user_tz": -540
    },
    "id": "II0DskRdAcHS"
   },
   "outputs": [],
   "source": [
    "from tensorflow.keras import models\n",
    "from tensorflow.keras import layers\n",
    "\n",
    "model = models.Sequential()\n",
    "model.add(layers.Conv2D(filters=32, kernel_size=(3,3), activation='relu', input_shape=(28, 28, 1)))\n",
    "model.add(layers.MaxPool2D(pool_size=(2,2)))\n",
    "model.add(layers.Conv2D(filters=64, kernel_size=(3,3), activation='relu'))\n",
    "model.add(layers.MaxPool2D(pool_size=(2,2)))\n",
    "model.add(layers.Conv2D(filters=64, kernel_size=(3,3), activation='relu'))"
   ]
  },
  {
   "cell_type": "code",
   "execution_count": 9,
   "metadata": {
    "colab": {
     "base_uri": "https://localhost:8080/"
    },
    "executionInfo": {
     "elapsed": 81,
     "status": "ok",
     "timestamp": 1674025068234,
     "user": {
      "displayName": "이정구",
      "userId": "10412141110999311561"
     },
     "user_tz": -540
    },
    "id": "wbtjOA4XMTUd",
    "outputId": "e461bb4c-8128-4243-c164-bef16c50b1e7"
   },
   "outputs": [
    {
     "name": "stdout",
     "output_type": "stream",
     "text": [
      "Model: \"sequential\"\n",
      "_________________________________________________________________\n",
      " Layer (type)                Output Shape              Param #   \n",
      "=================================================================\n",
      " conv2d (Conv2D)             (None, 26, 26, 32)        320       \n",
      "                                                                 \n",
      " max_pooling2d (MaxPooling2D  (None, 13, 13, 32)       0         \n",
      " )                                                               \n",
      "                                                                 \n",
      " conv2d_1 (Conv2D)           (None, 11, 11, 64)        18496     \n",
      "                                                                 \n",
      " max_pooling2d_1 (MaxPooling  (None, 5, 5, 64)         0         \n",
      " 2D)                                                             \n",
      "                                                                 \n",
      " conv2d_2 (Conv2D)           (None, 3, 3, 64)          36928     \n",
      "                                                                 \n",
      "=================================================================\n",
      "Total params: 55,744\n",
      "Trainable params: 55,744\n",
      "Non-trainable params: 0\n",
      "_________________________________________________________________\n"
     ]
    }
   ],
   "source": [
    "model.summary()"
   ]
  },
  {
   "cell_type": "markdown",
   "metadata": {
    "id": "bs9_i1a382dw"
   },
   "source": [
    "* Classification Layer"
   ]
  },
  {
   "cell_type": "code",
   "execution_count": 10,
   "metadata": {
    "executionInfo": {
     "elapsed": 40,
     "status": "ok",
     "timestamp": 1674025068234,
     "user": {
      "displayName": "이정구",
      "userId": "10412141110999311561"
     },
     "user_tz": -540
    },
    "id": "jqUDCY2e86G-"
   },
   "outputs": [],
   "source": [
    "model.add(layers.Flatten())\n",
    "model.add(layers.Dropout(0.5))\n",
    "model.add(layers.Dense(units=64, activation='relu'))\n",
    "model.add(layers.Dense(units=10, activation='softmax'))"
   ]
  },
  {
   "cell_type": "code",
   "execution_count": 11,
   "metadata": {
    "colab": {
     "base_uri": "https://localhost:8080/"
    },
    "executionInfo": {
     "elapsed": 705,
     "status": "ok",
     "timestamp": 1674025068901,
     "user": {
      "displayName": "이정구",
      "userId": "10412141110999311561"
     },
     "user_tz": -540
    },
    "id": "kQ02_BOz8-ek",
    "outputId": "6de404d5-082f-46d5-ceda-3ef5b13aea6a"
   },
   "outputs": [
    {
     "name": "stdout",
     "output_type": "stream",
     "text": [
      "Model: \"sequential\"\n",
      "_________________________________________________________________\n",
      " Layer (type)                Output Shape              Param #   \n",
      "=================================================================\n",
      " conv2d (Conv2D)             (None, 26, 26, 32)        320       \n",
      "                                                                 \n",
      " max_pooling2d (MaxPooling2D  (None, 13, 13, 32)       0         \n",
      " )                                                               \n",
      "                                                                 \n",
      " conv2d_1 (Conv2D)           (None, 11, 11, 64)        18496     \n",
      "                                                                 \n",
      " max_pooling2d_1 (MaxPooling  (None, 5, 5, 64)         0         \n",
      " 2D)                                                             \n",
      "                                                                 \n",
      " conv2d_2 (Conv2D)           (None, 3, 3, 64)          36928     \n",
      "                                                                 \n",
      " flatten (Flatten)           (None, 576)               0         \n",
      "                                                                 \n",
      " dropout (Dropout)           (None, 576)               0         \n",
      "                                                                 \n",
      " dense (Dense)               (None, 64)                36928     \n",
      "                                                                 \n",
      " dense_1 (Dense)             (None, 10)                650       \n",
      "                                                                 \n",
      "=================================================================\n",
      "Total params: 93,322\n",
      "Trainable params: 93,322\n",
      "Non-trainable params: 0\n",
      "_________________________________________________________________\n"
     ]
    }
   ],
   "source": [
    "model.summary()"
   ]
  },
  {
   "cell_type": "markdown",
   "metadata": {
    "id": "tpjBDBeYoyuj"
   },
   "source": [
    "> ## 2) Model Compile"
   ]
  },
  {
   "cell_type": "markdown",
   "metadata": {
    "id": "f3sxkQa0JoUr"
   },
   "source": [
    "* 모델 학습방법 설정"
   ]
  },
  {
   "cell_type": "code",
   "execution_count": 12,
   "metadata": {
    "executionInfo": {
     "elapsed": 4,
     "status": "ok",
     "timestamp": 1674025068902,
     "user": {
      "displayName": "이정구",
      "userId": "10412141110999311561"
     },
     "user_tz": -540
    },
    "id": "AyK_t1qwAi6M"
   },
   "outputs": [],
   "source": [
    "model.compile(loss = 'categorical_crossentropy',\n",
    "              optimizer = 'rmsprop',\n",
    "              metrics = ['accuracy'])"
   ]
  },
  {
   "cell_type": "markdown",
   "metadata": {
    "id": "umiq4B-Xo3OB"
   },
   "source": [
    "> ## 3) Model Fit"
   ]
  },
  {
   "cell_type": "markdown",
   "metadata": {
    "id": "1KuXREziKMD1"
   },
   "source": [
    "* 약 5분"
   ]
  },
  {
   "cell_type": "code",
   "execution_count": 13,
   "metadata": {
    "colab": {
     "base_uri": "https://localhost:8080/"
    },
    "executionInfo": {
     "elapsed": 226788,
     "status": "ok",
     "timestamp": 1674025295686,
     "user": {
      "displayName": "이정구",
      "userId": "10412141110999311561"
     },
     "user_tz": -540
    },
    "id": "zxwqwAqRAqRP",
    "outputId": "7cb275c4-1004-4492-e4ad-1e63c44d2741"
   },
   "outputs": [
    {
     "name": "stdout",
     "output_type": "stream",
     "text": [
      "Epoch 1/100\n",
      "375/375 [==============================] - 13s 6ms/step - loss: 0.7030 - accuracy: 0.7384 - val_loss: 0.4507 - val_accuracy: 0.8368\n",
      "Epoch 2/100\n",
      "375/375 [==============================] - 2s 6ms/step - loss: 0.4444 - accuracy: 0.8380 - val_loss: 0.3693 - val_accuracy: 0.8644\n",
      "Epoch 3/100\n",
      "375/375 [==============================] - 2s 6ms/step - loss: 0.3794 - accuracy: 0.8628 - val_loss: 0.3395 - val_accuracy: 0.8770\n",
      "Epoch 4/100\n",
      "375/375 [==============================] - 2s 6ms/step - loss: 0.3406 - accuracy: 0.8755 - val_loss: 0.3173 - val_accuracy: 0.8835\n",
      "Epoch 5/100\n",
      "375/375 [==============================] - 2s 6ms/step - loss: 0.3178 - accuracy: 0.8833 - val_loss: 0.2968 - val_accuracy: 0.8892\n",
      "Epoch 6/100\n",
      "375/375 [==============================] - 2s 5ms/step - loss: 0.2971 - accuracy: 0.8916 - val_loss: 0.2767 - val_accuracy: 0.8986\n",
      "Epoch 7/100\n",
      "375/375 [==============================] - 2s 6ms/step - loss: 0.2846 - accuracy: 0.8966 - val_loss: 0.2619 - val_accuracy: 0.9048\n",
      "Epoch 8/100\n",
      "375/375 [==============================] - 2s 6ms/step - loss: 0.2689 - accuracy: 0.9018 - val_loss: 0.2650 - val_accuracy: 0.9041\n",
      "Epoch 9/100\n",
      "375/375 [==============================] - 2s 6ms/step - loss: 0.2599 - accuracy: 0.9045 - val_loss: 0.2441 - val_accuracy: 0.9097\n",
      "Epoch 10/100\n",
      "375/375 [==============================] - 2s 6ms/step - loss: 0.2492 - accuracy: 0.9092 - val_loss: 0.2394 - val_accuracy: 0.9131\n",
      "Epoch 11/100\n",
      "375/375 [==============================] - 2s 6ms/step - loss: 0.2424 - accuracy: 0.9119 - val_loss: 0.2472 - val_accuracy: 0.9088\n",
      "Epoch 12/100\n",
      "375/375 [==============================] - 2s 6ms/step - loss: 0.2336 - accuracy: 0.9147 - val_loss: 0.2491 - val_accuracy: 0.9106\n",
      "Epoch 13/100\n",
      "375/375 [==============================] - 2s 6ms/step - loss: 0.2277 - accuracy: 0.9155 - val_loss: 0.2387 - val_accuracy: 0.9146\n",
      "Epoch 14/100\n",
      "375/375 [==============================] - 2s 6ms/step - loss: 0.2210 - accuracy: 0.9179 - val_loss: 0.2420 - val_accuracy: 0.9107\n",
      "Epoch 15/100\n",
      "375/375 [==============================] - 2s 6ms/step - loss: 0.2149 - accuracy: 0.9207 - val_loss: 0.2486 - val_accuracy: 0.9123\n",
      "Epoch 16/100\n",
      "375/375 [==============================] - 2s 6ms/step - loss: 0.2102 - accuracy: 0.9215 - val_loss: 0.2326 - val_accuracy: 0.9161\n",
      "Epoch 17/100\n",
      "375/375 [==============================] - 2s 6ms/step - loss: 0.2071 - accuracy: 0.9226 - val_loss: 0.2425 - val_accuracy: 0.9103\n",
      "Epoch 18/100\n",
      "375/375 [==============================] - 2s 6ms/step - loss: 0.1997 - accuracy: 0.9264 - val_loss: 0.2340 - val_accuracy: 0.9172\n",
      "Epoch 19/100\n",
      "375/375 [==============================] - 2s 6ms/step - loss: 0.1967 - accuracy: 0.9268 - val_loss: 0.2335 - val_accuracy: 0.9155\n",
      "Epoch 20/100\n",
      "375/375 [==============================] - 2s 6ms/step - loss: 0.1935 - accuracy: 0.9281 - val_loss: 0.2297 - val_accuracy: 0.9170\n",
      "Epoch 21/100\n",
      "375/375 [==============================] - 3s 7ms/step - loss: 0.1894 - accuracy: 0.9303 - val_loss: 0.2557 - val_accuracy: 0.9163\n",
      "Epoch 22/100\n",
      "375/375 [==============================] - 2s 6ms/step - loss: 0.1859 - accuracy: 0.9301 - val_loss: 0.2564 - val_accuracy: 0.9111\n",
      "Epoch 23/100\n",
      "375/375 [==============================] - 2s 6ms/step - loss: 0.1800 - accuracy: 0.9317 - val_loss: 0.2429 - val_accuracy: 0.9174\n",
      "Epoch 24/100\n",
      "375/375 [==============================] - 2s 6ms/step - loss: 0.1776 - accuracy: 0.9340 - val_loss: 0.2514 - val_accuracy: 0.9125\n",
      "Epoch 25/100\n",
      "375/375 [==============================] - 2s 6ms/step - loss: 0.1780 - accuracy: 0.9340 - val_loss: 0.2406 - val_accuracy: 0.9167\n",
      "Epoch 26/100\n",
      "375/375 [==============================] - 2s 6ms/step - loss: 0.1717 - accuracy: 0.9355 - val_loss: 0.2576 - val_accuracy: 0.9168\n",
      "Epoch 27/100\n",
      "375/375 [==============================] - 2s 6ms/step - loss: 0.1701 - accuracy: 0.9368 - val_loss: 0.2448 - val_accuracy: 0.9157\n",
      "Epoch 28/100\n",
      "375/375 [==============================] - 2s 6ms/step - loss: 0.1683 - accuracy: 0.9386 - val_loss: 0.2644 - val_accuracy: 0.9135\n",
      "Epoch 29/100\n",
      "375/375 [==============================] - 2s 6ms/step - loss: 0.1659 - accuracy: 0.9377 - val_loss: 0.2597 - val_accuracy: 0.9171\n",
      "Epoch 30/100\n",
      "375/375 [==============================] - 2s 6ms/step - loss: 0.1647 - accuracy: 0.9385 - val_loss: 0.2541 - val_accuracy: 0.9190\n",
      "Epoch 31/100\n",
      "375/375 [==============================] - 2s 6ms/step - loss: 0.1645 - accuracy: 0.9382 - val_loss: 0.2554 - val_accuracy: 0.9158\n",
      "Epoch 32/100\n",
      "375/375 [==============================] - 2s 6ms/step - loss: 0.1598 - accuracy: 0.9405 - val_loss: 0.2535 - val_accuracy: 0.9168\n",
      "Epoch 33/100\n",
      "375/375 [==============================] - 2s 6ms/step - loss: 0.1559 - accuracy: 0.9431 - val_loss: 0.2487 - val_accuracy: 0.9190\n",
      "Epoch 34/100\n",
      "375/375 [==============================] - 2s 6ms/step - loss: 0.1580 - accuracy: 0.9419 - val_loss: 0.2536 - val_accuracy: 0.9166\n",
      "Epoch 35/100\n",
      "375/375 [==============================] - 2s 6ms/step - loss: 0.1581 - accuracy: 0.9403 - val_loss: 0.2631 - val_accuracy: 0.9168\n",
      "Epoch 36/100\n",
      "375/375 [==============================] - 2s 6ms/step - loss: 0.1491 - accuracy: 0.9443 - val_loss: 0.2953 - val_accuracy: 0.9193\n",
      "Epoch 37/100\n",
      "375/375 [==============================] - 2s 6ms/step - loss: 0.1497 - accuracy: 0.9440 - val_loss: 0.2518 - val_accuracy: 0.9187\n",
      "Epoch 38/100\n",
      "375/375 [==============================] - 2s 6ms/step - loss: 0.1484 - accuracy: 0.9444 - val_loss: 0.2809 - val_accuracy: 0.9170\n",
      "Epoch 39/100\n",
      "375/375 [==============================] - 2s 6ms/step - loss: 0.1470 - accuracy: 0.9455 - val_loss: 0.2704 - val_accuracy: 0.9195\n",
      "Epoch 40/100\n",
      "375/375 [==============================] - 2s 6ms/step - loss: 0.1446 - accuracy: 0.9467 - val_loss: 0.2763 - val_accuracy: 0.9155\n",
      "Epoch 41/100\n",
      "375/375 [==============================] - 2s 6ms/step - loss: 0.1449 - accuracy: 0.9460 - val_loss: 0.2449 - val_accuracy: 0.9181\n",
      "Epoch 42/100\n",
      "375/375 [==============================] - 2s 6ms/step - loss: 0.1439 - accuracy: 0.9486 - val_loss: 0.2977 - val_accuracy: 0.9207\n",
      "Epoch 43/100\n",
      "375/375 [==============================] - 2s 6ms/step - loss: 0.1426 - accuracy: 0.9473 - val_loss: 0.2700 - val_accuracy: 0.9166\n",
      "Epoch 44/100\n",
      "375/375 [==============================] - 2s 6ms/step - loss: 0.1453 - accuracy: 0.9469 - val_loss: 0.2718 - val_accuracy: 0.9158\n",
      "Epoch 45/100\n",
      "375/375 [==============================] - 2s 6ms/step - loss: 0.1382 - accuracy: 0.9485 - val_loss: 0.2785 - val_accuracy: 0.9164\n",
      "Epoch 46/100\n",
      "375/375 [==============================] - 2s 6ms/step - loss: 0.1412 - accuracy: 0.9490 - val_loss: 0.2709 - val_accuracy: 0.9158\n",
      "Epoch 47/100\n",
      "375/375 [==============================] - 2s 6ms/step - loss: 0.1379 - accuracy: 0.9492 - val_loss: 0.2824 - val_accuracy: 0.9154\n",
      "Epoch 48/100\n",
      "375/375 [==============================] - 2s 6ms/step - loss: 0.1391 - accuracy: 0.9483 - val_loss: 0.3061 - val_accuracy: 0.9169\n",
      "Epoch 49/100\n",
      "375/375 [==============================] - 2s 6ms/step - loss: 0.1343 - accuracy: 0.9507 - val_loss: 0.3220 - val_accuracy: 0.9183\n",
      "Epoch 50/100\n",
      "375/375 [==============================] - 2s 6ms/step - loss: 0.1334 - accuracy: 0.9507 - val_loss: 0.2741 - val_accuracy: 0.9158\n",
      "Epoch 51/100\n",
      "375/375 [==============================] - 2s 6ms/step - loss: 0.1360 - accuracy: 0.9504 - val_loss: 0.2856 - val_accuracy: 0.9187\n",
      "Epoch 52/100\n",
      "375/375 [==============================] - 2s 6ms/step - loss: 0.1327 - accuracy: 0.9509 - val_loss: 0.3007 - val_accuracy: 0.9192\n",
      "Epoch 53/100\n",
      "375/375 [==============================] - 2s 6ms/step - loss: 0.1324 - accuracy: 0.9522 - val_loss: 0.2809 - val_accuracy: 0.9208\n",
      "Epoch 54/100\n",
      "375/375 [==============================] - 2s 6ms/step - loss: 0.1336 - accuracy: 0.9515 - val_loss: 0.2932 - val_accuracy: 0.9168\n",
      "Epoch 55/100\n",
      "375/375 [==============================] - 2s 6ms/step - loss: 0.1296 - accuracy: 0.9527 - val_loss: 0.2939 - val_accuracy: 0.9197\n",
      "Epoch 56/100\n",
      "375/375 [==============================] - 2s 6ms/step - loss: 0.1308 - accuracy: 0.9511 - val_loss: 0.3108 - val_accuracy: 0.9171\n",
      "Epoch 57/100\n",
      "375/375 [==============================] - 2s 6ms/step - loss: 0.1321 - accuracy: 0.9516 - val_loss: 0.3303 - val_accuracy: 0.9151\n",
      "Epoch 58/100\n",
      "375/375 [==============================] - 2s 6ms/step - loss: 0.1288 - accuracy: 0.9533 - val_loss: 0.2700 - val_accuracy: 0.9159\n",
      "Epoch 59/100\n",
      "375/375 [==============================] - 2s 6ms/step - loss: 0.1305 - accuracy: 0.9529 - val_loss: 0.2946 - val_accuracy: 0.9114\n",
      "Epoch 60/100\n",
      "375/375 [==============================] - 2s 6ms/step - loss: 0.1255 - accuracy: 0.9543 - val_loss: 0.3335 - val_accuracy: 0.9147\n",
      "Epoch 61/100\n",
      "375/375 [==============================] - 2s 6ms/step - loss: 0.1259 - accuracy: 0.9540 - val_loss: 0.3045 - val_accuracy: 0.9173\n",
      "Epoch 62/100\n",
      "375/375 [==============================] - 2s 6ms/step - loss: 0.1292 - accuracy: 0.9520 - val_loss: 0.3030 - val_accuracy: 0.9213\n",
      "Epoch 63/100\n",
      "375/375 [==============================] - 2s 6ms/step - loss: 0.1296 - accuracy: 0.9528 - val_loss: 0.3145 - val_accuracy: 0.9172\n",
      "Epoch 64/100\n",
      "375/375 [==============================] - 2s 6ms/step - loss: 0.1273 - accuracy: 0.9532 - val_loss: 0.3749 - val_accuracy: 0.9196\n",
      "Epoch 65/100\n",
      "375/375 [==============================] - 2s 6ms/step - loss: 0.1289 - accuracy: 0.9532 - val_loss: 0.3348 - val_accuracy: 0.9187\n",
      "Epoch 66/100\n",
      "375/375 [==============================] - 2s 6ms/step - loss: 0.1247 - accuracy: 0.9551 - val_loss: 0.3258 - val_accuracy: 0.9202\n",
      "Epoch 67/100\n",
      "375/375 [==============================] - 2s 6ms/step - loss: 0.1239 - accuracy: 0.9547 - val_loss: 0.3817 - val_accuracy: 0.9168\n",
      "Epoch 68/100\n",
      "375/375 [==============================] - 2s 6ms/step - loss: 0.1262 - accuracy: 0.9534 - val_loss: 0.3877 - val_accuracy: 0.9173\n",
      "Epoch 69/100\n",
      "375/375 [==============================] - 2s 6ms/step - loss: 0.1254 - accuracy: 0.9545 - val_loss: 0.3105 - val_accuracy: 0.9217\n",
      "Epoch 70/100\n",
      "375/375 [==============================] - 2s 6ms/step - loss: 0.1262 - accuracy: 0.9540 - val_loss: 0.3197 - val_accuracy: 0.9168\n",
      "Epoch 71/100\n",
      "375/375 [==============================] - 2s 6ms/step - loss: 0.1259 - accuracy: 0.9555 - val_loss: 0.2925 - val_accuracy: 0.9160\n",
      "Epoch 72/100\n",
      "375/375 [==============================] - 2s 6ms/step - loss: 0.1295 - accuracy: 0.9549 - val_loss: 0.3334 - val_accuracy: 0.9141\n",
      "Epoch 73/100\n",
      "375/375 [==============================] - 2s 6ms/step - loss: 0.1246 - accuracy: 0.9547 - val_loss: 0.3000 - val_accuracy: 0.9141\n",
      "Epoch 74/100\n",
      "375/375 [==============================] - 2s 6ms/step - loss: 0.1209 - accuracy: 0.9557 - val_loss: 0.3399 - val_accuracy: 0.9194\n",
      "Epoch 75/100\n",
      "375/375 [==============================] - 2s 6ms/step - loss: 0.1236 - accuracy: 0.9552 - val_loss: 0.3032 - val_accuracy: 0.9168\n",
      "Epoch 76/100\n",
      "375/375 [==============================] - 2s 6ms/step - loss: 0.1216 - accuracy: 0.9568 - val_loss: 0.3142 - val_accuracy: 0.9153\n",
      "Epoch 77/100\n",
      "375/375 [==============================] - 2s 6ms/step - loss: 0.1242 - accuracy: 0.9552 - val_loss: 0.3170 - val_accuracy: 0.9164\n",
      "Epoch 78/100\n",
      "375/375 [==============================] - 2s 6ms/step - loss: 0.1243 - accuracy: 0.9554 - val_loss: 0.3451 - val_accuracy: 0.9187\n",
      "Epoch 79/100\n",
      "375/375 [==============================] - 2s 6ms/step - loss: 0.1228 - accuracy: 0.9563 - val_loss: 0.3082 - val_accuracy: 0.9193\n",
      "Epoch 80/100\n",
      "375/375 [==============================] - 2s 6ms/step - loss: 0.1200 - accuracy: 0.9564 - val_loss: 0.3476 - val_accuracy: 0.9197\n",
      "Epoch 81/100\n",
      "375/375 [==============================] - 2s 6ms/step - loss: 0.1195 - accuracy: 0.9571 - val_loss: 0.3308 - val_accuracy: 0.9185\n",
      "Epoch 82/100\n",
      "375/375 [==============================] - 2s 6ms/step - loss: 0.1218 - accuracy: 0.9569 - val_loss: 0.3161 - val_accuracy: 0.9187\n",
      "Epoch 83/100\n",
      "375/375 [==============================] - 2s 6ms/step - loss: 0.1220 - accuracy: 0.9566 - val_loss: 0.3346 - val_accuracy: 0.9161\n",
      "Epoch 84/100\n",
      "375/375 [==============================] - 2s 6ms/step - loss: 0.1249 - accuracy: 0.9534 - val_loss: 0.3282 - val_accuracy: 0.9183\n",
      "Epoch 85/100\n",
      "375/375 [==============================] - 2s 6ms/step - loss: 0.1230 - accuracy: 0.9563 - val_loss: 0.3324 - val_accuracy: 0.9191\n",
      "Epoch 86/100\n",
      "375/375 [==============================] - 2s 6ms/step - loss: 0.1209 - accuracy: 0.9573 - val_loss: 0.3325 - val_accuracy: 0.9178\n",
      "Epoch 87/100\n",
      "375/375 [==============================] - 2s 6ms/step - loss: 0.1200 - accuracy: 0.9567 - val_loss: 0.3847 - val_accuracy: 0.9189\n",
      "Epoch 88/100\n",
      "375/375 [==============================] - 2s 6ms/step - loss: 0.1202 - accuracy: 0.9560 - val_loss: 0.4160 - val_accuracy: 0.9145\n",
      "Epoch 89/100\n",
      "375/375 [==============================] - 2s 6ms/step - loss: 0.1204 - accuracy: 0.9579 - val_loss: 0.4650 - val_accuracy: 0.9131\n",
      "Epoch 90/100\n",
      "375/375 [==============================] - 2s 6ms/step - loss: 0.1206 - accuracy: 0.9571 - val_loss: 0.3208 - val_accuracy: 0.9148\n",
      "Epoch 91/100\n",
      "375/375 [==============================] - 2s 6ms/step - loss: 0.1192 - accuracy: 0.9572 - val_loss: 0.3050 - val_accuracy: 0.9170\n",
      "Epoch 92/100\n",
      "375/375 [==============================] - 2s 6ms/step - loss: 0.1198 - accuracy: 0.9577 - val_loss: 0.3086 - val_accuracy: 0.9176\n",
      "Epoch 93/100\n",
      "375/375 [==============================] - 2s 6ms/step - loss: 0.1194 - accuracy: 0.9585 - val_loss: 0.3783 - val_accuracy: 0.9208\n",
      "Epoch 94/100\n",
      "375/375 [==============================] - 2s 6ms/step - loss: 0.1205 - accuracy: 0.9582 - val_loss: 0.3442 - val_accuracy: 0.9158\n",
      "Epoch 95/100\n",
      "375/375 [==============================] - 2s 6ms/step - loss: 0.1177 - accuracy: 0.9590 - val_loss: 0.3480 - val_accuracy: 0.9111\n",
      "Epoch 96/100\n",
      "375/375 [==============================] - 2s 6ms/step - loss: 0.1202 - accuracy: 0.9571 - val_loss: 0.3244 - val_accuracy: 0.9106\n",
      "Epoch 97/100\n",
      "375/375 [==============================] - 2s 6ms/step - loss: 0.1195 - accuracy: 0.9579 - val_loss: 0.3969 - val_accuracy: 0.9160\n",
      "Epoch 98/100\n",
      "375/375 [==============================] - 2s 6ms/step - loss: 0.1195 - accuracy: 0.9581 - val_loss: 0.3440 - val_accuracy: 0.9169\n",
      "Epoch 99/100\n",
      "375/375 [==============================] - 2s 6ms/step - loss: 0.1201 - accuracy: 0.9583 - val_loss: 0.3612 - val_accuracy: 0.9172\n",
      "Epoch 100/100\n",
      "375/375 [==============================] - 2s 6ms/step - loss: 0.1207 - accuracy: 0.9576 - val_loss: 0.3180 - val_accuracy: 0.9133\n",
      "CPU times: user 3min 44s, sys: 17.1 s, total: 4min 1s\n",
      "Wall time: 3min 46s\n"
     ]
    }
   ],
   "source": [
    "%%time\n",
    "\n",
    "Hist_mnist = model.fit(X_train, y_train,\n",
    "                       epochs = 100,\n",
    "                       batch_size = 128,\n",
    "                       validation_data = (X_valid, y_valid))"
   ]
  },
  {
   "cell_type": "markdown",
   "metadata": {
    "id": "FnnIyFtNKhbD"
   },
   "source": [
    "> ## 4) 학습 결과 시각화"
   ]
  },
  {
   "cell_type": "code",
   "execution_count": 14,
   "metadata": {
    "colab": {
     "base_uri": "https://localhost:8080/",
     "height": 0
    },
    "executionInfo": {
     "elapsed": 15,
     "status": "ok",
     "timestamp": 1674025295687,
     "user": {
      "displayName": "이정구",
      "userId": "10412141110999311561"
     },
     "user_tz": -540
    },
    "id": "OQ4ke8BbKi50",
    "outputId": "f08be67b-ff5d-404b-820e-dcb9b4e2e0df"
   },
   "outputs": [
    {
     "data": {
      "image/png": "[encoded data removed]",
      "text/plain": [
       "<Figure size 1080x360 with 2 Axes>"
      ]
     },
     "metadata": {
      "needs_background": "light"
     },
     "output_type": "display_data"
    }
   ],
   "source": [
    "import matplotlib.pyplot as plt\n",
    "\n",
    "epochs = range(1, len(Hist_mnist.history['loss']) + 1)\n",
    "\n",
    "plt.figure(figsize = (15, 5))\n",
    "\n",
    "plt.subplot(1, 2, 1)\n",
    "plt.plot(epochs, Hist_mnist.history['loss'], 'b-')\n",
    "plt.plot(epochs, Hist_mnist.history['val_loss'], 'r--')\n",
    "plt.title('Training & Validation Loss')\n",
    "plt.xlabel('Epochs')\n",
    "plt.ylabel('Loss')\n",
    "plt.legend(['Training Loss', 'Validation Loss'])\n",
    "plt.grid()\n",
    "\n",
    "plt.subplot(1, 2, 2)\n",
    "plt.plot(epochs, Hist_mnist.history['accuracy'], 'b-')\n",
    "plt.plot(epochs, Hist_mnist.history['val_accuracy'], 'r--')\n",
    "plt.title('Training & Validation Accuracy')\n",
    "plt.xlabel('Epochs')\n",
    "plt.ylabel('Accuracy')\n",
    "plt.legend(['Training Accuracy', 'Validation Accuracy'])\n",
    "plt.grid()\n",
    "\n",
    "plt.show()"
   ]
  },
  {
   "cell_type": "markdown",
   "metadata": {
    "id": "_uJSOLBko7lh"
   },
   "source": [
    "> ## 5) Model Evaluate"
   ]
  },
  {
   "cell_type": "markdown",
   "metadata": {
    "id": "i-TqAB2ALGzZ"
   },
   "source": [
    "* Loss & Accuracy"
   ]
  },
  {
   "cell_type": "code",
   "execution_count": 15,
   "metadata": {
    "colab": {
     "base_uri": "https://localhost:8080/"
    },
    "executionInfo": {
     "elapsed": 628,
     "status": "ok",
     "timestamp": 1674025296303,
     "user": {
      "displayName": "이정구",
      "userId": "10412141110999311561"
     },
     "user_tz": -540
    },
    "id": "OF30PuZsAxQJ",
    "outputId": "6fe6a9ac-5a10-4672-d796-b17a1a75c25d"
   },
   "outputs": [
    {
     "name": "stdout",
     "output_type": "stream",
     "text": [
      "313/313 [==============================] - 1s 3ms/step - loss: 0.3477 - accuracy: 0.9101\n",
      "Loss = 0.34772\n",
      "Accuracy = 0.91010\n"
     ]
    }
   ],
   "source": [
    "loss, accuracy = model.evaluate(X_test, y_test)\n",
    "\n",
    "print('Loss = {:.5f}'.format(loss))\n",
    "print('Accuracy = {:.5f}'.format(accuracy))"
   ]
  },
  {
   "cell_type": "markdown",
   "metadata": {
    "id": "sN48I9GrLxOX"
   },
   "source": [
    "# \n",
    "# \n",
    "# \n",
    "# The End\n",
    "# \n",
    "# \n",
    "# "
   ]
  }
 ],
 "metadata": {
  "accelerator": "GPU",
  "colab": {
   "provenance": []
  },
  "kernelspec": {
   "display_name": "Python 3 (ipykernel)",
   "language": "python",
   "name": "python3"
  },
  "language_info": {
   "codemirror_mode": {
    "name": "ipython",
    "version": 3
   },
   "file_extension": ".py",
   "mimetype": "text/x-python",
   "name": "python",
   "nbconvert_exporter": "python",
   "pygments_lexer": "ipython3",
   "version": "3.10.8"
  },
  "toc": {
   "base_numbering": 1,
   "nav_menu": {},
   "number_sections": true,
   "sideBar": true,
   "skip_h1_title": false,
   "title_cell": "Table of Contents",
   "title_sidebar": "Contents",
   "toc_cell": false,
   "toc_position": {},
   "toc_section_display": true,
   "toc_window_display": false
  }
 },
 "nbformat": 4,
 "nbformat_minor": 1
}
