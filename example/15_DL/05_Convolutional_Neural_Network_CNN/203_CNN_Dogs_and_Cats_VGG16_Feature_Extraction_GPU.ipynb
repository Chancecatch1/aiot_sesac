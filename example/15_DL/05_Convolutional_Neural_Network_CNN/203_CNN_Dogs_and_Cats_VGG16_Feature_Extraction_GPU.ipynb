{
 "cells": [
  {
   "cell_type": "markdown",
   "metadata": {
    "id": "q2Pr7oBdYLdf"
   },
   "source": [
    "# 사전 학습된 CNN(VGG-16)을 이용한 Feature Extraction\n",
    "## VGG-16 Model\n",
    "* University of Oxford - Visual Geometry Group\n",
    "* 2014 ILSVRC 2nd Model\n",
    "* ImageNet Large Scale Visual Recognition Challenge (ILSVRC)\n"
   ]
  },
  {
   "cell_type": "code",
   "execution_count": 1,
   "metadata": {
    "executionInfo": {
     "elapsed": 11,
     "status": "ok",
     "timestamp": 1674697184626,
     "user": {
      "displayName": "이정구",
      "userId": "17400242557229223804"
     },
     "user_tz": -540
    },
    "id": "RbPgODpVzdHI"
   },
   "outputs": [],
   "source": [
    "import warnings\n",
    "warnings.filterwarnings('ignore')"
   ]
  },
  {
   "cell_type": "markdown",
   "metadata": {
    "id": "yI8cuQkfxyfb"
   },
   "source": [
    "* Import TensorFlow"
   ]
  },
  {
   "cell_type": "code",
   "execution_count": 2,
   "metadata": {
    "colab": {
     "base_uri": "https://localhost:8080/",
     "height": 35
    },
    "executionInfo": {
     "elapsed": 3479,
     "status": "ok",
     "timestamp": 1674697188096,
     "user": {
      "displayName": "이정구",
      "userId": "17400242557229223804"
     },
     "user_tz": -540
    },
    "id": "b0whlIaSx2Yq",
    "outputId": "3e1f2fcc-5c45-48a9-e97c-a1821dadf04c"
   },
   "outputs": [
    {
     "data": {
      "text/plain": [
       "'2.10.0'"
      ]
     },
     "execution_count": 2,
     "metadata": {},
     "output_type": "execute_result"
    }
   ],
   "source": [
    "import tensorflow as tf\n",
    "\n",
    "tf.__version__"
   ]
  },
  {
   "cell_type": "markdown",
   "metadata": {
    "id": "6d1FeKK1CgqG"
   },
   "source": [
    "# I. wget From Github\n",
    "* 'dogs_and_cats_small.zip' 파일 다운로드"
   ]
  },
  {
   "cell_type": "code",
   "execution_count": 3,
   "metadata": {
    "colab": {
     "base_uri": "https://localhost:8080/"
    },
    "executionInfo": {
     "elapsed": 6583,
     "status": "ok",
     "timestamp": 1674697194655,
     "user": {
      "displayName": "이정구",
      "userId": "17400242557229223804"
     },
     "user_tz": -540
    },
    "id": "f32hYtuOh4F4",
    "outputId": "6d6ae59d-b4f2-4568-f6af-42f244e9c4c6"
   },
   "outputs": [
    {
     "name": "stdout",
     "output_type": "stream",
     "text": [
      "--2023-01-26 01:39:47--  https://raw.githubusercontent.com/rusita-ai/pyData/master/dogs_and_cats_small.zip\n",
      "Resolving raw.githubusercontent.com (raw.githubusercontent.com)... 185.199.108.133, 185.199.109.133, 185.199.110.133, ...\n",
      "Connecting to raw.githubusercontent.com (raw.githubusercontent.com)|185.199.108.133|:443... connected.\n",
      "HTTP request sent, awaiting response... 200 OK\n",
      "Length: 90618980 (86M) [application/zip]\n",
      "Saving to: ‘dogs_and_cats_small.zip’\n",
      "\n",
      "dogs_and_cats_small 100%[===================>]  86.42M   190MB/s    in 0.5s    \n",
      "\n",
      "2023-01-26 01:39:54 (190 MB/s) - ‘dogs_and_cats_small.zip’ saved [90618980/90618980]\n",
      "\n"
     ]
    }
   ],
   "source": [
    "# !wget https://raw.githubusercontent.com/rusita-ai/pyData/master/dogs_and_cats_small.zip"
   ]
  },
  {
   "cell_type": "markdown",
   "metadata": {
    "id": "O0njEDt2CgqJ"
   },
   "source": [
    "* 다운로드 결과 확인"
   ]
  },
  {
   "cell_type": "code",
   "execution_count": 4,
   "metadata": {
    "colab": {
     "base_uri": "https://localhost:8080/"
    },
    "executionInfo": {
     "elapsed": 11,
     "status": "ok",
     "timestamp": 1674697194655,
     "user": {
      "displayName": "이정구",
      "userId": "17400242557229223804"
     },
     "user_tz": -540
    },
    "id": "A9XdvsnVCgqK",
    "outputId": "a509eda0-049b-4b99-8ca0-8a7c330e6c8f"
   },
   "outputs": [
    {
     "name": "stdout",
     "output_type": "stream",
     "text": [
      "total 88500\n",
      "-rw-r--r-- 1 root root 90618980 Jan 26 01:39 dogs_and_cats_small.zip\n",
      "drwxr-xr-x 1 root root     4096 Jan 24 14:38 sample_data\n"
     ]
    }
   ],
   "source": [
    "# !ls -l "
   ]
  },
  {
   "cell_type": "markdown",
   "metadata": {
    "id": "b6fdvGr3wPmT"
   },
   "source": [
    "# II. Data Preprocessing"
   ]
  },
  {
   "cell_type": "markdown",
   "metadata": {
    "id": "D9zdBsGKnLUo"
   },
   "source": [
    "> ## 1) Unzip 'dogs_and_cats_small.zip'"
   ]
  },
  {
   "cell_type": "code",
   "execution_count": 5,
   "metadata": {
    "executionInfo": {
     "elapsed": 2232,
     "status": "ok",
     "timestamp": 1674697196882,
     "user": {
      "displayName": "이정구",
      "userId": "17400242557229223804"
     },
     "user_tz": -540
    },
    "id": "WkuHaDXcnUtY"
   },
   "outputs": [],
   "source": [
    "# !unzip -q /content/dogs_and_cats_small.zip"
   ]
  },
  {
   "cell_type": "markdown",
   "metadata": {
    "id": "nYRGJ9bpp4pF"
   },
   "source": [
    "* 학습 데이터 확인"
   ]
  },
  {
   "cell_type": "code",
   "execution_count": 6,
   "metadata": {
    "colab": {
     "base_uri": "https://localhost:8080/"
    },
    "executionInfo": {
     "elapsed": 552,
     "status": "ok",
     "timestamp": 1674697197432,
     "user": {
      "displayName": "이정구",
      "userId": "17400242557229223804"
     },
     "user_tz": -540
    },
    "id": "wJxlpex8Ifo-",
    "outputId": "ef4315fd-1ec8-4e65-de8f-f74c1a611b0f"
   },
   "outputs": [
    {
     "name": "stdout",
     "output_type": "stream",
     "text": [
      "total 88512\n",
      "-rw-r--r-- 1 root root 90618980 Jan 26 01:39 dogs_and_cats_small.zip\n",
      "drwxr-xr-x 1 root root     4096 Jan 24 14:38 sample_data\n",
      "drwxr-xr-x 4 root root     4096 Jan 26 01:39 test\n",
      "drwxr-xr-x 4 root root     4096 Jan 26 01:39 train\n",
      "drwxr-xr-x 4 root root     4096 Jan 26 01:39 validation\n"
     ]
    }
   ],
   "source": [
    "# !ls -l"
   ]
  },
  {
   "cell_type": "markdown",
   "metadata": {
    "id": "1DyFdyVxFyHK"
   },
   "source": [
    "> ## 2) Image_File Directory Setting"
   ]
  },
  {
   "cell_type": "markdown",
   "metadata": {
    "id": "fwUMpMCYGB7Z"
   },
   "source": [
    "* train_dir\n",
    "* valid_dir\n",
    "* test_dir"
   ]
  },
  {
   "cell_type": "code",
   "execution_count": 3,
   "metadata": {
    "executionInfo": {
     "elapsed": 4,
     "status": "ok",
     "timestamp": 1674697197432,
     "user": {
      "displayName": "이정구",
      "userId": "17400242557229223804"
     },
     "user_tz": -540
    },
    "id": "DxstjE8b_6Te"
   },
   "outputs": [],
   "source": [
    "train_dir = './../../../secret/example_data/15_DL/dogs_and_cats_small/train'\n",
    "valid_dir = './../../../secret/example_data/15_DL/dogs_and_cats_small/validation'\n",
    "test_dir = './../../../secret/example_data/15_DL/dogs_and_cats_small/test'"
   ]
  },
  {
   "cell_type": "markdown",
   "metadata": {
    "id": "wBAWLCWdGNde"
   },
   "source": [
    "# III. Import VGG-16 Model"
   ]
  },
  {
   "cell_type": "markdown",
   "metadata": {
    "id": "tpdqyBb2Gsdj"
   },
   "source": [
    "> ## 1) conv_base"
   ]
  },
  {
   "cell_type": "code",
   "execution_count": 4,
   "metadata": {
    "colab": {
     "base_uri": "https://localhost:8080/"
    },
    "executionInfo": {
     "elapsed": 10131,
     "status": "ok",
     "timestamp": 1674697207559,
     "user": {
      "displayName": "이정구",
      "userId": "17400242557229223804"
     },
     "user_tz": -540
    },
    "id": "Zgv7VdbFGTGK",
    "outputId": "8e059b76-cce8-48c7-c85a-613d547544d2"
   },
   "outputs": [
    {
     "name": "stdout",
     "output_type": "stream",
     "text": [
      "Downloading data from https://storage.googleapis.com/tensorflow/keras-applications/vgg16/vgg16_weights_tf_dim_ordering_tf_kernels_notop.h5\n",
      "58889256/58889256 [==============================] - 1s 0us/step\n"
     ]
    }
   ],
   "source": [
    "from tensorflow.keras.applications import VGG16\n",
    "\n",
    "conv_base = VGG16(weights = 'imagenet', # 이미지넷 데이터를 학습한 가중치\n",
    "                  include_top = False, # 네트워크 상단에 FC layer 포함 여부 (출력을 위한 DNN레이어)\n",
    "                  input_shape = (150, 150, 3)) # VGG모델의 기본 입력크기는 224x224"
   ]
  },
  {
   "cell_type": "markdown",
   "metadata": {
    "id": "d8isG6d-G2bf"
   },
   "source": [
    "> ## 2) Model Information"
   ]
  },
  {
   "cell_type": "code",
   "execution_count": 5,
   "metadata": {
    "colab": {
     "base_uri": "https://localhost:8080/"
    },
    "executionInfo": {
     "elapsed": 22,
     "status": "ok",
     "timestamp": 1674697207559,
     "user": {
      "displayName": "이정구",
      "userId": "17400242557229223804"
     },
     "user_tz": -540
    },
    "id": "rEBl55fNGnvN",
    "outputId": "f3dc5dc7-0efb-4e80-f7dd-02ea35267551"
   },
   "outputs": [
    {
     "name": "stdout",
     "output_type": "stream",
     "text": [
      "Model: \"vgg16\"\n",
      "_________________________________________________________________\n",
      " Layer (type)                Output Shape              Param #   \n",
      "=================================================================\n",
      " input_1 (InputLayer)        [(None, 150, 150, 3)]     0         \n",
      "                                                                 \n",
      " block1_conv1 (Conv2D)       (None, 150, 150, 64)      1792      \n",
      "                                                                 \n",
      " block1_conv2 (Conv2D)       (None, 150, 150, 64)      36928     \n",
      "                                                                 \n",
      " block1_pool (MaxPooling2D)  (None, 75, 75, 64)        0         \n",
      "                                                                 \n",
      " block2_conv1 (Conv2D)       (None, 75, 75, 128)       73856     \n",
      "                                                                 \n",
      " block2_conv2 (Conv2D)       (None, 75, 75, 128)       147584    \n",
      "                                                                 \n",
      " block2_pool (MaxPooling2D)  (None, 37, 37, 128)       0         \n",
      "                                                                 \n",
      " block3_conv1 (Conv2D)       (None, 37, 37, 256)       295168    \n",
      "                                                                 \n",
      " block3_conv2 (Conv2D)       (None, 37, 37, 256)       590080    \n",
      "                                                                 \n",
      " block3_conv3 (Conv2D)       (None, 37, 37, 256)       590080    \n",
      "                                                                 \n",
      " block3_pool (MaxPooling2D)  (None, 18, 18, 256)       0         \n",
      "                                                                 \n",
      " block4_conv1 (Conv2D)       (None, 18, 18, 512)       1180160   \n",
      "                                                                 \n",
      " block4_conv2 (Conv2D)       (None, 18, 18, 512)       2359808   \n",
      "                                                                 \n",
      " block4_conv3 (Conv2D)       (None, 18, 18, 512)       2359808   \n",
      "                                                                 \n",
      " block4_pool (MaxPooling2D)  (None, 9, 9, 512)         0         \n",
      "                                                                 \n",
      " block5_conv1 (Conv2D)       (None, 9, 9, 512)         2359808   \n",
      "                                                                 \n",
      " block5_conv2 (Conv2D)       (None, 9, 9, 512)         2359808   \n",
      "                                                                 \n",
      " block5_conv3 (Conv2D)       (None, 9, 9, 512)         2359808   \n",
      "                                                                 \n",
      " block5_pool (MaxPooling2D)  (None, 4, 4, 512)         0         \n",
      "                                                                 \n",
      "=================================================================\n",
      "Total params: 14,714,688\n",
      "Trainable params: 14,714,688\n",
      "Non-trainable params: 0\n",
      "_________________________________________________________________\n"
     ]
    }
   ],
   "source": [
    "# 깊은 합성곱층을 만들기 위해 output shape를 padding을 통해 유지한다.\n",
    "# filter를 여러번 거칠 수록 피처맵이 이미지의 전체영역의 특징이 포함된다.\n",
    "conv_base.summary()"
   ]
  },
  {
   "cell_type": "markdown",
   "metadata": {
    "id": "wxseOi-kGie4"
   },
   "source": [
    "# IV. Feature Extraction"
   ]
  },
  {
   "cell_type": "markdown",
   "metadata": {
    "id": "3-3WoeNMexW9"
   },
   "source": [
    "> ## 1) 특징추출 함수 정의 : extract_feature( )\n",
    "* conv_base.predict( )"
   ]
  },
  {
   "cell_type": "code",
   "execution_count": 7,
   "metadata": {
    "executionInfo": {
     "elapsed": 8,
     "status": "ok",
     "timestamp": 1674697207561,
     "user": {
      "displayName": "이정구",
      "userId": "17400242557229223804"
     },
     "user_tz": -540
    },
    "id": "BXgfjbXvHJsg"
   },
   "outputs": [],
   "source": [
    "from tensorflow.keras.preprocessing.image import ImageDataGenerator\n",
    "import numpy as np\n",
    "\n",
    "datagen = ImageDataGenerator(rescale = 1./255)\n",
    "\n",
    "batch_size = 20\n",
    "\n",
    "def extract_features(directory, sample_count):\n",
    "    features = np.zeros(shape = (sample_count, 4, 4, 512)) # conv_base의 마지막 레이어 output shape에 맞춤\n",
    "    labels = np.zeros(shape = (sample_count))\n",
    "    \n",
    "    generator = datagen.flow_from_directory(directory,\n",
    "                                            target_size = (150, 150),\n",
    "                                            batch_size = batch_size,\n",
    "                                            class_mode = 'binary')\n",
    "    \n",
    "    # conv_base를 통해 특징 추출\n",
    "    i = 0\n",
    "    for inputs_batch, labels_batch in generator: \n",
    "        features_batch = conv_base.predict(inputs_batch, verbose = 0)\n",
    "        features[i * batch_size : (i + 1) * batch_size] = features_batch\n",
    "        labels[i * batch_size : (i + 1) * batch_size] = labels_batch\n",
    "        i += 1\n",
    "        if i * batch_size >= sample_count:\n",
    "            break\n",
    "    return features, labels"
   ]
  },
  {
   "cell_type": "markdown",
   "metadata": {
    "id": "biPstCPhHwzB"
   },
   "source": [
    "> ## 2) 특징추출 함수 적용\n",
    "* train_dir\n",
    "* valid_dir\n",
    "* test_dir"
   ]
  },
  {
   "cell_type": "markdown",
   "metadata": {
    "id": "tlD3qIrrynRr"
   },
   "source": [
    "* 약 1분"
   ]
  },
  {
   "cell_type": "code",
   "execution_count": 8,
   "metadata": {
    "colab": {
     "base_uri": "https://localhost:8080/"
    },
    "executionInfo": {
     "elapsed": 40128,
     "status": "ok",
     "timestamp": 1674697247682,
     "user": {
      "displayName": "이정구",
      "userId": "17400242557229223804"
     },
     "user_tz": -540
    },
    "id": "nOL8HkdJH1jL",
    "outputId": "5cbdd0f8-3abc-4b87-b121-674fd3b2020d"
   },
   "outputs": [
    {
     "name": "stdout",
     "output_type": "stream",
     "text": [
      "Found 2000 images belonging to 2 classes.\n",
      "Found 1000 images belonging to 2 classes.\n",
      "Found 1000 images belonging to 2 classes.\n"
     ]
    }
   ],
   "source": [
    "# %%time\n",
    "\n",
    "train_features, train_labels = extract_features(train_dir, 2000)\n",
    "valid_features, valid_labels = extract_features(valid_dir, 1000)\n",
    "test_features, test_labels = extract_features(test_dir, 1000)"
   ]
  },
  {
   "cell_type": "code",
   "execution_count": 9,
   "metadata": {
    "colab": {
     "base_uri": "https://localhost:8080/"
    },
    "executionInfo": {
     "elapsed": 22,
     "status": "ok",
     "timestamp": 1674697247682,
     "user": {
      "displayName": "이정구",
      "userId": "17400242557229223804"
     },
     "user_tz": -540
    },
    "id": "Z8bYAgWWKFSD",
    "outputId": "b53c5cbc-0dfa-47a5-a933-ae471f2c5f38"
   },
   "outputs": [
    {
     "data": {
      "text/plain": [
       "((2000, 4, 4, 512), (1000, 4, 4, 512), (1000, 4, 4, 512))"
      ]
     },
     "execution_count": 9,
     "metadata": {},
     "output_type": "execute_result"
    }
   ],
   "source": [
    "train_features.shape, valid_features.shape, test_features.shape"
   ]
  },
  {
   "cell_type": "markdown",
   "metadata": {
    "id": "cqlBfhp8JwGX"
   },
   "source": [
    "> ## 3) Reshape Features\n",
    "* For 'Classification' Network"
   ]
  },
  {
   "cell_type": "code",
   "execution_count": 14,
   "metadata": {
    "colab": {
     "base_uri": "https://localhost:8080/"
    },
    "executionInfo": {
     "elapsed": 20,
     "status": "ok",
     "timestamp": 1674697247683,
     "user": {
      "displayName": "이정구",
      "userId": "17400242557229223804"
     },
     "user_tz": -540
    },
    "id": "xLFrT4duJ5Xu",
    "outputId": "28196362-01d9-4b34-f3a3-7c32972f9504"
   },
   "outputs": [
    {
     "data": {
      "text/plain": [
       "((2000, 8192), (1000, 8192), (1000, 8192))"
      ]
     },
     "execution_count": 14,
     "metadata": {},
     "output_type": "execute_result"
    }
   ],
   "source": [
    "# Fully Connected를 위해 1차원으로 flatten\n",
    "train_features = np.reshape(train_features, (2000, 4 * 4 * 512))\n",
    "valid_features = np.reshape(valid_features, (1000, 4 * 4 * 512))\n",
    "test_features = np.reshape(test_features, (1000, 4 * 4 * 512))\n",
    "\n",
    "train_features.shape, valid_features.shape, test_features.shape"
   ]
  },
  {
   "cell_type": "markdown",
   "metadata": {
    "id": "NTwZiSjiop3v"
   },
   "source": [
    "# V. Keras DNN Modeling with VGG-16 Featured Data"
   ]
  },
  {
   "cell_type": "markdown",
   "metadata": {
    "id": "j5CT0TurJCkc"
   },
   "source": [
    "> ## 1) Model Define"
   ]
  },
  {
   "cell_type": "markdown",
   "metadata": {
    "id": "ydDCl0jTJD58"
   },
   "source": [
    "* 'Classification' Network Only\n",
    "* Dropout Layer"
   ]
  },
  {
   "cell_type": "code",
   "execution_count": 15,
   "metadata": {
    "executionInfo": {
     "elapsed": 18,
     "status": "ok",
     "timestamp": 1674697247683,
     "user": {
      "displayName": "이정구",
      "userId": "17400242557229223804"
     },
     "user_tz": -540
    },
    "id": "II0DskRdAcHS"
   },
   "outputs": [],
   "source": [
    "# 커스텀 FC DNN 생성\n",
    "from tensorflow.keras import models, layers\n",
    "\n",
    "model = models.Sequential()\n",
    "model.add(layers.Dense(256, activation = 'relu', input_dim = 4 * 4 * 512))\n",
    "model.add(layers.Dropout(0.5))\n",
    "model.add(layers.Dense(1, activation = 'sigmoid'))"
   ]
  },
  {
   "cell_type": "code",
   "execution_count": 16,
   "metadata": {
    "colab": {
     "base_uri": "https://localhost:8080/"
    },
    "executionInfo": {
     "elapsed": 18,
     "status": "ok",
     "timestamp": 1674697247683,
     "user": {
      "displayName": "이정구",
      "userId": "17400242557229223804"
     },
     "user_tz": -540
    },
    "id": "wbtjOA4XMTUd",
    "outputId": "ab5756a5-88e3-4af2-fbe3-0b921357d5e3"
   },
   "outputs": [
    {
     "name": "stdout",
     "output_type": "stream",
     "text": [
      "Model: \"sequential_1\"\n",
      "_________________________________________________________________\n",
      " Layer (type)                Output Shape              Param #   \n",
      "=================================================================\n",
      " dense_2 (Dense)             (None, 256)               2097408   \n",
      "                                                                 \n",
      " dropout_1 (Dropout)         (None, 256)               0         \n",
      "                                                                 \n",
      " dense_3 (Dense)             (None, 1)                 257       \n",
      "                                                                 \n",
      "=================================================================\n",
      "Total params: 2,097,665\n",
      "Trainable params: 2,097,665\n",
      "Non-trainable params: 0\n",
      "_________________________________________________________________\n"
     ]
    }
   ],
   "source": [
    "model.summary()"
   ]
  },
  {
   "cell_type": "markdown",
   "metadata": {
    "id": "tpjBDBeYoyuj"
   },
   "source": [
    "> ## 2) Model Compile"
   ]
  },
  {
   "cell_type": "markdown",
   "metadata": {
    "id": "f3sxkQa0JoUr"
   },
   "source": [
    "* 모델 학습방법 설정"
   ]
  },
  {
   "cell_type": "code",
   "execution_count": 17,
   "metadata": {
    "executionInfo": {
     "elapsed": 14,
     "status": "ok",
     "timestamp": 1674697247683,
     "user": {
      "displayName": "이정구",
      "userId": "17400242557229223804"
     },
     "user_tz": -540
    },
    "id": "AyK_t1qwAi6M"
   },
   "outputs": [],
   "source": [
    "model.compile(loss = 'binary_crossentropy',\n",
    "              optimizer = 'adam',\n",
    "              metrics = ['accuracy'])"
   ]
  },
  {
   "cell_type": "markdown",
   "metadata": {
    "id": "umiq4B-Xo3OB"
   },
   "source": [
    "> ## 3) Model Fit"
   ]
  },
  {
   "cell_type": "markdown",
   "metadata": {
    "id": "1KuXREziKMD1"
   },
   "source": [
    "* 약 2분"
   ]
  },
  {
   "cell_type": "code",
   "execution_count": 18,
   "metadata": {
    "colab": {
     "base_uri": "https://localhost:8080/"
    },
    "executionInfo": {
     "elapsed": 41713,
     "status": "ok",
     "timestamp": 1674697289382,
     "user": {
      "displayName": "이정구",
      "userId": "17400242557229223804"
     },
     "user_tz": -540
    },
    "id": "zxwqwAqRAqRP",
    "outputId": "b2ce241d-9f5b-4707-da71-c2087a5b2d3a"
   },
   "outputs": [
    {
     "name": "stdout",
     "output_type": "stream",
     "text": [
      "Epoch 1/100\n",
      "100/100 [==============================] - 0s 3ms/step - loss: 0.4526 - accuracy: 0.8025 - val_loss: 0.2701 - val_accuracy: 0.8960\n",
      "Epoch 2/100\n",
      "100/100 [==============================] - 0s 2ms/step - loss: 0.2399 - accuracy: 0.8940 - val_loss: 0.2601 - val_accuracy: 0.8920\n",
      "Epoch 3/100\n",
      "100/100 [==============================] - 0s 2ms/step - loss: 0.1987 - accuracy: 0.9150 - val_loss: 0.2340 - val_accuracy: 0.9000\n",
      "Epoch 4/100\n",
      "100/100 [==============================] - 0s 2ms/step - loss: 0.1692 - accuracy: 0.9370 - val_loss: 0.2411 - val_accuracy: 0.9020\n",
      "Epoch 5/100\n",
      "100/100 [==============================] - 0s 2ms/step - loss: 0.1548 - accuracy: 0.9390 - val_loss: 0.2402 - val_accuracy: 0.9020\n",
      "Epoch 6/100\n",
      "100/100 [==============================] - 0s 2ms/step - loss: 0.1248 - accuracy: 0.9495 - val_loss: 0.2847 - val_accuracy: 0.8970\n",
      "Epoch 7/100\n",
      "100/100 [==============================] - 0s 2ms/step - loss: 0.0979 - accuracy: 0.9615 - val_loss: 0.3213 - val_accuracy: 0.8800\n",
      "Epoch 8/100\n",
      "100/100 [==============================] - 0s 2ms/step - loss: 0.1073 - accuracy: 0.9610 - val_loss: 0.2656 - val_accuracy: 0.9000\n",
      "Epoch 9/100\n",
      "100/100 [==============================] - 0s 2ms/step - loss: 0.0601 - accuracy: 0.9800 - val_loss: 0.2682 - val_accuracy: 0.9010\n",
      "Epoch 10/100\n",
      "100/100 [==============================] - 0s 2ms/step - loss: 0.0597 - accuracy: 0.9795 - val_loss: 0.3070 - val_accuracy: 0.9000\n",
      "Epoch 11/100\n",
      "100/100 [==============================] - 0s 2ms/step - loss: 0.0553 - accuracy: 0.9825 - val_loss: 0.2862 - val_accuracy: 0.9010\n",
      "Epoch 12/100\n",
      "100/100 [==============================] - 0s 2ms/step - loss: 0.0372 - accuracy: 0.9890 - val_loss: 0.3682 - val_accuracy: 0.9010\n",
      "Epoch 13/100\n",
      "100/100 [==============================] - 0s 2ms/step - loss: 0.0588 - accuracy: 0.9760 - val_loss: 0.3963 - val_accuracy: 0.8750\n",
      "Epoch 14/100\n",
      "100/100 [==============================] - 0s 2ms/step - loss: 0.0526 - accuracy: 0.9810 - val_loss: 0.3563 - val_accuracy: 0.8930\n",
      "Epoch 15/100\n",
      "100/100 [==============================] - 0s 2ms/step - loss: 0.0338 - accuracy: 0.9875 - val_loss: 0.3446 - val_accuracy: 0.9040\n",
      "Epoch 16/100\n",
      "100/100 [==============================] - 0s 2ms/step - loss: 0.0287 - accuracy: 0.9905 - val_loss: 0.3471 - val_accuracy: 0.9120\n",
      "Epoch 17/100\n",
      "100/100 [==============================] - 0s 2ms/step - loss: 0.0151 - accuracy: 0.9965 - val_loss: 0.4497 - val_accuracy: 0.8960\n",
      "Epoch 18/100\n",
      "100/100 [==============================] - 0s 2ms/step - loss: 0.0244 - accuracy: 0.9900 - val_loss: 0.3685 - val_accuracy: 0.9070\n",
      "Epoch 19/100\n",
      "100/100 [==============================] - 0s 2ms/step - loss: 0.0227 - accuracy: 0.9910 - val_loss: 0.4522 - val_accuracy: 0.8820\n",
      "Epoch 20/100\n",
      "100/100 [==============================] - 0s 2ms/step - loss: 0.0181 - accuracy: 0.9945 - val_loss: 0.4422 - val_accuracy: 0.8910\n",
      "Epoch 21/100\n",
      "100/100 [==============================] - 0s 2ms/step - loss: 0.0226 - accuracy: 0.9920 - val_loss: 0.3680 - val_accuracy: 0.9050\n",
      "Epoch 22/100\n",
      "100/100 [==============================] - 0s 2ms/step - loss: 0.0346 - accuracy: 0.9850 - val_loss: 0.4195 - val_accuracy: 0.8970\n",
      "Epoch 23/100\n",
      "100/100 [==============================] - 0s 2ms/step - loss: 0.0198 - accuracy: 0.9940 - val_loss: 0.3821 - val_accuracy: 0.9110\n",
      "Epoch 24/100\n",
      "100/100 [==============================] - 0s 2ms/step - loss: 0.0199 - accuracy: 0.9960 - val_loss: 0.4393 - val_accuracy: 0.9030\n",
      "Epoch 25/100\n",
      "100/100 [==============================] - 0s 2ms/step - loss: 0.0139 - accuracy: 0.9945 - val_loss: 0.4286 - val_accuracy: 0.9030\n",
      "Epoch 26/100\n",
      "100/100 [==============================] - 0s 2ms/step - loss: 0.0491 - accuracy: 0.9825 - val_loss: 0.8905 - val_accuracy: 0.8510\n",
      "Epoch 27/100\n",
      "100/100 [==============================] - 0s 2ms/step - loss: 0.0683 - accuracy: 0.9755 - val_loss: 0.3950 - val_accuracy: 0.8930\n",
      "Epoch 28/100\n",
      "100/100 [==============================] - 0s 2ms/step - loss: 0.0279 - accuracy: 0.9880 - val_loss: 0.4131 - val_accuracy: 0.8970\n",
      "Epoch 29/100\n",
      "100/100 [==============================] - 0s 2ms/step - loss: 0.0240 - accuracy: 0.9930 - val_loss: 0.3790 - val_accuracy: 0.9050\n",
      "Epoch 30/100\n",
      "100/100 [==============================] - 0s 2ms/step - loss: 0.0636 - accuracy: 0.9780 - val_loss: 0.3559 - val_accuracy: 0.8990\n",
      "Epoch 31/100\n",
      "100/100 [==============================] - 0s 2ms/step - loss: 0.0301 - accuracy: 0.9890 - val_loss: 0.3939 - val_accuracy: 0.9060\n",
      "Epoch 32/100\n",
      "100/100 [==============================] - 0s 2ms/step - loss: 0.0337 - accuracy: 0.9875 - val_loss: 0.3944 - val_accuracy: 0.9040\n",
      "Epoch 33/100\n",
      "100/100 [==============================] - 0s 2ms/step - loss: 0.0237 - accuracy: 0.9910 - val_loss: 0.4297 - val_accuracy: 0.8990\n",
      "Epoch 34/100\n",
      "100/100 [==============================] - 0s 2ms/step - loss: 0.0211 - accuracy: 0.9935 - val_loss: 0.4130 - val_accuracy: 0.8950\n",
      "Epoch 35/100\n",
      "100/100 [==============================] - 0s 2ms/step - loss: 0.0142 - accuracy: 0.9950 - val_loss: 0.5216 - val_accuracy: 0.8980\n",
      "Epoch 36/100\n",
      "100/100 [==============================] - 0s 2ms/step - loss: 0.0141 - accuracy: 0.9945 - val_loss: 0.6010 - val_accuracy: 0.8770\n",
      "Epoch 37/100\n",
      "100/100 [==============================] - 0s 2ms/step - loss: 0.0194 - accuracy: 0.9940 - val_loss: 0.5448 - val_accuracy: 0.8920\n",
      "Epoch 38/100\n",
      "100/100 [==============================] - 0s 2ms/step - loss: 0.0171 - accuracy: 0.9955 - val_loss: 0.4369 - val_accuracy: 0.9010\n",
      "Epoch 39/100\n",
      "100/100 [==============================] - 0s 2ms/step - loss: 0.0152 - accuracy: 0.9950 - val_loss: 0.4171 - val_accuracy: 0.9030\n",
      "Epoch 40/100\n",
      "100/100 [==============================] - 0s 2ms/step - loss: 0.0117 - accuracy: 0.9975 - val_loss: 0.5056 - val_accuracy: 0.9020\n",
      "Epoch 41/100\n",
      "100/100 [==============================] - 0s 2ms/step - loss: 0.0214 - accuracy: 0.9905 - val_loss: 0.4811 - val_accuracy: 0.8970\n",
      "Epoch 42/100\n",
      "100/100 [==============================] - 0s 2ms/step - loss: 0.0275 - accuracy: 0.9905 - val_loss: 0.4214 - val_accuracy: 0.8990\n",
      "Epoch 43/100\n",
      "100/100 [==============================] - 0s 2ms/step - loss: 0.0193 - accuracy: 0.9930 - val_loss: 0.4536 - val_accuracy: 0.9050\n",
      "Epoch 44/100\n",
      "100/100 [==============================] - 0s 2ms/step - loss: 0.0098 - accuracy: 0.9970 - val_loss: 0.5294 - val_accuracy: 0.9020\n",
      "Epoch 45/100\n",
      "100/100 [==============================] - 0s 2ms/step - loss: 0.0057 - accuracy: 0.9985 - val_loss: 0.6116 - val_accuracy: 0.8950\n",
      "Epoch 46/100\n",
      "100/100 [==============================] - 0s 2ms/step - loss: 0.0181 - accuracy: 0.9945 - val_loss: 0.5632 - val_accuracy: 0.8930\n",
      "Epoch 47/100\n",
      "100/100 [==============================] - 0s 2ms/step - loss: 0.0233 - accuracy: 0.9920 - val_loss: 0.5138 - val_accuracy: 0.9020\n",
      "Epoch 48/100\n",
      "100/100 [==============================] - 0s 2ms/step - loss: 0.0204 - accuracy: 0.9920 - val_loss: 0.5220 - val_accuracy: 0.8830\n",
      "Epoch 49/100\n",
      "100/100 [==============================] - 0s 2ms/step - loss: 0.0200 - accuracy: 0.9940 - val_loss: 0.5336 - val_accuracy: 0.9000\n",
      "Epoch 50/100\n",
      "100/100 [==============================] - 0s 2ms/step - loss: 0.0238 - accuracy: 0.9915 - val_loss: 0.6329 - val_accuracy: 0.8750\n",
      "Epoch 51/100\n",
      "100/100 [==============================] - 0s 2ms/step - loss: 0.0238 - accuracy: 0.9925 - val_loss: 0.6103 - val_accuracy: 0.8960\n",
      "Epoch 52/100\n",
      "100/100 [==============================] - 0s 2ms/step - loss: 0.0136 - accuracy: 0.9950 - val_loss: 0.5221 - val_accuracy: 0.9020\n",
      "Epoch 53/100\n",
      "100/100 [==============================] - 0s 2ms/step - loss: 0.0092 - accuracy: 0.9955 - val_loss: 0.6746 - val_accuracy: 0.8890\n",
      "Epoch 54/100\n",
      "100/100 [==============================] - 0s 2ms/step - loss: 0.0089 - accuracy: 0.9970 - val_loss: 0.6472 - val_accuracy: 0.9020\n",
      "Epoch 55/100\n",
      "100/100 [==============================] - 0s 2ms/step - loss: 0.0345 - accuracy: 0.9865 - val_loss: 0.5744 - val_accuracy: 0.8940\n",
      "Epoch 56/100\n",
      "100/100 [==============================] - 0s 2ms/step - loss: 0.0210 - accuracy: 0.9910 - val_loss: 0.6182 - val_accuracy: 0.8950\n",
      "Epoch 57/100\n",
      "100/100 [==============================] - 0s 2ms/step - loss: 0.0248 - accuracy: 0.9905 - val_loss: 0.5612 - val_accuracy: 0.9030\n"
     ]
    },
    {
     "name": "stdout",
     "output_type": "stream",
     "text": [
      "Epoch 58/100\n",
      "100/100 [==============================] - 0s 2ms/step - loss: 0.0365 - accuracy: 0.9865 - val_loss: 0.5224 - val_accuracy: 0.9010\n",
      "Epoch 59/100\n",
      "100/100 [==============================] - 0s 2ms/step - loss: 0.0099 - accuracy: 0.9970 - val_loss: 0.5575 - val_accuracy: 0.9060\n",
      "Epoch 60/100\n",
      "100/100 [==============================] - 0s 2ms/step - loss: 0.0080 - accuracy: 0.9975 - val_loss: 0.6315 - val_accuracy: 0.8970\n",
      "Epoch 61/100\n",
      "100/100 [==============================] - 0s 2ms/step - loss: 0.0108 - accuracy: 0.9960 - val_loss: 0.9394 - val_accuracy: 0.8660\n",
      "Epoch 62/100\n",
      "100/100 [==============================] - 0s 2ms/step - loss: 0.0110 - accuracy: 0.9965 - val_loss: 0.5996 - val_accuracy: 0.8950\n",
      "Epoch 63/100\n",
      "100/100 [==============================] - 0s 2ms/step - loss: 0.0115 - accuracy: 0.9955 - val_loss: 0.5954 - val_accuracy: 0.8990\n",
      "Epoch 64/100\n",
      "100/100 [==============================] - 0s 2ms/step - loss: 0.0104 - accuracy: 0.9960 - val_loss: 0.6586 - val_accuracy: 0.9010\n",
      "Epoch 65/100\n",
      "100/100 [==============================] - 0s 2ms/step - loss: 0.0119 - accuracy: 0.9955 - val_loss: 0.6511 - val_accuracy: 0.9000\n",
      "Epoch 66/100\n",
      "100/100 [==============================] - 0s 2ms/step - loss: 0.0093 - accuracy: 0.9960 - val_loss: 0.6529 - val_accuracy: 0.8950\n",
      "Epoch 67/100\n",
      "100/100 [==============================] - 0s 2ms/step - loss: 0.0127 - accuracy: 0.9965 - val_loss: 0.6148 - val_accuracy: 0.9030\n",
      "Epoch 68/100\n",
      "100/100 [==============================] - 0s 2ms/step - loss: 0.0144 - accuracy: 0.9965 - val_loss: 0.5126 - val_accuracy: 0.9060\n",
      "Epoch 69/100\n",
      "100/100 [==============================] - 0s 2ms/step - loss: 0.0108 - accuracy: 0.9970 - val_loss: 0.6336 - val_accuracy: 0.9000\n",
      "Epoch 70/100\n",
      "100/100 [==============================] - 0s 2ms/step - loss: 0.0073 - accuracy: 0.9970 - val_loss: 0.6587 - val_accuracy: 0.9090\n",
      "Epoch 71/100\n",
      "100/100 [==============================] - 0s 2ms/step - loss: 0.0299 - accuracy: 0.9880 - val_loss: 0.5793 - val_accuracy: 0.8910\n",
      "Epoch 72/100\n",
      "100/100 [==============================] - 0s 2ms/step - loss: 0.0218 - accuracy: 0.9915 - val_loss: 0.6376 - val_accuracy: 0.8980\n",
      "Epoch 73/100\n",
      "100/100 [==============================] - 0s 2ms/step - loss: 0.0159 - accuracy: 0.9950 - val_loss: 0.6409 - val_accuracy: 0.9030\n",
      "Epoch 74/100\n",
      "100/100 [==============================] - 0s 2ms/step - loss: 0.0142 - accuracy: 0.9950 - val_loss: 0.6810 - val_accuracy: 0.8880\n",
      "Epoch 75/100\n",
      "100/100 [==============================] - 0s 2ms/step - loss: 0.0197 - accuracy: 0.9935 - val_loss: 0.5789 - val_accuracy: 0.8850\n",
      "Epoch 76/100\n",
      "100/100 [==============================] - 0s 2ms/step - loss: 0.0147 - accuracy: 0.9970 - val_loss: 0.6419 - val_accuracy: 0.9010\n",
      "Epoch 77/100\n",
      "100/100 [==============================] - 0s 2ms/step - loss: 0.0063 - accuracy: 0.9975 - val_loss: 0.6732 - val_accuracy: 0.8980\n",
      "Epoch 78/100\n",
      "100/100 [==============================] - 0s 2ms/step - loss: 0.0054 - accuracy: 0.9980 - val_loss: 0.7200 - val_accuracy: 0.9010\n",
      "Epoch 79/100\n",
      "100/100 [==============================] - 0s 2ms/step - loss: 0.0173 - accuracy: 0.9950 - val_loss: 0.6594 - val_accuracy: 0.9020\n",
      "Epoch 80/100\n",
      "100/100 [==============================] - 0s 2ms/step - loss: 0.0362 - accuracy: 0.9880 - val_loss: 0.5032 - val_accuracy: 0.9060\n",
      "Epoch 81/100\n",
      "100/100 [==============================] - 0s 2ms/step - loss: 0.0172 - accuracy: 0.9915 - val_loss: 0.7784 - val_accuracy: 0.8790\n",
      "Epoch 82/100\n",
      "100/100 [==============================] - 0s 2ms/step - loss: 0.0175 - accuracy: 0.9935 - val_loss: 0.6369 - val_accuracy: 0.9060\n",
      "Epoch 83/100\n",
      "100/100 [==============================] - 0s 2ms/step - loss: 0.0206 - accuracy: 0.9915 - val_loss: 0.5935 - val_accuracy: 0.9060\n",
      "Epoch 84/100\n",
      "100/100 [==============================] - 0s 2ms/step - loss: 0.0137 - accuracy: 0.9960 - val_loss: 0.5900 - val_accuracy: 0.9010\n",
      "Epoch 85/100\n",
      "100/100 [==============================] - 0s 2ms/step - loss: 0.0093 - accuracy: 0.9960 - val_loss: 0.5895 - val_accuracy: 0.9010\n",
      "Epoch 86/100\n",
      "100/100 [==============================] - 0s 2ms/step - loss: 0.0080 - accuracy: 0.9965 - val_loss: 0.7227 - val_accuracy: 0.8980\n",
      "Epoch 87/100\n",
      "100/100 [==============================] - 0s 2ms/step - loss: 0.0095 - accuracy: 0.9970 - val_loss: 0.7449 - val_accuracy: 0.9010\n",
      "Epoch 88/100\n",
      "100/100 [==============================] - 0s 2ms/step - loss: 0.0062 - accuracy: 0.9980 - val_loss: 0.6915 - val_accuracy: 0.9050\n",
      "Epoch 89/100\n",
      "100/100 [==============================] - 0s 2ms/step - loss: 0.0066 - accuracy: 0.9975 - val_loss: 0.8113 - val_accuracy: 0.8960\n",
      "Epoch 90/100\n",
      "100/100 [==============================] - 0s 2ms/step - loss: 0.0081 - accuracy: 0.9975 - val_loss: 0.7347 - val_accuracy: 0.9080\n",
      "Epoch 91/100\n",
      "100/100 [==============================] - 0s 2ms/step - loss: 0.0181 - accuracy: 0.9915 - val_loss: 0.6623 - val_accuracy: 0.8960\n",
      "Epoch 92/100\n",
      "100/100 [==============================] - 0s 2ms/step - loss: 0.0083 - accuracy: 0.9965 - val_loss: 0.6454 - val_accuracy: 0.9040\n",
      "Epoch 93/100\n",
      "100/100 [==============================] - 0s 2ms/step - loss: 0.0134 - accuracy: 0.9945 - val_loss: 0.6996 - val_accuracy: 0.9020\n",
      "Epoch 94/100\n",
      "100/100 [==============================] - 0s 2ms/step - loss: 0.0158 - accuracy: 0.9930 - val_loss: 0.6545 - val_accuracy: 0.9020\n",
      "Epoch 95/100\n",
      "100/100 [==============================] - 0s 2ms/step - loss: 0.0118 - accuracy: 0.9955 - val_loss: 0.8300 - val_accuracy: 0.8880\n",
      "Epoch 96/100\n",
      "100/100 [==============================] - 0s 2ms/step - loss: 0.0114 - accuracy: 0.9965 - val_loss: 0.7565 - val_accuracy: 0.8980\n",
      "Epoch 97/100\n",
      "100/100 [==============================] - 0s 2ms/step - loss: 0.0146 - accuracy: 0.9940 - val_loss: 0.7208 - val_accuracy: 0.9030\n",
      "Epoch 98/100\n",
      "100/100 [==============================] - 0s 2ms/step - loss: 0.0096 - accuracy: 0.9970 - val_loss: 0.7419 - val_accuracy: 0.8960\n",
      "Epoch 99/100\n",
      "100/100 [==============================] - 0s 2ms/step - loss: 0.0038 - accuracy: 0.9985 - val_loss: 0.8117 - val_accuracy: 0.8900\n",
      "Epoch 100/100\n",
      "100/100 [==============================] - 0s 2ms/step - loss: 0.0104 - accuracy: 0.9960 - val_loss: 0.7684 - val_accuracy: 0.9050\n"
     ]
    }
   ],
   "source": [
    "# %%time\n",
    "\n",
    "Hist_dandc = model.fit(train_features, train_labels,\n",
    "                       epochs = 100,\n",
    "                       batch_size = 20,\n",
    "                       validation_data = (valid_features, valid_labels))"
   ]
  },
  {
   "cell_type": "markdown",
   "metadata": {
    "id": "FnnIyFtNKhbD"
   },
   "source": [
    "> ## 4) 학습 결과 시각화"
   ]
  },
  {
   "cell_type": "code",
   "execution_count": 19,
   "metadata": {
    "colab": {
     "base_uri": "https://localhost:8080/",
     "height": 350
    },
    "executionInfo": {
     "elapsed": 873,
     "status": "ok",
     "timestamp": 1674697290243,
     "user": {
      "displayName": "이정구",
      "userId": "17400242557229223804"
     },
     "user_tz": -540
    },
    "id": "OQ4ke8BbKi50",
    "outputId": "fd98163d-e707-488a-bc62-22dca5266c70"
   },
   "outputs": [
    {
     "data": {
      "image/png": "[encoded data removed]",
      "text/plain": [
       "<Figure size 1500x500 with 2 Axes>"
      ]
     },
     "metadata": {},
     "output_type": "display_data"
    }
   ],
   "source": [
    "import matplotlib.pyplot as plt\n",
    "\n",
    "epochs = range(1, len(Hist_dandc.history['loss']) + 1)\n",
    "\n",
    "plt.figure(figsize = (15, 5))\n",
    "\n",
    "plt.subplot(1, 2, 1)\n",
    "plt.plot(epochs, Hist_dandc.history['loss'], 'b-')\n",
    "plt.plot(epochs, Hist_dandc.history['val_loss'], 'r--')\n",
    "plt.title('Training & Validation Loss')\n",
    "plt.xlabel('Epochs')\n",
    "plt.ylabel('Loss')\n",
    "plt.legend(['Training Loss', 'Validation Loss'])\n",
    "plt.grid()\n",
    "\n",
    "plt.subplot(1, 2, 2)\n",
    "plt.plot(epochs, Hist_dandc.history['accuracy'], 'b-')\n",
    "plt.plot(epochs, Hist_dandc.history['val_accuracy'], 'r--')\n",
    "plt.title('Training & Validation Accuracy')\n",
    "plt.xlabel('Epochs')\n",
    "plt.ylabel('Accuracy')\n",
    "plt.legend(['Training Accuracy', 'Validation Accuracy'])\n",
    "plt.grid()\n",
    "\n",
    "plt.show()"
   ]
  },
  {
   "cell_type": "markdown",
   "metadata": {
    "id": "_uJSOLBko7lh"
   },
   "source": [
    "> ## 5) Model Evaluate"
   ]
  },
  {
   "cell_type": "markdown",
   "metadata": {
    "id": "i-TqAB2ALGzZ"
   },
   "source": [
    "* Loss & Accuracy"
   ]
  },
  {
   "cell_type": "code",
   "execution_count": 20,
   "metadata": {
    "colab": {
     "base_uri": "https://localhost:8080/"
    },
    "executionInfo": {
     "elapsed": 9,
     "status": "ok",
     "timestamp": 1674697290243,
     "user": {
      "displayName": "이정구",
      "userId": "17400242557229223804"
     },
     "user_tz": -540
    },
    "id": "OF30PuZsAxQJ",
    "outputId": "c615be9b-c18a-4535-e590-292869440f80"
   },
   "outputs": [
    {
     "name": "stdout",
     "output_type": "stream",
     "text": [
      "Loss = 0.85811\n",
      "Accuracy = 0.88000\n"
     ]
    }
   ],
   "source": [
    "loss, accuracy = model.evaluate(test_features, test_labels, verbose = 0)\n",
    "\n",
    "print('Loss = {:.5f}'.format(loss))\n",
    "print('Accuracy = {:.5f}'.format(accuracy))"
   ]
  },
  {
   "cell_type": "markdown",
   "metadata": {
    "id": "sN48I9GrLxOX"
   },
   "source": [
    "# \n",
    "# \n",
    "# \n",
    "# The End\n",
    "# \n",
    "# \n",
    "# "
   ]
  }
 ],
 "metadata": {
  "accelerator": "GPU",
  "colab": {
   "provenance": []
  },
  "gpuClass": "standard",
  "kernelspec": {
   "display_name": "Python 3 (ipykernel)",
   "language": "python",
   "name": "python3"
  },
  "language_info": {
   "codemirror_mode": {
    "name": "ipython",
    "version": 3
   },
   "file_extension": ".py",
   "mimetype": "text/x-python",
   "name": "python",
   "nbconvert_exporter": "python",
   "pygments_lexer": "ipython3",
   "version": "3.10.8"
  },
  "toc": {
   "base_numbering": 1,
   "nav_menu": {},
   "number_sections": true,
   "sideBar": true,
   "skip_h1_title": false,
   "title_cell": "Table of Contents",
   "title_sidebar": "Contents",
   "toc_cell": false,
   "toc_position": {},
   "toc_section_display": true,
   "toc_window_display": false
  }
 },
 "nbformat": 4,
 "nbformat_minor": 1
}
