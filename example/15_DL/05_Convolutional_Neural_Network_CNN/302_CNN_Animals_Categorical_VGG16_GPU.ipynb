{
 "cells": [
  {
   "cell_type": "markdown",
   "metadata": {
    "id": "q2Pr7oBdYLdf"
   },
   "source": [
    "# 이미지 데이터 셋을 이용한 CNN Modeling\n",
    "## Animals Dataset Categorical Classification\n",
    "* Train_Data : 5000\n",
    "* Valid_Data : 3000\n",
    "* Test_Data : 3000"
   ]
  },
  {
   "cell_type": "code",
   "execution_count": 1,
   "metadata": {
    "executionInfo": {
     "elapsed": 7,
     "status": "ok",
     "timestamp": 1674698235071,
     "user": {
      "displayName": "이정구",
      "userId": "10412141110999311561"
     },
     "user_tz": -540
    },
    "id": "RbPgODpVzdHI"
   },
   "outputs": [],
   "source": [
    "import warnings\n",
    "warnings.filterwarnings('ignore')"
   ]
  },
  {
   "cell_type": "markdown",
   "metadata": {
    "id": "kGLxnpmRyMwH"
   },
   "source": [
    "* Import TensorFlow"
   ]
  },
  {
   "cell_type": "code",
   "execution_count": 2,
   "metadata": {
    "colab": {
     "base_uri": "https://localhost:8080/",
     "height": 35
    },
    "executionInfo": {
     "elapsed": 3550,
     "status": "ok",
     "timestamp": 1674698238616,
     "user": {
      "displayName": "이정구",
      "userId": "10412141110999311561"
     },
     "user_tz": -540
    },
    "id": "axDX2DfUyPlO",
    "outputId": "7494e680-5779-43d5-f956-d365bcec396a"
   },
   "outputs": [
    {
     "data": {
      "application/vnd.google.colaboratory.intrinsic+json": {
       "type": "string"
      },
      "text/plain": [
       "'2.9.2'"
      ]
     },
     "execution_count": 2,
     "metadata": {},
     "output_type": "execute_result"
    }
   ],
   "source": [
    "import tensorflow as tf\n",
    "\n",
    "tf.__version__"
   ]
  },
  {
   "cell_type": "markdown",
   "metadata": {
    "id": "6d1FeKK1CgqG"
   },
   "source": [
    "# I. wget From Github"
   ]
  },
  {
   "cell_type": "markdown",
   "metadata": {
    "id": "aQ-o8xUHpG7-"
   },
   "source": [
    "> ## 1) 'animals_part.zip' 파일 다운로드"
   ]
  },
  {
   "cell_type": "code",
   "execution_count": 3,
   "metadata": {
    "colab": {
     "base_uri": "https://localhost:8080/"
    },
    "executionInfo": {
     "elapsed": 1447,
     "status": "ok",
     "timestamp": 1674698240055,
     "user": {
      "displayName": "이정구",
      "userId": "10412141110999311561"
     },
     "user_tz": -540
    },
    "id": "f32hYtuOh4F4",
    "outputId": "c5738cda-6259-4004-c157-1322a465f24b"
   },
   "outputs": [
    {
     "name": "stdout",
     "output_type": "stream",
     "text": [
      "--2023-01-26 01:57:18--  https://raw.githubusercontent.com/rusita-ai/pyData/master/animals_part.zip\n",
      "Resolving raw.githubusercontent.com (raw.githubusercontent.com)... 185.199.110.133, 185.199.108.133, 185.199.111.133, ...\n",
      "Connecting to raw.githubusercontent.com (raw.githubusercontent.com)|185.199.110.133|:443... connected.\n",
      "HTTP request sent, awaiting response... 200 OK\n",
      "Length: 88551715 (84M) [application/zip]\n",
      "Saving to: ‘animals_part.zip’\n",
      "\n",
      "animals_part.zip    100%[===================>]  84.45M   210MB/s    in 0.4s    \n",
      "\n",
      "2023-01-26 01:57:19 (210 MB/s) - ‘animals_part.zip’ saved [88551715/88551715]\n",
      "\n"
     ]
    }
   ],
   "source": [
    "!wget https://raw.githubusercontent.com/rusita-ai/pyData/master/animals_part.zip"
   ]
  },
  {
   "cell_type": "code",
   "execution_count": 4,
   "metadata": {
    "colab": {
     "base_uri": "https://localhost:8080/"
    },
    "executionInfo": {
     "elapsed": 2322,
     "status": "ok",
     "timestamp": 1674698242370,
     "user": {
      "displayName": "이정구",
      "userId": "10412141110999311561"
     },
     "user_tz": -540
    },
    "id": "oj5vN21So2mn",
    "outputId": "13aa8b46-3fc7-417b-dd44-2642ff28adf0"
   },
   "outputs": [
    {
     "name": "stdout",
     "output_type": "stream",
     "text": [
      "--2023-01-26 01:57:19--  https://raw.githubusercontent.com/rusita-ai/pyData/master/animals_part.z01\n",
      "Resolving raw.githubusercontent.com (raw.githubusercontent.com)... 185.199.109.133, 185.199.111.133, 185.199.110.133, ...\n",
      "Connecting to raw.githubusercontent.com (raw.githubusercontent.com)|185.199.109.133|:443... connected.\n",
      "HTTP request sent, awaiting response... 200 OK\n",
      "Length: 94371840 (90M) [application/octet-stream]\n",
      "Saving to: ‘animals_part.z01’\n",
      "\n",
      "animals_part.z01    100%[===================>]  90.00M   127MB/s    in 0.7s    \n",
      "\n",
      "2023-01-26 01:57:21 (127 MB/s) - ‘animals_part.z01’ saved [94371840/94371840]\n",
      "\n"
     ]
    }
   ],
   "source": [
    "!wget https://raw.githubusercontent.com/rusita-ai/pyData/master/animals_part.z01"
   ]
  },
  {
   "cell_type": "code",
   "execution_count": 5,
   "metadata": {
    "colab": {
     "base_uri": "https://localhost:8080/"
    },
    "executionInfo": {
     "elapsed": 1854,
     "status": "ok",
     "timestamp": 1674698244218,
     "user": {
      "displayName": "이정구",
      "userId": "10412141110999311561"
     },
     "user_tz": -540
    },
    "id": "8nHuGz1Oo2Ye",
    "outputId": "77915649-dac4-46dc-dbb8-b58d3551e538"
   },
   "outputs": [
    {
     "name": "stdout",
     "output_type": "stream",
     "text": [
      "--2023-01-26 01:57:21--  https://raw.githubusercontent.com/rusita-ai/pyData/master/animals_part.z02\n",
      "Resolving raw.githubusercontent.com (raw.githubusercontent.com)... 185.199.110.133, 185.199.109.133, 185.199.108.133, ...\n",
      "Connecting to raw.githubusercontent.com (raw.githubusercontent.com)|185.199.110.133|:443... connected.\n",
      "HTTP request sent, awaiting response... 200 OK\n",
      "Length: 94371840 (90M) [application/octet-stream]\n",
      "Saving to: ‘animals_part.z02’\n",
      "\n",
      "animals_part.z02    100%[===================>]  90.00M   103MB/s    in 0.9s    \n",
      "\n",
      "2023-01-26 01:57:23 (103 MB/s) - ‘animals_part.z02’ saved [94371840/94371840]\n",
      "\n"
     ]
    }
   ],
   "source": [
    "!wget https://raw.githubusercontent.com/rusita-ai/pyData/master/animals_part.z02"
   ]
  },
  {
   "cell_type": "markdown",
   "metadata": {
    "id": "rBrMKlsgEvV7"
   },
   "source": [
    "* 다운로드 결과 확인"
   ]
  },
  {
   "cell_type": "code",
   "execution_count": 6,
   "metadata": {
    "colab": {
     "base_uri": "https://localhost:8080/"
    },
    "executionInfo": {
     "elapsed": 8,
     "status": "ok",
     "timestamp": 1674698244219,
     "user": {
      "displayName": "이정구",
      "userId": "10412141110999311561"
     },
     "user_tz": -540
    },
    "id": "ZAA_YjrVExu7",
    "outputId": "fb7fd03f-d54c-4dcc-8865-7f8718ee8b1e"
   },
   "outputs": [
    {
     "name": "stdout",
     "output_type": "stream",
     "text": [
      "total 270812\n",
      "-rw-r--r-- 1 root root 94371840 Jan 26 01:57 animals_part.z01\n",
      "-rw-r--r-- 1 root root 94371840 Jan 26 01:57 animals_part.z02\n",
      "-rw-r--r-- 1 root root 88551715 Jan 26 01:57 animals_part.zip\n",
      "drwxr-xr-x 1 root root     4096 Jan 24 14:38 sample_data\n"
     ]
    }
   ],
   "source": [
    "!ls -l"
   ]
  },
  {
   "cell_type": "markdown",
   "metadata": {
    "id": "LpDYRNy9pS72"
   },
   "source": [
    "> ## 2) 분할된 파일 합치기"
   ]
  },
  {
   "cell_type": "code",
   "execution_count": 7,
   "metadata": {
    "executionInfo": {
     "elapsed": 1770,
     "status": "ok",
     "timestamp": 1674698245985,
     "user": {
      "displayName": "이정구",
      "userId": "10412141110999311561"
     },
     "user_tz": -540
    },
    "id": "oObuOlWgc8X7"
   },
   "outputs": [],
   "source": [
    "!zip -Fq animals_part.zip --out animals.zip"
   ]
  },
  {
   "cell_type": "markdown",
   "metadata": {
    "id": "2RJG0f3npnju"
   },
   "source": [
    "* 'animals.zip' 생성 확인"
   ]
  },
  {
   "cell_type": "code",
   "execution_count": 8,
   "metadata": {
    "colab": {
     "base_uri": "https://localhost:8080/"
    },
    "executionInfo": {
     "elapsed": 12,
     "status": "ok",
     "timestamp": 1674698245986,
     "user": {
      "displayName": "이정구",
      "userId": "10412141110999311561"
     },
     "user_tz": -540
    },
    "id": "0QoV9boXpsL1",
    "outputId": "c88eee49-305c-4342-edd2-004f91422403"
   },
   "outputs": [
    {
     "name": "stdout",
     "output_type": "stream",
     "text": [
      "total 541616\n",
      "-rw-r--r-- 1 root root  94371840 Jan 26 01:57 animals_part.z01\n",
      "-rw-r--r-- 1 root root  94371840 Jan 26 01:57 animals_part.z02\n",
      "-rw-r--r-- 1 root root  88551715 Jan 26 01:57 animals_part.zip\n",
      "-rw-r--r-- 1 root root 277295391 Jan 26 01:57 animals.zip\n",
      "drwxr-xr-x 1 root root      4096 Jan 24 14:38 sample_data\n"
     ]
    }
   ],
   "source": [
    "!ls -l"
   ]
  },
  {
   "cell_type": "markdown",
   "metadata": {
    "id": "1DyFdyVxFyHK"
   },
   "source": [
    "# II. Data Preprocessing"
   ]
  },
  {
   "cell_type": "markdown",
   "metadata": {
    "id": "D9zdBsGKnLUo"
   },
   "source": [
    "> ## 1) Unzip 'animals.zip'"
   ]
  },
  {
   "cell_type": "code",
   "execution_count": 9,
   "metadata": {
    "executionInfo": {
     "elapsed": 6368,
     "status": "ok",
     "timestamp": 1674698252349,
     "user": {
      "displayName": "이정구",
      "userId": "10412141110999311561"
     },
     "user_tz": -540
    },
    "id": "WkuHaDXcnUtY"
   },
   "outputs": [],
   "source": [
    "!unzip -q /content/animals.zip"
   ]
  },
  {
   "cell_type": "markdown",
   "metadata": {
    "id": "nYRGJ9bpp4pF"
   },
   "source": [
    "* 학습 데이터 확인"
   ]
  },
  {
   "cell_type": "code",
   "execution_count": 10,
   "metadata": {
    "colab": {
     "base_uri": "https://localhost:8080/"
    },
    "executionInfo": {
     "elapsed": 24,
     "status": "ok",
     "timestamp": 1674698252350,
     "user": {
      "displayName": "이정구",
      "userId": "10412141110999311561"
     },
     "user_tz": -540
    },
    "id": "FdQBGRJTp0MV",
    "outputId": "41f44c9f-fb41-4ea2-e9c3-2a1f3d147d2a"
   },
   "outputs": [
    {
     "name": "stdout",
     "output_type": "stream",
     "text": [
      "total 12\n",
      "drwxr-xr-x 12 root root 4096 Oct 25 13:50 test\n",
      "drwxr-xr-x 12 root root 4096 Oct 25 13:50 train\n",
      "drwxr-xr-x 12 root root 4096 Oct 25 13:50 validation\n"
     ]
    }
   ],
   "source": [
    "!ls -l animals/"
   ]
  },
  {
   "cell_type": "markdown",
   "metadata": {
    "id": "H49A769LYp-a"
   },
   "source": [
    "> ## 2) Image_File Directory Setting"
   ]
  },
  {
   "cell_type": "markdown",
   "metadata": {
    "id": "fwUMpMCYGB7Z"
   },
   "source": [
    "* train_dir\n",
    "* valid_dir\n",
    "* test_dir"
   ]
  },
  {
   "cell_type": "code",
   "execution_count": 11,
   "metadata": {
    "executionInfo": {
     "elapsed": 16,
     "status": "ok",
     "timestamp": 1674698252350,
     "user": {
      "displayName": "이정구",
      "userId": "10412141110999311561"
     },
     "user_tz": -540
    },
    "id": "DxstjE8b_6Te"
   },
   "outputs": [],
   "source": [
    "train_dir = 'animals/train'\n",
    "valid_dir = 'animals/validation'\n",
    "test_dir  = 'animals/test'"
   ]
  },
  {
   "cell_type": "markdown",
   "metadata": {
    "id": "Mk9XL5vGHor6"
   },
   "source": [
    "> ## 3) ImageDataGenerator( ) & flow_from_directory( )"
   ]
  },
  {
   "cell_type": "markdown",
   "metadata": {
    "id": "_UbiVo2EGlOt"
   },
   "source": [
    "* Normalization\n",
    " * ImageDataGenerator( )\n",
    "* Resizing & Generator\n",
    " * flow_from_directory( )"
   ]
  },
  {
   "cell_type": "code",
   "execution_count": 12,
   "metadata": {
    "colab": {
     "base_uri": "https://localhost:8080/"
    },
    "executionInfo": {
     "elapsed": 526,
     "status": "ok",
     "timestamp": 1674698252860,
     "user": {
      "displayName": "이정구",
      "userId": "10412141110999311561"
     },
     "user_tz": -540
    },
    "id": "eC48Oym3Ao8E",
    "outputId": "3dde9a39-17b5-40fe-9af6-b406bb1be6fc"
   },
   "outputs": [
    {
     "name": "stdout",
     "output_type": "stream",
     "text": [
      "Found 5000 images belonging to 10 classes.\n",
      "Found 3000 images belonging to 10 classes.\n"
     ]
    }
   ],
   "source": [
    "from tensorflow.keras.preprocessing.image import ImageDataGenerator\n",
    "\n",
    "train_datagen = ImageDataGenerator(rescale = 1./255,\n",
    "                                   rotation_range = 40,\n",
    "                                   width_shift_range = 0.2,\n",
    "                                   height_shift_range = 0.2,\n",
    "                                   shear_range = 0.2,\n",
    "                                   zoom_range = 0.2,\n",
    "                                   horizontal_flip = True,\n",
    "                                   vertical_flip = True,\n",
    "                                   fill_mode = 'nearest')\n",
    "\n",
    "valid_datagen = ImageDataGenerator(rescale = 1./255)\n",
    "\n",
    "\n",
    "train_generator = train_datagen.flow_from_directory(\n",
    "                  train_dir,\n",
    "                  target_size = (150, 150),\n",
    "                  batch_size = 20,\n",
    "                  class_mode = 'categorical')\n",
    "\n",
    "valid_generator = valid_datagen.flow_from_directory(\n",
    "                  valid_dir,\n",
    "                  target_size = (150, 150),\n",
    "                  batch_size = 20,\n",
    "                  class_mode = 'categorical')"
   ]
  },
  {
   "cell_type": "markdown",
   "metadata": {
    "id": "vCpCB_giJbZr"
   },
   "source": [
    "> ## 4) Test train_generator"
   ]
  },
  {
   "cell_type": "code",
   "execution_count": 13,
   "metadata": {
    "colab": {
     "base_uri": "https://localhost:8080/"
    },
    "executionInfo": {
     "elapsed": 849,
     "status": "ok",
     "timestamp": 1674698253701,
     "user": {
      "displayName": "이정구",
      "userId": "10412141110999311561"
     },
     "user_tz": -540
    },
    "id": "NW5rHWtcJnTq",
    "outputId": "8074e31e-9d1a-4894-cb98-4bbd330eb8b9"
   },
   "outputs": [
    {
     "name": "stdout",
     "output_type": "stream",
     "text": [
      "배치 데이터 크기: (20, 150, 150, 3)\n",
      "배치 레이블 크기: (20, 10)\n"
     ]
    }
   ],
   "source": [
    "for data_batch, labels_batch in train_generator:\n",
    "    print('배치 데이터 크기:', data_batch.shape)\n",
    "    print('배치 레이블 크기:', labels_batch.shape)\n",
    "    break"
   ]
  },
  {
   "cell_type": "code",
   "execution_count": 14,
   "metadata": {
    "colab": {
     "base_uri": "https://localhost:8080/"
    },
    "executionInfo": {
     "elapsed": 14,
     "status": "ok",
     "timestamp": 1674698253701,
     "user": {
      "displayName": "이정구",
      "userId": "10412141110999311561"
     },
     "user_tz": -540
    },
    "id": "VnTocUr6YgKa",
    "outputId": "afb107c9-97f7-4bb0-c692-5a366b7db12e"
   },
   "outputs": [
    {
     "data": {
      "text/plain": [
       "array([[0., 0., 0., 0., 0., 0., 0., 1., 0., 0.],\n",
       "       [0., 0., 0., 0., 0., 0., 0., 1., 0., 0.],\n",
       "       [0., 0., 0., 0., 1., 0., 0., 0., 0., 0.],\n",
       "       [0., 0., 0., 1., 0., 0., 0., 0., 0., 0.],\n",
       "       [0., 0., 0., 0., 0., 0., 0., 1., 0., 0.],\n",
       "       [0., 0., 1., 0., 0., 0., 0., 0., 0., 0.],\n",
       "       [0., 0., 0., 1., 0., 0., 0., 0., 0., 0.],\n",
       "       [0., 0., 1., 0., 0., 0., 0., 0., 0., 0.],\n",
       "       [0., 0., 0., 0., 0., 1., 0., 0., 0., 0.],\n",
       "       [0., 0., 0., 0., 0., 0., 0., 0., 0., 1.],\n",
       "       [0., 0., 0., 1., 0., 0., 0., 0., 0., 0.],\n",
       "       [0., 0., 0., 1., 0., 0., 0., 0., 0., 0.],\n",
       "       [0., 0., 0., 0., 0., 0., 1., 0., 0., 0.],\n",
       "       [0., 0., 0., 1., 0., 0., 0., 0., 0., 0.],\n",
       "       [0., 0., 0., 0., 1., 0., 0., 0., 0., 0.],\n",
       "       [0., 0., 1., 0., 0., 0., 0., 0., 0., 0.],\n",
       "       [0., 0., 0., 0., 0., 0., 0., 0., 1., 0.],\n",
       "       [0., 1., 0., 0., 0., 0., 0., 0., 0., 0.],\n",
       "       [0., 0., 0., 1., 0., 0., 0., 0., 0., 0.],\n",
       "       [0., 0., 1., 0., 0., 0., 0., 0., 0., 0.]], dtype=float32)"
      ]
     },
     "execution_count": 14,
     "metadata": {},
     "output_type": "execute_result"
    }
   ],
   "source": [
    "labels_batch"
   ]
  },
  {
   "cell_type": "markdown",
   "metadata": {
    "id": "wBAWLCWdGNde"
   },
   "source": [
    "# III. Import VGG-16 Model"
   ]
  },
  {
   "cell_type": "markdown",
   "metadata": {
    "id": "tpdqyBb2Gsdj"
   },
   "source": [
    "> ## 1) conv_base"
   ]
  },
  {
   "cell_type": "code",
   "execution_count": 15,
   "metadata": {
    "colab": {
     "base_uri": "https://localhost:8080/"
    },
    "executionInfo": {
     "elapsed": 5381,
     "status": "ok",
     "timestamp": 1674698259078,
     "user": {
      "displayName": "이정구",
      "userId": "10412141110999311561"
     },
     "user_tz": -540
    },
    "id": "Zgv7VdbFGTGK",
    "outputId": "e8f60f6d-ef34-420c-8dc8-bd360a118bf7"
   },
   "outputs": [
    {
     "name": "stdout",
     "output_type": "stream",
     "text": [
      "Downloading data from https://storage.googleapis.com/tensorflow/keras-applications/vgg16/vgg16_weights_tf_dim_ordering_tf_kernels_notop.h5\n",
      "58889256/58889256 [==============================] - 0s 0us/step\n"
     ]
    }
   ],
   "source": [
    "from tensorflow.keras.applications import VGG16\n",
    "\n",
    "conv_base = VGG16(weights = 'imagenet',\n",
    "                  include_top = False,\n",
    "                  input_shape = (150, 150, 3))"
   ]
  },
  {
   "cell_type": "markdown",
   "metadata": {
    "id": "GpZKQG4y3wLX"
   },
   "source": [
    "# IV. Keras CNN Modeling with VGG-16"
   ]
  },
  {
   "cell_type": "markdown",
   "metadata": {
    "id": "j5CT0TurJCkc"
   },
   "source": [
    "> ## 1) Model Define"
   ]
  },
  {
   "cell_type": "markdown",
   "metadata": {
    "id": "ydDCl0jTJD58"
   },
   "source": [
    "* 'conv_base' & 'Classification' Network\n",
    "* Dropout Layer"
   ]
  },
  {
   "cell_type": "code",
   "execution_count": 16,
   "metadata": {
    "executionInfo": {
     "elapsed": 10,
     "status": "ok",
     "timestamp": 1674698259078,
     "user": {
      "displayName": "이정구",
      "userId": "10412141110999311561"
     },
     "user_tz": -540
    },
    "id": "II0DskRdAcHS"
   },
   "outputs": [],
   "source": [
    "from tensorflow.keras import models, layers\n",
    "\n",
    "model = models.Sequential()\n",
    "model.add(conv_base)\n",
    "\n",
    "model.add(layers.Flatten())\n",
    "model.add(layers.Dense(512, activation = 'relu'))\n",
    "model.add(layers.Dropout(0.5))\n",
    "model.add(layers.Dense(10, activation = 'softmax'))"
   ]
  },
  {
   "cell_type": "code",
   "execution_count": 17,
   "metadata": {
    "colab": {
     "base_uri": "https://localhost:8080/"
    },
    "executionInfo": {
     "elapsed": 429,
     "status": "ok",
     "timestamp": 1674698259497,
     "user": {
      "displayName": "이정구",
      "userId": "10412141110999311561"
     },
     "user_tz": -540
    },
    "id": "wbtjOA4XMTUd",
    "outputId": "66feba12-587a-440f-fba4-72bfcd4bd931"
   },
   "outputs": [
    {
     "name": "stdout",
     "output_type": "stream",
     "text": [
      "Model: \"sequential\"\n",
      "_________________________________________________________________\n",
      " Layer (type)                Output Shape              Param #   \n",
      "=================================================================\n",
      " vgg16 (Functional)          (None, 4, 4, 512)         14714688  \n",
      "                                                                 \n",
      " flatten (Flatten)           (None, 8192)              0         \n",
      "                                                                 \n",
      " dense (Dense)               (None, 512)               4194816   \n",
      "                                                                 \n",
      " dropout (Dropout)           (None, 512)               0         \n",
      "                                                                 \n",
      " dense_1 (Dense)             (None, 10)                5130      \n",
      "                                                                 \n",
      "=================================================================\n",
      "Total params: 18,914,634\n",
      "Trainable params: 18,914,634\n",
      "Non-trainable params: 0\n",
      "_________________________________________________________________\n"
     ]
    }
   ],
   "source": [
    "model.summary()"
   ]
  },
  {
   "cell_type": "markdown",
   "metadata": {
    "id": "tpjBDBeYoyuj"
   },
   "source": [
    "> ## 2) Model Compile"
   ]
  },
  {
   "cell_type": "markdown",
   "metadata": {
    "id": "f3sxkQa0JoUr"
   },
   "source": [
    "* 모델 학습방법 설정\n",
    " * 이미 학습된 Weight 값을 Tuning\n",
    " * 매우 작은 Learnig Rate 지정\n",
    " * optimizers.Adam(lr = 0.000005)"
   ]
  },
  {
   "cell_type": "code",
   "execution_count": 18,
   "metadata": {
    "executionInfo": {
     "elapsed": 7,
     "status": "ok",
     "timestamp": 1674698259497,
     "user": {
      "displayName": "이정구",
      "userId": "10412141110999311561"
     },
     "user_tz": -540
    },
    "id": "AyK_t1qwAi6M"
   },
   "outputs": [],
   "source": [
    "from tensorflow.keras import optimizers\n",
    "\n",
    "model.compile(loss = 'binary_crossentropy',\n",
    "              optimizer = optimizers.Adam(lr = 0.000005),\n",
    "              metrics = ['accuracy'])"
   ]
  },
  {
   "cell_type": "markdown",
   "metadata": {
    "id": "umiq4B-Xo3OB"
   },
   "source": [
    "> ## 3) Model Fit"
   ]
  },
  {
   "cell_type": "markdown",
   "metadata": {
    "id": "1KuXREziKMD1"
   },
   "source": [
    "* 약 30분"
   ]
  },
  {
   "cell_type": "code",
   "execution_count": 19,
   "metadata": {
    "colab": {
     "base_uri": "https://localhost:8080/"
    },
    "executionInfo": {
     "elapsed": 1447986,
     "status": "ok",
     "timestamp": 1674699707476,
     "user": {
      "displayName": "이정구",
      "userId": "10412141110999311561"
     },
     "user_tz": -540
    },
    "id": "zxwqwAqRAqRP",
    "outputId": "e17515e4-06aa-454a-c36e-93a1d52e46fe"
   },
   "outputs": [
    {
     "name": "stdout",
     "output_type": "stream",
     "text": [
      "Epoch 1/25\n",
      "250/250 [==============================] - 70s 231ms/step - loss: 0.3729 - accuracy: 0.1466 - val_loss: 0.2848 - val_accuracy: 0.3723\n",
      "Epoch 2/25\n",
      "250/250 [==============================] - 60s 240ms/step - loss: 0.2871 - accuracy: 0.3252 - val_loss: 0.2217 - val_accuracy: 0.5183\n",
      "Epoch 3/25\n",
      "250/250 [==============================] - 57s 229ms/step - loss: 0.2418 - accuracy: 0.4662 - val_loss: 0.1918 - val_accuracy: 0.6173\n",
      "Epoch 4/25\n",
      "250/250 [==============================] - 57s 228ms/step - loss: 0.2159 - accuracy: 0.5460 - val_loss: 0.1695 - val_accuracy: 0.6713\n",
      "Epoch 5/25\n",
      "250/250 [==============================] - 57s 228ms/step - loss: 0.1936 - accuracy: 0.6062 - val_loss: 0.1574 - val_accuracy: 0.6923\n",
      "Epoch 6/25\n",
      "250/250 [==============================] - 59s 234ms/step - loss: 0.1799 - accuracy: 0.6476 - val_loss: 0.1592 - val_accuracy: 0.6890\n",
      "Epoch 7/25\n",
      "250/250 [==============================] - 57s 228ms/step - loss: 0.1655 - accuracy: 0.6754 - val_loss: 0.1348 - val_accuracy: 0.7347\n",
      "Epoch 8/25\n",
      "250/250 [==============================] - 57s 227ms/step - loss: 0.1555 - accuracy: 0.7080 - val_loss: 0.1285 - val_accuracy: 0.7467\n",
      "Epoch 9/25\n",
      "250/250 [==============================] - 57s 228ms/step - loss: 0.1428 - accuracy: 0.7372 - val_loss: 0.1202 - val_accuracy: 0.7683\n",
      "Epoch 10/25\n",
      "250/250 [==============================] - 59s 234ms/step - loss: 0.1366 - accuracy: 0.7586 - val_loss: 0.1215 - val_accuracy: 0.7757\n",
      "Epoch 11/25\n",
      "250/250 [==============================] - 57s 229ms/step - loss: 0.1309 - accuracy: 0.7614 - val_loss: 0.1263 - val_accuracy: 0.7667\n",
      "Epoch 12/25\n",
      "250/250 [==============================] - 57s 229ms/step - loss: 0.1236 - accuracy: 0.7806 - val_loss: 0.1105 - val_accuracy: 0.7967\n",
      "Epoch 13/25\n",
      "250/250 [==============================] - 57s 228ms/step - loss: 0.1180 - accuracy: 0.7878 - val_loss: 0.1121 - val_accuracy: 0.7863\n",
      "Epoch 14/25\n",
      "250/250 [==============================] - 58s 233ms/step - loss: 0.1118 - accuracy: 0.8002 - val_loss: 0.1110 - val_accuracy: 0.7950\n",
      "Epoch 15/25\n",
      "250/250 [==============================] - 57s 227ms/step - loss: 0.1043 - accuracy: 0.8140 - val_loss: 0.1072 - val_accuracy: 0.7993\n",
      "Epoch 16/25\n",
      "250/250 [==============================] - 57s 228ms/step - loss: 0.0997 - accuracy: 0.8316 - val_loss: 0.1090 - val_accuracy: 0.7993\n",
      "Epoch 17/25\n",
      "250/250 [==============================] - 57s 227ms/step - loss: 0.0980 - accuracy: 0.8258 - val_loss: 0.1057 - val_accuracy: 0.8123\n",
      "Epoch 18/25\n",
      "250/250 [==============================] - 57s 228ms/step - loss: 0.0954 - accuracy: 0.8286 - val_loss: 0.1099 - val_accuracy: 0.8003\n",
      "Epoch 19/25\n",
      "250/250 [==============================] - 57s 227ms/step - loss: 0.0948 - accuracy: 0.8356 - val_loss: 0.1099 - val_accuracy: 0.8060\n",
      "Epoch 20/25\n",
      "250/250 [==============================] - 57s 227ms/step - loss: 0.0901 - accuracy: 0.8460 - val_loss: 0.0926 - val_accuracy: 0.8340\n",
      "Epoch 21/25\n",
      "250/250 [==============================] - 57s 227ms/step - loss: 0.0831 - accuracy: 0.8628 - val_loss: 0.0951 - val_accuracy: 0.8327\n",
      "Epoch 22/25\n",
      "250/250 [==============================] - 57s 226ms/step - loss: 0.0807 - accuracy: 0.8646 - val_loss: 0.0908 - val_accuracy: 0.8410\n",
      "Epoch 23/25\n",
      "250/250 [==============================] - 59s 234ms/step - loss: 0.0796 - accuracy: 0.8670 - val_loss: 0.1015 - val_accuracy: 0.8183\n",
      "Epoch 24/25\n",
      "250/250 [==============================] - 57s 227ms/step - loss: 0.0758 - accuracy: 0.8732 - val_loss: 0.1071 - val_accuracy: 0.8100\n",
      "Epoch 25/25\n",
      "250/250 [==============================] - 57s 227ms/step - loss: 0.0741 - accuracy: 0.8726 - val_loss: 0.0890 - val_accuracy: 0.8417\n",
      "CPU times: user 34min 3s, sys: 35.4 s, total: 34min 39s\n",
      "Wall time: 24min 7s\n"
     ]
    }
   ],
   "source": [
    "%%time\n",
    "\n",
    "Hist_animal = model.fit(train_generator,\n",
    "                        steps_per_epoch = 250,\n",
    "                        epochs = 25,\n",
    "                        validation_data = valid_generator,\n",
    "                        validation_steps = 150)"
   ]
  },
  {
   "cell_type": "markdown",
   "metadata": {
    "id": "FnnIyFtNKhbD"
   },
   "source": [
    "> ## 4) 학습 결과 시각화"
   ]
  },
  {
   "cell_type": "code",
   "execution_count": 20,
   "metadata": {
    "colab": {
     "base_uri": "https://localhost:8080/",
     "height": 350
    },
    "executionInfo": {
     "elapsed": 47,
     "status": "ok",
     "timestamp": 1674699707478,
     "user": {
      "displayName": "이정구",
      "userId": "10412141110999311561"
     },
     "user_tz": -540
    },
    "id": "BRIqZjTOWaN2",
    "outputId": "85407904-c7ac-4d32-96c0-65cf656fd848"
   },
   "outputs": [
    {
     "data": {
      "image/png": "[encoded data removed]",
      "text/plain": [
       "<Figure size 1080x360 with 2 Axes>"
      ]
     },
     "metadata": {
      "needs_background": "light"
     },
     "output_type": "display_data"
    }
   ],
   "source": [
    "import matplotlib.pyplot as plt\n",
    "\n",
    "epochs = range(1, len(Hist_animal.history['loss']) + 1)\n",
    "\n",
    "plt.figure(figsize = (15, 5))\n",
    "\n",
    "plt.subplot(1, 2, 1)\n",
    "plt.plot(epochs, Hist_animal.history['loss'], 'b-')\n",
    "plt.plot(epochs, Hist_animal.history['val_loss'], 'r--')\n",
    "plt.title('Training & Validation Loss')\n",
    "plt.xlabel('Epochs')\n",
    "plt.ylabel('Loss')\n",
    "plt.legend(['Training Loss', 'Validation Loss'])\n",
    "plt.grid()\n",
    "\n",
    "plt.subplot(1, 2, 2)\n",
    "plt.plot(epochs, Hist_animal.history['accuracy'], 'b-')\n",
    "plt.plot(epochs, Hist_animal.history['val_accuracy'], 'r--')\n",
    "plt.title('Training & Validation Accuracy')\n",
    "plt.xlabel('Epochs')\n",
    "plt.ylabel('Accuracy')\n",
    "plt.legend(['Training Accuracy', 'Validation Accuracy'])\n",
    "plt.grid()\n",
    "\n",
    "plt.show()"
   ]
  },
  {
   "cell_type": "markdown",
   "metadata": {
    "id": "_uJSOLBko7lh"
   },
   "source": [
    "> ## 5) Model Evaluate"
   ]
  },
  {
   "cell_type": "markdown",
   "metadata": {
    "id": "vqd33SF_RG3q"
   },
   "source": [
    "* test_generator"
   ]
  },
  {
   "cell_type": "code",
   "execution_count": 21,
   "metadata": {
    "colab": {
     "base_uri": "https://localhost:8080/"
    },
    "executionInfo": {
     "elapsed": 482,
     "status": "ok",
     "timestamp": 1674699707950,
     "user": {
      "displayName": "이정구",
      "userId": "10412141110999311561"
     },
     "user_tz": -540
    },
    "id": "2SZddYK7RLov",
    "outputId": "3ccb576e-f9f7-4466-c37c-516236bc3138"
   },
   "outputs": [
    {
     "name": "stdout",
     "output_type": "stream",
     "text": [
      "Found 3000 images belonging to 10 classes.\n"
     ]
    }
   ],
   "source": [
    "test_datagen = ImageDataGenerator(rescale = 1./255)\n",
    "\n",
    "test_generator = test_datagen.flow_from_directory(\n",
    "                 test_dir,\n",
    "                 target_size = (150, 150),\n",
    "                 batch_size = 20,\n",
    "                 class_mode = 'categorical')"
   ]
  },
  {
   "cell_type": "markdown",
   "metadata": {
    "id": "i-TqAB2ALGzZ"
   },
   "source": [
    "* Loss & Accuracy"
   ]
  },
  {
   "cell_type": "code",
   "execution_count": 22,
   "metadata": {
    "colab": {
     "base_uri": "https://localhost:8080/"
    },
    "executionInfo": {
     "elapsed": 9545,
     "status": "ok",
     "timestamp": 1674699717477,
     "user": {
      "displayName": "이정구",
      "userId": "10412141110999311561"
     },
     "user_tz": -540
    },
    "id": "OF30PuZsAxQJ",
    "outputId": "e008ed50-406d-4590-a72d-511501729bc1"
   },
   "outputs": [
    {
     "name": "stdout",
     "output_type": "stream",
     "text": [
      "Loss = 0.09629\n",
      "Accuracy = 0.82667\n"
     ]
    }
   ],
   "source": [
    "loss, accuracy = model.evaluate(test_generator,\n",
    "                                steps = 150, \n",
    "                                verbose = 0)\n",
    "\n",
    "print('Loss = {:.5f}'.format(loss))\n",
    "print('Accuracy = {:.5f}'.format(accuracy))"
   ]
  },
  {
   "cell_type": "markdown",
   "metadata": {
    "id": "sN48I9GrLxOX"
   },
   "source": [
    "# \n",
    "# \n",
    "# \n",
    "# The End\n",
    "# \n",
    "# \n",
    "# "
   ]
  }
 ],
 "metadata": {
  "accelerator": "GPU",
  "colab": {
   "provenance": []
  },
  "gpuClass": "standard",
  "kernelspec": {
   "display_name": "Python 3 (ipykernel)",
   "language": "python",
   "name": "python3"
  },
  "language_info": {
   "codemirror_mode": {
    "name": "ipython",
    "version": 3
   },
   "file_extension": ".py",
   "mimetype": "text/x-python",
   "name": "python",
   "nbconvert_exporter": "python",
   "pygments_lexer": "ipython3",
   "version": "3.10.8"
  },
  "toc": {
   "base_numbering": 1,
   "nav_menu": {},
   "number_sections": true,
   "sideBar": true,
   "skip_h1_title": false,
   "title_cell": "Table of Contents",
   "title_sidebar": "Contents",
   "toc_cell": false,
   "toc_position": {},
   "toc_section_display": true,
   "toc_window_display": false
  }
 },
 "nbformat": 4,
 "nbformat_minor": 1
}
