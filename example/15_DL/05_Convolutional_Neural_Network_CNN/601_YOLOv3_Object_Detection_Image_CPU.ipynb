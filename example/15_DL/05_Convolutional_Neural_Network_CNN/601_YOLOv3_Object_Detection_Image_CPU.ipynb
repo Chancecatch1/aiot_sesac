{
 "cells": [
  {
   "cell_type": "markdown",
   "metadata": {
    "id": "J3rVwhkohFQr"
   },
   "source": [
    "# YOLOv3 Object Detection\n",
    "\n",
    "> ## Image"
   ]
  },
  {
   "cell_type": "markdown",
   "metadata": {
    "id": "wEjQ3_3R_TWm"
   },
   "source": [
    "# <font color = 'blue'>OpenCV Version Issue"
   ]
  },
  {
   "cell_type": "markdown",
   "metadata": {
    "id": "F69XmL5qeXMq"
   },
   "source": [
    "* Colab - <font color = 'red'>2022.10.XX\n",
    " - opencv-contrib-python         4.6.0.66\n",
    " - opencv-python                 4.6.0.66\n",
    " - opencv-python-headless        4.6.0.66"
   ]
  },
  {
   "cell_type": "markdown",
   "metadata": {
    "id": "TdQVbpk_Ag6b"
   },
   "source": [
    "> ## 1) OpenCV Version Check"
   ]
  },
  {
   "cell_type": "code",
   "execution_count": null,
   "metadata": {},
   "outputs": [],
   "source": [
    "!pip install opencv-python"
   ]
  },
  {
   "cell_type": "markdown",
   "metadata": {
    "id": "QVVaNp0jAlA_"
   },
   "source": [
    "> ## 2) 4.6.0 Version Remove"
   ]
  },
  {
   "cell_type": "code",
   "execution_count": 2,
   "metadata": {
    "colab": {
     "base_uri": "https://localhost:8080/"
    },
    "executionInfo": {
     "elapsed": 2628,
     "status": "ok",
     "timestamp": 1675149954865,
     "user": {
      "displayName": "이정구",
      "userId": "10412141110999311561"
     },
     "user_tz": -540
    },
    "id": "HwXxMgTHeev4",
    "outputId": "59b4eb59-9866-49de-96d8-4a2a726f7680"
   },
   "outputs": [
    {
     "name": "stdout",
     "output_type": "stream",
     "text": [
      "Found existing installation: opencv-contrib-python 4.6.0.66\n",
      "Uninstalling opencv-contrib-python-4.6.0.66:\n",
      "  Successfully uninstalled opencv-contrib-python-4.6.0.66\n"
     ]
    }
   ],
   "source": [
    "# !pip uninstall -y opencv-contrib-python"
   ]
  },
  {
   "cell_type": "code",
   "execution_count": 3,
   "metadata": {
    "colab": {
     "base_uri": "https://localhost:8080/"
    },
    "executionInfo": {
     "elapsed": 1373,
     "status": "ok",
     "timestamp": 1675149959409,
     "user": {
      "displayName": "이정구",
      "userId": "10412141110999311561"
     },
     "user_tz": -540
    },
    "id": "2K-mxfCkemrd",
    "outputId": "918b7010-ecbd-475e-d661-814599723990"
   },
   "outputs": [
    {
     "name": "stdout",
     "output_type": "stream",
     "text": [
      "Found existing installation: opencv-python 4.6.0.66\n",
      "Uninstalling opencv-python-4.6.0.66:\n",
      "  Successfully uninstalled opencv-python-4.6.0.66\n"
     ]
    }
   ],
   "source": [
    "# !pip uninstall -y opencv-python"
   ]
  },
  {
   "cell_type": "code",
   "execution_count": 4,
   "metadata": {
    "colab": {
     "base_uri": "https://localhost:8080/"
    },
    "executionInfo": {
     "elapsed": 900,
     "status": "ok",
     "timestamp": 1675149962292,
     "user": {
      "displayName": "이정구",
      "userId": "10412141110999311561"
     },
     "user_tz": -540
    },
    "id": "OvmA_ilAeuTh",
    "outputId": "b8390ce4-4d12-4785-9aa7-e07262b63506"
   },
   "outputs": [
    {
     "name": "stdout",
     "output_type": "stream",
     "text": [
      "Found existing installation: opencv-python-headless 4.7.0.68\n",
      "Uninstalling opencv-python-headless-4.7.0.68:\n",
      "  Successfully uninstalled opencv-python-headless-4.7.0.68\n"
     ]
    }
   ],
   "source": [
    "# !pip uninstall -y opencv-python-headless"
   ]
  },
  {
   "cell_type": "markdown",
   "metadata": {
    "id": "CH52F5WWArFZ"
   },
   "source": [
    "> ## 3) 4.1.2 Version Installation"
   ]
  },
  {
   "cell_type": "code",
   "execution_count": 2,
   "metadata": {
    "colab": {
     "base_uri": "https://localhost:8080/"
    },
    "executionInfo": {
     "elapsed": 8258,
     "status": "ok",
     "timestamp": 1675149973626,
     "user": {
      "displayName": "이정구",
      "userId": "10412141110999311561"
     },
     "user_tz": -540
    },
    "id": "edbWlmese9Fj",
    "outputId": "fc564354-63e3-4384-8f93-49853180a6d2"
   },
   "outputs": [
    {
     "name": "stderr",
     "output_type": "stream",
     "text": [
      "WARNING: Ignoring invalid distribution -pencv-python-headless (c:\\users\\sbauser\\appdata\\roaming\\python\\python310\\site-packages)\n",
      "WARNING: Ignoring invalid distribution -pencv-python-headless (c:\\users\\sbauser\\appdata\\roaming\\python\\python310\\site-packages)\n",
      "ERROR: Could not find a version that satisfies the requirement opencv-python==4.1.2.30 (from versions: 3.4.0.14, 3.4.10.37, 3.4.11.39, 3.4.11.41, 3.4.11.43, 3.4.11.45, 3.4.13.47, 3.4.15.55, 3.4.16.57, 3.4.16.59, 3.4.17.61, 3.4.17.63, 3.4.18.65, 4.3.0.38, 4.4.0.40, 4.4.0.42, 4.4.0.44, 4.4.0.46, 4.5.1.48, 4.5.3.56, 4.5.4.58, 4.5.4.60, 4.5.5.62, 4.5.5.64, 4.6.0.66, 4.7.0.68)\n",
      "ERROR: No matching distribution found for opencv-python==4.1.2.30\n",
      "WARNING: Ignoring invalid distribution -pencv-python-headless (c:\\users\\sbauser\\appdata\\roaming\\python\\python310\\site-packages)\n",
      "WARNING: Ignoring invalid distribution -pencv-python-headless (c:\\users\\sbauser\\appdata\\roaming\\python\\python310\\site-packages)\n",
      "WARNING: Ignoring invalid distribution -pencv-python-headless (c:\\users\\sbauser\\appdata\\roaming\\python\\python310\\site-packages)\n",
      "\n",
      "[notice] A new release of pip available: 22.2.2 -> 22.3.1\n",
      "[notice] To update, run: python.exe -m pip install --upgrade pip\n"
     ]
    }
   ],
   "source": [
    "!pip install opencv-python==4.1.2.30"
   ]
  },
  {
   "cell_type": "code",
   "execution_count": 3,
   "metadata": {
    "colab": {
     "base_uri": "https://localhost:8080/"
    },
    "executionInfo": {
     "elapsed": 8683,
     "status": "ok",
     "timestamp": 1675149987389,
     "user": {
      "displayName": "이정구",
      "userId": "10412141110999311561"
     },
     "user_tz": -540
    },
    "id": "ZXZh-VwbfIZQ",
    "outputId": "b2f136be-8a9d-4ac7-833b-876cbb524d5d"
   },
   "outputs": [
    {
     "name": "stdout",
     "output_type": "stream",
     "text": [
      "Requirement already satisfied: pip in c:\\users\\sbauser\\appdata\\local\\programs\\python\\python310\\lib\\site-packages (22.2.2)\n",
      "Collecting install\n",
      "  Downloading install-1.3.5-py3-none-any.whl (3.2 kB)\n"
     ]
    },
    {
     "name": "stderr",
     "output_type": "stream",
     "text": [
      "WARNING: Ignoring invalid distribution -pencv-python-headless (c:\\users\\sbauser\\appdata\\roaming\\python\\python310\\site-packages)\n",
      "WARNING: Ignoring invalid distribution -pencv-python-headless (c:\\users\\sbauser\\appdata\\roaming\\python\\python310\\site-packages)\n",
      "ERROR: Could not find a version that satisfies the requirement opencv-contrib-python==4.1.2.30 (from versions: 3.4.11.45, 3.4.13.47, 3.4.14.51, 3.4.15.55, 3.4.16.59, 3.4.17.61, 3.4.17.63, 3.4.18.65, 4.4.0.46, 4.5.1.48, 4.5.2.52, 4.5.3.56, 4.5.4.58, 4.5.4.60, 4.5.5.62, 4.5.5.64, 4.6.0.66, 4.7.0.68)\n",
      "ERROR: No matching distribution found for opencv-contrib-python==4.1.2.30\n",
      "WARNING: Ignoring invalid distribution -pencv-python-headless (c:\\users\\sbauser\\appdata\\roaming\\python\\python310\\site-packages)\n",
      "WARNING: Ignoring invalid distribution -pencv-python-headless (c:\\users\\sbauser\\appdata\\roaming\\python\\python310\\site-packages)\n",
      "WARNING: Ignoring invalid distribution -pencv-python-headless (c:\\users\\sbauser\\appdata\\roaming\\python\\python310\\site-packages)\n",
      "\n",
      "[notice] A new release of pip available: 22.2.2 -> 22.3.1\n",
      "[notice] To update, run: python.exe -m pip install --upgrade pip\n"
     ]
    }
   ],
   "source": [
    "!pip install pip install opencv-contrib-python==4.1.2.30"
   ]
  },
  {
   "cell_type": "markdown",
   "metadata": {
    "id": "hg5568KEJFqe"
   },
   "source": [
    "> ## 4) <font color = 'red'>4.1.2 버전 설치 후 '**런타임 다시 시작**'</font>\n",
    "\n",
    "* 런타임 강제 종료 후 다시 시작"
   ]
  },
  {
   "cell_type": "code",
   "execution_count": null,
   "metadata": {
    "id": "tOEwoWIRIFEd"
   },
   "outputs": [],
   "source": [
    "import os\n",
    "\n",
    "os.kill(os.getpid(), 9)"
   ]
  },
  {
   "cell_type": "markdown",
   "metadata": {
    "id": "8N4xXIwwBHTx"
   },
   "source": [
    "> ## 5) Import OpenCV Package"
   ]
  },
  {
   "cell_type": "code",
   "execution_count": 1,
   "metadata": {
    "colab": {
     "base_uri": "https://localhost:8080/",
     "height": 35
    },
    "executionInfo": {
     "elapsed": 24,
     "status": "ok",
     "timestamp": 1675149999125,
     "user": {
      "displayName": "이정구",
      "userId": "10412141110999311561"
     },
     "user_tz": -540
    },
    "id": "rdiJcZl2fZia",
    "outputId": "9d22fc9f-81e3-4d51-e2b9-a6b04e940610"
   },
   "outputs": [
    {
     "data": {
      "text/plain": [
       "'4.6.0'"
      ]
     },
     "execution_count": 1,
     "metadata": {},
     "output_type": "execute_result"
    }
   ],
   "source": [
    "import cv2\n",
    "\n",
    "cv2.__version__"
   ]
  },
  {
   "cell_type": "code",
   "execution_count": 2,
   "metadata": {
    "executionInfo": {
     "elapsed": 11,
     "status": "ok",
     "timestamp": 1675150002504,
     "user": {
      "displayName": "이정구",
      "userId": "10412141110999311561"
     },
     "user_tz": -540
    },
    "id": "RbPgODpVzdHI"
   },
   "outputs": [],
   "source": [
    "import warnings\n",
    "warnings.filterwarnings('ignore')"
   ]
  },
  {
   "cell_type": "markdown",
   "metadata": {
    "id": "6d1FeKK1CgqG"
   },
   "source": [
    "# I. wget From Github\n",
    "* 'testImage.jpeg' 파일 다운로드"
   ]
  },
  {
   "cell_type": "code",
   "execution_count": 3,
   "metadata": {
    "colab": {
     "base_uri": "https://localhost:8080/"
    },
    "executionInfo": {
     "elapsed": 282,
     "status": "ok",
     "timestamp": 1675150006121,
     "user": {
      "displayName": "이정구",
      "userId": "10412141110999311561"
     },
     "user_tz": -540
    },
    "id": "f32hYtuOh4F4",
    "outputId": "d635db7d-6ee3-4e40-94a3-357e44050788"
   },
   "outputs": [
    {
     "name": "stdout",
     "output_type": "stream",
     "text": [
      "--2023-01-31 07:26:45--  https://raw.githubusercontent.com/rusita-ai/pyData/master/testImage.jpeg\n",
      "Resolving raw.githubusercontent.com (raw.githubusercontent.com)... 185.199.108.133, 185.199.110.133, 185.199.109.133, ...\n",
      "Connecting to raw.githubusercontent.com (raw.githubusercontent.com)|185.199.108.133|:443... connected.\n",
      "HTTP request sent, awaiting response... 200 OK\n",
      "Length: 160514 (157K) [image/jpeg]\n",
      "Saving to: ‘testImage.jpeg’\n",
      "\n",
      "\r",
      "testImage.jpeg        0%[                    ]       0  --.-KB/s               \r",
      "testImage.jpeg      100%[===================>] 156.75K  --.-KB/s    in 0.02s   \n",
      "\n",
      "2023-01-31 07:26:45 (6.31 MB/s) - ‘testImage.jpeg’ saved [160514/160514]\n",
      "\n"
     ]
    }
   ],
   "source": [
    "# !wget https://raw.githubusercontent.com/rusita-ai/pyData/master/testImage.jpeg"
   ]
  },
  {
   "cell_type": "markdown",
   "metadata": {
    "id": "0g0cVjOFqCfp"
   },
   "source": [
    "* 확인"
   ]
  },
  {
   "cell_type": "code",
   "execution_count": 4,
   "metadata": {
    "colab": {
     "base_uri": "https://localhost:8080/"
    },
    "executionInfo": {
     "elapsed": 293,
     "status": "ok",
     "timestamp": 1675150009281,
     "user": {
      "displayName": "이정구",
      "userId": "10412141110999311561"
     },
     "user_tz": -540
    },
    "id": "ZAA_YjrVExu7",
    "outputId": "53560000-5353-4364-fe59-3ed3d788d1f4"
   },
   "outputs": [
    {
     "name": "stdout",
     "output_type": "stream",
     "text": [
      "-rw-r--r-- 1 root root 160514 Jan 31 07:26 testImage.jpeg\n"
     ]
    }
   ],
   "source": [
    "# !ls -l testImage.jpeg"
   ]
  },
  {
   "cell_type": "markdown",
   "metadata": {
    "id": "UHcLZP0BinYk"
   },
   "source": [
    "# I. YOLOv3 Weight Download"
   ]
  },
  {
   "cell_type": "markdown",
   "metadata": {
    "id": "9M6VbS0Ai3pE"
   },
   "source": [
    "## 1) 'yolov3.weights' \n"
   ]
  },
  {
   "cell_type": "code",
   "execution_count": 5,
   "metadata": {
    "colab": {
     "base_uri": "https://localhost:8080/"
    },
    "executionInfo": {
     "elapsed": 4761,
     "status": "ok",
     "timestamp": 1675150016898,
     "user": {
      "displayName": "이정구",
      "userId": "10412141110999311561"
     },
     "user_tz": -540
    },
    "id": "62ib6zdMHCqH",
    "outputId": "8f8b698a-c5c1-4474-faf0-b58080fcd6af"
   },
   "outputs": [
    {
     "data": {
      "text/plain": [
       "('yolov3.weights', <http.client.HTTPMessage at 0x7f2d92477e80>)"
      ]
     },
     "execution_count": 5,
     "metadata": {},
     "output_type": "execute_result"
    }
   ],
   "source": [
    "from urllib.request import urlretrieve\n",
    "\n",
    "urlretrieve('https://pjreddie.com/media/files/yolov3.weights','yolov3.weights')"
   ]
  },
  {
   "cell_type": "markdown",
   "metadata": {
    "id": "Mm6yvq0ajK1J"
   },
   "source": [
    "## 2) 'yolov3-tiny.weights'"
   ]
  },
  {
   "cell_type": "code",
   "execution_count": 6,
   "metadata": {
    "colab": {
     "base_uri": "https://localhost:8080/"
    },
    "executionInfo": {
     "elapsed": 1335,
     "status": "ok",
     "timestamp": 1675150033234,
     "user": {
      "displayName": "이정구",
      "userId": "10412141110999311561"
     },
     "user_tz": -540
    },
    "id": "-FgV-lYvJ1px",
    "outputId": "58b6fd22-4d52-41ec-cb9a-e4109b6ebcfe"
   },
   "outputs": [
    {
     "data": {
      "text/plain": [
       "('yolov3-tiny.weights', <http.client.HTTPMessage at 0x7f2d850cf040>)"
      ]
     },
     "execution_count": 6,
     "metadata": {},
     "output_type": "execute_result"
    }
   ],
   "source": [
    "from urllib.request import urlretrieve\n",
    "\n",
    "urlretrieve('https://pjreddie.com/media/files/yolov3-tiny.weights','yolov3-tiny.weights')"
   ]
  },
  {
   "cell_type": "markdown",
   "metadata": {
    "id": "DWe3W8EJjUro"
   },
   "source": [
    "# II. darknet Clone\n",
    "\n",
    "* yolov3.cfg\n",
    "* yolov3-tiny.cfg\n",
    "* coco.names"
   ]
  },
  {
   "cell_type": "code",
   "execution_count": 3,
   "metadata": {
    "colab": {
     "base_uri": "https://localhost:8080/"
    },
    "executionInfo": {
     "elapsed": 1692,
     "status": "ok",
     "timestamp": 1675150037892,
     "user": {
      "displayName": "이정구",
      "userId": "10412141110999311561"
     },
     "user_tz": -540
    },
    "id": "HmA4aGlZHuuJ",
    "outputId": "520df7f0-e446-4446-b14b-9a811ec01607"
   },
   "outputs": [
    {
     "name": "stderr",
     "output_type": "stream",
     "text": [
      "Cloning into 'darknet'...\n"
     ]
    }
   ],
   "source": [
    "!git clone https://github.com/pjreddie/darknet.git"
   ]
  },
  {
   "cell_type": "markdown",
   "metadata": {
    "id": "hnTUc2zRkDm_"
   },
   "source": [
    "## 1) 'yolov3.cfg'"
   ]
  },
  {
   "cell_type": "code",
   "execution_count": 4,
   "metadata": {
    "colab": {
     "base_uri": "https://localhost:8080/"
    },
    "executionInfo": {
     "elapsed": 357,
     "status": "ok",
     "timestamp": 1675150040391,
     "user": {
      "displayName": "이정구",
      "userId": "10412141110999311561"
     },
     "user_tz": -540
    },
    "id": "cpDuGNYtj-Gm",
    "outputId": "fda3589c-9988-4854-847e-d258889fd945"
   },
   "outputs": [
    {
     "name": "stderr",
     "output_type": "stream",
     "text": [
      "'cat'은(는) 내부 또는 외부 명령, 실행할 수 있는 프로그램, 또는\n",
      "배치 파일이 아닙니다.\n"
     ]
    }
   ],
   "source": [
    "# !cat darknet/cfg/yolov3.cfg"
   ]
  },
  {
   "cell_type": "markdown",
   "metadata": {
    "id": "JuwLK_A5kKjb"
   },
   "source": [
    "## 2) 'yolov3-tiny.cfg'"
   ]
  },
  {
   "cell_type": "code",
   "execution_count": 9,
   "metadata": {
    "colab": {
     "base_uri": "https://localhost:8080/"
    },
    "executionInfo": {
     "elapsed": 269,
     "status": "ok",
     "timestamp": 1675150043903,
     "user": {
      "displayName": "이정구",
      "userId": "10412141110999311561"
     },
     "user_tz": -540
    },
    "id": "5LcextopkSUo",
    "outputId": "8d133f29-fac4-41d9-fb9d-e4e55d5a0043"
   },
   "outputs": [
    {
     "name": "stdout",
     "output_type": "stream",
     "text": [
      "[net]\n",
      "# Testing\n",
      "batch=1\n",
      "subdivisions=1\n",
      "# Training\n",
      "# batch=64\n",
      "# subdivisions=2\n",
      "width=416\n",
      "height=416\n",
      "channels=3\n",
      "momentum=0.9\n",
      "decay=0.0005\n",
      "angle=0\n",
      "saturation = 1.5\n",
      "exposure = 1.5\n",
      "hue=.1\n",
      "\n",
      "learning_rate=0.001\n",
      "burn_in=1000\n",
      "max_batches = 500200\n",
      "policy=steps\n",
      "steps=400000,450000\n",
      "scales=.1,.1\n",
      "\n",
      "[convolutional]\n",
      "batch_normalize=1\n",
      "filters=16\n",
      "size=3\n",
      "stride=1\n",
      "pad=1\n",
      "activation=leaky\n",
      "\n",
      "[maxpool]\n",
      "size=2\n",
      "stride=2\n",
      "\n",
      "[convolutional]\n",
      "batch_normalize=1\n",
      "filters=32\n",
      "size=3\n",
      "stride=1\n",
      "pad=1\n",
      "activation=leaky\n",
      "\n",
      "[maxpool]\n",
      "size=2\n",
      "stride=2\n",
      "\n",
      "[convolutional]\n",
      "batch_normalize=1\n",
      "filters=64\n",
      "size=3\n",
      "stride=1\n",
      "pad=1\n",
      "activation=leaky\n",
      "\n",
      "[maxpool]\n",
      "size=2\n",
      "stride=2\n",
      "\n",
      "[convolutional]\n",
      "batch_normalize=1\n",
      "filters=128\n",
      "size=3\n",
      "stride=1\n",
      "pad=1\n",
      "activation=leaky\n",
      "\n",
      "[maxpool]\n",
      "size=2\n",
      "stride=2\n",
      "\n",
      "[convolutional]\n",
      "batch_normalize=1\n",
      "filters=256\n",
      "size=3\n",
      "stride=1\n",
      "pad=1\n",
      "activation=leaky\n",
      "\n",
      "[maxpool]\n",
      "size=2\n",
      "stride=2\n",
      "\n",
      "[convolutional]\n",
      "batch_normalize=1\n",
      "filters=512\n",
      "size=3\n",
      "stride=1\n",
      "pad=1\n",
      "activation=leaky\n",
      "\n",
      "[maxpool]\n",
      "size=2\n",
      "stride=1\n",
      "\n",
      "[convolutional]\n",
      "batch_normalize=1\n",
      "filters=1024\n",
      "size=3\n",
      "stride=1\n",
      "pad=1\n",
      "activation=leaky\n",
      "\n",
      "###########\n",
      "\n",
      "[convolutional]\n",
      "batch_normalize=1\n",
      "filters=256\n",
      "size=1\n",
      "stride=1\n",
      "pad=1\n",
      "activation=leaky\n",
      "\n",
      "[convolutional]\n",
      "batch_normalize=1\n",
      "filters=512\n",
      "size=3\n",
      "stride=1\n",
      "pad=1\n",
      "activation=leaky\n",
      "\n",
      "[convolutional]\n",
      "size=1\n",
      "stride=1\n",
      "pad=1\n",
      "filters=255\n",
      "activation=linear\n",
      "\n",
      "\n",
      "\n",
      "[yolo]\n",
      "mask = 3,4,5\n",
      "anchors = 10,14,  23,27,  37,58,  81,82,  135,169,  344,319\n",
      "classes=80\n",
      "num=6\n",
      "jitter=.3\n",
      "ignore_thresh = .7\n",
      "truth_thresh = 1\n",
      "random=1\n",
      "\n",
      "[route]\n",
      "layers = -4\n",
      "\n",
      "[convolutional]\n",
      "batch_normalize=1\n",
      "filters=128\n",
      "size=1\n",
      "stride=1\n",
      "pad=1\n",
      "activation=leaky\n",
      "\n",
      "[upsample]\n",
      "stride=2\n",
      "\n",
      "[route]\n",
      "layers = -1, 8\n",
      "\n",
      "[convolutional]\n",
      "batch_normalize=1\n",
      "filters=256\n",
      "size=3\n",
      "stride=1\n",
      "pad=1\n",
      "activation=leaky\n",
      "\n",
      "[convolutional]\n",
      "size=1\n",
      "stride=1\n",
      "pad=1\n",
      "filters=255\n",
      "activation=linear\n",
      "\n",
      "[yolo]\n",
      "mask = 0,1,2\n",
      "anchors = 10,14,  23,27,  37,58,  81,82,  135,169,  344,319\n",
      "classes=80\n",
      "num=6\n",
      "jitter=.3\n",
      "ignore_thresh = .7\n",
      "truth_thresh = 1\n",
      "random=1\n"
     ]
    }
   ],
   "source": [
    "# !cat darknet/cfg/yolov3-tiny.cfg"
   ]
  },
  {
   "cell_type": "markdown",
   "metadata": {
    "id": "gxqWPYKikavM"
   },
   "source": [
    "## 3) 'coco.names'\n",
    "\n",
    "* 80가지 객체"
   ]
  },
  {
   "cell_type": "code",
   "execution_count": 10,
   "metadata": {
    "colab": {
     "base_uri": "https://localhost:8080/"
    },
    "executionInfo": {
     "elapsed": 280,
     "status": "ok",
     "timestamp": 1675150049115,
     "user": {
      "displayName": "이정구",
      "userId": "10412141110999311561"
     },
     "user_tz": -540
    },
    "id": "uSv7-r9xkfNd",
    "outputId": "4184291d-7cbb-4699-d16f-ccb26363c408"
   },
   "outputs": [
    {
     "name": "stdout",
     "output_type": "stream",
     "text": [
      "person\n",
      "bicycle\n",
      "car\n",
      "motorbike\n",
      "aeroplane\n",
      "bus\n",
      "train\n",
      "truck\n",
      "boat\n",
      "traffic light\n",
      "fire hydrant\n",
      "stop sign\n",
      "parking meter\n",
      "bench\n",
      "bird\n",
      "cat\n",
      "dog\n",
      "horse\n",
      "sheep\n",
      "cow\n",
      "elephant\n",
      "bear\n",
      "zebra\n",
      "giraffe\n",
      "backpack\n",
      "umbrella\n",
      "handbag\n",
      "tie\n",
      "suitcase\n",
      "frisbee\n",
      "skis\n",
      "snowboard\n",
      "sports ball\n",
      "kite\n",
      "baseball bat\n",
      "baseball glove\n",
      "skateboard\n",
      "surfboard\n",
      "tennis racket\n",
      "bottle\n",
      "wine glass\n",
      "cup\n",
      "fork\n",
      "knife\n",
      "spoon\n",
      "bowl\n",
      "banana\n",
      "apple\n",
      "sandwich\n",
      "orange\n",
      "broccoli\n",
      "carrot\n",
      "hot dog\n",
      "pizza\n",
      "donut\n",
      "cake\n",
      "chair\n",
      "sofa\n",
      "pottedplant\n",
      "bed\n",
      "diningtable\n",
      "toilet\n",
      "tvmonitor\n",
      "laptop\n",
      "mouse\n",
      "remote\n",
      "keyboard\n",
      "cell phone\n",
      "microwave\n",
      "oven\n",
      "toaster\n",
      "sink\n",
      "refrigerator\n",
      "book\n",
      "clock\n",
      "vase\n",
      "scissors\n",
      "teddy bear\n",
      "hair drier\n",
      "toothbrush\n"
     ]
    }
   ],
   "source": [
    "# !cat darknet/data/coco.names"
   ]
  },
  {
   "cell_type": "markdown",
   "metadata": {
    "id": "Jn0eb3RclKW3"
   },
   "source": [
    "# III. Image"
   ]
  },
  {
   "cell_type": "markdown",
   "metadata": {
    "id": "3n_8NUKBllzq"
   },
   "source": [
    "## 1) Import Packages"
   ]
  },
  {
   "cell_type": "code",
   "execution_count": 2,
   "metadata": {
    "executionInfo": {
     "elapsed": 256,
     "status": "ok",
     "timestamp": 1675150085694,
     "user": {
      "displayName": "이정구",
      "userId": "10412141110999311561"
     },
     "user_tz": -540
    },
    "id": "H7QgRGIQJmg6"
   },
   "outputs": [],
   "source": [
    "# from google.colab.patches import cv2_imshow\n",
    "# from IPython.display import Image\n",
    "import cv2\n",
    "\n",
    "import numpy as np"
   ]
  },
  {
   "cell_type": "markdown",
   "metadata": {
    "id": "mVaOcvBulx8n"
   },
   "source": [
    "## 2) 'Detection' 최소 신뢰도(확률) 지정"
   ]
  },
  {
   "cell_type": "code",
   "execution_count": 8,
   "metadata": {
    "executionInfo": {
     "elapsed": 273,
     "status": "ok",
     "timestamp": 1675150088612,
     "user": {
      "displayName": "이정구",
      "userId": "10412141110999311561"
     },
     "user_tz": -540
    },
    "id": "jopFOz39JmmO"
   },
   "outputs": [],
   "source": [
    "min_confidence = 0.5"
   ]
  },
  {
   "cell_type": "code",
   "execution_count": 14,
   "metadata": {},
   "outputs": [
    {
     "data": {
      "text/plain": [
       "'C:\\\\Users\\\\SBAUser\\\\PycharmProjects\\\\SESAC_AIoT\\\\example\\\\15_DL\\\\05_Convolutional_Neural_Network_CNN'"
      ]
     },
     "execution_count": 14,
     "metadata": {},
     "output_type": "execute_result"
    }
   ],
   "source": [
    "pwd"
   ]
  },
  {
   "cell_type": "markdown",
   "metadata": {
    "id": "DMP7a94Il6eL"
   },
   "source": [
    "## 3) Load YOLOv3"
   ]
  },
  {
   "cell_type": "code",
   "execution_count": 5,
   "metadata": {
    "executionInfo": {
     "elapsed": 644,
     "status": "ok",
     "timestamp": 1675150092266,
     "user": {
      "displayName": "이정구",
      "userId": "10412141110999311561"
     },
     "user_tz": -540
    },
    "id": "bBZvsB3tJmos"
   },
   "outputs": [],
   "source": [
    "net = cv2.dnn.readNet('./../../../secret/example_data/15_DL/YOLOv3/yolov3.weights', './../../../secret/example_data/15_DL/YOLOv3/darknet/cfg/yolov3.cfg')\n",
    "# net = cv2.dnn.readNet('yolov3-tiny.weights', 'darknet/cfg/yolov3-tiny.cfg')\n",
    "\n",
    "# Detection된 Object(Class) List 배열 정의\n",
    "classes = []   \n",
    "\n",
    "# 80개의 Object(class)를 구분할 수 있는 Object의 이름을 classes 배열에 넣어준다.\n",
    "with open('./../../../secret/example_data/15_DL/YOLOv3/darknet/data/coco.names', 'r') as f:\n",
    "   classes = [line.strip() for line in f.readlines()]   \n",
    "\n",
    "layer_names = net.getLayerNames()\n",
    "# print(layer_names)\n",
    "# print(layer_names[0])\n",
    "# print(layer_names[0][0])\n",
    "output_layers = [layer_names[i - 1] for i in net.getUnconnectedOutLayers()]\n",
    "\n",
    "# # Object 마다 컬러를 하나씩 다르게 지정\n",
    "colors = np.random.uniform(0, 255, size=(len(classes), 3))  "
   ]
  },
  {
   "cell_type": "markdown",
   "metadata": {
    "id": "kXaa6FFNmShH"
   },
   "source": [
    "## 4) 원본 Image"
   ]
  },
  {
   "cell_type": "code",
   "execution_count": 3,
   "metadata": {
    "colab": {
     "base_uri": "https://localhost:8080/",
     "height": 486
    },
    "executionInfo": {
     "elapsed": 1499,
     "status": "ok",
     "timestamp": 1675150110221,
     "user": {
      "displayName": "이정구",
      "userId": "10412141110999311561"
     },
     "user_tz": -540
    },
    "id": "fPhxbB9zJmrA",
    "outputId": "f7cfc6b1-e131-47df-e936-ab96aceb9461"
   },
   "outputs": [],
   "source": [
    "img = cv2.imread('./../../../secret/example_data/15_DL/YOLOv3/testImage.jpeg')\n",
    "img = cv2.resize(img, None, fx = 0.8, fy = 0.8)\n",
    "\n",
    "height, width, channels = img.shape\n",
    "\n",
    "# cv2_imshow(img)\n",
    "cv2.imshow('test', img)\n",
    "cv2.waitKey(0)\n",
    "cv2.destroyAllWindows()"
   ]
  },
  {
   "cell_type": "markdown",
   "metadata": {
    "id": "LaO8U0RNO_7_"
   },
   "source": [
    "## 5) Image Object Detection"
   ]
  },
  {
   "cell_type": "markdown",
   "metadata": {
    "id": "4kDbsaVuf1Zk"
   },
   "source": [
    "* Object Detection"
   ]
  },
  {
   "cell_type": "code",
   "execution_count": 6,
   "metadata": {
    "executionInfo": {
     "elapsed": 2785,
     "status": "ok",
     "timestamp": 1675150117081,
     "user": {
      "displayName": "이정구",
      "userId": "10412141110999311561"
     },
     "user_tz": -540
    },
    "id": "Oq700ZeeTc_r"
   },
   "outputs": [],
   "source": [
    "blob = cv2.dnn.blobFromImage(img, 0.00392, (416, 416), (0, 0, 0), True, crop = False)\n",
    "\n",
    "net.setInput(blob)\n",
    "\n",
    "outs = net.forward(output_layers)  "
   ]
  },
  {
   "cell_type": "markdown",
   "metadata": {
    "id": "SDXM_O6-f6va"
   },
   "source": [
    "* Showing Informations"
   ]
  },
  {
   "cell_type": "code",
   "execution_count": 9,
   "metadata": {
    "executionInfo": {
     "elapsed": 298,
     "status": "ok",
     "timestamp": 1675150121507,
     "user": {
      "displayName": "이정구",
      "userId": "10412141110999311561"
     },
     "user_tz": -540
    },
    "id": "_sMmWxFpTdHs"
   },
   "outputs": [],
   "source": [
    "class_ids = []     # Detection Class_ID 저장\n",
    "confidences = []   # Detection Class_신뢰도(확률) 저장\n",
    "boxes = []         # Detection Boxing_정보 저장\n",
    "\n",
    "for out in outs:\n",
    "    for detection in out:\n",
    "        scores = detection[5:]\n",
    "        class_id = np.argmax(scores)    # Detected Class_ID\n",
    "        confidence = scores[class_id]   # Detected Class_신뢰도(확률)\n",
    "\n",
    "        if confidence > min_confidence:  \n",
    "            # Object Detected\n",
    "            center_x = int(detection[0] * width)\n",
    "            center_y = int(detection[1] * height)\n",
    "            w = int(detection[2] * width)\n",
    "            h = int(detection[3] * height)\n",
    "\n",
    "            # Rectangle Coordinates\n",
    "            x = int(center_x - w / 2)\n",
    "            y = int(center_y - h / 2)\n",
    "\n",
    "            boxes.append([x, y, w, h])             # Boxing_정보 추가\n",
    "            confidences.append(float(confidence))  # 신뢰도(확률) 추가\n",
    "            class_ids.append(class_id)             # Class_ID 추가"
   ]
  },
  {
   "cell_type": "code",
   "execution_count": 11,
   "metadata": {
    "colab": {
     "base_uri": "https://localhost:8080/",
     "height": 633
    },
    "executionInfo": {
     "elapsed": 1330,
     "status": "ok",
     "timestamp": 1675150125448,
     "user": {
      "displayName": "이정구",
      "userId": "10412141110999311561"
     },
     "user_tz": -540
    },
    "id": "8dB8-_JrfgHV",
    "outputId": "f26f9eee-8727-43bb-ff94-3d80ce8c0d04"
   },
   "outputs": [
    {
     "name": "stdout",
     "output_type": "stream",
     "text": [
      "7 car\n",
      "10 car\n",
      "11 person\n",
      "13 car\n",
      "22 car\n",
      "24 car\n",
      "27 car\n",
      "28 bicycle\n"
     ]
    }
   ],
   "source": [
    "indexes = cv2.dnn.NMSBoxes(boxes, confidences, min_confidence, 0.4)\n",
    "\n",
    "font = cv2.FONT_HERSHEY_PLAIN\n",
    "\n",
    "for i in range(len(boxes)):\n",
    "    if i in indexes:    \n",
    "        x, y, w, h = boxes[i]\n",
    "        label = str(classes[class_ids[i]]) \n",
    "        print(i, label)\n",
    "        color = colors[i]\n",
    "        cv2.rectangle(img, (x, y), (x + w, y + h), color, 1)\n",
    "        cv2.rectangle(img, (x, y - 20), (x + w, y), color, -1)\n",
    "        cv2.putText(img, label, (x + 5, y - 5), font, 1, (255, 255, 255), 1)\n",
    "\n",
    "cv2.imshow('test', img)\n",
    "cv2.waitKey(0)\n",
    "cv2.destroyAllWindows()"
   ]
  },
  {
   "cell_type": "markdown",
   "metadata": {
    "id": "iOKdUH7uev_y"
   },
   "source": [
    "# \n",
    "# \n",
    "# \n",
    "# The End\n",
    "# \n",
    "# \n",
    "# "
   ]
  }
 ],
 "metadata": {
  "colab": {
   "provenance": []
  },
  "kernelspec": {
   "display_name": "Python 3 (ipykernel)",
   "language": "python",
   "name": "python3"
  },
  "language_info": {
   "codemirror_mode": {
    "name": "ipython",
    "version": 3
   },
   "file_extension": ".py",
   "mimetype": "text/x-python",
   "name": "python",
   "nbconvert_exporter": "python",
   "pygments_lexer": "ipython3",
   "version": "3.10.8"
  },
  "toc": {
   "base_numbering": 1,
   "nav_menu": {},
   "number_sections": true,
   "sideBar": true,
   "skip_h1_title": false,
   "title_cell": "Table of Contents",
   "title_sidebar": "Contents",
   "toc_cell": false,
   "toc_position": {},
   "toc_section_display": true,
   "toc_window_display": false
  }
 },
 "nbformat": 4,
 "nbformat_minor": 1
}
