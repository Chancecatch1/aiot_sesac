{
 "cells": [
  {
   "cell_type": "markdown",
   "metadata": {
    "id": "q2Pr7oBdYLdf"
   },
   "source": [
    "# 이미지 데이터 셋을 이용한 CNN Modeling\n",
    "## Animals Dataset Categorical Classification\n",
    "* Train_Data : 5000\n",
    "* Valid_Data : 3000\n",
    "* Test_Data : 3000"
   ]
  },
  {
   "cell_type": "code",
   "execution_count": 1,
   "metadata": {
    "executionInfo": {
     "elapsed": 11,
     "status": "ok",
     "timestamp": 1674696678793,
     "user": {
      "displayName": "이정구",
      "userId": "10412141110999311561"
     },
     "user_tz": -540
    },
    "id": "RbPgODpVzdHI"
   },
   "outputs": [],
   "source": [
    "import warnings\n",
    "warnings.filterwarnings('ignore')"
   ]
  },
  {
   "cell_type": "markdown",
   "metadata": {
    "id": "kGLxnpmRyMwH"
   },
   "source": [
    "* Import TensorFlow"
   ]
  },
  {
   "cell_type": "code",
   "execution_count": 2,
   "metadata": {
    "colab": {
     "base_uri": "https://localhost:8080/",
     "height": 35
    },
    "executionInfo": {
     "elapsed": 3871,
     "status": "ok",
     "timestamp": 1674696682656,
     "user": {
      "displayName": "이정구",
      "userId": "10412141110999311561"
     },
     "user_tz": -540
    },
    "id": "axDX2DfUyPlO",
    "outputId": "f3ab2661-0254-45c4-f5c7-c324280591a1"
   },
   "outputs": [
    {
     "data": {
      "text/plain": [
       "'2.10.0'"
      ]
     },
     "execution_count": 2,
     "metadata": {},
     "output_type": "execute_result"
    }
   ],
   "source": [
    "import tensorflow as tf\n",
    "\n",
    "tf.__version__"
   ]
  },
  {
   "cell_type": "markdown",
   "metadata": {
    "id": "6d1FeKK1CgqG"
   },
   "source": [
    "# I. wget From Github"
   ]
  },
  {
   "cell_type": "markdown",
   "metadata": {
    "id": "aQ-o8xUHpG7-"
   },
   "source": [
    "> ## 1) 'animals_part.zip' 파일 다운로드"
   ]
  },
  {
   "cell_type": "code",
   "execution_count": 3,
   "metadata": {
    "colab": {
     "base_uri": "https://localhost:8080/"
    },
    "executionInfo": {
     "elapsed": 1234,
     "status": "ok",
     "timestamp": 1674696683880,
     "user": {
      "displayName": "이정구",
      "userId": "10412141110999311561"
     },
     "user_tz": -540
    },
    "id": "f32hYtuOh4F4",
    "outputId": "553b4ec6-ed6f-4ad9-99c6-81b4ca9a5f85"
   },
   "outputs": [
    {
     "name": "stdout",
     "output_type": "stream",
     "text": [
      "--2023-01-26 01:31:22--  https://raw.githubusercontent.com/rusita-ai/pyData/master/animals_part.zip\n",
      "Resolving raw.githubusercontent.com (raw.githubusercontent.com)... 185.199.108.133, 185.199.109.133, 185.199.110.133, ...\n",
      "Connecting to raw.githubusercontent.com (raw.githubusercontent.com)|185.199.108.133|:443... connected.\n",
      "HTTP request sent, awaiting response... 200 OK\n",
      "Length: 88551715 (84M) [application/zip]\n",
      "Saving to: ‘animals_part.zip’\n",
      "\n",
      "animals_part.zip    100%[===================>]  84.45M   195MB/s    in 0.4s    \n",
      "\n",
      "2023-01-26 01:31:23 (195 MB/s) - ‘animals_part.zip’ saved [88551715/88551715]\n",
      "\n"
     ]
    }
   ],
   "source": [
    "# !wget https://raw.githubusercontent.com/rusita-ai/pyData/master/animals_part.zip"
   ]
  },
  {
   "cell_type": "code",
   "execution_count": 4,
   "metadata": {
    "colab": {
     "base_uri": "https://localhost:8080/"
    },
    "executionInfo": {
     "elapsed": 1996,
     "status": "ok",
     "timestamp": 1674696685865,
     "user": {
      "displayName": "이정구",
      "userId": "10412141110999311561"
     },
     "user_tz": -540
    },
    "id": "oj5vN21So2mn",
    "outputId": "c722fe90-97ab-4627-db47-361da431caaf"
   },
   "outputs": [
    {
     "name": "stdout",
     "output_type": "stream",
     "text": [
      "--2023-01-26 01:31:23--  https://raw.githubusercontent.com/rusita-ai/pyData/master/animals_part.z01\n",
      "Resolving raw.githubusercontent.com (raw.githubusercontent.com)... 185.199.108.133, 185.199.109.133, 185.199.110.133, ...\n",
      "Connecting to raw.githubusercontent.com (raw.githubusercontent.com)|185.199.108.133|:443... connected.\n",
      "HTTP request sent, awaiting response... 200 OK\n",
      "Length: 94371840 (90M) [application/octet-stream]\n",
      "Saving to: ‘animals_part.z01’\n",
      "\n",
      "animals_part.z01    100%[===================>]  90.00M   113MB/s    in 0.8s    \n",
      "\n",
      "2023-01-26 01:31:25 (113 MB/s) - ‘animals_part.z01’ saved [94371840/94371840]\n",
      "\n"
     ]
    }
   ],
   "source": [
    "# !wget https://raw.githubusercontent.com/rusita-ai/pyData/master/animals_part.z01"
   ]
  },
  {
   "cell_type": "code",
   "execution_count": 5,
   "metadata": {
    "colab": {
     "base_uri": "https://localhost:8080/"
    },
    "executionInfo": {
     "elapsed": 1394,
     "status": "ok",
     "timestamp": 1674696687251,
     "user": {
      "displayName": "이정구",
      "userId": "10412141110999311561"
     },
     "user_tz": -540
    },
    "id": "8nHuGz1Oo2Ye",
    "outputId": "09056586-2d72-45f2-d6f1-97591ffeb387"
   },
   "outputs": [
    {
     "name": "stdout",
     "output_type": "stream",
     "text": [
      "--2023-01-26 01:31:25--  https://raw.githubusercontent.com/rusita-ai/pyData/master/animals_part.z02\n",
      "Resolving raw.githubusercontent.com (raw.githubusercontent.com)... 185.199.108.133, 185.199.109.133, 185.199.110.133, ...\n",
      "Connecting to raw.githubusercontent.com (raw.githubusercontent.com)|185.199.108.133|:443... connected.\n",
      "HTTP request sent, awaiting response... 200 OK\n",
      "Length: 94371840 (90M) [application/octet-stream]\n",
      "Saving to: ‘animals_part.z02’\n",
      "\n",
      "animals_part.z02    100%[===================>]  90.00M   163MB/s    in 0.6s    \n",
      "\n",
      "2023-01-26 01:31:26 (163 MB/s) - ‘animals_part.z02’ saved [94371840/94371840]\n",
      "\n"
     ]
    }
   ],
   "source": [
    "# !wget https://raw.githubusercontent.com/rusita-ai/pyData/master/animals_part.z02"
   ]
  },
  {
   "cell_type": "markdown",
   "metadata": {
    "id": "rBrMKlsgEvV7"
   },
   "source": [
    "* 다운로드 결과 확인"
   ]
  },
  {
   "cell_type": "code",
   "execution_count": 6,
   "metadata": {
    "colab": {
     "base_uri": "https://localhost:8080/"
    },
    "executionInfo": {
     "elapsed": 47,
     "status": "ok",
     "timestamp": 1674696687252,
     "user": {
      "displayName": "이정구",
      "userId": "10412141110999311561"
     },
     "user_tz": -540
    },
    "id": "ZAA_YjrVExu7",
    "outputId": "627e7de9-afed-453f-ce7a-2a6be59e9ce3"
   },
   "outputs": [
    {
     "name": "stdout",
     "output_type": "stream",
     "text": [
      "total 270804\n",
      "-rw-r--r-- 1 root root 94371840 Jan 26 01:31 animals_part.z01\n",
      "-rw-r--r-- 1 root root 94371840 Jan 26 01:31 animals_part.z02\n",
      "-rw-r--r-- 1 root root 88551715 Jan 26 01:31 animals_part.zip\n",
      "drwxr-xr-x 1 root root     4096 Jan 24 14:38 sample_data\n"
     ]
    }
   ],
   "source": [
    "# !ls -l"
   ]
  },
  {
   "cell_type": "markdown",
   "metadata": {
    "id": "LpDYRNy9pS72"
   },
   "source": [
    "> ## 2) 분할된 파일 합치기"
   ]
  },
  {
   "cell_type": "code",
   "execution_count": 7,
   "metadata": {
    "executionInfo": {
     "elapsed": 1123,
     "status": "ok",
     "timestamp": 1674696688359,
     "user": {
      "displayName": "이정구",
      "userId": "10412141110999311561"
     },
     "user_tz": -540
    },
    "id": "oObuOlWgc8X7"
   },
   "outputs": [],
   "source": [
    "# !zip -Fq animals_part.zip --out animals.zip"
   ]
  },
  {
   "cell_type": "markdown",
   "metadata": {
    "id": "2RJG0f3npnju"
   },
   "source": [
    "* 'animals.zip' 생성 확인"
   ]
  },
  {
   "cell_type": "code",
   "execution_count": 8,
   "metadata": {
    "colab": {
     "base_uri": "https://localhost:8080/"
    },
    "executionInfo": {
     "elapsed": 452,
     "status": "ok",
     "timestamp": 1674696688805,
     "user": {
      "displayName": "이정구",
      "userId": "10412141110999311561"
     },
     "user_tz": -540
    },
    "id": "0QoV9boXpsL1",
    "outputId": "c884f5e0-34f0-4cfd-8e3f-3b8aa70a72a1"
   },
   "outputs": [
    {
     "name": "stdout",
     "output_type": "stream",
     "text": [
      "total 541604\n",
      "-rw-r--r-- 1 root root  94371840 Jan 26 01:31 animals_part.z01\n",
      "-rw-r--r-- 1 root root  94371840 Jan 26 01:31 animals_part.z02\n",
      "-rw-r--r-- 1 root root  88551715 Jan 26 01:31 animals_part.zip\n",
      "-rw-r--r-- 1 root root 277295391 Jan 26 01:31 animals.zip\n",
      "drwxr-xr-x 1 root root      4096 Jan 24 14:38 sample_data\n"
     ]
    }
   ],
   "source": [
    "# !ls -l"
   ]
  },
  {
   "cell_type": "markdown",
   "metadata": {
    "id": "1DyFdyVxFyHK"
   },
   "source": [
    "# II. Data Preprocessing"
   ]
  },
  {
   "cell_type": "markdown",
   "metadata": {
    "id": "D9zdBsGKnLUo"
   },
   "source": [
    "> ## 1) Unzip 'animals.zip'"
   ]
  },
  {
   "cell_type": "code",
   "execution_count": 9,
   "metadata": {
    "executionInfo": {
     "elapsed": 6206,
     "status": "ok",
     "timestamp": 1674696695004,
     "user": {
      "displayName": "이정구",
      "userId": "10412141110999311561"
     },
     "user_tz": -540
    },
    "id": "WkuHaDXcnUtY"
   },
   "outputs": [],
   "source": [
    "# !unzip -q /content/animals.zip"
   ]
  },
  {
   "cell_type": "markdown",
   "metadata": {
    "id": "nYRGJ9bpp4pF"
   },
   "source": [
    "* 학습 데이터 확인"
   ]
  },
  {
   "cell_type": "code",
   "execution_count": 10,
   "metadata": {
    "colab": {
     "base_uri": "https://localhost:8080/"
    },
    "executionInfo": {
     "elapsed": 22,
     "status": "ok",
     "timestamp": 1674696695004,
     "user": {
      "displayName": "이정구",
      "userId": "10412141110999311561"
     },
     "user_tz": -540
    },
    "id": "FdQBGRJTp0MV",
    "outputId": "6e1851e5-f714-46c1-d665-933a85f7e1ae"
   },
   "outputs": [
    {
     "name": "stdout",
     "output_type": "stream",
     "text": [
      "total 12\n",
      "drwxr-xr-x 12 root root 4096 Oct 25 13:50 test\n",
      "drwxr-xr-x 12 root root 4096 Oct 25 13:50 train\n",
      "drwxr-xr-x 12 root root 4096 Oct 25 13:50 validation\n"
     ]
    }
   ],
   "source": [
    "# !ls -l animals/"
   ]
  },
  {
   "cell_type": "markdown",
   "metadata": {
    "id": "H49A769LYp-a"
   },
   "source": [
    "> ## 2) Image_File Directory Setting"
   ]
  },
  {
   "cell_type": "markdown",
   "metadata": {
    "id": "fwUMpMCYGB7Z"
   },
   "source": [
    "* train_dir\n",
    "* valid_dir\n",
    "* test_dir"
   ]
  },
  {
   "cell_type": "code",
   "execution_count": 3,
   "metadata": {
    "executionInfo": {
     "elapsed": 17,
     "status": "ok",
     "timestamp": 1674696695005,
     "user": {
      "displayName": "이정구",
      "userId": "10412141110999311561"
     },
     "user_tz": -540
    },
    "id": "DxstjE8b_6Te"
   },
   "outputs": [],
   "source": [
    "train_dir = './../../../secret/example_data/15_DL/animals/train'\n",
    "valid_dir = './../../../secret/example_data/15_DL/animals/validation'\n",
    "test_dir  = './../../../secret/example_data/15_DL/animals/test'"
   ]
  },
  {
   "cell_type": "markdown",
   "metadata": {
    "id": "Mk9XL5vGHor6"
   },
   "source": [
    "> ## 3) ImageDataGenerator( ) & flow_from_directory( )"
   ]
  },
  {
   "cell_type": "markdown",
   "metadata": {
    "id": "_UbiVo2EGlOt"
   },
   "source": [
    "* Normalization\n",
    " * ImageDataGenerator( )\n",
    "* Resizing & Generator\n",
    " * flow_from_directory( )"
   ]
  },
  {
   "cell_type": "code",
   "execution_count": 4,
   "metadata": {
    "colab": {
     "base_uri": "https://localhost:8080/"
    },
    "executionInfo": {
     "elapsed": 1059,
     "status": "ok",
     "timestamp": 1674696696047,
     "user": {
      "displayName": "이정구",
      "userId": "10412141110999311561"
     },
     "user_tz": -540
    },
    "id": "eC48Oym3Ao8E",
    "outputId": "4d8786e0-703e-47c3-ae0a-2a155ff22030"
   },
   "outputs": [
    {
     "name": "stdout",
     "output_type": "stream",
     "text": [
      "Found 5000 images belonging to 10 classes.\n",
      "Found 3000 images belonging to 10 classes.\n"
     ]
    }
   ],
   "source": [
    "from tensorflow.keras.preprocessing.image import ImageDataGenerator\n",
    "\n",
    "# With Augmentation\n",
    "train_datagen = ImageDataGenerator(rescale = 1./255,\n",
    "                                   rotation_range = 40,\n",
    "                                   width_shift_range = 0.2,\n",
    "                                   height_shift_range = 0.2,\n",
    "                                   shear_range = 0.2,\n",
    "                                   zoom_range = 0.2,\n",
    "                                   horizontal_flip = True,\n",
    "                                   vertical_flip = True,\n",
    "                                   fill_mode = 'nearest')\n",
    "\n",
    "# With Augmentation\n",
    "train_generator = train_datagen.flow_from_directory(\n",
    "                  train_dir,\n",
    "                  target_size = (150, 150),\n",
    "                  batch_size = 20,\n",
    "                  class_mode = 'categorical')\n",
    "\n",
    "# Without Augmentation\n",
    "valid_datagen = ImageDataGenerator(rescale = 1./255)\n",
    "\n",
    "# Without Augmentation\n",
    "valid_generator = valid_datagen.flow_from_directory(\n",
    "                  valid_dir,\n",
    "                  target_size = (150, 150),\n",
    "                  batch_size = 20,\n",
    "                  class_mode = 'categorical')"
   ]
  },
  {
   "cell_type": "markdown",
   "metadata": {
    "id": "vCpCB_giJbZr"
   },
   "source": [
    "> ## 4) Test train_generator"
   ]
  },
  {
   "cell_type": "code",
   "execution_count": 5,
   "metadata": {
    "colab": {
     "base_uri": "https://localhost:8080/"
    },
    "executionInfo": {
     "elapsed": 683,
     "status": "ok",
     "timestamp": 1674696696723,
     "user": {
      "displayName": "이정구",
      "userId": "10412141110999311561"
     },
     "user_tz": -540
    },
    "id": "NW5rHWtcJnTq",
    "outputId": "46f37b81-cbe1-45e2-b408-35e95c2461a4"
   },
   "outputs": [
    {
     "name": "stdout",
     "output_type": "stream",
     "text": [
      "배치 데이터 크기: (20, 150, 150, 3)\n",
      "배치 레이블 크기: (20, 10)\n"
     ]
    }
   ],
   "source": [
    "for data_batch, labels_batch in train_generator:\n",
    "    print('배치 데이터 크기:', data_batch.shape)\n",
    "    print('배치 레이블 크기:', labels_batch.shape)\n",
    "    break"
   ]
  },
  {
   "cell_type": "code",
   "execution_count": 6,
   "metadata": {
    "colab": {
     "base_uri": "https://localhost:8080/"
    },
    "executionInfo": {
     "elapsed": 6,
     "status": "ok",
     "timestamp": 1674696696723,
     "user": {
      "displayName": "이정구",
      "userId": "10412141110999311561"
     },
     "user_tz": -540
    },
    "id": "VnTocUr6YgKa",
    "outputId": "2f27e44c-919b-4076-e384-63c62fa13a9e"
   },
   "outputs": [
    {
     "data": {
      "text/plain": [
       "array([[0., 0., 1., 0., 0., 0., 0., 0., 0., 0.],\n",
       "       [0., 0., 0., 0., 0., 0., 0., 0., 0., 1.],\n",
       "       [0., 1., 0., 0., 0., 0., 0., 0., 0., 0.],\n",
       "       [0., 0., 1., 0., 0., 0., 0., 0., 0., 0.],\n",
       "       [0., 0., 0., 0., 0., 0., 0., 0., 0., 1.],\n",
       "       [0., 0., 0., 0., 0., 0., 0., 1., 0., 0.],\n",
       "       [0., 0., 0., 0., 1., 0., 0., 0., 0., 0.],\n",
       "       [0., 0., 0., 0., 1., 0., 0., 0., 0., 0.],\n",
       "       [0., 0., 0., 0., 1., 0., 0., 0., 0., 0.],\n",
       "       [0., 0., 0., 0., 0., 0., 0., 0., 1., 0.],\n",
       "       [0., 1., 0., 0., 0., 0., 0., 0., 0., 0.],\n",
       "       [1., 0., 0., 0., 0., 0., 0., 0., 0., 0.],\n",
       "       [0., 0., 0., 0., 0., 1., 0., 0., 0., 0.],\n",
       "       [0., 0., 1., 0., 0., 0., 0., 0., 0., 0.],\n",
       "       [0., 0., 0., 0., 0., 1., 0., 0., 0., 0.],\n",
       "       [0., 0., 0., 0., 0., 0., 0., 0., 1., 0.],\n",
       "       [0., 0., 0., 0., 1., 0., 0., 0., 0., 0.],\n",
       "       [0., 0., 0., 0., 0., 0., 0., 0., 0., 1.],\n",
       "       [0., 0., 0., 0., 0., 0., 1., 0., 0., 0.],\n",
       "       [0., 1., 0., 0., 0., 0., 0., 0., 0., 0.]], dtype=float32)"
      ]
     },
     "execution_count": 6,
     "metadata": {},
     "output_type": "execute_result"
    }
   ],
   "source": [
    "labels_batch"
   ]
  },
  {
   "cell_type": "markdown",
   "metadata": {
    "id": "NTwZiSjiop3v"
   },
   "source": [
    "# III. CNN Keras Modeling"
   ]
  },
  {
   "cell_type": "markdown",
   "metadata": {
    "id": "j5CT0TurJCkc"
   },
   "source": [
    "> ## 1) Model Define"
   ]
  },
  {
   "cell_type": "markdown",
   "metadata": {
    "id": "ydDCl0jTJD58"
   },
   "source": [
    "* Feature Extraction & Classification"
   ]
  },
  {
   "cell_type": "code",
   "execution_count": 15,
   "metadata": {
    "executionInfo": {
     "elapsed": 4078,
     "status": "ok",
     "timestamp": 1674696700798,
     "user": {
      "displayName": "이정구",
      "userId": "10412141110999311561"
     },
     "user_tz": -540
    },
    "id": "II0DskRdAcHS"
   },
   "outputs": [],
   "source": [
    "from tensorflow.keras import layers\n",
    "from tensorflow.keras import models\n",
    "\n",
    "model = models.Sequential()\n",
    "\n",
    "model.add(layers.Conv2D(32, (3, 3), activation = 'relu', input_shape = (150, 150, 3)))\n",
    "model.add(layers.MaxPooling2D((2, 2)))\n",
    "\n",
    "model.add(layers.Conv2D(64, (3, 3), activation = 'relu'))\n",
    "model.add(layers.MaxPooling2D((2, 2)))\n",
    "\n",
    "model.add(layers.Conv2D(128, (3, 3), activation = 'relu'))\n",
    "model.add(layers.MaxPooling2D((2, 2)))\n",
    "\n",
    "model.add(layers.Flatten())\n",
    "model.add(layers.Dropout(0.5))\n",
    "\n",
    "model.add(layers.Dense(512, activation = 'relu'))\n",
    "model.add(layers.Dense(10, activation = 'softmax'))"
   ]
  },
  {
   "cell_type": "code",
   "execution_count": 16,
   "metadata": {
    "colab": {
     "base_uri": "https://localhost:8080/"
    },
    "executionInfo": {
     "elapsed": 25,
     "status": "ok",
     "timestamp": 1674696700799,
     "user": {
      "displayName": "이정구",
      "userId": "10412141110999311561"
     },
     "user_tz": -540
    },
    "id": "wbtjOA4XMTUd",
    "outputId": "5d8158e7-54da-4bf2-d0a0-b1cd0afa6c64"
   },
   "outputs": [
    {
     "name": "stdout",
     "output_type": "stream",
     "text": [
      "Model: \"sequential\"\n",
      "_________________________________________________________________\n",
      " Layer (type)                Output Shape              Param #   \n",
      "=================================================================\n",
      " conv2d (Conv2D)             (None, 148, 148, 32)      896       \n",
      "                                                                 \n",
      " max_pooling2d (MaxPooling2D  (None, 74, 74, 32)       0         \n",
      " )                                                               \n",
      "                                                                 \n",
      " conv2d_1 (Conv2D)           (None, 72, 72, 64)        18496     \n",
      "                                                                 \n",
      " max_pooling2d_1 (MaxPooling  (None, 36, 36, 64)       0         \n",
      " 2D)                                                             \n",
      "                                                                 \n",
      " conv2d_2 (Conv2D)           (None, 34, 34, 128)       73856     \n",
      "                                                                 \n",
      " max_pooling2d_2 (MaxPooling  (None, 17, 17, 128)      0         \n",
      " 2D)                                                             \n",
      "                                                                 \n",
      " flatten (Flatten)           (None, 36992)             0         \n",
      "                                                                 \n",
      " dropout (Dropout)           (None, 36992)             0         \n",
      "                                                                 \n",
      " dense (Dense)               (None, 512)               18940416  \n",
      "                                                                 \n",
      " dense_1 (Dense)             (None, 10)                5130      \n",
      "                                                                 \n",
      "=================================================================\n",
      "Total params: 19,038,794\n",
      "Trainable params: 19,038,794\n",
      "Non-trainable params: 0\n",
      "_________________________________________________________________\n"
     ]
    }
   ],
   "source": [
    "model.summary()"
   ]
  },
  {
   "cell_type": "markdown",
   "metadata": {
    "id": "tpjBDBeYoyuj"
   },
   "source": [
    "> ## 2) Model Compile"
   ]
  },
  {
   "cell_type": "markdown",
   "metadata": {
    "id": "f3sxkQa0JoUr"
   },
   "source": [
    "* 모델 학습방법 설정"
   ]
  },
  {
   "cell_type": "code",
   "execution_count": 17,
   "metadata": {
    "executionInfo": {
     "elapsed": 6,
     "status": "ok",
     "timestamp": 1674696700799,
     "user": {
      "displayName": "이정구",
      "userId": "10412141110999311561"
     },
     "user_tz": -540
    },
    "id": "AyK_t1qwAi6M"
   },
   "outputs": [],
   "source": [
    "model.compile(loss = 'categorical_crossentropy',\n",
    "              optimizer = 'adam',\n",
    "              metrics = ['accuracy'])"
   ]
  },
  {
   "cell_type": "markdown",
   "metadata": {
    "id": "umiq4B-Xo3OB"
   },
   "source": [
    "> ## 3) Model Fit"
   ]
  },
  {
   "cell_type": "markdown",
   "metadata": {
    "id": "1KuXREziKMD1"
   },
   "source": [
    "* 약 25분"
   ]
  },
  {
   "cell_type": "code",
   "execution_count": 18,
   "metadata": {
    "colab": {
     "base_uri": "https://localhost:8080/"
    },
    "executionInfo": {
     "elapsed": 1245862,
     "status": "ok",
     "timestamp": 1674697946656,
     "user": {
      "displayName": "이정구",
      "userId": "10412141110999311561"
     },
     "user_tz": -540
    },
    "id": "zxwqwAqRAqRP",
    "outputId": "60e20e75-5729-460f-98cc-9fad78d895db"
   },
   "outputs": [
    {
     "name": "stdout",
     "output_type": "stream",
     "text": [
      "Epoch 1/30\n",
      "250/250 [==============================] - 49s 162ms/step - loss: 2.2327 - accuracy: 0.1594 - val_loss: 2.2725 - val_accuracy: 0.2000\n",
      "Epoch 2/30\n",
      "250/250 [==============================] - 41s 165ms/step - loss: 2.0809 - accuracy: 0.2386 - val_loss: 1.9000 - val_accuracy: 0.3107\n",
      "Epoch 3/30\n",
      "250/250 [==============================] - 40s 162ms/step - loss: 1.9721 - accuracy: 0.2850 - val_loss: 2.0117 - val_accuracy: 0.2690\n",
      "Epoch 4/30\n",
      "250/250 [==============================] - 40s 158ms/step - loss: 1.9023 - accuracy: 0.3072 - val_loss: 2.0051 - val_accuracy: 0.2780\n",
      "Epoch 5/30\n",
      "250/250 [==============================] - 40s 158ms/step - loss: 1.8302 - accuracy: 0.3348 - val_loss: 1.9022 - val_accuracy: 0.3177\n",
      "Epoch 6/30\n",
      "250/250 [==============================] - 39s 158ms/step - loss: 1.7710 - accuracy: 0.3558 - val_loss: 1.7837 - val_accuracy: 0.3520\n",
      "Epoch 7/30\n",
      "250/250 [==============================] - 39s 158ms/step - loss: 1.7053 - accuracy: 0.3820 - val_loss: 1.8299 - val_accuracy: 0.3717\n",
      "Epoch 8/30\n",
      "250/250 [==============================] - 42s 166ms/step - loss: 1.6842 - accuracy: 0.3922 - val_loss: 1.7081 - val_accuracy: 0.3910\n",
      "Epoch 9/30\n",
      "250/250 [==============================] - 40s 159ms/step - loss: 1.6406 - accuracy: 0.4122 - val_loss: 1.6839 - val_accuracy: 0.4007\n",
      "Epoch 10/30\n",
      "250/250 [==============================] - 40s 158ms/step - loss: 1.6063 - accuracy: 0.4174 - val_loss: 1.6501 - val_accuracy: 0.4217\n",
      "Epoch 11/30\n",
      "250/250 [==============================] - 39s 157ms/step - loss: 1.5617 - accuracy: 0.4446 - val_loss: 1.6150 - val_accuracy: 0.4250\n",
      "Epoch 12/30\n",
      "250/250 [==============================] - 42s 166ms/step - loss: 1.5539 - accuracy: 0.4444 - val_loss: 1.8512 - val_accuracy: 0.4110\n",
      "Epoch 13/30\n",
      "250/250 [==============================] - 40s 158ms/step - loss: 1.5102 - accuracy: 0.4628 - val_loss: 1.5847 - val_accuracy: 0.4470\n",
      "Epoch 14/30\n",
      "250/250 [==============================] - 40s 158ms/step - loss: 1.4859 - accuracy: 0.4736 - val_loss: 1.7197 - val_accuracy: 0.4127\n",
      "Epoch 15/30\n",
      "250/250 [==============================] - 39s 157ms/step - loss: 1.4514 - accuracy: 0.4852 - val_loss: 1.5234 - val_accuracy: 0.4673\n",
      "Epoch 16/30\n",
      "250/250 [==============================] - 40s 159ms/step - loss: 1.4476 - accuracy: 0.4822 - val_loss: 1.6281 - val_accuracy: 0.4467\n",
      "Epoch 17/30\n",
      "250/250 [==============================] - 39s 156ms/step - loss: 1.4198 - accuracy: 0.4894 - val_loss: 1.5226 - val_accuracy: 0.4663\n",
      "Epoch 18/30\n",
      "250/250 [==============================] - 41s 164ms/step - loss: 1.4161 - accuracy: 0.4948 - val_loss: 1.4580 - val_accuracy: 0.5037\n",
      "Epoch 19/30\n",
      "250/250 [==============================] - 39s 157ms/step - loss: 1.3813 - accuracy: 0.5092 - val_loss: 1.4056 - val_accuracy: 0.5117\n",
      "Epoch 20/30\n",
      "250/250 [==============================] - 39s 158ms/step - loss: 1.3463 - accuracy: 0.5192 - val_loss: 1.5536 - val_accuracy: 0.4660\n",
      "Epoch 21/30\n",
      "250/250 [==============================] - 39s 157ms/step - loss: 1.3567 - accuracy: 0.5230 - val_loss: 1.5862 - val_accuracy: 0.4650\n",
      "Epoch 22/30\n",
      "250/250 [==============================] - 39s 157ms/step - loss: 1.3460 - accuracy: 0.5310 - val_loss: 1.4852 - val_accuracy: 0.4760\n",
      "Epoch 23/30\n",
      "250/250 [==============================] - 39s 157ms/step - loss: 1.3119 - accuracy: 0.5334 - val_loss: 1.5978 - val_accuracy: 0.4667\n",
      "Epoch 24/30\n",
      "250/250 [==============================] - 41s 164ms/step - loss: 1.3254 - accuracy: 0.5290 - val_loss: 1.5190 - val_accuracy: 0.4977\n",
      "Epoch 25/30\n",
      "250/250 [==============================] - 39s 156ms/step - loss: 1.2836 - accuracy: 0.5434 - val_loss: 1.5710 - val_accuracy: 0.4783\n",
      "Epoch 26/30\n",
      "250/250 [==============================] - 39s 157ms/step - loss: 1.2997 - accuracy: 0.5334 - val_loss: 1.4719 - val_accuracy: 0.5063\n",
      "Epoch 27/30\n",
      "250/250 [==============================] - 39s 156ms/step - loss: 1.2629 - accuracy: 0.5428 - val_loss: 1.3869 - val_accuracy: 0.5233\n",
      "Epoch 28/30\n",
      "250/250 [==============================] - 39s 157ms/step - loss: 1.2726 - accuracy: 0.5506 - val_loss: 1.5926 - val_accuracy: 0.4970\n",
      "Epoch 29/30\n",
      "250/250 [==============================] - 41s 164ms/step - loss: 1.2644 - accuracy: 0.5328 - val_loss: 1.3579 - val_accuracy: 0.5397\n",
      "Epoch 30/30\n",
      "250/250 [==============================] - 39s 157ms/step - loss: 1.2492 - accuracy: 0.5548 - val_loss: 1.3908 - val_accuracy: 0.5330\n",
      "CPU times: user 22min 26s, sys: 22.1 s, total: 22min 48s\n",
      "Wall time: 20min 45s\n"
     ]
    }
   ],
   "source": [
    "# %%time\n",
    "\n",
    "Hist_animal = model.fit(train_generator,\n",
    "                        steps_per_epoch = 250,\n",
    "                        epochs = 30,\n",
    "                        validation_data = valid_generator,\n",
    "                        validation_steps = 150)"
   ]
  },
  {
   "cell_type": "markdown",
   "metadata": {
    "id": "FnnIyFtNKhbD"
   },
   "source": [
    "> ## 4) 학습 결과 시각화"
   ]
  },
  {
   "cell_type": "code",
   "execution_count": 19,
   "metadata": {
    "colab": {
     "base_uri": "https://localhost:8080/",
     "height": 350
    },
    "executionInfo": {
     "elapsed": 43,
     "status": "ok",
     "timestamp": 1674697946658,
     "user": {
      "displayName": "이정구",
      "userId": "10412141110999311561"
     },
     "user_tz": -540
    },
    "id": "BRIqZjTOWaN2",
    "outputId": "79ae987a-6acd-402b-d4b5-53d7ede6c5c1"
   },
   "outputs": [
    {
     "data": {
      "image/png": "[encoded data removed]",
      "text/plain": [
       "<Figure size 1080x360 with 2 Axes>"
      ]
     },
     "metadata": {
      "needs_background": "light"
     },
     "output_type": "display_data"
    }
   ],
   "source": [
    "import matplotlib.pyplot as plt\n",
    "\n",
    "epochs = range(1, len(Hist_animal.history['loss']) + 1)\n",
    "\n",
    "plt.figure(figsize = (15, 5))\n",
    "\n",
    "plt.subplot(1, 2, 1)\n",
    "plt.plot(epochs, Hist_animal.history['loss'], 'b-')\n",
    "plt.plot(epochs, Hist_animal.history['val_loss'], 'r--')\n",
    "plt.title('Training & Validation Loss')\n",
    "plt.xlabel('Epochs')\n",
    "plt.ylabel('Loss')\n",
    "plt.legend(['Training Loss', 'Validation Loss'])\n",
    "plt.grid()\n",
    "\n",
    "plt.subplot(1, 2, 2)\n",
    "plt.plot(epochs, Hist_animal.history['accuracy'], 'b-')\n",
    "plt.plot(epochs, Hist_animal.history['val_accuracy'], 'r--')\n",
    "plt.title('Training & Validation Accuracy')\n",
    "plt.xlabel('Epochs')\n",
    "plt.ylabel('Accuracy')\n",
    "plt.legend(['Training Accuracy', 'Validation Accuracy'])\n",
    "plt.grid()\n",
    "\n",
    "plt.show()"
   ]
  },
  {
   "cell_type": "markdown",
   "metadata": {
    "id": "_uJSOLBko7lh"
   },
   "source": [
    "> ## 5) Model Evaluate"
   ]
  },
  {
   "cell_type": "markdown",
   "metadata": {
    "id": "vqd33SF_RG3q"
   },
   "source": [
    "* test_generator"
   ]
  },
  {
   "cell_type": "code",
   "execution_count": 20,
   "metadata": {
    "colab": {
     "base_uri": "https://localhost:8080/"
    },
    "executionInfo": {
     "elapsed": 428,
     "status": "ok",
     "timestamp": 1674697947074,
     "user": {
      "displayName": "이정구",
      "userId": "10412141110999311561"
     },
     "user_tz": -540
    },
    "id": "2SZddYK7RLov",
    "outputId": "1d5acbfc-5199-415c-8670-574bdb5e7b39"
   },
   "outputs": [
    {
     "name": "stdout",
     "output_type": "stream",
     "text": [
      "Found 3000 images belonging to 10 classes.\n"
     ]
    }
   ],
   "source": [
    "test_datagen = ImageDataGenerator(rescale = 1./255)\n",
    "\n",
    "test_generator = test_datagen.flow_from_directory(\n",
    "                 test_dir,\n",
    "                 target_size = (150, 150),\n",
    "                 batch_size = 20,\n",
    "                 class_mode = 'categorical')"
   ]
  },
  {
   "cell_type": "markdown",
   "metadata": {
    "id": "i-TqAB2ALGzZ"
   },
   "source": [
    "* Loss & Accuracy"
   ]
  },
  {
   "cell_type": "code",
   "execution_count": 21,
   "metadata": {
    "colab": {
     "base_uri": "https://localhost:8080/"
    },
    "executionInfo": {
     "elapsed": 4572,
     "status": "ok",
     "timestamp": 1674697951642,
     "user": {
      "displayName": "이정구",
      "userId": "10412141110999311561"
     },
     "user_tz": -540
    },
    "id": "OF30PuZsAxQJ",
    "outputId": "2f01d745-bc5b-4aa1-80a9-acc294f2d214"
   },
   "outputs": [
    {
     "name": "stdout",
     "output_type": "stream",
     "text": [
      "Loss = 1.33760\n",
      "Accuracy = 0.52467\n"
     ]
    }
   ],
   "source": [
    "loss, accuracy = model.evaluate(test_generator,\n",
    "                                steps = 150, \n",
    "                                verbose = 0)\n",
    "\n",
    "print('Loss = {:.5f}'.format(loss))\n",
    "print('Accuracy = {:.5f}'.format(accuracy))"
   ]
  },
  {
   "cell_type": "markdown",
   "metadata": {
    "id": "sN48I9GrLxOX"
   },
   "source": [
    "# \n",
    "# \n",
    "# \n",
    "# The End\n",
    "# \n",
    "# \n",
    "# "
   ]
  }
 ],
 "metadata": {
  "accelerator": "GPU",
  "colab": {
   "provenance": []
  },
  "gpuClass": "standard",
  "kernelspec": {
   "display_name": "Python 3 (ipykernel)",
   "language": "python",
   "name": "python3"
  },
  "language_info": {
   "codemirror_mode": {
    "name": "ipython",
    "version": 3
   },
   "file_extension": ".py",
   "mimetype": "text/x-python",
   "name": "python",
   "nbconvert_exporter": "python",
   "pygments_lexer": "ipython3",
   "version": "3.10.8"
  },
  "toc": {
   "base_numbering": 1,
   "nav_menu": {},
   "number_sections": true,
   "sideBar": true,
   "skip_h1_title": false,
   "title_cell": "Table of Contents",
   "title_sidebar": "Contents",
   "toc_cell": false,
   "toc_position": {},
   "toc_section_display": true,
   "toc_window_display": false
  }
 },
 "nbformat": 4,
 "nbformat_minor": 1
}
