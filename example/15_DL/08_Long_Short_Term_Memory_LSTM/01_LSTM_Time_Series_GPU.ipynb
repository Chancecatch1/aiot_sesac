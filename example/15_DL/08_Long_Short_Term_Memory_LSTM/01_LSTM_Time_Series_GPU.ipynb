{
 "cells": [
  {
   "cell_type": "markdown",
   "metadata": {
    "id": "tVWs-arPN3ep"
   },
   "source": [
    "# LSTM - Time Serise Dataset\n",
    "\n",
    "* 서울시 기후 데이터 : 2011년 01월 01일 ~ 2019년 12월 31일\n",
    "* https://data.kma.go.kr/cmmn/main.do\n",
    "* 기후통계분석 -> 기온분석 -> 기간(20110101~20191231) -> 검색 -> CSV 다운로드\n",
    "* Seoul_Temp.csv"
   ]
  },
  {
   "cell_type": "code",
   "execution_count": 1,
   "metadata": {
    "executionInfo": {
     "elapsed": 4,
     "status": "ok",
     "timestamp": 1674695055059,
     "user": {
      "displayName": "이정구",
      "userId": "17400242557229223804"
     },
     "user_tz": -540
    },
    "id": "RbPgODpVzdHI"
   },
   "outputs": [],
   "source": [
    "import warnings\n",
    "warnings.filterwarnings('ignore')"
   ]
  },
  {
   "cell_type": "markdown",
   "metadata": {
    "id": "GqNGswL2W9uy"
   },
   "source": [
    "## Import Packages\n",
    "\n",
    "* Packages"
   ]
  },
  {
   "cell_type": "code",
   "execution_count": 2,
   "metadata": {
    "executionInfo": {
     "elapsed": 541,
     "status": "ok",
     "timestamp": 1674695055597,
     "user": {
      "displayName": "이정구",
      "userId": "17400242557229223804"
     },
     "user_tz": -540
    },
    "id": "qZiEyhyIHkXM"
   },
   "outputs": [],
   "source": [
    "import numpy as np\n",
    "import pandas as pd\n",
    "from matplotlib import pyplot as plt"
   ]
  },
  {
   "cell_type": "markdown",
   "metadata": {
    "id": "kFhvODmnXZU3"
   },
   "source": [
    "# I. Colab File Upload"
   ]
  },
  {
   "cell_type": "markdown",
   "metadata": {
    "id": "gvWefCeeU5aR"
   },
   "source": [
    "> ## 1) 'Seoul_Temp.csv' 파일을 Colab에 업로드 후 진행"
   ]
  },
  {
   "cell_type": "code",
   "execution_count": 3,
   "metadata": {
    "colab": {
     "base_uri": "https://localhost:8080/"
    },
    "executionInfo": {
     "elapsed": 671,
     "status": "ok",
     "timestamp": 1674695056264,
     "user": {
      "displayName": "이정구",
      "userId": "17400242557229223804"
     },
     "user_tz": -540
    },
    "id": "yanCl5HdHs35",
    "outputId": "cb58d6b3-154a-4eb8-d3cb-5ae6917a00b6"
   },
   "outputs": [
    {
     "name": "stdout",
     "output_type": "stream",
     "text": [
      "<class 'pandas.core.frame.DataFrame'>\n",
      "RangeIndex: 3287 entries, 0 to 3286\n",
      "Data columns (total 4 columns):\n",
      " #   Column  Non-Null Count  Dtype  \n",
      "---  ------  --------------  -----  \n",
      " 0   date    3287 non-null   object \n",
      " 1   avg     3287 non-null   float64\n",
      " 2   min     3287 non-null   float64\n",
      " 3   max     3287 non-null   float64\n",
      "dtypes: float64(3), object(1)\n",
      "memory usage: 102.8+ KB\n"
     ]
    }
   ],
   "source": [
    "url = 'https://raw.githubusercontent.com/rusita-ai/pyData/master/Seoul_Temp.csv'\n",
    "temp = pd.read_csv(url)\n",
    "\n",
    "temp.info()"
   ]
  },
  {
   "cell_type": "code",
   "execution_count": 4,
   "metadata": {
    "colab": {
     "base_uri": "https://localhost:8080/",
     "height": 206
    },
    "executionInfo": {
     "elapsed": 55,
     "status": "ok",
     "timestamp": 1674695056265,
     "user": {
      "displayName": "이정구",
      "userId": "17400242557229223804"
     },
     "user_tz": -540
    },
    "id": "bHNStYiTvE4Q",
    "outputId": "748a80c4-516b-4fb1-a960-8f6fa2c9e544"
   },
   "outputs": [
    {
     "data": {
      "text/html": [
       "<div>\n",
       "<style scoped>\n",
       "    .dataframe tbody tr th:only-of-type {\n",
       "        vertical-align: middle;\n",
       "    }\n",
       "\n",
       "    .dataframe tbody tr th {\n",
       "        vertical-align: top;\n",
       "    }\n",
       "\n",
       "    .dataframe thead th {\n",
       "        text-align: right;\n",
       "    }\n",
       "</style>\n",
       "<table border=\"1\" class=\"dataframe\">\n",
       "  <thead>\n",
       "    <tr style=\"text-align: right;\">\n",
       "      <th></th>\n",
       "      <th>date</th>\n",
       "      <th>avg</th>\n",
       "      <th>min</th>\n",
       "      <th>max</th>\n",
       "    </tr>\n",
       "  </thead>\n",
       "  <tbody>\n",
       "    <tr>\n",
       "      <th>0</th>\n",
       "      <td>2011-01-01</td>\n",
       "      <td>-6.8</td>\n",
       "      <td>-10.4</td>\n",
       "      <td>-2.9</td>\n",
       "    </tr>\n",
       "    <tr>\n",
       "      <th>1</th>\n",
       "      <td>2011-01-02</td>\n",
       "      <td>-5.4</td>\n",
       "      <td>-8.5</td>\n",
       "      <td>-1.2</td>\n",
       "    </tr>\n",
       "    <tr>\n",
       "      <th>2</th>\n",
       "      <td>2011-01-03</td>\n",
       "      <td>-4.5</td>\n",
       "      <td>-8.5</td>\n",
       "      <td>-0.3</td>\n",
       "    </tr>\n",
       "    <tr>\n",
       "      <th>3</th>\n",
       "      <td>2011-01-04</td>\n",
       "      <td>-3.9</td>\n",
       "      <td>-7.4</td>\n",
       "      <td>-1.7</td>\n",
       "    </tr>\n",
       "    <tr>\n",
       "      <th>4</th>\n",
       "      <td>2011-01-05</td>\n",
       "      <td>-4.0</td>\n",
       "      <td>-7.7</td>\n",
       "      <td>-1.8</td>\n",
       "    </tr>\n",
       "  </tbody>\n",
       "</table>\n",
       "</div>"
      ],
      "text/plain": [
       "         date  avg   min  max\n",
       "0  2011-01-01 -6.8 -10.4 -2.9\n",
       "1  2011-01-02 -5.4  -8.5 -1.2\n",
       "2  2011-01-03 -4.5  -8.5 -0.3\n",
       "3  2011-01-04 -3.9  -7.4 -1.7\n",
       "4  2011-01-05 -4.0  -7.7 -1.8"
      ]
     },
     "execution_count": 4,
     "metadata": {},
     "output_type": "execute_result"
    }
   ],
   "source": [
    "temp.head()"
   ]
  },
  {
   "cell_type": "markdown",
   "metadata": {
    "id": "KVDXRbXBYEPe"
   },
   "source": [
    "# II. Data Preprocessing"
   ]
  },
  {
   "cell_type": "markdown",
   "metadata": {
    "id": "fy9v_lCiU9HO"
   },
   "source": [
    "> ## 1) 일일 평균온도('avg') 변화 시각화\n",
    "\n",
    "* 일일 평균온도 변화에 일정한 패턴 확인"
   ]
  },
  {
   "cell_type": "code",
   "execution_count": 5,
   "metadata": {
    "colab": {
     "base_uri": "https://localhost:8080/",
     "height": 320
    },
    "executionInfo": {
     "elapsed": 52,
     "status": "ok",
     "timestamp": 1674695056266,
     "user": {
      "displayName": "이정구",
      "userId": "17400242557229223804"
     },
     "user_tz": -540
    },
    "id": "yoof7I1EH86G",
    "outputId": "22248fd6-c6a2-444c-848e-bb4214e8ff08"
   },
   "outputs": [
    {
     "data": {
      "image/png": "[encoded data removed]",
      "text/plain": [
       "<Figure size 1200x500 with 1 Axes>"
      ]
     },
     "metadata": {},
     "output_type": "display_data"
    }
   ],
   "source": [
    "temp_data = temp[['avg']]\n",
    "\n",
    "plt.figure(figsize = (12, 5))\n",
    "plt.plot(temp_data)\n",
    "plt.show()"
   ]
  },
  {
   "cell_type": "markdown",
   "metadata": {
    "id": "mDFfRx_TXFsG"
   },
   "source": [
    "> ## 2) Normalization\n",
    "\n",
    "* tanh Activation 적용을 위해 -1 ~ 1 범위로 정규화"
   ]
  },
  {
   "cell_type": "code",
   "execution_count": 6,
   "metadata": {
    "executionInfo": {
     "elapsed": 903,
     "status": "ok",
     "timestamp": 1674695057118,
     "user": {
      "displayName": "이정구",
      "userId": "17400242557229223804"
     },
     "user_tz": -540
    },
    "id": "Mweff2FbQZQ7"
   },
   "outputs": [],
   "source": [
    "from sklearn.preprocessing import MinMaxScaler\n",
    "\n",
    "scaler = MinMaxScaler(feature_range = (-1, 1))\n",
    "\n",
    "temp_data = scaler.fit_transform(temp_data)"
   ]
  },
  {
   "cell_type": "markdown",
   "metadata": {
    "id": "RoD5eL7OXodZ"
   },
   "source": [
    "> ## 3) Train vs. Test Split\n",
    "- 시간의 순서가 중요하므로 random split하면 안됨(싸이킷런 함수)\n",
    "* Train_Dataset : 2011년 01월 01일 ~ 2017년 12월 31일\n",
    "* Test_Dataset : 2018년 01월 01일 ~ 2019년 12월 31일"
   ]
  },
  {
   "cell_type": "code",
   "execution_count": 7,
   "metadata": {
    "executionInfo": {
     "elapsed": 19,
     "status": "ok",
     "timestamp": 1674695057118,
     "user": {
      "displayName": "이정구",
      "userId": "17400242557229223804"
     },
     "user_tz": -540
    },
    "id": "IcFIds3EQdhu"
   },
   "outputs": [],
   "source": [
    "train = temp_data[0:2557]\n",
    "test  = temp_data[2557:]"
   ]
  },
  {
   "cell_type": "markdown",
   "metadata": {
    "id": "HeCV1M_IcjHT"
   },
   "source": [
    "# III. 시계열 데이터 처리 함수"
   ]
  },
  {
   "cell_type": "markdown",
   "metadata": {
    "id": "qIFllEI0YhLI"
   },
   "source": [
    "> ## 1) 시계열 학습용 데이터 생성 함수 정의\n",
    "\n",
    "* X : 학습 평균온도 데이터\n",
    "* y : 정답 평균온도 데이터\n",
    "* 일정 기간의 X로 y를 예측하도록 학습"
   ]
  },
  {
   "cell_type": "code",
   "execution_count": 8,
   "metadata": {
    "executionInfo": {
     "elapsed": 16,
     "status": "ok",
     "timestamp": 1674695057119,
     "user": {
      "displayName": "이정구",
      "userId": "17400242557229223804"
     },
     "user_tz": -540
    },
    "id": "J6dtkntWJO3k"
   },
   "outputs": [],
   "source": [
    "def create_dataset(time_data, look_back = 1):\n",
    "    data_X, data_y = [], []\n",
    "\n",
    "    for i in range(len(time_data) - look_back):\n",
    "        data_X.append(time_data[i:(i + look_back), 0])\n",
    "        data_y.append(time_data[i + look_back, 0])\n",
    "\n",
    "    return np.array(data_X), np.array(data_y)"
   ]
  },
  {
   "cell_type": "markdown",
   "metadata": {
    "id": "HmdQKSurYYaq"
   },
   "source": [
    "> ## 2) loop_back 기간 설정 후 학습데이터 생성\n",
    "\n",
    "* 180일 기간 평균온도로 다음날 평균온도 예측 데이터 생성"
   ]
  },
  {
   "cell_type": "code",
   "execution_count": 9,
   "metadata": {
    "colab": {
     "base_uri": "https://localhost:8080/"
    },
    "executionInfo": {
     "elapsed": 16,
     "status": "ok",
     "timestamp": 1674695057119,
     "user": {
      "displayName": "이정구",
      "userId": "17400242557229223804"
     },
     "user_tz": -540
    },
    "id": "szxseLqEYTlA",
    "outputId": "9bd1bfed-23ae-4fc4-e656-24ac64f1a93c"
   },
   "outputs": [
    {
     "data": {
      "text/plain": [
       "((2377, 180), (2377,), (550, 180), (550,))"
      ]
     },
     "execution_count": 9,
     "metadata": {},
     "output_type": "execute_result"
    }
   ],
   "source": [
    "look_back = 180\n",
    "\n",
    "train_X, train_y = create_dataset(train, look_back)\n",
    "test_X,  test_y  = create_dataset(test, look_back)\n",
    "\n",
    "train_X.shape, train_y.shape, test_X.shape, test_y.shape"
   ]
  },
  {
   "cell_type": "markdown",
   "metadata": {
    "id": "mZtq6XoIZzFw"
   },
   "source": [
    "> ## 3) Tensor Reshape"
   ]
  },
  {
   "cell_type": "code",
   "execution_count": 10,
   "metadata": {
    "colab": {
     "base_uri": "https://localhost:8080/"
    },
    "executionInfo": {
     "elapsed": 14,
     "status": "ok",
     "timestamp": 1674695057120,
     "user": {
      "displayName": "이정구",
      "userId": "17400242557229223804"
     },
     "user_tz": -540
    },
    "id": "R-ZVH1KCQkkN",
    "outputId": "6c5af1dd-e7f8-4f54-8cec-535688b8a903"
   },
   "outputs": [
    {
     "data": {
      "text/plain": [
       "((2377, 180, 1), (2377,), (550, 180, 1), (550,))"
      ]
     },
     "execution_count": 10,
     "metadata": {},
     "output_type": "execute_result"
    }
   ],
   "source": [
    "train_X = np.reshape(train_X, (train_X.shape[0], train_X.shape[1], 1))\n",
    "test_X = np.reshape(test_X, (test_X.shape[0], test_X.shape[1], 1))\n",
    "\n",
    "train_X.shape, train_y.shape, test_X.shape, test_y.shape"
   ]
  },
  {
   "cell_type": "markdown",
   "metadata": {
    "id": "3cd2RaWzeTX_"
   },
   "source": [
    "# IV. LSTM Modeling"
   ]
  },
  {
   "cell_type": "markdown",
   "metadata": {
    "id": "MKJZDHuJeeJh"
   },
   "source": [
    "> ## 1) Model Define"
   ]
  },
  {
   "cell_type": "code",
   "execution_count": 11,
   "metadata": {
    "executionInfo": {
     "elapsed": 25955,
     "status": "ok",
     "timestamp": 1674695083064,
     "user": {
      "displayName": "이정구",
      "userId": "17400242557229223804"
     },
     "user_tz": -540
    },
    "id": "nviUzB-3J9ns"
   },
   "outputs": [],
   "source": [
    "from tensorflow.keras.models import Sequential\n",
    "from tensorflow.keras.layers import Dense, LSTM, Bidirectional\n",
    "\n",
    "model = Sequential(name = 'LSTM') # (name = 'Bidirectional_LSTM')\n",
    "model.add(LSTM(128, \n",
    "               input_shape = (None, 1)))\n",
    "# model.add(Bidirectional( LSTM(128 ), input_shape = (None, 1)))\n",
    "model.add(Dense(1, activation = 'tanh'))"
   ]
  },
  {
   "cell_type": "markdown",
   "metadata": {
    "id": "IYLeva87e7pG"
   },
   "source": [
    "* Model Summary"
   ]
  },
  {
   "cell_type": "code",
   "execution_count": 12,
   "metadata": {
    "colab": {
     "base_uri": "https://localhost:8080/"
    },
    "executionInfo": {
     "elapsed": 89,
     "status": "ok",
     "timestamp": 1674695083064,
     "user": {
      "displayName": "이정구",
      "userId": "17400242557229223804"
     },
     "user_tz": -540
    },
    "id": "LQpjGs_ye9-R",
    "outputId": "c698968d-f922-49a1-ad85-587594a58184"
   },
   "outputs": [
    {
     "name": "stdout",
     "output_type": "stream",
     "text": [
      "Model: \"LSTM\"\n",
      "_________________________________________________________________\n",
      " Layer (type)                Output Shape              Param #   \n",
      "=================================================================\n",
      " lstm (LSTM)                 (None, 128)               66560     \n",
      "                                                                 \n",
      " dense (Dense)               (None, 1)                 129       \n",
      "                                                                 \n",
      "=================================================================\n",
      "Total params: 66,689\n",
      "Trainable params: 66,689\n",
      "Non-trainable params: 0\n",
      "_________________________________________________________________\n"
     ]
    }
   ],
   "source": [
    "model.summary()"
   ]
  },
  {
   "cell_type": "markdown",
   "metadata": {
    "id": "Co3QNP8QfFv9"
   },
   "source": [
    "> ## 2) Model Compile"
   ]
  },
  {
   "cell_type": "code",
   "execution_count": 13,
   "metadata": {
    "executionInfo": {
     "elapsed": 82,
     "status": "ok",
     "timestamp": 1674695083065,
     "user": {
      "displayName": "이정구",
      "userId": "17400242557229223804"
     },
     "user_tz": -540
    },
    "id": "90LKNvgkP_n8"
   },
   "outputs": [],
   "source": [
    "model.compile(loss = 'mse',\n",
    "              optimizer = 'rmsprop',\n",
    "              metrics = ['mae'])"
   ]
  },
  {
   "cell_type": "markdown",
   "metadata": {
    "id": "u5V3jiYWfd9r"
   },
   "source": [
    "> ## 3) Model Fit\n",
    "\n",
    "* 약 6분"
   ]
  },
  {
   "cell_type": "code",
   "execution_count": 14,
   "metadata": {
    "colab": {
     "base_uri": "https://localhost:8080/"
    },
    "executionInfo": {
     "elapsed": 307880,
     "status": "ok",
     "timestamp": 1674695390863,
     "user": {
      "displayName": "이정구",
      "userId": "17400242557229223804"
     },
     "user_tz": -540
    },
    "id": "b3-ffxd5P8ZP",
    "outputId": "46fd4437-5680-4aa2-fc20-1d11ccc72503"
   },
   "outputs": [
    {
     "name": "stdout",
     "output_type": "stream",
     "text": [
      "Epoch 1/200\n",
      "149/149 [==============================] - 15s 15ms/step - loss: 0.0176 - mae: 0.1015 - val_loss: 0.0120 - val_mae: 0.0839\n",
      "Epoch 2/200\n",
      "149/149 [==============================] - 1s 10ms/step - loss: 0.0182 - mae: 0.0953 - val_loss: 0.0106 - val_mae: 0.0785\n",
      "Epoch 3/200\n",
      "149/149 [==============================] - 2s 10ms/step - loss: 0.0110 - mae: 0.0802 - val_loss: 0.0090 - val_mae: 0.0720\n",
      "Epoch 4/200\n",
      "149/149 [==============================] - 1s 10ms/step - loss: 0.0143 - mae: 0.0785 - val_loss: 0.0082 - val_mae: 0.0700\n",
      "Epoch 5/200\n",
      "149/149 [==============================] - 1s 10ms/step - loss: 0.0088 - mae: 0.0704 - val_loss: 0.0078 - val_mae: 0.0679\n",
      "Epoch 6/200\n",
      "149/149 [==============================] - 2s 10ms/step - loss: 0.0086 - mae: 0.0702 - val_loss: 0.0086 - val_mae: 0.0697\n",
      "Epoch 7/200\n",
      "149/149 [==============================] - 2s 10ms/step - loss: 0.0086 - mae: 0.0700 - val_loss: 0.0081 - val_mae: 0.0673\n",
      "Epoch 8/200\n",
      "149/149 [==============================] - 2s 10ms/step - loss: 0.0085 - mae: 0.0692 - val_loss: 0.0091 - val_mae: 0.0756\n",
      "Epoch 9/200\n",
      "149/149 [==============================] - 2s 10ms/step - loss: 0.0085 - mae: 0.0695 - val_loss: 0.0077 - val_mae: 0.0656\n",
      "Epoch 10/200\n",
      "149/149 [==============================] - 2s 10ms/step - loss: 0.0087 - mae: 0.0697 - val_loss: 0.0079 - val_mae: 0.0670\n",
      "Epoch 11/200\n",
      "149/149 [==============================] - 1s 10ms/step - loss: 0.0085 - mae: 0.0693 - val_loss: 0.0074 - val_mae: 0.0654\n",
      "Epoch 12/200\n",
      "149/149 [==============================] - 1s 10ms/step - loss: 0.0084 - mae: 0.0685 - val_loss: 0.0080 - val_mae: 0.0697\n",
      "Epoch 13/200\n",
      "149/149 [==============================] - 2s 10ms/step - loss: 0.0084 - mae: 0.0686 - val_loss: 0.0076 - val_mae: 0.0663\n",
      "Epoch 14/200\n",
      "149/149 [==============================] - 1s 10ms/step - loss: 0.0084 - mae: 0.0681 - val_loss: 0.0093 - val_mae: 0.0767\n",
      "Epoch 15/200\n",
      "149/149 [==============================] - 1s 10ms/step - loss: 0.0084 - mae: 0.0687 - val_loss: 0.0077 - val_mae: 0.0675\n",
      "Epoch 16/200\n",
      "149/149 [==============================] - 2s 10ms/step - loss: 0.0083 - mae: 0.0681 - val_loss: 0.0090 - val_mae: 0.0731\n",
      "Epoch 17/200\n",
      "149/149 [==============================] - 1s 10ms/step - loss: 0.0082 - mae: 0.0681 - val_loss: 0.0076 - val_mae: 0.0663\n",
      "Epoch 18/200\n",
      "149/149 [==============================] - 2s 10ms/step - loss: 0.0082 - mae: 0.0680 - val_loss: 0.0077 - val_mae: 0.0673\n",
      "Epoch 19/200\n",
      "149/149 [==============================] - 2s 10ms/step - loss: 0.0082 - mae: 0.0679 - val_loss: 0.0074 - val_mae: 0.0655\n",
      "Epoch 20/200\n",
      "149/149 [==============================] - 2s 10ms/step - loss: 0.0081 - mae: 0.0676 - val_loss: 0.0075 - val_mae: 0.0669\n",
      "Epoch 21/200\n",
      "149/149 [==============================] - 2s 10ms/step - loss: 0.0082 - mae: 0.0674 - val_loss: 0.0075 - val_mae: 0.0668\n",
      "Epoch 22/200\n",
      "149/149 [==============================] - 2s 10ms/step - loss: 0.0082 - mae: 0.0678 - val_loss: 0.0077 - val_mae: 0.0662\n",
      "Epoch 23/200\n",
      "149/149 [==============================] - 2s 10ms/step - loss: 0.0082 - mae: 0.0678 - val_loss: 0.0074 - val_mae: 0.0644\n",
      "Epoch 24/200\n",
      "149/149 [==============================] - 2s 10ms/step - loss: 0.0081 - mae: 0.0676 - val_loss: 0.0076 - val_mae: 0.0661\n",
      "Epoch 25/200\n",
      "149/149 [==============================] - 1s 10ms/step - loss: 0.0081 - mae: 0.0677 - val_loss: 0.0077 - val_mae: 0.0683\n",
      "Epoch 26/200\n",
      "149/149 [==============================] - 2s 11ms/step - loss: 0.0081 - mae: 0.0674 - val_loss: 0.0073 - val_mae: 0.0657\n",
      "Epoch 27/200\n",
      "149/149 [==============================] - 2s 10ms/step - loss: 0.0081 - mae: 0.0674 - val_loss: 0.0076 - val_mae: 0.0663\n",
      "Epoch 28/200\n",
      "149/149 [==============================] - 2s 10ms/step - loss: 0.0081 - mae: 0.0672 - val_loss: 0.0077 - val_mae: 0.0686\n",
      "Epoch 29/200\n",
      "149/149 [==============================] - 1s 10ms/step - loss: 0.0080 - mae: 0.0673 - val_loss: 0.0073 - val_mae: 0.0655\n",
      "Epoch 30/200\n",
      "149/149 [==============================] - 2s 10ms/step - loss: 0.0081 - mae: 0.0674 - val_loss: 0.0071 - val_mae: 0.0644\n",
      "Epoch 31/200\n",
      "149/149 [==============================] - 1s 10ms/step - loss: 0.0080 - mae: 0.0673 - val_loss: 0.0075 - val_mae: 0.0656\n",
      "Epoch 32/200\n",
      "149/149 [==============================] - 2s 10ms/step - loss: 0.0080 - mae: 0.0671 - val_loss: 0.0079 - val_mae: 0.0678\n",
      "Epoch 33/200\n",
      "149/149 [==============================] - 1s 10ms/step - loss: 0.0080 - mae: 0.0673 - val_loss: 0.0075 - val_mae: 0.0668\n",
      "Epoch 34/200\n",
      "149/149 [==============================] - 2s 10ms/step - loss: 0.0080 - mae: 0.0667 - val_loss: 0.0073 - val_mae: 0.0651\n",
      "Epoch 35/200\n",
      "149/149 [==============================] - 2s 10ms/step - loss: 0.0079 - mae: 0.0670 - val_loss: 0.0072 - val_mae: 0.0653\n",
      "Epoch 36/200\n",
      "149/149 [==============================] - 2s 10ms/step - loss: 0.0080 - mae: 0.0668 - val_loss: 0.0072 - val_mae: 0.0648\n",
      "Epoch 37/200\n",
      "149/149 [==============================] - 2s 10ms/step - loss: 0.0079 - mae: 0.0666 - val_loss: 0.0079 - val_mae: 0.0698\n",
      "Epoch 38/200\n",
      "149/149 [==============================] - 2s 10ms/step - loss: 0.0079 - mae: 0.0667 - val_loss: 0.0076 - val_mae: 0.0675\n",
      "Epoch 39/200\n",
      "149/149 [==============================] - 2s 10ms/step - loss: 0.0080 - mae: 0.0667 - val_loss: 0.0072 - val_mae: 0.0651\n",
      "Epoch 40/200\n",
      "149/149 [==============================] - 2s 10ms/step - loss: 0.0079 - mae: 0.0666 - val_loss: 0.0078 - val_mae: 0.0668\n",
      "Epoch 41/200\n",
      "149/149 [==============================] - 2s 10ms/step - loss: 0.0079 - mae: 0.0665 - val_loss: 0.0076 - val_mae: 0.0657\n",
      "Epoch 42/200\n",
      "149/149 [==============================] - 2s 10ms/step - loss: 0.0079 - mae: 0.0664 - val_loss: 0.0072 - val_mae: 0.0645\n",
      "Epoch 43/200\n",
      "149/149 [==============================] - 2s 10ms/step - loss: 0.0079 - mae: 0.0669 - val_loss: 0.0072 - val_mae: 0.0638\n",
      "Epoch 44/200\n",
      "149/149 [==============================] - 1s 10ms/step - loss: 0.0078 - mae: 0.0662 - val_loss: 0.0076 - val_mae: 0.0669\n",
      "Epoch 45/200\n",
      "149/149 [==============================] - 1s 10ms/step - loss: 0.0079 - mae: 0.0665 - val_loss: 0.0076 - val_mae: 0.0685\n",
      "Epoch 46/200\n",
      "149/149 [==============================] - 2s 10ms/step - loss: 0.0078 - mae: 0.0662 - val_loss: 0.0077 - val_mae: 0.0688\n",
      "Epoch 47/200\n",
      "149/149 [==============================] - 2s 10ms/step - loss: 0.0078 - mae: 0.0660 - val_loss: 0.0076 - val_mae: 0.0663\n",
      "Epoch 48/200\n",
      "149/149 [==============================] - 2s 10ms/step - loss: 0.0078 - mae: 0.0662 - val_loss: 0.0079 - val_mae: 0.0675\n",
      "Epoch 49/200\n",
      "149/149 [==============================] - 1s 10ms/step - loss: 0.0077 - mae: 0.0660 - val_loss: 0.0072 - val_mae: 0.0649\n",
      "Epoch 50/200\n",
      "149/149 [==============================] - 2s 10ms/step - loss: 0.0078 - mae: 0.0663 - val_loss: 0.0071 - val_mae: 0.0646\n",
      "Epoch 51/200\n",
      "149/149 [==============================] - 1s 10ms/step - loss: 0.0077 - mae: 0.0659 - val_loss: 0.0073 - val_mae: 0.0653\n",
      "Epoch 52/200\n",
      "149/149 [==============================] - 2s 14ms/step - loss: 0.0077 - mae: 0.0654 - val_loss: 0.0076 - val_mae: 0.0671\n",
      "Epoch 53/200\n",
      "149/149 [==============================] - 2s 12ms/step - loss: 0.0078 - mae: 0.0658 - val_loss: 0.0072 - val_mae: 0.0648\n",
      "Epoch 54/200\n",
      "149/149 [==============================] - 2s 10ms/step - loss: 0.0077 - mae: 0.0659 - val_loss: 0.0075 - val_mae: 0.0675\n",
      "Epoch 55/200\n",
      "149/149 [==============================] - 1s 10ms/step - loss: 0.0076 - mae: 0.0658 - val_loss: 0.0071 - val_mae: 0.0645\n",
      "Epoch 56/200\n",
      "149/149 [==============================] - 2s 10ms/step - loss: 0.0077 - mae: 0.0658 - val_loss: 0.0075 - val_mae: 0.0654\n",
      "Epoch 57/200\n",
      "149/149 [==============================] - 1s 10ms/step - loss: 0.0077 - mae: 0.0659 - val_loss: 0.0072 - val_mae: 0.0637\n",
      "Epoch 58/200\n",
      "149/149 [==============================] - 2s 10ms/step - loss: 0.0076 - mae: 0.0657 - val_loss: 0.0072 - val_mae: 0.0646\n",
      "Epoch 59/200\n",
      "149/149 [==============================] - 2s 10ms/step - loss: 0.0076 - mae: 0.0651 - val_loss: 0.0075 - val_mae: 0.0659\n",
      "Epoch 60/200\n",
      "149/149 [==============================] - 2s 10ms/step - loss: 0.0076 - mae: 0.0657 - val_loss: 0.0075 - val_mae: 0.0654\n",
      "Epoch 61/200\n",
      "149/149 [==============================] - 1s 10ms/step - loss: 0.0076 - mae: 0.0651 - val_loss: 0.0072 - val_mae: 0.0646\n",
      "Epoch 62/200\n",
      "149/149 [==============================] - 1s 10ms/step - loss: 0.0077 - mae: 0.0655 - val_loss: 0.0073 - val_mae: 0.0647\n",
      "Epoch 63/200\n",
      "149/149 [==============================] - 1s 10ms/step - loss: 0.0076 - mae: 0.0656 - val_loss: 0.0076 - val_mae: 0.0681\n",
      "Epoch 64/200\n",
      "149/149 [==============================] - 1s 10ms/step - loss: 0.0075 - mae: 0.0649 - val_loss: 0.0076 - val_mae: 0.0673\n",
      "Epoch 65/200\n",
      "149/149 [==============================] - 2s 10ms/step - loss: 0.0075 - mae: 0.0651 - val_loss: 0.0077 - val_mae: 0.0661\n",
      "Epoch 66/200\n",
      "149/149 [==============================] - 1s 10ms/step - loss: 0.0075 - mae: 0.0654 - val_loss: 0.0074 - val_mae: 0.0655\n",
      "Epoch 67/200\n",
      "149/149 [==============================] - 2s 10ms/step - loss: 0.0075 - mae: 0.0651 - val_loss: 0.0075 - val_mae: 0.0650\n",
      "Epoch 68/200\n",
      "149/149 [==============================] - 1s 10ms/step - loss: 0.0074 - mae: 0.0649 - val_loss: 0.0075 - val_mae: 0.0651\n",
      "Epoch 69/200\n",
      "149/149 [==============================] - 1s 10ms/step - loss: 0.0074 - mae: 0.0649 - val_loss: 0.0080 - val_mae: 0.0685\n",
      "Epoch 70/200\n",
      "149/149 [==============================] - 1s 10ms/step - loss: 0.0075 - mae: 0.0649 - val_loss: 0.0073 - val_mae: 0.0648\n",
      "Epoch 71/200\n",
      "149/149 [==============================] - 2s 10ms/step - loss: 0.0073 - mae: 0.0648 - val_loss: 0.0075 - val_mae: 0.0651\n",
      "Epoch 72/200\n",
      "149/149 [==============================] - 1s 10ms/step - loss: 0.0075 - mae: 0.0648 - val_loss: 0.0079 - val_mae: 0.0682\n",
      "Epoch 73/200\n",
      "149/149 [==============================] - 2s 10ms/step - loss: 0.0074 - mae: 0.0647 - val_loss: 0.0076 - val_mae: 0.0679\n",
      "Epoch 74/200\n",
      "149/149 [==============================] - 2s 10ms/step - loss: 0.0073 - mae: 0.0647 - val_loss: 0.0078 - val_mae: 0.0663\n",
      "Epoch 75/200\n",
      "149/149 [==============================] - 2s 10ms/step - loss: 0.0073 - mae: 0.0642 - val_loss: 0.0076 - val_mae: 0.0657\n",
      "Epoch 76/200\n",
      "149/149 [==============================] - 1s 10ms/step - loss: 0.0074 - mae: 0.0647 - val_loss: 0.0078 - val_mae: 0.0673\n",
      "Epoch 77/200\n",
      "149/149 [==============================] - 1s 10ms/step - loss: 0.0073 - mae: 0.0640 - val_loss: 0.0080 - val_mae: 0.0688\n",
      "Epoch 78/200\n",
      "149/149 [==============================] - 2s 10ms/step - loss: 0.0072 - mae: 0.0641 - val_loss: 0.0079 - val_mae: 0.0674\n",
      "Epoch 79/200\n",
      "149/149 [==============================] - 2s 11ms/step - loss: 0.0072 - mae: 0.0644 - val_loss: 0.0075 - val_mae: 0.0657\n",
      "Epoch 80/200\n",
      "149/149 [==============================] - 2s 10ms/step - loss: 0.0072 - mae: 0.0640 - val_loss: 0.0074 - val_mae: 0.0655\n",
      "Epoch 81/200\n",
      "149/149 [==============================] - 2s 11ms/step - loss: 0.0070 - mae: 0.0635 - val_loss: 0.0078 - val_mae: 0.0661\n",
      "Epoch 82/200\n",
      "149/149 [==============================] - 2s 10ms/step - loss: 0.0072 - mae: 0.0637 - val_loss: 0.0078 - val_mae: 0.0665\n",
      "Epoch 83/200\n",
      "149/149 [==============================] - 2s 10ms/step - loss: 0.0071 - mae: 0.0638 - val_loss: 0.0076 - val_mae: 0.0666\n",
      "Epoch 84/200\n",
      "149/149 [==============================] - 1s 10ms/step - loss: 0.0071 - mae: 0.0639 - val_loss: 0.0077 - val_mae: 0.0658\n",
      "Epoch 85/200\n",
      "149/149 [==============================] - 2s 10ms/step - loss: 0.0071 - mae: 0.0635 - val_loss: 0.0085 - val_mae: 0.0727\n",
      "Epoch 86/200\n",
      "149/149 [==============================] - 1s 10ms/step - loss: 0.0071 - mae: 0.0635 - val_loss: 0.0086 - val_mae: 0.0688\n",
      "Epoch 87/200\n",
      "149/149 [==============================] - 2s 10ms/step - loss: 0.0071 - mae: 0.0634 - val_loss: 0.0083 - val_mae: 0.0691\n",
      "Epoch 88/200\n",
      "149/149 [==============================] - 2s 10ms/step - loss: 0.0069 - mae: 0.0633 - val_loss: 0.0077 - val_mae: 0.0663\n",
      "Epoch 89/200\n",
      "149/149 [==============================] - 2s 10ms/step - loss: 0.0070 - mae: 0.0633 - val_loss: 0.0085 - val_mae: 0.0687\n",
      "Epoch 90/200\n",
      "149/149 [==============================] - 1s 10ms/step - loss: 0.0070 - mae: 0.0632 - val_loss: 0.0077 - val_mae: 0.0657\n",
      "Epoch 91/200\n",
      "149/149 [==============================] - 2s 10ms/step - loss: 0.0069 - mae: 0.0631 - val_loss: 0.0084 - val_mae: 0.0689\n",
      "Epoch 92/200\n",
      "149/149 [==============================] - 3s 18ms/step - loss: 0.0070 - mae: 0.0635 - val_loss: 0.0082 - val_mae: 0.0686\n",
      "Epoch 93/200\n",
      "149/149 [==============================] - 2s 16ms/step - loss: 0.0069 - mae: 0.0629 - val_loss: 0.0086 - val_mae: 0.0693\n",
      "Epoch 94/200\n",
      "149/149 [==============================] - 2s 10ms/step - loss: 0.0068 - mae: 0.0630 - val_loss: 0.0081 - val_mae: 0.0679\n",
      "Epoch 95/200\n",
      "149/149 [==============================] - 2s 10ms/step - loss: 0.0069 - mae: 0.0629 - val_loss: 0.0092 - val_mae: 0.0719\n",
      "Epoch 96/200\n",
      "149/149 [==============================] - 2s 10ms/step - loss: 0.0067 - mae: 0.0625 - val_loss: 0.0097 - val_mae: 0.0736\n",
      "Epoch 97/200\n",
      "149/149 [==============================] - 2s 10ms/step - loss: 0.0069 - mae: 0.0625 - val_loss: 0.0087 - val_mae: 0.0705\n",
      "Epoch 98/200\n",
      "149/149 [==============================] - 2s 10ms/step - loss: 0.0067 - mae: 0.0623 - val_loss: 0.0085 - val_mae: 0.0701\n",
      "Epoch 99/200\n",
      "149/149 [==============================] - 2s 10ms/step - loss: 0.0068 - mae: 0.0623 - val_loss: 0.0087 - val_mae: 0.0704\n",
      "Epoch 100/200\n",
      "149/149 [==============================] - 2s 10ms/step - loss: 0.0067 - mae: 0.0620 - val_loss: 0.0081 - val_mae: 0.0680\n",
      "Epoch 101/200\n",
      "149/149 [==============================] - 2s 10ms/step - loss: 0.0067 - mae: 0.0621 - val_loss: 0.0108 - val_mae: 0.0755\n",
      "Epoch 102/200\n",
      "149/149 [==============================] - 2s 10ms/step - loss: 0.0067 - mae: 0.0622 - val_loss: 0.0084 - val_mae: 0.0691\n",
      "Epoch 103/200\n",
      "149/149 [==============================] - 2s 10ms/step - loss: 0.0066 - mae: 0.0612 - val_loss: 0.0087 - val_mae: 0.0705\n",
      "Epoch 104/200\n",
      "149/149 [==============================] - 2s 10ms/step - loss: 0.0066 - mae: 0.0619 - val_loss: 0.0086 - val_mae: 0.0695\n",
      "Epoch 105/200\n",
      "149/149 [==============================] - 2s 10ms/step - loss: 0.0066 - mae: 0.0614 - val_loss: 0.0083 - val_mae: 0.0694\n",
      "Epoch 106/200\n",
      "149/149 [==============================] - 2s 10ms/step - loss: 0.0065 - mae: 0.0614 - val_loss: 0.0082 - val_mae: 0.0689\n",
      "Epoch 107/200\n",
      "149/149 [==============================] - 2s 10ms/step - loss: 0.0066 - mae: 0.0618 - val_loss: 0.0089 - val_mae: 0.0712\n",
      "Epoch 108/200\n",
      "149/149 [==============================] - 2s 10ms/step - loss: 0.0065 - mae: 0.0614 - val_loss: 0.0084 - val_mae: 0.0686\n",
      "Epoch 109/200\n",
      "149/149 [==============================] - 2s 10ms/step - loss: 0.0065 - mae: 0.0613 - val_loss: 0.0090 - val_mae: 0.0721\n",
      "Epoch 110/200\n",
      "149/149 [==============================] - 2s 10ms/step - loss: 0.0065 - mae: 0.0613 - val_loss: 0.0088 - val_mae: 0.0697\n",
      "Epoch 111/200\n",
      "149/149 [==============================] - 2s 10ms/step - loss: 0.0065 - mae: 0.0613 - val_loss: 0.0096 - val_mae: 0.0726\n",
      "Epoch 112/200\n",
      "149/149 [==============================] - 2s 10ms/step - loss: 0.0064 - mae: 0.0608 - val_loss: 0.0090 - val_mae: 0.0706\n",
      "Epoch 113/200\n",
      "149/149 [==============================] - 2s 10ms/step - loss: 0.0063 - mae: 0.0605 - val_loss: 0.0084 - val_mae: 0.0691\n",
      "Epoch 114/200\n",
      "149/149 [==============================] - 2s 10ms/step - loss: 0.0063 - mae: 0.0611 - val_loss: 0.0096 - val_mae: 0.0736\n",
      "Epoch 115/200\n",
      "149/149 [==============================] - 2s 10ms/step - loss: 0.0063 - mae: 0.0602 - val_loss: 0.0087 - val_mae: 0.0696\n",
      "Epoch 116/200\n",
      "149/149 [==============================] - 2s 10ms/step - loss: 0.0063 - mae: 0.0603 - val_loss: 0.0088 - val_mae: 0.0710\n",
      "Epoch 117/200\n",
      "149/149 [==============================] - 2s 10ms/step - loss: 0.0063 - mae: 0.0603 - val_loss: 0.0095 - val_mae: 0.0730\n",
      "Epoch 118/200\n",
      "149/149 [==============================] - 2s 11ms/step - loss: 0.0062 - mae: 0.0600 - val_loss: 0.0101 - val_mae: 0.0757\n",
      "Epoch 119/200\n",
      "149/149 [==============================] - 2s 10ms/step - loss: 0.0062 - mae: 0.0597 - val_loss: 0.0085 - val_mae: 0.0694\n",
      "Epoch 120/200\n",
      "149/149 [==============================] - 2s 10ms/step - loss: 0.0061 - mae: 0.0596 - val_loss: 0.0094 - val_mae: 0.0729\n",
      "Epoch 121/200\n",
      "149/149 [==============================] - 2s 10ms/step - loss: 0.0063 - mae: 0.0602 - val_loss: 0.0089 - val_mae: 0.0709\n",
      "Epoch 122/200\n",
      "149/149 [==============================] - 2s 10ms/step - loss: 0.0063 - mae: 0.0603 - val_loss: 0.0102 - val_mae: 0.0741\n",
      "Epoch 123/200\n",
      "149/149 [==============================] - 2s 10ms/step - loss: 0.0060 - mae: 0.0589 - val_loss: 0.0095 - val_mae: 0.0727\n",
      "Epoch 124/200\n",
      "149/149 [==============================] - 2s 10ms/step - loss: 0.0060 - mae: 0.0594 - val_loss: 0.0094 - val_mae: 0.0727\n",
      "Epoch 125/200\n",
      "149/149 [==============================] - 2s 10ms/step - loss: 0.0060 - mae: 0.0593 - val_loss: 0.0098 - val_mae: 0.0757\n",
      "Epoch 126/200\n",
      "149/149 [==============================] - 2s 10ms/step - loss: 0.0059 - mae: 0.0587 - val_loss: 0.0096 - val_mae: 0.0737\n",
      "Epoch 127/200\n",
      "149/149 [==============================] - 2s 10ms/step - loss: 0.0059 - mae: 0.0585 - val_loss: 0.0093 - val_mae: 0.0727\n",
      "Epoch 128/200\n",
      "149/149 [==============================] - 2s 10ms/step - loss: 0.0059 - mae: 0.0585 - val_loss: 0.0098 - val_mae: 0.0746\n",
      "Epoch 129/200\n",
      "149/149 [==============================] - 2s 10ms/step - loss: 0.0059 - mae: 0.0587 - val_loss: 0.0097 - val_mae: 0.0736\n",
      "Epoch 130/200\n",
      "149/149 [==============================] - 2s 10ms/step - loss: 0.0058 - mae: 0.0582 - val_loss: 0.0106 - val_mae: 0.0767\n",
      "Epoch 131/200\n",
      "149/149 [==============================] - 2s 10ms/step - loss: 0.0058 - mae: 0.0579 - val_loss: 0.0102 - val_mae: 0.0748\n",
      "Epoch 132/200\n",
      "149/149 [==============================] - 2s 10ms/step - loss: 0.0057 - mae: 0.0578 - val_loss: 0.0104 - val_mae: 0.0745\n",
      "Epoch 133/200\n",
      "149/149 [==============================] - 2s 10ms/step - loss: 0.0057 - mae: 0.0575 - val_loss: 0.0098 - val_mae: 0.0747\n",
      "Epoch 134/200\n",
      "149/149 [==============================] - 2s 10ms/step - loss: 0.0057 - mae: 0.0574 - val_loss: 0.0103 - val_mae: 0.0773\n",
      "Epoch 135/200\n",
      "149/149 [==============================] - 2s 10ms/step - loss: 0.0056 - mae: 0.0573 - val_loss: 0.0101 - val_mae: 0.0747\n",
      "Epoch 136/200\n",
      "149/149 [==============================] - 2s 10ms/step - loss: 0.0055 - mae: 0.0567 - val_loss: 0.0105 - val_mae: 0.0776\n",
      "Epoch 137/200\n",
      "149/149 [==============================] - 2s 10ms/step - loss: 0.0055 - mae: 0.0565 - val_loss: 0.0109 - val_mae: 0.0755\n",
      "Epoch 138/200\n",
      "149/149 [==============================] - 2s 10ms/step - loss: 0.0057 - mae: 0.0576 - val_loss: 0.0101 - val_mae: 0.0754\n",
      "Epoch 139/200\n",
      "149/149 [==============================] - 2s 10ms/step - loss: 0.0056 - mae: 0.0570 - val_loss: 0.0105 - val_mae: 0.0765\n",
      "Epoch 140/200\n",
      "149/149 [==============================] - 2s 11ms/step - loss: 0.0054 - mae: 0.0560 - val_loss: 0.0115 - val_mae: 0.0810\n",
      "Epoch 141/200\n",
      "149/149 [==============================] - 2s 10ms/step - loss: 0.0054 - mae: 0.0565 - val_loss: 0.0098 - val_mae: 0.0734\n",
      "Epoch 142/200\n",
      "149/149 [==============================] - 2s 10ms/step - loss: 0.0053 - mae: 0.0555 - val_loss: 0.0110 - val_mae: 0.0779\n",
      "Epoch 143/200\n",
      "149/149 [==============================] - 2s 10ms/step - loss: 0.0052 - mae: 0.0550 - val_loss: 0.0098 - val_mae: 0.0733\n",
      "Epoch 144/200\n",
      "149/149 [==============================] - 2s 11ms/step - loss: 0.0053 - mae: 0.0556 - val_loss: 0.0106 - val_mae: 0.0744\n",
      "Epoch 145/200\n",
      "149/149 [==============================] - 2s 10ms/step - loss: 0.0052 - mae: 0.0551 - val_loss: 0.0105 - val_mae: 0.0760\n",
      "Epoch 146/200\n",
      "149/149 [==============================] - 2s 10ms/step - loss: 0.0051 - mae: 0.0547 - val_loss: 0.0106 - val_mae: 0.0764\n",
      "Epoch 147/200\n",
      "149/149 [==============================] - 2s 10ms/step - loss: 0.0051 - mae: 0.0546 - val_loss: 0.0112 - val_mae: 0.0787\n",
      "Epoch 148/200\n",
      "149/149 [==============================] - 2s 10ms/step - loss: 0.0051 - mae: 0.0547 - val_loss: 0.0111 - val_mae: 0.0789\n",
      "Epoch 149/200\n",
      "149/149 [==============================] - 2s 10ms/step - loss: 0.0050 - mae: 0.0539 - val_loss: 0.0108 - val_mae: 0.0776\n",
      "Epoch 150/200\n",
      "149/149 [==============================] - 2s 10ms/step - loss: 0.0049 - mae: 0.0538 - val_loss: 0.0116 - val_mae: 0.0809\n",
      "Epoch 151/200\n",
      "149/149 [==============================] - 2s 10ms/step - loss: 0.0049 - mae: 0.0536 - val_loss: 0.0106 - val_mae: 0.0757\n",
      "Epoch 152/200\n",
      "149/149 [==============================] - 2s 10ms/step - loss: 0.0049 - mae: 0.0535 - val_loss: 0.0098 - val_mae: 0.0742\n",
      "Epoch 153/200\n",
      "149/149 [==============================] - 2s 10ms/step - loss: 0.0048 - mae: 0.0530 - val_loss: 0.0112 - val_mae: 0.0790\n",
      "Epoch 154/200\n",
      "149/149 [==============================] - 2s 10ms/step - loss: 0.0049 - mae: 0.0533 - val_loss: 0.0114 - val_mae: 0.0785\n",
      "Epoch 155/200\n",
      "149/149 [==============================] - 2s 11ms/step - loss: 0.0047 - mae: 0.0523 - val_loss: 0.0103 - val_mae: 0.0758\n",
      "Epoch 156/200\n",
      "149/149 [==============================] - 2s 10ms/step - loss: 0.0048 - mae: 0.0528 - val_loss: 0.0116 - val_mae: 0.0787\n",
      "Epoch 157/200\n",
      "149/149 [==============================] - 2s 10ms/step - loss: 0.0047 - mae: 0.0531 - val_loss: 0.0113 - val_mae: 0.0785\n",
      "Epoch 158/200\n",
      "149/149 [==============================] - 2s 10ms/step - loss: 0.0047 - mae: 0.0527 - val_loss: 0.0108 - val_mae: 0.0773\n",
      "Epoch 159/200\n",
      "149/149 [==============================] - 2s 11ms/step - loss: 0.0046 - mae: 0.0519 - val_loss: 0.0103 - val_mae: 0.0771\n",
      "Epoch 160/200\n",
      "149/149 [==============================] - 2s 10ms/step - loss: 0.0046 - mae: 0.0520 - val_loss: 0.0112 - val_mae: 0.0793\n",
      "Epoch 161/200\n",
      "149/149 [==============================] - 2s 10ms/step - loss: 0.0045 - mae: 0.0512 - val_loss: 0.0114 - val_mae: 0.0799\n",
      "Epoch 162/200\n",
      "149/149 [==============================] - 2s 10ms/step - loss: 0.0045 - mae: 0.0521 - val_loss: 0.0119 - val_mae: 0.0813\n",
      "Epoch 163/200\n",
      "149/149 [==============================] - 2s 10ms/step - loss: 0.0044 - mae: 0.0513 - val_loss: 0.0110 - val_mae: 0.0783\n",
      "Epoch 164/200\n",
      "149/149 [==============================] - 2s 10ms/step - loss: 0.0044 - mae: 0.0510 - val_loss: 0.0114 - val_mae: 0.0788\n",
      "Epoch 165/200\n",
      "149/149 [==============================] - 2s 10ms/step - loss: 0.0043 - mae: 0.0511 - val_loss: 0.0104 - val_mae: 0.0771\n",
      "Epoch 166/200\n",
      "149/149 [==============================] - 2s 10ms/step - loss: 0.0043 - mae: 0.0502 - val_loss: 0.0119 - val_mae: 0.0808\n",
      "Epoch 167/200\n",
      "149/149 [==============================] - 2s 10ms/step - loss: 0.0043 - mae: 0.0503 - val_loss: 0.0114 - val_mae: 0.0796\n",
      "Epoch 168/200\n",
      "149/149 [==============================] - 2s 10ms/step - loss: 0.0042 - mae: 0.0501 - val_loss: 0.0111 - val_mae: 0.0790\n",
      "Epoch 169/200\n",
      "149/149 [==============================] - 2s 10ms/step - loss: 0.0043 - mae: 0.0506 - val_loss: 0.0116 - val_mae: 0.0799\n",
      "Epoch 170/200\n",
      "149/149 [==============================] - 2s 10ms/step - loss: 0.0041 - mae: 0.0493 - val_loss: 0.0116 - val_mae: 0.0800\n",
      "Epoch 171/200\n",
      "149/149 [==============================] - 2s 10ms/step - loss: 0.0041 - mae: 0.0488 - val_loss: 0.0115 - val_mae: 0.0785\n",
      "Epoch 172/200\n",
      "149/149 [==============================] - 2s 10ms/step - loss: 0.0041 - mae: 0.0491 - val_loss: 0.0111 - val_mae: 0.0793\n",
      "Epoch 173/200\n",
      "149/149 [==============================] - 2s 10ms/step - loss: 0.0041 - mae: 0.0490 - val_loss: 0.0110 - val_mae: 0.0785\n",
      "Epoch 174/200\n",
      "149/149 [==============================] - 2s 10ms/step - loss: 0.0040 - mae: 0.0488 - val_loss: 0.0115 - val_mae: 0.0798\n",
      "Epoch 175/200\n",
      "149/149 [==============================] - 2s 10ms/step - loss: 0.0039 - mae: 0.0483 - val_loss: 0.0124 - val_mae: 0.0831\n",
      "Epoch 176/200\n",
      "149/149 [==============================] - 2s 10ms/step - loss: 0.0040 - mae: 0.0485 - val_loss: 0.0109 - val_mae: 0.0785\n",
      "Epoch 177/200\n",
      "149/149 [==============================] - 2s 10ms/step - loss: 0.0039 - mae: 0.0479 - val_loss: 0.0119 - val_mae: 0.0811\n",
      "Epoch 178/200\n",
      "149/149 [==============================] - 2s 11ms/step - loss: 0.0038 - mae: 0.0477 - val_loss: 0.0113 - val_mae: 0.0790\n",
      "Epoch 179/200\n",
      "149/149 [==============================] - 2s 10ms/step - loss: 0.0038 - mae: 0.0473 - val_loss: 0.0114 - val_mae: 0.0802\n",
      "Epoch 180/200\n",
      "149/149 [==============================] - 2s 10ms/step - loss: 0.0038 - mae: 0.0476 - val_loss: 0.0104 - val_mae: 0.0769\n",
      "Epoch 181/200\n",
      "149/149 [==============================] - 2s 11ms/step - loss: 0.0038 - mae: 0.0468 - val_loss: 0.0125 - val_mae: 0.0835\n",
      "Epoch 182/200\n",
      "149/149 [==============================] - 2s 12ms/step - loss: 0.0037 - mae: 0.0472 - val_loss: 0.0109 - val_mae: 0.0767\n",
      "Epoch 183/200\n",
      "149/149 [==============================] - 2s 10ms/step - loss: 0.0037 - mae: 0.0467 - val_loss: 0.0129 - val_mae: 0.0868\n",
      "Epoch 184/200\n",
      "149/149 [==============================] - 2s 10ms/step - loss: 0.0037 - mae: 0.0469 - val_loss: 0.0112 - val_mae: 0.0788\n",
      "Epoch 185/200\n",
      "149/149 [==============================] - 2s 10ms/step - loss: 0.0036 - mae: 0.0462 - val_loss: 0.0121 - val_mae: 0.0831\n",
      "Epoch 186/200\n",
      "149/149 [==============================] - 2s 10ms/step - loss: 0.0035 - mae: 0.0455 - val_loss: 0.0113 - val_mae: 0.0805\n",
      "Epoch 187/200\n",
      "149/149 [==============================] - 2s 10ms/step - loss: 0.0036 - mae: 0.0465 - val_loss: 0.0121 - val_mae: 0.0833\n",
      "Epoch 188/200\n",
      "149/149 [==============================] - 2s 10ms/step - loss: 0.0036 - mae: 0.0459 - val_loss: 0.0122 - val_mae: 0.0833\n",
      "Epoch 189/200\n",
      "149/149 [==============================] - 2s 10ms/step - loss: 0.0035 - mae: 0.0454 - val_loss: 0.0115 - val_mae: 0.0802\n",
      "Epoch 190/200\n",
      "149/149 [==============================] - 2s 10ms/step - loss: 0.0034 - mae: 0.0450 - val_loss: 0.0124 - val_mae: 0.0850\n",
      "Epoch 191/200\n",
      "149/149 [==============================] - 2s 10ms/step - loss: 0.0033 - mae: 0.0441 - val_loss: 0.0122 - val_mae: 0.0831\n",
      "Epoch 192/200\n",
      "149/149 [==============================] - 2s 11ms/step - loss: 0.0034 - mae: 0.0446 - val_loss: 0.0125 - val_mae: 0.0849\n",
      "Epoch 193/200\n",
      "149/149 [==============================] - 2s 10ms/step - loss: 0.0033 - mae: 0.0444 - val_loss: 0.0123 - val_mae: 0.0834\n",
      "Epoch 194/200\n",
      "149/149 [==============================] - 2s 10ms/step - loss: 0.0033 - mae: 0.0441 - val_loss: 0.0117 - val_mae: 0.0820\n",
      "Epoch 195/200\n",
      "149/149 [==============================] - 2s 10ms/step - loss: 0.0033 - mae: 0.0440 - val_loss: 0.0125 - val_mae: 0.0844\n",
      "Epoch 196/200\n",
      "149/149 [==============================] - 2s 11ms/step - loss: 0.0033 - mae: 0.0438 - val_loss: 0.0117 - val_mae: 0.0824\n",
      "Epoch 197/200\n",
      "149/149 [==============================] - 2s 11ms/step - loss: 0.0032 - mae: 0.0437 - val_loss: 0.0126 - val_mae: 0.0845\n",
      "Epoch 198/200\n",
      "149/149 [==============================] - 2s 10ms/step - loss: 0.0031 - mae: 0.0432 - val_loss: 0.0113 - val_mae: 0.0808\n",
      "Epoch 199/200\n",
      "149/149 [==============================] - 2s 10ms/step - loss: 0.0031 - mae: 0.0425 - val_loss: 0.0116 - val_mae: 0.0812\n",
      "Epoch 200/200\n",
      "149/149 [==============================] - 2s 10ms/step - loss: 0.0031 - mae: 0.0432 - val_loss: 0.0134 - val_mae: 0.0873\n",
      "CPU times: user 5min 36s, sys: 21.4 s, total: 5min 57s\n",
      "Wall time: 5min 23s\n"
     ]
    }
   ],
   "source": [
    "%%time\n",
    "\n",
    "hist = model.fit(train_X, train_y,\n",
    "                 epochs = 200, \n",
    "                 batch_size = 16,  \n",
    "                 validation_data = (test_X, test_y))"
   ]
  },
  {
   "cell_type": "markdown",
   "metadata": {
    "id": "Zg95yOFWhkgR"
   },
   "source": [
    "> ## 4) 학습결과 시각화"
   ]
  },
  {
   "cell_type": "code",
   "execution_count": 15,
   "metadata": {
    "colab": {
     "base_uri": "https://localhost:8080/",
     "height": 334
    },
    "executionInfo": {
     "elapsed": 18,
     "status": "ok",
     "timestamp": 1674695390864,
     "user": {
      "displayName": "이정구",
      "userId": "17400242557229223804"
     },
     "user_tz": -540
    },
    "id": "A8Vr3ug9M9zc",
    "outputId": "104eda0b-0002-47a7-d50a-b548cd0217b6"
   },
   "outputs": [
    {
     "data": {
      "image/png": "[encoded data removed]",
      "text/plain": [
       "<Figure size 864x360 with 1 Axes>"
      ]
     },
     "metadata": {
      "needs_background": "light"
     },
     "output_type": "display_data"
    }
   ],
   "source": [
    "plt.figure(figsize = (12, 5))\n",
    "plt.plot(hist.history['loss'])\n",
    "plt.plot(hist.history['val_loss'])\n",
    "\n",
    "plt.ylabel('loss')\n",
    "plt.xlabel('epoch')\n",
    "plt.legend(['Train Loss', 'Valid Loss'], loc = 'upper right')\n",
    "plt.show()"
   ]
  },
  {
   "cell_type": "markdown",
   "metadata": {
    "id": "WeiwThOrinOA"
   },
   "source": [
    "> ## 5) Model Evaluate"
   ]
  },
  {
   "cell_type": "code",
   "execution_count": 16,
   "metadata": {
    "colab": {
     "base_uri": "https://localhost:8080/"
    },
    "executionInfo": {
     "elapsed": 432,
     "status": "ok",
     "timestamp": 1674695391290,
     "user": {
      "displayName": "이정구",
      "userId": "17400242557229223804"
     },
     "user_tz": -540
    },
    "id": "r1q17wACNzKB",
    "outputId": "e97e3f9b-eee1-4bdd-d9f4-68111ec6fb62"
   },
   "outputs": [
    {
     "name": "stdout",
     "output_type": "stream",
     "text": [
      "Train Score:  [0.002702596364542842, 0.039702896028757095]\n",
      "Test Score:  [0.013427807949483395, 0.08731846511363983]\n"
     ]
    }
   ],
   "source": [
    "trainScore = model.evaluate(train_X, train_y, verbose = 0)\n",
    "print('Train Score: ', trainScore)\n",
    "\n",
    "testScore = model.evaluate(test_X, test_y, verbose = 0)\n",
    "print('Test Score: ', testScore)"
   ]
  },
  {
   "cell_type": "markdown",
   "metadata": {
    "id": "dqxgKlNhap2N"
   },
   "source": [
    "# V. Model Predict"
   ]
  },
  {
   "cell_type": "code",
   "execution_count": 17,
   "metadata": {
    "colab": {
     "base_uri": "https://localhost:8080/",
     "height": 320
    },
    "executionInfo": {
     "elapsed": 22189,
     "status": "ok",
     "timestamp": 1674695413477,
     "user": {
      "displayName": "이정구",
      "userId": "17400242557229223804"
     },
     "user_tz": -540
    },
    "id": "7SQlNaHvOeq8",
    "outputId": "9458b97c-338b-4d60-e330-5957604d5e6d"
   },
   "outputs": [
    {
     "data": {
      "image/png": "[encoded data removed]",
      "text/plain": [
       "<Figure size 864x360 with 1 Axes>"
      ]
     },
     "metadata": {
      "needs_background": "light"
     },
     "output_type": "display_data"
    }
   ],
   "source": [
    "look_ahead = 550\n",
    "\n",
    "xhat = test_X[0]\n",
    "\n",
    "predictions = np.zeros((look_ahead, 1))\n",
    "\n",
    "for i in range(look_ahead):\n",
    "    prediction = model.predict(np.array([xhat]), batch_size = 1, verbose = 0)\n",
    "    predictions[i] = prediction\n",
    "    xhat = np.vstack([xhat[1:], prediction])\n",
    "    \n",
    "plt.figure(figsize = (12, 5))\n",
    "plt.plot(np.arange(look_ahead), predictions, 'r', label = 'Prediction')\n",
    "plt.plot(np.arange(look_ahead), test_y[:look_ahead], label = 'Test_Data')\n",
    "plt.legend()\n",
    "plt.show()"
   ]
  },
  {
   "cell_type": "markdown",
   "metadata": {
    "id": "ySWnrG5-h-4X"
   },
   "source": [
    "# \n",
    "# \n",
    "# \n",
    "# The End\n",
    "# \n",
    "# \n",
    "# "
   ]
  }
 ],
 "metadata": {
  "accelerator": "GPU",
  "colab": {
   "provenance": []
  },
  "kernelspec": {
   "display_name": "Python 3 (ipykernel)",
   "language": "python",
   "name": "python3"
  },
  "language_info": {
   "codemirror_mode": {
    "name": "ipython",
    "version": 3
   },
   "file_extension": ".py",
   "mimetype": "text/x-python",
   "name": "python",
   "nbconvert_exporter": "python",
   "pygments_lexer": "ipython3",
   "version": "3.10.8"
  },
  "toc": {
   "base_numbering": 1,
   "nav_menu": {},
   "number_sections": true,
   "sideBar": true,
   "skip_h1_title": false,
   "title_cell": "Table of Contents",
   "title_sidebar": "Contents",
   "toc_cell": false,
   "toc_position": {},
   "toc_section_display": true,
   "toc_window_display": false
  }
 },
 "nbformat": 4,
 "nbformat_minor": 1
}
