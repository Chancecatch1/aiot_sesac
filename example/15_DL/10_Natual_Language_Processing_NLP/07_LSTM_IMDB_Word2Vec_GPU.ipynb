{
 "cells": [
  {
   "cell_type": "markdown",
   "metadata": {
    "id": "i4Zsf2GlZmbk"
   },
   "source": [
    "# IMDB - Word2Vec with LSTM\n",
    "> ## NLP(Natural Language Processing)"
   ]
  },
  {
   "cell_type": "code",
   "execution_count": null,
   "metadata": {
    "id": "RbPgODpVzdHI"
   },
   "outputs": [],
   "source": [
    "import warnings\n",
    "warnings.filterwarnings('ignore')"
   ]
  },
  {
   "cell_type": "markdown",
   "metadata": {
    "id": "m7cryRtTQh1d"
   },
   "source": [
    "## Import Tensorflow"
   ]
  },
  {
   "cell_type": "code",
   "execution_count": null,
   "metadata": {
    "colab": {
     "base_uri": "https://localhost:8080/",
     "height": 35
    },
    "executionInfo": {
     "elapsed": 4079,
     "status": "ok",
     "timestamp": 1674721868071,
     "user": {
      "displayName": "이정구",
      "userId": "10412141110999311561"
     },
     "user_tz": -540
    },
    "id": "6Grj7IWWZhfd",
    "outputId": "8ce75bd2-ee7f-4772-fa71-6d1450d6e1ff"
   },
   "outputs": [
    {
     "data": {
      "application/vnd.google.colaboratory.intrinsic+json": {
       "type": "string"
      },
      "text/plain": [
       "'2.9.2'"
      ]
     },
     "execution_count": 2,
     "metadata": {},
     "output_type": "execute_result"
    }
   ],
   "source": [
    "import tensorflow\n",
    "\n",
    "tensorflow.__version__"
   ]
  },
  {
   "cell_type": "markdown",
   "metadata": {
    "id": "BVvR9iWBBHFz"
   },
   "source": [
    "# I. IMDB Data_Set"
   ]
  },
  {
   "cell_type": "markdown",
   "metadata": {
    "id": "Xg6K-DLuaivQ"
   },
   "source": [
    "> ## 1) wget From Github\n",
    "\n",
    "* 'IMDB.zip' 파일 다운로드"
   ]
  },
  {
   "cell_type": "code",
   "execution_count": null,
   "metadata": {
    "colab": {
     "base_uri": "https://localhost:8080/"
    },
    "executionInfo": {
     "elapsed": 4361,
     "status": "ok",
     "timestamp": 1674721872412,
     "user": {
      "displayName": "이정구",
      "userId": "10412141110999311561"
     },
     "user_tz": -540
    },
    "id": "f32hYtuOh4F4",
    "outputId": "47b11e1f-2dd2-4e29-e723-7ed79318b01f"
   },
   "outputs": [
    {
     "name": "stdout",
     "output_type": "stream",
     "text": [
      "--2023-01-26 08:31:07--  https://raw.githubusercontent.com/rusita-ai/pyData/master/IMDB.zip\n",
      "Resolving raw.githubusercontent.com (raw.githubusercontent.com)... 185.199.110.133, 185.199.111.133, 185.199.108.133, ...\n",
      "Connecting to raw.githubusercontent.com (raw.githubusercontent.com)|185.199.110.133|:443... connected.\n",
      "HTTP request sent, awaiting response... 200 OK\n",
      "Length: 60711700 (58M) [application/zip]\n",
      "Saving to: ‘IMDB.zip’\n",
      "\n",
      "IMDB.zip            100%[===================>]  57.90M   146MB/s    in 0.4s    \n",
      "\n",
      "2023-01-26 08:31:11 (146 MB/s) - ‘IMDB.zip’ saved [60711700/60711700]\n",
      "\n"
     ]
    }
   ],
   "source": [
    "!wget https://raw.githubusercontent.com/rusita-ai/pyData/master/IMDB.zip"
   ]
  },
  {
   "cell_type": "markdown",
   "metadata": {
    "id": "O0njEDt2CgqJ"
   },
   "source": [
    "* 다운로드 결과 확인"
   ]
  },
  {
   "cell_type": "code",
   "execution_count": null,
   "metadata": {
    "colab": {
     "base_uri": "https://localhost:8080/"
    },
    "executionInfo": {
     "elapsed": 16,
     "status": "ok",
     "timestamp": 1674721872413,
     "user": {
      "displayName": "이정구",
      "userId": "10412141110999311561"
     },
     "user_tz": -540
    },
    "id": "A9XdvsnVCgqK",
    "outputId": "1ebc908b-d1bc-409c-f55b-385756bf67ee"
   },
   "outputs": [
    {
     "name": "stdout",
     "output_type": "stream",
     "text": [
      "total 59296\n",
      "-rw-r--r-- 1 root root 60711700 Jan 26 08:31 IMDB.zip\n",
      "drwxr-xr-x 1 root root     4096 Jan 24 14:38 sample_data\n"
     ]
    }
   ],
   "source": [
    "!ls -l "
   ]
  },
  {
   "cell_type": "markdown",
   "metadata": {
    "id": "dHeFxMfN009E"
   },
   "source": [
    "* Unzip 'IMBD.zip'"
   ]
  },
  {
   "cell_type": "code",
   "execution_count": null,
   "metadata": {
    "id": "tBhhVzho3pVF"
   },
   "outputs": [],
   "source": [
    "!unzip -q /content/IMDB.zip"
   ]
  },
  {
   "cell_type": "markdown",
   "metadata": {
    "id": "p806YpXUlmA9"
   },
   "source": [
    "> ## 2) 'texts' and 'labels' Data\n",
    "\n",
    "* 'texts': 문자열 리스트(영화 감상평)\n",
    "* 'lebels': 감상평 리뷰(긍정/부정)"
   ]
  },
  {
   "cell_type": "code",
   "execution_count": null,
   "metadata": {
    "id": "1R7mWyjx33aQ"
   },
   "outputs": [],
   "source": [
    "import os\n",
    "\n",
    "imdb_dir = 'aclImdb'\n",
    "train_dir = os.path.join(imdb_dir, 'train')\n",
    "\n",
    "labels = []\n",
    "texts = []\n",
    "\n",
    "for label_type in ['neg', 'pos']:\n",
    "    dir_name = os.path.join(train_dir, label_type)\n",
    "    for fname in os.listdir(dir_name):\n",
    "        if fname[-4:] == '.txt':\n",
    "            f = open(os.path.join(dir_name, fname), encoding = 'utf8')\n",
    "            texts.append(f.read())\n",
    "            f.close()\n",
    "            if label_type == 'neg':\n",
    "                labels.append(0)\n",
    "            else:\n",
    "                labels.append(1)"
   ]
  },
  {
   "cell_type": "code",
   "execution_count": null,
   "metadata": {
    "colab": {
     "base_uri": "https://localhost:8080/"
    },
    "executionInfo": {
     "elapsed": 7,
     "status": "ok",
     "timestamp": 1674721889369,
     "user": {
      "displayName": "이정구",
      "userId": "10412141110999311561"
     },
     "user_tz": -540
    },
    "id": "wEho52GZ4N4O",
    "outputId": "e4821c2d-958e-4931-9f97-be97b7b0a777"
   },
   "outputs": [
    {
     "data": {
      "text/plain": [
       "(25000, 25000)"
      ]
     },
     "execution_count": 7,
     "metadata": {},
     "output_type": "execute_result"
    }
   ],
   "source": [
    "len(labels), len(texts)"
   ]
  },
  {
   "cell_type": "markdown",
   "metadata": {
    "id": "2FXpQz3hCn1Q"
   },
   "source": [
    "# II. Tensor Transformation"
   ]
  },
  {
   "cell_type": "markdown",
   "metadata": {
    "id": "ktRZ0LEuaoIv"
   },
   "source": [
    "> ## 1) X_train and X_valid : (25000, 2000)"
   ]
  },
  {
   "cell_type": "markdown",
   "metadata": {
    "id": "Ytr5lfZMd86B"
   },
   "source": [
    "* vectorization\n",
    " - (25000, 2000)"
   ]
  },
  {
   "cell_type": "code",
   "execution_count": null,
   "metadata": {
    "colab": {
     "base_uri": "https://localhost:8080/"
    },
    "executionInfo": {
     "elapsed": 10124,
     "status": "ok",
     "timestamp": 1674721899491,
     "user": {
      "displayName": "이정구",
      "userId": "10412141110999311561"
     },
     "user_tz": -540
    },
    "id": "7lTG24Kc4cjR",
    "outputId": "ed0cd40d-57f0-4de7-f705-a9ba94b02874"
   },
   "outputs": [
    {
     "name": "stdout",
     "output_type": "stream",
     "text": [
      "88582개의 고유한 토큰을 찾았습니다.\n",
      "데이터 텐서의 크기: (25000, 2000)\n",
      "레이블 텐서의 크기: (25000,)\n"
     ]
    }
   ],
   "source": [
    "import numpy as np\n",
    "from tensorflow.keras.preprocessing.text import Tokenizer\n",
    "from tensorflow.keras.preprocessing.sequence import pad_sequences\n",
    "\n",
    "maxlen = 2000               # 2000개 단어까지 적용\n",
    "max_words = 10000           # 빈도 높은 10000개 단어 사용\n",
    "\n",
    "tokenizer = Tokenizer(num_words = max_words)\n",
    "tokenizer.fit_on_texts(texts)\n",
    "sequences = tokenizer.texts_to_sequences(texts)\n",
    "\n",
    "word_index = tokenizer.word_index\n",
    "print('%s개의 고유한 토큰을 찾았습니다.' % len(word_index))\n",
    "\n",
    "# (25000, 2000)으로 패딩\n",
    "data = pad_sequences(sequences, maxlen = maxlen)\n",
    "\n",
    "labels = np.asarray(labels)\n",
    "print('데이터 텐서의 크기:', data.shape)\n",
    "print('레이블 텐서의 크기:', labels.shape)\n",
    "\n",
    "\n",
    "# 샘플 데이터 랜덤화\n",
    "indices = np.arange(data.shape[0])\n",
    "np.random.shuffle(indices)\n",
    "data = data[indices]\n",
    "labels = labels[indices]\n",
    "\n",
    "\n",
    "# 데이터를 훈련 세트와 검증 세트로 분할\n",
    "training_samples = 15000            # 훈련 샘플은 15000개\n",
    "validation_samples = 10000          # 검증 샘플은 10000개\n",
    "\n",
    "X_train = data[:training_samples]\n",
    "y_train = labels[:training_samples]\n",
    "X_valid = data[training_samples: training_samples + validation_samples]\n",
    "y_valid = labels[training_samples: training_samples + validation_samples]"
   ]
  },
  {
   "cell_type": "markdown",
   "metadata": {
    "id": "WBZ0lrMq2RER"
   },
   "source": [
    "# III. Word2Vec\n",
    "\n",
    "https://tfhub.dev/google/Wiki-words-250-with-normalization/2"
   ]
  },
  {
   "cell_type": "markdown",
   "metadata": {
    "id": "juXzae0Umy7B"
   },
   "source": [
    "> ## 1) Load Pretrained Word2Vec"
   ]
  },
  {
   "cell_type": "code",
   "execution_count": null,
   "metadata": {
    "id": "ahN3GdiWE3wM"
   },
   "outputs": [],
   "source": [
    "import tensorflow_hub as hub\n",
    "\n",
    "embeddings_index = hub.load('https://tfhub.dev/google/Wiki-words-250/2')"
   ]
  },
  {
   "cell_type": "markdown",
   "metadata": {
    "id": "jQ3aDtrpk0Ee"
   },
   "source": [
    "* Word2Vec 매핑 확인"
   ]
  },
  {
   "cell_type": "code",
   "execution_count": null,
   "metadata": {
    "colab": {
     "base_uri": "https://localhost:8080/"
    },
    "executionInfo": {
     "elapsed": 8,
     "status": "ok",
     "timestamp": 1674721947112,
     "user": {
      "displayName": "이정구",
      "userId": "10412141110999311561"
     },
     "user_tz": -540
    },
    "id": "E48LvrM4F054",
    "outputId": "8e0114d0-7d4d-4d41-e818-c4f0503a9fcc"
   },
   "outputs": [
    {
     "data": {
      "text/plain": [
       "<tf.Tensor: shape=(1, 250), dtype=float32, numpy=\n",
       "array([[-7.81319588e-02, -7.97718316e-02,  1.65636316e-02,\n",
       "        -1.08001232e-02, -5.10360440e-03,  1.73767412e-03,\n",
       "        -5.22104278e-02, -3.89753021e-02,  3.56903672e-02,\n",
       "        -3.47909741e-02, -1.01491222e-02,  1.17565657e-03,\n",
       "         1.01802059e-01,  1.75360963e-02,  3.36469710e-02,\n",
       "         2.79656947e-02,  9.57141817e-02, -7.82085657e-02,\n",
       "         5.06314561e-02, -1.66016668e-01,  2.88206208e-02,\n",
       "         6.76635057e-02,  9.70917642e-02,  1.79236010e-02,\n",
       "        -5.42766303e-02, -1.56506345e-01, -5.30809052e-02,\n",
       "        -1.09254161e-03, -1.59554277e-02, -6.70691356e-02,\n",
       "         6.15172908e-02,  4.47090678e-02,  4.07696068e-02,\n",
       "        -3.83969024e-02,  6.96176291e-02, -5.60147781e-03,\n",
       "        -2.26747449e-02, -3.67878452e-02, -5.66431917e-02,\n",
       "        -2.18681507e-02, -8.86453837e-02, -2.22746611e-01,\n",
       "        -2.07957737e-02,  8.30694276e-04, -3.93166617e-02,\n",
       "         5.93367852e-02,  4.33623493e-02,  2.82799695e-02,\n",
       "        -3.33397463e-02,  4.76312377e-02, -1.70567650e-02,\n",
       "        -2.29284037e-02, -6.83813961e-03,  9.81669277e-02,\n",
       "         1.08622149e-01,  2.33869702e-02,  9.60301422e-03,\n",
       "        -5.18808290e-02,  9.87230614e-03, -8.69225897e-03,\n",
       "        -7.11247921e-02,  7.64381886e-02, -2.43284814e-02,\n",
       "        -1.53728379e-02, -1.62205976e-02,  6.06783573e-03,\n",
       "        -7.78824538e-02, -4.63543087e-02, -6.10455871e-02,\n",
       "         3.76226790e-02, -3.59688103e-02, -2.22809706e-03,\n",
       "         7.61934593e-02, -5.42140864e-02,  8.81553534e-03,\n",
       "         1.02721518e-02, -2.33051814e-02,  5.69647923e-02,\n",
       "        -1.97233241e-02,  5.40813841e-02, -1.06068708e-01,\n",
       "        -4.93893884e-02,  7.71986991e-02,  7.54192844e-02,\n",
       "        -9.59494933e-02,  1.31888255e-01, -9.32045653e-02,\n",
       "         3.91011648e-02,  9.07641053e-02, -1.92628205e-02,\n",
       "        -2.80017368e-02,  1.24782704e-01, -4.39715805e-03,\n",
       "        -6.76676631e-02,  4.82756756e-02, -8.52152854e-02,\n",
       "         2.47792583e-02, -1.15225026e-02, -5.91450334e-02,\n",
       "         5.01944311e-02,  6.20031133e-02, -5.91100939e-02,\n",
       "        -6.27844781e-02,  1.29692315e-03, -1.05377071e-01,\n",
       "        -9.93670970e-02,  3.99318524e-05,  1.49191227e-02,\n",
       "         4.78936266e-03, -1.33457212e-02,  3.32747735e-02,\n",
       "         1.46604422e-02,  4.45817932e-02, -6.77856291e-03,\n",
       "         8.64909738e-02, -5.00659496e-02,  6.05830625e-02,\n",
       "        -5.85512519e-02, -7.41328374e-02, -4.07381281e-02,\n",
       "        -4.62190509e-02, -2.91668661e-02, -4.27213088e-02,\n",
       "        -8.50341916e-02, -7.91059509e-02, -6.71506599e-02,\n",
       "         1.28828017e-02, -1.12139061e-02, -2.05859430e-02,\n",
       "         2.96257101e-02, -1.02398887e-01, -7.77662396e-02,\n",
       "        -1.40929092e-02, -9.11662430e-02, -6.77241236e-02,\n",
       "        -7.13218153e-02, -2.31174957e-02, -5.25913984e-02,\n",
       "         5.41850226e-03,  4.89527360e-02, -1.23757459e-02,\n",
       "         9.59252100e-03, -2.92501189e-02,  6.46212921e-02,\n",
       "        -6.40202463e-02,  1.71411615e-02, -1.26278475e-01,\n",
       "         6.52319491e-02, -6.71177506e-02, -1.82377342e-02,\n",
       "         1.48606636e-02,  5.96186668e-02, -3.32654566e-02,\n",
       "         1.99540146e-03, -5.77870682e-02,  5.53884953e-02,\n",
       "         1.13689369e-02, -7.79620459e-05, -5.87577112e-02,\n",
       "         7.56517053e-02,  4.84508127e-02, -3.61890532e-02,\n",
       "        -1.79408665e-03,  2.08812468e-02,  2.92749479e-02,\n",
       "        -9.95378569e-02, -2.77001262e-02,  1.80020705e-02,\n",
       "         2.97355093e-02, -1.23234659e-01, -5.09306304e-02,\n",
       "        -3.30761299e-02, -5.26242852e-02, -3.00878249e-02,\n",
       "        -3.25103439e-02,  1.60111822e-02,  3.44622023e-02,\n",
       "         5.15305474e-02, -1.93752497e-02,  1.57669075e-02,\n",
       "        -3.71751264e-02, -5.06176986e-02,  2.44201999e-02,\n",
       "        -1.51907057e-01,  2.39913464e-02, -1.13003314e-01,\n",
       "         1.30787894e-01, -4.54162620e-02, -9.83388200e-02,\n",
       "        -1.24397818e-02,  5.24396077e-02, -1.16456941e-01,\n",
       "         3.62680256e-02,  1.95654272e-03, -1.14642255e-01,\n",
       "        -8.16667303e-02,  7.88934752e-02, -1.04228251e-01,\n",
       "        -6.75295442e-02, -6.10613637e-02, -8.38295445e-02,\n",
       "        -1.31067276e-01,  4.69972305e-02,  3.72825861e-02,\n",
       "        -4.98914123e-02,  8.17808285e-02,  3.24426554e-02,\n",
       "        -1.22130230e-01,  3.11189927e-02, -7.21874386e-02,\n",
       "        -1.13061234e-01,  1.23376660e-02,  7.12911040e-02,\n",
       "        -4.75360453e-02,  4.95079681e-02,  1.43659227e-02,\n",
       "        -4.67221104e-02, -1.09122954e-01, -1.99307594e-03,\n",
       "        -3.16081159e-02,  5.52820191e-02,  6.98578060e-02,\n",
       "         3.89518999e-02,  1.15182936e-01,  2.25902516e-02,\n",
       "         2.15961877e-02, -1.35523528e-02,  8.84871632e-02,\n",
       "         2.74604987e-02,  5.00014126e-02,  3.15750227e-03,\n",
       "        -6.46323934e-02, -7.36401677e-02, -9.05453321e-03,\n",
       "        -2.28001043e-01,  4.16552834e-02, -7.54309520e-02,\n",
       "         2.18629744e-02,  5.21304719e-02,  7.64516816e-02,\n",
       "         7.53603727e-02, -1.03571914e-01,  1.18187003e-01,\n",
       "         2.14495473e-02,  4.93886471e-02, -2.27750335e-02,\n",
       "         3.69624197e-02,  5.50020039e-02, -1.24344015e-02,\n",
       "         1.29382275e-02]], dtype=float32)>"
      ]
     },
     "execution_count": 10,
     "metadata": {},
     "output_type": "execute_result"
    }
   ],
   "source": [
    "embeddings_index(['apple'])"
   ]
  },
  {
   "cell_type": "markdown",
   "metadata": {
    "id": "yYXHgSKgkSHX"
   },
   "source": [
    "> ## 2) 임베딩 행렬 생성\n",
    "\n",
    "* (10000, 250)\n",
    " - 약 2분"
   ]
  },
  {
   "cell_type": "code",
   "execution_count": null,
   "metadata": {
    "colab": {
     "base_uri": "https://localhost:8080/"
    },
    "executionInfo": {
     "elapsed": 106677,
     "status": "ok",
     "timestamp": 1674722053786,
     "user": {
      "displayName": "이정구",
      "userId": "10412141110999311561"
     },
     "user_tz": -540
    },
    "id": "w29_ljKcFqKx",
    "outputId": "d4371a2a-6797-44d2-94e0-2262a9ee65d3"
   },
   "outputs": [
    {
     "name": "stdout",
     "output_type": "stream",
     "text": [
      "CPU times: user 2min 14s, sys: 15.6 s, total: 2min 29s\n",
      "Wall time: 1min 46s\n"
     ]
    }
   ],
   "source": [
    "%%time\n",
    "\n",
    "embedding_dim = 250\n",
    "\n",
    "embedding_matrix = np.zeros((max_words, embedding_dim))\n",
    "\n",
    "for word, i in word_index.items():\n",
    "    embedding_vector = embeddings_index([word])\n",
    "    if i < max_words:\n",
    "        if embedding_vector is not None:\n",
    "            # 임베딩 인덱스에 없는 단어는 모두 0이 됨\n",
    "            embedding_matrix[i] = embedding_vector"
   ]
  },
  {
   "cell_type": "markdown",
   "metadata": {
    "id": "AMVQ1LBnnxAn"
   },
   "source": [
    "* 확인"
   ]
  },
  {
   "cell_type": "code",
   "execution_count": null,
   "metadata": {
    "colab": {
     "base_uri": "https://localhost:8080/"
    },
    "executionInfo": {
     "elapsed": 34,
     "status": "ok",
     "timestamp": 1674722053787,
     "user": {
      "displayName": "이정구",
      "userId": "10412141110999311561"
     },
     "user_tz": -540
    },
    "id": "Zm-_wB6Nnn19",
    "outputId": "1c49e4ce-23cd-4f96-a386-5b8363033789"
   },
   "outputs": [
    {
     "data": {
      "text/plain": [
       "(10000, 250)"
      ]
     },
     "execution_count": 12,
     "metadata": {},
     "output_type": "execute_result"
    }
   ],
   "source": [
    "embedding_matrix.shape"
   ]
  },
  {
   "cell_type": "markdown",
   "metadata": {
    "id": "kvsN9jNLDQO6"
   },
   "source": [
    "# IV. Keras Embedding Modeling"
   ]
  },
  {
   "cell_type": "markdown",
   "metadata": {
    "id": "gaNenfHbOwSM"
   },
   "source": [
    "> ## 1) Model Define"
   ]
  },
  {
   "cell_type": "markdown",
   "metadata": {
    "id": "ceGhnn1tO_0P"
   },
   "source": [
    "* 모델 신경망 구조 정의\n",
    " - max_words: 10000\n",
    " - embedding_dim: 250"
   ]
  },
  {
   "cell_type": "code",
   "execution_count": null,
   "metadata": {
    "colab": {
     "base_uri": "https://localhost:8080/"
    },
    "executionInfo": {
     "elapsed": 31,
     "status": "ok",
     "timestamp": 1674722053787,
     "user": {
      "displayName": "이정구",
      "userId": "10412141110999311561"
     },
     "user_tz": -540
    },
    "id": "Nra8_pdYfEbI",
    "outputId": "56ac7914-73c6-4acc-cd17-4ad570e71ed0"
   },
   "outputs": [
    {
     "name": "stdout",
     "output_type": "stream",
     "text": [
      "Model: \"sequential\"\n",
      "_________________________________________________________________\n",
      " Layer (type)                Output Shape              Param #   \n",
      "=================================================================\n",
      " embedding (Embedding)       (None, None, 250)         2500000   \n",
      "                                                                 \n",
      " lstm (LSTM)                 (None, 32)                36224     \n",
      "                                                                 \n",
      " dense (Dense)               (None, 1)                 33        \n",
      "                                                                 \n",
      "=================================================================\n",
      "Total params: 2,536,257\n",
      "Trainable params: 2,536,257\n",
      "Non-trainable params: 0\n",
      "_________________________________________________________________\n"
     ]
    }
   ],
   "source": [
    "from tensorflow.keras import models\n",
    "from tensorflow.keras import layers\n",
    "\n",
    "imdb = models.Sequential()\n",
    "\n",
    "imdb.add(layers.Embedding(input_dim = max_words,\n",
    "                          output_dim = embedding_dim))\n",
    "imdb.add(layers.LSTM(32))\n",
    "imdb.add(layers.Dense(1, activation = 'sigmoid'))\n",
    "\n",
    "imdb.summary()"
   ]
  },
  {
   "cell_type": "markdown",
   "metadata": {
    "id": "eEukkhtuJy7g"
   },
   "source": [
    "> ### (1) <font color = 'blue'>'Word2Vec' Embedding Layer Parameter 설정"
   ]
  },
  {
   "cell_type": "code",
   "execution_count": null,
   "metadata": {
    "id": "-vJeLYkn7W-U"
   },
   "outputs": [],
   "source": [
    "imdb.layers[0].set_weights([embedding_matrix])"
   ]
  },
  {
   "cell_type": "markdown",
   "metadata": {
    "id": "GFzQVrL96klY"
   },
   "source": [
    "> ### (2) <font color = 'red'>'Word2Vec' Embedding Layer Parameter 동결"
   ]
  },
  {
   "cell_type": "code",
   "execution_count": null,
   "metadata": {
    "id": "lZt83w_q6iR6"
   },
   "outputs": [],
   "source": [
    "imdb.layers[0].trainable = False"
   ]
  },
  {
   "cell_type": "markdown",
   "metadata": {
    "id": "2-tCxHmwPBfQ"
   },
   "source": [
    "> ### (3) 모델 구조 확인"
   ]
  },
  {
   "cell_type": "code",
   "execution_count": null,
   "metadata": {
    "colab": {
     "base_uri": "https://localhost:8080/"
    },
    "executionInfo": {
     "elapsed": 27,
     "status": "ok",
     "timestamp": 1674722053788,
     "user": {
      "displayName": "이정구",
      "userId": "10412141110999311561"
     },
     "user_tz": -540
    },
    "id": "GwPhayISDpp8",
    "outputId": "c6c63513-fd4b-4b49-c8a0-2c0c598962ae"
   },
   "outputs": [
    {
     "name": "stdout",
     "output_type": "stream",
     "text": [
      "Model: \"sequential\"\n",
      "_________________________________________________________________\n",
      " Layer (type)                Output Shape              Param #   \n",
      "=================================================================\n",
      " embedding (Embedding)       (None, None, 250)         2500000   \n",
      "                                                                 \n",
      " lstm (LSTM)                 (None, 32)                36224     \n",
      "                                                                 \n",
      " dense (Dense)               (None, 1)                 33        \n",
      "                                                                 \n",
      "=================================================================\n",
      "Total params: 2,536,257\n",
      "Trainable params: 36,257\n",
      "Non-trainable params: 2,500,000\n",
      "_________________________________________________________________\n"
     ]
    }
   ],
   "source": [
    "imdb.summary()"
   ]
  },
  {
   "cell_type": "markdown",
   "metadata": {
    "id": "HTGpTEQXDVp0"
   },
   "source": [
    "> ## 2) Model Compile"
   ]
  },
  {
   "cell_type": "markdown",
   "metadata": {
    "id": "Y4PkohjpPPRT"
   },
   "source": [
    "* 모델 학습방법 설정"
   ]
  },
  {
   "cell_type": "code",
   "execution_count": null,
   "metadata": {
    "id": "UcQP7161fXpr"
   },
   "outputs": [],
   "source": [
    "imdb.compile(loss = 'binary_crossentropy',\n",
    "             optimizer = 'adam',\n",
    "             metrics = ['accuracy'])"
   ]
  },
  {
   "cell_type": "markdown",
   "metadata": {
    "id": "_j4bBF6fDi2a"
   },
   "source": [
    "> ## 3) Model Fit"
   ]
  },
  {
   "cell_type": "markdown",
   "metadata": {
    "id": "AWipAt9ZPbox"
   },
   "source": [
    "* 약 10분"
   ]
  },
  {
   "cell_type": "code",
   "execution_count": null,
   "metadata": {
    "colab": {
     "base_uri": "https://localhost:8080/"
    },
    "executionInfo": {
     "elapsed": 526650,
     "status": "ok",
     "timestamp": 1674722580421,
     "user": {
      "displayName": "이정구",
      "userId": "10412141110999311561"
     },
     "user_tz": -540
    },
    "id": "dWXKNdQ5fw67",
    "outputId": "91ed26e0-74d6-4774-c9d4-24aec911ebe8"
   },
   "outputs": [
    {
     "name": "stdout",
     "output_type": "stream",
     "text": [
      "Epoch 1/100\n",
      "30/30 [==============================] - 12s 183ms/step - loss: 0.6792 - accuracy: 0.5747 - val_loss: 0.6184 - val_accuracy: 0.6628\n",
      "Epoch 2/100\n",
      "30/30 [==============================] - 5s 175ms/step - loss: 0.6032 - accuracy: 0.6855 - val_loss: 0.5743 - val_accuracy: 0.7154\n",
      "Epoch 3/100\n",
      "30/30 [==============================] - 5s 175ms/step - loss: 0.5570 - accuracy: 0.7269 - val_loss: 0.5294 - val_accuracy: 0.7466\n",
      "Epoch 4/100\n",
      "30/30 [==============================] - 5s 179ms/step - loss: 0.5246 - accuracy: 0.7482 - val_loss: 0.5350 - val_accuracy: 0.7497\n",
      "Epoch 5/100\n",
      "30/30 [==============================] - 5s 178ms/step - loss: 0.5173 - accuracy: 0.7552 - val_loss: 0.5044 - val_accuracy: 0.7641\n",
      "Epoch 6/100\n",
      "30/30 [==============================] - 5s 179ms/step - loss: 0.4927 - accuracy: 0.7677 - val_loss: 0.4775 - val_accuracy: 0.7766\n",
      "Epoch 7/100\n",
      "30/30 [==============================] - 5s 178ms/step - loss: 0.4759 - accuracy: 0.7771 - val_loss: 0.4737 - val_accuracy: 0.7794\n",
      "Epoch 8/100\n",
      "30/30 [==============================] - 5s 173ms/step - loss: 0.4733 - accuracy: 0.7805 - val_loss: 0.4653 - val_accuracy: 0.7857\n",
      "Epoch 9/100\n",
      "30/30 [==============================] - 5s 172ms/step - loss: 0.4662 - accuracy: 0.7821 - val_loss: 0.4515 - val_accuracy: 0.7886\n",
      "Epoch 10/100\n",
      "30/30 [==============================] - 5s 171ms/step - loss: 0.4507 - accuracy: 0.7931 - val_loss: 0.4579 - val_accuracy: 0.7849\n",
      "Epoch 11/100\n",
      "30/30 [==============================] - 5s 172ms/step - loss: 0.4856 - accuracy: 0.7759 - val_loss: 0.4767 - val_accuracy: 0.7828\n",
      "Epoch 12/100\n",
      "30/30 [==============================] - 5s 172ms/step - loss: 0.4702 - accuracy: 0.7837 - val_loss: 0.4437 - val_accuracy: 0.7989\n",
      "Epoch 13/100\n",
      "30/30 [==============================] - 6s 206ms/step - loss: 0.4537 - accuracy: 0.7913 - val_loss: 0.4359 - val_accuracy: 0.8010\n",
      "Epoch 14/100\n",
      "30/30 [==============================] - 5s 170ms/step - loss: 0.4362 - accuracy: 0.8013 - val_loss: 0.4664 - val_accuracy: 0.7919\n",
      "Epoch 15/100\n",
      "30/30 [==============================] - 5s 173ms/step - loss: 0.4334 - accuracy: 0.8023 - val_loss: 0.4303 - val_accuracy: 0.8076\n",
      "Epoch 16/100\n",
      "30/30 [==============================] - 5s 171ms/step - loss: 0.4394 - accuracy: 0.7989 - val_loss: 0.4359 - val_accuracy: 0.8017\n",
      "Epoch 17/100\n",
      "30/30 [==============================] - 5s 171ms/step - loss: 0.4300 - accuracy: 0.8044 - val_loss: 0.4343 - val_accuracy: 0.8066\n",
      "Epoch 18/100\n",
      "30/30 [==============================] - 5s 173ms/step - loss: 0.4348 - accuracy: 0.8022 - val_loss: 0.4597 - val_accuracy: 0.7942\n",
      "Epoch 19/100\n",
      "30/30 [==============================] - 5s 172ms/step - loss: 0.4274 - accuracy: 0.8073 - val_loss: 0.4170 - val_accuracy: 0.8137\n",
      "Epoch 20/100\n",
      "30/30 [==============================] - 5s 171ms/step - loss: 0.4197 - accuracy: 0.8109 - val_loss: 0.4131 - val_accuracy: 0.8179\n",
      "Epoch 21/100\n",
      "30/30 [==============================] - 5s 173ms/step - loss: 0.4121 - accuracy: 0.8141 - val_loss: 0.4129 - val_accuracy: 0.8193\n",
      "Epoch 22/100\n",
      "30/30 [==============================] - 5s 174ms/step - loss: 0.4053 - accuracy: 0.8179 - val_loss: 0.4185 - val_accuracy: 0.8116\n",
      "Epoch 23/100\n",
      "30/30 [==============================] - 5s 173ms/step - loss: 0.4073 - accuracy: 0.8153 - val_loss: 0.4256 - val_accuracy: 0.8062\n",
      "Epoch 24/100\n",
      "30/30 [==============================] - 5s 174ms/step - loss: 0.4087 - accuracy: 0.8151 - val_loss: 0.4216 - val_accuracy: 0.8156\n",
      "Epoch 25/100\n",
      "30/30 [==============================] - 5s 175ms/step - loss: 0.4098 - accuracy: 0.8163 - val_loss: 0.4151 - val_accuracy: 0.8188\n",
      "Epoch 26/100\n",
      "30/30 [==============================] - 5s 174ms/step - loss: 0.4125 - accuracy: 0.8176 - val_loss: 0.4096 - val_accuracy: 0.8171\n",
      "Epoch 27/100\n",
      "30/30 [==============================] - 5s 176ms/step - loss: 0.3930 - accuracy: 0.8255 - val_loss: 0.4059 - val_accuracy: 0.8212\n",
      "Epoch 28/100\n",
      "30/30 [==============================] - 5s 177ms/step - loss: 0.3920 - accuracy: 0.8250 - val_loss: 0.4270 - val_accuracy: 0.8076\n",
      "Epoch 29/100\n",
      "30/30 [==============================] - 5s 176ms/step - loss: 0.3930 - accuracy: 0.8239 - val_loss: 0.3941 - val_accuracy: 0.8283\n",
      "Epoch 30/100\n",
      "30/30 [==============================] - 5s 177ms/step - loss: 0.3884 - accuracy: 0.8284 - val_loss: 0.3974 - val_accuracy: 0.8278\n",
      "Epoch 31/100\n",
      "30/30 [==============================] - 5s 177ms/step - loss: 0.3875 - accuracy: 0.8296 - val_loss: 0.3946 - val_accuracy: 0.8285\n",
      "Epoch 32/100\n",
      "30/30 [==============================] - 5s 175ms/step - loss: 0.3786 - accuracy: 0.8342 - val_loss: 0.3950 - val_accuracy: 0.8283\n",
      "Epoch 33/100\n",
      "30/30 [==============================] - 5s 178ms/step - loss: 0.3984 - accuracy: 0.8258 - val_loss: 0.4024 - val_accuracy: 0.8183\n",
      "Epoch 34/100\n",
      "30/30 [==============================] - 5s 175ms/step - loss: 0.3833 - accuracy: 0.8299 - val_loss: 0.4354 - val_accuracy: 0.8004\n",
      "Epoch 35/100\n",
      "30/30 [==============================] - 5s 173ms/step - loss: 0.3895 - accuracy: 0.8261 - val_loss: 0.3892 - val_accuracy: 0.8313\n",
      "Epoch 36/100\n",
      "30/30 [==============================] - 5s 175ms/step - loss: 0.3840 - accuracy: 0.8280 - val_loss: 0.3896 - val_accuracy: 0.8298\n",
      "Epoch 37/100\n",
      "30/30 [==============================] - 5s 173ms/step - loss: 0.3840 - accuracy: 0.8287 - val_loss: 0.4029 - val_accuracy: 0.8221\n",
      "Epoch 38/100\n",
      "30/30 [==============================] - 5s 174ms/step - loss: 0.3727 - accuracy: 0.8367 - val_loss: 0.3977 - val_accuracy: 0.8313\n",
      "Epoch 39/100\n",
      "30/30 [==============================] - 5s 170ms/step - loss: 0.3786 - accuracy: 0.8311 - val_loss: 0.4667 - val_accuracy: 0.8007\n",
      "Epoch 40/100\n",
      "30/30 [==============================] - 5s 174ms/step - loss: 0.3999 - accuracy: 0.8223 - val_loss: 0.4146 - val_accuracy: 0.8143\n",
      "Epoch 41/100\n",
      "30/30 [==============================] - 5s 174ms/step - loss: 0.3825 - accuracy: 0.8322 - val_loss: 0.3823 - val_accuracy: 0.8352\n",
      "Epoch 42/100\n",
      "30/30 [==============================] - 5s 175ms/step - loss: 0.3658 - accuracy: 0.8432 - val_loss: 0.3825 - val_accuracy: 0.8349\n",
      "Epoch 43/100\n",
      "30/30 [==============================] - 5s 175ms/step - loss: 0.3705 - accuracy: 0.8385 - val_loss: 0.4362 - val_accuracy: 0.7922\n",
      "Epoch 44/100\n",
      "30/30 [==============================] - 5s 171ms/step - loss: 0.3786 - accuracy: 0.8362 - val_loss: 0.3798 - val_accuracy: 0.8369\n",
      "Epoch 45/100\n",
      "30/30 [==============================] - 5s 173ms/step - loss: 0.3662 - accuracy: 0.8399 - val_loss: 0.3933 - val_accuracy: 0.8343\n",
      "Epoch 46/100\n",
      "30/30 [==============================] - 5s 174ms/step - loss: 0.3656 - accuracy: 0.8399 - val_loss: 0.3797 - val_accuracy: 0.8393\n",
      "Epoch 47/100\n",
      "30/30 [==============================] - 5s 174ms/step - loss: 0.3651 - accuracy: 0.8415 - val_loss: 0.3930 - val_accuracy: 0.8343\n",
      "Epoch 48/100\n",
      "30/30 [==============================] - 5s 171ms/step - loss: 0.3689 - accuracy: 0.8389 - val_loss: 0.3802 - val_accuracy: 0.8361\n",
      "Epoch 49/100\n",
      "30/30 [==============================] - 5s 173ms/step - loss: 0.3571 - accuracy: 0.8469 - val_loss: 0.3887 - val_accuracy: 0.8299\n",
      "Epoch 50/100\n",
      "30/30 [==============================] - 5s 174ms/step - loss: 0.3520 - accuracy: 0.8494 - val_loss: 0.3747 - val_accuracy: 0.8424\n",
      "Epoch 51/100\n",
      "30/30 [==============================] - 5s 174ms/step - loss: 0.3577 - accuracy: 0.8454 - val_loss: 0.3775 - val_accuracy: 0.8394\n",
      "Epoch 52/100\n",
      "30/30 [==============================] - 5s 174ms/step - loss: 0.3527 - accuracy: 0.8489 - val_loss: 0.3769 - val_accuracy: 0.8370\n",
      "Epoch 53/100\n",
      "30/30 [==============================] - 5s 174ms/step - loss: 0.3460 - accuracy: 0.8513 - val_loss: 0.4289 - val_accuracy: 0.8274\n",
      "Epoch 54/100\n",
      "30/30 [==============================] - 5s 171ms/step - loss: 0.3756 - accuracy: 0.8387 - val_loss: 0.3799 - val_accuracy: 0.8329\n",
      "Epoch 55/100\n",
      "30/30 [==============================] - 5s 173ms/step - loss: 0.3538 - accuracy: 0.8457 - val_loss: 0.4454 - val_accuracy: 0.7936\n",
      "Epoch 56/100\n",
      "30/30 [==============================] - 5s 174ms/step - loss: 0.3696 - accuracy: 0.8384 - val_loss: 0.3713 - val_accuracy: 0.8428\n",
      "Epoch 57/100\n",
      "30/30 [==============================] - 5s 173ms/step - loss: 0.3495 - accuracy: 0.8492 - val_loss: 0.3883 - val_accuracy: 0.8396\n",
      "Epoch 58/100\n",
      "30/30 [==============================] - 5s 172ms/step - loss: 0.3571 - accuracy: 0.8461 - val_loss: 0.3662 - val_accuracy: 0.8473\n",
      "Epoch 59/100\n",
      "30/30 [==============================] - 5s 175ms/step - loss: 0.3458 - accuracy: 0.8531 - val_loss: 0.3917 - val_accuracy: 0.8266\n",
      "Epoch 60/100\n",
      "30/30 [==============================] - 5s 182ms/step - loss: 0.3513 - accuracy: 0.8461 - val_loss: 0.3735 - val_accuracy: 0.8440\n",
      "Epoch 61/100\n",
      "30/30 [==============================] - 6s 190ms/step - loss: 0.3775 - accuracy: 0.8358 - val_loss: 0.3875 - val_accuracy: 0.8318\n",
      "Epoch 62/100\n",
      "30/30 [==============================] - 5s 176ms/step - loss: 0.3514 - accuracy: 0.8489 - val_loss: 0.3867 - val_accuracy: 0.8316\n",
      "Epoch 63/100\n",
      "30/30 [==============================] - 5s 176ms/step - loss: 0.3425 - accuracy: 0.8527 - val_loss: 0.3743 - val_accuracy: 0.8358\n",
      "Epoch 64/100\n",
      "30/30 [==============================] - 5s 171ms/step - loss: 0.3518 - accuracy: 0.8467 - val_loss: 0.3641 - val_accuracy: 0.8469\n",
      "Epoch 65/100\n",
      "30/30 [==============================] - 5s 173ms/step - loss: 0.3409 - accuracy: 0.8555 - val_loss: 0.3740 - val_accuracy: 0.8374\n",
      "Epoch 66/100\n",
      "30/30 [==============================] - 5s 172ms/step - loss: 0.3399 - accuracy: 0.8530 - val_loss: 0.3683 - val_accuracy: 0.8443\n",
      "Epoch 67/100\n",
      "30/30 [==============================] - 5s 171ms/step - loss: 0.3362 - accuracy: 0.8557 - val_loss: 0.3583 - val_accuracy: 0.8459\n",
      "Epoch 68/100\n",
      "30/30 [==============================] - 5s 175ms/step - loss: 0.3430 - accuracy: 0.8553 - val_loss: 0.3690 - val_accuracy: 0.8427\n",
      "Epoch 69/100\n",
      "30/30 [==============================] - 5s 172ms/step - loss: 0.3386 - accuracy: 0.8559 - val_loss: 0.3729 - val_accuracy: 0.8390\n",
      "Epoch 70/100\n",
      "30/30 [==============================] - 5s 176ms/step - loss: 0.3283 - accuracy: 0.8602 - val_loss: 0.3615 - val_accuracy: 0.8437\n",
      "Epoch 71/100\n",
      "30/30 [==============================] - 5s 175ms/step - loss: 0.3422 - accuracy: 0.8525 - val_loss: 0.4260 - val_accuracy: 0.8034\n",
      "Epoch 72/100\n",
      "30/30 [==============================] - 5s 175ms/step - loss: 0.4108 - accuracy: 0.8166 - val_loss: 0.4057 - val_accuracy: 0.8186\n",
      "Epoch 73/100\n",
      "30/30 [==============================] - 5s 173ms/step - loss: 0.3528 - accuracy: 0.8481 - val_loss: 0.3571 - val_accuracy: 0.8510\n",
      "Epoch 74/100\n",
      "30/30 [==============================] - 5s 174ms/step - loss: 0.3405 - accuracy: 0.8547 - val_loss: 0.3573 - val_accuracy: 0.8502\n",
      "Epoch 75/100\n",
      "30/30 [==============================] - 5s 176ms/step - loss: 0.3301 - accuracy: 0.8588 - val_loss: 0.3604 - val_accuracy: 0.8462\n",
      "Epoch 76/100\n",
      "30/30 [==============================] - 5s 173ms/step - loss: 0.3738 - accuracy: 0.8337 - val_loss: 0.4316 - val_accuracy: 0.8071\n",
      "Epoch 77/100\n",
      "30/30 [==============================] - 5s 174ms/step - loss: 0.3591 - accuracy: 0.8436 - val_loss: 0.4221 - val_accuracy: 0.8060\n",
      "Epoch 78/100\n",
      "30/30 [==============================] - 5s 175ms/step - loss: 0.3641 - accuracy: 0.8393 - val_loss: 0.3695 - val_accuracy: 0.8435\n",
      "Epoch 79/100\n",
      "30/30 [==============================] - 5s 172ms/step - loss: 0.3400 - accuracy: 0.8543 - val_loss: 0.3562 - val_accuracy: 0.8482\n",
      "Epoch 80/100\n",
      "30/30 [==============================] - 5s 171ms/step - loss: 0.3268 - accuracy: 0.8606 - val_loss: 0.3573 - val_accuracy: 0.8494\n",
      "Epoch 81/100\n",
      "30/30 [==============================] - 5s 175ms/step - loss: 0.3226 - accuracy: 0.8639 - val_loss: 0.3763 - val_accuracy: 0.8356\n",
      "Epoch 82/100\n",
      "30/30 [==============================] - 5s 174ms/step - loss: 0.3277 - accuracy: 0.8596 - val_loss: 0.3556 - val_accuracy: 0.8460\n",
      "Epoch 83/100\n",
      "30/30 [==============================] - 5s 175ms/step - loss: 0.3242 - accuracy: 0.8619 - val_loss: 0.3695 - val_accuracy: 0.8392\n",
      "Epoch 84/100\n",
      "30/30 [==============================] - 5s 174ms/step - loss: 0.3312 - accuracy: 0.8601 - val_loss: 0.3510 - val_accuracy: 0.8505\n",
      "Epoch 85/100\n",
      "30/30 [==============================] - 5s 175ms/step - loss: 0.3211 - accuracy: 0.8636 - val_loss: 0.3507 - val_accuracy: 0.8515\n",
      "Epoch 86/100\n",
      "30/30 [==============================] - 5s 173ms/step - loss: 0.3349 - accuracy: 0.8583 - val_loss: 0.3663 - val_accuracy: 0.8413\n",
      "Epoch 87/100\n",
      "30/30 [==============================] - 5s 174ms/step - loss: 0.3199 - accuracy: 0.8649 - val_loss: 0.3585 - val_accuracy: 0.8457\n",
      "Epoch 88/100\n",
      "30/30 [==============================] - 5s 175ms/step - loss: 0.3295 - accuracy: 0.8602 - val_loss: 0.3664 - val_accuracy: 0.8502\n",
      "Epoch 89/100\n",
      "30/30 [==============================] - 5s 175ms/step - loss: 0.3175 - accuracy: 0.8654 - val_loss: 0.3631 - val_accuracy: 0.8439\n",
      "Epoch 90/100\n",
      "30/30 [==============================] - 5s 173ms/step - loss: 0.3269 - accuracy: 0.8611 - val_loss: 0.3664 - val_accuracy: 0.8400\n",
      "Epoch 91/100\n",
      "30/30 [==============================] - 5s 173ms/step - loss: 0.3289 - accuracy: 0.8609 - val_loss: 0.3602 - val_accuracy: 0.8446\n",
      "Epoch 92/100\n",
      "30/30 [==============================] - 5s 173ms/step - loss: 0.3109 - accuracy: 0.8704 - val_loss: 0.3533 - val_accuracy: 0.8530\n",
      "Epoch 93/100\n",
      "30/30 [==============================] - 5s 177ms/step - loss: 0.3111 - accuracy: 0.8691 - val_loss: 0.3471 - val_accuracy: 0.8553\n",
      "Epoch 94/100\n",
      "30/30 [==============================] - 5s 173ms/step - loss: 0.3091 - accuracy: 0.8690 - val_loss: 0.3554 - val_accuracy: 0.8514\n",
      "Epoch 95/100\n",
      "30/30 [==============================] - 5s 176ms/step - loss: 0.3138 - accuracy: 0.8684 - val_loss: 0.3487 - val_accuracy: 0.8496\n",
      "Epoch 96/100\n",
      "30/30 [==============================] - 5s 175ms/step - loss: 0.3181 - accuracy: 0.8677 - val_loss: 0.3512 - val_accuracy: 0.8504\n",
      "Epoch 97/100\n",
      "30/30 [==============================] - 5s 172ms/step - loss: 0.3148 - accuracy: 0.8674 - val_loss: 0.3768 - val_accuracy: 0.8350\n",
      "Epoch 98/100\n",
      "30/30 [==============================] - 5s 175ms/step - loss: 0.3195 - accuracy: 0.8661 - val_loss: 0.3570 - val_accuracy: 0.8496\n",
      "Epoch 99/100\n",
      "30/30 [==============================] - 5s 173ms/step - loss: 0.3189 - accuracy: 0.8656 - val_loss: 0.3846 - val_accuracy: 0.8382\n",
      "Epoch 100/100\n",
      "30/30 [==============================] - 5s 172ms/step - loss: 0.3085 - accuracy: 0.8692 - val_loss: 0.3613 - val_accuracy: 0.8434\n",
      "CPU times: user 7min 49s, sys: 33.3 s, total: 8min 22s\n",
      "Wall time: 8min 46s\n"
     ]
    }
   ],
   "source": [
    "%%time\n",
    "\n",
    "Hist_imdb = imdb.fit(X_train, y_train,\n",
    "                     epochs = 100,\n",
    "                     batch_size = 512,\n",
    "                     validation_data = (X_valid, y_valid))"
   ]
  },
  {
   "cell_type": "markdown",
   "metadata": {
    "id": "Jr4EudJrPfzi"
   },
   "source": [
    "> ## 4) 학습 결과 시각화"
   ]
  },
  {
   "cell_type": "markdown",
   "metadata": {
    "id": "YPVbTvIWDxJi"
   },
   "source": [
    "* Loss & Accuracy Visualization"
   ]
  },
  {
   "cell_type": "code",
   "execution_count": null,
   "metadata": {
    "colab": {
     "base_uri": "https://localhost:8080/",
     "height": 350
    },
    "executionInfo": {
     "elapsed": 951,
     "status": "ok",
     "timestamp": 1674722581347,
     "user": {
      "displayName": "이정구",
      "userId": "10412141110999311561"
     },
     "user_tz": -540
    },
    "id": "pujWYX1XKPNV",
    "outputId": "8f6ebc08-8425-4d60-c7b2-80a0e6531141"
   },
   "outputs": [
    {
     "data": {
      "image/png": "[encoded data removed]",
      "text/plain": [
       "<Figure size 1080x360 with 2 Axes>"
      ]
     },
     "metadata": {
      "needs_background": "light"
     },
     "output_type": "display_data"
    }
   ],
   "source": [
    "import matplotlib.pyplot as plt\n",
    "\n",
    "epochs = range(1, len(Hist_imdb.history['loss']) + 1)\n",
    "\n",
    "plt.figure(figsize = (15, 5))\n",
    "\n",
    "plt.subplot(1, 2, 1)\n",
    "plt.plot(epochs, Hist_imdb.history['loss'], 'b-')\n",
    "plt.plot(epochs, Hist_imdb.history['val_loss'], 'r--')\n",
    "plt.title('Training & Validation Loss')\n",
    "plt.xlabel('Epochs')\n",
    "plt.ylabel('Loss')\n",
    "plt.legend(['Training Loss', 'Validation Loss'])\n",
    "plt.grid()\n",
    "\n",
    "plt.subplot(1, 2, 2)\n",
    "plt.plot(epochs, Hist_imdb.history['accuracy'], 'b-')\n",
    "plt.plot(epochs, Hist_imdb.history['val_accuracy'], 'r--')\n",
    "plt.title('Training & Validation Accuracy')\n",
    "plt.xlabel('Epochs')\n",
    "plt.ylabel('Accuracy')\n",
    "plt.legend(['Training Accuracy', 'Validation Accuracy'])\n",
    "plt.grid()\n",
    "\n",
    "plt.show()"
   ]
  },
  {
   "cell_type": "markdown",
   "metadata": {
    "id": "JJy2E4a7EHFT"
   },
   "source": [
    "> ## 5) Model Evaluate"
   ]
  },
  {
   "cell_type": "markdown",
   "metadata": {
    "id": "3rxwmR3sQBAA"
   },
   "source": [
    "* Loss & Accuracy"
   ]
  },
  {
   "cell_type": "code",
   "execution_count": null,
   "metadata": {
    "colab": {
     "base_uri": "https://localhost:8080/"
    },
    "executionInfo": {
     "elapsed": 11921,
     "status": "ok",
     "timestamp": 1674722593241,
     "user": {
      "displayName": "이정구",
      "userId": "10412141110999311561"
     },
     "user_tz": -540
    },
    "id": "vzWv947ShOaa",
    "outputId": "77eead9a-60e2-4280-dd3b-662f6073f619"
   },
   "outputs": [
    {
     "name": "stdout",
     "output_type": "stream",
     "text": [
      "313/313 [==============================] - 12s 39ms/step - loss: 0.3613 - accuracy: 0.8434\n",
      "Loss = 0.36127\n",
      "Accuracy = 0.84340\n"
     ]
    }
   ],
   "source": [
    "loss, accuracy = imdb.evaluate(X_valid, y_valid)\n",
    "\n",
    "print('Loss = {:.5f}'.format(loss))\n",
    "print('Accuracy = {:.5f}'.format(accuracy))"
   ]
  },
  {
   "cell_type": "markdown",
   "metadata": {
    "id": "ylReVf0WSRDa"
   },
   "source": [
    "# \n",
    "# \n",
    "# \n",
    "# The End\n",
    "# \n",
    "# \n",
    "# "
   ]
  }
 ],
 "metadata": {
  "accelerator": "GPU",
  "colab": {
   "provenance": []
  },
  "kernelspec": {
   "display_name": "Python 3 (ipykernel)",
   "language": "python",
   "name": "python3"
  },
  "language_info": {
   "codemirror_mode": {
    "name": "ipython",
    "version": 3
   },
   "file_extension": ".py",
   "mimetype": "text/x-python",
   "name": "python",
   "nbconvert_exporter": "python",
   "pygments_lexer": "ipython3",
   "version": "3.10.9"
  },
  "toc": {
   "base_numbering": 1,
   "nav_menu": {},
   "number_sections": true,
   "sideBar": true,
   "skip_h1_title": false,
   "title_cell": "Table of Contents",
   "title_sidebar": "Contents",
   "toc_cell": false,
   "toc_position": {},
   "toc_section_display": true,
   "toc_window_display": false
  }
 },
 "nbformat": 4,
 "nbformat_minor": 1
}
