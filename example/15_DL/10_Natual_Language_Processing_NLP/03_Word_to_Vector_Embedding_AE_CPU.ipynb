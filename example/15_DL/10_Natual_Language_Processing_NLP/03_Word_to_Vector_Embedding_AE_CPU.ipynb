{
 "cells": [
  {
   "cell_type": "markdown",
   "metadata": {
    "id": "LARpB11tfcBB"
   },
   "source": [
    "# Word to Vector(word2vec)\n",
    "\n",
    "> ## Embedding"
   ]
  },
  {
   "cell_type": "markdown",
   "metadata": {
    "id": "Cu0k8j0pJtxg"
   },
   "source": [
    "# I. 말뭉치(Corpus) 생성"
   ]
  },
  {
   "cell_type": "code",
   "execution_count": 1,
   "metadata": {
    "executionInfo": {
     "elapsed": 67,
     "status": "ok",
     "timestamp": 1674720311922,
     "user": {
      "displayName": "이정구",
      "userId": "10412141110999311561"
     },
     "user_tz": -540
    },
    "id": "_EQES5jZKJob"
   },
   "outputs": [],
   "source": [
    "import warnings\n",
    "warnings.filterwarnings('ignore')"
   ]
  },
  {
   "cell_type": "markdown",
   "metadata": {
    "id": "_UpNIUfBJ7FO"
   },
   "source": [
    "* 말뭉치 List"
   ]
  },
  {
   "cell_type": "code",
   "execution_count": 2,
   "metadata": {
    "executionInfo": {
     "elapsed": 68,
     "status": "ok",
     "timestamp": 1674720311925,
     "user": {
      "displayName": "이정구",
      "userId": "10412141110999311561"
     },
     "user_tz": -540
    },
    "id": "skO5snXfAAXx"
   },
   "outputs": [],
   "source": [
    "corpus = ['왕 강함 남자', \n",
    "          '여왕 아름다운 여자', \n",
    "          '소년 젊은 남자',\n",
    "          '소녀 젊은 여자',\n",
    "          '왕자 젊은 왕',\n",
    "          '공주 젊은 여왕',\n",
    "          '남자 강함', \n",
    "          '여자 아름다운',\n",
    "          '왕자 소년 왕',\n",
    "          '공주 소녀 여왕']"
   ]
  },
  {
   "cell_type": "code",
   "execution_count": 3,
   "metadata": {
    "colab": {
     "base_uri": "https://localhost:8080/"
    },
    "executionInfo": {
     "elapsed": 74,
     "status": "ok",
     "timestamp": 1674720311932,
     "user": {
      "displayName": "이정구",
      "userId": "10412141110999311561"
     },
     "user_tz": -540
    },
    "id": "Hpydtbst4BzR",
    "outputId": "59a9ddbe-602e-4c38-f202-db30be4e6556"
   },
   "outputs": [
    {
     "name": "stdout",
     "output_type": "stream",
     "text": [
      "왕 강함 남자\n",
      "여왕 아름다운 여자\n",
      "소년 젊은 남자\n",
      "소녀 젊은 여자\n",
      "왕자 젊은 왕\n",
      "공주 젊은 여왕\n",
      "남자 강함\n",
      "여자 아름다운\n",
      "왕자 소년 왕\n",
      "공주 소녀 여왕\n"
     ]
    }
   ],
   "source": [
    "for text in corpus:\n",
    "    print(text)"
   ]
  },
  {
   "cell_type": "markdown",
   "metadata": {
    "id": "qvqUl_SYKd0t"
   },
   "source": [
    "# II. 'DATA' List 생성"
   ]
  },
  {
   "cell_type": "markdown",
   "metadata": {
    "id": "fmeOnklBKxU7"
   },
   "source": [
    "* Before Split"
   ]
  },
  {
   "cell_type": "code",
   "execution_count": 4,
   "metadata": {
    "colab": {
     "base_uri": "https://localhost:8080/",
     "height": 35
    },
    "executionInfo": {
     "elapsed": 57,
     "status": "ok",
     "timestamp": 1674720311941,
     "user": {
      "displayName": "이정구",
      "userId": "10412141110999311561"
     },
     "user_tz": -540
    },
    "id": "5MSLEtksLXZA",
    "outputId": "f1814a25-c5df-4554-9fc0-cd65977c8030"
   },
   "outputs": [
    {
     "data": {
      "text/plain": [
       "'왕 강함 남자'"
      ]
     },
     "execution_count": 4,
     "metadata": {},
     "output_type": "execute_result"
    }
   ],
   "source": [
    "corpus[0]"
   ]
  },
  {
   "cell_type": "markdown",
   "metadata": {
    "id": "kaf3Ku2WLjj3"
   },
   "source": [
    "* Split"
   ]
  },
  {
   "cell_type": "code",
   "execution_count": 5,
   "metadata": {
    "executionInfo": {
     "elapsed": 56,
     "status": "ok",
     "timestamp": 1674720311944,
     "user": {
      "displayName": "이정구",
      "userId": "10412141110999311561"
     },
     "user_tz": -540
    },
    "id": "nqz2iwHc4Uca"
   },
   "outputs": [],
   "source": [
    "sentences = []\n",
    "\n",
    "for sentence in corpus:\n",
    "    sentences.append(sentence.split(' '))\n",
    "    \n",
    "WINDOW_SIZE = 2\n",
    "\n",
    "DATA = []\n",
    "\n",
    "for sentence in sentences:\n",
    "    for idx, word in enumerate(sentence):\n",
    "        for neighbor in sentence[max(idx - WINDOW_SIZE, 0):min(idx + WINDOW_SIZE, len(sentence)) + 1]: \n",
    "            if neighbor != word:\n",
    "                DATA.append([word, neighbor])\n"
   ]
  },
  {
   "cell_type": "markdown",
   "metadata": {
    "id": "OlVmmfTvLmT5"
   },
   "source": [
    "* After Split"
   ]
  },
  {
   "cell_type": "code",
   "execution_count": 6,
   "metadata": {
    "colab": {
     "base_uri": "https://localhost:8080/"
    },
    "executionInfo": {
     "elapsed": 57,
     "status": "ok",
     "timestamp": 1674720311946,
     "user": {
      "displayName": "이정구",
      "userId": "10412141110999311561"
     },
     "user_tz": -540
    },
    "id": "MtLt5eb993yQ",
    "outputId": "4dde4151-06cd-496a-c959-a27c5dae7337"
   },
   "outputs": [
    {
     "data": {
      "text/plain": [
       "[['왕', '강함'],\n",
       " ['왕', '남자'],\n",
       " ['강함', '왕'],\n",
       " ['강함', '남자'],\n",
       " ['남자', '왕'],\n",
       " ['남자', '강함']]"
      ]
     },
     "execution_count": 6,
     "metadata": {},
     "output_type": "execute_result"
    }
   ],
   "source": [
    "# input = word(중심단어) = x\n",
    "# label = neighbor(주변단어) = y\n",
    "DATA[:6]"
   ]
  },
  {
   "cell_type": "markdown",
   "metadata": {
    "id": "DjK08wY6b5R6"
   },
   "source": [
    "# III. 'DF' DataFrame 생성"
   ]
  },
  {
   "cell_type": "markdown",
   "metadata": {
    "id": "bKRPqbUkfjGu"
   },
   "source": [
    "> ## 1) pd.DataFrame( )"
   ]
  },
  {
   "cell_type": "code",
   "execution_count": 7,
   "metadata": {
    "colab": {
     "base_uri": "https://localhost:8080/",
     "height": 206
    },
    "executionInfo": {
     "elapsed": 1756,
     "status": "ok",
     "timestamp": 1674720313653,
     "user": {
      "displayName": "이정구",
      "userId": "10412141110999311561"
     },
     "user_tz": -540
    },
    "id": "ND5-l4LG4U7p",
    "outputId": "2de2eea8-6120-4b0f-ed18-e210b6c449a9"
   },
   "outputs": [
    {
     "data": {
      "text/html": [
       "<div>\n",
       "<style scoped>\n",
       "    .dataframe tbody tr th:only-of-type {\n",
       "        vertical-align: middle;\n",
       "    }\n",
       "\n",
       "    .dataframe tbody tr th {\n",
       "        vertical-align: top;\n",
       "    }\n",
       "\n",
       "    .dataframe thead th {\n",
       "        text-align: right;\n",
       "    }\n",
       "</style>\n",
       "<table border=\"1\" class=\"dataframe\">\n",
       "  <thead>\n",
       "    <tr style=\"text-align: right;\">\n",
       "      <th></th>\n",
       "      <th>INPUT</th>\n",
       "      <th>LABEL</th>\n",
       "    </tr>\n",
       "  </thead>\n",
       "  <tbody>\n",
       "    <tr>\n",
       "      <th>0</th>\n",
       "      <td>왕</td>\n",
       "      <td>강함</td>\n",
       "    </tr>\n",
       "    <tr>\n",
       "      <th>1</th>\n",
       "      <td>왕</td>\n",
       "      <td>남자</td>\n",
       "    </tr>\n",
       "    <tr>\n",
       "      <th>2</th>\n",
       "      <td>강함</td>\n",
       "      <td>왕</td>\n",
       "    </tr>\n",
       "    <tr>\n",
       "      <th>3</th>\n",
       "      <td>강함</td>\n",
       "      <td>남자</td>\n",
       "    </tr>\n",
       "    <tr>\n",
       "      <th>4</th>\n",
       "      <td>남자</td>\n",
       "      <td>왕</td>\n",
       "    </tr>\n",
       "  </tbody>\n",
       "</table>\n",
       "</div>"
      ],
      "text/plain": [
       "  INPUT LABEL\n",
       "0     왕    강함\n",
       "1     왕    남자\n",
       "2    강함     왕\n",
       "3    강함    남자\n",
       "4    남자     왕"
      ]
     },
     "execution_count": 7,
     "metadata": {},
     "output_type": "execute_result"
    }
   ],
   "source": [
    "import pandas as pd\n",
    "\n",
    "DF = pd.DataFrame(DATA, columns = ['INPUT', 'LABEL'])\n",
    "# input = word(중심단어) = x\n",
    "# label = neighbor(주변단어) = y\n",
    "DF.head(5)"
   ]
  },
  {
   "cell_type": "markdown",
   "metadata": {
    "id": "JFK7-n2GfoDj"
   },
   "source": [
    "> ## 2) 'X_test' & 'X_label' 지정"
   ]
  },
  {
   "cell_type": "markdown",
   "metadata": {
    "id": "lKO6CgnoK3it"
   },
   "source": [
    "* 'X_test' - 한글"
   ]
  },
  {
   "cell_type": "code",
   "execution_count": 8,
   "metadata": {
    "colab": {
     "base_uri": "https://localhost:8080/"
    },
    "executionInfo": {
     "elapsed": 20,
     "status": "ok",
     "timestamp": 1674720313654,
     "user": {
      "displayName": "이정구",
      "userId": "10412141110999311561"
     },
     "user_tz": -540
    },
    "id": "P0qr3_rxd4JB",
    "outputId": "97e4be12-40cd-4270-9590-a8c0728840f5"
   },
   "outputs": [
    {
     "name": "stdout",
     "output_type": "stream",
     "text": [
      "['왕' '강함' '남자' '여왕' '아름다운' '여자' '소년' '젊은' '소녀' '왕자' '공주']\n"
     ]
    }
   ],
   "source": [
    "X_test = DF.INPUT.unique()\n",
    "\n",
    "print(X_test)"
   ]
  },
  {
   "cell_type": "markdown",
   "metadata": {
    "id": "a6pfv-zIK7lI"
   },
   "source": [
    "* 'X_label' - 영어"
   ]
  },
  {
   "cell_type": "code",
   "execution_count": 9,
   "metadata": {
    "colab": {
     "base_uri": "https://localhost:8080/"
    },
    "executionInfo": {
     "elapsed": 16,
     "status": "ok",
     "timestamp": 1674720313655,
     "user": {
      "displayName": "이정구",
      "userId": "10412141110999311561"
     },
     "user_tz": -540
    },
    "id": "GyIWhERlfAB5",
    "outputId": "0cf4921f-fd78-4634-9c68-7e82b59f05ae"
   },
   "outputs": [
    {
     "name": "stdout",
     "output_type": "stream",
     "text": [
      "['King', 'Strong', 'Man', 'Queen', 'Beautiful', 'Woman', 'Boy', 'Young', 'Girl', 'Prince', 'Princess']\n"
     ]
    }
   ],
   "source": [
    "X_label = ['King', 'Strong', 'Man', 'Queen', 'Beautiful', 'Woman', 'Boy', 'Young', 'Girl', 'Prince', 'Princess']\n",
    "\n",
    "print(X_label)"
   ]
  },
  {
   "cell_type": "markdown",
   "metadata": {
    "id": "DGjJteW7fuv6"
   },
   "source": [
    "> ## 3) String to Integer"
   ]
  },
  {
   "cell_type": "markdown",
   "metadata": {
    "id": "xwLT9c-wLJHZ"
   },
   "source": [
    "* 'DF' DataFrame"
   ]
  },
  {
   "cell_type": "code",
   "execution_count": 10,
   "metadata": {
    "executionInfo": {
     "elapsed": 1321,
     "status": "ok",
     "timestamp": 1674720314967,
     "user": {
      "displayName": "이정구",
      "userId": "10412141110999311561"
     },
     "user_tz": -540
    },
    "id": "Cx8LPR-5bqyZ"
   },
   "outputs": [],
   "source": [
    "from sklearn.preprocessing import LabelEncoder\n",
    "encoder = LabelEncoder()\n",
    "\n",
    "DF.INPUT = encoder.fit_transform(DF.INPUT)\n",
    "DF.LABEL = encoder.fit_transform(DF.LABEL)"
   ]
  },
  {
   "cell_type": "code",
   "execution_count": 11,
   "metadata": {
    "colab": {
     "base_uri": "https://localhost:8080/",
     "height": 206
    },
    "executionInfo": {
     "elapsed": 13,
     "status": "ok",
     "timestamp": 1674720314968,
     "user": {
      "displayName": "이정구",
      "userId": "10412141110999311561"
     },
     "user_tz": -540
    },
    "id": "GmSSY0Szb5W6",
    "outputId": "65f07e97-3c1f-4105-e979-32e34f7e3d42"
   },
   "outputs": [
    {
     "data": {
      "text/html": [
       "<div>\n",
       "<style scoped>\n",
       "    .dataframe tbody tr th:only-of-type {\n",
       "        vertical-align: middle;\n",
       "    }\n",
       "\n",
       "    .dataframe tbody tr th {\n",
       "        vertical-align: top;\n",
       "    }\n",
       "\n",
       "    .dataframe thead th {\n",
       "        text-align: right;\n",
       "    }\n",
       "</style>\n",
       "<table border=\"1\" class=\"dataframe\">\n",
       "  <thead>\n",
       "    <tr style=\"text-align: right;\">\n",
       "      <th></th>\n",
       "      <th>INPUT</th>\n",
       "      <th>LABEL</th>\n",
       "    </tr>\n",
       "  </thead>\n",
       "  <tbody>\n",
       "    <tr>\n",
       "      <th>0</th>\n",
       "      <td>8</td>\n",
       "      <td>0</td>\n",
       "    </tr>\n",
       "    <tr>\n",
       "      <th>1</th>\n",
       "      <td>8</td>\n",
       "      <td>2</td>\n",
       "    </tr>\n",
       "    <tr>\n",
       "      <th>2</th>\n",
       "      <td>0</td>\n",
       "      <td>8</td>\n",
       "    </tr>\n",
       "    <tr>\n",
       "      <th>3</th>\n",
       "      <td>0</td>\n",
       "      <td>2</td>\n",
       "    </tr>\n",
       "    <tr>\n",
       "      <th>4</th>\n",
       "      <td>2</td>\n",
       "      <td>8</td>\n",
       "    </tr>\n",
       "  </tbody>\n",
       "</table>\n",
       "</div>"
      ],
      "text/plain": [
       "   INPUT  LABEL\n",
       "0      8      0\n",
       "1      8      2\n",
       "2      0      8\n",
       "3      0      2\n",
       "4      2      8"
      ]
     },
     "execution_count": 11,
     "metadata": {},
     "output_type": "execute_result"
    }
   ],
   "source": [
    "DF.head()"
   ]
  },
  {
   "cell_type": "markdown",
   "metadata": {
    "id": "1qpLKOFRf3xC"
   },
   "source": [
    "> ## 4) One-Hot-Encoding"
   ]
  },
  {
   "cell_type": "markdown",
   "metadata": {
    "id": "_AoCun7WLRfB"
   },
   "source": [
    "* 'X_train' and 'y_train'"
   ]
  },
  {
   "cell_type": "code",
   "execution_count": 12,
   "metadata": {
    "executionInfo": {
     "elapsed": 5989,
     "status": "ok",
     "timestamp": 1674720320947,
     "user": {
      "displayName": "이정구",
      "userId": "10412141110999311561"
     },
     "user_tz": -540
    },
    "id": "NdHHa73Tb-6i"
   },
   "outputs": [],
   "source": [
    "from tensorflow.keras.utils import to_categorical\n",
    "\n",
    "X_train = to_categorical(DF.INPUT.values)\n",
    "y_train = to_categorical(DF.LABEL.values)"
   ]
  },
  {
   "cell_type": "code",
   "execution_count": 13,
   "metadata": {
    "colab": {
     "base_uri": "https://localhost:8080/"
    },
    "executionInfo": {
     "elapsed": 12,
     "status": "ok",
     "timestamp": 1674720320948,
     "user": {
      "displayName": "이정구",
      "userId": "10412141110999311561"
     },
     "user_tz": -540
    },
    "id": "e884jXGEI-ge",
    "outputId": "d62ef699-f64b-4749-9ca0-0c7841b560f4"
   },
   "outputs": [
    {
     "name": "stdout",
     "output_type": "stream",
     "text": [
      "[0. 0. 0. 0. 0. 0. 0. 0. 1. 0. 0.] [1. 0. 0. 0. 0. 0. 0. 0. 0. 0. 0.]\n"
     ]
    }
   ],
   "source": [
    "print(X_train[0], y_train[0])"
   ]
  },
  {
   "cell_type": "markdown",
   "metadata": {
    "id": "2_h-M9gZLXAv"
   },
   "source": [
    "* Shape"
   ]
  },
  {
   "cell_type": "code",
   "execution_count": 14,
   "metadata": {
    "colab": {
     "base_uri": "https://localhost:8080/"
    },
    "executionInfo": {
     "elapsed": 7,
     "status": "ok",
     "timestamp": 1674720320948,
     "user": {
      "displayName": "이정구",
      "userId": "10412141110999311561"
     },
     "user_tz": -540
    },
    "id": "jqY7AbJn9iRB",
    "outputId": "d6a54cff-82d0-49d1-ba12-361afb8f1e1b"
   },
   "outputs": [
    {
     "name": "stdout",
     "output_type": "stream",
     "text": [
      "(52, 11) (52, 11)\n"
     ]
    }
   ],
   "source": [
    "print(X_train.shape, y_train.shape)"
   ]
  },
  {
   "cell_type": "markdown",
   "metadata": {
    "id": "ShWb6H7TgAcl"
   },
   "source": [
    "# IV. Embedding"
   ]
  },
  {
   "cell_type": "markdown",
   "metadata": {
    "id": "SOQl_-yogJvz"
   },
   "source": [
    "> ## 1) Model 'autoencoder' Define"
   ]
  },
  {
   "cell_type": "code",
   "execution_count": 15,
   "metadata": {
    "executionInfo": {
     "elapsed": 383,
     "status": "ok",
     "timestamp": 1674720321762,
     "user": {
      "displayName": "이정구",
      "userId": "10412141110999311561"
     },
     "user_tz": -540
    },
    "id": "R1LG5pv1J33-"
   },
   "outputs": [],
   "source": [
    "from tensorflow.keras import models\n",
    "from tensorflow.keras import layers\n",
    "\n",
    "encoding_dim = 2\n",
    "\n",
    "input_txt = layers.Input(shape = (11, ))\n",
    "encoded = layers.Dense(32, activation = 'relu')(input_txt)\n",
    "encoded = layers.Dense(encoding_dim, activation = 'relu')(encoded)  # 2차원 벡터라이징\n",
    "\n",
    "decoded = layers.Dense(32, activation = 'relu')(encoded)\n",
    "# softmax가 아닌 이유 : 분류가 아닌, 각 레이어에 들어간 인풋에 대한 레이블의 참거짓을 판별하는 것\n",
    "decoded = layers.Dense(11, activation = 'sigmoid')(decoded) \n",
    "\n",
    "\n",
    "autoencoder = models.Model(input_txt, decoded)"
   ]
  },
  {
   "cell_type": "markdown",
   "metadata": {
    "id": "9ccv_ZimLhEw"
   },
   "source": [
    "* Model Information"
   ]
  },
  {
   "cell_type": "code",
   "execution_count": 16,
   "metadata": {
    "colab": {
     "base_uri": "https://localhost:8080/"
    },
    "executionInfo": {
     "elapsed": 31,
     "status": "ok",
     "timestamp": 1674720321763,
     "user": {
      "displayName": "이정구",
      "userId": "10412141110999311561"
     },
     "user_tz": -540
    },
    "id": "_-__N-NXjCZE",
    "outputId": "1d9d4144-3351-4067-ce9f-4bfab8be7280"
   },
   "outputs": [
    {
     "name": "stdout",
     "output_type": "stream",
     "text": [
      "Model: \"model\"\n",
      "_________________________________________________________________\n",
      " Layer (type)                Output Shape              Param #   \n",
      "=================================================================\n",
      " input_1 (InputLayer)        [(None, 11)]              0         \n",
      "                                                                 \n",
      " dense (Dense)               (None, 32)                384       \n",
      "                                                                 \n",
      " dense_1 (Dense)             (None, 2)                 66        \n",
      "                                                                 \n",
      " dense_2 (Dense)             (None, 32)                96        \n",
      "                                                                 \n",
      " dense_3 (Dense)             (None, 11)                363       \n",
      "                                                                 \n",
      "=================================================================\n",
      "Total params: 909\n",
      "Trainable params: 909\n",
      "Non-trainable params: 0\n",
      "_________________________________________________________________\n"
     ]
    }
   ],
   "source": [
    "autoencoder.summary()"
   ]
  },
  {
   "cell_type": "markdown",
   "metadata": {
    "id": "AOX9CZyJgO7r"
   },
   "source": [
    "> ## 2) Model 'word2vec' Define"
   ]
  },
  {
   "cell_type": "code",
   "execution_count": 17,
   "metadata": {
    "executionInfo": {
     "elapsed": 15,
     "status": "ok",
     "timestamp": 1674720321763,
     "user": {
      "displayName": "이정구",
      "userId": "10412141110999311561"
     },
     "user_tz": -540
    },
    "id": "688MsQySKMg2"
   },
   "outputs": [],
   "source": [
    "# functional model\n",
    "word2vec = models.Model(input_txt, encoded) # input layer, output layer"
   ]
  },
  {
   "cell_type": "markdown",
   "metadata": {
    "id": "LlGJjXJiLkpy"
   },
   "source": [
    "* Model Information"
   ]
  },
  {
   "cell_type": "code",
   "execution_count": 18,
   "metadata": {
    "colab": {
     "base_uri": "https://localhost:8080/"
    },
    "executionInfo": {
     "elapsed": 311,
     "status": "ok",
     "timestamp": 1674720322060,
     "user": {
      "displayName": "이정구",
      "userId": "10412141110999311561"
     },
     "user_tz": -540
    },
    "id": "2AbncfKrjICt",
    "outputId": "cb688d33-a5a4-4aee-8126-2003b2728e4b"
   },
   "outputs": [
    {
     "name": "stdout",
     "output_type": "stream",
     "text": [
      "Model: \"model_1\"\n",
      "_________________________________________________________________\n",
      " Layer (type)                Output Shape              Param #   \n",
      "=================================================================\n",
      " input_1 (InputLayer)        [(None, 11)]              0         \n",
      "                                                                 \n",
      " dense (Dense)               (None, 32)                384       \n",
      "                                                                 \n",
      " dense_1 (Dense)             (None, 2)                 66        \n",
      "                                                                 \n",
      "=================================================================\n",
      "Total params: 450\n",
      "Trainable params: 450\n",
      "Non-trainable params: 0\n",
      "_________________________________________________________________\n"
     ]
    }
   ],
   "source": [
    "word2vec.summary()"
   ]
  },
  {
   "cell_type": "markdown",
   "metadata": {
    "id": "4LiBsgOfgVlS"
   },
   "source": [
    "> ## 3) Model Compile"
   ]
  },
  {
   "cell_type": "code",
   "execution_count": 19,
   "metadata": {
    "executionInfo": {
     "elapsed": 5,
     "status": "ok",
     "timestamp": 1674720322060,
     "user": {
      "displayName": "이정구",
      "userId": "10412141110999311561"
     },
     "user_tz": -540
    },
    "id": "bgtgJMSRKQXu"
   },
   "outputs": [],
   "source": [
    "autoencoder.compile(loss = 'binary_crossentropy',\n",
    "                    optimizer = 'adam')"
   ]
  },
  {
   "cell_type": "markdown",
   "metadata": {
    "id": "S37IZu8KgZTX"
   },
   "source": [
    "> ## 4) Model fit"
   ]
  },
  {
   "cell_type": "markdown",
   "metadata": {
    "id": "flsCBoA_rBdp"
   },
   "source": [
    "* 약 3분"
   ]
  },
  {
   "cell_type": "code",
   "execution_count": 20,
   "metadata": {
    "colab": {
     "base_uri": "https://localhost:8080/"
    },
    "executionInfo": {
     "elapsed": 143688,
     "status": "ok",
     "timestamp": 1674720465744,
     "user": {
      "displayName": "이정구",
      "userId": "10412141110999311561"
     },
     "user_tz": -540
    },
    "id": "82BO1AUIKS7e",
    "outputId": "a5fd303c-9f64-43ea-c40f-32c3957af4f8"
   },
   "outputs": [
    {
     "name": "stdout",
     "output_type": "stream",
     "text": [
      "CPU times: total: 3.33 s\n",
      "Wall time: 1min 27s\n"
     ]
    },
    {
     "data": {
      "text/plain": [
       "<keras.callbacks.History at 0x2175c9afd00>"
      ]
     },
     "execution_count": 20,
     "metadata": {},
     "output_type": "execute_result"
    }
   ],
   "source": [
    "%%time\n",
    "\n",
    "autoencoder.fit(X_train, y_train,\n",
    "                epochs = 3500,\n",
    "                batch_size = 2,\n",
    "                verbose = 0)"
   ]
  },
  {
   "cell_type": "markdown",
   "metadata": {
    "id": "zn90ZPVWgdhJ"
   },
   "source": [
    "# V. 'word2vec' 적용"
   ]
  },
  {
   "cell_type": "markdown",
   "metadata": {
    "id": "hXxaRjBtLo69"
   },
   "source": [
    "> ## 1) 'X_test' Integer Encoding"
   ]
  },
  {
   "cell_type": "code",
   "execution_count": 21,
   "metadata": {
    "colab": {
     "base_uri": "https://localhost:8080/"
    },
    "executionInfo": {
     "elapsed": 30,
     "status": "ok",
     "timestamp": 1674720465744,
     "user": {
      "displayName": "이정구",
      "userId": "10412141110999311561"
     },
     "user_tz": -540
    },
    "id": "tcQJwYpNOmcM",
    "outputId": "b4f1e847-1228-4064-ae9d-0d4316a20347"
   },
   "outputs": [
    {
     "name": "stdout",
     "output_type": "stream",
     "text": [
      "['왕' '강함' '남자' '여왕' '아름다운' '여자' '소년' '젊은' '소녀' '왕자' '공주']\n"
     ]
    }
   ],
   "source": [
    "print(X_test)"
   ]
  },
  {
   "cell_type": "code",
   "execution_count": 22,
   "metadata": {
    "executionInfo": {
     "elapsed": 27,
     "status": "ok",
     "timestamp": 1674720465746,
     "user": {
      "displayName": "이정구",
      "userId": "10412141110999311561"
     },
     "user_tz": -540
    },
    "id": "6-ADgsQhODN1"
   },
   "outputs": [],
   "source": [
    "X_test = encoder.fit_transform(X_test)"
   ]
  },
  {
   "cell_type": "code",
   "execution_count": 23,
   "metadata": {
    "colab": {
     "base_uri": "https://localhost:8080/"
    },
    "executionInfo": {
     "elapsed": 27,
     "status": "ok",
     "timestamp": 1674720465746,
     "user": {
      "displayName": "이정구",
      "userId": "10412141110999311561"
     },
     "user_tz": -540
    },
    "id": "wUIb5J6SOhYH",
    "outputId": "8278c36c-8e4b-428f-99da-4a66b043dde9"
   },
   "outputs": [
    {
     "name": "stdout",
     "output_type": "stream",
     "text": [
      "[ 8  0  2  6  5  7  4 10  3  9  1]\n"
     ]
    }
   ],
   "source": [
    "print(X_test)"
   ]
  },
  {
   "cell_type": "markdown",
   "metadata": {
    "id": "TpgD3WVdLyEs"
   },
   "source": [
    "> ## 2) 'X_test' One-Hot-Encoding"
   ]
  },
  {
   "cell_type": "code",
   "execution_count": 24,
   "metadata": {
    "executionInfo": {
     "elapsed": 25,
     "status": "ok",
     "timestamp": 1674720465747,
     "user": {
      "displayName": "이정구",
      "userId": "10412141110999311561"
     },
     "user_tz": -540
    },
    "id": "g4r10fB7Orud"
   },
   "outputs": [],
   "source": [
    "from tensorflow.keras.utils import to_categorical\n",
    "\n",
    "X_test = to_categorical(X_test)"
   ]
  },
  {
   "cell_type": "code",
   "execution_count": 25,
   "metadata": {
    "colab": {
     "base_uri": "https://localhost:8080/"
    },
    "executionInfo": {
     "elapsed": 25,
     "status": "ok",
     "timestamp": 1674720465747,
     "user": {
      "displayName": "이정구",
      "userId": "10412141110999311561"
     },
     "user_tz": -540
    },
    "id": "PrAJtJydO_nN",
    "outputId": "75b5a69c-2827-4c0e-f039-753c857fda14"
   },
   "outputs": [
    {
     "name": "stdout",
     "output_type": "stream",
     "text": [
      "[[0. 0. 0. 0. 0. 0. 0. 0. 1. 0. 0.]\n",
      " [1. 0. 0. 0. 0. 0. 0. 0. 0. 0. 0.]\n",
      " [0. 0. 1. 0. 0. 0. 0. 0. 0. 0. 0.]\n",
      " [0. 0. 0. 0. 0. 0. 1. 0. 0. 0. 0.]\n",
      " [0. 0. 0. 0. 0. 1. 0. 0. 0. 0. 0.]\n",
      " [0. 0. 0. 0. 0. 0. 0. 1. 0. 0. 0.]\n",
      " [0. 0. 0. 0. 1. 0. 0. 0. 0. 0. 0.]\n",
      " [0. 0. 0. 0. 0. 0. 0. 0. 0. 0. 1.]\n",
      " [0. 0. 0. 1. 0. 0. 0. 0. 0. 0. 0.]\n",
      " [0. 0. 0. 0. 0. 0. 0. 0. 0. 1. 0.]\n",
      " [0. 1. 0. 0. 0. 0. 0. 0. 0. 0. 0.]]\n"
     ]
    }
   ],
   "source": [
    "print(X_test)"
   ]
  },
  {
   "cell_type": "markdown",
   "metadata": {
    "id": "gfaQxzRFL6W5"
   },
   "source": [
    "> ## 3) 'word2vec' Embedding"
   ]
  },
  {
   "cell_type": "markdown",
   "metadata": {
    "id": "feWR-7UeMCoG"
   },
   "source": [
    "> ### (1) Embedding 적용"
   ]
  },
  {
   "cell_type": "code",
   "execution_count": 26,
   "metadata": {
    "colab": {
     "base_uri": "https://localhost:8080/"
    },
    "executionInfo": {
     "elapsed": 23,
     "status": "ok",
     "timestamp": 1674720465748,
     "user": {
      "displayName": "이정구",
      "userId": "10412141110999311561"
     },
     "user_tz": -540
    },
    "id": "lBzyEo5qLVCl",
    "outputId": "c970293e-ed65-4bd8-aa44-4009df4f46b3"
   },
   "outputs": [
    {
     "data": {
      "text/plain": [
       "(11, 2)"
      ]
     },
     "execution_count": 26,
     "metadata": {},
     "output_type": "execute_result"
    }
   ],
   "source": [
    "embedding_txt = word2vec.predict(X_test, verbose = 0)\n",
    "\n",
    "embedding_txt.shape"
   ]
  },
  {
   "cell_type": "markdown",
   "metadata": {
    "id": "7CYiq-IwMB7-"
   },
   "source": [
    "> ### (2) Embedding 결과"
   ]
  },
  {
   "cell_type": "code",
   "execution_count": 27,
   "metadata": {
    "colab": {
     "base_uri": "https://localhost:8080/"
    },
    "executionInfo": {
     "elapsed": 22,
     "status": "ok",
     "timestamp": 1674720465749,
     "user": {
      "displayName": "이정구",
      "userId": "10412141110999311561"
     },
     "user_tz": -540
    },
    "id": "DZkjYlxbLjC-",
    "outputId": "5e641b6e-5aa7-4964-c72d-f9f835dcb809"
   },
   "outputs": [
    {
     "data": {
      "text/plain": [
       "array([[ 0.        ,  2.4026952 ],\n",
       "       [20.71992   ,  0.        ],\n",
       "       [ 0.        ,  7.318394  ],\n",
       "       [ 2.627424  ,  3.8489697 ],\n",
       "       [ 9.026171  , 21.496626  ],\n",
       "       [ 4.810749  ,  6.542302  ],\n",
       "       [ 6.1757812 ,  0.28448996],\n",
       "       [ 0.7303003 ,  1.388411  ],\n",
       "       [ 5.136054  ,  9.071893  ],\n",
       "       [11.495476  ,  5.401353  ],\n",
       "       [10.210457  , 11.308054  ]], dtype=float32)"
      ]
     },
     "execution_count": 27,
     "metadata": {},
     "output_type": "execute_result"
    }
   ],
   "source": [
    "embedding_txt"
   ]
  },
  {
   "cell_type": "markdown",
   "metadata": {
    "id": "wuEn8RMzMMvy"
   },
   "source": [
    "> ### (3) 'word2vec_DF' DataFrame"
   ]
  },
  {
   "cell_type": "code",
   "execution_count": 28,
   "metadata": {
    "colab": {
     "base_uri": "https://localhost:8080/",
     "height": 394
    },
    "executionInfo": {
     "elapsed": 21,
     "status": "ok",
     "timestamp": 1674720465750,
     "user": {
      "displayName": "이정구",
      "userId": "10412141110999311561"
     },
     "user_tz": -540
    },
    "id": "EZ7w8eIcLqwX",
    "outputId": "b4276b40-a0e4-45a7-ec4a-6503505e05bc"
   },
   "outputs": [
    {
     "data": {
      "text/html": [
       "<div>\n",
       "<style scoped>\n",
       "    .dataframe tbody tr th:only-of-type {\n",
       "        vertical-align: middle;\n",
       "    }\n",
       "\n",
       "    .dataframe tbody tr th {\n",
       "        vertical-align: top;\n",
       "    }\n",
       "\n",
       "    .dataframe thead th {\n",
       "        text-align: right;\n",
       "    }\n",
       "</style>\n",
       "<table border=\"1\" class=\"dataframe\">\n",
       "  <thead>\n",
       "    <tr style=\"text-align: right;\">\n",
       "      <th></th>\n",
       "      <th>word</th>\n",
       "      <th>x1</th>\n",
       "      <th>x2</th>\n",
       "    </tr>\n",
       "  </thead>\n",
       "  <tbody>\n",
       "    <tr>\n",
       "      <th>0</th>\n",
       "      <td>King</td>\n",
       "      <td>0.000000</td>\n",
       "      <td>2.402695</td>\n",
       "    </tr>\n",
       "    <tr>\n",
       "      <th>1</th>\n",
       "      <td>Strong</td>\n",
       "      <td>20.719919</td>\n",
       "      <td>0.000000</td>\n",
       "    </tr>\n",
       "    <tr>\n",
       "      <th>2</th>\n",
       "      <td>Man</td>\n",
       "      <td>0.000000</td>\n",
       "      <td>7.318394</td>\n",
       "    </tr>\n",
       "    <tr>\n",
       "      <th>3</th>\n",
       "      <td>Queen</td>\n",
       "      <td>2.627424</td>\n",
       "      <td>3.848970</td>\n",
       "    </tr>\n",
       "    <tr>\n",
       "      <th>4</th>\n",
       "      <td>Beautiful</td>\n",
       "      <td>9.026171</td>\n",
       "      <td>21.496626</td>\n",
       "    </tr>\n",
       "    <tr>\n",
       "      <th>5</th>\n",
       "      <td>Woman</td>\n",
       "      <td>4.810749</td>\n",
       "      <td>6.542302</td>\n",
       "    </tr>\n",
       "    <tr>\n",
       "      <th>6</th>\n",
       "      <td>Boy</td>\n",
       "      <td>6.175781</td>\n",
       "      <td>0.284490</td>\n",
       "    </tr>\n",
       "    <tr>\n",
       "      <th>7</th>\n",
       "      <td>Young</td>\n",
       "      <td>0.730300</td>\n",
       "      <td>1.388411</td>\n",
       "    </tr>\n",
       "    <tr>\n",
       "      <th>8</th>\n",
       "      <td>Girl</td>\n",
       "      <td>5.136054</td>\n",
       "      <td>9.071893</td>\n",
       "    </tr>\n",
       "    <tr>\n",
       "      <th>9</th>\n",
       "      <td>Prince</td>\n",
       "      <td>11.495476</td>\n",
       "      <td>5.401353</td>\n",
       "    </tr>\n",
       "    <tr>\n",
       "      <th>10</th>\n",
       "      <td>Princess</td>\n",
       "      <td>10.210457</td>\n",
       "      <td>11.308054</td>\n",
       "    </tr>\n",
       "  </tbody>\n",
       "</table>\n",
       "</div>"
      ],
      "text/plain": [
       "         word         x1         x2\n",
       "0        King   0.000000   2.402695\n",
       "1      Strong  20.719919   0.000000\n",
       "2         Man   0.000000   7.318394\n",
       "3       Queen   2.627424   3.848970\n",
       "4   Beautiful   9.026171  21.496626\n",
       "5       Woman   4.810749   6.542302\n",
       "6         Boy   6.175781   0.284490\n",
       "7       Young   0.730300   1.388411\n",
       "8        Girl   5.136054   9.071893\n",
       "9      Prince  11.495476   5.401353\n",
       "10   Princess  10.210457  11.308054"
      ]
     },
     "execution_count": 28,
     "metadata": {},
     "output_type": "execute_result"
    }
   ],
   "source": [
    "word2vec_DF = pd.DataFrame(embedding_txt, columns = ['x1', 'x2'])\n",
    "word2vec_DF['word'] = X_label #np.array(list(word2int.keys()))\n",
    "word2vec_DF = word2vec_DF[['word', 'x1', 'x2']]\n",
    "\n",
    "word2vec_DF"
   ]
  },
  {
   "cell_type": "markdown",
   "metadata": {
    "id": "Q9av2ZqIMU1H"
   },
   "source": [
    "> ### (4) Visualization"
   ]
  },
  {
   "cell_type": "code",
   "execution_count": 29,
   "metadata": {
    "colab": {
     "base_uri": "https://localhost:8080/",
     "height": 430
    },
    "executionInfo": {
     "elapsed": 321,
     "status": "ok",
     "timestamp": 1674720585665,
     "user": {
      "displayName": "이정구",
      "userId": "10412141110999311561"
     },
     "user_tz": -540
    },
    "id": "NzVpERHCP-Kc",
    "outputId": "245faf5e-03a3-41cb-c6d5-f054942b59ad"
   },
   "outputs": [
    {
     "data": {
      "image/png": "[encoded data removed]",
      "text/plain": [
       "<Figure size 640x480 with 1 Axes>"
      ]
     },
     "metadata": {},
     "output_type": "display_data"
    }
   ],
   "source": [
    "import matplotlib.pyplot as plt\n",
    "from IPython.display import Image\n",
    "import numpy as np\n",
    "\n",
    "fig, ax = plt.subplots()\n",
    "\n",
    "for word, x1, x2 in zip(word2vec_DF['word'], \n",
    "                        word2vec_DF['x1'], \n",
    "                        word2vec_DF['x2']):\n",
    "    ax.annotate(word, (x1, x2 ))\n",
    "    \n",
    "PADDING = 1.0\n",
    "x_axis_min = np.amin(embedding_txt, axis=0)[0] - PADDING\n",
    "y_axis_min = np.amin(embedding_txt, axis=0)[1] - PADDING\n",
    "x_axis_max = np.amax(embedding_txt, axis=0)[0] + PADDING\n",
    "y_axis_max = np.amax(embedding_txt, axis=0)[1] + PADDING\n",
    " \n",
    "plt.xlim(x_axis_min, x_axis_max)\n",
    "plt.ylim(y_axis_min, y_axis_max)\n",
    "plt.rcParams[\"figure.figsize\"] = (7, 7)\n",
    "\n",
    "plt.show()"
   ]
  },
  {
   "cell_type": "markdown",
   "metadata": {
    "id": "6OOQWtj_II9Y"
   },
   "source": [
    "# \n",
    "# \n",
    "# \n",
    "# The End\n",
    "# \n",
    "# \n",
    "# "
   ]
  }
 ],
 "metadata": {
  "colab": {
   "provenance": []
  },
  "gpuClass": "standard",
  "kernelspec": {
   "display_name": "Python 3 (ipykernel)",
   "language": "python",
   "name": "python3"
  },
  "language_info": {
   "codemirror_mode": {
    "name": "ipython",
    "version": 3
   },
   "file_extension": ".py",
   "mimetype": "text/x-python",
   "name": "python",
   "nbconvert_exporter": "python",
   "pygments_lexer": "ipython3",
   "version": "3.10.9"
  },
  "toc": {
   "base_numbering": 1,
   "nav_menu": {},
   "number_sections": true,
   "sideBar": true,
   "skip_h1_title": false,
   "title_cell": "Table of Contents",
   "title_sidebar": "Contents",
   "toc_cell": false,
   "toc_position": {},
   "toc_section_display": true,
   "toc_window_display": false
  }
 },
 "nbformat": 4,
 "nbformat_minor": 1
}
