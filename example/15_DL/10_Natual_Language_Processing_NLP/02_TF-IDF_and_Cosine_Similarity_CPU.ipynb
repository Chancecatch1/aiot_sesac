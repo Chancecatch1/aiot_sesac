{
 "cells": [
  {
   "cell_type": "markdown",
   "metadata": {
    "id": "7qzuApd6uIZU"
   },
   "source": [
    "# TF-IDF & Consine Similarity"
   ]
  },
  {
   "cell_type": "code",
   "execution_count": 1,
   "metadata": {
    "id": "RbPgODpVzdHI"
   },
   "outputs": [],
   "source": [
    "import warnings\n",
    "warnings.filterwarnings('ignore')"
   ]
  },
  {
   "cell_type": "markdown",
   "metadata": {
    "id": "cCNvmAc4v3Kb"
   },
   "source": [
    "# I. TF-IDF Vectorization"
   ]
  },
  {
   "cell_type": "code",
   "execution_count": 2,
   "metadata": {
    "id": "nKlYNw7lTyVE"
   },
   "outputs": [],
   "source": [
    "import numpy as np\n",
    "np.set_printoptions(linewidth = 200, precision = 5)"
   ]
  },
  {
   "cell_type": "markdown",
   "metadata": {
    "id": "e3qDHJkXxTRw"
   },
   "source": [
    "> ## 1) 문장 3개 지정"
   ]
  },
  {
   "cell_type": "code",
   "execution_count": 3,
   "metadata": {
    "id": "d31NK9LXwLpw"
   },
   "outputs": [],
   "source": [
    "doc_list = ['if you take the blue pill, the story ends' ,\n",
    "            'if you take the red pill, you stay in Wonderland',\n",
    "            'if you take the red pill, I show you how deep the rabbit hole goes']"
   ]
  },
  {
   "cell_type": "code",
   "execution_count": 4,
   "metadata": {
    "colab": {
     "base_uri": "https://localhost:8080/"
    },
    "executionInfo": {
     "elapsed": 14,
     "status": "ok",
     "timestamp": 1674703328647,
     "user": {
      "displayName": "이정구",
      "userId": "10412141110999311561"
     },
     "user_tz": -540
    },
    "id": "_bWA2Px1VMP_",
    "outputId": "33154ec8-f80b-4c9a-9a66-2b9ec6f5408f"
   },
   "outputs": [
    {
     "data": {
      "text/plain": [
       "['if you take the blue pill, the story ends',\n",
       " 'if you take the red pill, you stay in Wonderland',\n",
       " 'if you take the red pill, I show you how deep the rabbit hole goes']"
      ]
     },
     "execution_count": 4,
     "metadata": {},
     "output_type": "execute_result"
    }
   ],
   "source": [
    "doc_list"
   ]
  },
  {
   "cell_type": "markdown",
   "metadata": {
    "id": "X71_TeIZxbx5"
   },
   "source": [
    "> ## 2) Tokenization & Vectorization"
   ]
  },
  {
   "cell_type": "markdown",
   "metadata": {
    "id": "ASs1IPSMok0O"
   },
   "source": [
    "* TF-IDF"
   ]
  },
  {
   "cell_type": "code",
   "execution_count": 5,
   "metadata": {
    "id": "ufueSXWzs1RI"
   },
   "outputs": [],
   "source": [
    "from sklearn.feature_extraction.text import TfidfVectorizer\n",
    "\n",
    "tfidf_TV = TfidfVectorizer()\n",
    "feature_vec = tfidf_TV.fit(doc_list)"
   ]
  },
  {
   "cell_type": "markdown",
   "metadata": {
    "id": "ph9xNynPonhF"
   },
   "source": [
    "* 결과 확인"
   ]
  },
  {
   "cell_type": "code",
   "execution_count": 6,
   "metadata": {
    "colab": {
     "base_uri": "https://localhost:8080/"
    },
    "executionInfo": {
     "elapsed": 21,
     "status": "ok",
     "timestamp": 1674703329480,
     "user": {
      "displayName": "이정구",
      "userId": "10412141110999311561"
     },
     "user_tz": -540
    },
    "id": "b5wAtHhJZ1BO",
    "outputId": "0bcabbd0-8a62-4ca3-8962-12167e27e57f"
   },
   "outputs": [
    {
     "name": "stdout",
     "output_type": "stream",
     "text": [
      "{'if': 6, 'you': 17, 'take': 14, 'the': 15, 'blue': 0, 'pill': 8, 'story': 13, 'ends': 2, 'red': 10, 'stay': 12, 'in': 7, 'wonderland': 16, 'show': 11, 'how': 5, 'deep': 1, 'rabbit': 9, 'hole': 4, 'goes': 3}\n"
     ]
    }
   ],
   "source": [
    "print(feature_vec.vocabulary_)"
   ]
  },
  {
   "cell_type": "markdown",
   "metadata": {
    "id": "u6dMcssGxnGK"
   },
   "source": [
    "> ## 3) 행렬 변환"
   ]
  },
  {
   "cell_type": "markdown",
   "metadata": {
    "id": "TIuTOL3NotZq"
   },
   "source": [
    "* .toarray( )"
   ]
  },
  {
   "cell_type": "code",
   "execution_count": 7,
   "metadata": {
    "id": "L1qSQ9LfaDmc"
   },
   "outputs": [],
   "source": [
    "feature_vec_matrix = feature_vec.transform(doc_list).toarray()"
   ]
  },
  {
   "cell_type": "markdown",
   "metadata": {
    "id": "NkLLI9qRox9H"
   },
   "source": [
    "* .shape"
   ]
  },
  {
   "cell_type": "code",
   "execution_count": 8,
   "metadata": {
    "colab": {
     "base_uri": "https://localhost:8080/"
    },
    "executionInfo": {
     "elapsed": 19,
     "status": "ok",
     "timestamp": 1674703329481,
     "user": {
      "displayName": "이정구",
      "userId": "10412141110999311561"
     },
     "user_tz": -540
    },
    "id": "X_S3vPv8vNwc",
    "outputId": "8bef8f61-43ca-4fb7-81e1-6a27a2cc9ec0"
   },
   "outputs": [
    {
     "data": {
      "text/plain": [
       "(3, 18)"
      ]
     },
     "execution_count": 8,
     "metadata": {},
     "output_type": "execute_result"
    }
   ],
   "source": [
    "feature_vec_matrix.shape"
   ]
  },
  {
   "cell_type": "markdown",
   "metadata": {
    "id": "nUqv898-ozv1"
   },
   "source": [
    "* 결과 확인"
   ]
  },
  {
   "cell_type": "code",
   "execution_count": 9,
   "metadata": {
    "colab": {
     "base_uri": "https://localhost:8080/"
    },
    "executionInfo": {
     "elapsed": 17,
     "status": "ok",
     "timestamp": 1674703329482,
     "user": {
      "displayName": "이정구",
      "userId": "10412141110999311561"
     },
     "user_tz": -540
    },
    "id": "1E5BXWhQVIxQ",
    "outputId": "2456edfd-cc13-4566-c20f-713a7ff6710a"
   },
   "outputs": [
    {
     "name": "stdout",
     "output_type": "stream",
     "text": [
      "[[0.41556 0.      0.41556 0.      0.      0.      0.24544 0.      0.24544 0.      0.      0.      0.      0.41556 0.24544 0.49088 0.      0.24544]\n",
      " [0.      0.      0.      0.      0.      0.      0.23403 0.39624 0.23403 0.      0.30135 0.      0.39624 0.      0.23403 0.23403 0.39624 0.46806]\n",
      " [0.      0.30986 0.      0.30986 0.30986 0.30986 0.18301 0.      0.18301 0.30986 0.23565 0.30986 0.      0.      0.18301 0.36601 0.      0.36601]]\n"
     ]
    }
   ],
   "source": [
    "print(feature_vec_matrix)"
   ]
  },
  {
   "cell_type": "markdown",
   "metadata": {
    "id": "1e-jPiWa2bzw"
   },
   "source": [
    "> ## 4) 개별 Feature Vector 추출"
   ]
  },
  {
   "cell_type": "code",
   "execution_count": 10,
   "metadata": {
    "colab": {
     "base_uri": "https://localhost:8080/"
    },
    "executionInfo": {
     "elapsed": 340,
     "status": "ok",
     "timestamp": 1674703329809,
     "user": {
      "displayName": "이정구",
      "userId": "10412141110999311561"
     },
     "user_tz": -540
    },
    "id": "ky1MX2q8xwwc",
    "outputId": "a78543ca-473a-4869-848a-7378249037b8"
   },
   "outputs": [
    {
     "name": "stdout",
     "output_type": "stream",
     "text": [
      "[0.41556 0.      0.41556 0.      0.      0.      0.24544 0.      0.24544 0.      0.      0.      0.      0.41556 0.24544 0.49088 0.      0.24544]\n",
      "[0.      0.      0.      0.      0.      0.      0.23403 0.39624 0.23403 0.      0.30135 0.      0.39624 0.      0.23403 0.23403 0.39624 0.46806]\n",
      "[0.      0.30986 0.      0.30986 0.30986 0.30986 0.18301 0.      0.18301 0.30986 0.23565 0.30986 0.      0.      0.18301 0.36601 0.      0.36601]\n"
     ]
    }
   ],
   "source": [
    "vec1 = np.array(feature_vec_matrix[0]).reshape(-1,)\n",
    "vec2 = np.array(feature_vec_matrix[1]).reshape(-1,)\n",
    "vec3 = np.array(feature_vec_matrix[2]).reshape(-1,)\n",
    "\n",
    "print(vec1)\n",
    "print(vec2)\n",
    "print(vec3)"
   ]
  },
  {
   "cell_type": "markdown",
   "metadata": {
    "id": "CduDLn6Vutzn"
   },
   "source": [
    "# II. cos_similarity( )\n",
    "\n",
    "* 두 벡터의 크기와 상관없이, 상호 방향성이 얼마나 유사한지에 기반\n",
    " - 두 벡터의 사잇각을 계산하여 유사도 측정\n",
    "<br>\n",
    "<br>\n",
    "* 두 벡터의 내적을 총 벡터 크기로 정규화(L2 Norm)\n",
    " - dot_product: 두 벡터의 내적\n",
    " - l2_norm: 총 벡터 크기의 합"
   ]
  },
  {
   "cell_type": "code",
   "execution_count": 11,
   "metadata": {
    "id": "6HUmgq_EsWVA"
   },
   "outputs": [],
   "source": [
    "import numpy as np\n",
    "\n",
    "def cos_similarity(v1, v2):\n",
    "    dot_product = np.dot(v1, v2)\n",
    "    l2_norm = (np.sqrt(sum(np.square(v1))) * np.sqrt(sum(np.square(v2))))\n",
    "    similarity = dot_product / l2_norm     \n",
    "    \n",
    "    return similarity"
   ]
  },
  {
   "cell_type": "markdown",
   "metadata": {
    "id": "1XzXPZgZ2nco"
   },
   "source": [
    "> ## 1) 'vec1', 'vec2' 코사인 유사도"
   ]
  },
  {
   "cell_type": "code",
   "execution_count": 12,
   "metadata": {
    "colab": {
     "base_uri": "https://localhost:8080/"
    },
    "executionInfo": {
     "elapsed": 18,
     "status": "ok",
     "timestamp": 1674703329810,
     "user": {
      "displayName": "이정구",
      "userId": "10412141110999311561"
     },
     "user_tz": -540
    },
    "id": "PwiMuI1qyGHZ",
    "outputId": "1f4a33b1-386b-4ffa-bdf9-83abdda796ec"
   },
   "outputs": [
    {
     "name": "stdout",
     "output_type": "stream",
     "text": [
      "vec1, vec2 코사인 유사도: 0.40208\n"
     ]
    }
   ],
   "source": [
    "similarity_simple = cos_similarity(vec1, vec2)\n",
    "\n",
    "print('vec1, vec2 코사인 유사도: {0:.5f}'.format(similarity_simple))"
   ]
  },
  {
   "cell_type": "markdown",
   "metadata": {
    "id": "jAxYkj602_Kz"
   },
   "source": [
    "> ## 2) 'vec1', 'vec3' 코사인 유사도"
   ]
  },
  {
   "cell_type": "code",
   "execution_count": 13,
   "metadata": {
    "colab": {
     "base_uri": "https://localhost:8080/"
    },
    "executionInfo": {
     "elapsed": 17,
     "status": "ok",
     "timestamp": 1674703329810,
     "user": {
      "displayName": "이정구",
      "userId": "10412141110999311561"
     },
     "user_tz": -540
    },
    "id": "0rqBOgjks9NW",
    "outputId": "fd505e70-5257-4a94-c075-9ba79571c36e"
   },
   "outputs": [
    {
     "name": "stdout",
     "output_type": "stream",
     "text": [
      "vec1, vec3 코사인 유사도: 0.40425\n"
     ]
    }
   ],
   "source": [
    "similarity_simple = cos_similarity(vec1, vec3)\n",
    "\n",
    "print('vec1, vec3 코사인 유사도: {0:.5f}'.format(similarity_simple))"
   ]
  },
  {
   "cell_type": "markdown",
   "metadata": {
    "id": "gkI27xhi3Huy"
   },
   "source": [
    "> ## 3) 'vec2', 'vec3' 코사인 유사도"
   ]
  },
  {
   "cell_type": "code",
   "execution_count": 14,
   "metadata": {
    "colab": {
     "base_uri": "https://localhost:8080/"
    },
    "executionInfo": {
     "elapsed": 15,
     "status": "ok",
     "timestamp": 1674703329810,
     "user": {
      "displayName": "이정구",
      "userId": "10412141110999311561"
     },
     "user_tz": -540
    },
    "id": "uW5SdNwvyYA5",
    "outputId": "4deace11-3f03-4911-db43-2dfd37e54b3e"
   },
   "outputs": [
    {
     "name": "stdout",
     "output_type": "stream",
     "text": [
      "vec2, vec3 코사인 유사도: 0.45647\n"
     ]
    }
   ],
   "source": [
    "similarity_simple = cos_similarity(vec2, vec3)\n",
    "\n",
    "print('vec2, vec3 코사인 유사도: {0:.5f}'.format(similarity_simple))"
   ]
  },
  {
   "cell_type": "markdown",
   "metadata": {
    "id": "zG1AV1SsybQb"
   },
   "source": [
    "# III. sklearn - cosine_similarity( )"
   ]
  },
  {
   "cell_type": "code",
   "execution_count": 15,
   "metadata": {
    "colab": {
     "base_uri": "https://localhost:8080/"
    },
    "executionInfo": {
     "elapsed": 13,
     "status": "ok",
     "timestamp": 1674703329810,
     "user": {
      "displayName": "이정구",
      "userId": "10412141110999311561"
     },
     "user_tz": -540
    },
    "id": "flGyQnAqtAjr",
    "outputId": "cbde5da0-8a33-4ce7-8b73-47d450703979"
   },
   "outputs": [
    {
     "name": "stdout",
     "output_type": "stream",
     "text": [
      "[[1.      0.40208 0.40425]\n",
      " [0.40208 1.      0.45647]\n",
      " [0.40425 0.45647 1.     ]]\n"
     ]
    }
   ],
   "source": [
    "from sklearn.metrics.pairwise import cosine_similarity\n",
    "\n",
    "print(cosine_similarity(feature_vec_matrix, feature_vec_matrix))"
   ]
  },
  {
   "cell_type": "markdown",
   "metadata": {
    "id": "mm4g161G5Etb"
   },
   "source": [
    "# IV. Topic Problem\n",
    "- 단어매칭방식의 경우, 동일한 의미지만 서로 다른 단어로 구성된 문장들의 유사도를 알 수 없는 문제"
   ]
  },
  {
   "cell_type": "markdown",
   "metadata": {
    "id": "V41KUxAh6I4R"
   },
   "source": [
    "> ## 1) 문장 지정"
   ]
  },
  {
   "cell_type": "code",
   "execution_count": 16,
   "metadata": {
    "id": "A0GZhIAK3ifr"
   },
   "outputs": [],
   "source": [
    "sent_list = ['I eat an apple',\n",
    "             'Koo have fruit',\n",
    "             'I sell an apple']"
   ]
  },
  {
   "cell_type": "markdown",
   "metadata": {
    "id": "yPhRZ1rE6Myp"
   },
   "source": [
    "> ## 2) 벡터 변환"
   ]
  },
  {
   "cell_type": "code",
   "execution_count": 17,
   "metadata": {
    "id": "2NFv-gTz4oLn"
   },
   "outputs": [],
   "source": [
    "tfidf_vec = TfidfVectorizer()\n",
    "feature_vec = tfidf_vec.fit_transform(sent_list)"
   ]
  },
  {
   "cell_type": "code",
   "execution_count": 18,
   "metadata": {
    "colab": {
     "base_uri": "https://localhost:8080/"
    },
    "executionInfo": {
     "elapsed": 13,
     "status": "ok",
     "timestamp": 1674703329812,
     "user": {
      "displayName": "이정구",
      "userId": "10412141110999311561"
     },
     "user_tz": -540
    },
    "id": "IfULo_fRxl5l",
    "outputId": "651ec811-6b69-421b-e2ca-d69872890f20"
   },
   "outputs": [
    {
     "name": "stdout",
     "output_type": "stream",
     "text": [
      "[[0.51786 0.51786 0.68092 0.      0.      0.      0.     ]\n",
      " [0.      0.      0.      0.57735 0.57735 0.57735 0.     ]\n",
      " [0.51786 0.51786 0.      0.      0.      0.      0.68092]]\n"
     ]
    }
   ],
   "source": [
    "print(feature_vec.toarray())"
   ]
  },
  {
   "cell_type": "markdown",
   "metadata": {
    "id": "MViUKQQ56PJh"
   },
   "source": [
    "> ## 3) 문장1 vs. 문장2"
   ]
  },
  {
   "cell_type": "code",
   "execution_count": 19,
   "metadata": {
    "colab": {
     "base_uri": "https://localhost:8080/"
    },
    "executionInfo": {
     "elapsed": 10,
     "status": "ok",
     "timestamp": 1674703329812,
     "user": {
      "displayName": "이정구",
      "userId": "10412141110999311561"
     },
     "user_tz": -540
    },
    "id": "FFl_ax7L4zFA",
    "outputId": "8c4486d2-bddf-40f1-b512-63d630d02f28"
   },
   "outputs": [
    {
     "name": "stdout",
     "output_type": "stream",
     "text": [
      "[[0.]]\n"
     ]
    }
   ],
   "source": [
    "print(cosine_similarity(feature_vec[0], feature_vec[1]))"
   ]
  },
  {
   "cell_type": "markdown",
   "metadata": {
    "id": "UOpga8UL6TZ3"
   },
   "source": [
    "> ## 4) 문자1 vs. 문장3"
   ]
  },
  {
   "cell_type": "code",
   "execution_count": 20,
   "metadata": {
    "colab": {
     "base_uri": "https://localhost:8080/"
    },
    "executionInfo": {
     "elapsed": 10,
     "status": "ok",
     "timestamp": 1674703329813,
     "user": {
      "displayName": "이정구",
      "userId": "10412141110999311561"
     },
     "user_tz": -540
    },
    "id": "wXpiAyML5-GH",
    "outputId": "0ce004c2-8465-4dbf-b39b-78e6f2c3fd73"
   },
   "outputs": [
    {
     "name": "stdout",
     "output_type": "stream",
     "text": [
      "[[0.53635]]\n"
     ]
    }
   ],
   "source": [
    "print(cosine_similarity(feature_vec[0], feature_vec[2]))"
   ]
  },
  {
   "cell_type": "markdown",
   "metadata": {
    "id": "AAsRHykEOlRz"
   },
   "source": [
    "# V. Word2Vec\n",
    "\n",
    "\n",
    "* 벡터 공간상에 비슷한 위치에 있다면 유사도(비슷한 의미)가 높음\n",
    "\n"
   ]
  },
  {
   "cell_type": "markdown",
   "metadata": {
    "id": "AOkgTQ7IpCdH"
   },
   "source": [
    "> ## 1) Load Pretrained Word2Vec"
   ]
  },
  {
   "cell_type": "code",
   "execution_count": 21,
   "metadata": {
    "id": "ahN3GdiWE3wM"
   },
   "outputs": [],
   "source": [
    "import tensorflow_hub as hub\n",
    "\n",
    "embed = hub.load('https://tfhub.dev/google/Wiki-words-250/2')"
   ]
  },
  {
   "cell_type": "markdown",
   "metadata": {
    "id": "qKTB-zwuoI9v"
   },
   "source": [
    "> ## 2) 'words' List 정의"
   ]
  },
  {
   "cell_type": "code",
   "execution_count": 22,
   "metadata": {
    "id": "f9NyFKoAO5JF"
   },
   "outputs": [],
   "source": [
    "words = ['apple', 'eat', 'fruit', 'have', 'sell']"
   ]
  },
  {
   "cell_type": "markdown",
   "metadata": {
    "id": "m7gyNeujoOMw"
   },
   "source": [
    "> ## 3) Word2Vec Embedding"
   ]
  },
  {
   "cell_type": "code",
   "execution_count": 23,
   "metadata": {
    "id": "q2EfyvJiPOYq"
   },
   "outputs": [],
   "source": [
    "embeddings = embed(words)"
   ]
  },
  {
   "cell_type": "markdown",
   "metadata": {
    "id": "TGARE9NPoUT8"
   },
   "source": [
    "> ## 4) Cosine Similarity"
   ]
  },
  {
   "cell_type": "code",
   "execution_count": 24,
   "metadata": {
    "colab": {
     "base_uri": "https://localhost:8080/"
    },
    "executionInfo": {
     "elapsed": 440,
     "status": "ok",
     "timestamp": 1674703352400,
     "user": {
      "displayName": "이정구",
      "userId": "10412141110999311561"
     },
     "user_tz": -540
    },
    "id": "Iw2cfJo1PTSI",
    "outputId": "d48fe61a-f6ac-47a6-821c-3405cc99c927"
   },
   "outputs": [
    {
     "name": "stdout",
     "output_type": "stream",
     "text": [
      "( apple , apple ) 0.9999999931909316\n",
      "( apple , eat ) 0.489093062896653\n",
      "( apple , fruit ) 0.7875376298521813\n",
      "( apple , have ) 0.13348328970070875\n",
      "( apple , sell ) 0.1062324041549029\n",
      "( eat , eat ) 0.9999999971373392\n",
      "( eat , fruit ) 0.5329400280904417\n",
      "( eat , have ) 0.32322418518239215\n",
      "( eat , sell ) 0.2691977909422276\n",
      "( fruit , fruit ) 0.9999999953289063\n",
      "( fruit , have ) 0.13598027740914803\n",
      "( fruit , sell ) 0.11212407751092707\n",
      "( have , have ) 0.9999999922515387\n",
      "( have , sell ) 0.21071003257663778\n",
      "( sell , sell ) 0.99999999637987\n"
     ]
    }
   ],
   "source": [
    "for i in range(len(words)):\n",
    "    for j in range(i,len(words)):\n",
    "        print(\"(\",words[i], \",\", words[j],\")\", cos_similarity(embeddings[i], embeddings[j]))"
   ]
  },
  {
   "cell_type": "markdown",
   "metadata": {
    "id": "S2ntkdNEtVD0"
   },
   "source": [
    "# \n",
    "# \n",
    "# \n",
    "# The End\n",
    "# \n",
    "# \n",
    "# "
   ]
  }
 ],
 "metadata": {
  "colab": {
   "provenance": []
  },
  "kernelspec": {
   "display_name": "Python 3 (ipykernel)",
   "language": "python",
   "name": "python3"
  },
  "language_info": {
   "codemirror_mode": {
    "name": "ipython",
    "version": 3
   },
   "file_extension": ".py",
   "mimetype": "text/x-python",
   "name": "python",
   "nbconvert_exporter": "python",
   "pygments_lexer": "ipython3",
   "version": "3.10.9"
  },
  "toc": {
   "base_numbering": 1,
   "nav_menu": {},
   "number_sections": true,
   "sideBar": true,
   "skip_h1_title": false,
   "title_cell": "Table of Contents",
   "title_sidebar": "Contents",
   "toc_cell": false,
   "toc_position": {},
   "toc_section_display": true,
   "toc_window_display": false
  }
 },
 "nbformat": 4,
 "nbformat_minor": 1
}
