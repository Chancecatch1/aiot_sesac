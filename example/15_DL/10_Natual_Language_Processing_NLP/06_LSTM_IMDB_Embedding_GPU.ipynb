{
 "cells": [
  {
   "cell_type": "markdown",
   "metadata": {
    "id": "i4Zsf2GlZmbk"
   },
   "source": [
    "# IMDB - Embedding with LSTM\n",
    "> ## NLP(Natural Language Processing)"
   ]
  },
  {
   "cell_type": "code",
   "execution_count": null,
   "metadata": {
    "id": "RbPgODpVzdHI"
   },
   "outputs": [],
   "source": [
    "import warnings\n",
    "warnings.filterwarnings('ignore')"
   ]
  },
  {
   "cell_type": "markdown",
   "metadata": {
    "id": "m7cryRtTQh1d"
   },
   "source": [
    "## Import Tensorflow"
   ]
  },
  {
   "cell_type": "code",
   "execution_count": null,
   "metadata": {
    "colab": {
     "base_uri": "https://localhost:8080/",
     "height": 35
    },
    "executionInfo": {
     "elapsed": 3467,
     "status": "ok",
     "timestamp": 1674702627020,
     "user": {
      "displayName": "이정구",
      "userId": "08368998955804870048"
     },
     "user_tz": -540
    },
    "id": "6Grj7IWWZhfd",
    "outputId": "c1579b5f-476a-486b-e21c-85fcacee49cf"
   },
   "outputs": [
    {
     "data": {
      "application/vnd.google.colaboratory.intrinsic+json": {
       "type": "string"
      },
      "text/plain": [
       "'2.9.2'"
      ]
     },
     "execution_count": 2,
     "metadata": {},
     "output_type": "execute_result"
    }
   ],
   "source": [
    "import tensorflow\n",
    "\n",
    "tensorflow.__version__"
   ]
  },
  {
   "cell_type": "markdown",
   "metadata": {
    "id": "BVvR9iWBBHFz"
   },
   "source": [
    "# I. IMDB Data_Set Load & Review"
   ]
  },
  {
   "cell_type": "markdown",
   "metadata": {
    "id": "Xg6K-DLuaivQ"
   },
   "source": [
    "> ## 1) Load IMDB Data_Set"
   ]
  },
  {
   "cell_type": "code",
   "execution_count": null,
   "metadata": {
    "colab": {
     "base_uri": "https://localhost:8080/"
    },
    "executionInfo": {
     "elapsed": 15118,
     "status": "ok",
     "timestamp": 1674702642131,
     "user": {
      "displayName": "이정구",
      "userId": "08368998955804870048"
     },
     "user_tz": -540
    },
    "id": "gd98PYmOZ5MA",
    "outputId": "9ba86ae4-e804-4ad3-e550-fc423255d831"
   },
   "outputs": [
    {
     "name": "stdout",
     "output_type": "stream",
     "text": [
      "Downloading data from https://storage.googleapis.com/tensorflow/tf-keras-datasets/imdb.npz\n",
      "17464789/17464789 [==============================] - 1s 0us/step\n"
     ]
    }
   ],
   "source": [
    "from tensorflow.keras.datasets import imdb\n",
    "\n",
    "(X_train, y_train), (X_test, y_test) = imdb.load_data(num_words = 10000)"
   ]
  },
  {
   "cell_type": "markdown",
   "metadata": {
    "id": "nkVRUFKz-ajK"
   },
   "source": [
    "> ## 2) Original Data Shape"
   ]
  },
  {
   "cell_type": "code",
   "execution_count": null,
   "metadata": {
    "colab": {
     "base_uri": "https://localhost:8080/"
    },
    "executionInfo": {
     "elapsed": 32,
     "status": "ok",
     "timestamp": 1674702642134,
     "user": {
      "displayName": "이정구",
      "userId": "08368998955804870048"
     },
     "user_tz": -540
    },
    "id": "kCQU3F4N-MpO",
    "outputId": "97495fab-3460-4933-a79a-76a6512f8268"
   },
   "outputs": [
    {
     "name": "stdout",
     "output_type": "stream",
     "text": [
      "(25000,) (25000,) (25000,) (25000,)\n"
     ]
    }
   ],
   "source": [
    "print(X_train.shape, y_train.shape, X_test.shape, y_test.shape)"
   ]
  },
  {
   "cell_type": "markdown",
   "metadata": {
    "id": "N2AaJlJ6B2dR"
   },
   "source": [
    "> ## 3) Data Length & Frequency"
   ]
  },
  {
   "cell_type": "markdown",
   "metadata": {
    "id": "aSDfI45gD8go"
   },
   "source": [
    "> ### (1) X_train - 리뷰 길이"
   ]
  },
  {
   "cell_type": "code",
   "execution_count": null,
   "metadata": {
    "colab": {
     "base_uri": "https://localhost:8080/"
    },
    "executionInfo": {
     "elapsed": 28,
     "status": "ok",
     "timestamp": 1674702642135,
     "user": {
      "displayName": "이정구",
      "userId": "08368998955804870048"
     },
     "user_tz": -540
    },
    "id": "1JwqZ-9Nv0FU",
    "outputId": "92cfab61-450b-4fbe-cc59-042431afa861"
   },
   "outputs": [
    {
     "name": "stdout",
     "output_type": "stream",
     "text": [
      "리뷰 최대 길이 : 2494\n",
      "리뷰 평균 길이 : 238.71364\n"
     ]
    }
   ],
   "source": [
    "import matplotlib.pyplot as plt\n",
    "\n",
    "print('리뷰 최대 길이 :', max(len(L) for L in X_train))\n",
    "print('리뷰 평균 길이 :', sum(map(len, X_train))/len(X_train))"
   ]
  },
  {
   "cell_type": "markdown",
   "metadata": {
    "id": "Js7Ro8xYD_xZ"
   },
   "source": [
    "> ### (2) y_train - Frequency(0:부정, 1:긍정)"
   ]
  },
  {
   "cell_type": "code",
   "execution_count": null,
   "metadata": {
    "colab": {
     "base_uri": "https://localhost:8080/"
    },
    "executionInfo": {
     "elapsed": 24,
     "status": "ok",
     "timestamp": 1674702642135,
     "user": {
      "displayName": "이정구",
      "userId": "08368998955804870048"
     },
     "user_tz": -540
    },
    "id": "9a7jlAPo1XZY",
    "outputId": "80814e46-6af7-40dd-996b-86ffe308dd4e"
   },
   "outputs": [
    {
     "name": "stdout",
     "output_type": "stream",
     "text": [
      "Label 빈도수:\n",
      "[[    0     1]\n",
      " [12500 12500]]\n"
     ]
    }
   ],
   "source": [
    "import numpy as np\n",
    "\n",
    "unique_elements, counts_elements = np.unique(y_train, return_counts = True)\n",
    "\n",
    "print('Label 빈도수:')\n",
    "print(np.asarray((unique_elements, counts_elements)))"
   ]
  },
  {
   "cell_type": "markdown",
   "metadata": {
    "id": "2FXpQz3hCn1Q"
   },
   "source": [
    "# II. Tensor Transformation"
   ]
  },
  {
   "cell_type": "markdown",
   "metadata": {
    "id": "ktRZ0LEuaoIv"
   },
   "source": [
    "> ## 1) X_train & X_test : (25000, 250)"
   ]
  },
  {
   "cell_type": "markdown",
   "metadata": {
    "id": "Ytr5lfZMd86B"
   },
   "source": [
    "* .pad_sequences( )\n",
    " - (25000, 250)\n",
    "   - padding = 'pre': 문장의 길이를 250으로 변경하고 앞쪽에 '0'으로 채우기\n",
    "   - padding = 'post': 문장의 길이를 250으로 변경하고 뒤쪽에 '0'으로 채우기"
   ]
  },
  {
   "cell_type": "code",
   "execution_count": null,
   "metadata": {
    "colab": {
     "base_uri": "https://localhost:8080/"
    },
    "executionInfo": {
     "elapsed": 1030,
     "status": "ok",
     "timestamp": 1674702643143,
     "user": {
      "displayName": "이정구",
      "userId": "08368998955804870048"
     },
     "user_tz": -540
    },
    "id": "jd3-4WO2Vvlm",
    "outputId": "1a3f7e3e-aaac-45af-feb8-5e68abefd859"
   },
   "outputs": [
    {
     "data": {
      "text/plain": [
       "((25000, 250), (25000, 250))"
      ]
     },
     "execution_count": 7,
     "metadata": {},
     "output_type": "execute_result"
    }
   ],
   "source": [
    "from tensorflow.keras.preprocessing.sequence import pad_sequences\n",
    "\n",
    "X_train = pad_sequences(X_train, \n",
    "                        maxlen = 250, \n",
    "                        padding = 'pre')\n",
    "X_test = pad_sequences(X_test, \n",
    "                       maxlen = 250, \n",
    "                       padding = 'pre')\n",
    "\n",
    "X_train.shape, X_test.shape"
   ]
  },
  {
   "cell_type": "markdown",
   "metadata": {
    "id": "kdhLicvNhaG2"
   },
   "source": [
    "* Transformation Check"
   ]
  },
  {
   "cell_type": "code",
   "execution_count": null,
   "metadata": {
    "colab": {
     "base_uri": "https://localhost:8080/"
    },
    "executionInfo": {
     "elapsed": 557,
     "status": "ok",
     "timestamp": 1674702643696,
     "user": {
      "displayName": "이정구",
      "userId": "08368998955804870048"
     },
     "user_tz": -540
    },
    "id": "7eq7MP6rc5Rs",
    "outputId": "e0e01576-0fe4-4ca5-db03-6b1822004758"
   },
   "outputs": [
    {
     "name": "stdout",
     "output_type": "stream",
     "text": [
      "[0 0 0 0 0 0 0 0 0 0 0 0 0 0 0 0 0 0 0 0 0]\n",
      "[  65   16   38 1334   88   12   16  283    5   16 4472  113  103   32\n",
      "   15   16 5345   19  178   32]\n",
      "\n",
      "[0 0 0 0 0 0 0 0 0 0 0 0 0 0 0 0 0 0 0 0 0]\n",
      "[ 286  170    8  157   46    5   27  239   16  179    2   38   32   25\n",
      " 7944  451  202   14    6  717]\n"
     ]
    }
   ],
   "source": [
    "print(X_train[0][:21])\n",
    "print(X_train[0][-20:])\n",
    "print()\n",
    "print(X_test[0][:21])\n",
    "print(X_test[0][-20:])"
   ]
  },
  {
   "cell_type": "markdown",
   "metadata": {
    "id": "2P3BUUnLCzpg"
   },
   "source": [
    "> ## 2) y_train & y_test"
   ]
  },
  {
   "cell_type": "code",
   "execution_count": null,
   "metadata": {
    "colab": {
     "base_uri": "https://localhost:8080/"
    },
    "executionInfo": {
     "elapsed": 4,
     "status": "ok",
     "timestamp": 1674702643697,
     "user": {
      "displayName": "이정구",
      "userId": "08368998955804870048"
     },
     "user_tz": -540
    },
    "id": "vBa9-QTQeqAx",
    "outputId": "b2018bd5-58c2-4a4c-dd47-f50561865ed7"
   },
   "outputs": [
    {
     "name": "stdout",
     "output_type": "stream",
     "text": [
      "[1. 0. 0. 1. 0. 0. 1. 0. 1. 0. 1. 0. 0. 0. 0. 0. 1. 1. 0. 1. 0.]\n",
      "\n",
      "[0. 1. 1. 0. 1. 1. 1. 0. 0. 1. 1. 0. 0. 0. 1. 0. 1. 0. 0. 0. 1.]\n"
     ]
    }
   ],
   "source": [
    "y_train = np.asarray(y_train).astype(float)\n",
    "y_test = np.asarray(y_test).astype(float)\n",
    "\n",
    "print(y_train[:21])\n",
    "print()\n",
    "print(y_test[:21])"
   ]
  },
  {
   "cell_type": "markdown",
   "metadata": {
    "id": "kvsN9jNLDQO6"
   },
   "source": [
    "# III. Keras Embedding Modeling"
   ]
  },
  {
   "cell_type": "markdown",
   "metadata": {
    "id": "gaNenfHbOwSM"
   },
   "source": [
    "> ## 1) Model Define"
   ]
  },
  {
   "cell_type": "markdown",
   "metadata": {
    "id": "ceGhnn1tO_0P"
   },
   "source": [
    "* 모델 신경망 구조 정의\n",
    " - Embedding Dimension : 32\n",
    "    - Input_dim: 적용 단어 종류\n",
    "    - output_dim: 임베딩 차원"
   ]
  },
  {
   "cell_type": "code",
   "execution_count": null,
   "metadata": {
    "id": "Nra8_pdYfEbI"
   },
   "outputs": [],
   "source": [
    "from tensorflow.keras import models\n",
    "from tensorflow.keras import layers\n",
    "\n",
    "imdb = models.Sequential()\n",
    "imdb.add(layers.Embedding(input_dim = 10000, \n",
    "                          output_dim = 32))\n",
    "\n",
    "imdb.add(layers.LSTM(64))\n",
    "imdb.add(layers.Dense(1, activation = 'sigmoid'))"
   ]
  },
  {
   "cell_type": "markdown",
   "metadata": {
    "id": "2-tCxHmwPBfQ"
   },
   "source": [
    "* 모델 구조 확인"
   ]
  },
  {
   "cell_type": "code",
   "execution_count": null,
   "metadata": {
    "colab": {
     "base_uri": "https://localhost:8080/"
    },
    "executionInfo": {
     "elapsed": 650,
     "status": "ok",
     "timestamp": 1674702647319,
     "user": {
      "displayName": "이정구",
      "userId": "08368998955804870048"
     },
     "user_tz": -540
    },
    "id": "GwPhayISDpp8",
    "outputId": "bfa806b3-bdec-4353-934b-927492d79c47"
   },
   "outputs": [
    {
     "name": "stdout",
     "output_type": "stream",
     "text": [
      "Model: \"sequential\"\n",
      "_________________________________________________________________\n",
      " Layer (type)                Output Shape              Param #   \n",
      "=================================================================\n",
      " embedding (Embedding)       (None, None, 32)          320000    \n",
      "                                                                 \n",
      " lstm (LSTM)                 (None, 64)                24832     \n",
      "                                                                 \n",
      " dense (Dense)               (None, 1)                 65        \n",
      "                                                                 \n",
      "=================================================================\n",
      "Total params: 344,897\n",
      "Trainable params: 344,897\n",
      "Non-trainable params: 0\n",
      "_________________________________________________________________\n"
     ]
    }
   ],
   "source": [
    "imdb.summary()"
   ]
  },
  {
   "cell_type": "markdown",
   "metadata": {
    "id": "HTGpTEQXDVp0"
   },
   "source": [
    "> ## 2) Model Compile"
   ]
  },
  {
   "cell_type": "markdown",
   "metadata": {
    "id": "Y4PkohjpPPRT"
   },
   "source": [
    "* 모델 학습방법 설정"
   ]
  },
  {
   "cell_type": "code",
   "execution_count": null,
   "metadata": {
    "id": "UcQP7161fXpr"
   },
   "outputs": [],
   "source": [
    "imdb.compile(loss = 'binary_crossentropy',\n",
    "             optimizer = 'rmsprop',\n",
    "             metrics = ['accuracy'])"
   ]
  },
  {
   "cell_type": "markdown",
   "metadata": {
    "id": "_j4bBF6fDi2a"
   },
   "source": [
    "> ## 3) Model Fit"
   ]
  },
  {
   "cell_type": "code",
   "execution_count": null,
   "metadata": {
    "colab": {
     "base_uri": "https://localhost:8080/"
    },
    "executionInfo": {
     "elapsed": 21138,
     "status": "ok",
     "timestamp": 1674702668442,
     "user": {
      "displayName": "이정구",
      "userId": "08368998955804870048"
     },
     "user_tz": -540
    },
    "id": "dWXKNdQ5fw67",
    "outputId": "0c3913b2-c65c-48e6-8d48-11b776edf1b4"
   },
   "outputs": [
    {
     "name": "stdout",
     "output_type": "stream",
     "text": [
      "Epoch 1/10\n",
      "49/49 [==============================] - 8s 41ms/step - loss: 0.5971 - accuracy: 0.6932 - val_loss: 0.5360 - val_accuracy: 0.8049\n",
      "Epoch 2/10\n",
      "49/49 [==============================] - 1s 29ms/step - loss: 0.4205 - accuracy: 0.8286 - val_loss: 0.4654 - val_accuracy: 0.8156\n",
      "Epoch 3/10\n",
      "49/49 [==============================] - 1s 28ms/step - loss: 0.3196 - accuracy: 0.8756 - val_loss: 0.3345 - val_accuracy: 0.8648\n",
      "Epoch 4/10\n",
      "49/49 [==============================] - 1s 29ms/step - loss: 0.2752 - accuracy: 0.8939 - val_loss: 0.4593 - val_accuracy: 0.7733\n",
      "Epoch 5/10\n",
      "49/49 [==============================] - 1s 29ms/step - loss: 0.2399 - accuracy: 0.9092 - val_loss: 0.3924 - val_accuracy: 0.8282\n",
      "Epoch 6/10\n",
      "49/49 [==============================] - 1s 29ms/step - loss: 0.2157 - accuracy: 0.9190 - val_loss: 0.3853 - val_accuracy: 0.8467\n",
      "Epoch 7/10\n",
      "49/49 [==============================] - 1s 29ms/step - loss: 0.2024 - accuracy: 0.9248 - val_loss: 0.3126 - val_accuracy: 0.8675\n",
      "Epoch 8/10\n",
      "49/49 [==============================] - 1s 30ms/step - loss: 0.1826 - accuracy: 0.9324 - val_loss: 0.3299 - val_accuracy: 0.8674\n",
      "Epoch 9/10\n",
      "49/49 [==============================] - 1s 30ms/step - loss: 0.1709 - accuracy: 0.9366 - val_loss: 0.4095 - val_accuracy: 0.8489\n",
      "Epoch 10/10\n",
      "49/49 [==============================] - 1s 29ms/step - loss: 0.1597 - accuracy: 0.9413 - val_loss: 0.5041 - val_accuracy: 0.8530\n",
      "CPU times: user 18.7 s, sys: 1.28 s, total: 20 s\n",
      "Wall time: 21.5 s\n"
     ]
    }
   ],
   "source": [
    "%%time\n",
    "\n",
    "Hist_imdb = imdb.fit(X_train, y_train,\n",
    "                     epochs = 10,\n",
    "                     batch_size = 512,\n",
    "                     validation_data = (X_test, y_test))"
   ]
  },
  {
   "cell_type": "markdown",
   "metadata": {
    "id": "Jr4EudJrPfzi"
   },
   "source": [
    "> ## 4) 학습 결과 시각화"
   ]
  },
  {
   "cell_type": "code",
   "execution_count": null,
   "metadata": {
    "colab": {
     "base_uri": "https://localhost:8080/",
     "height": 350
    },
    "executionInfo": {
     "elapsed": 1040,
     "status": "ok",
     "timestamp": 1674702669471,
     "user": {
      "displayName": "이정구",
      "userId": "08368998955804870048"
     },
     "user_tz": -540
    },
    "id": "pujWYX1XKPNV",
    "outputId": "8201ab17-31fd-478a-bf40-8c835ea477a7"
   },
   "outputs": [
    {
     "data": {
      "image/png": "[encoded data removed]",
      "text/plain": [
       "<Figure size 1080x360 with 2 Axes>"
      ]
     },
     "metadata": {
      "needs_background": "light"
     },
     "output_type": "display_data"
    }
   ],
   "source": [
    "import matplotlib.pyplot as plt\n",
    "\n",
    "epochs = range(1, len(Hist_imdb.history['loss']) + 1)\n",
    "\n",
    "plt.figure(figsize = (15, 5))\n",
    "\n",
    "plt.subplot(1, 2, 1)\n",
    "plt.plot(epochs, Hist_imdb.history['loss'], 'b-')\n",
    "plt.plot(epochs, Hist_imdb.history['val_loss'], 'r--')\n",
    "plt.title('Training & Validation Loss')\n",
    "plt.xlabel('Epochs')\n",
    "plt.ylabel('Loss')\n",
    "plt.legend(['Training Loss', 'Validation Loss'])\n",
    "plt.grid()\n",
    "\n",
    "plt.subplot(1, 2, 2)\n",
    "plt.plot(epochs, Hist_imdb.history['accuracy'], 'b-')\n",
    "plt.plot(epochs, Hist_imdb.history['val_accuracy'], 'r--')\n",
    "plt.title('Training & Validation Accuracy')\n",
    "plt.xlabel('Epochs')\n",
    "plt.ylabel('Accuracy')\n",
    "plt.legend(['Training Accuracy', 'Validation Accuracy'])\n",
    "plt.grid()\n",
    "\n",
    "plt.show()"
   ]
  },
  {
   "cell_type": "markdown",
   "metadata": {
    "id": "JJy2E4a7EHFT"
   },
   "source": [
    "> ## 5) Model Evaluate"
   ]
  },
  {
   "cell_type": "markdown",
   "metadata": {
    "id": "3rxwmR3sQBAA"
   },
   "source": [
    "* Loss & Accuracy"
   ]
  },
  {
   "cell_type": "code",
   "execution_count": null,
   "metadata": {
    "colab": {
     "base_uri": "https://localhost:8080/"
    },
    "executionInfo": {
     "elapsed": 3519,
     "status": "ok",
     "timestamp": 1674702672984,
     "user": {
      "displayName": "이정구",
      "userId": "08368998955804870048"
     },
     "user_tz": -540
    },
    "id": "vzWv947ShOaa",
    "outputId": "8223315a-f3cf-4455-f037-fa3971b0dff0"
   },
   "outputs": [
    {
     "name": "stdout",
     "output_type": "stream",
     "text": [
      "Loss = 0.50407\n",
      "Accuracy = 0.85296\n"
     ]
    }
   ],
   "source": [
    "loss, accuracy = imdb.evaluate(X_test, y_test, verbose = 0)\n",
    "\n",
    "print('Loss = {:.5f}'.format(loss))\n",
    "print('Accuracy = {:.5f}'.format(accuracy))"
   ]
  },
  {
   "cell_type": "markdown",
   "metadata": {
    "id": "ylReVf0WSRDa"
   },
   "source": [
    "# \n",
    "# \n",
    "# \n",
    "# The End\n",
    "# \n",
    "# \n",
    "# "
   ]
  }
 ],
 "metadata": {
  "accelerator": "GPU",
  "colab": {
   "provenance": []
  },
  "kernelspec": {
   "display_name": "Python 3 (ipykernel)",
   "language": "python",
   "name": "python3"
  },
  "language_info": {
   "codemirror_mode": {
    "name": "ipython",
    "version": 3
   },
   "file_extension": ".py",
   "mimetype": "text/x-python",
   "name": "python",
   "nbconvert_exporter": "python",
   "pygments_lexer": "ipython3",
   "version": "3.10.9"
  },
  "toc": {
   "base_numbering": 1,
   "nav_menu": {},
   "number_sections": true,
   "sideBar": true,
   "skip_h1_title": false,
   "title_cell": "Table of Contents",
   "title_sidebar": "Contents",
   "toc_cell": false,
   "toc_position": {},
   "toc_section_display": true,
   "toc_window_display": false
  }
 },
 "nbformat": 4,
 "nbformat_minor": 1
}
