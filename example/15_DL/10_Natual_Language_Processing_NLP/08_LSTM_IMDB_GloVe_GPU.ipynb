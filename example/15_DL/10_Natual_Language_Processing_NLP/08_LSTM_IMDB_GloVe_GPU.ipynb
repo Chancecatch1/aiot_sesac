{
 "cells": [
  {
   "cell_type": "markdown",
   "metadata": {
    "id": "i4Zsf2GlZmbk"
   },
   "source": [
    "# IMDB - GloVe with LSTM\n",
    "> ## NLP(Natural Language Processing)"
   ]
  },
  {
   "cell_type": "code",
   "execution_count": 1,
   "metadata": {
    "executionInfo": {
     "elapsed": 9,
     "status": "ok",
     "timestamp": 1674719478664,
     "user": {
      "displayName": "이정구",
      "userId": "10412141110999311561"
     },
     "user_tz": -540
    },
    "id": "RbPgODpVzdHI"
   },
   "outputs": [],
   "source": [
    "import warnings\n",
    "warnings.filterwarnings('ignore')"
   ]
  },
  {
   "cell_type": "markdown",
   "metadata": {
    "id": "m7cryRtTQh1d"
   },
   "source": [
    "## Import Tensorflow"
   ]
  },
  {
   "cell_type": "code",
   "execution_count": 2,
   "metadata": {
    "colab": {
     "base_uri": "https://localhost:8080/",
     "height": 35
    },
    "executionInfo": {
     "elapsed": 3651,
     "status": "ok",
     "timestamp": 1674719482307,
     "user": {
      "displayName": "이정구",
      "userId": "10412141110999311561"
     },
     "user_tz": -540
    },
    "id": "6Grj7IWWZhfd",
    "outputId": "eb4452c7-d53d-4b11-bbf0-0604af74dc07"
   },
   "outputs": [
    {
     "data": {
      "application/vnd.google.colaboratory.intrinsic+json": {
       "type": "string"
      },
      "text/plain": [
       "'2.9.2'"
      ]
     },
     "execution_count": 2,
     "metadata": {},
     "output_type": "execute_result"
    }
   ],
   "source": [
    "import tensorflow\n",
    "\n",
    "tensorflow.__version__"
   ]
  },
  {
   "cell_type": "markdown",
   "metadata": {
    "id": "BVvR9iWBBHFz"
   },
   "source": [
    "# I. IMDB Data_Set"
   ]
  },
  {
   "cell_type": "markdown",
   "metadata": {
    "id": "Xg6K-DLuaivQ"
   },
   "source": [
    "> ## 1) wget From Github\n",
    "\n",
    "* 'IMDB.zip' 파일 다운로드"
   ]
  },
  {
   "cell_type": "code",
   "execution_count": 3,
   "metadata": {
    "colab": {
     "base_uri": "https://localhost:8080/"
    },
    "executionInfo": {
     "elapsed": 4855,
     "status": "ok",
     "timestamp": 1674719487155,
     "user": {
      "displayName": "이정구",
      "userId": "10412141110999311561"
     },
     "user_tz": -540
    },
    "id": "f32hYtuOh4F4",
    "outputId": "63343de1-b694-488e-c5dd-be8c4c2e2244"
   },
   "outputs": [
    {
     "name": "stdout",
     "output_type": "stream",
     "text": [
      "--2023-01-26 07:51:22--  https://raw.githubusercontent.com/rusita-ai/pyData/master/IMDB.zip\n",
      "Resolving raw.githubusercontent.com (raw.githubusercontent.com)... 185.199.108.133, 185.199.110.133, 185.199.111.133, ...\n",
      "Connecting to raw.githubusercontent.com (raw.githubusercontent.com)|185.199.108.133|:443... connected.\n",
      "HTTP request sent, awaiting response... 200 OK\n",
      "Length: 60711700 (58M) [application/zip]\n",
      "Saving to: ‘IMDB.zip’\n",
      "\n",
      "IMDB.zip            100%[===================>]  57.90M   166MB/s    in 0.3s    \n",
      "\n",
      "2023-01-26 07:51:26 (166 MB/s) - ‘IMDB.zip’ saved [60711700/60711700]\n",
      "\n"
     ]
    }
   ],
   "source": [
    "!wget https://raw.githubusercontent.com/rusita-ai/pyData/master/IMDB.zip"
   ]
  },
  {
   "cell_type": "markdown",
   "metadata": {
    "id": "O0njEDt2CgqJ"
   },
   "source": [
    "* 다운로드 결과 확인"
   ]
  },
  {
   "cell_type": "code",
   "execution_count": 4,
   "metadata": {
    "colab": {
     "base_uri": "https://localhost:8080/"
    },
    "executionInfo": {
     "elapsed": 28,
     "status": "ok",
     "timestamp": 1674719487156,
     "user": {
      "displayName": "이정구",
      "userId": "10412141110999311561"
     },
     "user_tz": -540
    },
    "id": "A9XdvsnVCgqK",
    "outputId": "33b28639-eead-473f-e77c-d3252a285e3c"
   },
   "outputs": [
    {
     "name": "stdout",
     "output_type": "stream",
     "text": [
      "total 59296\n",
      "-rw-r--r-- 1 root root 60711700 Jan 26 07:51 IMDB.zip\n",
      "drwxr-xr-x 1 root root     4096 Jan 24 14:38 sample_data\n"
     ]
    }
   ],
   "source": [
    "!ls -l "
   ]
  },
  {
   "cell_type": "markdown",
   "metadata": {
    "id": "dHeFxMfN009E"
   },
   "source": [
    "* Unzip 'IMBD.zip'"
   ]
  },
  {
   "cell_type": "code",
   "execution_count": 5,
   "metadata": {
    "executionInfo": {
     "elapsed": 13116,
     "status": "ok",
     "timestamp": 1674719500259,
     "user": {
      "displayName": "이정구",
      "userId": "10412141110999311561"
     },
     "user_tz": -540
    },
    "id": "tBhhVzho3pVF"
   },
   "outputs": [],
   "source": [
    "!unzip -q /content/IMDB.zip"
   ]
  },
  {
   "cell_type": "markdown",
   "metadata": {
    "id": "p806YpXUlmA9"
   },
   "source": [
    "> ## 2) 'texts' and 'labels' Data\n",
    "\n",
    "* 'texts'  : 문자열 리스트(영화 감상평)\n",
    "* 'lebels' : 감상평 리뷰(긍정/부정)"
   ]
  },
  {
   "cell_type": "code",
   "execution_count": 6,
   "metadata": {
    "executionInfo": {
     "elapsed": 844,
     "status": "ok",
     "timestamp": 1674719501085,
     "user": {
      "displayName": "이정구",
      "userId": "10412141110999311561"
     },
     "user_tz": -540
    },
    "id": "1R7mWyjx33aQ"
   },
   "outputs": [],
   "source": [
    "import os\n",
    "\n",
    "imdb_dir = 'aclImdb'\n",
    "train_dir = os.path.join(imdb_dir, 'train')\n",
    "\n",
    "labels = []\n",
    "texts = []\n",
    "\n",
    "for label_type in ['neg', 'pos']:\n",
    "    dir_name = os.path.join(train_dir, label_type)\n",
    "    for fname in os.listdir(dir_name):\n",
    "        if fname[-4:] == '.txt':\n",
    "            f = open(os.path.join(dir_name, fname), encoding = 'utf8')\n",
    "            texts.append(f.read())\n",
    "            f.close()\n",
    "            if label_type == 'neg':\n",
    "                labels.append(0)\n",
    "            else:\n",
    "                labels.append(1)"
   ]
  },
  {
   "cell_type": "code",
   "execution_count": 7,
   "metadata": {
    "colab": {
     "base_uri": "https://localhost:8080/"
    },
    "executionInfo": {
     "elapsed": 7,
     "status": "ok",
     "timestamp": 1674719501086,
     "user": {
      "displayName": "이정구",
      "userId": "10412141110999311561"
     },
     "user_tz": -540
    },
    "id": "wEho52GZ4N4O",
    "outputId": "885956a4-d39b-49fa-e600-eba67132dc71"
   },
   "outputs": [
    {
     "data": {
      "text/plain": [
       "(25000, 25000)"
      ]
     },
     "execution_count": 7,
     "metadata": {},
     "output_type": "execute_result"
    }
   ],
   "source": [
    "len(texts), len(labels)"
   ]
  },
  {
   "cell_type": "markdown",
   "metadata": {
    "id": "2FXpQz3hCn1Q"
   },
   "source": [
    "# II. Tensor Transformation"
   ]
  },
  {
   "cell_type": "markdown",
   "metadata": {
    "id": "ktRZ0LEuaoIv"
   },
   "source": [
    "> ## 1) X_train and X_valid : (25000, 2000)"
   ]
  },
  {
   "cell_type": "markdown",
   "metadata": {
    "id": "Ytr5lfZMd86B"
   },
   "source": [
    "* vectorization\n",
    " - (25000, 2000)"
   ]
  },
  {
   "cell_type": "code",
   "execution_count": 8,
   "metadata": {
    "colab": {
     "base_uri": "https://localhost:8080/"
    },
    "executionInfo": {
     "elapsed": 7503,
     "status": "ok",
     "timestamp": 1674719508585,
     "user": {
      "displayName": "이정구",
      "userId": "10412141110999311561"
     },
     "user_tz": -540
    },
    "id": "7lTG24Kc4cjR",
    "outputId": "d1e5810f-4258-4ad0-be86-6ca49e9f30e6"
   },
   "outputs": [
    {
     "name": "stdout",
     "output_type": "stream",
     "text": [
      "88582개의 고유한 토큰을 찾았습니다.\n",
      "데이터 텐서의 크기: (25000, 2000)\n",
      "레이블 텐서의 크기: (25000,)\n"
     ]
    }
   ],
   "source": [
    "import numpy as np\n",
    "from tensorflow.keras.preprocessing.text import Tokenizer\n",
    "from tensorflow.keras.preprocessing.sequence import pad_sequences\n",
    "\n",
    "maxlen = 2000               # 2000개 단어까지 적용\n",
    "max_words = 10000           # 빈도 높은 10000개 단어 사용\n",
    "\n",
    "tokenizer = Tokenizer(num_words = max_words)\n",
    "tokenizer.fit_on_texts(texts)\n",
    "sequences = tokenizer.texts_to_sequences(texts)\n",
    "\n",
    "word_index = tokenizer.word_index\n",
    "print('%s개의 고유한 토큰을 찾았습니다.' % len(word_index))\n",
    "\n",
    "# (25000, 2000)으로 패딩\n",
    "data = pad_sequences(sequences, maxlen = maxlen)\n",
    "\n",
    "labels = np.asarray(labels)\n",
    "print('데이터 텐서의 크기:', data.shape)\n",
    "print('레이블 텐서의 크기:', labels.shape)\n",
    "\n",
    "\n",
    "# 샘플 데이터 랜덤화\n",
    "indices = np.arange(data.shape[0])\n",
    "np.random.shuffle(indices)\n",
    "data = data[indices]\n",
    "labels = labels[indices]\n",
    "\n",
    "\n",
    "# 데이터를 훈련 세트와 검증 세트로 분할\n",
    "training_samples = 15000            # 훈련 샘플은 15000개\n",
    "validation_samples = 10000          # 검증 샘플은 10000개\n",
    "\n",
    "X_train = data[:training_samples]\n",
    "y_train = labels[:training_samples]\n",
    "X_valid = data[training_samples: training_samples + validation_samples]\n",
    "y_valid = labels[training_samples: training_samples + validation_samples]"
   ]
  },
  {
   "cell_type": "markdown",
   "metadata": {
    "id": "WBZ0lrMq2RER"
   },
   "source": [
    "# III. GloVe(Global Vectors for word representation)\n",
    "* 영문 위키디피아를 사용한 사전 임베딩\n",
    "* https://nlp.stanford.edu/projects/glove/"
   ]
  },
  {
   "cell_type": "markdown",
   "metadata": {
    "id": "UgvPeh5E272W"
   },
   "source": [
    "> ## 1) wget From Github\n",
    "\n",
    "* 'glove.6B.50d.zip' 파일 다운로드"
   ]
  },
  {
   "cell_type": "code",
   "execution_count": 9,
   "metadata": {
    "colab": {
     "base_uri": "https://localhost:8080/"
    },
    "executionInfo": {
     "elapsed": 5188,
     "status": "ok",
     "timestamp": 1674719513765,
     "user": {
      "displayName": "이정구",
      "userId": "10412141110999311561"
     },
     "user_tz": -540
    },
    "id": "hYpwKPUY272c",
    "outputId": "d258099e-0fcb-49c2-b0e7-e575f0911311"
   },
   "outputs": [
    {
     "name": "stdout",
     "output_type": "stream",
     "text": [
      "--2023-01-26 07:51:47--  https://raw.githubusercontent.com/rusita-ai/pyData/master/glove.6B.50d.zip\n",
      "Resolving raw.githubusercontent.com (raw.githubusercontent.com)... 185.199.108.133, 185.199.109.133, 185.199.110.133, ...\n",
      "Connecting to raw.githubusercontent.com (raw.githubusercontent.com)|185.199.108.133|:443... connected.\n",
      "HTTP request sent, awaiting response... 200 OK\n",
      "Length: 70964402 (68M) [application/zip]\n",
      "Saving to: ‘glove.6B.50d.zip’\n",
      "\n",
      "glove.6B.50d.zip    100%[===================>]  67.68M   387MB/s    in 0.2s    \n",
      "\n",
      "2023-01-26 07:51:52 (387 MB/s) - ‘glove.6B.50d.zip’ saved [70964402/70964402]\n",
      "\n"
     ]
    }
   ],
   "source": [
    "!wget https://raw.githubusercontent.com/rusita-ai/pyData/master/glove.6B.50d.zip"
   ]
  },
  {
   "cell_type": "markdown",
   "metadata": {
    "id": "Og87f9qy272c"
   },
   "source": [
    "* 다운로드 결과 확인"
   ]
  },
  {
   "cell_type": "code",
   "execution_count": 10,
   "metadata": {
    "colab": {
     "base_uri": "https://localhost:8080/"
    },
    "executionInfo": {
     "elapsed": 19,
     "status": "ok",
     "timestamp": 1674719513765,
     "user": {
      "displayName": "이정구",
      "userId": "10412141110999311561"
     },
     "user_tz": -540
    },
    "id": "C5F8EXIg272d",
    "outputId": "1834e422-4699-4cc1-fbca-76bca4bc136f"
   },
   "outputs": [
    {
     "name": "stdout",
     "output_type": "stream",
     "text": [
      "total 128608\n",
      "drwxr-xr-x 4 root root     4096 Nov 18  2017 aclImdb\n",
      "-rw-r--r-- 1 root root 70964402 Jan 26 07:51 glove.6B.50d.zip\n",
      "-rw-r--r-- 1 root root 60711700 Jan 26 07:51 IMDB.zip\n",
      "drwxrwxr-x 3 root root     4096 Nov 18  2017 __MACOSX\n",
      "drwxr-xr-x 1 root root     4096 Jan 24 14:38 sample_data\n"
     ]
    }
   ],
   "source": [
    "!ls -l "
   ]
  },
  {
   "cell_type": "markdown",
   "metadata": {
    "id": "e1QANAF5j__0"
   },
   "source": [
    "> ## 1) 'glove.6B.50d.zip' 압축풀기"
   ]
  },
  {
   "cell_type": "code",
   "execution_count": 11,
   "metadata": {
    "executionInfo": {
     "elapsed": 1431,
     "status": "ok",
     "timestamp": 1674719515183,
     "user": {
      "displayName": "이정구",
      "userId": "10412141110999311561"
     },
     "user_tz": -540
    },
    "id": "vAZNW7Jt5uY1"
   },
   "outputs": [],
   "source": [
    "!unzip -q /content/glove.6B.50d.zip"
   ]
  },
  {
   "cell_type": "markdown",
   "metadata": {
    "id": "V_hCsVOj3aEV"
   },
   "source": [
    "* 'glove.6B.50d.txt' 확인"
   ]
  },
  {
   "cell_type": "code",
   "execution_count": 12,
   "metadata": {
    "colab": {
     "base_uri": "https://localhost:8080/"
    },
    "executionInfo": {
     "elapsed": 502,
     "status": "ok",
     "timestamp": 1674719515683,
     "user": {
      "displayName": "이정구",
      "userId": "10412141110999311561"
     },
     "user_tz": -540
    },
    "id": "mI1gN-NG3X-C",
    "outputId": "8103252b-c6be-415d-a0c4-190035fcd1ac"
   },
   "outputs": [
    {
     "name": "stdout",
     "output_type": "stream",
     "text": [
      "total 295944\n",
      "drwxr-xr-x 4 root root      4096 Nov 18  2017 aclImdb\n",
      "-rw-r--r-- 1 root root 171350079 Jan 26  2023 glove.6B.50d.txt\n",
      "-rw-r--r-- 1 root root  70964402 Jan 26 07:51 glove.6B.50d.zip\n",
      "-rw-r--r-- 1 root root  60711700 Jan 26 07:51 IMDB.zip\n",
      "drwxrwxr-x 3 root root      4096 Nov 18  2017 __MACOSX\n",
      "drwxr-xr-x 1 root root      4096 Jan 24 14:38 sample_data\n"
     ]
    }
   ],
   "source": [
    "!ls -l"
   ]
  },
  {
   "cell_type": "markdown",
   "metadata": {
    "id": "yYXHgSKgkSHX"
   },
   "source": [
    "> ## 2) 'glove.6B.50d.txt' 사전 학습 임베딩\n",
    "\n",
    "* 'glove.6B.50d.txt' 파일 파싱\n",
    " - 단어에 매핑되는 표현벡터 인덱스 생성"
   ]
  },
  {
   "cell_type": "code",
   "execution_count": 13,
   "metadata": {
    "colab": {
     "base_uri": "https://localhost:8080/"
    },
    "executionInfo": {
     "elapsed": 3958,
     "status": "ok",
     "timestamp": 1674719519640,
     "user": {
      "displayName": "이정구",
      "userId": "10412141110999311561"
     },
     "user_tz": -540
    },
    "id": "wATx6QGsvnzJ",
    "outputId": "2d5ffb6f-045c-41c7-b08c-063df182c400"
   },
   "outputs": [
    {
     "name": "stdout",
     "output_type": "stream",
     "text": [
      "400000개의 단어 벡터를 찾았습니다.\n"
     ]
    }
   ],
   "source": [
    "import numpy as np\n",
    "import os\n",
    "\n",
    "glove_dir = '.'\n",
    "\n",
    "embeddings_index = {}\n",
    "f = open(os.path.join(glove_dir, 'glove.6B.50d.txt'), encoding = 'utf8')\n",
    "for line in f:\n",
    "    values = line.split()\n",
    "    word = values[0]\n",
    "    coefs = np.asarray(values[1:], dtype = 'float32')\n",
    "    embeddings_index[word] = coefs\n",
    "f.close()\n",
    "\n",
    "print('%s개의 단어 벡터를 찾았습니다.' % len(embeddings_index))"
   ]
  },
  {
   "cell_type": "markdown",
   "metadata": {
    "id": "jQ3aDtrpk0Ee"
   },
   "source": [
    "* 매핑 확인"
   ]
  },
  {
   "cell_type": "code",
   "execution_count": 14,
   "metadata": {
    "colab": {
     "base_uri": "https://localhost:8080/"
    },
    "executionInfo": {
     "elapsed": 26,
     "status": "ok",
     "timestamp": 1674719519641,
     "user": {
      "displayName": "이정구",
      "userId": "10412141110999311561"
     },
     "user_tz": -540
    },
    "id": "9PywHNrxzGJL",
    "outputId": "9bc27402-3bba-4ddb-ef44-f0b3508471cc"
   },
   "outputs": [
    {
     "data": {
      "text/plain": [
       "(50,)"
      ]
     },
     "execution_count": 14,
     "metadata": {},
     "output_type": "execute_result"
    }
   ],
   "source": [
    "embeddings_index['apple'].shape"
   ]
  },
  {
   "cell_type": "markdown",
   "metadata": {
    "id": "0BsniKDhk9oE"
   },
   "source": [
    "> ## 3) 임베딩 행렬 생성\n",
    "\n",
    "* (10000, 50)"
   ]
  },
  {
   "cell_type": "code",
   "execution_count": 15,
   "metadata": {
    "executionInfo": {
     "elapsed": 22,
     "status": "ok",
     "timestamp": 1674719519642,
     "user": {
      "displayName": "이정구",
      "userId": "10412141110999311561"
     },
     "user_tz": -540
    },
    "id": "bEi_gtXjv8pM"
   },
   "outputs": [],
   "source": [
    "embedding_dim = 50\n",
    "\n",
    "embedding_matrix = np.zeros((max_words, embedding_dim))\n",
    "\n",
    "for word, i in word_index.items():\n",
    "    embedding_vector = embeddings_index.get(word)\n",
    "    if i < max_words:\n",
    "        if embedding_vector is not None:\n",
    "            # 임베딩 인덱스에 없는 단어는 모두 0이 됨\n",
    "            embedding_matrix[i] = embedding_vector"
   ]
  },
  {
   "cell_type": "markdown",
   "metadata": {
    "id": "AMVQ1LBnnxAn"
   },
   "source": [
    "* 확인"
   ]
  },
  {
   "cell_type": "code",
   "execution_count": 16,
   "metadata": {
    "colab": {
     "base_uri": "https://localhost:8080/"
    },
    "executionInfo": {
     "elapsed": 21,
     "status": "ok",
     "timestamp": 1674719519642,
     "user": {
      "displayName": "이정구",
      "userId": "10412141110999311561"
     },
     "user_tz": -540
    },
    "id": "Zm-_wB6Nnn19",
    "outputId": "49876402-692e-4e0d-e189-3ca966e83926"
   },
   "outputs": [
    {
     "data": {
      "text/plain": [
       "(10000, 50)"
      ]
     },
     "execution_count": 16,
     "metadata": {},
     "output_type": "execute_result"
    }
   ],
   "source": [
    "embedding_matrix.shape"
   ]
  },
  {
   "cell_type": "markdown",
   "metadata": {
    "id": "kvsN9jNLDQO6"
   },
   "source": [
    "# IV. Keras Embedding Modeling"
   ]
  },
  {
   "cell_type": "markdown",
   "metadata": {
    "id": "gaNenfHbOwSM"
   },
   "source": [
    "> ## 1) Model Define"
   ]
  },
  {
   "cell_type": "markdown",
   "metadata": {
    "id": "ceGhnn1tO_0P"
   },
   "source": [
    "* 모델 신경망 구조 정의\n",
    " - max_words: 10000\n",
    " - embedding_dim: 50"
   ]
  },
  {
   "cell_type": "code",
   "execution_count": 17,
   "metadata": {
    "colab": {
     "base_uri": "https://localhost:8080/"
    },
    "executionInfo": {
     "elapsed": 4856,
     "status": "ok",
     "timestamp": 1674719524481,
     "user": {
      "displayName": "이정구",
      "userId": "10412141110999311561"
     },
     "user_tz": -540
    },
    "id": "Nra8_pdYfEbI",
    "outputId": "b85b7d78-2874-4f83-87d8-cd7ba2ceb3d0"
   },
   "outputs": [
    {
     "name": "stdout",
     "output_type": "stream",
     "text": [
      "Model: \"sequential\"\n",
      "_________________________________________________________________\n",
      " Layer (type)                Output Shape              Param #   \n",
      "=================================================================\n",
      " embedding (Embedding)       (None, None, 50)          500000    \n",
      "                                                                 \n",
      " bidirectional (Bidirectiona  (None, 32)               8576      \n",
      " l)                                                              \n",
      "                                                                 \n",
      " dense (Dense)               (None, 1)                 33        \n",
      "                                                                 \n",
      "=================================================================\n",
      "Total params: 508,609\n",
      "Trainable params: 508,609\n",
      "Non-trainable params: 0\n",
      "_________________________________________________________________\n"
     ]
    }
   ],
   "source": [
    "from tensorflow.keras import models\n",
    "from tensorflow.keras import layers\n",
    "\n",
    "imdb = models.Sequential()\n",
    "imdb.add(layers.Embedding(input_dim = max_words,\n",
    "                          output_dim = embedding_dim))\n",
    "imdb.add(layers.Bidirectional(layers.LSTM(16)))\n",
    "imdb.add(layers.Dense(1, activation = 'sigmoid'))\n",
    "\n",
    "imdb.summary()"
   ]
  },
  {
   "cell_type": "markdown",
   "metadata": {
    "id": "eEukkhtuJy7g"
   },
   "source": [
    "> ### (1) <font color = 'blue'>GloVe' Embedding Layer Parameter 설정"
   ]
  },
  {
   "cell_type": "code",
   "execution_count": 18,
   "metadata": {
    "executionInfo": {
     "elapsed": 14,
     "status": "ok",
     "timestamp": 1674719524482,
     "user": {
      "displayName": "이정구",
      "userId": "10412141110999311561"
     },
     "user_tz": -540
    },
    "id": "-vJeLYkn7W-U"
   },
   "outputs": [],
   "source": [
    "imdb.layers[0].set_weights([embedding_matrix])"
   ]
  },
  {
   "cell_type": "markdown",
   "metadata": {
    "id": "GFzQVrL96klY"
   },
   "source": [
    "> ### (2) <font color = 'red'>'GloVe' Embedding Layer Parameter 동결"
   ]
  },
  {
   "cell_type": "code",
   "execution_count": 19,
   "metadata": {
    "executionInfo": {
     "elapsed": 13,
     "status": "ok",
     "timestamp": 1674719524482,
     "user": {
      "displayName": "이정구",
      "userId": "10412141110999311561"
     },
     "user_tz": -540
    },
    "id": "lZt83w_q6iR6"
   },
   "outputs": [],
   "source": [
    "imdb.layers[0].trainable = False"
   ]
  },
  {
   "cell_type": "markdown",
   "metadata": {
    "id": "2-tCxHmwPBfQ"
   },
   "source": [
    "> ### (3) 모델 구조 확인"
   ]
  },
  {
   "cell_type": "code",
   "execution_count": 20,
   "metadata": {
    "colab": {
     "base_uri": "https://localhost:8080/"
    },
    "executionInfo": {
     "elapsed": 13,
     "status": "ok",
     "timestamp": 1674719524482,
     "user": {
      "displayName": "이정구",
      "userId": "10412141110999311561"
     },
     "user_tz": -540
    },
    "id": "GwPhayISDpp8",
    "outputId": "56549859-30ba-4d60-9f57-d8634f406b8d"
   },
   "outputs": [
    {
     "name": "stdout",
     "output_type": "stream",
     "text": [
      "Model: \"sequential\"\n",
      "_________________________________________________________________\n",
      " Layer (type)                Output Shape              Param #   \n",
      "=================================================================\n",
      " embedding (Embedding)       (None, None, 50)          500000    \n",
      "                                                                 \n",
      " bidirectional (Bidirectiona  (None, 32)               8576      \n",
      " l)                                                              \n",
      "                                                                 \n",
      " dense (Dense)               (None, 1)                 33        \n",
      "                                                                 \n",
      "=================================================================\n",
      "Total params: 508,609\n",
      "Trainable params: 8,609\n",
      "Non-trainable params: 500,000\n",
      "_________________________________________________________________\n"
     ]
    }
   ],
   "source": [
    "imdb.summary()"
   ]
  },
  {
   "cell_type": "markdown",
   "metadata": {
    "id": "HTGpTEQXDVp0"
   },
   "source": [
    "> ## 2) Model Compile"
   ]
  },
  {
   "cell_type": "markdown",
   "metadata": {
    "id": "Y4PkohjpPPRT"
   },
   "source": [
    "* 모델 학습방법 설정"
   ]
  },
  {
   "cell_type": "code",
   "execution_count": 21,
   "metadata": {
    "executionInfo": {
     "elapsed": 8,
     "status": "ok",
     "timestamp": 1674719524482,
     "user": {
      "displayName": "이정구",
      "userId": "10412141110999311561"
     },
     "user_tz": -540
    },
    "id": "UcQP7161fXpr"
   },
   "outputs": [],
   "source": [
    "imdb.compile(loss = 'binary_crossentropy',\n",
    "             optimizer = 'adam',\n",
    "             metrics = ['accuracy'])"
   ]
  },
  {
   "cell_type": "markdown",
   "metadata": {
    "id": "_j4bBF6fDi2a"
   },
   "source": [
    "> ## 3) Model Fit"
   ]
  },
  {
   "cell_type": "markdown",
   "metadata": {
    "id": "AWipAt9ZPbox"
   },
   "source": [
    "* 약 11분"
   ]
  },
  {
   "cell_type": "code",
   "execution_count": 22,
   "metadata": {
    "colab": {
     "base_uri": "https://localhost:8080/"
    },
    "executionInfo": {
     "elapsed": 606945,
     "status": "ok",
     "timestamp": 1674720131419,
     "user": {
      "displayName": "이정구",
      "userId": "10412141110999311561"
     },
     "user_tz": -540
    },
    "id": "dWXKNdQ5fw67",
    "outputId": "76a5468a-89d2-4abd-9acb-5d705b45f4a5"
   },
   "outputs": [
    {
     "name": "stdout",
     "output_type": "stream",
     "text": [
      "Epoch 1/100\n",
      "30/30 [==============================] - 14s 223ms/step - loss: 0.6895 - accuracy: 0.5335 - val_loss: 0.6825 - val_accuracy: 0.5662\n",
      "Epoch 2/100\n",
      "30/30 [==============================] - 6s 195ms/step - loss: 0.6725 - accuracy: 0.5959 - val_loss: 0.6514 - val_accuracy: 0.6385\n",
      "Epoch 3/100\n",
      "30/30 [==============================] - 6s 192ms/step - loss: 0.6345 - accuracy: 0.6539 - val_loss: 0.6207 - val_accuracy: 0.6699\n",
      "Epoch 4/100\n",
      "30/30 [==============================] - 6s 196ms/step - loss: 0.6091 - accuracy: 0.6826 - val_loss: 0.5982 - val_accuracy: 0.6935\n",
      "Epoch 5/100\n",
      "30/30 [==============================] - 6s 193ms/step - loss: 0.5989 - accuracy: 0.6911 - val_loss: 0.5767 - val_accuracy: 0.7116\n",
      "Epoch 6/100\n",
      "30/30 [==============================] - 7s 225ms/step - loss: 0.5966 - accuracy: 0.6807 - val_loss: 0.6471 - val_accuracy: 0.5933\n",
      "Epoch 7/100\n",
      "30/30 [==============================] - 6s 194ms/step - loss: 0.6038 - accuracy: 0.6799 - val_loss: 0.5715 - val_accuracy: 0.7257\n",
      "Epoch 8/100\n",
      "30/30 [==============================] - 6s 197ms/step - loss: 0.5616 - accuracy: 0.7245 - val_loss: 0.5503 - val_accuracy: 0.7335\n",
      "Epoch 9/100\n",
      "30/30 [==============================] - 6s 198ms/step - loss: 0.5509 - accuracy: 0.7343 - val_loss: 0.5335 - val_accuracy: 0.7469\n",
      "Epoch 10/100\n",
      "30/30 [==============================] - 6s 197ms/step - loss: 0.5476 - accuracy: 0.7331 - val_loss: 0.5251 - val_accuracy: 0.7543\n",
      "Epoch 11/100\n",
      "30/30 [==============================] - 6s 196ms/step - loss: 0.5237 - accuracy: 0.7511 - val_loss: 0.5345 - val_accuracy: 0.7472\n",
      "Epoch 12/100\n",
      "30/30 [==============================] - 6s 198ms/step - loss: 0.5198 - accuracy: 0.7547 - val_loss: 0.5061 - val_accuracy: 0.7658\n",
      "Epoch 13/100\n",
      "30/30 [==============================] - 6s 198ms/step - loss: 0.5028 - accuracy: 0.7651 - val_loss: 0.4953 - val_accuracy: 0.7733\n",
      "Epoch 14/100\n",
      "30/30 [==============================] - 6s 197ms/step - loss: 0.4948 - accuracy: 0.7702 - val_loss: 0.5112 - val_accuracy: 0.7611\n",
      "Epoch 15/100\n",
      "30/30 [==============================] - 6s 198ms/step - loss: 0.4884 - accuracy: 0.7744 - val_loss: 0.4929 - val_accuracy: 0.7690\n",
      "Epoch 16/100\n",
      "30/30 [==============================] - 6s 196ms/step - loss: 0.4783 - accuracy: 0.7804 - val_loss: 0.4724 - val_accuracy: 0.7843\n",
      "Epoch 17/100\n",
      "30/30 [==============================] - 7s 227ms/step - loss: 0.4708 - accuracy: 0.7853 - val_loss: 0.4851 - val_accuracy: 0.7762\n",
      "Epoch 18/100\n",
      "30/30 [==============================] - 7s 244ms/step - loss: 0.4642 - accuracy: 0.7867 - val_loss: 0.4681 - val_accuracy: 0.7882\n",
      "Epoch 19/100\n",
      "30/30 [==============================] - 6s 199ms/step - loss: 0.4603 - accuracy: 0.7853 - val_loss: 0.4690 - val_accuracy: 0.7860\n",
      "Epoch 20/100\n",
      "30/30 [==============================] - 6s 201ms/step - loss: 0.4508 - accuracy: 0.7953 - val_loss: 0.4466 - val_accuracy: 0.7967\n",
      "Epoch 21/100\n",
      "30/30 [==============================] - 6s 198ms/step - loss: 0.4440 - accuracy: 0.7992 - val_loss: 0.4597 - val_accuracy: 0.7862\n",
      "Epoch 22/100\n",
      "30/30 [==============================] - 6s 200ms/step - loss: 0.4367 - accuracy: 0.8021 - val_loss: 0.4339 - val_accuracy: 0.8068\n",
      "Epoch 23/100\n",
      "30/30 [==============================] - 6s 198ms/step - loss: 0.4281 - accuracy: 0.8079 - val_loss: 0.4289 - val_accuracy: 0.8082\n",
      "Epoch 24/100\n",
      "30/30 [==============================] - 6s 198ms/step - loss: 0.4218 - accuracy: 0.8129 - val_loss: 0.4440 - val_accuracy: 0.7958\n",
      "Epoch 25/100\n",
      "30/30 [==============================] - 6s 195ms/step - loss: 0.4176 - accuracy: 0.8140 - val_loss: 0.4204 - val_accuracy: 0.8150\n",
      "Epoch 26/100\n",
      "30/30 [==============================] - 6s 199ms/step - loss: 0.4182 - accuracy: 0.8110 - val_loss: 0.4188 - val_accuracy: 0.8177\n",
      "Epoch 27/100\n",
      "30/30 [==============================] - 6s 199ms/step - loss: 0.4100 - accuracy: 0.8186 - val_loss: 0.4114 - val_accuracy: 0.8213\n",
      "Epoch 28/100\n",
      "30/30 [==============================] - 6s 196ms/step - loss: 0.4033 - accuracy: 0.8224 - val_loss: 0.4097 - val_accuracy: 0.8226\n",
      "Epoch 29/100\n",
      "30/30 [==============================] - 6s 200ms/step - loss: 0.4057 - accuracy: 0.8212 - val_loss: 0.4067 - val_accuracy: 0.8197\n",
      "Epoch 30/100\n",
      "30/30 [==============================] - 6s 198ms/step - loss: 0.3967 - accuracy: 0.8265 - val_loss: 0.4195 - val_accuracy: 0.8049\n",
      "Epoch 31/100\n",
      "30/30 [==============================] - 6s 196ms/step - loss: 0.3889 - accuracy: 0.8288 - val_loss: 0.4002 - val_accuracy: 0.8230\n",
      "Epoch 32/100\n",
      "30/30 [==============================] - 6s 195ms/step - loss: 0.3858 - accuracy: 0.8291 - val_loss: 0.4004 - val_accuracy: 0.8292\n",
      "Epoch 33/100\n",
      "30/30 [==============================] - 6s 191ms/step - loss: 0.3972 - accuracy: 0.8235 - val_loss: 0.3940 - val_accuracy: 0.8269\n",
      "Epoch 34/100\n",
      "30/30 [==============================] - 6s 194ms/step - loss: 0.3850 - accuracy: 0.8320 - val_loss: 0.3935 - val_accuracy: 0.8271\n",
      "Epoch 35/100\n",
      "30/30 [==============================] - 6s 194ms/step - loss: 0.3769 - accuracy: 0.8342 - val_loss: 0.3880 - val_accuracy: 0.8292\n",
      "Epoch 36/100\n",
      "30/30 [==============================] - 6s 196ms/step - loss: 0.3738 - accuracy: 0.8355 - val_loss: 0.3925 - val_accuracy: 0.8265\n",
      "Epoch 37/100\n",
      "30/30 [==============================] - 6s 197ms/step - loss: 0.3696 - accuracy: 0.8397 - val_loss: 0.3885 - val_accuracy: 0.8321\n",
      "Epoch 38/100\n",
      "30/30 [==============================] - 6s 198ms/step - loss: 0.3667 - accuracy: 0.8407 - val_loss: 0.3838 - val_accuracy: 0.8305\n",
      "Epoch 39/100\n",
      "30/30 [==============================] - 6s 197ms/step - loss: 0.3690 - accuracy: 0.8397 - val_loss: 0.4111 - val_accuracy: 0.8157\n",
      "Epoch 40/100\n",
      "30/30 [==============================] - 6s 199ms/step - loss: 0.3745 - accuracy: 0.8358 - val_loss: 0.3866 - val_accuracy: 0.8296\n",
      "Epoch 41/100\n",
      "30/30 [==============================] - 6s 197ms/step - loss: 0.3620 - accuracy: 0.8419 - val_loss: 0.3772 - val_accuracy: 0.8374\n",
      "Epoch 42/100\n",
      "30/30 [==============================] - 6s 200ms/step - loss: 0.3588 - accuracy: 0.8450 - val_loss: 0.3775 - val_accuracy: 0.8397\n",
      "Epoch 43/100\n",
      "30/30 [==============================] - 6s 198ms/step - loss: 0.3564 - accuracy: 0.8437 - val_loss: 0.3868 - val_accuracy: 0.8260\n",
      "Epoch 44/100\n",
      "30/30 [==============================] - 6s 197ms/step - loss: 0.3522 - accuracy: 0.8475 - val_loss: 0.3757 - val_accuracy: 0.8349\n",
      "Epoch 45/100\n",
      "30/30 [==============================] - 6s 198ms/step - loss: 0.3502 - accuracy: 0.8495 - val_loss: 0.3920 - val_accuracy: 0.8231\n",
      "Epoch 46/100\n",
      "30/30 [==============================] - 6s 199ms/step - loss: 0.3533 - accuracy: 0.8494 - val_loss: 0.3974 - val_accuracy: 0.8237\n",
      "Epoch 47/100\n",
      "30/30 [==============================] - 6s 199ms/step - loss: 0.3536 - accuracy: 0.8480 - val_loss: 0.3719 - val_accuracy: 0.8393\n",
      "Epoch 48/100\n",
      "30/30 [==============================] - 6s 197ms/step - loss: 0.3417 - accuracy: 0.8533 - val_loss: 0.3668 - val_accuracy: 0.8419\n",
      "Epoch 49/100\n",
      "30/30 [==============================] - 6s 197ms/step - loss: 0.3389 - accuracy: 0.8535 - val_loss: 0.3661 - val_accuracy: 0.8412\n",
      "Epoch 50/100\n",
      "30/30 [==============================] - 6s 202ms/step - loss: 0.3459 - accuracy: 0.8515 - val_loss: 0.3711 - val_accuracy: 0.8382\n",
      "Epoch 51/100\n",
      "30/30 [==============================] - 6s 199ms/step - loss: 0.3472 - accuracy: 0.8500 - val_loss: 0.3677 - val_accuracy: 0.8436\n",
      "Epoch 52/100\n",
      "30/30 [==============================] - 6s 198ms/step - loss: 0.3344 - accuracy: 0.8587 - val_loss: 0.3735 - val_accuracy: 0.8359\n",
      "Epoch 53/100\n",
      "30/30 [==============================] - 6s 200ms/step - loss: 0.3498 - accuracy: 0.8501 - val_loss: 0.3761 - val_accuracy: 0.8380\n",
      "Epoch 54/100\n",
      "30/30 [==============================] - 6s 200ms/step - loss: 0.3340 - accuracy: 0.8565 - val_loss: 0.3610 - val_accuracy: 0.8463\n",
      "Epoch 55/100\n",
      "30/30 [==============================] - 6s 197ms/step - loss: 0.3311 - accuracy: 0.8595 - val_loss: 0.3640 - val_accuracy: 0.8409\n",
      "Epoch 56/100\n",
      "30/30 [==============================] - 6s 199ms/step - loss: 0.3310 - accuracy: 0.8606 - val_loss: 0.3735 - val_accuracy: 0.8391\n",
      "Epoch 57/100\n",
      "30/30 [==============================] - 6s 200ms/step - loss: 0.3268 - accuracy: 0.8601 - val_loss: 0.3725 - val_accuracy: 0.8413\n",
      "Epoch 58/100\n",
      "30/30 [==============================] - 6s 196ms/step - loss: 0.3340 - accuracy: 0.8562 - val_loss: 0.3736 - val_accuracy: 0.8334\n",
      "Epoch 59/100\n",
      "30/30 [==============================] - 6s 211ms/step - loss: 0.3370 - accuracy: 0.8535 - val_loss: 0.3735 - val_accuracy: 0.8363\n",
      "Epoch 60/100\n",
      "30/30 [==============================] - 8s 252ms/step - loss: 0.3268 - accuracy: 0.8615 - val_loss: 0.3605 - val_accuracy: 0.8433\n",
      "Epoch 61/100\n",
      "30/30 [==============================] - 6s 197ms/step - loss: 0.3226 - accuracy: 0.8649 - val_loss: 0.3583 - val_accuracy: 0.8494\n",
      "Epoch 62/100\n",
      "30/30 [==============================] - 6s 196ms/step - loss: 0.3292 - accuracy: 0.8596 - val_loss: 0.3712 - val_accuracy: 0.8360\n",
      "Epoch 63/100\n",
      "30/30 [==============================] - 6s 204ms/step - loss: 0.3325 - accuracy: 0.8575 - val_loss: 0.3545 - val_accuracy: 0.8483\n",
      "Epoch 64/100\n",
      "30/30 [==============================] - 6s 199ms/step - loss: 0.3208 - accuracy: 0.8629 - val_loss: 0.3657 - val_accuracy: 0.8433\n",
      "Epoch 65/100\n",
      "30/30 [==============================] - 6s 200ms/step - loss: 0.3211 - accuracy: 0.8641 - val_loss: 0.3646 - val_accuracy: 0.8424\n",
      "Epoch 66/100\n",
      "30/30 [==============================] - 6s 195ms/step - loss: 0.3225 - accuracy: 0.8625 - val_loss: 0.3707 - val_accuracy: 0.8386\n",
      "Epoch 67/100\n",
      "30/30 [==============================] - 6s 197ms/step - loss: 0.3160 - accuracy: 0.8654 - val_loss: 0.3580 - val_accuracy: 0.8469\n",
      "Epoch 68/100\n",
      "30/30 [==============================] - 6s 199ms/step - loss: 0.3187 - accuracy: 0.8647 - val_loss: 0.3539 - val_accuracy: 0.8472\n",
      "Epoch 69/100\n",
      "30/30 [==============================] - 6s 201ms/step - loss: 0.3145 - accuracy: 0.8672 - val_loss: 0.3541 - val_accuracy: 0.8497\n",
      "Epoch 70/100\n",
      "30/30 [==============================] - 6s 198ms/step - loss: 0.3156 - accuracy: 0.8671 - val_loss: 0.3590 - val_accuracy: 0.8419\n",
      "Epoch 71/100\n",
      "30/30 [==============================] - 6s 197ms/step - loss: 0.3125 - accuracy: 0.8684 - val_loss: 0.3538 - val_accuracy: 0.8461\n",
      "Epoch 72/100\n",
      "30/30 [==============================] - 6s 200ms/step - loss: 0.3081 - accuracy: 0.8715 - val_loss: 0.3533 - val_accuracy: 0.8495\n",
      "Epoch 73/100\n",
      "30/30 [==============================] - 6s 205ms/step - loss: 0.3072 - accuracy: 0.8720 - val_loss: 0.3529 - val_accuracy: 0.8487\n",
      "Epoch 74/100\n",
      "30/30 [==============================] - 6s 201ms/step - loss: 0.3101 - accuracy: 0.8688 - val_loss: 0.3544 - val_accuracy: 0.8492\n",
      "Epoch 75/100\n",
      "30/30 [==============================] - 6s 196ms/step - loss: 0.3091 - accuracy: 0.8699 - val_loss: 0.3566 - val_accuracy: 0.8466\n",
      "Epoch 76/100\n",
      "30/30 [==============================] - 6s 196ms/step - loss: 0.3121 - accuracy: 0.8667 - val_loss: 0.3587 - val_accuracy: 0.8477\n",
      "Epoch 77/100\n",
      "30/30 [==============================] - 6s 199ms/step - loss: 0.3026 - accuracy: 0.8735 - val_loss: 0.3516 - val_accuracy: 0.8521\n",
      "Epoch 78/100\n",
      "30/30 [==============================] - 6s 200ms/step - loss: 0.3018 - accuracy: 0.8717 - val_loss: 0.3661 - val_accuracy: 0.8387\n",
      "Epoch 79/100\n",
      "30/30 [==============================] - 6s 198ms/step - loss: 0.3060 - accuracy: 0.8728 - val_loss: 0.3539 - val_accuracy: 0.8526\n",
      "Epoch 80/100\n",
      "30/30 [==============================] - 6s 201ms/step - loss: 0.3019 - accuracy: 0.8727 - val_loss: 0.3567 - val_accuracy: 0.8487\n",
      "Epoch 81/100\n",
      "30/30 [==============================] - 6s 199ms/step - loss: 0.2987 - accuracy: 0.8755 - val_loss: 0.3582 - val_accuracy: 0.8547\n",
      "Epoch 82/100\n",
      "30/30 [==============================] - 6s 196ms/step - loss: 0.3032 - accuracy: 0.8719 - val_loss: 0.3527 - val_accuracy: 0.8523\n",
      "Epoch 83/100\n",
      "30/30 [==============================] - 6s 201ms/step - loss: 0.3007 - accuracy: 0.8745 - val_loss: 0.3530 - val_accuracy: 0.8535\n",
      "Epoch 84/100\n",
      "30/30 [==============================] - 6s 201ms/step - loss: 0.3032 - accuracy: 0.8707 - val_loss: 0.3742 - val_accuracy: 0.8354\n",
      "Epoch 85/100\n",
      "30/30 [==============================] - 6s 196ms/step - loss: 0.3018 - accuracy: 0.8725 - val_loss: 0.3507 - val_accuracy: 0.8538\n",
      "Epoch 86/100\n",
      "30/30 [==============================] - 6s 197ms/step - loss: 0.3036 - accuracy: 0.8721 - val_loss: 0.3515 - val_accuracy: 0.8529\n",
      "Epoch 87/100\n",
      "30/30 [==============================] - 6s 200ms/step - loss: 0.2920 - accuracy: 0.8771 - val_loss: 0.3515 - val_accuracy: 0.8543\n",
      "Epoch 88/100\n",
      "30/30 [==============================] - 6s 204ms/step - loss: 0.2903 - accuracy: 0.8782 - val_loss: 0.3673 - val_accuracy: 0.8423\n",
      "Epoch 89/100\n",
      "30/30 [==============================] - 6s 199ms/step - loss: 0.3041 - accuracy: 0.8723 - val_loss: 0.3555 - val_accuracy: 0.8483\n",
      "Epoch 90/100\n",
      "30/30 [==============================] - 6s 200ms/step - loss: 0.2919 - accuracy: 0.8777 - val_loss: 0.3597 - val_accuracy: 0.8451\n",
      "Epoch 91/100\n",
      "30/30 [==============================] - 6s 197ms/step - loss: 0.2962 - accuracy: 0.8740 - val_loss: 0.3524 - val_accuracy: 0.8504\n",
      "Epoch 92/100\n",
      "30/30 [==============================] - 6s 198ms/step - loss: 0.2880 - accuracy: 0.8791 - val_loss: 0.3724 - val_accuracy: 0.8408\n",
      "Epoch 93/100\n",
      "30/30 [==============================] - 6s 200ms/step - loss: 0.2892 - accuracy: 0.8781 - val_loss: 0.3636 - val_accuracy: 0.8403\n",
      "Epoch 94/100\n",
      "30/30 [==============================] - 6s 205ms/step - loss: 0.2999 - accuracy: 0.8745 - val_loss: 0.3548 - val_accuracy: 0.8543\n",
      "Epoch 95/100\n",
      "30/30 [==============================] - 6s 209ms/step - loss: 0.2857 - accuracy: 0.8818 - val_loss: 0.3510 - val_accuracy: 0.8530\n",
      "Epoch 96/100\n",
      "30/30 [==============================] - 6s 205ms/step - loss: 0.2832 - accuracy: 0.8825 - val_loss: 0.3510 - val_accuracy: 0.8459\n",
      "Epoch 97/100\n",
      "30/30 [==============================] - 6s 205ms/step - loss: 0.2856 - accuracy: 0.8794 - val_loss: 0.3542 - val_accuracy: 0.8511\n",
      "Epoch 98/100\n",
      "30/30 [==============================] - 6s 203ms/step - loss: 0.2826 - accuracy: 0.8815 - val_loss: 0.3591 - val_accuracy: 0.8544\n",
      "Epoch 99/100\n",
      "30/30 [==============================] - 6s 207ms/step - loss: 0.2885 - accuracy: 0.8773 - val_loss: 0.3526 - val_accuracy: 0.8488\n",
      "Epoch 100/100\n",
      "30/30 [==============================] - 8s 276ms/step - loss: 0.2800 - accuracy: 0.8831 - val_loss: 0.3752 - val_accuracy: 0.8386\n",
      "CPU times: user 10min 8s, sys: 9.08 s, total: 10min 17s\n",
      "Wall time: 10min 6s\n"
     ]
    }
   ],
   "source": [
    "%%time\n",
    "\n",
    "Hist_imdb = imdb.fit(X_train, y_train,\n",
    "                     epochs = 100,\n",
    "                     batch_size = 512,\n",
    "                     validation_data = (X_valid, y_valid))"
   ]
  },
  {
   "cell_type": "markdown",
   "metadata": {
    "id": "Jr4EudJrPfzi"
   },
   "source": [
    "> ## 4) 학습 결과 시각화"
   ]
  },
  {
   "cell_type": "markdown",
   "metadata": {
    "id": "YPVbTvIWDxJi"
   },
   "source": [
    "* Loss & Accuracy Visualization"
   ]
  },
  {
   "cell_type": "code",
   "execution_count": 23,
   "metadata": {
    "colab": {
     "base_uri": "https://localhost:8080/",
     "height": 350
    },
    "executionInfo": {
     "elapsed": 41,
     "status": "ok",
     "timestamp": 1674720131420,
     "user": {
      "displayName": "이정구",
      "userId": "10412141110999311561"
     },
     "user_tz": -540
    },
    "id": "pujWYX1XKPNV",
    "outputId": "f745e28e-59e8-498d-9794-a0ba7e3f72b5"
   },
   "outputs": [
    {
     "data": {
      "image/png": "[encoded data removed]",
      "text/plain": [
       "<Figure size 1080x360 with 2 Axes>"
      ]
     },
     "metadata": {
      "needs_background": "light"
     },
     "output_type": "display_data"
    }
   ],
   "source": [
    "import matplotlib.pyplot as plt\n",
    "\n",
    "epochs = range(1, len(Hist_imdb.history['loss']) + 1)\n",
    "\n",
    "plt.figure(figsize = (15, 5))\n",
    "\n",
    "plt.subplot(1, 2, 1)\n",
    "plt.plot(epochs, Hist_imdb.history['loss'], 'b-')\n",
    "plt.plot(epochs, Hist_imdb.history['val_loss'], 'r--')\n",
    "plt.title('Training & Validation Loss')\n",
    "plt.xlabel('Epochs')\n",
    "plt.ylabel('Loss')\n",
    "plt.legend(['Training Loss', 'Validation Loss'])\n",
    "plt.grid()\n",
    "\n",
    "plt.subplot(1, 2, 2)\n",
    "plt.plot(epochs, Hist_imdb.history['accuracy'], 'b-')\n",
    "plt.plot(epochs, Hist_imdb.history['val_accuracy'], 'r--')\n",
    "plt.title('Training & Validation Accuracy')\n",
    "plt.xlabel('Epochs')\n",
    "plt.ylabel('Accuracy')\n",
    "plt.legend(['Training Accuracy', 'Validation Accuracy'])\n",
    "plt.grid()\n",
    "\n",
    "plt.show()"
   ]
  },
  {
   "cell_type": "markdown",
   "metadata": {
    "id": "JJy2E4a7EHFT"
   },
   "source": [
    "> ## 5) Model Evaluate"
   ]
  },
  {
   "cell_type": "markdown",
   "metadata": {
    "id": "3rxwmR3sQBAA"
   },
   "source": [
    "* Loss & Accuracy"
   ]
  },
  {
   "cell_type": "code",
   "execution_count": 24,
   "metadata": {
    "colab": {
     "base_uri": "https://localhost:8080/"
    },
    "executionInfo": {
     "elapsed": 15463,
     "status": "ok",
     "timestamp": 1674720146876,
     "user": {
      "displayName": "이정구",
      "userId": "10412141110999311561"
     },
     "user_tz": -540
    },
    "id": "vzWv947ShOaa",
    "outputId": "e93bf959-948f-4f11-9812-8cdc8f3155bb"
   },
   "outputs": [
    {
     "name": "stdout",
     "output_type": "stream",
     "text": [
      "Loss = 0.37523\n",
      "Accuracy = 0.83860\n"
     ]
    }
   ],
   "source": [
    "loss, accuracy = imdb.evaluate(X_valid, y_valid, verbose = 0)\n",
    "\n",
    "print('Loss = {:.5f}'.format(loss))\n",
    "print('Accuracy = {:.5f}'.format(accuracy))"
   ]
  },
  {
   "cell_type": "markdown",
   "metadata": {
    "id": "ylReVf0WSRDa"
   },
   "source": [
    "# \n",
    "# \n",
    "# \n",
    "# The End\n",
    "# \n",
    "# \n",
    "# "
   ]
  }
 ],
 "metadata": {
  "accelerator": "GPU",
  "colab": {
   "provenance": []
  },
  "kernelspec": {
   "display_name": "Python 3 (ipykernel)",
   "language": "python",
   "name": "python3"
  },
  "language_info": {
   "codemirror_mode": {
    "name": "ipython",
    "version": 3
   },
   "file_extension": ".py",
   "mimetype": "text/x-python",
   "name": "python",
   "nbconvert_exporter": "python",
   "pygments_lexer": "ipython3",
   "version": "3.10.9"
  },
  "toc": {
   "base_numbering": 1,
   "nav_menu": {},
   "number_sections": true,
   "sideBar": true,
   "skip_h1_title": false,
   "title_cell": "Table of Contents",
   "title_sidebar": "Contents",
   "toc_cell": false,
   "toc_position": {},
   "toc_section_display": true,
   "toc_window_display": false
  }
 },
 "nbformat": 4,
 "nbformat_minor": 1
}
