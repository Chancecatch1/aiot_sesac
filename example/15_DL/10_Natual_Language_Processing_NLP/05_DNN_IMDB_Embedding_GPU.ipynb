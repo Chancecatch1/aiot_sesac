{
 "cells": [
  {
   "cell_type": "markdown",
   "metadata": {
    "id": "i4Zsf2GlZmbk"
   },
   "source": [
    "# IMDB - Embedding with DNN\n",
    "> ## NLP(Natural Language Processing)"
   ]
  },
  {
   "cell_type": "code",
   "execution_count": null,
   "metadata": {
    "id": "RbPgODpVzdHI"
   },
   "outputs": [],
   "source": [
    "import warnings\n",
    "warnings.filterwarnings('ignore')"
   ]
  },
  {
   "cell_type": "markdown",
   "metadata": {
    "id": "m7cryRtTQh1d"
   },
   "source": [
    "## Import Tensorflow"
   ]
  },
  {
   "cell_type": "code",
   "execution_count": null,
   "metadata": {
    "colab": {
     "base_uri": "https://localhost:8080/",
     "height": 35
    },
    "executionInfo": {
     "elapsed": 4159,
     "status": "ok",
     "timestamp": 1674701585651,
     "user": {
      "displayName": "이정구",
      "userId": "17400242557229223804"
     },
     "user_tz": -540
    },
    "id": "6Grj7IWWZhfd",
    "outputId": "34c783f2-1079-4caa-ab77-b8d52be041fb"
   },
   "outputs": [
    {
     "data": {
      "application/vnd.google.colaboratory.intrinsic+json": {
       "type": "string"
      },
      "text/plain": [
       "'2.9.2'"
      ]
     },
     "execution_count": 2,
     "metadata": {},
     "output_type": "execute_result"
    }
   ],
   "source": [
    "import tensorflow\n",
    "\n",
    "tensorflow.__version__"
   ]
  },
  {
   "cell_type": "markdown",
   "metadata": {
    "id": "BVvR9iWBBHFz"
   },
   "source": [
    "# I. IMDB Data_Set Load & Review"
   ]
  },
  {
   "cell_type": "markdown",
   "metadata": {
    "id": "Xg6K-DLuaivQ"
   },
   "source": [
    "> ## 1) Load IMDB Data_Set"
   ]
  },
  {
   "cell_type": "code",
   "execution_count": null,
   "metadata": {
    "colab": {
     "base_uri": "https://localhost:8080/"
    },
    "executionInfo": {
     "elapsed": 10271,
     "status": "ok",
     "timestamp": 1674701595909,
     "user": {
      "displayName": "이정구",
      "userId": "17400242557229223804"
     },
     "user_tz": -540
    },
    "id": "gd98PYmOZ5MA",
    "outputId": "fec66aee-e13c-4f81-b732-1ca09ac05304"
   },
   "outputs": [
    {
     "name": "stdout",
     "output_type": "stream",
     "text": [
      "Downloading data from https://storage.googleapis.com/tensorflow/tf-keras-datasets/imdb.npz\n",
      "17464789/17464789 [==============================] - 2s 0us/step\n"
     ]
    }
   ],
   "source": [
    "from tensorflow.keras.datasets import imdb\n",
    "\n",
    "(X_train, y_train), (X_test, y_test) = imdb.load_data(num_words = 10000)"
   ]
  },
  {
   "cell_type": "markdown",
   "metadata": {
    "id": "nkVRUFKz-ajK"
   },
   "source": [
    "> ## 2) Original Data Shape"
   ]
  },
  {
   "cell_type": "code",
   "execution_count": null,
   "metadata": {
    "colab": {
     "base_uri": "https://localhost:8080/"
    },
    "executionInfo": {
     "elapsed": 18,
     "status": "ok",
     "timestamp": 1674701595909,
     "user": {
      "displayName": "이정구",
      "userId": "17400242557229223804"
     },
     "user_tz": -540
    },
    "id": "kCQU3F4N-MpO",
    "outputId": "f48dc7e1-4d79-431d-aa1f-1362a1166c7b"
   },
   "outputs": [
    {
     "name": "stdout",
     "output_type": "stream",
     "text": [
      "(25000,) (25000,) (25000,) (25000,)\n"
     ]
    }
   ],
   "source": [
    "print(X_train.shape, y_train.shape, X_test.shape, y_test.shape)"
   ]
  },
  {
   "cell_type": "markdown",
   "metadata": {
    "id": "N2AaJlJ6B2dR"
   },
   "source": [
    "> ## 3) Data Length & Frequency"
   ]
  },
  {
   "cell_type": "markdown",
   "metadata": {
    "id": "aSDfI45gD8go"
   },
   "source": [
    "> ### (1) X_train - 리뷰 길이"
   ]
  },
  {
   "cell_type": "code",
   "execution_count": null,
   "metadata": {
    "colab": {
     "base_uri": "https://localhost:8080/"
    },
    "executionInfo": {
     "elapsed": 17,
     "status": "ok",
     "timestamp": 1674701595910,
     "user": {
      "displayName": "이정구",
      "userId": "17400242557229223804"
     },
     "user_tz": -540
    },
    "id": "1JwqZ-9Nv0FU",
    "outputId": "31f7f497-f0f3-4685-f081-185d2fb527a2"
   },
   "outputs": [
    {
     "name": "stdout",
     "output_type": "stream",
     "text": [
      "리뷰 최대 길이 : 2494\n",
      "리뷰 평균 길이 : 238.71364\n"
     ]
    }
   ],
   "source": [
    "import matplotlib.pyplot as plt\n",
    "\n",
    "print('리뷰 최대 길이 :', max(len(L) for L in X_train))\n",
    "print('리뷰 평균 길이 :', sum(map(len, X_train))/len(X_train))"
   ]
  },
  {
   "cell_type": "markdown",
   "metadata": {
    "id": "Js7Ro8xYD_xZ"
   },
   "source": [
    "> ### (2) y_train - Frequency(0:부정, 1:긍정)"
   ]
  },
  {
   "cell_type": "code",
   "execution_count": null,
   "metadata": {
    "colab": {
     "base_uri": "https://localhost:8080/"
    },
    "executionInfo": {
     "elapsed": 16,
     "status": "ok",
     "timestamp": 1674701595910,
     "user": {
      "displayName": "이정구",
      "userId": "17400242557229223804"
     },
     "user_tz": -540
    },
    "id": "9a7jlAPo1XZY",
    "outputId": "ce995daf-7700-4587-bb48-bf65e1a8268e"
   },
   "outputs": [
    {
     "name": "stdout",
     "output_type": "stream",
     "text": [
      "Label 빈도수:\n",
      "[[    0     1]\n",
      " [12500 12500]]\n"
     ]
    }
   ],
   "source": [
    "import numpy as np\n",
    "\n",
    "unique_elements, counts_elements = np.unique(y_train, return_counts = True)\n",
    "\n",
    "print('Label 빈도수:')\n",
    "print(np.asarray((unique_elements, counts_elements)))"
   ]
  },
  {
   "cell_type": "markdown",
   "metadata": {
    "id": "2FXpQz3hCn1Q"
   },
   "source": [
    "# II. Tensor Transformation"
   ]
  },
  {
   "cell_type": "markdown",
   "metadata": {
    "id": "ktRZ0LEuaoIv"
   },
   "source": [
    "> ## 1) X_train & X_test : (25000, 2500)"
   ]
  },
  {
   "cell_type": "markdown",
   "metadata": {
    "id": "Ytr5lfZMd86B"
   },
   "source": [
    "* .pad_sequences( )\n",
    " - (25000, 2500)\n",
    "   - padding = 'pre': 문장의 길이를 2500으로 변경하고 앞쪽에 '0'으로 채우기\n",
    "   - padding = 'post': 문장의 길이를 2500으로 변경하고 뒤쪽에 '0'으로 채우기"
   ]
  },
  {
   "cell_type": "code",
   "execution_count": null,
   "metadata": {
    "colab": {
     "base_uri": "https://localhost:8080/"
    },
    "executionInfo": {
     "elapsed": 1848,
     "status": "ok",
     "timestamp": 1674701597744,
     "user": {
      "displayName": "이정구",
      "userId": "17400242557229223804"
     },
     "user_tz": -540
    },
    "id": "jd3-4WO2Vvlm",
    "outputId": "527adf81-311d-42e4-aefe-0f09eb173bcb"
   },
   "outputs": [
    {
     "data": {
      "text/plain": [
       "((25000, 2500), (25000, 2500))"
      ]
     },
     "execution_count": 7,
     "metadata": {},
     "output_type": "execute_result"
    }
   ],
   "source": [
    "from tensorflow.keras.preprocessing.sequence import pad_sequences\n",
    "\n",
    "X_train = pad_sequences(X_train, \n",
    "                        maxlen = 2500, \n",
    "                        padding = 'post')\n",
    "X_test = pad_sequences(X_test, \n",
    "                       maxlen = 2500, \n",
    "                       padding = 'post')\n",
    "\n",
    "X_train.shape, X_test.shape"
   ]
  },
  {
   "cell_type": "markdown",
   "metadata": {
    "id": "kdhLicvNhaG2"
   },
   "source": [
    "* Transformation Check"
   ]
  },
  {
   "cell_type": "code",
   "execution_count": null,
   "metadata": {
    "colab": {
     "base_uri": "https://localhost:8080/"
    },
    "executionInfo": {
     "elapsed": 8,
     "status": "ok",
     "timestamp": 1674701597744,
     "user": {
      "displayName": "이정구",
      "userId": "17400242557229223804"
     },
     "user_tz": -540
    },
    "id": "7eq7MP6rc5Rs",
    "outputId": "c56cf3eb-ae37-4684-8ea1-ef79fee50fe7"
   },
   "outputs": [
    {
     "name": "stdout",
     "output_type": "stream",
     "text": [
      "[   1   14   22   16   43  530  973 1622 1385   65  458 4468   66 3941\n",
      "    4  173   36  256    5   25  100]\n",
      "[0 0 0 0 0 0 0 0 0 0 0 0 0 0 0 0 0 0 0 0]\n",
      "\n",
      "[   1  591  202   14   31    6  717   10   10    2    2    5    4  360\n",
      "    7    4  177 5760  394  354    4]\n",
      "[0 0 0 0 0 0 0 0 0 0 0 0 0 0 0 0 0 0 0 0]\n"
     ]
    }
   ],
   "source": [
    "print(X_train[0][:21])\n",
    "print(X_train[0][-20:])\n",
    "print()\n",
    "print(X_test[0][:21])\n",
    "print(X_test[0][-20:])"
   ]
  },
  {
   "cell_type": "markdown",
   "metadata": {
    "id": "2P3BUUnLCzpg"
   },
   "source": [
    "> ## 2) y_train & y_test"
   ]
  },
  {
   "cell_type": "code",
   "execution_count": null,
   "metadata": {
    "colab": {
     "base_uri": "https://localhost:8080/"
    },
    "executionInfo": {
     "elapsed": 5,
     "status": "ok",
     "timestamp": 1674701597744,
     "user": {
      "displayName": "이정구",
      "userId": "17400242557229223804"
     },
     "user_tz": -540
    },
    "id": "vBa9-QTQeqAx",
    "outputId": "92ea944e-edd3-40d1-86bd-e994ff03c7eb"
   },
   "outputs": [
    {
     "name": "stdout",
     "output_type": "stream",
     "text": [
      "[1. 0. 0. 1. 0. 0. 1. 0. 1. 0. 1. 0. 0. 0. 0. 0. 1. 1. 0. 1. 0.]\n",
      "\n",
      "[0. 1. 1. 0. 1. 1. 1. 0. 0. 1. 1. 0. 0. 0. 1. 0. 1. 0. 0. 0. 1.]\n"
     ]
    }
   ],
   "source": [
    "y_train = np.asarray(y_train).astype(float)\n",
    "y_test = np.asarray(y_test).astype(float)\n",
    "\n",
    "print(y_train[:21])\n",
    "print()\n",
    "print(y_test[:21])"
   ]
  },
  {
   "cell_type": "markdown",
   "metadata": {
    "id": "kvsN9jNLDQO6"
   },
   "source": [
    "# III. Keras Embedding Modeling"
   ]
  },
  {
   "cell_type": "markdown",
   "metadata": {
    "id": "gaNenfHbOwSM"
   },
   "source": [
    "> ## 1) Model Define"
   ]
  },
  {
   "cell_type": "markdown",
   "metadata": {
    "id": "ceGhnn1tO_0P"
   },
   "source": [
    "* 모델 신경망 구조 정의\n",
    " - Embedding Dimension : 32\n",
    "   - Input_dim: 적용 단어 종류\n",
    "   - output_dim: 임베딩 차원\n",
    "   - input_length: 입력 데이터 최대 길이"
   ]
  },
  {
   "cell_type": "code",
   "execution_count": null,
   "metadata": {
    "id": "Nra8_pdYfEbI"
   },
   "outputs": [],
   "source": [
    "from tensorflow.keras import models\n",
    "from tensorflow.keras import layers\n",
    "\n",
    "imdb = models.Sequential()\n",
    "imdb.add(layers.Embedding(input_dim = 10000, \n",
    "                          output_dim = 32, \n",
    "                          input_length = 2500))\n",
    "\n",
    "imdb.add(layers.Flatten())\n",
    "imdb.add(layers.Dense(16))\n",
    "\n",
    "imdb.add(layers.Dense(1, activation = 'sigmoid'))"
   ]
  },
  {
   "cell_type": "markdown",
   "metadata": {
    "id": "2-tCxHmwPBfQ"
   },
   "source": [
    "* 모델 구조 확인"
   ]
  },
  {
   "cell_type": "code",
   "execution_count": null,
   "metadata": {
    "colab": {
     "base_uri": "https://localhost:8080/"
    },
    "executionInfo": {
     "elapsed": 18,
     "status": "ok",
     "timestamp": 1674701601860,
     "user": {
      "displayName": "이정구",
      "userId": "17400242557229223804"
     },
     "user_tz": -540
    },
    "id": "GwPhayISDpp8",
    "outputId": "61057031-5c65-4f6d-e383-05d5214c9450"
   },
   "outputs": [
    {
     "name": "stdout",
     "output_type": "stream",
     "text": [
      "Model: \"sequential\"\n",
      "_________________________________________________________________\n",
      " Layer (type)                Output Shape              Param #   \n",
      "=================================================================\n",
      " embedding (Embedding)       (None, 2500, 32)          320000    \n",
      "                                                                 \n",
      " flatten (Flatten)           (None, 80000)             0         \n",
      "                                                                 \n",
      " dense (Dense)               (None, 16)                1280016   \n",
      "                                                                 \n",
      " dense_1 (Dense)             (None, 1)                 17        \n",
      "                                                                 \n",
      "=================================================================\n",
      "Total params: 1,600,033\n",
      "Trainable params: 1,600,033\n",
      "Non-trainable params: 0\n",
      "_________________________________________________________________\n"
     ]
    }
   ],
   "source": [
    "imdb.summary()"
   ]
  },
  {
   "cell_type": "markdown",
   "metadata": {
    "id": "HTGpTEQXDVp0"
   },
   "source": [
    "> ## 2) Model Compile"
   ]
  },
  {
   "cell_type": "markdown",
   "metadata": {
    "id": "Y4PkohjpPPRT"
   },
   "source": [
    "* 모델 학습방법 설정"
   ]
  },
  {
   "cell_type": "code",
   "execution_count": null,
   "metadata": {
    "id": "UcQP7161fXpr"
   },
   "outputs": [],
   "source": [
    "imdb.compile(loss = 'binary_crossentropy',\n",
    "             optimizer = 'rmsprop',\n",
    "             metrics = ['accuracy'])"
   ]
  },
  {
   "cell_type": "markdown",
   "metadata": {
    "id": "_j4bBF6fDi2a"
   },
   "source": [
    "> ## 3) Model Fit"
   ]
  },
  {
   "cell_type": "code",
   "execution_count": null,
   "metadata": {
    "colab": {
     "base_uri": "https://localhost:8080/"
    },
    "executionInfo": {
     "elapsed": 31237,
     "status": "ok",
     "timestamp": 1674701633083,
     "user": {
      "displayName": "이정구",
      "userId": "17400242557229223804"
     },
     "user_tz": -540
    },
    "id": "dWXKNdQ5fw67",
    "outputId": "7ae4e811-6feb-42c0-9639-9eb6910ec926"
   },
   "outputs": [
    {
     "name": "stdout",
     "output_type": "stream",
     "text": [
      "Epoch 1/25\n",
      "49/49 [==============================] - 4s 28ms/step - loss: 1.5332 - accuracy: 0.5094 - val_loss: 0.6590 - val_accuracy: 0.5473\n",
      "Epoch 2/25\n",
      "49/49 [==============================] - 1s 22ms/step - loss: 0.4663 - accuracy: 0.8095 - val_loss: 0.3994 - val_accuracy: 0.8230\n",
      "Epoch 3/25\n",
      "49/49 [==============================] - 1s 23ms/step - loss: 0.2555 - accuracy: 0.9084 - val_loss: 0.3085 - val_accuracy: 0.8715\n",
      "Epoch 4/25\n",
      "49/49 [==============================] - 1s 22ms/step - loss: 0.1669 - accuracy: 0.9424 - val_loss: 0.3976 - val_accuracy: 0.8371\n",
      "Epoch 5/25\n",
      "49/49 [==============================] - 1s 22ms/step - loss: 0.1150 - accuracy: 0.9642 - val_loss: 0.3701 - val_accuracy: 0.8505\n",
      "Epoch 6/25\n",
      "49/49 [==============================] - 1s 22ms/step - loss: 0.0824 - accuracy: 0.9766 - val_loss: 0.3479 - val_accuracy: 0.8669\n",
      "Epoch 7/25\n",
      "49/49 [==============================] - 1s 23ms/step - loss: 0.0341 - accuracy: 0.9938 - val_loss: 0.3795 - val_accuracy: 0.8646\n",
      "Epoch 8/25\n",
      "49/49 [==============================] - 1s 22ms/step - loss: 0.0283 - accuracy: 0.9919 - val_loss: 0.4135 - val_accuracy: 0.8650\n",
      "Epoch 9/25\n",
      "49/49 [==============================] - 1s 23ms/step - loss: 0.0109 - accuracy: 0.9982 - val_loss: 0.4637 - val_accuracy: 0.8618\n",
      "Epoch 10/25\n",
      "49/49 [==============================] - 1s 22ms/step - loss: 0.0100 - accuracy: 0.9970 - val_loss: 0.5293 - val_accuracy: 0.8590\n",
      "Epoch 11/25\n",
      "49/49 [==============================] - 1s 23ms/step - loss: 0.0015 - accuracy: 0.9999 - val_loss: 0.5522 - val_accuracy: 0.8599\n",
      "Epoch 12/25\n",
      "49/49 [==============================] - 1s 22ms/step - loss: 8.6290e-04 - accuracy: 0.9999 - val_loss: 0.6764 - val_accuracy: 0.8516\n",
      "Epoch 13/25\n",
      "49/49 [==============================] - 1s 23ms/step - loss: 0.0026 - accuracy: 0.9991 - val_loss: 0.6540 - val_accuracy: 0.8576\n",
      "Epoch 14/25\n",
      "49/49 [==============================] - 1s 23ms/step - loss: 5.0287e-04 - accuracy: 0.9999 - val_loss: 0.7080 - val_accuracy: 0.8533\n",
      "Epoch 15/25\n",
      "49/49 [==============================] - 1s 22ms/step - loss: 4.9073e-04 - accuracy: 0.9999 - val_loss: 0.7679 - val_accuracy: 0.8546\n",
      "Epoch 16/25\n",
      "49/49 [==============================] - 1s 23ms/step - loss: 3.2609e-05 - accuracy: 1.0000 - val_loss: 0.7810 - val_accuracy: 0.8548\n",
      "Epoch 17/25\n",
      "49/49 [==============================] - 1s 23ms/step - loss: 2.0561e-04 - accuracy: 1.0000 - val_loss: 0.8272 - val_accuracy: 0.8500\n",
      "Epoch 18/25\n",
      "49/49 [==============================] - 1s 22ms/step - loss: 1.0974e-05 - accuracy: 1.0000 - val_loss: 0.8790 - val_accuracy: 0.8500\n",
      "Epoch 19/25\n",
      "49/49 [==============================] - 1s 23ms/step - loss: 0.0049 - accuracy: 0.9983 - val_loss: 0.9823 - val_accuracy: 0.8464\n",
      "Epoch 20/25\n",
      "49/49 [==============================] - 1s 22ms/step - loss: 1.1358e-05 - accuracy: 1.0000 - val_loss: 0.9219 - val_accuracy: 0.8513\n",
      "Epoch 21/25\n",
      "49/49 [==============================] - 1s 23ms/step - loss: 3.5393e-06 - accuracy: 1.0000 - val_loss: 0.9281 - val_accuracy: 0.8516\n",
      "Epoch 22/25\n",
      "49/49 [==============================] - 1s 22ms/step - loss: 1.9278e-06 - accuracy: 1.0000 - val_loss: 0.9907 - val_accuracy: 0.8486\n",
      "Epoch 23/25\n",
      "49/49 [==============================] - 1s 23ms/step - loss: 2.2948e-05 - accuracy: 1.0000 - val_loss: 0.9976 - val_accuracy: 0.8492\n",
      "Epoch 24/25\n",
      "49/49 [==============================] - 1s 22ms/step - loss: 7.3171e-07 - accuracy: 1.0000 - val_loss: 1.0214 - val_accuracy: 0.8501\n",
      "Epoch 25/25\n",
      "49/49 [==============================] - 1s 23ms/step - loss: 7.4211e-05 - accuracy: 1.0000 - val_loss: 1.0942 - val_accuracy: 0.8468\n",
      "CPU times: user 25.3 s, sys: 1.77 s, total: 27.1 s\n",
      "Wall time: 30.7 s\n"
     ]
    }
   ],
   "source": [
    "%%time\n",
    "\n",
    "Hist_imdb = imdb.fit(X_train, y_train,\n",
    "                     epochs = 25,\n",
    "                     batch_size = 512,\n",
    "                     validation_data = (X_test, y_test))"
   ]
  },
  {
   "cell_type": "markdown",
   "metadata": {
    "id": "Jr4EudJrPfzi"
   },
   "source": [
    "> ## 4) 학습 결과 시각화"
   ]
  },
  {
   "cell_type": "code",
   "execution_count": null,
   "metadata": {
    "colab": {
     "base_uri": "https://localhost:8080/",
     "height": 350
    },
    "executionInfo": {
     "elapsed": 18,
     "status": "ok",
     "timestamp": 1674701633085,
     "user": {
      "displayName": "이정구",
      "userId": "17400242557229223804"
     },
     "user_tz": -540
    },
    "id": "pujWYX1XKPNV",
    "outputId": "cad345e7-1a30-47c7-c75d-9c37a3324fa5"
   },
   "outputs": [
    {
     "data": {
      "image/png": "[encoded data removed]",
      "text/plain": [
       "<Figure size 1080x360 with 2 Axes>"
      ]
     },
     "metadata": {
      "needs_background": "light"
     },
     "output_type": "display_data"
    }
   ],
   "source": [
    "import matplotlib.pyplot as plt\n",
    "\n",
    "epochs = range(1, len(Hist_imdb.history['loss']) + 1)\n",
    "\n",
    "plt.figure(figsize = (15, 5))\n",
    "\n",
    "plt.subplot(1, 2, 1)\n",
    "plt.plot(epochs, Hist_imdb.history['loss'], 'b-')\n",
    "plt.plot(epochs, Hist_imdb.history['val_loss'], 'r--')\n",
    "plt.title('Training & Validation Loss')\n",
    "plt.xlabel('Epochs')\n",
    "plt.ylabel('Loss')\n",
    "plt.legend(['Training Loss', 'Validation Loss'])\n",
    "plt.grid()\n",
    "\n",
    "plt.subplot(1, 2, 2)\n",
    "plt.plot(epochs, Hist_imdb.history['accuracy'], 'b-')\n",
    "plt.plot(epochs, Hist_imdb.history['val_accuracy'], 'r--')\n",
    "plt.title('Training & Validation Accuracy')\n",
    "plt.xlabel('Epochs')\n",
    "plt.ylabel('Accuracy')\n",
    "plt.legend(['Training Accuracy', 'Validation Accuracy'])\n",
    "plt.grid()\n",
    "\n",
    "plt.show()"
   ]
  },
  {
   "cell_type": "markdown",
   "metadata": {
    "id": "JJy2E4a7EHFT"
   },
   "source": [
    "> ## 5) Model Evaluate"
   ]
  },
  {
   "cell_type": "markdown",
   "metadata": {
    "id": "3rxwmR3sQBAA"
   },
   "source": [
    "* Loss & Accuracy"
   ]
  },
  {
   "cell_type": "code",
   "execution_count": null,
   "metadata": {
    "colab": {
     "base_uri": "https://localhost:8080/"
    },
    "executionInfo": {
     "elapsed": 2777,
     "status": "ok",
     "timestamp": 1674701635846,
     "user": {
      "displayName": "이정구",
      "userId": "17400242557229223804"
     },
     "user_tz": -540
    },
    "id": "vzWv947ShOaa",
    "outputId": "88db2231-f1ad-4921-e212-6c63aacbbb9e"
   },
   "outputs": [
    {
     "name": "stdout",
     "output_type": "stream",
     "text": [
      "Loss = 1.09421\n",
      "Accuracy = 0.84676\n"
     ]
    }
   ],
   "source": [
    "loss, accuracy = imdb.evaluate(X_test, y_test, verbose = 0)\n",
    "\n",
    "print('Loss = {:.5f}'.format(loss))\n",
    "print('Accuracy = {:.5f}'.format(accuracy))"
   ]
  },
  {
   "cell_type": "markdown",
   "metadata": {
    "id": "ylReVf0WSRDa"
   },
   "source": [
    "# \n",
    "# \n",
    "# \n",
    "# The End\n",
    "# \n",
    "# \n",
    "# "
   ]
  }
 ],
 "metadata": {
  "accelerator": "GPU",
  "colab": {
   "provenance": []
  },
  "kernelspec": {
   "display_name": "Python 3 (ipykernel)",
   "language": "python",
   "name": "python3"
  },
  "language_info": {
   "codemirror_mode": {
    "name": "ipython",
    "version": 3
   },
   "file_extension": ".py",
   "mimetype": "text/x-python",
   "name": "python",
   "nbconvert_exporter": "python",
   "pygments_lexer": "ipython3",
   "version": "3.10.9"
  },
  "toc": {
   "base_numbering": 1,
   "nav_menu": {},
   "number_sections": true,
   "sideBar": true,
   "skip_h1_title": false,
   "title_cell": "Table of Contents",
   "title_sidebar": "Contents",
   "toc_cell": false,
   "toc_position": {},
   "toc_section_display": true,
   "toc_window_display": false
  }
 },
 "nbformat": 4,
 "nbformat_minor": 1
}
